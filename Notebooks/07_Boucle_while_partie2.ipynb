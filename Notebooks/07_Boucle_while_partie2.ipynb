{
 "cells": [
  {
   "cell_type": "markdown",
   "metadata": {},
   "source": "<div style=\"padding:20px;background-color:papayawhip;\" > \n<h3 style=\"color:chocolate\"> <i class=\"fa fa-info\" aria-hidden=\"true\"> </i> &nbsp; Remarque introductive &nbsp;  <i class=\"fa fa-info\" aria-hidden=\"true\"></h3> \n<p> Ce fichier est fait pour être lu sur le site <a href=\"https://notebook.basthon.fr/\"><img src='https://notebook.basthon.fr/assets/efede5218c9087496f16.png' style=\"border: 0; display:inline; margin: 0 5px; height:30px\" alt=\"Basthon\"/></a>. <br>\n    \nSi vous l'avez ouvert avec un autre programme, comme Jupyter notebook, vous riquez de rencontrer quelques bugs. <br>\nVeuillez cliquez sur <a href=\"https://notebook.basthon.fr/\">ce lien</a> et y charger ce fichier à l'aide du bouton \"Ouvrir\"  &nbsp; <i class=\"fa fa-folder\" aria-hidden=\"true\"> </i>\n</p> </div>    "
  },
  {
   "cell_type": "markdown",
   "metadata": {},
   "source": "# 7.1 - Boucle `while`, partie 2\n\nDans ce chapitre, nous allons apporter quelques compléments à la notion de boucle `while`. En particulier, nous discuterons des erreurs à éviter et de l'instruction `break`"
  },
  {
   "cell_type": "markdown",
   "metadata": {},
   "source": "## Les pièges\n\n### Piège 1: oublier d'initialiser les variables présenta dans la condition du `while`\n\nOn veut un programme qui demande un mot de passe qui reste bloqué tant que le bon mot de passe n'est par fourni. On serait tenter d'écrire"
  },
  {
   "cell_type": "code",
   "execution_count": null,
   "metadata": {
    "trusted": false
   },
   "outputs": [],
   "source": "while mot_de_passe != \"123456\" :\n    mot_de_passe = input(\"Entrez le mot de passe : \")"
  },
  {
   "cell_type": "markdown",
   "metadata": {},
   "source": "Le programme génère une erreur car pour tester la condition `mot_de_passe != \"123456\"` il faut en premier attribuer une valeur à la variable `mot_de_passe` comme cela est fait dans le programme suivant:"
  },
  {
   "cell_type": "code",
   "execution_count": null,
   "metadata": {
    "trusted": false
   },
   "outputs": [],
   "source": "mot_de_passe = \"\"  # Initialisation de la variable\nwhile mot_de_passe != \"123456\" :\n    mot_de_passe = input(\"Entrez le mot de passe : \")"
  },
  {
   "cell_type": "markdown",
   "metadata": {},
   "source": "<h3 style=\"color:teal;background-color:azure;\" > <i class=\"fa fa-pencil\" aria-hidden=\"true\"> </i> &nbsp; Exercice 5: Saisie sécurisée </h3> \n\nEcrire une programme qui demande une note. Tant que la note n'est pas valable (c'est-à-dire entre 0 et 6), le programme repose la question (`input`)."
  },
  {
   "cell_type": "code",
   "execution_count": null,
   "metadata": {
    "trusted": false
   },
   "outputs": [],
   "source": "# mon programme\n"
  },
  {
   "cell_type": "markdown",
   "metadata": {},
   "source": "### Piège 2: tomber dans une boucle infinie\n\nIl est fréquent d'oublier une ligne de code, et d'écrire une boucle while qui ne se termine pas.\n\nPar exemple, dans le programme\n\n```python\nn = 0\nwhile n < 10 :\n    print(n)\n```\nLa condition `n < 10` sera toujours vraie car on a oublié d'incrémenter la variable. Il aurait fallut écrire\n```python\nn = 0\nwhile n < 10 :\n    print(n)\n    n = n + 1\n```"
  },
  {
   "cell_type": "markdown",
   "metadata": {},
   "source": "<h3 style=\"color:chocolate;background-color:papayawhip;\" > <i class=\"fa fa-question\" aria-hidden=\"true\"> </i> &nbsp; Quizz </h3> \n \nParmi les programme suivant choisi celui qui part en boucle infini.\n\n   <input type=\"checkbox\" >  **Programme A**\n```python\ni = A - 1\nwhile i < A :\n   i = i - 1\n```\n   <input type=\"checkbox\" >  **Programme B**\n```python\ni = A + 1\nwhile i < A :\n   i = i - 1\n```\n\n   <input type=\"checkbox\" >  **Programme C**\n```python\ni = A + 1\nwhile i < A :\n   i = i + 1\n```\n\n   <input type=\"checkbox\" >  **Programme D**\n```python\ni = A - 1\nwhile i < A :\n   i = i + 1\n```"
  },
  {
   "cell_type": "markdown",
   "metadata": {},
   "source": "<details>\n<summary style=\"border-left:3px solid #3c763d; border-radius:2pt; width:100%; color:#3c763d; padding:6px; background-color: #dff0d8\"> \nRéponse\n</summary>  \n\n<div style=\"border-left:3px solid #3c763d; border-radius:2pt; color:#3c763d; padding:6px; background-color: #eff0e8\">Programme A) car i est décrémenté, donc il devient de plus en plus petit et il ne dépassera jamais A et la condition i < A sera toujours vraie\n</div>\n</details>\n                "
  },
  {
   "cell_type": "markdown",
   "metadata": {},
   "source": "## Simuler l'exécution d'une boucle while\n\nIl est parfois difficile de debugger un programme avec une boucle `while`.  Dans cette optique, il est utile de simuler l'exécution de la boucle en notant l'évolution des variables et de la condition d'arrêt dans un tableau.\n\n<h3 > Exemple 3: Simuler l'exécution d'un programme</h3>\n\nLe programme suivant\n\n```python\nn = 100\np = 1\nwhile p < n:\n    p = 2 * p\n    print(p)\n```\ncherche la première puissance de 2 plus grande qu’un entier `n` donné. La boucle fait prendre à `p` les valeurs 2, 4, 8, 16,. . . Elle s’arrête dès que la puissance de 2 est supérieure ou égale à `n`, donc ici ce programme affiche toutes les puissante jusqu'à 128 (compris). Le détail de l’exécution du programme est résumé dans le tableau ci-dessous:\n\n| `p`   |   `n`   | `p < n ` |\n| :---: |:-------:| :-------:|\n|   1   |  100    |   `True` |\n|   2   |  100    |   `True` |\n|   4   |  100    |   `True` |\n|   8   |  100    |   `True` |\n|   16  |  100    |   `True` |\n|   32  |  100    |   `True` |\n|   64  |  100    |   `True` |\n|   128 |  100    |   `False` |\n\nDans les notebook, on peut toujours vérifier l'exécution d'un programme avec le module `tutor`. \n\n!!! info Utilisation de tutor\n\nPou  exécuter un programme \"pas à pas\", il suffit d'importer le module `tutor` au début de votre programme avec l'instruction `from tutor import tutor` puis de terminer le programme avec l'instruction `tutor()`\n!!!\n\n**A faire:**\nVérifier que le tableau ci-dessus est correct en éxécutant le programme ci-dessous:"
  },
  {
   "cell_type": "code",
   "execution_count": null,
   "metadata": {
    "trusted": false
   },
   "outputs": [],
   "source": "from tutor import tutor\n\nn = 100\np = 1\nwhile p < n:\n    p = 2 * p\n    print(p)\n\ntutor()"
  },
  {
   "cell_type": "markdown",
   "metadata": {},
   "source": "<h3 style=\"color:chocolate;background-color:papayawhip;\" > <i class=\"fa fa-question\" aria-hidden=\"true\"> </i> &nbsp; Quizz </h3> \n \nQuelle est la valeur affichée par le programme ci-dessous ?\n\n```python\nu = 5\nn = 0\nwhile u != 656:\n    u = 5 * u + 1\n    n = n + 1\nprint ( n )\n```"
  },
  {
   "cell_type": "raw",
   "metadata": {},
   "source": "Réponse: "
  },
  {
   "cell_type": "markdown",
   "metadata": {},
   "source": "<details>\n<summary style=\"border-left:3px solid #3c763d; border-radius:2pt; width:100%; color:#3c763d; padding:6px; background-color: #dff0d8\"> \nRéponse\n</summary>  \n\n<div style=\"border-left:3px solid #3c763d; border-radius:2pt; color:#3c763d; padding:6px; background-color: #eff0e8\">C'est 3 car après 3 itérations  u vaut 656\n</div>\n</details>\n                "
  },
  {
   "cell_type": "markdown",
   "metadata": {},
   "source": "<h3 style=\"color:chocolate;background-color:papayawhip;\" > <i class=\"fa fa-question\" aria-hidden=\"true\"> </i> &nbsp; Quizz </h3> \n \nQuelle est la valeur affichée par le programme ci-dessous ?\n\n\n```python\nu = 5\nv = 12\ni = 1\nwhile u < v:\n    u = 3 * u + 2\n    v = 2 * v + 3\n    i = i + 1\nprint ( i )\n```"
  },
  {
   "cell_type": "raw",
   "metadata": {},
   "source": "Réponse: "
  },
  {
   "cell_type": "markdown",
   "metadata": {},
   "source": "<details>\n<summary style=\"border-left:3px solid #3c763d; border-radius:2pt; width:100%; color:#3c763d; padding:6px; background-color: #dff0d8\"> \nRéponse\n</summary>  \n\n<div style=\"border-left:3px solid #3c763d; border-radius:2pt; color:#3c763d; padding:6px; background-color: #eff0e8\">C'est 3 car après 3 itérations  u vaut 656\n</div>\n</details>\n                "
  },
  {
   "cell_type": "markdown",
   "metadata": {},
   "source": "<h3 style=\"color:chocolate;background-color:papayawhip;\" > <i class=\"fa fa-question\" aria-hidden=\"true\"> </i> &nbsp; Quizz </h3> \n \nQuelle valeur faut-il donner à la variable `k` pour que le programme ci-dessous affiche 7?\n\n\n```python\nk = int(input(\"Quel valeur pour k ? \"))\nn = 0\nwhile k != 1:\n    n = n + 1\n    k = k / 2\nprint ( n )\n```"
  },
  {
   "cell_type": "raw",
   "metadata": {},
   "source": "Réponse: "
  },
  {
   "cell_type": "markdown",
   "metadata": {},
   "source": "<details>\n<summary style=\"border-left:3px solid #3c763d; border-radius:2pt; width:100%; color:#3c763d; padding:6px; background-color: #dff0d8\"> \nRéponse\n</summary>  \n\n<div style=\"border-left:3px solid #3c763d; border-radius:2pt; color:#3c763d; padding:6px; background-color: #eff0e8\">C'est 128. En effet il faut diviser 7 fois 128 par 2 pour avoir 1.\n    \n</div>\n</details>\n                "
  },
  {
   "cell_type": "markdown",
   "metadata": {},
   "source": "---\n\n# 🎯 **Conclusion : Quand utiliser `while` ?**\n\n| Situation | `for` | `while` |\n|-----------|-------|---------|\n| Nombre d'itérations connu à l'avance | ✅ Oui | ❌ Non |\n| Nombre d'itérations inconnu (dépend d'une condition) | ❌ Non | ✅ Oui |\n| Répéter une action jusqu'à un événement spécifique | ❌ Non | ✅ Oui |\n| Interaction utilisateur (ex: attendre une entrée correcte) | ❌ Non | ✅ Oui |\n| Boucles infinies avec condition d’arrêt | ❌ Risqué | ✅ Plus adapté |\n\n## 📌 **À retenir**  \n- **Utilise `for`** lorsque **le nombre d'itérations est fixé** (ex: parcourir une liste, boucle de comptage).\n- **Utilise `while`** lorsque **la boucle dépend d’une condition** qui peut varier (ex: entrée utilisateur, événement aléatoire, suivi d'une valeur dynamique).\n- **Attention aux boucles infinies !** Toujours s'assurer que la condition de sortie est bien définie.\n\n🚀 **Exercez-vous** en adaptant les exercices et en créant vos propres scénarios d'utilisation de `while` ! \n\n---\n"
  },
  {
   "cell_type": "markdown",
   "metadata": {},
   "source": "## Pour aller plus loin..."
  },
  {
   "cell_type": "markdown",
   "metadata": {},
   "source": "<h3> Exemple 4: Décomposer en facteurs premiers</h3>\n\nLe programme suivant réalise la décomposition en facteurs premiers d'un nombre donné par l'utilisateur-trice.\n"
  },
  {
   "cell_type": "code",
   "execution_count": null,
   "metadata": {
    "trusted": false
   },
   "outputs": [],
   "source": "nombre = int(input('Entrez un entier: '))\ni = 2\n\nprint(nombre, \"=\", end=\" \")\n\nwhile i < nombre:\n    if nombre % i == 0:   # % est le reste de la division entière\n        print(i, \"·\", end=\" \")\n        nombre = nombre // i   # // correspond à la division entière\n    else:\n        i = i + 1\n\nprint(nombre)\n"
  },
  {
   "cell_type": "markdown",
   "metadata": {},
   "source": "<h3 > Exemple 5: En code binaire</h3>\n\nLe programme transforme l'entier en code binaire.\n\n"
  },
  {
   "cell_type": "code",
   "execution_count": null,
   "metadata": {
    "trusted": false
   },
   "outputs": [],
   "source": "n = int(input('Entrez un entier: '))\n\ncode = ''\nwhile n > 0:\n    if n % 2 == 1:\n        code = '1' + code\n    else:\n        code = '0' + code\n    n = n // 2\n\nprint(code)\n"
  },
  {
   "cell_type": "markdown",
   "metadata": {},
   "source": "## Sortir avec `break`\n\nLe mot-clé `break`, seul sur une ligne, permet de sortir d'une boucle.\nSouvent cette méthode est utilisée pour avoir une boucle où la condition est testée à la fin.\n\n"
  },
  {
   "cell_type": "code",
   "execution_count": null,
   "metadata": {
    "trusted": false
   },
   "outputs": [],
   "source": "while True:\n    mot_de_passe = input(\"Entrez le mot de passe : \")\n    if mot_de_passe == \"123456\":\n        print(\"Mot de passe valide\")\n        break\n    print(\"Mot de passe invalide\")"
  },
  {
   "cell_type": "markdown",
   "metadata": {
    "trusted": true
   },
   "source": "<h3 style=\"color:teal;background-color:azure;\" > <i class=\"fa fa-pencil\" aria-hidden=\"true\"> </i> &nbsp; Exercice 7:  nombre de chiffre d'un nombre </h3> \n\nEcrire un programme qui demande un nombre entier à l'utilisateur puis affiche combien de chiffres sont nécessaires pour écrire ce nombre. Par exemple, le nombre entier 74613 s'écrit avec 5 chiffres.\n\n*Indication : Faites des divisions entières par 10 successivement*\n"
  },
  {
   "cell_type": "code",
   "execution_count": null,
   "metadata": {
    "trusted": false
   },
   "outputs": [],
   "source": "# mon programme\n"
  },
  {
   "cell_type": "markdown",
   "metadata": {},
   "source": "<h3 style=\"color:teal;background-color:azure;\" > <i class=\"fa fa-pencil\" aria-hidden=\"true\"> </i> &nbsp; Exercice 8:    Le trait qui tourne  </h3> \n\n💡 **Objectif** : En répétant plusieurs fois je dessine un trait et je tourne d'un angle, je dessine une figure.\n\nSuivre les indications suivantes:\n- le stylo de couleur bleu avance sur un segment droit de longueur 5;\n- puis tourne de 70° vers la droite. \n- Ensuite, la longueur du segment est incrémentée (augmentée de 0.5).\n- Répéter ces étapes tant que la longueur du segment est inférieure à 150.\n\n1. Ecrivez un programme qui suit les indications ci-dessus.\n\n2. Modifiez le programme en utilisant une rotation de 89° au lieu de 70°.\n\n![Image de tourbillon](https://githepia.hesge.ch/info_sismondi/exercices-1ere/-/raw/main/Notebooks/imgs_chap7/tourbillon.png)"
  },
  {
   "cell_type": "code",
   "execution_count": null,
   "metadata": {
    "trusted": false
   },
   "outputs": [],
   "source": "# mon programme (vertion 1)\n"
  },
  {
   "cell_type": "code",
   "execution_count": null,
   "metadata": {
    "trusted": false
   },
   "outputs": [],
   "source": "# mon programme (vertion 2)\n"
  },
  {
   "cell_type": "markdown",
   "metadata": {
    "trusted": false
   },
   "source": "<h3 style=\"color:teal;background-color:azure;\" > <i class=\"fa fa-pencil\" aria-hidden=\"true\"> </i> &nbsp; Exercice 9:    Ratrapper la tortue </h3> \n\n\nUne tortue s'élance sur une piste de 10 mètres de long. Le jour, elle parcourt 1 mètre, la nuit, elle\nse repose.\n\nSeulement, voilà, la piste, en caoutchouc, s'étire toutes les nuits de 10 mètres. Ainsi, au deuxième\nmatin, la tortue se retrouve à deux mètres du début de la piste, mais à 18 mètres de son extrémité.\n\nLorsqu'elle s'endort le soir, il lui reste encore 17 mètres à parcourir. Et lorsqu'elle se réveille le matin suivant, la piste a 30 mètres de long, dont plus de 25 mètres sont\ndevant elle!\n\n    a) La tortue arrivera-t-elle au bout de la piste?\n    b) Si oui, en combien de temps?\n    c) Rédiger un programme qui détermine le nombre de jours.\n    \n*Indication : calculer la fraction de la piste que la tortue parcours chaque jour.*"
  },
  {
   "cell_type": "code",
   "execution_count": null,
   "metadata": {
    "trusted": false
   },
   "outputs": [],
   "source": "# mon programme\n"
  },
  {
   "cell_type": "markdown",
   "metadata": {
    "trusted": false
   },
   "source": "<h3 style=\"color:teal;background-color:azure;\" > <i class=\"fa fa-pencil\" aria-hidden=\"true\"> </i> &nbsp; Exercice 10:  La balle rebondissante </h3> \n\n\nUne balle rebondissante est lâchée du haut d'un immeuble de 10 mètres. A chaque rebond la hauteur diminue d'un tiers. Combien de fois la personne du premier niveau dont la fenêtre est située à 1 mètre 50 du sol verra elle passer la balle ?"
  },
  {
   "cell_type": "code",
   "execution_count": null,
   "metadata": {
    "trusted": false
   },
   "outputs": [],
   "source": "# mon programme\n"
  },
  {
   "cell_type": "markdown",
   "metadata": {
    "trusted": false
   },
   "source": "<h3 style=\"color:teal;background-color:azure;\" > <i class=\"fa fa-pencil\" aria-hidden=\"true\"> </i> &nbsp; Exercice 11:  La suite de Syracuse </h3> \n\nOn définit une suite $u_n$ de la manière suivante : \n\n- $u_0 = 1000$\n- si $u_n = 1$, alors la suite est finie et u n est son dernier élément (on arrête de calculer d’autres\néléments)\n- si $u_n$ est pair, alors $u_{n+1} = u_n / 2$\n- si $u_n$ est impair et distinct de 1, alors $u_{n+1} = 3 u_n + 1$\n\nÉcrire un programme qui affiche les termes de la suite u.\n\nCette suite est-elle finie ?\n\nPour aller plus loin, aller vous renseigner sur la Conjecture de Syracuse https://fr.wikipedia.org/wiki/Conjecture_de_Syracuse."
  },
  {
   "cell_type": "code",
   "execution_count": null,
   "metadata": {
    "trusted": true
   },
   "outputs": [],
   "source": "# mon programme\n"
  },
  {
   "cell_type": "markdown",
   "metadata": {},
   "source": "---\n\n#### Remarque générale\n\nCe document est une adaptation d'un ressource pédagogique tiré du catalogue modulo https://modulo-info.ch/. Il est sous license Creative Commons [BY-NC-SA](https://creativecommons.org/licenses/?lang=fr)\n![Licence Creative Commons](https://i.creativecommons.org/l/by-nc-sa/4.0/88x31.png)\n\n    "
  }
 ],
 "metadata": {
  "kernelspec": {
   "display_name": "Python 3 (ipykernel)",
   "language": "python",
   "name": "python3"
  }
 },
 "nbformat": 4,
 "nbformat_minor": 2
}
