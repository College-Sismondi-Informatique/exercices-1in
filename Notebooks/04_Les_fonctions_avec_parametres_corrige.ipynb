{
 "cells": [
  {
   "cell_type": "markdown",
   "metadata": {},
   "source": "<div class = \"alert  alert-danger\"> \n    \n# Cours avec solution\n</div>\n\n<div class = \"alert alert-block alert-warning\"> \n\n### A faire avant de commençer\n**Cliquez sur Exécuter tout** dans le menu **Cellule**.\n</div>"
  },
  {
   "cell_type": "markdown",
   "metadata": {},
   "source": "# 4. Les fonctions avec paramètres\n\nDans cette leçon, nous allons approfondir le concept de la fonction. Dans la leçon 3 sur les fonctions simples, nous avons vu la fonction comme une façon de donner un nom à une séquence d'instructions. Ici nous allons voir comment nous pouvons ajouter un ou plusieurs paramètres à une fonction. Nous allons voir que :\n\n- l'expression `def rect(d, e):` permet de définir une fonction avec deux paramètres,\n- les paramètres `d, e` sont des variables locales valides uniquement à l'intérieur de la définition de fonction,\n- ces paramètres prennent une valeur au moment de l'appel  de la fonction avec `rect(50, 30)`.\n\n"
  },
  {
   "cell_type": "markdown",
   "metadata": {},
   "source": "<h3 style=\"color:chocolate;background-color:papayawhip;\" > <i class=\"fa fa-question\" aria-hidden=\"true\"> </i> &nbsp; Quizz </h3> \n \n```\nEn Python, `def` est un raccourci pour\n\nA) défoncé\nB) défilé\nC) définition\nD) défavorisé\n```"
  },
  {
   "cell_type": "markdown",
   "metadata": {},
   "source": "<details>\n<summary style=\"border-left:3px solid #3c763d; border-radius:2pt; width:100%; color:#3c763d; padding:6px; background-color: #dff0d8\"> \nRéponse\n</summary>  \n\n<div style=\"border-left:3px solid #3c763d; border-radius:2pt; color:#3c763d; padding:6px; background-color: #eff0e8\">\nC) définition\n</div>\n</details>"
  },
  {
   "cell_type": "markdown",
   "metadata": {},
   "source": "## Paramétrer une fonction\n\nJusqu'à maintenant, notre rectangle était d'une taille fixe. La fonction `rectangle()` de la leçon 3 sur les fonctions simples \n```python \ndef rectangle():\n    forward(160)\n    left(90)\n    forward(100)\n    left(90)\n    forward(160)\n    left(90)\n    forward(100)\n    left(90)\n```\n dessine toujours un rectangle de 160 x 100 pixels. Il faudrait faire une nouvelle fonction `rectangle2()` si on voulait dessiner une taille différente.\n\nIl serait très utile de disposer d'une fonction de la forme `rectangle(d, e)` qui puisse dessiner des rectangles de largeur et hauteur variable.\nC'est possible en spécifiant des **paramètres** pour la fonction.\nUn paramètre de fonction est une **variable locale** qui peut être utilisée dans sa définition.\n\nLors de l'appel de la fonction, nous donnons des valeurs à la fonction.\nCes valeurs sont les **arguments** de la fonction.\n\n"
  },
  {
   "cell_type": "markdown",
   "metadata": {},
   "source": "<h3 style=\"color:teal;background-color:azure;\" > <i class=\"fa fa-pencil\" aria-hidden=\"true\"> </i> &nbsp; Exercice 1 </h3>\n\nComplétez le programme ci-dessous afin de dessiner un deuxième rectangle avec d'autres dimensions.\n\n```Python\nfrom turtle import *\n\ndef rectangle(d, e):    # paramètres (d, e)\n    for i in range(2):\n        forward(d)\n        left(90)\n        forward(e)\n        left(90)\n\nrectangle(160, 100)      # largeur=160, hauteur=100\n\n# à compléter\n\ndone()\n\n```\n\n<div class = \"alert alert-block alert-warning\"> \n\n### Solution\n</div>"
  },
  {
   "cell_type": "code",
   "execution_count": null,
   "metadata": {
    "trusted": true
   },
   "outputs": [],
   "source": "from turtle import *\n\ndef rectangle(d, e):    # paramètres (d, e)\n    for i in range(2):\n        forward(d)\n        left(90)\n        forward(e)\n        left(90)\n\nrectangle(160, 100)      # largeur=160, hauteur=100\n\nrectangle(200, 150)      # largeur=160, hauteur=100\n\nrectangle(100, 250)      # largeur=160, hauteur=100\n\ndone()"
  },
  {
   "cell_type": "markdown",
   "metadata": {},
   "source": "### Exemples de fonctions avec des paramétres\n"
  },
  {
   "cell_type": "markdown",
   "metadata": {},
   "source": "**Exemple 1 : Le Losange**\n\nEssayez de comprendre le programme ci-dessous, puis exécutez le..."
  },
  {
   "cell_type": "code",
   "execution_count": null,
   "metadata": {
    "trusted": true
   },
   "outputs": [],
   "source": "from turtle import *\n\ndef losange(d, a):      # paramètres (d=distance, a=angle)\n    for i in range(2):\n        forward(d)\n        left(a)\n\n        forward(d)\n        left(180-a)\n\nlosange(100, 60)            # distance=100, angle=60\nlosange(140, 100)           # distance=140, angle=100\n\ndone()\n"
  },
  {
   "cell_type": "markdown",
   "metadata": {},
   "source": "On remarque que la fonction `losange(a, angle)`, définie ci-dessus, a comme paramètre la longueur et le premier angle. \n\nRemarque: Le deuxième angle du losange est calculé."
  },
  {
   "cell_type": "markdown",
   "metadata": {},
   "source": "**Exemple 2 : Le polygone**\n\nEssayez de comprendre le programme ci-dessous, puis exécutez le..."
  },
  {
   "cell_type": "code",
   "execution_count": null,
   "metadata": {
    "trusted": true
   },
   "outputs": [],
   "source": "from turtle import *\n\ndef polygone(d, n):     # paramètres (d, n)\n    for i in range(n):\n        forward(d)\n        left(360/n)\n\npolygone(100, 3)    # triangle\npolygone(100, 4)    # carré\npolygone(100, 5)    # pentagon\n\ndone()\n"
  },
  {
   "cell_type": "markdown",
   "metadata": {},
   "source": "On remarque que la fonction `polygone(d, n)` a comme paramètre la distance d'un côté et le nombre de sommets.\n\n"
  },
  {
   "cell_type": "markdown",
   "metadata": {},
   "source": "## Retour à la maison...\n\nRevenons à l'exemple d'une fonction qui dessine une maison.\n"
  },
  {
   "cell_type": "markdown",
   "metadata": {},
   "source": "<h3 style=\"color:teal;background-color:azure;\" > <i class=\"fa fa-pencil\" aria-hidden=\"true\"> </i> &nbsp; Exercice 2 </h3>\n\nComplétez le programme afin qu'il dessine une troisième maison de taille 100.\n\n```Python\nfrom turtle import *\n\ndef maison(d):\n    dot()\n    forward (1.41*d)  # sol\n    left(90)\n    forward(d)  # mur droit\n    left(45)\n    forward(d)  # toit droit\n    left(90)\n    forward(d)  # toit gauche\n    left(45)\n    forward(d)  # mur gauche\n    left(90)\n\nbackward(200)\nmaison(50)      # maison de taille 50\nforward(100)\nmaison(70)      # maison de taille 70\n\n# à compléter\n\ndone()\n```\n\n<div class = \"alert alert-block alert-warning\"> \n\n### Solution\n</div>"
  },
  {
   "cell_type": "code",
   "execution_count": null,
   "metadata": {
    "trusted": true
   },
   "outputs": [],
   "source": "from turtle import *\n\ndef maison(d):\n    dot()\n    forward (1.41*d)  # sol\n    left(90)\n    forward(d)  # mur droit\n    left(45)\n    forward(d)  # toit droit\n    left(90)\n    forward(d)  # toit gauche\n    left(45)\n    forward(d)  # mur gauche\n    left(90)\n\nbackward(200)\nmaison(50)      # maison de taille 50\nforward(100)\nmaison(70)      # maison de taille 70\n\nforward(150)\nmaison(100)      # maison de taille 100\n\ndone()\n"
  },
  {
   "cell_type": "markdown",
   "metadata": {},
   "source": "## Positionner la maison\n\n!!! info Rappel\nAu départ, la tortue se trouve au centre d'une zone rectangulaire appelée _canevas_. \n![Image caneva](https://githepia.hesge.ch/info_sismondi/exercices-1ere/-/raw/main/Notebooks/imgs_chap4/canevas.png)\nCe rectangle a les propriétés suivantes :\n\n- l'origine (0, 0) se trouve au centre,\n- l'axe horizontal x, s'étend de -300 à +300 (à droite),\n- l'axe vertical y, s'étend de -200 à +200 (en haut).\n!!!\n\nLa fonction `goto(x, y)` permet de placer directement la tortue à la position de coordonnées `(x, y)`. On peut utiliser `goto(x, y)` pour positionner notre maison à un endroit précis.\n\nPour désigner une position, nous utilisons la variable `p` (p pour position) qui représente le couple de coordonnées `[x, y]`."
  },
  {
   "cell_type": "markdown",
   "metadata": {},
   "source": "<h3 style=\"color:teal;background-color:azure;\" > <i class=\"fa fa-pencil\" aria-hidden=\"true\"> </i> &nbsp; Exercice 3 </h3>Aujoutez deux autres maisons de taille différente.\n\n```Python\nfrom turtle import *\n\ndef maison(p , d):\n    goto(p)     # aller à la position p\n    dot()       # ajouter un marquer (dot)\n    down()\n    forward (1.41*d)  # sol\n    left(90)\n    forward(d)  # mur droit\n    left(45)\n    forward(d)  # toit droit\n    left(90)\n    forward(d)  # toit gauche\n    left(45)\n    forward(d)  # mur gauche\n    left(90)\n    up()\n\nmaison([0, 0], 50)          # maison à la position (0, 0)\nmaison([-150, 50], 70)      # maison à la position (-150, 50)\n\ndone()\n```\n<div class = \"alert alert-block alert-warning\"> \n\n### Solution\n</div>"
  },
  {
   "cell_type": "code",
   "execution_count": null,
   "metadata": {
    "trusted": true
   },
   "outputs": [],
   "source": "from turtle import *\n\ndef maison(p , d):\n    goto(p)     # aller à la position p\n    dot()       # ajouter un marquer (dot)\n    down()\n    forward (1.41*d)  # sol\n    left(90)\n    forward(d)  # mur droit\n    left(45)\n    forward(d)  # toit droit\n    left(90)\n    forward(d)  # toit gauche\n    left(45)\n    forward(d)  # mur gauche\n    left(90)\n    up()\n\nmaison([0, 0], 50)          # maison à la position (0, 0)\nmaison([-150, 50], 70)      # maison à la position (-150, 50)\n\nmaison([-150, -200], 100)      # maison à la position (-150, -200)\nmaison([130, 50], 30)      # maison à la position (-150, -200)\n\ndone()"
  },
  {
   "cell_type": "markdown",
   "metadata": {},
   "source": "!!! info Les listes\nEn Python les données peuvent être de plusieurs type. Par exemple, nous avons déjà rencontré le type nombre entier (`int`),  nombre à virgule **flottante** (`float`) et chaînes de caractères (`str`).\n\nEn python, le type `list` permet de définir des données composée d e plusieurs valeurs. Il suffit de mettre les valeurs, séparées par des virgules, entre des crochets.\n!!!"
  },
  {
   "cell_type": "markdown",
   "metadata": {},
   "source": "## Colorier la maison\n\nMaintenant nous modifions la fonction pour inclure non seulement la position, la taille, mais également la couleur de la maison comme paramètres. Les arguments de la fonction sont :\n\n- `p` -- position de la maison\n- `d` -- dimension de la maison\n- `c` -- couleur de la maison\n\n"
  },
  {
   "cell_type": "markdown",
   "metadata": {},
   "source": "<h3 style=\"color:teal;background-color:azure;\" > <i class=\"fa fa-pencil\" aria-hidden=\"true\"> </i> &nbsp; Exercice 4 </h3>Aujoutez deux autres maisons de taille et couleur différente.\n\n```Python\nfrom turtle import *\nup()\n\ndef maison(p, d, c):\n    goto(p)\n    dot()\n    down()\n    fillcolor(c)\n    begin_fill()\n    forward (1.41*d)  # sol\n    left(90)\n    forward(d)  # mur droit\n    left(45)\n    forward(d)  # toit droit\n    left(90)\n    forward(d)  # toit gauche\n    left(45)\n    forward(d)  # mur gauche\n    left(90)\n    end_fill()\n    up()\n\nmaison([0, 0], 70, 'lightblue')\nmaison([150, 30], 50, 'yellow')\n\ndone()\n```\n<div class = \"alert alert-block alert-warning\"> \n\n### Solution\n</div>"
  },
  {
   "cell_type": "code",
   "execution_count": null,
   "metadata": {
    "trusted": true
   },
   "outputs": [],
   "source": "from turtle import *\nup()\n\ndef maison(p, d, c):\n    goto(p)\n    dot()\n    down()\n    fillcolor(c)\n    begin_fill()\n    forward (1.41*d)  # sol\n    left(90)\n    forward(d)  # mur droit\n    left(45)\n    forward(d)  # toit droit\n    left(90)\n    forward(d)  # toit gauche\n    left(45)\n    forward(d)  # mur gauche\n    left(90)\n    end_fill()\n    up()\n\nmaison([0, 0], 70, 'lightblue')\nmaison([150, 30], 50, 'yellow')\n\nmaison([-150, -200], 100, \"blue\")    \nmaison([-180, 80], 30, \"green\")      \n\ndone()\n"
  },
  {
   "cell_type": "markdown",
   "metadata": {},
   "source": "## Drapeau tricolore\n\n"
  },
  {
   "cell_type": "markdown",
   "metadata": {},
   "source": "<h3 style=\"color:teal;background-color:azure;\" > <i class=\"fa fa-pencil\" aria-hidden=\"true\"> </i> &nbsp; Exercice 5 </h3>\n\n1. Modifiez les couleurs pour afficher le drapeau de l'irlande (ou d'un autre pays de votre choix).  \n2. Créez une deuxième fonction `drapeau2(d, c, c2, c3)` qui crée un drapeau avec des barres horizontales et utilisez là pour dessiner le drapeau des pays bas  (ou d'un autre pays de votre choix).\n\n```Python\nfrom turtle import *\n\ndef rectangle(d, e, c):\n    fillcolor(c)\n    begin_fill()\n    for i in range(2):\n        forward(d)\n        left(90)\n        forward(e)\n        left(90)\n    end_fill()\n\ndef drapeau(d, c1, c2, c3):\n    rectangle(d, 2*d, c1)\n    forward(d)\n    rectangle(d, 2*d, c2)\n    forward(d)\n    rectangle(d, 2*d, c3)\n\ndrapeau(50, 'blue', 'white', 'red')\n\ndone()\n\n\n```\n<div class = \"alert alert-block alert-warning\"> \n\n### Solution\n</div>"
  },
  {
   "cell_type": "code",
   "execution_count": null,
   "metadata": {
    "trusted": true
   },
   "outputs": [],
   "source": "from turtle import *\n\ndef rectangle(d, e, c):\n    fillcolor(c)\n    begin_fill()\n    for i in range(2):\n        forward(d)\n        left(90)\n        forward(e)\n        left(90)\n    end_fill()\n\ndef drapeau(d, c1, c2, c3):\n    rectangle(d, 2*d, c1)\n    forward(d)\n    rectangle(d, 2*d, c2)\n    forward(d)\n    rectangle(d, 2*d, c3)\n\n\ndef drapeau2(d, c1, c2, c3):\n    rectangle(4*d, d, c1)\n    left(90)\n    forward(d)\n    right(90)\n    rectangle(4*d, d, c2)\n    left(90)\n    forward(d)\n    right(90)\n    rectangle(4*d, d, c3)\n\npenup()\ngoto(-200,0)\npendown()\ndrapeau(50, 'green', 'white', 'orange')\n\npenup()\ngoto(50,0)\npendown()\ndrapeau2(50, 'blue', 'white', 'red')\n\ndone()\n"
  },
  {
   "cell_type": "markdown",
   "metadata": {},
   "source": "## Arbre\n\nPour dessiner un arbre simple, nous utilisons un segment droit pour le tronc et un disque (dot) pour le feuillage.\nC'est une fonction qui a 3 paramètres\n\n- `d` -- longueur du tronc\n- `c` -- couleur du tronc\n- `c2` -- couleur du feuillage\n\n"
  },
  {
   "cell_type": "markdown",
   "metadata": {},
   "source": "<h3 style=\"color:teal;background-color:azure;\" > <i class=\"fa fa-pencil\" aria-hidden=\"true\"> </i> &nbsp; Exercice 6 </h3>\n\nDéfinissez et utilisez une fonction `foret(n)` qui dessine `n` arbres.\n\n```Python\nfrom turtle import *\n\ndef arbre(d, c, c2):\n    down()\n    left(90)\n    width(d/6)      # tronc\n    pencolor(c)\n    forward(d)\n    dot(d, c2)      # feuillage\n    up()\n    backward(d)     # retourner à la position de départ\n    right(90)\n\n\narbre(100, 'brown', 'lime')\nforward(70)\narbre(90, 'brown', 'green')\n\ndone()\n```\n<div class = \"alert alert-block alert-warning\"> \n\n### Solution\n</div>"
  },
  {
   "cell_type": "code",
   "execution_count": null,
   "metadata": {
    "trusted": true
   },
   "outputs": [],
   "source": "from turtle import *\n\ndef arbre(d, c, c2):\n    down()\n    left(90)\n    width(d/6)      # tronc\n    pencolor(c)\n    forward(d)\n    dot(d, c2)      # feuillage\n    up()\n    backward(d)     # retourner à la position de départ\n    right(90)\n\ndef foret(n):\n    for _ in range(n):\n        arbre(90, 'brown', 'green')\n        forward(40)\n        left(90)\n        forward(40)\n        right(90)\n        forward(40)\n\nup()\ngoto(-200,0)\nforet(4)    \n    \ndone()\n"
  },
  {
   "cell_type": "markdown",
   "metadata": {},
   "source": "## Coeur\n\n"
  },
  {
   "cell_type": "markdown",
   "metadata": {},
   "source": "<h3 style=\"color:teal;background-color:azure;\" > <i class=\"fa fa-pencil\" aria-hidden=\"true\"> </i> &nbsp; Exercice 7 </h3>\n\nAjoutez deux paramètres: `w` pour l'épaisseur de la ligne (width), et `c2` pour la couleur de ligne.  \nLa fonction aura la forme `coeur(r, w, c, c2)`.\n\n```Python\nfrom turtle import *\n\ndef coeur(r, c):\n    down()\n    fillcolor(c)\n    begin_fill()\n    left(90)\n    circle(r, 225)\n    forward(2.4*r)\n    left(90)\n    forward(2.4*r)\n    circle(r, 225)\n    left(90)\n    end_fill()\n    up()\n\ncoeur(50, 'darkviolet')\nforward(130)\ncoeur(40, 'tomato')\n\ndone()\n```\n<div class = \"alert alert-block alert-warning\"> \n\n### Solution\n</div>"
  },
  {
   "cell_type": "code",
   "execution_count": null,
   "metadata": {
    "trusted": true
   },
   "outputs": [],
   "source": "from turtle import *\n\ndef coeur(r, w, c, c2):\n    down()\n    width(w)\n    pencolor(c2)\n    fillcolor(c)\n    begin_fill()\n    left(90)\n    circle(r, 225)\n    forward(2.4*r)\n    left(90)\n    forward(2.4*r)\n    circle(r, 225)\n    left(90)\n    end_fill()\n    up()\n\ncoeur(50,5, 'darkviolet', \"red\")\nforward(130)\ncoeur(40,2, 'tomato', \"green\")\n\ndone()\n"
  },
  {
   "cell_type": "markdown",
   "metadata": {},
   "source": "## Autres exemples de fonction\n\n**Exemple 1: Dessiner un bus**\n\nPour dessiner un bus, une voiture ou un camion simple, nous pouvons utiliser des rectangles pour le châssis, et un disque (dot) pour les roues.\nC'est une fonction qui a comme paramètres\n\n- `p` -- position du bus\n- `d` -- dimension (longeur) du bus\n- `c` -- couleur du bus"
  },
  {
   "cell_type": "code",
   "execution_count": null,
   "metadata": {
    "trusted": true
   },
   "outputs": [],
   "source": "from turtle import *\nup()\n\ndef rectangle(d, e, c):\n    fillcolor(c)\n    begin_fill()\n    for i in range(2):\n        forward(d)\n        left(90)\n        forward(e)\n        left(90)\n    end_fill()\n\ndef bus(p, d, c):\n    goto(p)\n    down()\n    rectangle(d, d/3, c) # chassis\n    forward(d/4)\n    dot(d/5)            # roue arrière\n    dot(d/10, 'white')\n    forward(d/2)\n    dot(d/5)            # roue avant\n    dot(d/10, 'white')\n    up()\n\nbus([-200, 50], 200, 'red')\nbus([50, 20], 150, 'lightblue')\n\ndone()\n"
  },
  {
   "cell_type": "markdown",
   "metadata": {},
   "source": "**Exemple 2: L'escalier**\n\nPour dessiner un escalier notre fonction aura les paramètres suivants:\n\n- `d` -- longueur de marche\n- `e` -- hauteur de marche\n- `n` -- nombre de marches\n\n"
  },
  {
   "cell_type": "code",
   "execution_count": null,
   "metadata": {
    "scrolled": true,
    "trusted": true
   },
   "outputs": [],
   "source": "from turtle import *\n\ndef escalier(d, e, n):\n    dot()   # marqueur de début\n    for i in range(n):\n        forward(d)\n        left(90)\n        forward(e)\n        right(90)\n\nescalier(20, 10, 5)\nescalier(10, -20, 5)\nescalier(30, 10, 4)\n\ndone()\n"
  },
  {
   "cell_type": "markdown",
   "metadata": {},
   "source": "## Nommer une variable\n\nPour nommer une variable, on utilise les caractères suivants :\n\n- lettres (`a...z` et `A...Z`),\n- chiffres (`0...9`),\n- le tiret bas (`_`).\n\nLe nom de variable :\n\n- est sensible aux majuscules/minuscules (`BUS` et `bus` sont des noms de variables différents),\n- ne peut pas commencer avec un chiffre,\n- ne doit pas consister d'un mot-clé (`def`, `for`, `in`, `from`, ...),\n\nPar exemplee, les noms de variables suivantes sont valides : \n    `a2`, `_a`, `speed`, `pos_x`, `POS_X`,\n\ntandis que ceux là ne le sont pas :   `2a`, `def`, `pos x`.\n"
  },
  {
   "cell_type": "markdown",
   "metadata": {},
   "source": "<h3 style=\"color:chocolate;background-color:papayawhip;\" > <i class=\"fa fa-question\" aria-hidden=\"true\"> </i> &nbsp; Quizz </h3> \n \n```\nLesquels des noms de variable sont valides ?\n\nA) var 2\nB) var2\nC) 2var\nD) IF\n```"
  },
  {
   "cell_type": "raw",
   "metadata": {},
   "source": "Votre réponse: "
  },
  {
   "cell_type": "markdown",
   "metadata": {},
   "source": "<details>\n<summary style=\"border-left:3px solid #3c763d; border-radius:2pt; width:100%; color:#3c763d; padding:6px; background-color: #dff0d8\"> \nRéponse\n</summary>  \n\n<div style=\"border-left:3px solid #3c763d; border-radius:2pt; color:#3c763d; padding:6px; background-color: #eff0e8\">\n\nB) `var2`\n    \nD) `IF` serait valable car différent du mot clé `if` (rappel : Python est sensible aux majuscules/minuscules)\n    \nLes deux autres ne sont pas valables car `var 2` contient une espace et `2var` commence par un chiffre.\n    \n</div>\n</details>"
  },
  {
   "cell_type": "markdown",
   "metadata": {},
   "source": "## Exercices d'entraînement "
  },
  {
   "cell_type": "markdown",
   "metadata": {},
   "source": "<h3 style=\"color:teal;background-color:azure;\" > <i class=\"fa fa-pencil\" aria-hidden=\"true\"> </i> &nbsp; Exercice 8 </h3>\n\nCorrigez le programme ci-dessous afin qu'il affiche un triangle rouge\n\n```Python\nfrom turtle import *\n\ndef triangle_couleur(d, c):\n    pencolor(c)\n    for i in range(3):\n        forward(d)\n        left(120)\n\ntriangle_couleur(\"red\", 100)\n\ndone()\n```\n<div class = \"alert alert-block alert-warning\"> \n\n### Solution\n</div>"
  },
  {
   "cell_type": "code",
   "execution_count": null,
   "metadata": {
    "trusted": true
   },
   "outputs": [],
   "source": "from turtle import *\n\ndef triangle_couleur(d, c):\n    pencolor(c)\n    for i in range(3):\n        forward(d)\n        left(120)\n\ntriangle_couleur(100, \"red\") #il fallait changer l'ordre\n\ndone()"
  },
  {
   "cell_type": "markdown",
   "metadata": {},
   "source": "<h3 style=\"color:teal;background-color:azure;\" > <i class=\"fa fa-pencil\" aria-hidden=\"true\"> </i> &nbsp; Exercice 9 </h3>\n\n1. Testez le programme suivant (voir plus bas pour tester) :\n\n```Python\nfrom turtle import *\n\n# pour être à gauche du canevas\nbackward(250)\n\n# Code à factoriser\nfor k in range(3):\n    forward(30)\n    right(120)\nforward(30)\nfor k in range(3):\n    forward(60)\n    right(120)\nforward(60)\nfor k in range(3):\n    forward(90)\n    right(120)\nforward(90)\nfor k in range(3):\n    forward(120)\n    right(120)\nforward(120)\nfor k in range(3):\n    forward(150)\n    right(120)\n\ndone()\n```\n2. Définissez une fonction `triangle(l)`, qui permet de tracer des triangles équilatéraux de longueur lg, et utilisez-là pour réduire le nombre d’instructions du programme. \n\n**NB**: Le nombre d'instructions du programme doit être au moins divisé par 2.\n\n\n<div class = \"alert alert-block alert-warning\"> \n\n### Solution\n</div>"
  },
  {
   "cell_type": "code",
   "execution_count": null,
   "metadata": {
    "trusted": true
   },
   "outputs": [],
   "source": "from turtle import *\n\n# pour être à gauche du canevas\nbackward(250)\n\ndef triangle(l):\n    for k in range(3):\n        forward(l)\n        right(120)\n\n# Code à factoriser\ntriangle(30)\nforward(30)\ntriangle(60)\nforward(60)\ntriangle(90)\nforward(90)\ntriangle(120)\nforward(120)\ntriangle(150)\n\ndone()\n"
  },
  {
   "cell_type": "markdown",
   "metadata": {},
   "source": "<h3 style=\"color:teal;background-color:azure;\" > <i class=\"fa fa-pencil\" aria-hidden=\"true\"> </i> &nbsp; Exercice 10 </h3>\n\n\nDéfinir une fonction `carre_couleur(d,c )` qui demande à la tortue de\ndessiner des carrés colorés de longueur variés. Elle doit dessiner trois triangles comme sur la figure ci-dessous.\n\n![Image carres colorés](https://githepia.hesge.ch/info_sismondi/exercices-1ere/-/raw/main/Notebooks/imgs_chap4/ex_carres_couleur.png)\n\n<div class = \"alert alert-block alert-warning\"> \n\n### Solution\n</div>"
  },
  {
   "cell_type": "code",
   "execution_count": null,
   "metadata": {
    "trusted": true
   },
   "outputs": [],
   "source": "from turtle import *\n\ndef carre(l,c):\n    pencolor(c)\n    for _ in range(4):\n        left(90)\n        forward(l)\n\nwidth(3)\ncarre(130, \"red\")\nleft(120)\ncarre(100, \"green\")\nleft(120)\ncarre(70, \"pink\")\n\ndone()"
  },
  {
   "cell_type": "markdown",
   "metadata": {},
   "source": "<h3 style=\"color:teal;background-color:azure;\" > <i class=\"fa fa-pencil\" aria-hidden=\"true\"> </i> &nbsp; Exercice 11 </h3>\n\nDéfinissez une commande `rangee_triangles(nombre, cote)` qui dessine une rangée de pyramides selon l’illustration. Chaque triangle a des côtés de longueur `cote`.\nLe paramètre `nombre` indique le nombre de triangles dans la rangée. Utilisez ensuite\ncette commande pour dessiner une rangée de 20 triangles de côtés 31, centrée au\nmilieu de la fenêtre.\n\n![Image rangee de triangle](https://githepia.hesge.ch/info_sismondi/exercices-1ere/-/raw/main/Notebooks/imgs_chap4/ex_triangles.png)\n\n<div class = \"alert alert-block alert-warning\"> \n\n### Solution\n</div>"
  },
  {
   "cell_type": "code",
   "execution_count": null,
   "metadata": {
    "trusted": true
   },
   "outputs": [],
   "source": "from turtle import *\n\ndef rangee_triangles(nombre, cote):\n    left(60)\n    for _ in range(nombre):\n        forward(cote)\n        right(120)\n        forward(cote)\n        left(120)\n\n# mettre à gauche\nup()\nbackward(300)\ndown()\n\n# utiliser la fonction\nrangee_triangles(13, 31)\n\ndone()"
  },
  {
   "cell_type": "markdown",
   "metadata": {},
   "source": "<h3 style=\"color:teal;background-color:azure;\" > <i class=\"fa fa-pencil\" aria-hidden=\"true\"> </i> &nbsp; Exercice 12 </h3>\n\nDéfinissez une fonction `maison(h, c)` qui dessine une maison avec une porte de hauteur `h` et de vouleur `c`. \nLes autres dimensions de la maison sont représentées sur l'image ci-dessous.\n![Image rangee de triangle](https://githepia.hesge.ch/info_sismondi/exercices-1ere/-/raw/main/Notebooks/imgs_chap4/maison_dim.svg)\nÉcrire un programme qui utilise la fonction `maison(h, c)` pour reproduire la figure suivante:\n![Image rangee de triangle](https://githepia.hesge.ch/info_sismondi/exercices-1ere/-/raw/main/Notebooks/imgs_chap4/village.svg)"
  },
  {
   "cell_type": "code",
   "execution_count": null,
   "metadata": {
    "trusted": true
   },
   "outputs": [],
   "source": "from turtle import *\n\n\ndef maison(h, c):\n    #deddin de la base\n    for _ in range(4):\n        forward(80)\n        left(90)\n    forward(20)\n    left(90)\n    \n    # desin de la porte\n    color(c)\n    forward(h)\n    right(90)\n    forward(40)\n    right(90)\n    forward(h)\n    left(90)\n        \n    color(\"black\")\n    forward(20)\n    left(90)\n    forward(80)\n    \n    # toit\n    color(\"green\")\n    left(30)\n    forward(80)\n    left(120)\n    forward(80)\n    \n    color(\"black\")\n    left(30)\n    forward(80)\n    left(90)\n\n    \nspeed(9) # pour dessiner vite\nwidth(2)\n\n# se mettre à gauche du dessin\npenup()\ngoto(-250,0)\npendown()\n# dessiner les maisons porte rouge \nfor _ in range(5):\n    maison(40, \"red\")\n    penup()\n    forward(90)\n    pendown()\n\n# se mettre à gauche en bas du dessin\npenup()\ngoto(-250,-200)\npendown()\n# dessiner les maisons porte rouge \nfor _ in range(5):\n    maison(60, \"blue\")\n    penup()\n    forward(90)\n    pendown()\n    \ndone()"
  },
  {
   "cell_type": "markdown",
   "metadata": {},
   "source": "# Complément sur les valeurs par défaut *\n\nQuand une fonction possède beaucoup d'arguments, nous pouvons spécifier des valeurs par défaut. Pour ceci nous ajoutons la valeur par défaut dans la liste de paramètres avec le symbole `=`.\n\nLa fonction `rectangle(p, d, e, w=1, pen='black', fill='white')` dessine un rectangle aux dimensions `d` x `e` à la position `p`.\nCette fonction possède 3 paramètres optionnels (valeur par défaut en parenthèse):\n\n- `w` -- épaisseur de ligne (`1`)\n- `pen` -- couleur de ligne (`'black'`)\n- `fill` -- couleur de remplissage (`'white'`)\n\nIl a maintenant différentes façons à appeler la fonction. Tous les paramètres qui ont une valeur par défaut sont optionnels. Au minimum nous devons spécifier les paramètres sans valeur par défaut.\n\n```\nrectangle((40, 0), 80, 40)\n```\n\nLe rectangle est dessiné dans la direction actuelle de la tortue. Cette orientation peut être changée avec `seth()`. La tortue se positionne de l'autre côté du point de départ. Ceci permet d'enchainer à dessiner des rectangles.\n\n"
  },
  {
   "cell_type": "code",
   "execution_count": null,
   "metadata": {
    "trusted": true
   },
   "outputs": [],
   "source": "from turtle import *\npenup()\n\ndef rectangle(p, d, e, w=1, pen='black', fill='white'):\n    goto(p)\n    pendown()\n    width(w)\n    pencolor(pen)\n    fillcolor(fill)\n    begin_fill()\n    for i in range(2):\n        forward(d)\n        left(90)\n        forward(e)\n        left(90)\n    end_fill()\n    penup()\n\nrectangle([-200, 30], 40, 30)\nrectangle([-100, -20], 40, 30, 1, 'orange', 'orange')\nrectangle([100, -40], 30, 80, fill='yellow')\nrectangle([200, 100], 80, 40, 1, 'red', 'pink')\n\ndone()\n"
  },
  {
   "cell_type": "markdown",
   "metadata": {},
   "source": "## Polygone régulier\n\nLa fonction `polygone()` dessine un polygone régulier avec n sommets. Les arguments de la fonction sont :\n\n- `d` -- distance du segment\n- `n` -- nombre de segments\n\n"
  },
  {
   "cell_type": "code",
   "execution_count": null,
   "metadata": {
    "trusted": true
   },
   "outputs": [],
   "source": "from turtle import *\n\ndef polygon(d, n, w=1, pen='black', fill='white'):\n    down()\n    pencolor(pen)\n    width(w)\n    fillcolor(fill)\n    begin_fill()\n    for i in range(n):\n        forward(d)\n        left(360/n)\n    end_fill()\n    up()\n\nup()\nbackward(280)\nfor n in range(3, 9):\n    polygon(40, n, fill='lime')\n    color('black')\n    forward(100)\n\ndone()\n"
  },
  {
   "cell_type": "markdown",
   "metadata": {},
   "source": "## Polygone étoilé\n\nEn ajoutant un paramètre supplémentaire `m`, la fonction `polygone()` permet également de dessiner un polygone étoilé.  Ce paramètre signifie le nombre de pics sauté pour aller au prochain des `n` points répartis dans un cercle. Pour `m=1` un polygone régulier est dessiné.\n\nes arguments de la fonction sont :\n\n- `d` -- distance du segment\n- `n` -- nombre de segments\n- `m` -- paramètre pour polygone étoilé (nombre de pics sautés)\n\n"
  },
  {
   "cell_type": "code",
   "execution_count": null,
   "metadata": {
    "trusted": true
   },
   "outputs": [],
   "source": "from turtle import *\n\ndef polygon(d, n, m=1, w=1, pen='black', fill='white'):\n    down()\n    pencolor(pen)\n    width(w)\n    fillcolor(fill)\n    begin_fill()\n    for i in range(n):\n        forward(d)\n        left(m*360/n)\n    end_fill()\n    up()\n\nup()\nspeed(0)\nbackward(250)\nfor m in range(2, 6):\n    polygon(80, 11, m, fill='yellow')\n    color('black')\n    forward(140)\n\ndone()\n"
  },
  {
   "cell_type": "markdown",
   "metadata": {},
   "source": "<h3 style=\"color:teal;background-color:azure;\" > <i class=\"fa fa-pencil\" aria-hidden=\"true\"> </i> &nbsp; Exercice 12 </h3>\n\nUtilisez la fonction `rectangle(p, d, e, w, pen, fill)` pour dessiner une copie de ce tableau de Mondrian.\n"
  },
  {
   "cell_type": "markdown",
   "metadata": {},
   "source": "![mondrian](https://raw.githubusercontent.com/edunumsec2/book/master/src/appr/prog1/media/mondrian.jpg)\n\n"
  },
  {
   "cell_type": "markdown",
   "metadata": {},
   "source": "---\n\n#### Remarque générale\n\nCe document est une adaptation d'un ressource pédagogique tiré du catalogue modulo https://modulo-info.ch/. Il est sous license Creative Commons [BY-NC-SA](https://creativecommons.org/licenses/?lang=fr)\n![Licence Creative Commons](https://i.creativecommons.org/l/by-nc-sa/4.0/88x31.png)"
  },
  {
   "cell_type": "code",
   "execution_count": null,
   "metadata": {
    "trusted": true
   },
   "outputs": [],
   "source": ""
  }
 ],
 "metadata": {
  "kernelspec": {
   "display_name": "Python 3 (ipykernel)",
   "language": "python",
   "name": "python3"
  },
  "language_info": {
   "codemirror_mode": {
    "name": "ipython",
    "version": 3
   },
   "file_extension": ".py",
   "mimetype": "text/x-python",
   "name": "python",
   "nbconvert_exporter": "python",
   "pygments_lexer": "ipython3",
   "version": "3.10.12"
  }
 },
 "nbformat": 4,
 "nbformat_minor": 2
}
