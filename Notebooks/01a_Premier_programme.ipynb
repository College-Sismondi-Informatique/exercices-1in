{
 "cells": [
  {
   "cell_type": "markdown",
   "metadata": {},
   "source": "<div style=\"padding:20px;background-color:papayawhip;\" > \n<h3 style=\"color:chocolate\"> <i class=\"fa fa-info\" aria-hidden=\"true\"> </i> &nbsp; Remarque introductive &nbsp;  <i class=\"fa fa-info\" aria-hidden=\"true\"></h3> \n<p> Ce fichier est fait pour être lu sur le site <a href=\"https://notebook.basthon.fr/\"><img src='https://notebook.basthon.fr/assets/efede5218c9087496f16.png' style=\"border: 0; display:inline; margin: 0 5px; height:30px\" alt=\"Basthon\"/></a>. C'est ce logo qui doit s'afficher en haut à gauche de cette fenêtre. <br>\n    \nSi vous l'avez ouvert avec un autre programme, comme Jupyter notebook, vous riquez de rencontrer quelques bugs. <br>\nVeuillez cliquez sur <a href=\"https://notebook.basthon.fr/\">ce lien</a> et y charger ce fichier à l'aide du bouton \"Ouvrir\"  &nbsp; <i class=\"fa fa-folder\" aria-hidden=\"true\"> </i>\n</p> </div>    \n\n<div class = \"alert  alert-danger\"> \n    \nAttention: **veillez à bien sauvegarder votre travail** dans le bon dossier du disque réseau (dossier document) avec le bon nom (et l'extension *.ipynb*), **sinon toutes les modifications seront perdues!**\n\nPour reprendre votre travail, il suffit d'ouvrir le fichier .ipynb en cliquant sur le bouton \"Ouvrir\"  &nbsp; <i class=\"fa fa-folder\" aria-hidden=\"true\"> \n</div>"
  },
  {
   "cell_type": "markdown",
   "metadata": {},
   "source": "# 1. Premier programme, premières instructions"
  },
  {
   "cell_type": "markdown",
   "metadata": {},
   "source": "Dans ce chapitre, nous explorons ce que c’est un programme et nous prenons principalement l’exemple du dessin. \n\n\n<blockquote class=\"alert alert-info\" style=\"background-color:rgb(220,240,255); margin:10px 10%;\">\n    <p><span style=\"font-size:1.5em\">❔</span> C'est quoi une programme? la programmation? Exécutez la cellule ci-dessous pour voir une petite introduction sur la notion de programme</p>\n</blockquote>\n\n<iframe width=\"560\" height=\"315\" src=\"https://www.youtube.com/embed/7b3QupZc08Y?si=grHrbyxNcD3rf4kU\" title=\"YouTube video player\" frameborder=\"0\" allow=\"accelerometer; autoplay; clipboard-write; encrypted-media; gyroscope; picture-in-picture; web-share\" referrerpolicy=\"strict-origin-when-cross-origin\" allowfullscreen></iframe>\n\n\n\n\n"
  },
  {
   "cell_type": "markdown",
   "metadata": {},
   "source": "*source: Ce premier chapitre est tiré d'un NB de M. Andjekel du [Lycée Levavasseu](https://www.levavasseur.xyz)*.\n\n# 🟥 Préambule \n\nL'environnement que vous avez sous les yeux se nomme  ***Basthon notebook***.\n\n### Avantages\n\n- Un notebook est un  document \"mixte\" contenant des cellules de **texte** explicatif et des cellules contenant des programmes qui sont **exécutable**.\n- Ce format est plus lisible que de simples commentaires python, et évite de basculer entre 2 logiciels, celui qui indique le travail à faire et celui qui exécute le code python. \n\n\n\n### Utilisation\nEn haut du notebook, se trouve :\n- Une barre, contenant de gauche à droite, le logo Jupyter, le logo Basthon, le titre du notebook, le logo python et le bouton <button> Retour </button>.\n- En-dessous, le menu <span style=\"border: 2px solid #e7e7e7; background : #f8f8f8\"> <span style=\"color: #565656;\" >Fichier &emsp; &emsp; … &emsp; &emsp; Noyau &emsp; &emsp; Aide </span> </span> &emsp;  \n- Enfin, une barre d'icônes, de boutons qui sont des raccourcis vers certains menus fréquemment utilisés. Si vous laissez votre souris au-dessus d'une icône, un texte indiquant sa fonction apparaît. \n\n<div class=\"alert alert-success\" style=\"border-left: 5px solid #3c763d;border-radius: 5px;\">\n    \n**Un notebook est une suite de cellules** contenant, soit du **texte**, soit du **code**. \n\n- Les cellules de code sont facilement reconnaissables, elles sont précédées de `Entrée [ ]:`\n- La cellule qui suit celle que vous êtes en train de lire est une cellule de code.\n- Pour exécuter (évaluer) une cellule de code, il faut la sélectionner (un trait bleu ciel, gras et vertical est alors à sa gauche) :\n    - puis utiliser l'icone  <button class='fa fa-step-forward'> Exécuter</button>, qui vous fait passer d'une cellule à la suivante en affichant le résultat de l'exécution;\n    - ou enfoncer simultanément les touches <span><kbd><span style=\"color:white;background-color:black\" ><b> ⇧ Maj </b></span></kbd></span> et <span><b><kbd><span style=\"color:white;background-color:black\" > ↲ Entrée </span></kbd></b></span>.</div> \n\n* La façon habituelle d'utiliser un notebook consiste à :\n\n\n    - commencer à la première cellule;\n    \n    - une fois qu'on l'a comprise ou complétée, l'éxécuter;\n    \n    - puis recommencer cellule après cellule jusqu'à la fin du notebook.\n</div>\n\n<div class=\"alert alert-warning\" >\n\nEntrainez-vous en **exécutant** la cellule de type ***code*** ci-dessous :\n</div>"
  },
  {
   "cell_type": "code",
   "execution_count": null,
   "metadata": {
    "trusted": true
   },
   "outputs": [],
   "source": "print(\"J'ai \", 2025-1982, \"ans\")"
  },
  {
   "cell_type": "markdown",
   "metadata": {},
   "source": "<div class=\"alert alert-success\" style=\"border-left: 5px solid #3c763d;border-radius: 5px;\">\n    \n- Lorsqu'une cellule de code a été évaluée, jupyter notebook ajoute sous la cellule Entrée une cellule `Sortie [x] :`\n- Jupyter notebook ajoute également un nombre `x` entre les crochets de l'entrée, par exemple ci-dessus, `Entrée [1]:`\n    </div>\n    \nCe nombre vous permet de retrouver l'ordre dans lequel les cellules ont été évaluées.\n\nLa cellule `Sortie` contient le résultat de l'exécution du fragment python, soit ci-dessus `J'ai  43 ans`.\n\n??? info En savoir plus sur les cellules textes\nIl est possible de transformer une cellule texte en cellule programme et réciproquement. Pour cela, lorsque vous avez sélectionné un cellule allez dans la barre d'outils, et utiliser la boîte déroulate pour mettre la cellule en « Code » pour éditer des programmes ou en mode « Markdown » pour du texte.\n\nEn utilisant la [syntaxe markdown](https://www.carnets.info/jupyter/memomd/), on peut mettre en forme du texte, insérer des liens, des tableaux, des images ou des formules mathématiques. Les cellules Markdown mettent en forme leur contenu lorsqu'on les éxécutes (comme des cellules « Codes »).\n???\n\nPour ce cours, vous pouvez considérer les *notebooks* comme les chapitres d'un manuel de cours interactif. Tous les programmes de ce manuel peuvent être exécutés (comme vous l'avez fait ci-dessus) pour voir leur résultat **et vous pouvez y ajouter votre propre code et vos propres textes**, comme si vous pouviez écrire dans les pages de votre manuel pour le modifier. Pour garder vos modifications d'un cours à l'autre, il faudra sauvegarder le notebook dans votre dossier personnel.\n\n\n!!! warning Il faut constament enregistrer son travail\nSauvegardez régulièrement votre travail en cliquant sur le bouton <div class='fa fa-save icon-save btn btn-xs btn-default' style=\"padding:5px 10px\"></div> \n\nUtilisez comme nom de fichier `Lecon_xx.ipynb` où `xx` est le numéro de la leçon. Il faut mettre l'extension `ipynb` qui signifie que le fichier contient un notebook Python.\n\nPour ne pas perdre le fichier, il faut l'enregistrer dans votre dossier `Documents` dans dans `Info_1ere\\Python\\`\n\n!!!\n\nVoila, vous en savez assez sur l'environnement ***Basthon notebook***. C'est tout simple, mais cela nécessite un navigateur internet.\n\n\n### Exercice 0\n\nLa cellule ci-dessous contient le code d'un programme. Il n'est pas important de comprendre le programme. Ici, il s'agit d'apprendre à utiliser l'environnement Basthon notebook.\n\n1\\. Cliquer sur la cellule pour la sélectionner, puis exécutez-la pour voir son résultat.\n\n2\\. Sélectionnez-la à nouveau, et dans la ligne `n = 3`, remplacez 3 par 5, puis exécutez-la à nouveau pour voir le nouveau résultat."
  },
  {
   "cell_type": "code",
   "execution_count": null,
   "metadata": {
    "trusted": true
   },
   "outputs": [],
   "source": "from turtle import *\n\nn = 3\n\nfor _ in range(n):\n    forward(100)\n    left(360//n)\n\ndone()"
  },
  {
   "cell_type": "markdown",
   "metadata": {},
   "source": "3. Si vous ne vous êtes pas trompé⋅e, vous devriez maintenant voir un pentagone sous la cellule. Pour ne pas perdre vos modifications, **sauvegardez le notebook dans le bon dossier avec un nom approprié**."
  },
  {
   "cell_type": "markdown",
   "metadata": {},
   "source": "\n## 1.1 Le module `turtle`\n\nC'est maintenant le moment d'étudier vos premiers programmes **Python** et d'étudier les bases du fonctionnement du langage Python. Dans ce chapitre, nous explorons ce que c’est un programme et nous prenons l’exemple du dessin. Ici, un programme est une séquence d’instructions pour dessiner une image.\n\nDans le langage de programmation Python, le module `turtle` (signifiant tortue en anglais) présente une façon sympathique pour faire des dessins. C’est pour cela que nous commençons notre aventure de programmation avec cet animal qui avance tout doucement à son propre rythme.\n\nOn s’imagine une tortue qui se déplace sur un canevas et laisse une trace.\n\nCi-dessous, vous trouvez notre premier programme de trois lignes :\n\n- dans la première ligne, l’expression `from turtle import *` met à disposition les fonctions de dessin,\n\n- avec `shape('turtle')`, nous affichons une tortue (au lieu de la flèche),\n\n- avec `forward(150)`, nous faisons avancer la tortue de 150 pixels,\n\n- avec `left(150)`, nous faisons tourner à gauche la tortue de 90 degrés,\n\n- avec `done()`, nous lançons de tracage de la figure."
  },
  {
   "cell_type": "markdown",
   "metadata": {},
   "source": "### Exercice 1\n\n1. Testez le programme ci-dessous.\n2. Ajoutez d’autres instructions afin de dessiner un carré de taille 150 × 150."
  },
  {
   "cell_type": "markdown",
   "metadata": {},
   "source": "<div class=\"alert alert-block alert-info\"><b>Rappel:</b> Cliquez, soit sur le bouton <b>Excécuter</b>, soit sur les touches <b>Ctrl + Enter</b>, pour tester le programme. </div>"
  },
  {
   "cell_type": "code",
   "execution_count": null,
   "metadata": {
    "scrolled": true,
    "trusted": true
   },
   "outputs": [],
   "source": "from turtle import *\n\nshape('turtle')\nforward(150)\nleft(90)\nforward(150)\n\ndone()"
  },
  {
   "cell_type": "markdown",
   "metadata": {},
   "source": "### A retenir\nLa première instruction du programme doit être \n- `from turtle import *` pour importer toutes les fonctions qui permettent de dessiner avec la tortue\n\nLa dernière instruction du programme doit être \n- `done()` afin que d'indiquer que la tortue doit commencer à tracer la figure avec les instructions donnés préalablement.\n\nLa tortue peut se déplacer et dessiner une trace avec les 2 fonctions:\n\n- `forward(d)` pour avancer d'une distance `d` (en pixels)\n- `left(a)` pour tourner à gauche d'un angle `a` (en degrés)\n\n"
  },
  {
   "cell_type": "markdown",
   "metadata": {},
   "source": "***\n## 1.2 Une séquence\n\nUn programme est une séquence d'instructions. Le bloc de 8 instructions ci-dessous indique comment dessiner un carré. La tortue doit avancer, tourner, avancer, tourner, etc.\n\n### Exercise 2\nModifiez ce code pour en faire un rectangle, au lieu d'un carré."
  },
  {
   "cell_type": "code",
   "execution_count": null,
   "metadata": {
    "trusted": true
   },
   "outputs": [],
   "source": "from turtle import *\n\nforward(100)\nleft(90)\nforward(100)\nleft(90)\nforward(100)\nleft(90)\nforward(100)\nleft(90)\n\n\ndone()"
  },
  {
   "cell_type": "markdown",
   "metadata": {},
   "source": "### Exercice 3\nComplétez le programme ci-dessous afin qu'il dessine un losange conformément au croquis ci-dessous.\n\n![Image de losange](https://github.com/College-Sismondi-Informatique/exercices-1in/blob/main/Notebooks/imgs_chap1/exo_losange.png?raw=true)"
  },
  {
   "cell_type": "code",
   "execution_count": null,
   "metadata": {
    "trusted": true
   },
   "outputs": [],
   "source": "from turtle import *\n\n\n\n\ndone()"
  },
  {
   "cell_type": "markdown",
   "metadata": {},
   "source": "***\n\n## 1.3 Épaisseur de ligne\n\nLa fonction `width(d)` (épaisseur en anglais) permet de définir l'épaisseur de la ligne.\nVoici un triangle où chaque côté a une épaisseur différente.\n\n### Exercise 4\nExplorez différentes épaisseurs de ligne."
  },
  {
   "cell_type": "code",
   "execution_count": null,
   "metadata": {
    "trusted": true
   },
   "outputs": [],
   "source": "from turtle import *\n\nforward(200)\nleft(120)\n\nwidth(5)\nforward(200)\nleft(120)\n\nwidth(10)\nforward(200)\n\ndone()"
  },
  {
   "cell_type": "markdown",
   "metadata": {},
   "source": "***\n\n## 1.5 Maison avec toit\n\nNous dessinons une maison et marquons le toit par une ligne plus épaisse.\n\n### Exercise 5\nDoublez l'épaisseur du toit. Ensuite, doublez la hauteur de la maison."
  },
  {
   "cell_type": "code",
   "execution_count": null,
   "metadata": {
    "trusted": true
   },
   "outputs": [],
   "source": "from turtle import *\n\nforward(100)\nleft(90)\nforward(60)\nleft(45)\nwidth(5)\nforward(71)\nleft(90)\nforward(71)\nwidth(1)\nleft(45)\nforward(60)\nleft(90)\n\ndone()"
  },
  {
   "cell_type": "markdown",
   "metadata": {},
   "source": "***\n\n## 1.6 Raquette de ping-pong\n\nL'épaisseur de ligne est très utile dans le dessin.\n\n## Exercise 6\nTransformez la raquette de ping-pong en haltères de musculation."
  },
  {
   "cell_type": "code",
   "execution_count": null,
   "metadata": {
    "trusted": true
   },
   "outputs": [],
   "source": "from turtle import *\n\nwidth(20)\nforward(100)\nwidth(80)\nforward(20)\n\ndone()"
  },
  {
   "cell_type": "markdown",
   "metadata": {},
   "source": "## 1.7 Lunettes de soleil\n\nVoici encore un exemple où, avec un simple changement d'épaisseur, vous obtenez un effet très intéressant.\n\n### Exercise 7\nAjoutez la première branche qui manque."
  },
  {
   "cell_type": "code",
   "execution_count": null,
   "metadata": {
    "trusted": true
   },
   "outputs": [],
   "source": "from turtle import *\n\nwidth(50)\nforward(20)\nwidth(10)\nforward(60)\nwidth(50)\nforward(20)\nwidth(10)\nforward(40)\nleft(45)\nforward(60)\n\ndone()"
  },
  {
   "cell_type": "markdown",
   "metadata": {},
   "source": "## 1.8 Commentaire\n\nLe symbole `#` indique un commentaire. Sur PC vous pouvez l'insérer avec **Alt Gr+3** ou **opt+3** sur Mac.\nUn commentaire permet d'ajouter une explication pour le lecteur humain. Il n'a aucune influence sur le programme. Python ignore tout simplement tout commentaire.\n\n## Exercise 8\nExpliquez dans chaque ligne ce que fait l'instruction."
  },
  {
   "cell_type": "markdown",
   "metadata": {},
   "source": "<div class=\"alert alert-block alert-info\"><b>Astuce :</b> Utiliser les raccourcis <b>Ctrl + c</b> pour copier du texte et  <b>Ctrl + v</b> pour coller le texte copié. </div>"
  },
  {
   "cell_type": "code",
   "execution_count": null,
   "metadata": {
    "trusted": true
   },
   "outputs": [],
   "source": "from turtle import *\n\nwidth(50)       # mettre l'épaisseur du trait à 50\nforward(20)     # avancer de 20 pas\nwidth(10)\nforward(60)\nwidth(50)\nforward(20)\nwidth(10)\nforward(40)\nleft(45)\nforward(60)\n\ndone()"
  },
  {
   "cell_type": "markdown",
   "metadata": {},
   "source": "L'exercice précédent servait à expliciter pour un débutant en programmation la signification des commandes écrites en anglais. Normalement on ne fait pas ça, car un programmeur est censé connaitre la signification des commandes.\n\nLes commentaires servent à expliciter la vraie signification d'une partie du programme.\n\n## Exercise 9\nExpliquez cette fois ce que dessine chaque partie du programme (verre, pont, verre, charnière, branche)."
  },
  {
   "cell_type": "code",
   "execution_count": null,
   "metadata": {
    "trusted": true
   },
   "outputs": [],
   "source": "from turtle import *\n\n# dessiner le premier verre\nwidth(50)       \nforward(20)\n\n# dessiner le pont (nez)\nwidth(10)       \nforward(60)\nwidth(50)\nforward(20)\nwidth(10)\nforward(40)\nleft(45)\nforward(60)\n\ndone()"
  },
  {
   "cell_type": "markdown",
   "metadata": {},
   "source": "## 1.9 Équivalence\n\nLa tortue possède 4 fonctions de déplacement, mais à strictement parler, on pourrait s'en sortir avec seulement deux fonctions, `forward()` et `left()`, car :\n\n- `backward(d)` est équivalent à `forward(-d)`\n- `right(a)` est équivalent à `left(-a)`\n\nDans le programme ci-dessous, les 4 lignes du deuxième bloc sont équivalentes aux 4 instructions du premier bloc et donnent un résultat identique.\n\n### Exercice 10\nExpliquez avec un commentaire ce que font les 2 dernières instructions avant le `done()`.\n"
  },
  {
   "cell_type": "code",
   "execution_count": null,
   "metadata": {
    "trusted": true
   },
   "outputs": [],
   "source": "from turtle import *\n\nforward(160)\nleft(90)\nforward(100)\nleft(90)\n\nbackward(-160)  # équivalent à forward(160)\nright(-90)      # équivalent à left(90)\nbackward(-100)\nright(-90)\n\ndone()"
  },
  {
   "cell_type": "markdown",
   "metadata": {},
   "source": "## Exercices d'entraînement "
  },
  {
   "cell_type": "markdown",
   "metadata": {},
   "source": "### Exercice 12\nDessinez un hexagone régulier dont la longueur des côtés vaut 100 (voir la figure ci-dessous)."
  },
  {
   "cell_type": "markdown",
   "metadata": {
    "trusted": true
   },
   "source": "<img src=\"data:image/svg+xml;base64,PD94bWwgdmVyc2lvbj0iMS4wIiBlbmNvZGluZz0idXRmLTgiID8+CjxzdmcgYmFzZVByb2ZpbGU9ImZ1bGwiIGhlaWdodD0iMzAwcHgiIHZlcnNpb249IjEuMSIgd2lkdGg9IjMwMHB4IiB4bWxucz0iaHR0cDovL3d3dy53My5vcmcvMjAwMC9zdmciIHhtbG5zOmV2PSJodHRwOi8vd3d3LnczLm9yZy8yMDAxL3htbC1ldmVudHMiIHhtbG5zOnhsaW5rPSJodHRwOi8vd3d3LnczLm9yZy8xOTk5L3hsaW5rIj48ZGVmcyAvPjxwb2x5bGluZSBjbGlwLXBhdGg9InVybCgjYm9yZGVyX2NsaXApIiBmaWxsPSJub25lIiBwb2ludHM9IjEwMC41LDIwMC41IDIwMC41LDIwMC41IDI1MC41LDExMy44OTc0NTk2MjE1NTYxNCAyMDAuNTAwMDAwMDAwMDAwMDMsMjcuMjk0OTE5MjQzMTEyMjYgMTAwLjUwMDAwMDAwMDAwMDAzLDI3LjI5NDkxOTI0MzExMjIyIDUwLjUsMTEzLjg5NzQ1OTYyMTU1NjA1IDEwMC40OTk5OTk5OTk5OTk5NCwyMDAuNDk5OTk5OTk5OTk5OTQiIHN0cm9rZT0iYmxhY2siIHN0cm9rZS1saW5lY2FwPSJyb3VuZCIgc3Ryb2tlLXdpZHRoPSIxIiAvPjwvc3ZnPg==\" />"
  },
  {
   "cell_type": "markdown",
   "metadata": {},
   "source": "*Exercice tiré du livre **L'informatique simplement** de J. Hromkovic et T. Kohn*"
  },
  {
   "cell_type": "markdown",
   "metadata": {},
   "source": "<div class=\"alert alert-block alert-info\"> \n    <b> Indication</b>\n    <br>\nPour tracer un hexagone, la tortue doit tourner 6 fois. Comme un tour complet représente 360°, à chaque angle la tortue doit tourné de \\( \\frac{360}{6}=60 \\) degrés.\n </div>"
  },
  {
   "cell_type": "code",
   "execution_count": null,
   "metadata": {
    "trusted": true
   },
   "outputs": [],
   "source": "from turtle import *\n\nforward(100)\n\n# à compléter...\n\ndone()"
  },
  {
   "cell_type": "markdown",
   "metadata": {},
   "source": "### Exercice 13\nDessinez une chaise."
  },
  {
   "cell_type": "code",
   "execution_count": null,
   "metadata": {
    "trusted": true
   },
   "outputs": [],
   "source": "from turtle import *\n\nleft(90)\nforward(100)\n\n# à compléter...\n\ndone()"
  },
  {
   "cell_type": "markdown",
   "metadata": {},
   "source": "### Exercice 14\nCommenter le programme ci-dessous afin d'expliquer le but des différents blocs du code."
  },
  {
   "cell_type": "code",
   "execution_count": null,
   "metadata": {
    "trusted": true
   },
   "outputs": [],
   "source": "from turtle import *\n\n# mettre votre commentaire\nforward(200)\nleft(90)\nforward(100)\nleft(90)\nforward(200)\nleft(90)\nforward(100)\nleft(90)\n\n# mettre votre commentaire\nforward(30)\n\n# mettre votre commentaire\nforward(30)\nleft(90)\nforward(50)\nleft(90)\nforward(30)\nleft(90)\nforward(50)\nleft(90)\n\ndone()"
  },
  {
   "cell_type": "markdown",
   "metadata": {},
   "source": "### Exercice 15 *\nÉcrivez un programme qui dessine une maison comme dans le schéma ci-dessous. Elle est formée de plusieurs triangles isocèles rectangles. La longueur des côtés du carré de base est de 185.\n\n![Image de maison](https://framagit.org/mschiess/1IN_Sismondi/-/raw/main/imgs_chap1/exo_maison.png)\n\n*Exercice tiré du livre **L'informatique simplement** de J. Hromkovic et T. Kohn*"
  },
  {
   "cell_type": "markdown",
   "metadata": {},
   "source": "<div class=\"alert alert-block alert-info\"> \n    <b> Indication</b>\n    <br>\npour connaître la longueur du toit et des diagonles, utilisez le théorème de Pythagore.\n </div>"
  },
  {
   "cell_type": "code",
   "execution_count": null,
   "metadata": {
    "trusted": true
   },
   "outputs": [],
   "source": "from turtle import *\n\nforward(185)\nleft(90)\n\n# à compléter...\n\ndone()"
  },
  {
   "cell_type": "markdown",
   "metadata": {},
   "source": "---\n\n#### Remarque générale\n\nCe document est une adaptation d'un ressource pédagogique tiré du catalogue modulo https://modulo-info.ch/. Il est sous license Creative Commons [BY-NC-SA](https://creativecommons.org/licenses/?lang=fr)\n![Licence Creative Commons](https://i.creativecommons.org/l/by-nc-sa/4.0/88x31.png)"
  }
 ],
 "metadata": {
  "celltoolbar": "Éditer les Méta-Données",
  "kernelspec": {
   "display_name": "Python 3 (ipykernel)",
   "language": "python",
   "name": "python3"
  }
 },
 "nbformat": 4,
 "nbformat_minor": 2
}
