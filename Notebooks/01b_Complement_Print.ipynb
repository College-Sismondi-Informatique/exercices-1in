{
 "cells": [
  {
   "cell_type": "markdown",
   "metadata": {},
   "source": "<div style=\"padding:20px;background-color:papayawhip;\" > \n<h3 style=\"color:chocolate\"> <i class=\"fa fa-info\" aria-hidden=\"true\"> </i> &nbsp; Remarque introductive &nbsp;  <i class=\"fa fa-info\" aria-hidden=\"true\"></h3> \n<p> Ce fichier est fait pour être lu sur le site <a href=\"https://notebook.basthon.fr/\"><img src='https://notebook.basthon.fr/assets/efede5218c9087496f16.png' style=\"border: 0; display:inline; margin: 0 5px; height:30px\" alt=\"Basthon\"/></a>. C'est ce logo qui doit s'afficher en haut à gauche de cette fenêtre. <br>\n    \nSi vous l'avez ouvert avec un autre programme, comme Jupyter notebook, vous riquez de rencontrer quelques bugs. <br>\nVeuillez cliquez sur <a href=\"https://notebook.basthon.fr/\">ce lien</a> et y charger ce fichier à l'aide du bouton \"Ouvrir\"  &nbsp; <i class=\"fa fa-folder\" aria-hidden=\"true\"> </i>\n</p> </div>    \n\n    \n!!! warning Toujours sauvegarder votre travail\n- Si c'est la première fois que vous ouvrez la leçon, alors commencer par enregistrer ce notebook sous le nom `Lecon1b_print.ipynb` dans vos documents sous le dossier `02_programmation` (utiliser le bouton <i class=\"fa fa-save\"> </i>) ou exercice. \n- Avant de fermer la fenêtre il ne faut pas oublier de réenregistrer le notebook avec le même nom (répondre oui à \"remplacer le fichier\").\n- Pour reprendre votre travail, il suffit d'ouvrir le fichier .ipynb en cliquant sur le bouton \"Ouvrir\"  &nbsp; <i class=\"fa fa-folder\" aria-hidden=\"true\"> \n!!!\n"
  },
  {
   "cell_type": "markdown",
   "metadata": {},
   "source": "# 1b. Afficher de l'information et faire des calculs\nDans ce notebook nous apporterons quelques compléments aux notions abordées dans le premier *notebook*.\n\nLes programmes ne se limitent pas à la réalisation de graphiques ou de dessin. En fait, pendant longtemps, le seul moyen d'interagir avec un programme était par le biais du texte.\n\nPar conséquent, les programmes sont également capables de manipuler du texte, y compris de lire, d'écrire et d'afficher des textes sur un écran. Dans ce contexte, les commandes `from turtle import *` et `done()`, habituellement utilisées pour le dessin avec la tortue, deviennent inutiles. En terme informatique, les textes sont appelés des chaînes de caractères (str en python).\n\n## L'instruction Print\nLa première instruction que nous allons voir est la fonction print qui permet d'afficher du texte à l'écran.\n\nEn Python, l'instruction `print(\"blabla\")` affiche le texte `blabla` dans la console (partie nommée Sortie). \n\n\n!!! danger Important\nles parenthèses et les guillemets sont nécessaires. On verra pourquoi par la suite.\n!!!"
  },
  {
   "cell_type": "markdown",
   "metadata": {},
   "source": "<h3 style=\"color:teal;background-color:azure;\" > <i class=\"fa fa-pencil\" aria-hidden=\"true\"> </i> &nbsp; Exercice 1 </h3>\n\n1. Tester le programme suivant en appuyant sur Ctrl + Enter ou le bouton Exécuter en haut.\n2. Modifier le programme afin qu'il affiche le titre de votre film préféré à la place de blabla blablabla."
  },
  {
   "cell_type": "code",
   "execution_count": 1,
   "metadata": {
    "trusted": true
   },
   "outputs": [
    {
     "name": "stdout",
     "output_type": "stream",
     "text": "blabla blablabla\n"
    }
   ],
   "source": "print(\"blabla blablabla\")"
  },
  {
   "cell_type": "markdown",
   "metadata": {},
   "source": "<h3 style=\"color:teal;background-color:azure;\" > <i class=\"fa fa-pencil\" aria-hidden=\"true\"> </i> &nbsp; Exercice 2 </h3>\n\nÉcrire un programme qui permet d'afficher le texte `Vive l'instruction print !`, puis vérifier en appuyant sur Ctrl + Enter."
  },
  {
   "cell_type": "code",
   "execution_count": 3,
   "metadata": {
    "trusted": false
   },
   "outputs": [],
   "source": "# à compléter"
  },
  {
   "cell_type": "markdown",
   "metadata": {},
   "source": "### Afficher plusieurs lignes de texte\nPour afficher plusieurs lignes, il suffit de répéter l'instruction `print` avec un notre message.\nAinsi, le code suivant :\n\n```python\nprint(\"blabla\")\nprint(\"blibli\")\n```\n\naffichera une ligne ` blabla ` puis à la ligne suivante ` blibli`.\n\n\n<h3 style=\"color:teal;background-color:azure;\" > <i class=\"fa fa-pencil\" aria-hidden=\"true\"> </i> &nbsp; Exercice 3 </h3>\n\nCompléter le programme pour afficher le texte sur trois lignes comme ci-dessous:\n```\nBonjour !\nComment allez-vous ?\nIl fait beau aujourd'hui.\n```"
  },
  {
   "cell_type": "code",
   "execution_count": null,
   "metadata": {
    "trusted": false
   },
   "outputs": [],
   "source": "print(\"Bonjour !\")"
  },
  {
   "cell_type": "markdown",
   "metadata": {},
   "source": "### Corriger des erreurs\nLe code suivant comporte des erreurs de syntaxe. Corrigez-les !"
  },
  {
   "cell_type": "code",
   "execution_count": null,
   "metadata": {
    "trusted": true
   },
   "outputs": [],
   "source": "print\"Aujourd'hui\"\nprint(le temps est mitigé,)\nprint(\"mais je vais quand même sortir.)"
  },
  {
   "cell_type": "markdown",
   "metadata": {},
   "source": "### Des programmes qui calculent\n\nLa fonction `print` ne sert pas uniquement à afficher du texte, elle permet également d'afficher le résultat de l'évaluation d'expressions, notamment des opérations arithmétiques.\n\nPar exemple, `print(3+3)` affichera le résultat de l'opération 3+3, soit... `6`. "
  },
  {
   "cell_type": "markdown",
   "metadata": {},
   "source": "!!! warning Afficher une chaîne de caractères Vs afficher le résultat d'une expression\nPour effectuer le calcul, il faut ôter les guillemets, sinon le programme affichera le texte de l'expression et non son résultat. Par exemple, l'instruction `print(\"3+3\")` afficherait simplement `3+3` et pas `6`.\n!!!"
  },
  {
   "cell_type": "markdown",
   "metadata": {},
   "source": "<h3 style=\"color:teal;background-color:azure;\" > <i class=\"fa fa-pencil\" aria-hidden=\"true\"> </i> &nbsp; Exercice 4 </h3>\n\nTeste le code ci-dessous puis modifiez-le afin d'afficher le résultat de **18975 + 98756** dans la console, et vérifiez en appuyant sur Ctrl + Enter."
  },
  {
   "cell_type": "code",
   "execution_count": null,
   "metadata": {
    "trusted": false
   },
   "outputs": [],
   "source": "print(3+3)"
  },
  {
   "cell_type": "markdown",
   "metadata": {},
   "source": "### 🔢 Les opérations avec les nombres en Python\n\nEn programmation **Python**, on dispose des opérateurs mathématiques suivants :  \n\n| Opérateur | Signification              | Exemple | Résultat |\n|-----------|-----------------------------|---------|----------|\n| `+`       | Addition                   | `5 + 3` | `8` |\n| `-`       | Soustraction                | `9 - 4` | `5` |\n| `*`       | Multiplication              | `6 * 7` | `42` |\n| `/`       | Division (résultat flottant)| `9 / 2` | `4.5` |\n| `**`      | Puissance                   | `2 ** 3` | `8` |\n| `//`      | Division entière (quotient) | `9 // 2` | `4` |\n| `%`       | Reste de la division entière| `17 % 5` | `2` |\n\n---\n\n📌 **Exemple illustratif** :  \n\n```python\nprint(9 // 2)   # donnera 4, c'est le quotient de la division de 9 par 2.\nprint(17 % 5)   # donnera 2, c'est le reste de la division de 17 par 5.\n```\n![Image de losange](https://github.com/College-Sismondi-Informatique/exercices-1in/blob/main/Notebooks/imgs_chap1/div_eucl.png?raw=true)\n\n<h3 style=\"color:teal;background-color:azure;\" > <i class=\"fa fa-pencil\" aria-hidden=\"true\"> </i> &nbsp; Exercice 5 </h3>\n\n👉 **Consignes :**\n1. Tester tous les opérateurs mathématiques vus ci-dessus (`+`, `-`, `*`, `/`, `**`, `//`, `%`).  \n2. Écrire un programme Python qui calcule :  \n\n$$\n\\frac{264 \\times 53}{22} + 274 \n$$\n\n✅ Si votre programme fonctionne correctement, il doit afficher **910**.  \n\n---\n\n💡 **Indice :**  \n- Attention à bien utiliser les parenthèses pour respecter l’ordre des opérations.  \n\n\n"
  },
  {
   "cell_type": "code",
   "execution_count": null,
   "metadata": {
    "trusted": false
   },
   "outputs": [],
   "source": "# mon programme\n"
  },
  {
   "cell_type": "markdown",
   "metadata": {},
   "source": "\n<h3 style=\"color:teal;background-color:azure;\" > <i class=\"fa fa-pencil\" aria-hidden=\"true\"> </i> &nbsp; Exercice 6 </h3>\n\nNoter sur une feuille de papier ce qui va être affiché par chacune des instructions suivantes:\n\n    1. print(3+5)\n    2. print(7*2)\n    3. print(8/4)\n    4. print(7/2)\n    5. print(7//2)\n    6. print(2**3)\n    7. print(13%5)\n"
  },
  {
   "cell_type": "raw",
   "metadata": {},
   "source": "Noter ici:\n"
  },
  {
   "cell_type": "markdown",
   "metadata": {},
   "source": "<details>\n<summary style=\"border-left:3px solid #3c763d; border-radius:2pt; width:100%; color:#3c763d; padding:6px; background-color: #dff0d8\"> \nRéponses\n</summary>  \n\n<div style=\"border-left:3px solid #3c763d; border-radius:2pt; color:#3c763d; padding:6px; background-color: #eff0e8\">\n\n1. `8`<br>\n2. `14`<br>\n3. `2`<br>\n4. `3.5`<br>\n5. `3`<br>\n6. `8`<br>\n7. `3`<br>\n    \n</div>\n</details>"
  },
  {
   "cell_type": "markdown",
   "metadata": {},
   "source": "<h3 style=\"color:teal;background-color:azure;\" > <i class=\"fa fa-pencil\" aria-hidden=\"true\"> </i> &nbsp; Exercice 7 </h3>\n\nQuelle opération pourrait-on utiliser pour reconnaître si un nombre est pair ou impair? (une opération qui donnerait toujours le même résultat si le nombre est pair et toujours le même résultat si le nombre est impair)\n"
  },
  {
   "cell_type": "markdown",
   "metadata": {},
   "source": "<details>\n<summary style=\"border-left:3px solid #3c763d; border-radius:2pt; width:100%; color:#3c763d; padding:6px; background-color: #dff0d8\"> \nRéponse\n</summary>  \n\n<div style=\"border-left:3px solid #3c763d; border-radius:2pt; color:#3c763d; padding:6px; background-color: #eff0e8\">\n\nOn utilise le reste de la division entière (opérateur `%` par 2. Si le résultat est 0 le nombre est pair, si il vaut 1 c'est qu'il est impair. \n    \n</div>\n</details>"
  },
  {
   "cell_type": "markdown",
   "metadata": {},
   "source": "<h3 style=\"color:teal;background-color:azure;\" > <i class=\"fa fa-pencil\" aria-hidden=\"true\"> </i> &nbsp; Exercice 8 </h3>\n\nNoter sur une feuille de papier ou ci-dessous ce qui va être affiché par chacune des instructions suivantes:\n\n    1. print(98145 % 2)\n    2. print(7841592 % 2)\n    3. print(879 % 10)\n  "
  },
  {
   "cell_type": "raw",
   "metadata": {},
   "source": "Notez ici:\n"
  },
  {
   "cell_type": "markdown",
   "metadata": {},
   "source": "<details>\n<summary style=\"border-left:3px solid #3c763d; border-radius:2pt; width:100%; color:#3c763d; padding:6px; background-color: #dff0d8\"> \nRéponses\n</summary>  \n\n<div style=\"border-left:3px solid #3c763d; border-radius:2pt; color:#3c763d; padding:6px; background-color: #eff0e8\">\n\n1. `1`<br>\n2. `0`<br>\n3. `9`<br>\n\n    \n</div>\n</details>"
  },
  {
   "cell_type": "markdown",
   "metadata": {},
   "source": "<h3 style=\"color:teal;background-color:azure;\" > <i class=\"fa fa-pencil\" aria-hidden=\"true\"> </i> &nbsp; Exercice 9 </h3>\n\nEcrire un programme qui permet de savoir si 27 est un multiple de 23528232"
  },
  {
   "cell_type": "code",
   "execution_count": 17,
   "metadata": {
    "trusted": false
   },
   "outputs": [
    {
     "data": {
      "text/plain": "23528232"
     },
     "execution_count": 17,
     "metadata": {},
     "output_type": "execute_result"
    }
   ],
   "source": "# mon programme\n"
  },
  {
   "cell_type": "markdown",
   "metadata": {},
   "source": "## 💡Le cas des nombres à virgule flottante*\n\nComme étudié dans la théorie, il y a deux manières de coder les nombres afin de les représenter:\n- Les entiers (`int`) qui représentent les nombres entiers sans virgule. Exemples : 3, 100, -20.\n- Les flottants (`float`) qui représentent, de manière approximative, les nombres avec des décimales. Le point est utilisé au lieu de la virgule. Par exemple, 3.5, -0.001, 2.0.\n\nC'est pourquoi les nombres peuvent être de types `int` ou `float`, comme on le voit en utilsant la fontion type:"
  },
  {
   "cell_type": "code",
   "execution_count": 12,
   "metadata": {
    "scrolled": true,
    "trusted": false
   },
   "outputs": [
    {
     "name": "stdout",
     "output_type": "stream",
     "text": "<class 'int'>\n<class 'float'>\n"
    }
   ],
   "source": "print(type(17))\nprint(type(3.14))"
  },
  {
   "cell_type": "markdown",
   "metadata": {},
   "source": "Attention les `float` sont représentés en utilisant une décomposition parfois approximative) en puissance de 2 (voir la théorie des nombres à virgules flottantes). Par exemple, le nombre $0,1_{(10)}$ n'a pas d'écriture exacte en base 2 (voir ce [lien](https://cours-info-nsi-56cb21fb8d50d1af289d9150b1042c010be13879c6badb00.forge.apps.education.fr/premiere/Donnees/c4c_nb_flottants/) pour une explication complète). On peut vérifier, en exécutant le programme ci-dessous, que le calcul $0,1_{(10)} + 0,2_{(10)}$ ne donne pas exactement $0,3$ :"
  },
  {
   "cell_type": "code",
   "execution_count": 3,
   "metadata": {
    "scrolled": true,
    "trusted": true
   },
   "outputs": [
    {
     "name": "stdout",
     "output_type": "stream",
     "text": "0.30000000000000004\n"
    }
   ],
   "source": "print(0.1+0.2)"
  },
  {
   "cell_type": "markdown",
   "metadata": {},
   "source": "??? tip Pour aller plus loin\nSi on représente le nombre $0,1_{(10)}$ avec un codage binaire à virgule flottante on obtient un deéveloppement périodique:\n$$0,1_{(10)} = 0,00011001100110011001100|\\overline{1100}_{(2)}$$\nPar exemple avec 24 bits, l'erreur commise est donc d'environ \n$$0,000000000000000000000001100 \\simeq 9,54 \\times 10^{-8}$$\n???\n"
  },
  {
   "cell_type": "markdown",
   "metadata": {},
   "source": "??? tip Problèmes d'arrondi: Missile guerre du Golf (1991) - Fusée Ariane 5 (1996)\n\nVoici deux exemples de désastres causés par une mauvaise gestion des erreurs d'arrondi :\n\nLe 25 février 1991, pendant la Guerre du Golfe, une batterie américaine de missiles Patriot, à Dharan (Arabie Saoudite), a échoué dans l'interception d'un missile Scud irakien. Le Scud a frappé un baraquement de l'armée américaine et a tué 28 soldats. La commission d'enquête a conclu à un calcul incorrect du temps de parcours, dû à un problème d'arrondi. Les nombres étaient représentés en virgule fixe sur 24 bits. Le temps était compté par l'horloge interne du système en 1/10 de seconde. Malheureusement, 1/10 n'a pas d'écriture finie dans le système binaire : 1/10 = 0,1 (dans le système décimal) = 0,0001100110011001100110011... (dans le système binaire). L'ordinateur de bord arrondissait 1/10 à 24 chiffres, d'où une petite erreur dans le décompte du temps pour chaque 1/10 de seconde. Au moment de l'attaque, la batterie de missile Patriot était allumée depuis environ 100 heures, ce qui avait entraîné une accumulation des erreurs d'arrondi de 0,34 s. Pendant ce temps, un missile Scud parcourt environ 500 m, ce qui explique que le Patriot soit passé à côté de sa cible.\n\nLe 4 juin 1996, une fusée Ariane 5 a explosé 40 secondes après l'allumage. La fusée et son chargement avaient coûté 500 millions de dollars. La commission d'enquête a rendu son rapport au bout de deux semaines. Il s'agissait d'une erreur de programmation dans le système inertiel de référence. À un moment donné, un nombre codé en virgule flottante sur 64 bits (qui représentait la vitesse horizontale de la fusée par rapport à la plate-forme de tir) était converti en un entier sur 16 bits. Malheureusement, le nombre en question était plus grand que 32768, le plus grand entier que l'on peut coder sur 16 bits, et la conversion a été incorrecte.\n???"
  },
  {
   "cell_type": "markdown",
   "metadata": {},
   "source": "## Utiliser le binaire ou l'hexadécimal\n\n### Conversion binaire → décimal\n\nEn Python, il est possible d’écrire directement un nombre entier en **binaire**.  \nPour cela, on utilise le préfixe **`0b`** devant le nombre.  \n\n---\n\n📌 **Exemple :**\n\nLe nombre binaire `10111` peut être écrit en Python sous la forme :  \n\n```python\nprint(0b10111)\n"
  },
  {
   "cell_type": "code",
   "execution_count": 4,
   "metadata": {
    "scrolled": false,
    "trusted": true
   },
   "outputs": [
    {
     "name": "stdout",
     "output_type": "stream",
     "text": "23\n"
    }
   ],
   "source": "print(0b10111)"
  },
  {
   "cell_type": "markdown",
   "metadata": {},
   "source": "\n<h3 style=\"color:teal;background-color:azure;\" > <i class=\"fa fa-pencil\" aria-hidden=\"true\"> </i> &nbsp; Exercice 10 </h3>\n\nÉcrire un programme Python qui affiche la valeur **décimale** des nombres binaires suivants : \n\n- $1001001 _{(2)}$\n- $111001 _{(2)}$\n- $11001001001 _{(2)}$"
  },
  {
   "cell_type": "raw",
   "metadata": {},
   "source": "Noter vos résultats ici:\n\nLe nombre 01001001, en décimal, vaut ?\n    Réponse : \nLe nombre 111001, en décimal, vaut ?\n    Réponse : \nLe nombre 11001001001, en décimal, vaut ?\n    Réponse : "
  },
  {
   "cell_type": "markdown",
   "metadata": {},
   "source": "---\n### Conversion décimal →  binaire\nPour afficher la représentation **binaire** d’un nombre entier en Python,  \non peut utiliser la fonction intégrée `bin(...)`:"
  },
  {
   "cell_type": "code",
   "execution_count": 2,
   "metadata": {
    "scrolled": true,
    "trusted": false
   },
   "outputs": [
    {
     "name": "stdout",
     "output_type": "stream",
     "text": "0b10111\n"
    }
   ],
   "source": "print(bin(23))"
  },
  {
   "cell_type": "markdown",
   "metadata": {},
   "source": "\n<h3 style=\"color:teal;background-color:azure;\" > <i class=\"fa fa-pencil\" aria-hidden=\"true\"> </i> &nbsp; Exercice 11 </h3>\n\nÉcrire un programme Python qui affiche la représentation **binaire** des nombres suivants :\n\n- $14646841 _{(10)}$\n- $8156468435 _{(10)}$\n- $99999999 _{(10)}$"
  },
  {
   "cell_type": "raw",
   "metadata": {},
   "source": "Noter vos résultats ici:\n\nLe nombre 14646841, en binaire, vaut ?\n    Réponse : \nLe nombre 8156468435, en binaire, vaut ?\n    Réponse : \nLe nombre 99999999, en binaire, vaut ?\n    Réponse : "
  },
  {
   "cell_type": "markdown",
   "metadata": {},
   "source": "## 🖨️ Afficher plusieurs valeurs avec `print`\n\nEn Python, il est possible d’afficher plusieurs valeurs sur une **même ligne** avec la fonction `print(...)`.  \nPour cela, il suffit de **séparer les éléments par des virgules**.  \n\n📌 **Exemple :**\n\n```python\nprint(\"Aujourd'hui, j'ai\", 20 * 2 + 1, \"ans\")\n```\nAffichera:\n`Aujourd'hui, j'ai 41 ans`.\n\n<h3 style=\"color:teal;background-color:azure;\" > <i class=\"fa fa-pencil\" aria-hidden=\"true\"> </i> &nbsp; Exercice 12 </h3>\n\nEcrire un programme qui affiche `Dans une images codé en 24 bit il y a 2**24 couleurs` où à la place de `2**24` il y a le résultat du calcul (c'est-à-dire le résultat de $2^{24}$) . Vérifier en appuyant sur Ctrl + Enter."
  },
  {
   "cell_type": "code",
   "execution_count": null,
   "metadata": {
    "trusted": false
   },
   "outputs": [],
   "source": "# à compléter"
  },
  {
   "cell_type": "markdown",
   "metadata": {},
   "source": "## 🔡 Le code ASCII\n\nEn Python, il est possible de connaître la **position d’un caractère** dans la table ASCII grâce à la fonction `ord(...)`.  \n\n📌 **Exemple :**\n\n```python\nprint(ord(\"A\"))\n```\n\nPar exemple, exécuter le programme ci-dessous afin de voir..."
  },
  {
   "cell_type": "code",
   "execution_count": 18,
   "metadata": {
    "trusted": false
   },
   "outputs": [
    {
     "name": "stdout",
     "output_type": "stream",
     "text": "65\n"
    }
   ],
   "source": "print(ord(\"A\"))"
  },
  {
   "cell_type": "markdown",
   "metadata": {},
   "source": "...que le caractère `A` se trouve à la position 65. \n\n<h3 style=\"color:teal;background-color:azure;\" > <i class=\"fa fa-pencil\" aria-hidden=\"true\"> </i> &nbsp; Exercice 13 </h3>\n\nÉcrire un programme Python qui affiche les **codes ASCII** des caractères de la chaîne suivante : `\"Info\"` \n\n"
  },
  {
   "cell_type": "code",
   "execution_count": null,
   "metadata": {
    "trusted": false
   },
   "outputs": [],
   "source": "# à compléter\n"
  },
  {
   "cell_type": "markdown",
   "metadata": {},
   "source": "En Python, il est possible d’obtenir un **caractère** à partir de sa **position dans la table ASCII** grâce à la fonction `chr(...)`. Par exemple, exécuter le programme ci-dessous afin de voir \n"
  },
  {
   "cell_type": "code",
   "execution_count": 22,
   "metadata": {
    "trusted": false
   },
   "outputs": [
    {
     "name": "stdout",
     "output_type": "stream",
     "text": "M A T H S\n"
    }
   ],
   "source": "print(chr(77),chr(65),chr(84), chr(72), chr(83))"
  },
  {
   "cell_type": "markdown",
   "metadata": {},
   "source": "que les caractères aux positions 77 65 84 72 83 sont `\"M\"` `\"A\"` `\"T\"` `\"H\"` `\"S\"` \n\n<h3 style=\"color:teal;background-color:azure;\" > <i class=\"fa fa-pencil\" aria-hidden=\"true\"> </i> &nbsp; Exercice 14 </h3>\nÉcrire un programme Python qui reconstitue le texte représenté par la suite de **codes binaires ASCII** suivante :  \n\n`01000011 00100111 01100101 01110011 01110100 00100000 01100110 01100001 01100011 01101001 01101100 01100101`\n\n\n"
  },
  {
   "cell_type": "code",
   "execution_count": null,
   "metadata": {
    "trusted": false
   },
   "outputs": [],
   "source": "# à compléter"
  },
  {
   "cell_type": "markdown",
   "metadata": {},
   "source": "### L'ASCII Art\n\nL’ASCII art est une forme d’art numérique qui utilise uniquement des caractères du code ASCII (lettres, chiffres, symboles) pour créer des images, motifs ou représentations visuelles.\n\n```\n       -''--.\n       _`>   `\\.-'<\n    _.'     _     '._\n  .'   _.='   '=._   '.\n  >_   / /_\\ /_\\ \\   _<\n    / (  \\o/\\\\o/  ) \\\n    >._\\ .-,_)-. /_.<\n        /__/ \\__\\ \n          '---'     E=mc^2\n```\n"
  },
  {
   "cell_type": "markdown",
   "metadata": {},
   "source": "\n<h3 style=\"color:teal;background-color:azure;\" > <i class=\"fa fa-pencil\" aria-hidden=\"true\"> </i> &nbsp; Exercice 15 </h3>\n\nEcrire un programme qui affiche un sapin\n```\n   X\n  XXX\n XXXXX\nXXXXXXX\n   X\n   X\n```"
  },
  {
   "cell_type": "code",
   "execution_count": null,
   "metadata": {
    "trusted": false
   },
   "outputs": [],
   "source": "# à compléter"
  },
  {
   "cell_type": "markdown",
   "metadata": {},
   "source": "\n<h3 style=\"color:teal;background-color:azure;\" > <i class=\"fa fa-pencil\" aria-hidden=\"true\"> </i> &nbsp; Exercice 16 </h3>\n\nEcrire un programme qui affiche les annimaux suivants\n```\n|\\---/|\n| o_o |\n \\_^_/\n```\n```\n       _.-- ,.--.\n     .'   .'      /\n     | @       |'..--------._\n    /      \\\\._/              '.\n   /  .-.-                     \\\\\n  (  /    \\\\                     \\\\\n  \\\\      '.                  | #\n   \\\\       \\\\   -.           /\n    :\\\\       |    )._____.'   \n     \"       |   /  \\\\  |  \\\\\n             |   |./'  :__ \\\\\n             '--'\n        ELEPHANT\n```\n*Voir sur [www.asciiart.eu](https://www.asciiart.eu/animals) d'autres idées*"
  },
  {
   "cell_type": "code",
   "execution_count": null,
   "metadata": {
    "trusted": false
   },
   "outputs": [],
   "source": "# à compléter"
  },
  {
   "cell_type": "markdown",
   "metadata": {},
   "source": "<h3 style=\"color:teal;background-color:azure;\" > <i class=\"fa fa-pencil\" aria-hidden=\"true\"> </i> &nbsp; Exercice 17 </h3>\n\nUtiliser votre identifiant EEL et le mot de passe *Sismondi2025* pour faire les exercices de la **série A** de la plateforme [AlgoPython](https://www.algopython.fr/login). [![A mushroom-head robot](https://www.algopython.fr/css/img/navbar-logo.png 'AlgoPython')](https://www.algopython.fr/login)\n\n"
  },
  {
   "cell_type": "markdown",
   "metadata": {},
   "source": "---\n\n#### Remarque générale\n\nCe document a été élaboré par les enseignant du collège Sismondi à Genève. Il est sous license Creative Commons [BY-NC-SA](https://creativecommons.org/licenses/?lang=fr)\n![Licence Creative Commons](https://i.creativecommons.org/l/by-nc-sa/4.0/88x31.png)\n"
  },
  {
   "cell_type": "code",
   "execution_count": null,
   "metadata": {
    "trusted": false
   },
   "outputs": [],
   "source": ""
  }
 ],
 "metadata": {
  "kernelspec": {
   "display_name": "Python 3",
   "language": "python",
   "name": "python3"
  }
 },
 "nbformat": 4,
 "nbformat_minor": 2
}
