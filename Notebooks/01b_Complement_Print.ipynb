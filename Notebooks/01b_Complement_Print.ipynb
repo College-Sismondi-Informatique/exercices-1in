{
 "cells": [
  {
   "cell_type": "markdown",
   "metadata": {},
   "source": "<div style=\"padding:20px;background-color:papayawhip;\" > \n<h3 style=\"color:chocolate\"> <i class=\"fa fa-info\" aria-hidden=\"true\"> </i> &nbsp; Remarque introductive &nbsp;  <i class=\"fa fa-info\" aria-hidden=\"true\"></h3> \n<p> Ce fichier est fait pour être lu sur le site <a href=\"https://notebook.basthon.fr/\"><img src='https://notebook.basthon.fr/assets/efede5218c9087496f16.png' style=\"border: 0; display:inline; margin: 0 5px; height:30px\" alt=\"Basthon\"/></a>. C'est ce logo qui doit s'afficher en haut à gauche de cette fenêtre. <br>\n    \nSi vous l'avez ouvert avec un autre programme, comme Jupyter notebook, vous riquez de rencontrer quelques bugs. <br>\nVeuillez cliquez sur <a href=\"https://notebook.basthon.fr/\">ce lien</a> et y charger ce fichier à l'aide du bouton \"Ouvrir\"  &nbsp; <i class=\"fa fa-folder\" aria-hidden=\"true\"> </i>\n</p> </div>    \n\n<div class = \"alert  alert-danger\"> \n    \nAttention: **veillez à bien sauvegarder votre travail** dans le bon dossier du disque réseau (dossier document) avec le bon nom (et l'extension *.ipynb*), **sinon toutes les modifications seront perdues!**\n\nPour reprendre votre travail, il suffit d'ouvrir le fichier .ipynb en cliquant sur le bouton \"Ouvrir\"  &nbsp; <i class=\"fa fa-folder\" aria-hidden=\"true\"> \n</div>"
  },
  {
   "cell_type": "markdown",
   "metadata": {},
   "source": "# 1b. Afficher de l'information et faire des calculs\nDans ce notebook nous apporterons quelques compléments aux notions abordées dans le premier *notebook*\n\nLes programmes ne se limitent pas à la réalisation de graphiques. En fait, pendant longtemps, le seul moyen d'interagir avec un programme était par le biais du texte.\n\nPar conséquent, les programmes sont également capables de manipuler du texte, y compris de lire, d'écrire et d'afficher des textes sur un écran. Dans ce contexte, les commandes `from turtle import *` et `done()`, habituellement utilisées pour le dessin avec la tortue, deviennent inutiles. En terme informatique, les textes sont appelés des chaînes de caractères.\n\n## L'instruction Print\nLa première instruction que nous allons voir est la fonction print qui permet d'afficher du texte à l'écran.\n\nEn Python, l'instruction `print(\"blabla\")` affiche le texte `blabla` dans la console à droite. \n\n\n!!! danger Important\nles parenthèses et les guillemets sont nécessaires\n!!!"
  },
  {
   "cell_type": "markdown",
   "metadata": {},
   "source": "<h3 style=\"color:teal;background-color:azure;\" > <i class=\"fa fa-pencil\" aria-hidden=\"true\"> </i> &nbsp; Exercice 1 </h3>\n\n1. Tester le programme suivant en appuyant sur Ctrl + Enter\n2. Modifier le programme afin qu'il affiche le titre de votre film préféré."
  },
  {
   "cell_type": "code",
   "execution_count": 1,
   "metadata": {
    "trusted": false
   },
   "outputs": [
    {
     "name": "stdout",
     "output_type": "stream",
     "text": "blabla\n"
    }
   ],
   "source": "print(\"blabla\")"
  },
  {
   "cell_type": "markdown",
   "metadata": {},
   "source": "<h3 style=\"color:teal;background-color:azure;\" > <i class=\"fa fa-pencil\" aria-hidden=\"true\"> </i> &nbsp; Exercice 2 </h3>\n\nÉcrire un programme qui permet d'afficher le texte `Vive l'instruction print !`, puis vérifie en appuyant sur Ctrl + Enter."
  },
  {
   "cell_type": "code",
   "execution_count": 3,
   "metadata": {
    "trusted": false
   },
   "outputs": [],
   "source": "# à compléter"
  },
  {
   "cell_type": "markdown",
   "metadata": {},
   "source": "### Afficher plusieurs lignes de texte\nPour afficher plusieurs lignes, il suffit de répéter l'instruction `print` avec un notre message.\nAinsi, le code suivant :\n\n```python\nprint(\"blabla\")\nprint(\"blibli\")\n```\n\naffichera une ligne ` blabla ` puis une ligne ` blibli`.\n\n\n<h3 style=\"color:teal;background-color:azure;\" > <i class=\"fa fa-pencil\" aria-hidden=\"true\"> </i> &nbsp; Exercice 3 </h3>\n\nComplète le programme pour afficher pous afficher le texte sur trois lignes suivant:\n```\nBonjour !\nComment allez-vous ?\nIl fait beau aujourd'hui.\n```"
  },
  {
   "cell_type": "code",
   "execution_count": null,
   "metadata": {
    "trusted": false
   },
   "outputs": [],
   "source": "print(\"Bonjour !\")"
  },
  {
   "cell_type": "markdown",
   "metadata": {},
   "source": "### Des programmes qui calculent\n\nLa fonction `print` ne sert pas qu'à afficher du texte, elle permet également d'afficher le résultat d'expressions, notamment des opérations arithmétiques.\n\nPar exemple, `print(3+3)` affichera le résultat de l'opération, soit... `6`. "
  },
  {
   "cell_type": "markdown",
   "metadata": {},
   "source": "!!! warning Afficher une chaîne de caractères Vs afficher le résultat d'une expression\nPour effectuer le calcul, il faut ôter les guillemets, sinon le programme affichera le l'expression et non sont résultat. Par exemple, l'instruction `print(\"3+3\")` afficherait simplement `3+3` et pas `6`.\n!!!"
  },
  {
   "cell_type": "markdown",
   "metadata": {},
   "source": "<h3 style=\"color:teal;background-color:azure;\" > <i class=\"fa fa-pencil\" aria-hidden=\"true\"> </i> &nbsp; Exercice 4 </h3>\n\nTeste le code ci-dessous puis modifie-le afin d'afficher le résultat de **18975 + 98756** dans la console, et vérifie en appuyant sur Ctrl + Enter."
  },
  {
   "cell_type": "code",
   "execution_count": null,
   "metadata": {
    "trusted": false
   },
   "outputs": [],
   "source": "print(3+3)"
  },
  {
   "cell_type": "markdown",
   "metadata": {},
   "source": "### Les opérations avec les nombres\n\nEn programmation `Python`, on a les opérateurs mathématiques suivant : \n*  \\+ pour  l'addition\n* \\- pour la soustraction\n* \\*  pour la multiplication\n* \\/ pour la division\n* \\*\\* pour la puissance\n* \\// pour la division entière\n    - Par Exemple `print(9//2)` donnera `4`, c'est le quotient de la division de 9 par 2.\n* \\% pour le reste de la division entière\n    - Par Exemple `print(17%5)` donnera `2`, c'est le reste de la division de 17 par 5.\n\n![Image de losange](https://github.com/College-Sismondi-Informatique/exercices-1in/blob/main/Notebooks/imgs_chap1/div_eucl.png?raw=true)\n\n<h3 style=\"color:teal;background-color:azure;\" > <i class=\"fa fa-pencil\" aria-hidden=\"true\"> </i> &nbsp; Exercice 5 </h3>\n\nTester tous ces opérateurs pour bien comprendre les derniers, puis écrire un programme qui affiche le résultat du calcul $(264 · 53)/22+274$. Si votre programme fonctionne il doit afficher 910."
  },
  {
   "cell_type": "code",
   "execution_count": null,
   "metadata": {
    "trusted": true
   },
   "outputs": [],
   "source": "# mon programme\n"
  },
  {
   "cell_type": "markdown",
   "metadata": {},
   "source": "\n<h3 style=\"color:teal;background-color:azure;\" > <i class=\"fa fa-pencil\" aria-hidden=\"true\"> </i> &nbsp; Exercice 6 </h3>\n\nNoter sur une feuille de papier ce qui va être affiché par chacune des instructions suivantes:\n\n    1. print(3+5)\n    2. print(7*2)\n    3. print(8/4)\n    4. print(7/2)\n    5. print(7//2)\n    6. print(2**3)\n    7. print(13%5)\n"
  },
  {
   "cell_type": "markdown",
   "metadata": {},
   "source": "<details>\n<summary style=\"border-left:3px solid #3c763d; border-radius:2pt; width:100%; color:#3c763d; padding:6px; background-color: #dff0d8\"> \nRéponses\n</summary>  \n\n<div style=\"border-left:3px solid #3c763d; border-radius:2pt; color:#3c763d; padding:6px; background-color: #eff0e8\">\n\n1. `8`<br>\n2. `14`<br>\n3. `2`<br>\n4. `3.5`<br>\n5. `3`<br>\n6. `8`<br>\n7. `3`<br>\n    \n</div>\n</details>"
  },
  {
   "cell_type": "markdown",
   "metadata": {},
   "source": "<h3 style=\"color:teal;background-color:azure;\" > <i class=\"fa fa-pencil\" aria-hidden=\"true\"> </i> &nbsp; Exercice 7 </h3>\n\nQuelle opération pourrait-on utiliser pour reconnaître si un nombre est pair ou impair? (une opération qui donnerait toujours le même résultat si le nombre est pair et toujours le même résultat si le nombre est impair)\n"
  },
  {
   "cell_type": "markdown",
   "metadata": {},
   "source": "<details>\n<summary style=\"border-left:3px solid #3c763d; border-radius:2pt; width:100%; color:#3c763d; padding:6px; background-color: #dff0d8\"> \nRéponse\n</summary>  \n\n<div style=\"border-left:3px solid #3c763d; border-radius:2pt; color:#3c763d; padding:6px; background-color: #eff0e8\">\n\nOn utilise le reste de la division entière (opérateur `%` par 2. Si le résultat est 0 le nombre est pair, si il vaut 1 c'est qu'il est impair. \n    \n</div>\n</details>"
  },
  {
   "cell_type": "markdown",
   "metadata": {},
   "source": "<h3 style=\"color:teal;background-color:azure;\" > <i class=\"fa fa-pencil\" aria-hidden=\"true\"> </i> &nbsp; Exercice 8 </h3>\n\nNoter sur une feuille de papier ce qui va être affiché par chacune des instructions suivantes:\n\n    1. print(98145 % 2)\n    2. print(7841592 % 2)\n    3. print(879 % 10)\n  "
  },
  {
   "cell_type": "markdown",
   "metadata": {},
   "source": "<details>\n<summary style=\"border-left:3px solid #3c763d; border-radius:2pt; width:100%; color:#3c763d; padding:6px; background-color: #dff0d8\"> \nRéponses\n</summary>  \n\n<div style=\"border-left:3px solid #3c763d; border-radius:2pt; color:#3c763d; padding:6px; background-color: #eff0e8\">\n\n1. `1`<br>\n2. `0`<br>\n3. `9`<br>\n\n    \n</div>\n</details>"
  },
  {
   "cell_type": "markdown",
   "metadata": {},
   "source": "<h3 style=\"color:teal;background-color:azure;\" > <i class=\"fa fa-pencil\" aria-hidden=\"true\"> </i> &nbsp; Exercice 9 </h3>\n\nEcrire un programme qui permet de savoir si 27 est un multiple de 23528232"
  },
  {
   "cell_type": "code",
   "execution_count": 17,
   "metadata": {
    "trusted": true
   },
   "outputs": [
    {
     "data": {
      "text/plain": "23528232"
     },
     "execution_count": 17,
     "metadata": {},
     "output_type": "execute_result"
    }
   ],
   "source": "# mon programme\n"
  },
  {
   "cell_type": "markdown",
   "metadata": {},
   "source": "## 💡Le cas des nombres à virgule flottante*\n\nComme étudié dans la théorie, il y a deux manières de coder les nombres afin de les représenter\n- Les entiers (`int`) qui représentent les nombres entiers sans virgule. Exemples : 3, 100, -20.\n- Les flottants (`float`) qui représentent, de manière approximative, les nombres avec des décimales. Le point est utilisé au lieu de la virgule. Par exemple, 3.5, -0.001, 2.0.\n\nC'est pourquoi les nombres peuvent être de types `int` ou `float`, comme on le voit en utilsant la fontion type:"
  },
  {
   "cell_type": "code",
   "execution_count": 12,
   "metadata": {
    "scrolled": true,
    "trusted": true
   },
   "outputs": [
    {
     "name": "stdout",
     "output_type": "stream",
     "text": "<class 'int'>\n<class 'float'>\n"
    }
   ],
   "source": "print(type(17))\nprint(type(3.14))"
  },
  {
   "cell_type": "markdown",
   "metadata": {},
   "source": "Attention les `float` sont représentés en utilisant une décompoposition parfois approximative) en puissance de 2 (voir la théorie). Par exemple, le nombre $0,1=\\frac{1}{2}$ ne pourra pas être représenter de manière exacte (voir ce [lien](https://cours-info-nsi-56cb21fb8d50d1af289d9150b1042c010be13879c6badb00.forge.apps.education.fr/premiere/Donnees/c4c_nb_flottants/) pour une explication complète). On peut vérifier, en exécutant le programme ci-dessous, que le calcul $0,1 + 0,2$ ne donne pas exactement $0,3$ :"
  },
  {
   "cell_type": "code",
   "execution_count": 16,
   "metadata": {
    "scrolled": true,
    "trusted": true
   },
   "outputs": [
    {
     "name": "stdout",
     "output_type": "stream",
     "text": "0.30000000000000004\n"
    }
   ],
   "source": "print(0.1+0.2)"
  },
  {
   "cell_type": "markdown",
   "metadata": {},
   "source": "??? tip Pour aller plus loin\nSi on représente le nombre $0,1$ avec un codage binaire à virgule flottante on obtient un deéveloppement périodique:\n$$0,1 = 0,00011001100110011001100|\\overline{1100}$$\nPar exemple avec 24 bits, l'erreur commise est donc d'environ \n$$0,000000000000000000000001100 \\simeq 9,54 \\times 10^{-8}$$\n???\n"
  },
  {
   "cell_type": "markdown",
   "metadata": {},
   "source": "## Utiliser le binaire ou l'hexadécimal\n\n### Conversion binaire → décimal\n\nIl est possible de donner la valeur d'un nombre entier en utilisant directement le binaire. Pour ce faire, il faut que le nombre commence par `0b`. Par exemple, pour afficher la représentation décimale du nombre `10111` il suffit d'exécuter le programme ci-dessous"
  },
  {
   "cell_type": "code",
   "execution_count": 1,
   "metadata": {
    "scrolled": false,
    "trusted": true
   },
   "outputs": [
    {
     "name": "stdout",
     "output_type": "stream",
     "text": "23\n"
    }
   ],
   "source": "print(0b10111)"
  },
  {
   "cell_type": "markdown",
   "metadata": {},
   "source": "\n<h3 style=\"color:teal;background-color:azure;\" > <i class=\"fa fa-pencil\" aria-hidden=\"true\"> </i> &nbsp; Exercice 10 </h3>\n\nEcrire un programme qui permet de connaître la représentation décimale des nombres suivants:\n\n- $1001001 _{2}$\n- $111001 _{2}$\n- $11001001001 _{2}$"
  },
  {
   "cell_type": "raw",
   "metadata": {},
   "source": "Le nombre 01001001, en décimal, vaut ?\n    Réponse : \nLe nombre 111001, en décimal, vaut ?\n    Réponse : \nLe nombre 11001001001, en décimal, vaut ?\n    Réponse : "
  },
  {
   "cell_type": "markdown",
   "metadata": {},
   "source": "---\n### Conversion décimal →  binaire\nPour afficher, la représentation binaire d'un nombre, on peut utiliser la fonction `bin(...)`, comme cela est fait dans le programme suivant:"
  },
  {
   "cell_type": "code",
   "execution_count": 2,
   "metadata": {
    "scrolled": true,
    "trusted": true
   },
   "outputs": [
    {
     "name": "stdout",
     "output_type": "stream",
     "text": "0b10111\n"
    }
   ],
   "source": "print(bin(23))"
  },
  {
   "cell_type": "markdown",
   "metadata": {},
   "source": "\n<h3 style=\"color:teal;background-color:azure;\" > <i class=\"fa fa-pencil\" aria-hidden=\"true\"> </i> &nbsp; Exercice 11 </h3>\n\nEcrire un programme qui permet de connaître la représentation binaire des nombres suivant:\n\n- $14646841 _{10}$\n- $8156468435 _{10}$\n- $99999999 _{10}$"
  },
  {
   "cell_type": "raw",
   "metadata": {},
   "source": "Le nombre 14646841, en binaire, vaut ?\n    Réponse : \nLe nombre 8156468435, en binaire, vaut ?\n    Réponse : \nLe nombre 99999999, en binaire, vaut ?\n    Réponse : "
  },
  {
   "cell_type": "markdown",
   "metadata": {},
   "source": "### Afficher plusieurs valeurs dans un print\n\nIl est aussi possible d'afficher plusieurs valeurs sur la même ligne avec la commande `print`. Pour ce faire, il suffit de séparer les valeur avec des virgules.\nPar exemple, `print(\"Aujourd'hui, j'ai\", 20 * 2 + 1, \"ans\")` affichera `Aujourd'hui, j'ai 41 ans`.\n\n<h3 style=\"color:teal;background-color:azure;\" > <i class=\"fa fa-pencil\" aria-hidden=\"true\"> </i> &nbsp; Exercice 12 </h3>\n\nEcrire un programme qui affiche `Dans une images codé en 24 bit il y a 2**24 couleurs` où à la place de `2**24` il y a le résultat du calcul (c'est-à-dire le résultat de $2^{24}$) . Vérifier en appuyant sur Ctrl + Enter."
  },
  {
   "cell_type": "code",
   "execution_count": null,
   "metadata": {
    "trusted": false
   },
   "outputs": [],
   "source": "# à compléter"
  },
  {
   "cell_type": "markdown",
   "metadata": {},
   "source": "### Le code ASCII\nIl est possible de connaître la position d'un caractère dans la table ASCII en utilsant la fonction `ord(...)`. Par exemple, exécuter le programme ci-dessous afin de voir "
  },
  {
   "cell_type": "code",
   "execution_count": 18,
   "metadata": {
    "trusted": true
   },
   "outputs": [
    {
     "name": "stdout",
     "output_type": "stream",
     "text": "65\n"
    }
   ],
   "source": "print(ord(\"A\"))"
  },
  {
   "cell_type": "markdown",
   "metadata": {},
   "source": "que les caractère `A` se trouve à la position 65. \n\n<h3 style=\"color:teal;background-color:azure;\" > <i class=\"fa fa-pencil\" aria-hidden=\"true\"> </i> &nbsp; Exercice 13 </h3>\n\nEcrire un programme qui permet de connaître le codes ASCII de la chaîne de caractère `\"Info\"`\n"
  },
  {
   "cell_type": "code",
   "execution_count": null,
   "metadata": {
    "trusted": true
   },
   "outputs": [],
   "source": "# à compléter"
  },
  {
   "cell_type": "markdown",
   "metadata": {},
   "source": "Il est possible, de spécifier un caractère en indiquant sa position dans la table ASII avec la fonction `chr(...)`. Par exemple, exécuter le programme ci-dessous afin de voir "
  },
  {
   "cell_type": "code",
   "execution_count": 22,
   "metadata": {
    "trusted": true
   },
   "outputs": [
    {
     "name": "stdout",
     "output_type": "stream",
     "text": "M A T H S\n"
    }
   ],
   "source": "print(chr(77),chr(65),chr(84), chr(72), chr(83))"
  },
  {
   "cell_type": "markdown",
   "metadata": {},
   "source": "que les caractères aux positions 77 65 84 72 83 sont `\"M\"` `\"A\"` `\"T\"` `\"H\"` `\"S\"` \n\n<h3 style=\"color:teal;background-color:azure;\" > <i class=\"fa fa-pencil\" aria-hidden=\"true\"> </i> &nbsp; Exercice 14 </h3>\n\nEcrire un programme qui permet de connaître le texte représenté en ASCII binaire par la suite de bits `01000011 00100111 01100101 01110011 01110100 00100000 01100110 01100001 01100011 01101001 01101100 01100101`\n\n\n"
  },
  {
   "cell_type": "code",
   "execution_count": null,
   "metadata": {
    "trusted": false
   },
   "outputs": [],
   "source": "# à compléter"
  },
  {
   "cell_type": "markdown",
   "metadata": {},
   "source": "### L'ASCII Art\n\nL’ASCII art est une forme d’art numérique qui utilise uniquement des caractères du code ASCII (lettres, chiffres, symboles) pour créer des images, motifs ou représentations visuelles.\n\n```\n       -''--.\n       _`>   `\\.-'<\n    _.'     _     '._\n  .'   _.='   '=._   '.\n  >_   / /_\\ /_\\ \\   _<\n    / (  \\o/\\\\o/  ) \\\n    >._\\ .-,_)-. /_.<\n        /__/ \\__\\ \n          '---'     E=mc^2\n```\n"
  },
  {
   "cell_type": "markdown",
   "metadata": {},
   "source": "\n<h3 style=\"color:teal;background-color:azure;\" > <i class=\"fa fa-pencil\" aria-hidden=\"true\"> </i> &nbsp; Exercice 15 </h3>\n\nEcrire un programme qui affiche un sapin\n```\n   X\n  XXX\n XXXXX\nXXXXXXX\n   X\n   X\n```"
  },
  {
   "cell_type": "code",
   "execution_count": null,
   "metadata": {
    "trusted": false
   },
   "outputs": [],
   "source": "# à compléter"
  },
  {
   "cell_type": "markdown",
   "metadata": {},
   "source": "\n<h3 style=\"color:teal;background-color:azure;\" > <i class=\"fa fa-pencil\" aria-hidden=\"true\"> </i> &nbsp; Exercice 16 </h3>\n\nEcrire un programme qui affiche les annimaux suivants\n```\n|\\---/|\n| o_o |\n \\_^_/\n```\n\n```\n     __\n .--()°'.'\n'|, . ,'\n !_-(_\\\n```\n\n*Voir sur [www.asciiart.eu](https://www.asciiart.eu/animals) d'autres idées*"
  },
  {
   "cell_type": "code",
   "execution_count": null,
   "metadata": {
    "trusted": false
   },
   "outputs": [],
   "source": "# à compléter"
  },
  {
   "cell_type": "markdown",
   "metadata": {},
   "source": "<h3 style=\"color:teal;background-color:azure;\" > <i class=\"fa fa-pencil\" aria-hidden=\"true\"> </i> &nbsp; Exercice 12 </h3>\n\nUtiliser votre identifiant EEL et le mot de passe *Sismondi2025* pour faire les exercices de la **série A** de la plateforme [AlgoPython](https://www.algopython.fr/login). [![A mushroom-head robot](https://www.algopython.fr/css/img/navbar-logo.png 'AlgoPython')](https://www.algopython.fr/login)\n\n"
  },
  {
   "cell_type": "markdown",
   "metadata": {},
   "source": "---\n\n#### Remarque générale\n\nCe document a été élaboré par les enseignant du collège Sismondi à Genève. Il est sous license Creative Commons [BY-NC-SA](https://creativecommons.org/licenses/?lang=fr)\n![Licence Creative Commons](https://i.creativecommons.org/l/by-nc-sa/4.0/88x31.png)\n"
  },
  {
   "cell_type": "code",
   "execution_count": null,
   "metadata": {
    "trusted": true
   },
   "outputs": [],
   "source": ""
  }
 ],
 "metadata": {
  "kernelspec": {
   "display_name": "Python 3",
   "language": "python",
   "name": "python3"
  }
 },
 "nbformat": 4,
 "nbformat_minor": 2
}
