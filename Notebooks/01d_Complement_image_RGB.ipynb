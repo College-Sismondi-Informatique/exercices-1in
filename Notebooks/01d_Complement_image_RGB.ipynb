{
 "cells": [
  {
   "cell_type": "markdown",
   "metadata": {},
   "source": "# Organisation et enregistrement des fichiers.\n\nFichier: 01d_Complements_image_RGB.ipynb\n\nIl est primordial et important que vous sauvegardiez vos exercices. Vous avez deux alternatives:\n1. Dans votre dossier personnel “Mes documents” qui sera accessible depuis tous les ordinateurs du collège.\n2. Depuis votre Drive accessible depuis le site: https://eduge.ch. En sauvegardant dans votre drive, les fichiers seront accessibles depuis n’importe quel ordinateur ayant accès au WEB, donc depuis la maison.\n\n\n\n<div class = \"alert  alert-danger\"> \n    \n**Attention:**\n    \nLes fichiers sauvegardés sur le dossier “Bureau”, ne seront accessibles que depuis l’ordinateur où vous vous trouvez ! De plus, si le poste est réinstallé, vous perdez tout !!! Donc pas de sauvegarde de fichier sur le bureau.\n    \n**Veillez à bien sauvegarder votre travail** dans le bon dossier du disque réseau (dossier document) avec le bon nom (et l'extension *.ipynb*), **sinon toutes les modifications seront perdues!**\n\nPour reprendre votre travail, il suffit d'ouvrir le fichier .ipynb en cliquant sur *Fichier --> ouvrir*\n</div>\n\nNous vous conseillons de créer les dossiers suivants (ou similaire) dans votre dossier “Mes documents” ou “Drive”:\n```\nMes documents\\\n              Info_1ère\\\n                        Python\\\n                        Projet\\\n                        Exposé\\\n```\n"
  },
  {
   "cell_type": "code",
   "execution_count": null,
   "metadata": {
    "scrolled": true,
    "trusted": false
   },
   "outputs": [],
   "source": "from turtle import *\n\nhideturtle()\nspeed(0)\n\ncolor(\"red\")  # la robe est rouge\ndot(1)\ndone()"
  },
  {
   "cell_type": "markdown",
   "metadata": {},
   "source": "---\n\n#### Remarque générale\n\nCe document est une adaptation d'un ressource pédagogique tiré du catalogue modulo https://modulo-info.ch/. Il est sous license Creative Commons [BY-NC-SA](https://creativecommons.org/licenses/?lang=fr)\n![Licence Creative Commons](https://i.creativecommons.org/l/by-nc-sa/4.0/88x31.png)"
  }
 ],
 "metadata": {
  "kernelspec": {
   "display_name": "Python 3 (ipykernel)",
   "language": "python",
   "name": "python3"
  }
 },
 "nbformat": 4,
 "nbformat_minor": 2
}
