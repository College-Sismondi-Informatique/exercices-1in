{
 "cells": [
  {
   "cell_type": "markdown",
   "metadata": {
    "deletable": false,
    "editable": false
   },
   "source": "<div style=\"padding:20px;background-color:papayawhip;\" > \n<h3 style=\"color:chocolate\"> <i class=\"fa fa-info\" aria-hidden=\"true\"> </i> &nbsp; Remarque introductive &nbsp;  <i class=\"fa fa-info\" aria-hidden=\"true\"></h3> \n<p> Ce fichier est fait pour être lu sur le site <a href=\"https://notebook.basthon.fr/\"><img src='https://notebook.basthon.fr/assets/efede5218c9087496f16.png' style=\"border: 0; display:inline; margin: 0 5px; height:30px\" alt=\"Basthon\"/></a>. <br>\n    \nSi vous l'avez ouvert avec un autre programme, comme Jupyter notebook, vous riquez de rencontrer quelques bugs. <br>\nVeuillez cliquez sur <a href=\"https://notebook.basthon.fr/\">ce lien</a> et y charger ce fichier à l'aide du bouton \"Ouvrir\"  &nbsp; <i class=\"fa fa-folder\" aria-hidden=\"true\"> </i>\n</p> </div>    "
  },
  {
   "cell_type": "markdown",
   "metadata": {
    "deletable": false
   },
   "source": "# 6 - Les Conditions, partie 2\n\nDans ce chapitre, nous allons étudié  comment un programme peut faire des choix, et comment il peut exécuter du code de façon sélective.\n"
  },
  {
   "cell_type": "markdown",
   "metadata": {},
   "source": "## I) La différence entre `if` et `elif`\n\nLorsqu'on utilise une structure conditionnelle avec `if`, `elif`, `else`, **le programme sort du bloc  dès qu'il trouve une condition vraie et que les instructions sous la condition sont exécutée**. C'est comme un **aiguillage de train** : \n\n- Le train (le programme) avance sur la voie principale (le `if`).\n- **Si** l'aiguillage (la condition `if`) est activé (vrai), le train dévie immédiatement sur cette voie et **ne teste pas les autres aiguillages** (`elif`, `else`).\n- **Sinon**, il continue tout droit vers la prochaine condition `elif`, puis éventuellement jusqu'au `else` s'il n'a trouvé aucun aiguillage actif.\n\n### 🚩 Exemple pour bien comprendre :\n\n```python\nx = 10\n\nif x > 5:\n    print(\"Condition 1 : x est plus grand que 5\")\nelif x > 3:\n    print(\"Condition 2 : x est plus grand que 3\")\nelse:\n    print(\"Condition 3 : aucune des conditions précédentes n'est vraie\")\n\n"
  },
  {
   "cell_type": "markdown",
   "metadata": {},
   "source": "### ✅ Ce qui se passe :\n- `x = 10` → La première condition `x > 5` est **vraie**, donc le message de la **Condition 1** s'affiche.\n- **Les autres conditions (`elif` et `else`) ne sont pas vérifiées du tout.**\n- Ensuite, le programme **poursuit son exécution après le bloc `if - elif - else`**, en continuant avec les instructions suivantes.\n\n### ⚠️ Piège à éviter :\nNe pensez pas que le programme va **tester toutes les conditions** à l'intérieur du bloc. **Dès qu'une condition est vraie, il exécute les instructions associées puis sort du bloc conditionnel**, sans vérifier les autres conditions.\n\n### 🎯 Astuce :\nSi vous avez besoin de **tester plusieurs conditions indépendamment**, utilisez plusieurs `if` séparés au lieu de `elif` :"
  },
  {
   "cell_type": "code",
   "execution_count": 1,
   "metadata": {
    "scrolled": true,
    "trusted": false
   },
   "outputs": [
    {
     "name": "stdout",
     "output_type": "stream",
     "text": "x est plus grand que 5\nx est aussi plus grand que 3\n"
    }
   ],
   "source": "x = 10\nif x > 5:\n    print(\"x est plus grand que 5\")\n\nif x > 3:\n    print(\"x est aussi plus grand que 3\")"
  },
  {
   "cell_type": "markdown",
   "metadata": {},
   "source": "<h3 style=\"color:teal;background-color:azure;\" > <i class=\"fa fa-pencil\" aria-hidden=\"true\"> </i> &nbsp; Exercice 9 </h3> \n\nJean-Raoul a un hygiène de vie très stricte. Ils se pèse tous les matins\n- S’il pèse moins de 100 kilos, durant la journée, il ne boit que du coca.\n- S’il pèse entre 100 et 120 kilos, durant la journée, il ne boit que de jus d'orange.\n- S’il pèse entre 100 et 200 kilos, durant la journée il ne boit que de l’eau.\n\nSa femme lui a écris un programme pour qui sache quoi boire\n```python\npoids = float(input(\"Que est ton poids? \"))\nprint(\"Aujourd'hui tu peux boire du\", end=\" \")\nif poids < 100:\n    print(\"coca\")\nif poids < 120:\n    print(\"jus d'orange\")\nif poids < 200:\n    print(\"eau\")\n```\n\n1. Testez le programme (voir ci-dessou) avec les poids suivants : 78, 109, 130. Il y a un problème ?\n\n2. Corrigez le programme."
  },
  {
   "cell_type": "code",
   "execution_count": 2,
   "metadata": {
    "trusted": false
   },
   "outputs": [
    {
     "name": "stdout",
     "output_type": "stream",
     "text": "Que est ton poids? 80\nAujourd'hui tu peux boire du coca\njus d'orange\neau\n"
    }
   ],
   "source": "poids = float(input(\"Que est ton poids? \"))\nprint(\"Aujourd'hui tu peux boire du\", end=\" \")\nif poids < 100:\n    print(\"coca\")\nif poids < 120:\n    print(\"jus d'orange\")\nif poids < 200:\n    print(\"eau\")"
  },
  {
   "cell_type": "markdown",
   "metadata": {
    "tags": [
     "breakpoint"
    ]
   },
   "source": "#### Ctrl+enter pour continuer ..........."
  },
  {
   "cell_type": "markdown",
   "metadata": {},
   "source": "## II) Les opérateurs `and`, `or` et `not`\n\nEn plus des comparateurs, les opérateurs `and`, `or` et `not` permettent de manipuler plusieurs conditions : \n* `X and Y` Les deux conditions doivent être vraies pour que l'expression soit vraie.\n* `X or Y` Une des deux conditions doit être vraies pour que l'expression soit vraie.\n* `not X` La condition X doit être fausse pour que l'expression soit vraie.\n\nTestez le code suivant : \n\n"
  },
  {
   "cell_type": "code",
   "execution_count": null,
   "metadata": {
    "trusted": false
   },
   "outputs": [],
   "source": "nombre = 15\nif nombre > 10 and nombre < 20:\n    print(\"Le nombre est entre 10 et 20.\")\n    \n\nif nombre == 5 or nombre == 15:\n    print(\"Le nombre est soit 15 soit 20.\")\n    \nif not nombre > 15:\n    print(\"Le nombre n'est pas supérieur à 15.\")"
  },
  {
   "cell_type": "markdown",
   "metadata": {},
   "source": "<h6 style=\"color:chocolate;background-color:papayawhip;\" > <i class=\"fa fa-warning\" aria-hidden=\"true\"> </i> &nbsp; Note </h6>\nEn python, pour le premier cas : \n\n``` python\nif nombre > 10 and nombre < 20:\n    print(\"Le nombre est entre 10 et 20.\")\n```\non peut aussi écrire :\n\n``` python\nif 10 < nombre < 20:\n    print(\"Le nombre est entre 10 et 20.\")\n```"
  },
  {
   "cell_type": "markdown",
   "metadata": {},
   "source": "<h3 style=\"color:teal;background-color:azure;\" > <i class=\"fa fa-pencil\" aria-hidden=\"true\"> </i> &nbsp; Exercice 10 </h3>\n\n\nUn client de boite de nuit est décrit par trois variables : son genre (“Masculin” ou “Féminin”), sa tenue (“Bien sapé”, “Mal sapé”) et son portefeuille (“Épais”, “Mince”).\n\nLes conditions pour rentrer en boîte de nuit sont les suivantes:\n\n- Un client pauvre mais bien sapé peut entrer.\n- Les clientes entrent toujours,\n- Un client pauvre et mal sapé n’entre pas.\n\n1. Compléter les programme ci-dessous afin d'avoir une programme qui affiche `peut rentrer` ou `ne peut pas rentrer` en fonction du cas.\n\n2. Testez le programme dans tous les cas évoqués."
  },
  {
   "cell_type": "code",
   "execution_count": null,
   "metadata": {
    "trusted": false
   },
   "outputs": [],
   "source": "genre = input(\"Quel est votre genre (masculin/féminin) : \")\ntenue = input(\"Quel est votre tenue (bien sapé/mal sapé) : \")\ntenue = input(\"Quel est votre portefeuille (epais/mince) : \")\n\n# à compléter"
  },
  {
   "cell_type": "markdown",
   "metadata": {},
   "source": "<h3 style=\"color:teal;background-color:azure;\" > <i class=\"fa fa-pencil\" aria-hidden=\"true\"> </i> &nbsp; Exercice 11 </h3>\n"
  },
  {
   "cell_type": "markdown",
   "metadata": {},
   "source": "Écrire un programme qui traduit chacune des situations ci-après. Chaque programme commence par créer une variable pour chaque âge.\n\n**Situation 1 :**  Si Camille est plus âgée qu’Antoinette ou que Bernard et si Antoinette est plus jeune que Bernard, on affiche l’âge d’Antoinette, mais si Antoinette a le même âge ou est plus âgée que Bernard, on affiche l’âge de Bernard.\nSinon on  affiche l’âge de Camille.\n\n \n"
  },
  {
   "cell_type": "code",
   "execution_count": null,
   "metadata": {
    "trusted": false
   },
   "outputs": [],
   "source": ""
  },
  {
   "cell_type": "markdown",
   "metadata": {},
   "source": "**Situation 2:**  Si Bernard et Camille ont le même âge, on affiche l’âge de la plus jeune des trois personnes."
  },
  {
   "cell_type": "code",
   "execution_count": null,
   "metadata": {
    "trusted": false
   },
   "outputs": [],
   "source": ""
  },
  {
   "cell_type": "markdown",
   "metadata": {
    "tags": [
     "breakpoint"
    ]
   },
   "source": "#### Ctrl+enter pour continuer ..........."
  },
  {
   "cell_type": "markdown",
   "metadata": {},
   "source": "## Exercices récapitulatifs"
  },
  {
   "cell_type": "markdown",
   "metadata": {},
   "source": "<h3 style=\"color:teal;background-color:azure;\" > <i class=\"fa fa-pencil\" aria-hidden=\"true\"> </i> &nbsp; Exercice 12 </h3> \n\nDéfinissez une fonction `temperature()` qui prend en paramètre une température entre -20 et 50 et affiche si cette température est :\n* glaciale\n* froide\n* normale\n* chaude\n* bouillante\n\n(à vous de choisir les bornes de chaque catégorie)\n"
  },
  {
   "cell_type": "code",
   "execution_count": null,
   "metadata": {
    "trusted": false
   },
   "outputs": [],
   "source": "def temperature(t):\n    ...\n    \n    \n    \n    \ntemp = int(input(\"Entrez une température entre -20 et 50 : \"))\ntemperature(temp)"
  },
  {
   "cell_type": "markdown",
   "metadata": {},
   "source": "<h3 style=\"color:teal;background-color:azure;\" > <i class=\"fa fa-pencil\" aria-hidden=\"true\"> </i> &nbsp; Exercice 13 </h3> \n\nDéfinissez une fonction `compare` qui prend en paramètres deux nombres `a` et `b`, puis qui dit lequel est le plus grand :\n- si le premier nombre est plus grand que le deuxième, le programme affichera « Le premier ! »\n- si le deuxième nombre est plus grand que le premier, le programme affichera « Le deuxième ! »\n- s'ils sont égaux, le programme affichera « Ils sont égaux. ».\n\n\nTestez-la avec deux nombres de votre choix."
  },
  {
   "cell_type": "code",
   "execution_count": null,
   "metadata": {
    "trusted": false
   },
   "outputs": [],
   "source": "# programme à compléter\n\n\n"
  },
  {
   "cell_type": "markdown",
   "metadata": {},
   "source": "<h3 style=\"color:teal;background-color:azure;\" > <i class=\"fa fa-pencil\" aria-hidden=\"true\"> </i> &nbsp; Exercice 14 </h3> \n\n<b style=\"color:chocolate;background-color:papayawhip;\" > <i class=\"fa fa-warning\" aria-hidden=\"true\"> </i> &nbsp; Rappel : L'opérateur modulo (%) calcule le reste de la division entière.  En conséquence, x % y vaut 0 quand x est divisible par y. <i class=\"fa fa-warning\" aria-hidden=\"true\">  </i> </b> \n\n\nÉcrivez un petit programme qui demande à l'utilisateur·ice un nombre et indique s'il est pair (divisible par 2) ou pas.\n"
  },
  {
   "cell_type": "code",
   "execution_count": null,
   "metadata": {
    "trusted": false
   },
   "outputs": [],
   "source": "# programme à compléter\n"
  },
  {
   "cell_type": "markdown",
   "metadata": {},
   "source": "<h3 style=\"color:teal;background-color:azure;\" > <i class=\"fa fa-pencil\" aria-hidden=\"true\"> </i> &nbsp; Exercice 15 </h3>\nCorrigez le programme suivant :"
  },
  {
   "cell_type": "code",
   "execution_count": null,
   "metadata": {
    "trusted": false
   },
   "outputs": [],
   "source": "age == 18\nrevenu == 25000\n\nif age >= 18\nif revenu < 25000\nprint(\"Vous êtes éligible à la subvention.\")\nelif revenu < 26000\nprint(\"Vous êtes presque éligible à la subvention, vous gagnez 1'000.- de trop.\")\nelse:\nprint(\"Vous n'êtes pas éligible à cause de vos revenus trop élevés.\")\nelse:\nif revenu < 25000\nprint(\"Vous n'êtes pas éligible à cause de votre âge, mais le seriez si vous étiez majeur·e.\")\nelse:\nprint(\"Vous n'êtes pas éligible à cause de vos revenus trop élevés et de votre âge.\")\n   \n"
  },
  {
   "cell_type": "markdown",
   "metadata": {},
   "source": "<h3 style=\"color:teal;background-color:azure;\" > <i class=\"fa fa-pencil\" aria-hidden=\"true\"> </i> &nbsp; Exercice 16 </h3>\n\nÉcris une fonction bissextile dont l'argument est une année  n, qui dit si cette année est bissextile (c'est-à-dire qu'elle comporte un 29 février).\nUne année est bissextile dans l'un des cas suivants :\n- c'est un multiple de 4 qui n'est pas un multiple de 100,\n- c'est un multiple de 400.\n\nLe programme doit afficher « Année bissextile » ou « Année non bissextile » suivant le cas. "
  },
  {
   "cell_type": "code",
   "execution_count": null,
   "metadata": {
    "trusted": false
   },
   "outputs": [],
   "source": "# programme à compléter\n"
  },
  {
   "cell_type": "markdown",
   "metadata": {},
   "source": "<h3 style=\"color:teal;background-color:azure;\" > <i class=\"fa fa-pencil\" aria-hidden=\"true\"> </i> &nbsp; Exercice 11 - Quizz </h3>\n\nCréez un quiz avec des questions à choix multiple sur un sujet de culture générale, dans le style des quiz sur le site Kahoot.\n\n- Complétez pour avoir 4 questions\n- Ajoutez le calcul du score"
  },
  {
   "cell_type": "code",
   "execution_count": null,
   "metadata": {
    "trusted": false
   },
   "outputs": [],
   "source": "print('Quiz sur le thème : ....')\n\nscore = 0\n\n# Question 1 \nprint()\nquestion = \"Quel est le nom du cowboy dans Toy Story ?\"\nsolution = 'Woody'\n\nreponse = input(question)\nif reponse == solution:\n    ...\nelse:\n    ...\n    \n    \n\n# Question 2\nprint()\n...\n\n\nprint('Votre score est', ...)"
  },
  {
   "cell_type": "markdown",
   "metadata": {},
   "source": "---\n\n#### Remarque générale\n\nCe document est une adaptation d'un ressource pédagogique tiré du catalogue modulo https://modulo-info.ch/. Il est sous license Creative Commons [BY-NC-SA](https://creativecommons.org/licenses/?lang=fr)\n![Licence Creative Commons](https://i.creativecommons.org/l/by-nc-sa/4.0/88x31.png)\n\n    "
  }
 ],
 "metadata": {
  "celltoolbar": "Éditer les Méta-Données",
  "kernelspec": {
   "display_name": "Python 3 (ipykernel)",
   "language": "python",
   "name": "python3"
  }
 },
 "nbformat": 4,
 "nbformat_minor": 2
}
