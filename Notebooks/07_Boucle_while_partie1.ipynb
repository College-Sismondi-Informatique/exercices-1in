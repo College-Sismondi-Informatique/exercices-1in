{
 "cells": [
  {
   "cell_type": "markdown",
   "metadata": {},
   "source": "<div style=\"padding:20px;background-color:papayawhip;\" > \n<h3 style=\"color:chocolate\"> <i class=\"fa fa-info\" aria-hidden=\"true\"> </i> &nbsp; Remarque introductive &nbsp;  <i class=\"fa fa-info\" aria-hidden=\"true\"></h3> \n<p> Ce fichier est fait pour être lu sur le site <a href=\"https://notebook.basthon.fr/\"><img src='https://notebook.basthon.fr/assets/efede5218c9087496f16.png' style=\"border: 0; display:inline; margin: 0 5px; height:30px\" alt=\"Basthon\"/></a>. <br>\n    \nSi vous l'avez ouvert avec un autre programme, comme Jupyter notebook, vous riquez de rencontrer quelques bugs. <br>\nVeuillez cliquez sur <a href=\"https://notebook.basthon.fr/\">ce lien</a> et y charger ce fichier à l'aide du bouton \"Ouvrir\"  &nbsp; <i class=\"fa fa-folder\" aria-hidden=\"true\"> </i>\n</p> </div>    "
  },
  {
   "cell_type": "markdown",
   "metadata": {},
   "source": "# 7 - Boucle `while`, partie 1\n\nDans ce chapitre, nous découvrons un deuxième type de boucle, la boucle `while`. \n\n## Boucles « tant que »\nNous avons déjà rencontré d'une part la structure de la boucle `for`, qui permet d'effectuer un nombre prédéfini d'itérations d'un bloc d'instructions, et d'autre part le branchement conditionnel `if`, qui permet d'exécuter ou non un bloc d'instructions en fonction d'un test effectué sur le moment.\n\nLes boucles « tant que », ou boucle `while`, combinent ces deux principes d'une nouvelle manière en conditionnant la poursuite des itérations à un test effectué préalablement à chaque tour de boucle."
  },
  {
   "cell_type": "markdown",
   "metadata": {},
   "source": "<h3 style=\"color:chocolate;background-color:papayawhip;\" > <i class=\"fa fa-question\" aria-hidden=\"true\"> </i> &nbsp; Quizz </h3> \n \n```\nEn Python, while permet de réaliser :\n\nA) une fonction\nB) une condition\nC) une boucle\nD) aucune des réponses précédentes\n```"
  },
  {
   "cell_type": "raw",
   "metadata": {},
   "source": "Ma réponse: "
  },
  {
   "cell_type": "markdown",
   "metadata": {},
   "source": "<details>\n<summary style=\"border-left:3px solid #3c763d; border-radius:2pt; width:100%; color:#3c763d; padding:6px; background-color: #dff0d8\"> \nRéponse\n</summary>  \n\n<div style=\"border-left:3px solid #3c763d; border-radius:2pt; color:#3c763d; padding:6px; background-color: #eff0e8\">C) une boucle\n</div>\n</details>\n                \n"
  },
  {
   "cell_type": "markdown",
   "metadata": {},
   "source": "## Boucles « tant que » en  Python\n\nLa syntaxe de la boucle while est :\n\n![Sytaxe d'une boucle while](https://githepia.hesge.ch/info_sismondi/exercices-1ere/-/raw/main/Notebooks/imgs_chap7/while-loop.png)\noù `condition` a pour valeur `True` ou `False`.\n\n\n## Lien avec les boucle `for`\n\nIl est toujours possible de remplacer une boucle `for` par une boucle `while` comme ceci est illustré dans l'exemple suivant.\n"
  },
  {
   "cell_type": "markdown",
   "metadata": {},
   "source": "### Exemple 1 :  Compteur trivial\n\nL'exemple suivant permet d'afficher un compteur allant de 1 à 10. À chaque début\nde boucle, le programme va évaluer la condition `compteur <= 10` puis exécuter le\nbloc d'instruction si elle vaut `True` et sortir de la boucle si elle vaut `False`."
  },
  {
   "cell_type": "code",
   "execution_count": null,
   "metadata": {
    "trusted": false
   },
   "outputs": [],
   "source": "compteur = 1\n\nwhile compteur <= 10:\n    print(compteur)\n    compteur = compteur + 1"
  },
  {
   "cell_type": "markdown",
   "metadata": {},
   "source": "Avec une boucle `for`, on pourrait réécrire le programme comme "
  },
  {
   "cell_type": "code",
   "execution_count": null,
   "metadata": {
    "scrolled": true,
    "trusted": false
   },
   "outputs": [],
   "source": "compteur = 1\nfor _ in range(10):\n    print(compteur)\n    compteur = compteur + 1"
  },
  {
   "cell_type": "markdown",
   "metadata": {},
   "source": "Ou plus simplement en utilisant l'indice"
  },
  {
   "cell_type": "code",
   "execution_count": null,
   "metadata": {
    "scrolled": true,
    "trusted": false
   },
   "outputs": [],
   "source": "for i in range(10):\n    print(i+1)"
  },
  {
   "cell_type": "markdown",
   "metadata": {},
   "source": "<h3 style=\"color:teal;background-color:azure;\" > <i class=\"fa fa-pencil\" aria-hidden=\"true\"> </i> &nbsp; Exercice 1: Compteur </h3> \n\nÉcrire un programme avec une boucle `while` qui affiche les nombres de 0 à 50."
  },
  {
   "cell_type": "code",
   "execution_count": null,
   "metadata": {
    "trusted": false
   },
   "outputs": [],
   "source": "# votre programme\n"
  },
  {
   "cell_type": "markdown",
   "metadata": {},
   "source": "<h3 style=\"color:teal;background-color:azure;\" > <i class=\"fa fa-pencil\" aria-hidden=\"true\"> </i> &nbsp; Exercice 2: Compteur pair </h3> \n\nTester ci-dessous le programme suivant:\n```python\nx = 0\nfor _ in range(26):\n    print(x)\n    x = x + 2\n```\nPuis réécrire ce programme en remplaçant la boucle `for` par une boucle `while`."
  },
  {
   "cell_type": "code",
   "execution_count": null,
   "metadata": {
    "trusted": false
   },
   "outputs": [],
   "source": "# votre programme\n"
  },
  {
   "cell_type": "markdown",
   "metadata": {},
   "source": "<h3 style=\"color:teal;background-color:azure;\" > <i class=\"fa fa-pencil\" aria-hidden=\"true\"> </i> &nbsp; Exercice 3: Compteur décroissant </h3> \n\nÉcrire un programme qui affiche une compte à rebour de 20 à 0"
  },
  {
   "cell_type": "code",
   "execution_count": null,
   "metadata": {
    "trusted": false
   },
   "outputs": [],
   "source": "# votre programme\n"
  },
  {
   "cell_type": "markdown",
   "metadata": {},
   "source": "## Quand utiliser une boucle `while`\n\n!!! info Utilisation\n\nBien qu'il est possible d'utiliser une boucle `while` à la place d'une boucle `for`, il est recommendé d'utiliser systématiquement la boucle `for` lorsqu'elle est suffisante et de limiter l'usage de la boucle `while` aux cas dans lesquels on ne connait pas à l'avance le nombre d'itérations ou les valeurs de la variable de la boucle.\n\nLa boucle while est typiquement utilisée pour traiter des problèmes tels que :\n\n👉 Faire quelque chose tant qu'une condition est vraie\n!!!"
  },
  {
   "cell_type": "markdown",
   "metadata": {},
   "source": "<h3 > Exemple 2: Faire une somme</h3>\n\nNous utilisons une boucle `while` pour demander des nombres à l'utilisateur-trice.\nOn ne peut pas savoir à l'avance combien de nombres il y aura, et donc nous ne pouvons pas utiliser la boucle `for`. Nous prenons comme condition de terminaison une réponse avec le nombre 0.\n\nEntrez les frais de vos 3 derniers achats.\n"
  },
  {
   "cell_type": "code",
   "execution_count": null,
   "metadata": {
    "trusted": false
   },
   "outputs": [],
   "source": "somme = 0\nnombre = float(input('Entrez un nombre: '))\n\nwhile nombre != 0:\n    somme = somme + nombre          \n    nombre = float(input('Entrez un nombre: '))\n\nprint('somme =', somme)\n"
  },
  {
   "cell_type": "markdown",
   "metadata": {},
   "source": "\n<h3 style=\"color:teal;background-color:azure;\" > <i class=\"fa fa-pencil\" aria-hidden=\"true\"> </i> &nbsp; Exercice 4: Faire une moyenne</h3> \n\n1. En utilisant l'exemple du programme précédent, compléter le programme suivant en remplaçant les ... afin d'avoir un programme qui permet de calculer des moyennes.\n\n2. Utiliser le programme pour calculer votre moyenne générale au premier semestre."
  },
  {
   "cell_type": "code",
   "execution_count": null,
   "metadata": {
    "trusted": false
   },
   "outputs": [],
   "source": "somme = 0\nnombre_de_note = 0\nnote = float(input('Entrez une note: '))\n\nwhile note != 0:\n    # compléter le code à la place des ...\n    somme = ...\n    nombre_de_note = ...\n    note = float(input('Entrez un nombre: '))\n\nprint('moyenne =', somme/nombre_de_note)\n"
  },
  {
   "cell_type": "raw",
   "metadata": {},
   "source": "Votre  moyenne générale au premier semestre est :\n    Réponse : "
  },
  {
   "cell_type": "markdown",
   "metadata": {},
   "source": "<h3 style=\"color:teal;background-color:azure;\" > <i class=\"fa fa-pencil\" aria-hidden=\"true\"> </i> &nbsp; Exercice 5: Les interêts </h3> \n\nOn place un capital de 500CHF sur un compte rémunéré à 3% par an. \n\nLe programme ci-dessous a pour but de calculer le nombre d'années au bout desquelles le capital\nsera doublé (plus grand que 1000CHF).\n\n```Python\nS = 500\nannee = 0\nwhile S < 1000 :\n    S = S + (3/100) * S\nannee = annee + 1\n\nprint(\"Le capital sera doublé après \",annee, \" ans\")\n```\nLe problème est que le programme contient une erreur !\n\n1. Corriger le programme afin qu’il atteigne le but espéré, puis le tester."
  },
  {
   "cell_type": "code",
   "execution_count": null,
   "metadata": {
    "trusted": false
   },
   "outputs": [],
   "source": "# version à corriger du programme\nS = 500\nannee = 0\nwhile S < 1000 :\n    S = S + (3/100) * S\nannee = annee + 1\n\nprint(\"Le capital sera doublé après \",annee, \" ans\")"
  },
  {
   "cell_type": "raw",
   "metadata": {},
   "source": "Après combien d'année le capital aura doublé?\n    Réponse: "
  },
  {
   "cell_type": "markdown",
   "metadata": {},
   "source": "2. Modifier le programme précédent de telle sorte que le capital et le taux de rémunération soient saisis en entrée (instruction `input`). Tester le programme pour savoir au bout de combien d'année un capital de 5 CHF aura doublé si il est rémunéré à 4% par an."
  },
  {
   "cell_type": "code",
   "execution_count": null,
   "metadata": {
    "trusted": false
   },
   "outputs": [],
   "source": "# version du programme avec des input\n"
  },
  {
   "cell_type": "raw",
   "metadata": {},
   "source": "Après combien d'année un capital de 5 CHF rémunéré à 4% aura doublé?\n    Réponse: "
  },
  {
   "cell_type": "code",
   "execution_count": null,
   "metadata": {
    "trusted": false
   },
   "outputs": [],
   "source": ""
  },
  {
   "cell_type": "markdown",
   "metadata": {},
   "source": "---\n\n#### Remarque générale\n\nCe document est une adaptation d'un ressource pédagogique tiré du catalogue modulo https://modulo-info.ch/. Il est sous license Creative Commons [BY-NC-SA](https://creativecommons.org/licenses/?lang=fr)\n![Licence Creative Commons](https://i.creativecommons.org/l/by-nc-sa/4.0/88x31.png)\n\n    "
  }
 ],
 "metadata": {
  "kernelspec": {
   "display_name": "Python 3 (ipykernel)",
   "language": "python",
   "name": "python3"
  }
 },
 "nbformat": 4,
 "nbformat_minor": 2
}
