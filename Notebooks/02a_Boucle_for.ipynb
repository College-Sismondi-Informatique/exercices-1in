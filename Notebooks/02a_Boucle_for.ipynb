{
 "cells": [
  {
   "cell_type": "markdown",
   "metadata": {},
   "source": "<div style=\"padding:20px;background-color:papayawhip;\" > \n<h3 style=\"color:chocolate\"> <i class=\"fa fa-info\" aria-hidden=\"true\"> </i> &nbsp; Remarque introductive &nbsp;  <i class=\"fa fa-info\" aria-hidden=\"true\"></h3> \n<p> Ce fichier est fait pour être lu sur le site <a href=\"https://notebook.basthon.fr/\"><img src='https://notebook.basthon.fr/assets/efede5218c9087496f16.png' style=\"border: 0; display:inline; margin: 0 5px; height:30px\" alt=\"Basthon\"/></a>. <br>\n    \nSi vous l'avez ouvert avec un autre programme, comme Jupyter notebook, vous riquez de rencontrer quelques bugs. <br>\nVeuillez cliquez sur <a href=\"https://notebook.basthon.fr/\">ce lien</a> et y charger ce fichier à l'aide du bouton \"Ouvrir\"  &nbsp; <i class=\"fa fa-folder\" aria-hidden=\"true\"> </i>\n</p> </div>    "
  },
  {
   "cell_type": "markdown",
   "metadata": {},
   "source": "Rappel de quelques fonction de Turtle avec des exemples qui pourront vous servir\n\n| Fonction |Exemple|Commentaire|\n|:-------- |:------|:----------|\n|forward(x)|forward(150)|Trace un trait de 150 points|\n|backward(x)|backward(150)|Trace un trait “à reculons” de 150 points|\n|left(n)|left(60)|Tourne sur place la tortue de 60° à gauche|\n|right(n)|right(60)|Tourne sur place la tortue de 60° à droite|\n|width(x)|width(5)|Change l’épaisseur à 5 points|\n|color(\"c\")|color(\"yellow\")|Change la couleur du trait (mais aucun trait n’est tracé à ce moment). Notez les guillemets !|\n|penup()|penup()|Lève la tortue (permet de se déplacer sans dessiner)|\n|pendown()|pendown()|Baisse le stylo|"
  },
  {
   "cell_type": "markdown",
   "metadata": {},
   "source": "# 2. Les boucles `for`\n\nDans ce chapitre, nous découvrons comment utiliser une boucle `for` pour répéter un bloc d'instructions un certain nombre de fois. Nous allons voir que :\n\n* la boucle `for` permet de répéter des instructions,\n* la structure `for _ in range(n):` permet de répéter un bloc un nombre `n` fois,\n* les instructions, qui sont répétées, sont celles qui suivent le `:` et qui sont indentées (décalées à droite). En effet, le langage python, n'a pas de end for pour indiquer la fin de la boucle. Le langage utilise l'indentation pour signifier qu'une suite d'instruction fait partie de la boucle.\n\n<blockquote class=\"alert alert-info\" style=\"background-color:rgb(220,240,255); margin:10px 10%;\">\n    <p><span style=\"font-size:1.5em\">❔</span> C'est quoi une boucle? Regardez la vidéo ci-dessous pour voir une petite introduction sur la notion de boucle.</p>\n</blockquote>\n\n<iframe width=\"560\" height=\"315\" src=\"https://www.youtube.com/embed/IBAv89hky8g?si=_te3mGANDxT82Dov\" title=\"YouTube video player\" frameborder=\"0\" allow=\"accelerometer; autoplay; clipboard-write; encrypted-media; gyroscope; picture-in-picture; web-share\" referrerpolicy=\"strict-origin-when-cross-origin\" allowfullscreen></iframe>"
  },
  {
   "cell_type": "markdown",
   "metadata": {},
   "source": "<h3 style=\"color:chocolate;background-color:papayawhip;\" > <i class=\"fa fa-question\" aria-hidden=\"true\"> </i> &nbsp; Quizz </h3> \n \n```\nUne boucle informatique est\n\nA) une instruction\nB) un passage ondulé\nC) une section de code répétée\nD) une protection thermique\nE) un cercle dessiné par \"Turtle\"\n```"
  },
  {
   "cell_type": "raw",
   "metadata": {},
   "source": "Ta réponse : "
  },
  {
   "cell_type": "markdown",
   "metadata": {},
   "source": "<details>\n<summary style=\"border-left:3px solid #3c763d; border-radius:2pt; width:100%; color:#3c763d; padding:6px; background-color: #dff0d8\"> \nRéponse (Cliquer pour dévoiler)\n</summary>  \n\n<div style=\"border-left:3px solid #3c763d; border-radius:2pt; color:#3c763d; padding:6px; background-color: #eff0e8\">\n\nC) une section de code répétée\n</div>\n</details>"
  },
  {
   "cell_type": "markdown",
   "metadata": {},
   "source": "## 2.1 La répétition\n\nRevenons vers un exemple simple : dessiner un carré.\n\nSi nous regardons le code de près, nous pouvons voir que nous répétons 4 fois les mêmes deux instructions `forward()` et `left()`.\n\n"
  },
  {
   "cell_type": "code",
   "execution_count": null,
   "metadata": {
    "trusted": false
   },
   "outputs": [],
   "source": "from turtle import *\n\nforward(100)\nleft(90)\nforward(100)\nleft(90)\nforward(100)\nleft(90)\nforward(100)\nleft(90)\n\ndone()"
  },
  {
   "cell_type": "markdown",
   "metadata": {},
   "source": "Ne serait-ce pas pratique de pouvoir dire à la tortue de répéter ces instructions 4 fois ?\n\nOui, c'est possible et c'est grâce à l'instruction `for` qui permet d'effectuer une boucle.\n\n"
  },
  {
   "cell_type": "markdown",
   "metadata": {},
   "source": "<h3 style=\"color:teal;background-color:azure;\" > <i class=\"fa fa-pencil\" aria-hidden=\"true\"> </i> &nbsp; Exercice 1 </h3>Le programme suivant dessine un carré en répétant 4 fois les deux instructions indentées dans le for.\n\nModifier le programme pour dessiner un triangle à la place d'un carré.\n\n"
  },
  {
   "cell_type": "code",
   "execution_count": null,
   "metadata": {
    "trusted": false
   },
   "outputs": [],
   "source": "from turtle import *\n\nfor _ in range(4):\n    forward(100)\n    left(90)\n\ndone()"
  },
  {
   "cell_type": "markdown",
   "metadata": {},
   "source": "<div class=\"alert alert-block alert-warning\"><b>A savoir:</b> \n    \nPour distinguer les instructions qui seront répétées de celles qui ne le seront pas, on  <b>indente</b>  le code, c'est-à-dire que toutes les instructions qui suivent le `for` qui commencent par un espacement seront répétées le nombre de fois explicité dans le `range`. Après les répétitions, le programme exécutera la permière instruction qui n'est pas indentée.\n```\nfor _ in range(4):\n    forward(100)       # Cette ligne est indentée\n    left(90)           # Cette ligne est indentée\n```\n\nNB: Vous être libre de choisir l'espace d'indentation mais soyez rigoureux avec votre choix et garder la même valeur pour tout votre programme. Nous utilisons en général un espace de 4 caractères ou la <b>touche Tabulation (Tab ou &#8633;)</b> pour rendre les codes plus lisibles.\n</div>"
  },
  {
   "cell_type": "markdown",
   "metadata": {},
   "source": "<h3 style=\"color:chocolate;background-color:papayawhip;\" > <i class=\"fa fa-question\" aria-hidden=\"true\"> </i> &nbsp; Quizz </h3> \n \n```\n\nUne indentation de texte est\n\nA) un décalage vers la gauche\nB) un décalage vers la droite\nC) une mise en paragraphe\nD) une mise en sous-section\n```"
  },
  {
   "cell_type": "raw",
   "metadata": {},
   "source": "Votre réponse : "
  },
  {
   "cell_type": "markdown",
   "metadata": {},
   "source": "<details>\n<summary style=\"border-left:3px solid #3c763d; border-radius:2pt; width:100%; color:#3c763d; padding:6px; background-color: #dff0d8\"> \nRéponse (Cliquer pour dévoiler)\n</summary>  \n\n<div style=\"border-left:3px solid #3c763d; border-radius:2pt; color:#3c763d; padding:6px; background-color: #eff0e8\">\n\nB) un décalage vers la droite\n</div>\n</details>"
  },
  {
   "cell_type": "markdown",
   "metadata": {},
   "source": "<h3 style=\"color:chocolate;background-color:papayawhip;\" > <i class=\"fa fa-question\" aria-hidden=\"true\"> </i> &nbsp; Quizz </h3> \n \n```\nAvez-vous compris la notion d'indentation ?\nDans l'exemple ci-dessous (juste après la question/réponses) combien de fois le texte \"Au revoir\" va être affiché ?\nEssayer de répondre puis exécuter le programme qui suit pour vérifier votre réponse\n\nA) 0 fois\nB) 1 fois\nC) 5 fois\nD) le code fera une une erreur à cause de l'indentation dans la boucle for\n```"
  },
  {
   "cell_type": "raw",
   "metadata": {},
   "source": "Votre réponse : "
  },
  {
   "cell_type": "code",
   "execution_count": null,
   "metadata": {
    "trusted": false
   },
   "outputs": [],
   "source": "for _ in range(5):\n    print(\"Hello\")\n    print(\"----------\")\nprint(\"Au revoir\")"
  },
  {
   "cell_type": "markdown",
   "metadata": {},
   "source": "## Avantages de la boucle for:\n\n1) On gagne du temps (moins de lignes à écrire).\n2) On évite les erreurs du aux répétitions d'instructions\n3) Le code est plus lisible."
  },
  {
   "cell_type": "markdown",
   "metadata": {},
   "source": "## 2.2 Dessiner des figures avec les boucles\n\n### Polygone régulier\nAvec une boucle `for`, nous pouvons simplifier le dessin des formes symétriques où le code se répète.\n\nRappel: Un polygone est une figure plate, formée uniquement de segments reliés bout à bout et qui ferment une surface."
  },
  {
   "cell_type": "markdown",
   "metadata": {},
   "source": "<h3 style=\"color:teal;background-color:azure;\" > <i class=\"fa fa-pencil\" aria-hidden=\"true\"> </i> &nbsp; Exercice 2 </h3>\n\n1. Utiliser une boucle pour réécrire le programme ci-dessous "
  },
  {
   "cell_type": "code",
   "execution_count": null,
   "metadata": {
    "scrolled": true,
    "trusted": false
   },
   "outputs": [],
   "source": "from turtle import *\n\nforward(100)\nleft(60)\nforward(100)\nleft(60)\nforward(100)\nleft(60)\nforward(100)\nleft(60)\nforward(100)\nleft(60)\nforward(100)\nleft(60)\n\ndone()"
  },
  {
   "cell_type": "markdown",
   "metadata": {},
   "source": "2. Quelle est la figure dessinée ?"
  },
  {
   "cell_type": "raw",
   "metadata": {},
   "source": "Ta réponse : "
  },
  {
   "cell_type": "markdown",
   "metadata": {},
   "source": "<h3 style=\"color:teal;background-color:azure;\" > <i class=\"fa fa-pencil\" aria-hidden=\"true\"> </i> &nbsp; Exercice 3 </h3>\n\nCompléter le programme ci-dessous pour tracer un octogone.\n\nRappel: Un octogone régulier (mêmes longueur de côtés, mêmes angles) est un polygone à huit sommets, donc huit côtés.\n\nLe programme doit faire moins de 5 lignes."
  },
  {
   "cell_type": "code",
   "execution_count": null,
   "metadata": {
    "trusted": false
   },
   "outputs": [],
   "source": "from turtle import *\n\n# à compléter\n\ndone()"
  },
  {
   "cell_type": "markdown",
   "metadata": {},
   "source": "### Escalier\n\nPour dessiner un escalier, il faut simplement répéter dans une boucle le dessin pour une seule marche.\n\n"
  },
  {
   "cell_type": "code",
   "execution_count": null,
   "metadata": {
    "trusted": false
   },
   "outputs": [],
   "source": "from turtle import *\n\nfor _ in range(5):\n    forward(20)\n    left(90)\n    forward(20)\n    right(90)\n\nforward(100)\n\ndone()"
  },
  {
   "cell_type": "markdown",
   "metadata": {},
   "source": "Pour dessiner des dents de scie, il faut simplement répéter dans une boucle le dessin pour une seule dent.\n\n"
  },
  {
   "cell_type": "markdown",
   "metadata": {},
   "source": "<h3 style=\"color:teal;background-color:azure;\" > <i class=\"fa fa-pencil\" aria-hidden=\"true\"> </i> &nbsp; Exercice 4 </h3>\n\nDessinez une usine avec un toit en dents de scie.\n![Image de losange](https://raw.githubusercontent.com/College-Sismondi-Informatique/exercices-1in/refs/heads/main/Notebooks/imgs_chap2/Toit_dent_de_scie.svg)"
  },
  {
   "cell_type": "code",
   "execution_count": null,
   "metadata": {
    "trusted": false
   },
   "outputs": [],
   "source": "from turtle import *\n\n\nleft(45)\nforward(71)\nright(135)\nforward(50)\nleft(90)\n\n\ndone()"
  },
  {
   "cell_type": "markdown",
   "metadata": {},
   "source": "### Étoile\n"
  },
  {
   "cell_type": "markdown",
   "metadata": {},
   "source": "<h3 style=\"color:teal;background-color:azure;\" > <i class=\"fa fa-pencil\" aria-hidden=\"true\"> </i> &nbsp; Exercice 5 </h3>\n\nEssayez de reproduire l'image suivante : \n\n![Image de losange](https://raw.githubusercontent.com/College-Sismondi-Informatique/exercices-1in/refs/heads/main/Notebooks/imgs_chap2/etoile.png)"
  },
  {
   "cell_type": "code",
   "execution_count": null,
   "metadata": {
    "trusted": false
   },
   "outputs": [],
   "source": ""
  },
  {
   "cell_type": "markdown",
   "metadata": {},
   "source": "<h3 style=\"color:teal;background-color:azure;\" > <i class=\"fa fa-pencil\" aria-hidden=\"true\"> </i> &nbsp; Exercice 6 </h3>\n\nQue se passe-t-il si nous avançons plus que nous reculons ?\nUne toute petite modification du programme peut faire une chouette différence.\n\nModifiez les valeurs dans `forward()` et `backward()`.\n\n"
  },
  {
   "cell_type": "code",
   "execution_count": null,
   "metadata": {
    "trusted": false
   },
   "outputs": [],
   "source": "from turtle import *\n\nspeed(8)\n\nfor _ in range(18):\n    forward(120)\n    backward(90)\n    left(20)\n\ndone()\n"
  },
  {
   "cell_type": "markdown",
   "metadata": {},
   "source": "### Cercle\n"
  },
  {
   "cell_type": "markdown",
   "metadata": {},
   "source": "<h3 style=\"color:teal;background-color:azure;\" > <i class=\"fa fa-pencil\" aria-hidden=\"true\"> </i> &nbsp; Exercice 7 </h3>\n\nCompléter la boucle for pour dessiner trois cercles rouge de rayon 50 collés les uns aux autres comme sur le dessin:\n![Image de losange](https://githepia.hesge.ch/info_sismondi/exercices-1ere/-/raw/main/Notebooks/imgs_chap2/3cercles.png)"
  },
  {
   "cell_type": "markdown",
   "metadata": {},
   "source": "##### Rappels: \n\n- La fonction `circle(R, A)` permet de dessiner un arc de cercle de rayon `R` et d'angle `A`.\nExemple: `circle(100, 360)` dessine un cercle de rayon 100.\n- Les fonctions `penup()` et `pendown()` permettent de lever, respectivement baisser, le stylo.\n"
  },
  {
   "cell_type": "code",
   "execution_count": null,
   "metadata": {
    "trusted": false
   },
   "outputs": [],
   "source": "from turtle import *\n\n\n\ndone()"
  },
  {
   "cell_type": "markdown",
   "metadata": {},
   "source": "## 2.3 🐍 Python – Premières erreurs fréquentes\n\n👉 **Il est essentiel de prendre le temps de lire et de comprendre les messages d’erreur.**\n\nQuand on débute en Python, il est normal de rencontrer des erreurs.  \nCes messages d’erreur paraissent parfois compliqués, mais ils donnent souvent des indices pour comprendre **ce qui ne va pas**.\n\nDans cette partie, vous allez explorer les différents types d’erreurs possibles et apprendre comment les corriger.\n\n"
  },
  {
   "cell_type": "markdown",
   "metadata": {},
   "source": "### <font color='red'>⚠️ ImportError (erreur d’importation)</font>\n\nCette erreur survient lorsque vous essayez d'importer un module qui n'existe pas ou que vous avez mal orthographié.\n\n"
  },
  {
   "cell_type": "markdown",
   "metadata": {},
   "source": "<h3 style=\"color:teal;background-color:azure;\" > <i class=\"fa fa-pencil\" aria-hidden=\"true\"> </i> &nbsp; Exercice 8 </h3>\n\n1. Corrigez l'erreur d'importation.\n2. Testez le programme pour vérifier qu'il fonctionne."
  },
  {
   "cell_type": "code",
   "execution_count": null,
   "metadata": {
    "trusted": false
   },
   "outputs": [],
   "source": "from turtule import *\n\nfor _ in range(3):\n    forward(100)\n    left(120)\n\ndone()"
  },
  {
   "cell_type": "markdown",
   "metadata": {},
   "source": "### <font color='red'>⚠️ SyntaxError (erreur de syntaxe)</font>\n\nC’est comme une faute de grammaire en français : Python ne comprend pas votre code.\n\nCette erreur survient lorsque vous écrivez mal un mot-clé, ou si vous oubliez une ponctuation. Dans ce cas, le mot-clé mal écrit n'est pas reconnu et il n'est pas colorié correctement dans votre code.\n\n"
  },
  {
   "cell_type": "markdown",
   "metadata": {},
   "source": "<h3 style=\"color:teal;background-color:azure;\" > <i class=\"fa fa-pencil\" aria-hidden=\"true\"> </i> &nbsp; Exercice 9 </h3>Corrigez les trois erreurs de syntaxe et remarquez les éventuelles différences de stylisation.\n\n"
  },
  {
   "cell_type": "code",
   "execution_count": null,
   "metadata": {
    "trusted": false
   },
   "outputs": [],
   "source": "fro turtle import *\n\nfore _ in range(3)\n    forward(100)\n    left(120)\n\ndone()"
  },
  {
   "cell_type": "markdown",
   "metadata": {},
   "source": "### <font color='red'>⚠️ NameError (nom inconnu)</font>\n\nPython ne connaît pas le mot que vous avez utilisé.<br>Cette erreur survient lorsque vous écrivez mal le nom d'une variable ou fonction.\n\n"
  },
  {
   "cell_type": "markdown",
   "metadata": {},
   "source": "<h3 style=\"color:teal;background-color:azure;\" > <i class=\"fa fa-pencil\" aria-hidden=\"true\"> </i> &nbsp; Exercice 10</h3>Corrigez les trois erreurs de nom.\n\n"
  },
  {
   "cell_type": "code",
   "execution_count": null,
   "metadata": {
    "trusted": false
   },
   "outputs": [],
   "source": "from turtle import *\n\nfor _ in range():\n    forwarde(100)\n    lefft(120)\n\ndone()\n"
  },
  {
   "cell_type": "markdown",
   "metadata": {},
   "source": "### <font color='red'>⚠️ TypeError (mauvais type d’objet)</font>\n\nCette erreur apparaît, par exemple, lorsque le nombre de paramètres donnés à une fonction n’est pas correct.\n\nLes paramètres d’une fonction sont les valeurs placées entre les parenthèses après son nom.<br>\nPar exemple, dans ``circle(rayon, angle)``, les paramètres sont ``rayon`` et ``angle``."
  },
  {
   "cell_type": "markdown",
   "metadata": {},
   "source": "<h3 style=\"color:teal;background-color:azure;\" > <i class=\"fa fa-pencil\" aria-hidden=\"true\"> </i> &nbsp; Exercice 11 </h3>Corrigez les trois erreurs de type.\n\n"
  },
  {
   "cell_type": "code",
   "execution_count": null,
   "metadata": {
    "trusted": false
   },
   "outputs": [],
   "source": "from turtle import *\n\nfor _ in range():\n    forward()\n    left(100, 120)\n\ndone()\n"
  },
  {
   "cell_type": "markdown",
   "metadata": {},
   "source": "### <font color='red'>⚠️ IndentationError (erreur d’indentation)</font>\n\nEn Python, l’indentation (décalage avec des espaces) est obligatoire dans certaines structures (for, if, etc.) pour indiquer le code qui fait partie de la structure."
  },
  {
   "cell_type": "markdown",
   "metadata": {},
   "source": "<h3 style=\"color:teal;background-color:azure;\" > <i class=\"fa fa-pencil\" aria-hidden=\"true\"> </i> &nbsp; Exercice 12 </h3>Corrigez l'erreur d'indentation."
  },
  {
   "cell_type": "code",
   "execution_count": null,
   "metadata": {
    "trusted": false
   },
   "outputs": [],
   "source": "for _ in range(3):\nprint(2+2)"
  },
  {
   "cell_type": "markdown",
   "metadata": {},
   "source": "## Exercices d'entraînement "
  },
  {
   "cell_type": "markdown",
   "metadata": {},
   "source": "<h3 style=\"color:teal;background-color:azure;\" > <i class=\"fa fa-pencil\" aria-hidden=\"true\"> </i> &nbsp; Exercice 14 </h3>\n\nRéécrire le code suivant en remplaçant par une boucle `for` partout où c’est possible.\n\n"
  },
  {
   "cell_type": "code",
   "execution_count": null,
   "metadata": {
    "trusted": false
   },
   "outputs": [],
   "source": "from turtle import *\n\nforward(20)\nright(40)\nforward(20)\nright(40)\nforward(20)\nright(40)\nforward(20)\nright(40)\nforward(-40)\nleft(30)\nforward(-40)\nleft(30)\nforward(20)\nright(40)\nforward(20)\nright(40)\nforward(-40)\nleft(30)\n\ndone()"
  },
  {
   "cell_type": "markdown",
   "metadata": {},
   "source": "<h3 style=\"color:teal;background-color:azure;\" > <i class=\"fa fa-pencil\" aria-hidden=\"true\"> </i> &nbsp; Exercice 15 </h3>\n\nUtiliser votre identifiant EEL et le mot de passe **Sismondi2025** pour faire les exercices de la **série B** de la plateforme [AlgoPython](https://www.algopython.fr/login). [![A mushroom-head robot](https://www.algopython.fr/css/img/navbar-logo.png 'AlgoPython')](https://www.algopython.fr/login)\n\n\n"
  },
  {
   "cell_type": "markdown",
   "metadata": {},
   "source": "---\n\n#### Remarque générale\n\nCe document est une adaptation d'un ressource pédagogique tiré du catalogue modulo https://modulo-info.ch/. Il est sous license Creative Commons [BY-NC-SA](https://creativecommons.org/licenses/?lang=fr)\n![Licence Creative Commons](https://i.creativecommons.org/l/by-nc-sa/4.0/88x31.png)\n"
  }
 ],
 "metadata": {
  "kernelspec": {
   "display_name": "Python 3 (ipykernel)",
   "language": "python",
   "name": "python3"
  },
  "language_info": {
   "codemirror_mode": {
    "name": "ipython",
    "version": 3
   },
   "file_extension": ".py",
   "mimetype": "text/x-python",
   "name": "python",
   "nbconvert_exporter": "python",
   "pygments_lexer": "ipython3",
   "version": "3.11.2"
  }
 },
 "nbformat": 4,
 "nbformat_minor": 2
}
