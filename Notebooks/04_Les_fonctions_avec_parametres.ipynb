{
 "cells": [
  {
   "cell_type": "markdown",
   "metadata": {},
   "source": [
    "<div style=\"padding:20px;background-color:papayawhip;\" > \n",
    "<h3 style=\"color:chocolate\"> <i class=\"fa fa-info\" aria-hidden=\"true\"> </i> &nbsp; Remarque introductive &nbsp;  <i class=\"fa fa-info\" aria-hidden=\"true\"></h3> \n",
    "<p> Ce fichier est fait pour être lu sur le site <a href=\"https://notebook.basthon.fr/\"><img src='https://notebook.basthon.fr/assets/efede5218c9087496f16.png' style=\"border: 0; display:inline; margin: 0 5px; height:30px\" alt=\"Basthon\"/></a>. <br>\n",
    "    \n",
    "Si vous l'avez ouvert avec un autre programme, comme Jupyter notebook, vous riquez de rencontrer quelques bugs. <br>\n",
    "Veuillez cliquez sur <a href=\"https://notebook.basthon.fr/\">ce lien</a> et y charger ce fichier à l'aide du bouton \"Ouvrir\"  &nbsp; <i class=\"fa fa-folder\" aria-hidden=\"true\"> </i>\n",
    "</p> </div>    "
   ]
  },
  {
   "cell_type": "markdown",
   "metadata": {},
   "source": [
    "# 4. Les fonctions avec paramètres\n",
    "\n",
    "Dans cette leçon, nous allons approfondir le concept de la fonction. Dans la leçon 3 sur les fonctions simples, nous avons vu la fonction comme une façon de donner un nom à une séquence d'instructions. Ici nous allons voir comment nous pouvons ajouter un ou plusieurs paramètres à une fonction. Nous allons voir que :\n",
    "\n",
    "- l'expression `def rect(d, e):` permet de définir une fonction avec deux paramètres,\n",
    "- les paramètres `d` et `e` sont des variables locales valides uniquement à l'intérieur de la définition de fonction,\n",
    "- ces paramètres prennent une valeur au moment de l'appel  de la fonction avec `rect(50, 30)`.\n",
    "\n"
   ]
  },
  {
   "cell_type": "markdown",
   "metadata": {},
   "source": [
    "<h3 style=\"color:chocolate;background-color:papayawhip;\" > <i class=\"fa fa-question\" aria-hidden=\"true\"> </i> &nbsp; Quizz </h3> \n",
    " \n",
    "```\n",
    "En Python, `def` est un raccourci pour\n",
    "\n",
    "A) défoncé\n",
    "B) défilé\n",
    "C) définition\n",
    "D) défavorisé\n",
    "```"
   ]
  },
  {
   "cell_type": "raw",
   "metadata": {},
   "source": [
    "Ma réponse: "
   ]
  },
  {
   "cell_type": "markdown",
   "metadata": {},
   "source": [
    "<details>\n",
    "<summary style=\"border-left:3px solid #3c763d; border-radius:2pt; width:100%; color:#3c763d; padding:6px; background-color: #dff0d8\"> <i class=\"fa fa-angle-right\" aria-hidden=\"true\">\n",
    "Réponse\n",
    "</summary>  \n",
    "\n",
    "<div style=\"border-left:3px solid #3c763d; border-radius:2pt; color:#3c763d; padding:6px; background-color: #eff0e8\">\n",
    "C) définition\n",
    "</div>\n",
    "</details>"
   ]
  },
  {
   "cell_type": "markdown",
   "metadata": {},
   "source": [
    "## Paramétrer une fonction\n",
    "\n",
    "Jusqu'à maintenant, notre rectangle était d'une taille fixe. La fonction `rectangle()` de la leçon 3 sur les fonctions simples \n",
    "```python \n",
    "def rectangle():\n",
    "    forward(160)\n",
    "    left(90)\n",
    "    forward(100)\n",
    "    left(90)\n",
    "    forward(160)\n",
    "    left(90)\n",
    "    forward(100)\n",
    "    left(90)\n",
    "```\n",
    " dessine toujours un rectangle de 160 x 100 pixels. Il faudrait faire une nouvelle fonction `rectangle2()` si on voulait dessiner une taille différente.\n",
    "\n",
    "Il serait très utile de disposer d'une fonction de la forme `rectangle(d, e)` qui puisse dessiner des rectangles de largeur et hauteur variable.\n",
    "C'est possible en spécifiant des **paramètres** pour la fonction.\n",
    "Un paramètre de fonction est une **variable locale** qui peut être utilisée dans sa définition.\n",
    "\n",
    "Lors de l'appel de la fonction, nous donnons des valeurs à la fonction.\n",
    "Ces valeurs sont les **arguments** de la fonction.\n",
    "\n"
   ]
  },
  {
   "cell_type": "markdown",
   "metadata": {},
   "source": [
    "<h3 style=\"color:teal;background-color:azure;\" > <i class=\"fa fa-pencil\" aria-hidden=\"true\"> </i> &nbsp; Exercice 1 </h3>\n",
    "\n",
    "Complétez le programme ci-dessous afin de dessiner un deuxième rectangle avec d'autres dimensions.\n",
    "\n"
   ]
  },
  {
   "cell_type": "code",
   "execution_count": null,
   "metadata": {},
   "outputs": [],
   "source": [
    "from turtle import *\n",
    "\n",
    "def rectangle(d, e):    # paramètres (d, e)\n",
    "    for i in range(2):\n",
    "        forward(d)\n",
    "        left(90)\n",
    "        forward(e)\n",
    "        left(90)\n",
    "\n",
    "rectangle(160, 100)      # largeur=160, hauteur=100\n",
    "\n",
    "# à compléter\n",
    "\n",
    "done()"
   ]
  },
  {
   "cell_type": "markdown",
   "metadata": {},
   "source": [
    "### Exemples de fonctions avec des paramétres\n"
   ]
  },
  {
   "cell_type": "markdown",
   "metadata": {},
   "source": [
    "**Exemple 1 : Le Losange**\n",
    "\n",
    "Essayez de comprendre le programme ci-dessous, puis exécutez le..."
   ]
  },
  {
   "cell_type": "code",
   "execution_count": null,
   "metadata": {},
   "outputs": [],
   "source": [
    "from turtle import *\n",
    "\n",
    "def losange(d, a):      # paramètres (d=distance, a=angle)\n",
    "    for i in range(2):\n",
    "        forward(d)\n",
    "        left(a)\n",
    "\n",
    "        forward(d)\n",
    "        left(180-a)\n",
    "\n",
    "losange(100, 60)            # distance=100, angle=60\n",
    "losange(140, 100)           # distance=140, angle=100\n",
    "\n",
    "done()\n"
   ]
  },
  {
   "cell_type": "markdown",
   "metadata": {},
   "source": [
    "On remarque que la fonction `losange(a, angle)`, définie ci-dessus, a comme paramètre la longueur et le premier angle. \n",
    "\n",
    "Remarque: Le deuxième angle du losange est calculé."
   ]
  },
  {
   "cell_type": "markdown",
   "metadata": {},
   "source": [
    "## Retour à la maison...\n",
    "\n",
    "Revenons à l'exemple d'une fonction qui dessine une maison.\n"
   ]
  },
  {
   "cell_type": "markdown",
   "metadata": {},
   "source": [
    "<h3 style=\"color:teal;background-color:azure;\" > <i class=\"fa fa-pencil\" aria-hidden=\"true\"> </i> &nbsp; Exercice 2 </h3>\n",
    "\n",
    "Complétez le programme afin qu'il dessine une troisième maison de taille 100.\n",
    "\n"
   ]
  },
  {
   "cell_type": "code",
   "execution_count": null,
   "metadata": {},
   "outputs": [],
   "source": [
    "from turtle import *\n",
    "\n",
    "def maison(d):\n",
    "    dot()\n",
    "    forward (1.41*d)  # sol\n",
    "    left(90)\n",
    "    forward(d)  # mur droit\n",
    "    left(45)\n",
    "    forward(d)  # toit droit\n",
    "    left(90)\n",
    "    forward(d)  # toit gauche\n",
    "    left(45)\n",
    "    forward(d)  # mur gauche\n",
    "    left(90)\n",
    "\n",
    "backward(200)\n",
    "maison(50)      # maison de taille 50\n",
    "forward(100)\n",
    "maison(70)      # maison de taille 70\n",
    "\n",
    "# à compléter\n",
    "\n",
    "done()\n"
   ]
  },
  {
   "cell_type": "markdown",
   "metadata": {},
   "source": [
    "## Colorier la maison\n",
    "\n",
    "Maintenant nous modifions la fonction pour inclure non seulement la position, la taille, mais également la couleur de la maison comme paramètres. Les arguments de la fonction sont :\n",
    "\n",
    "- `p` -- position de la maison\n",
    "- `d` -- dimension de la maison\n",
    "- `c` -- couleur de la maison\n",
    "\n"
   ]
  },
  {
   "cell_type": "markdown",
   "metadata": {},
   "source": [
    "<h3 style=\"color:teal;background-color:azure;\" > <i class=\"fa fa-pencil\" aria-hidden=\"true\"> </i> &nbsp; Exercice 4 </h3>Aujoutez deux autres maisons de taille et couleur différente.\n",
    "\n"
   ]
  },
  {
   "cell_type": "code",
   "execution_count": 2,
   "metadata": {},
   "outputs": [
    {
     "data": {
      "image/svg+xml": [
       "<svg xmlns=\"http://www.w3.org/2000/svg\" width=\"640\" height=\"480\" preserveaspectratio=\"xMidYMid meet\" viewbox=\"0 0 640 480\"><animate id=\"af_b32f4a9fb3d74061922d432cbf99248d_0\" attributename=\"opacity\" attributetype=\"CSS\" from=\"1\" to=\"1\" begin=\"0s\" dur=\"1ms\" fill=\"freeze\"></animate><g transform=\"translate(320 240)\"></g><g transform=\"translate(320 240)\"><line x1=\"0\" y1=\"0\" x2=\"0\" y2=\"0\" style=\"stroke: black;stroke-width: 1\"><animate id=\"af_b32f4a9fb3d74061922d432cbf99248d_2\" attributename=\"x2\" attributetype=\"XML\" from=\"0\" to=\"0\" dur=\"1ms\" fill=\"freeze\" begin=\"af_b32f4a9fb3d74061922d432cbf99248d_1.end\"></animate><animate attributename=\"y2\" attributetype=\"XML\" begin=\"af_b32f4a9fb3d74061922d432cbf99248d_1.end\" from=\"0\" to=\"0\" dur=\"1ms\" fill=\"freeze\"></animate></line><line x1=\"0\" y1=\"0\" x2=\"0\" y2=\"0\" style=\"stroke: black;stroke-width: 1\" opacity=\"0\"><animate id=\"af_b32f4a9fb3d74061922d432cbf99248d_5\" attributename=\"x2\" attributetype=\"XML\" from=\"0\" to=\"0\" dur=\"1ms\" fill=\"freeze\" begin=\"af_b32f4a9fb3d74061922d432cbf99248d_4.end\"></animate></line><circle cx=\"0\" cy=\"0\" r=\"2.5\" fill=\"black\" style=\"display: none;\"><animate id=\"af_b32f4a9fb3d74061922d432cbf99248d_6\" attributename=\"display\" attributetype=\"CSS\" from=\"block\" to=\"block\" dur=\"1ms\" fill=\"freeze\" begin=\"af_b32f4a9fb3d74061922d432cbf99248d_5.end\"></animate></circle><line x1=\"0\" y1=\"0\" x2=\"0\" y2=\"0\" style=\"stroke: black;stroke-width: 1\"><animate id=\"af_b32f4a9fb3d74061922d432cbf99248d_8\" attributename=\"x2\" attributetype=\"XML\" from=\"0\" to=\"98.69999999999999\" dur=\" 0.528s\" fill=\"freeze\" begin=\"af_b32f4a9fb3d74061922d432cbf99248d_7.end\"></animate><animate attributename=\"y2\" attributetype=\"XML\" begin=\"af_b32f4a9fb3d74061922d432cbf99248d_7.end\" from=\"0\" to=\"0\" dur=\" 0.528s\" fill=\"freeze\"></animate></line><line x1=\"98.69999999999999\" y1=\"0\" x2=\"98.69999999999999\" y2=\"0\" style=\"stroke: black;stroke-width: 1\"><animate id=\"af_b32f4a9fb3d74061922d432cbf99248d_10\" attributename=\"x2\" attributetype=\"XML\" from=\"98.69999999999999\" to=\"98.69999999999999\" dur=\" 0.375s\" fill=\"freeze\" begin=\"af_b32f4a9fb3d74061922d432cbf99248d_9.end\"></animate><animate attributename=\"y2\" attributetype=\"XML\" begin=\"af_b32f4a9fb3d74061922d432cbf99248d_9.end\" from=\"0\" to=\"-70\" dur=\" 0.375s\" fill=\"freeze\"></animate></line><line x1=\"98.69999999999999\" y1=\"-70\" x2=\"98.69999999999999\" y2=\"-70\" style=\"stroke: black;stroke-width: 1\"><animate id=\"af_b32f4a9fb3d74061922d432cbf99248d_12\" attributename=\"x2\" attributetype=\"XML\" from=\"98.69999999999999\" to=\"49.20252531694167\" dur=\" 0.375s\" fill=\"freeze\" begin=\"af_b32f4a9fb3d74061922d432cbf99248d_11.end\"></animate><animate attributename=\"y2\" attributetype=\"XML\" begin=\"af_b32f4a9fb3d74061922d432cbf99248d_11.end\" from=\"-70\" to=\"-119.49747468305833\" dur=\" 0.375s\" fill=\"freeze\"></animate></line><line x1=\"49.20252531694167\" y1=\"-119.49747468305833\" x2=\"49.20252531694167\" y2=\"-119.49747468305833\" style=\"stroke: black;stroke-width: 1\"><animate id=\"af_b32f4a9fb3d74061922d432cbf99248d_14\" attributename=\"x2\" attributetype=\"XML\" from=\"49.20252531694167\" to=\"-0.29494936611666844\" dur=\" 0.375s\" fill=\"freeze\" begin=\"af_b32f4a9fb3d74061922d432cbf99248d_13.end\"></animate><animate attributename=\"y2\" attributetype=\"XML\" begin=\"af_b32f4a9fb3d74061922d432cbf99248d_13.end\" from=\"-119.49747468305833\" to=\"-70\" dur=\" 0.375s\" fill=\"freeze\"></animate></line><line x1=\"-0.29494936611666844\" y1=\"-70\" x2=\"-0.29494936611666844\" y2=\"-70\" style=\"stroke: black;stroke-width: 1\"><animate id=\"af_b32f4a9fb3d74061922d432cbf99248d_16\" attributename=\"x2\" attributetype=\"XML\" from=\"-0.29494936611666844\" to=\"-0.2949493661166813\" dur=\" 0.375s\" fill=\"freeze\" begin=\"af_b32f4a9fb3d74061922d432cbf99248d_15.end\"></animate><animate attributename=\"y2\" attributetype=\"XML\" begin=\"af_b32f4a9fb3d74061922d432cbf99248d_15.end\" from=\"-70\" to=\"0\" dur=\" 0.375s\" fill=\"freeze\"></animate></line><polygon points=\"0,0 98.69999999999999,-0.0 98.69999999999999,-70.0 49.20252531694167,-119.49747468305833 -0.29494936611666844,-70.0 -0.2949493661166813,-0.0\" style=\"display: none;fill: lightblue;stroke: black;stroke-width: 1\"><animate id=\"af_b32f4a9fb3d74061922d432cbf99248d_18\" attributename=\"display\" attributetype=\"CSS\" from=\"block\" to=\"block\" dur=\"1ms\" fill=\"freeze\" begin=\"af_b32f4a9fb3d74061922d432cbf99248d_17.end\"></animate></polygon><line x1=\"-0.2949493661166813\" y1=\"0\" x2=\"-0.2949493661166813\" y2=\"0\" style=\"stroke: black;stroke-width: 1\" opacity=\"0\"><animate id=\"af_b32f4a9fb3d74061922d432cbf99248d_19\" attributename=\"x2\" attributetype=\"XML\" from=\"-0.2949493661166813\" to=\"150\" dur=\" 0.965s\" fill=\"freeze\" begin=\"af_b32f4a9fb3d74061922d432cbf99248d_18.end\"></animate></line><circle cx=\"150\" cy=\"-30\" r=\"2.5\" fill=\"black\" style=\"display: none;\"><animate id=\"af_b32f4a9fb3d74061922d432cbf99248d_20\" attributename=\"display\" attributetype=\"CSS\" from=\"block\" to=\"block\" dur=\"1ms\" fill=\"freeze\" begin=\"af_b32f4a9fb3d74061922d432cbf99248d_19.end\"></animate></circle><line x1=\"150\" y1=\"-30\" x2=\"150\" y2=\"-30\" style=\"stroke: black;stroke-width: 1\"><animate id=\"af_b32f4a9fb3d74061922d432cbf99248d_22\" attributename=\"x2\" attributetype=\"XML\" from=\"150\" to=\"220.5\" dur=\" 0.377s\" fill=\"freeze\" begin=\"af_b32f4a9fb3d74061922d432cbf99248d_21.end\"></animate><animate attributename=\"y2\" attributetype=\"XML\" begin=\"af_b32f4a9fb3d74061922d432cbf99248d_21.end\" from=\"-30\" to=\"-29.999999999999982\" dur=\" 0.377s\" fill=\"freeze\"></animate></line><line x1=\"220.5\" y1=\"-29.999999999999982\" x2=\"220.5\" y2=\"-29.999999999999982\" style=\"stroke: black;stroke-width: 1\"><animate id=\"af_b32f4a9fb3d74061922d432cbf99248d_24\" attributename=\"x2\" attributetype=\"XML\" from=\"220.5\" to=\"220.50000000000003\" dur=\" 0.268s\" fill=\"freeze\" begin=\"af_b32f4a9fb3d74061922d432cbf99248d_23.end\"></animate><animate attributename=\"y2\" attributetype=\"XML\" begin=\"af_b32f4a9fb3d74061922d432cbf99248d_23.end\" from=\"-29.999999999999982\" to=\"-79.99999999999999\" dur=\" 0.268s\" fill=\"freeze\"></animate></line><line x1=\"220.50000000000003\" y1=\"-79.99999999999999\" x2=\"220.50000000000003\" y2=\"-79.99999999999999\" style=\"stroke: black;stroke-width: 1\"><animate id=\"af_b32f4a9fb3d74061922d432cbf99248d_26\" attributename=\"x2\" attributetype=\"XML\" from=\"220.50000000000003\" to=\"185.14466094067262\" dur=\" 0.268s\" fill=\"freeze\" begin=\"af_b32f4a9fb3d74061922d432cbf99248d_25.end\"></animate><animate attributename=\"y2\" attributetype=\"XML\" begin=\"af_b32f4a9fb3d74061922d432cbf99248d_25.end\" from=\"-79.99999999999999\" to=\"-115.35533905932735\" dur=\" 0.268s\" fill=\"freeze\"></animate></line><line x1=\"185.14466094067262\" y1=\"-115.35533905932735\" x2=\"185.14466094067262\" y2=\"-115.35533905932735\" style=\"stroke: black;stroke-width: 1\"><animate id=\"af_b32f4a9fb3d74061922d432cbf99248d_28\" attributename=\"x2\" attributetype=\"XML\" from=\"185.14466094067262\" to=\"149.78932188134527\" dur=\" 0.268s\" fill=\"freeze\" begin=\"af_b32f4a9fb3d74061922d432cbf99248d_27.end\"></animate><animate attributename=\"y2\" attributetype=\"XML\" begin=\"af_b32f4a9fb3d74061922d432cbf99248d_27.end\" from=\"-115.35533905932735\" to=\"-79.99999999999996\" dur=\" 0.268s\" fill=\"freeze\"></animate></line><line x1=\"149.78932188134527\" y1=\"-79.99999999999996\" x2=\"149.78932188134527\" y2=\"-79.99999999999996\" style=\"stroke: black;stroke-width: 1\"><animate id=\"af_b32f4a9fb3d74061922d432cbf99248d_30\" attributename=\"x2\" attributetype=\"XML\" from=\"149.78932188134527\" to=\"149.78932188134524\" dur=\" 0.268s\" fill=\"freeze\" begin=\"af_b32f4a9fb3d74061922d432cbf99248d_29.end\"></animate><animate attributename=\"y2\" attributetype=\"XML\" begin=\"af_b32f4a9fb3d74061922d432cbf99248d_29.end\" from=\"-79.99999999999996\" to=\"-29.999999999999957\" dur=\" 0.268s\" fill=\"freeze\"></animate></line><polygon points=\"150,-30 220.5,-29.999999999999982 220.50000000000003,-79.99999999999999 185.14466094067262,-115.35533905932735 149.78932188134527,-79.99999999999996 149.78932188134524,-29.999999999999957\" style=\"display: none;fill: yellow;stroke: black;stroke-width: 1\"><animate id=\"af_b32f4a9fb3d74061922d432cbf99248d_32\" attributename=\"display\" attributetype=\"CSS\" from=\"block\" to=\"block\" dur=\"1ms\" fill=\"freeze\" begin=\"af_b32f4a9fb3d74061922d432cbf99248d_31.end\"></animate></polygon></g><g transform=\"translate(320 240)\"></g><g transform=\"translate(320 240)\"><polygon points=\"0,16 -2,14 -1,10 -4,7 -7,9 -9,8 -6,5 -7,1 -5,-3 -8,-6 -6,-8 -4,-5 0,-7 4,-5 6,-8 8,-6 5,-3 7,1 6,5 9,8 7,9 4,7 1,10 2,14\" stroke=\"black\" fill=\"black\" stroke-width=\"1\" opacity=\"0\"><animate id=\"af_b32f4a9fb3d74061922d432cbf99248d_1\" begin=\"af_b32f4a9fb3d74061922d432cbf99248d_0.end\" dur=\"1ms\" fill=\"freeze\" attributename=\"opacity\" attributetype=\"XML\" from=\"0\" to=\"1\"></animate><animateMotion begin=\"af_b32f4a9fb3d74061922d432cbf99248d_2.end\" dur=\"1ms\" fill=\"remove\"></animateMotion><animateTransform attributename=\"transform\" id=\"af_b32f4a9fb3d74061922d432cbf99248d_3\" type=\"rotate\" from=\"0,0,0\" to=\"0.0,0,0\" begin=\"af_b32f4a9fb3d74061922d432cbf99248d_2.end\" dur=\"1ms\" fill=\"freeze\"></animateTransform><animateMotion begin=\"af_b32f4a9fb3d74061922d432cbf99248d_3.end\" dur=\"1ms\" fill=\"remove\"></animateMotion><animateTransform attributename=\"transform\" id=\"af_b32f4a9fb3d74061922d432cbf99248d_4\" type=\"rotate\" from=\"-90.0,0,0\" to=\"-90.0,0,0\" begin=\"af_b32f4a9fb3d74061922d432cbf99248d_3.end\" dur=\"1ms\" fill=\"freeze\"></animateTransform><animateMotion begin=\"af_b32f4a9fb3d74061922d432cbf99248d_4.end\" dur=\"1ms\" fill=\"remove\"></animateMotion><animateMotion from=\"0.0,-0.0\" to=\"0,0\" dur=\"1ms\" begin=\"af_b32f4a9fb3d74061922d432cbf99248d_4.end\" fill=\"freeze\"></animateMotion><animate id=\"af_b32f4a9fb3d74061922d432cbf99248d_7\" begin=\"af_b32f4a9fb3d74061922d432cbf99248d_6.end\" dur=\"1ms\" fill=\"freeze\" attributename=\"fill\" attributetype=\"XML\" from=\"black\" to=\"lightblue\"></animate><animateMotion begin=\"af_b32f4a9fb3d74061922d432cbf99248d_7.end\" dur=\"1ms\" fill=\"remove\"></animateMotion><animateMotion from=\"0,0\" to=\"98.69999999999999,-0.0\" dur=\" 0.528s\" begin=\"af_b32f4a9fb3d74061922d432cbf99248d_7.end\" fill=\"freeze\"></animateMotion><animateMotion begin=\"af_b32f4a9fb3d74061922d432cbf99248d_8.end\" dur=\"1ms\" fill=\"remove\"></animateMotion><animateTransform attributename=\"transform\" id=\"af_b32f4a9fb3d74061922d432cbf99248d_9\" type=\"rotate\" from=\"-90.0,0,0\" to=\"-180.0,0,0\" begin=\"af_b32f4a9fb3d74061922d432cbf99248d_8.end\" dur=\" 0.083s\" fill=\"freeze\"></animateTransform><animateMotion begin=\"af_b32f4a9fb3d74061922d432cbf99248d_9.end\" dur=\"1ms\" fill=\"remove\"></animateMotion><animateMotion from=\"98.69999999999999,-0.0\" to=\"98.69999999999999,-70.0\" dur=\" 0.375s\" begin=\"af_b32f4a9fb3d74061922d432cbf99248d_9.end\" fill=\"freeze\"></animateMotion><animateMotion begin=\"af_b32f4a9fb3d74061922d432cbf99248d_10.end\" dur=\"1ms\" fill=\"remove\"></animateMotion><animateTransform attributename=\"transform\" id=\"af_b32f4a9fb3d74061922d432cbf99248d_11\" type=\"rotate\" from=\"-180.0,0,0\" to=\"-225.0,0,0\" begin=\"af_b32f4a9fb3d74061922d432cbf99248d_10.end\" dur=\" 0.042s\" fill=\"freeze\"></animateTransform><animateMotion begin=\"af_b32f4a9fb3d74061922d432cbf99248d_11.end\" dur=\"1ms\" fill=\"remove\"></animateMotion><animateMotion from=\"98.69999999999999,-70.0\" to=\"49.20252531694167,-119.49747468305833\" dur=\" 0.375s\" begin=\"af_b32f4a9fb3d74061922d432cbf99248d_11.end\" fill=\"freeze\"></animateMotion><animateMotion begin=\"af_b32f4a9fb3d74061922d432cbf99248d_12.end\" dur=\"1ms\" fill=\"remove\"></animateMotion><animateTransform attributename=\"transform\" id=\"af_b32f4a9fb3d74061922d432cbf99248d_13\" type=\"rotate\" from=\"-225.0,0,0\" to=\"-315.0,0,0\" begin=\"af_b32f4a9fb3d74061922d432cbf99248d_12.end\" dur=\" 0.083s\" fill=\"freeze\"></animateTransform><animateMotion begin=\"af_b32f4a9fb3d74061922d432cbf99248d_13.end\" dur=\"1ms\" fill=\"remove\"></animateMotion><animateMotion from=\"49.20252531694167,-119.49747468305833\" to=\"-0.29494936611666844,-70.0\" dur=\" 0.375s\" begin=\"af_b32f4a9fb3d74061922d432cbf99248d_13.end\" fill=\"freeze\"></animateMotion><animateMotion begin=\"af_b32f4a9fb3d74061922d432cbf99248d_14.end\" dur=\"1ms\" fill=\"remove\"></animateMotion><animateTransform attributename=\"transform\" id=\"af_b32f4a9fb3d74061922d432cbf99248d_15\" type=\"rotate\" from=\"-315.0,0,0\" to=\"-360.0,0,0\" begin=\"af_b32f4a9fb3d74061922d432cbf99248d_14.end\" dur=\" 0.042s\" fill=\"freeze\"></animateTransform><animateMotion begin=\"af_b32f4a9fb3d74061922d432cbf99248d_15.end\" dur=\"1ms\" fill=\"remove\"></animateMotion><animateMotion from=\"-0.29494936611666844,-70.0\" to=\"-0.2949493661166813,-0.0\" dur=\" 0.375s\" begin=\"af_b32f4a9fb3d74061922d432cbf99248d_15.end\" fill=\"freeze\"></animateMotion><animateMotion begin=\"af_b32f4a9fb3d74061922d432cbf99248d_16.end\" dur=\"1ms\" fill=\"remove\"></animateMotion><animateTransform attributename=\"transform\" id=\"af_b32f4a9fb3d74061922d432cbf99248d_17\" type=\"rotate\" from=\"-360.0,0,0\" to=\"-450.0,0,0\" begin=\"af_b32f4a9fb3d74061922d432cbf99248d_16.end\" dur=\" 0.083s\" fill=\"freeze\"></animateTransform><animateMotion begin=\"af_b32f4a9fb3d74061922d432cbf99248d_18.end\" dur=\"1ms\" fill=\"remove\"></animateMotion><animateMotion from=\"-0.2949493661166813,-0.0\" to=\"150,-30\" dur=\" 0.965s\" begin=\"af_b32f4a9fb3d74061922d432cbf99248d_18.end\" fill=\"freeze\"></animateMotion><animate id=\"af_b32f4a9fb3d74061922d432cbf99248d_21\" begin=\"af_b32f4a9fb3d74061922d432cbf99248d_20.end\" dur=\"1ms\" fill=\"freeze\" attributename=\"fill\" attributetype=\"XML\" from=\"lightblue\" to=\"yellow\"></animate><animateMotion begin=\"af_b32f4a9fb3d74061922d432cbf99248d_21.end\" dur=\"1ms\" fill=\"remove\"></animateMotion><animateMotion from=\"150,-30\" to=\"220.5,-29.999999999999982\" dur=\" 0.377s\" begin=\"af_b32f4a9fb3d74061922d432cbf99248d_21.end\" fill=\"freeze\"></animateMotion><animateMotion begin=\"af_b32f4a9fb3d74061922d432cbf99248d_22.end\" dur=\"1ms\" fill=\"remove\"></animateMotion><animateTransform attributename=\"transform\" id=\"af_b32f4a9fb3d74061922d432cbf99248d_23\" type=\"rotate\" from=\"-450.0,0,0\" to=\"-540.0,0,0\" begin=\"af_b32f4a9fb3d74061922d432cbf99248d_22.end\" dur=\" 0.083s\" fill=\"freeze\"></animateTransform><animateMotion begin=\"af_b32f4a9fb3d74061922d432cbf99248d_23.end\" dur=\"1ms\" fill=\"remove\"></animateMotion><animateMotion from=\"220.5,-29.999999999999982\" to=\"220.50000000000003,-79.99999999999999\" dur=\" 0.268s\" begin=\"af_b32f4a9fb3d74061922d432cbf99248d_23.end\" fill=\"freeze\"></animateMotion><animateMotion begin=\"af_b32f4a9fb3d74061922d432cbf99248d_24.end\" dur=\"1ms\" fill=\"remove\"></animateMotion><animateTransform attributename=\"transform\" id=\"af_b32f4a9fb3d74061922d432cbf99248d_25\" type=\"rotate\" from=\"-540.0,0,0\" to=\"-585.0,0,0\" begin=\"af_b32f4a9fb3d74061922d432cbf99248d_24.end\" dur=\" 0.042s\" fill=\"freeze\"></animateTransform><animateMotion begin=\"af_b32f4a9fb3d74061922d432cbf99248d_25.end\" dur=\"1ms\" fill=\"remove\"></animateMotion><animateMotion from=\"220.50000000000003,-79.99999999999999\" to=\"185.14466094067262,-115.35533905932735\" dur=\" 0.268s\" begin=\"af_b32f4a9fb3d74061922d432cbf99248d_25.end\" fill=\"freeze\"></animateMotion><animateMotion begin=\"af_b32f4a9fb3d74061922d432cbf99248d_26.end\" dur=\"1ms\" fill=\"remove\"></animateMotion><animateTransform attributename=\"transform\" id=\"af_b32f4a9fb3d74061922d432cbf99248d_27\" type=\"rotate\" from=\"-585.0,0,0\" to=\"-675.0,0,0\" begin=\"af_b32f4a9fb3d74061922d432cbf99248d_26.end\" dur=\" 0.083s\" fill=\"freeze\"></animateTransform><animateMotion begin=\"af_b32f4a9fb3d74061922d432cbf99248d_27.end\" dur=\"1ms\" fill=\"remove\"></animateMotion><animateMotion from=\"185.14466094067262,-115.35533905932735\" to=\"149.78932188134527,-79.99999999999996\" dur=\" 0.268s\" begin=\"af_b32f4a9fb3d74061922d432cbf99248d_27.end\" fill=\"freeze\"></animateMotion><animateMotion begin=\"af_b32f4a9fb3d74061922d432cbf99248d_28.end\" dur=\"1ms\" fill=\"remove\"></animateMotion><animateTransform attributename=\"transform\" id=\"af_b32f4a9fb3d74061922d432cbf99248d_29\" type=\"rotate\" from=\"-675.0,0,0\" to=\"-720.0,0,0\" begin=\"af_b32f4a9fb3d74061922d432cbf99248d_28.end\" dur=\" 0.042s\" fill=\"freeze\"></animateTransform><animateMotion begin=\"af_b32f4a9fb3d74061922d432cbf99248d_29.end\" dur=\"1ms\" fill=\"remove\"></animateMotion><animateMotion from=\"149.78932188134527,-79.99999999999996\" to=\"149.78932188134524,-29.999999999999957\" dur=\" 0.268s\" begin=\"af_b32f4a9fb3d74061922d432cbf99248d_29.end\" fill=\"freeze\"></animateMotion><animateMotion begin=\"af_b32f4a9fb3d74061922d432cbf99248d_30.end\" dur=\"1ms\" fill=\"remove\"></animateMotion><animateTransform attributename=\"transform\" id=\"af_b32f4a9fb3d74061922d432cbf99248d_31\" type=\"rotate\" from=\"-720.0,0,0\" to=\"-810.0,0,0\" begin=\"af_b32f4a9fb3d74061922d432cbf99248d_30.end\" dur=\" 0.083s\" fill=\"freeze\"></animateTransform></polygon></g></svg>"
      ]
     },
     "metadata": {},
     "output_type": "display_data"
    }
   ],
   "source": [
    "from turtle import *\n",
    "up()\n",
    "\n",
    "def maison(d, c):\n",
    "    dot()\n",
    "    down()\n",
    "    fillcolor(c)\n",
    "    begin_fill()\n",
    "    forward (1.41*d)  # sol\n",
    "    left(90)\n",
    "    forward(d)  # mur droit\n",
    "    left(45)\n",
    "    forward(d)  # toit droit\n",
    "    left(90)\n",
    "    forward(d)  # toit gauche\n",
    "    left(45)\n",
    "    forward(d)  # mur gauche\n",
    "    left(90)\n",
    "    end_fill()\n",
    "    up()\n",
    "\n",
    "goto(0,0)\n",
    "maison(70, 'lightblue')\n",
    "goto(150, 30)\n",
    "maison(50, 'yellow')\n",
    "\n",
    "done()\n"
   ]
  },
  {
   "cell_type": "markdown",
   "metadata": {},
   "source": [
    "## Drapeau tricolore\n",
    "\n"
   ]
  },
  {
   "cell_type": "markdown",
   "metadata": {},
   "source": [
    "<h3 style=\"color:teal;background-color:azure;\" > <i class=\"fa fa-pencil\" aria-hidden=\"true\"> </i> &nbsp; Exercice 5 </h3>\n",
    "\n",
    "1. Modifiez les couleurs pour afficher le drapeau de l'irlande (ou d'un autre pays de votre choix).  \n",
    "2. Créez une deuxième fonction `drapeau2(d, c, c2, c3)` qui crée un drapeau avec des barres horizontales et utilisez là pour dessiner le drapeau des pays bas  (ou d'un autre pays de votre choix)."
   ]
  },
  {
   "cell_type": "code",
   "execution_count": null,
   "metadata": {},
   "outputs": [],
   "source": [
    "from turtle import *\n",
    "\n",
    "def rectangle(d, e, c):\n",
    "    fillcolor(c)\n",
    "    begin_fill()\n",
    "    for i in range(2):\n",
    "        forward(d)\n",
    "        left(90)\n",
    "        forward(e)\n",
    "        left(90)\n",
    "    end_fill()\n",
    "\n",
    "def drapeau(d, c1, c2, c3):\n",
    "    rectangle(d, 2*d, c1)\n",
    "    forward(d)\n",
    "    rectangle(d, 2*d, c2)\n",
    "    forward(d)\n",
    "    rectangle(d, 2*d, c3)\n",
    "\n",
    "drapeau(50, 'blue', 'white', 'red')\n",
    "\n",
    "done()\n"
   ]
  },
  {
   "cell_type": "markdown",
   "metadata": {},
   "source": [
    "## Arbre\n",
    "\n",
    "Pour dessiner un arbre simple, nous utilisons un segment droit pour le tronc et un disque (dot) pour le feuillage.\n",
    "C'est une fonction qui a 3 paramètres\n",
    "\n",
    "- `d` -- longueur du tronc\n",
    "- `c` -- couleur du tronc\n",
    "- `c2` -- couleur du feuillage\n",
    "\n"
   ]
  },
  {
   "cell_type": "markdown",
   "metadata": {},
   "source": [
    "<h3 style=\"color:teal;background-color:azure;\" > <i class=\"fa fa-pencil\" aria-hidden=\"true\"> </i> &nbsp; Exercice 6 </h3>\n",
    "\n",
    "Définissez et utilisez une fonction `foret(n)` qui dessine `n` arbres.\n",
    "\n"
   ]
  },
  {
   "cell_type": "code",
   "execution_count": null,
   "metadata": {},
   "outputs": [],
   "source": [
    "from turtle import *\n",
    "\n",
    "def arbre(d, c, c2):\n",
    "    down()\n",
    "    left(90)\n",
    "    width(d/6)      # tronc\n",
    "    pencolor(c)\n",
    "    forward(d)\n",
    "    dot(d, c2)      # feuillage\n",
    "    up()\n",
    "    backward(d)     # retourner à la position de départ\n",
    "    right(90)\n",
    "\n",
    "\n",
    "arbre(100, 'brown', 'lime')\n",
    "forward(70)\n",
    "arbre(90, 'brown', 'green')\n",
    "\n",
    "done()\n"
   ]
  },
  {
   "cell_type": "markdown",
   "metadata": {},
   "source": [
    "## Coeur\n",
    "\n"
   ]
  },
  {
   "cell_type": "markdown",
   "metadata": {},
   "source": [
    "<h3 style=\"color:teal;background-color:azure;\" > <i class=\"fa fa-pencil\" aria-hidden=\"true\"> </i> &nbsp; Exercice 7 </h3>\n",
    "\n",
    "Ajoutez deux paramètres: `w` pour l'épaisseur de la ligne (width), et `c2` pour la couleur de ligne.  \n",
    "La fonction aura la forme `coeur(r, w, c, c2)`.\n",
    "\n"
   ]
  },
  {
   "cell_type": "code",
   "execution_count": null,
   "metadata": {},
   "outputs": [],
   "source": [
    "from turtle import *\n",
    "\n",
    "def coeur(r, c):\n",
    "    down()\n",
    "    fillcolor(c)\n",
    "    begin_fill()\n",
    "    left(90)\n",
    "    circle(r, 225)\n",
    "    forward(2.4*r)\n",
    "    left(90)\n",
    "    forward(2.4*r)\n",
    "    circle(r, 225)\n",
    "    left(90)\n",
    "    end_fill()\n",
    "    up()\n",
    "\n",
    "coeur(50, 'darkviolet')\n",
    "forward(130)\n",
    "coeur(40, 'tomato')\n",
    "\n",
    "done()\n"
   ]
  },
  {
   "cell_type": "markdown",
   "metadata": {},
   "source": [
    "## Autres exemples de fonction\n",
    "\n",
    "**Exemple 1: Dessiner un bus**\n",
    "\n",
    "Pour dessiner un bus, une voiture ou un camion simple, nous pouvons utiliser des rectangles pour le châssis, et un disque (dot) pour les roues.\n",
    "C'est une fonction qui a comme paramètres\n",
    "\n",
    "- `p` -- position du bus\n",
    "- `d` -- dimension (longeur) du bus\n",
    "- `c` -- couleur du bus"
   ]
  },
  {
   "cell_type": "code",
   "execution_count": null,
   "metadata": {},
   "outputs": [],
   "source": [
    "from turtle import *\n",
    "up()\n",
    "\n",
    "def rectangle(d, e, c):\n",
    "    fillcolor(c)\n",
    "    begin_fill()\n",
    "    for i in range(2):\n",
    "        forward(d)\n",
    "        left(90)\n",
    "        forward(e)\n",
    "        left(90)\n",
    "    end_fill()\n",
    "\n",
    "def bus(p, d, c):\n",
    "    goto(p)\n",
    "    down()\n",
    "    rectangle(d, d/3, c) # chassis\n",
    "    forward(d/4)\n",
    "    dot(d/5)            # roue arrière\n",
    "    dot(d/10, 'white')\n",
    "    forward(d/2)\n",
    "    dot(d/5)            # roue avant\n",
    "    dot(d/10, 'white')\n",
    "    up()\n",
    "\n",
    "bus([-200, 50], 200, 'red')\n",
    "bus([50, 20], 150, 'lightblue')\n",
    "\n",
    "done()\n"
   ]
  },
  {
   "cell_type": "markdown",
   "metadata": {},
   "source": [
    "**Exemple 2: L'escalier**\n",
    "\n",
    "Pour dessiner un escalier notre fonction aura les paramètres suivants:\n",
    "\n",
    "- `d` -- longueur de marche\n",
    "- `e` -- hauteur de marche\n",
    "- `n` -- nombre de marches\n",
    "\n"
   ]
  },
  {
   "cell_type": "code",
   "execution_count": null,
   "metadata": {
    "scrolled": true
   },
   "outputs": [],
   "source": [
    "from turtle import *\n",
    "\n",
    "def escalier(d, e, n):\n",
    "    dot()   # marqueur de début\n",
    "    for i in range(n):\n",
    "        forward(d)\n",
    "        left(90)\n",
    "        forward(e)\n",
    "        right(90)\n",
    "\n",
    "escalier(20, 10, 5)\n",
    "escalier(10, -20, 5)\n",
    "escalier(30, 10, 4)\n",
    "\n",
    "done()\n"
   ]
  },
  {
   "cell_type": "markdown",
   "metadata": {},
   "source": [
    "## Exercices d'entraînement "
   ]
  },
  {
   "cell_type": "markdown",
   "metadata": {},
   "source": [
    "<h3 style=\"color:teal;background-color:azure;\" > <i class=\"fa fa-pencil\" aria-hidden=\"true\"> </i> &nbsp; Exercice 8 </h3>\n",
    "\n",
    "Corrigez le programme ci-dessous afin qu'il affiche un triangle rouge"
   ]
  },
  {
   "cell_type": "code",
   "execution_count": null,
   "metadata": {},
   "outputs": [],
   "source": [
    "from turtle import *\n",
    "\n",
    "def triangle_couleur(d, c):\n",
    "    pencolor(c)\n",
    "    for i in range(3):\n",
    "        forward(d)\n",
    "        left(120)\n",
    "\n",
    "triangle_couleur(\"red\", 100)\n",
    "\n",
    "done()"
   ]
  },
  {
   "cell_type": "markdown",
   "metadata": {},
   "source": [
    "<h3 style=\"color:teal;background-color:azure;\" > <i class=\"fa fa-pencil\" aria-hidden=\"true\"> </i> &nbsp; Exercice 9 </h3>\n",
    "\n",
    "1. Testez le programme suivant ci-dessous.\n",
    "2. Définissez une fonction `triangle(l)`, qui permet de tracer des triangles équilatéraux de longueur lg, et utilisez-là pour réduire le nombre d’instructions du programme. \n",
    "\n",
    "**NB**: Le nombre d'instructions du programme doit être au moins divisé par 2.\n"
   ]
  },
  {
   "cell_type": "code",
   "execution_count": null,
   "metadata": {},
   "outputs": [],
   "source": [
    "from turtle import *\n",
    "\n",
    "# pour être à gauche du canevas\n",
    "backward(250)\n",
    "\n",
    "# Code à factoriser\n",
    "for k in range(3):\n",
    "    forward(30)\n",
    "    right(120)\n",
    "forward(30)\n",
    "for k in range(3):\n",
    "    forward(60)\n",
    "    right(120)\n",
    "forward(60)\n",
    "for k in range(3):\n",
    "    forward(90)\n",
    "    right(120)\n",
    "forward(90)\n",
    "for k in range(3):\n",
    "    forward(120)\n",
    "    right(120)\n",
    "forward(120)\n",
    "for k in range(3):\n",
    "    forward(150)\n",
    "    right(120)\n",
    "\n",
    "done()\n"
   ]
  },
  {
   "cell_type": "markdown",
   "metadata": {},
   "source": [
    "<h3 style=\"color:teal;background-color:azure;\" > <i class=\"fa fa-pencil\" aria-hidden=\"true\"> </i> &nbsp; Exercice 10 </h3>\n",
    "\n",
    "\n",
    "Définir une fonction `carre_couleur(d,c )` qui demande à la tortue de\n",
    "dessiner des carrés colorés de longueur variés. Elle doit dessiner trois triangles comme sur la figure ci-dessous.\n",
    "\n",
    "![Image carres colorés](https://githepia.hesge.ch/info_sismondi/exercices-1ere/-/raw/main/Notebooks/imgs_chap4/ex_carres_couleur.png)"
   ]
  },
  {
   "cell_type": "code",
   "execution_count": null,
   "metadata": {},
   "outputs": [],
   "source": [
    "from turtle import *\n",
    "\n",
    "# a compléter\n",
    "\n",
    "done()"
   ]
  },
  {
   "cell_type": "markdown",
   "metadata": {},
   "source": [
    "<h3 style=\"color:teal;background-color:azure;\" > <i class=\"fa fa-pencil\" aria-hidden=\"true\"> </i> &nbsp; Exercice 11 </h3>\n",
    "\n",
    "Définissez une commande `rangee_triangles(nombre, cote)` qui dessine une rangée de pyramides selon l’illustration. Chaque triangle a des côtés de longueur `cote`.\n",
    "Le paramètre `nombre` indique le nombre de triangles dans la rangée. Utilisez ensuite\n",
    "cette commande pour dessiner une rangée de 13 triangles de côtés 31, centrée au\n",
    "milieu de la fenêtre.\n",
    "\n",
    "![Image rangee de triangle](https://githepia.hesge.ch/info_sismondi/exercices-1ere/-/raw/main/Notebooks/imgs_chap4/ex_triangles.png)"
   ]
  },
  {
   "cell_type": "code",
   "execution_count": null,
   "metadata": {},
   "outputs": [],
   "source": [
    "from turtle import *\n",
    "\n",
    "def rangee_triangles(nombre, cote):\n",
    "    # a compléter\n",
    "\n",
    "# a compléter\n",
    "\n",
    "done()"
   ]
  },
  {
   "cell_type": "markdown",
   "metadata": {},
   "source": [
    "<h3 style=\"color:teal;background-color:azure;\" > <i class=\"fa fa-pencil\" aria-hidden=\"true\"> </i> &nbsp; Exercice 12 </h3>\n",
    "\n",
    "Définissez une fonction `maison(h, c)` qui dessine une maison avec une porte de hauteur `h` et de vouleur `c`. \n",
    "Les autres dimensions de la maison sont représentées sur l'image ci-dessous.\n",
    "![Image rangee de triangle](https://githepia.hesge.ch/info_sismondi/exercices-1ere/-/raw/main/Notebooks/imgs_chap4/maison_dim.svg)\n",
    "Écrire un programme qui utilise la fonction `maison(h, c)` pour reproduire la figure suivante:\n",
    "![Image rangee de triangle](https://githepia.hesge.ch/info_sismondi/exercices-1ere/-/raw/main/Notebooks/imgs_chap4/village.svg)"
   ]
  },
  {
   "cell_type": "code",
   "execution_count": null,
   "metadata": {},
   "outputs": [],
   "source": [
    "from turtle import *\n",
    "\n",
    "\n",
    "def maison(h, c):\n",
    "    # a compléter\n",
    "    \n",
    "\n",
    "speed(9) # pour dessiner vite\n",
    "# dessiner le village (a compléter)\n",
    "# a compléter\n",
    "done()"
   ]
  },
  {
   "cell_type": "markdown",
   "metadata": {},
   "source": [
    "# Complément sur les valeurs par défaut *\n",
    "\n",
    "Quand une fonction possède beaucoup d'arguments, nous pouvons spécifier des valeurs par défaut. Pour ceci nous ajoutons la valeur par défaut dans la liste de paramètres avec le symbole `=`.\n",
    "\n",
    "La fonction `rectangle(p, d, e, w=1, pen='black', fill='white')` dessine un rectangle aux dimensions `d` x `e` à la position `p`.\n",
    "Cette fonction possède 3 paramètres optionnels (valeur par défaut en parenthèse):\n",
    "\n",
    "- `w` -- épaisseur de ligne (`1`)\n",
    "- `pen` -- couleur de ligne (`'black'`)\n",
    "- `fill` -- couleur de remplissage (`'white'`)\n",
    "\n",
    "Il a maintenant différentes façons à appeler la fonction. Tous les paramètres qui ont une valeur par défaut sont optionnels. Au minimum nous devons spécifier les paramètres sans valeur par défaut.\n",
    "\n",
    "```\n",
    "rectangle((40, 0), 80, 40)\n",
    "```\n",
    "\n",
    "Le rectangle est dessiné dans la direction actuelle de la tortue. Cette orientation peut être changée avec `seth()`. La tortue se positionne de l'autre côté du point de départ. Ceci permet d'enchainer à dessiner des rectangles.\n",
    "\n"
   ]
  },
  {
   "cell_type": "code",
   "execution_count": null,
   "metadata": {},
   "outputs": [],
   "source": [
    "from turtle import *\n",
    "penup()\n",
    "\n",
    "def rectangle(p, d, e, w=1, pen='black', fill='white'):\n",
    "    goto(p)\n",
    "    pendown()\n",
    "    width(w)\n",
    "    pencolor(pen)\n",
    "    fillcolor(fill)\n",
    "    begin_fill()\n",
    "    for i in range(2):\n",
    "        forward(d)\n",
    "        left(90)\n",
    "        forward(e)\n",
    "        left(90)\n",
    "    end_fill()\n",
    "    penup()\n",
    "\n",
    "rectangle([-200, 30], 40, 30)\n",
    "rectangle([-100, -20], 40, 30, 1, 'orange', 'orange')\n",
    "rectangle([100, -40], 30, 80, fill='yellow')\n",
    "rectangle([200, 100], 80, 40, 1, 'red', 'pink')\n",
    "\n",
    "done()\n"
   ]
  },
  {
   "cell_type": "markdown",
   "metadata": {},
   "source": [
    "## Polygone régulier\n",
    "\n",
    "La fonction `polygone()` dessine un polygone régulier avec n sommets. Les arguments de la fonction sont :\n",
    "\n",
    "- `d` -- distance du segment\n",
    "- `n` -- nombre de segments\n",
    "\n"
   ]
  },
  {
   "cell_type": "code",
   "execution_count": null,
   "metadata": {},
   "outputs": [],
   "source": [
    "from turtle import *\n",
    "\n",
    "def polygon(d, n, w=1, pen='black', fill='white'):\n",
    "    down()\n",
    "    pencolor(pen)\n",
    "    width(w)\n",
    "    fillcolor(fill)\n",
    "    begin_fill()\n",
    "    for i in range(n):\n",
    "        forward(d)\n",
    "        left(360/n)\n",
    "    end_fill()\n",
    "    up()\n",
    "\n",
    "up()\n",
    "backward(280)\n",
    "for n in range(3, 9):\n",
    "    polygon(40, n, fill='lime')\n",
    "    color('black')\n",
    "    forward(100)\n",
    "\n",
    "done()\n"
   ]
  },
  {
   "cell_type": "markdown",
   "metadata": {},
   "source": [
    "## Polygone étoilé\n",
    "\n",
    "En ajoutant un paramètre supplémentaire `m`, la fonction `polygone()` permet également de dessiner un polygone étoilé.  Ce paramètre signifie le nombre de pics sauté pour aller au prochain des `n` points répartis dans un cercle. Pour `m=1` un polygone régulier est dessiné.\n",
    "\n",
    "es arguments de la fonction sont :\n",
    "\n",
    "- `d` -- distance du segment\n",
    "- `n` -- nombre de segments\n",
    "- `m` -- paramètre pour polygone étoilé (nombre de pics sautés)\n",
    "\n"
   ]
  },
  {
   "cell_type": "code",
   "execution_count": null,
   "metadata": {},
   "outputs": [],
   "source": [
    "from turtle import *\n",
    "\n",
    "def polygon(d, n, m=1, w=1, pen='black', fill='white'):\n",
    "    down()\n",
    "    pencolor(pen)\n",
    "    width(w)\n",
    "    fillcolor(fill)\n",
    "    begin_fill()\n",
    "    for i in range(n):\n",
    "        forward(d)\n",
    "        left(m*360/n)\n",
    "    end_fill()\n",
    "    up()\n",
    "\n",
    "up()\n",
    "speed(0)\n",
    "backward(250)\n",
    "for m in range(2, 6):\n",
    "    polygon(80, 11, m, fill='yellow')\n",
    "    color('black')\n",
    "    forward(140)\n",
    "\n",
    "done()\n"
   ]
  },
  {
   "cell_type": "markdown",
   "metadata": {},
   "source": [
    "<h3 style=\"color:teal;background-color:azure;\" > <i class=\"fa fa-pencil\" aria-hidden=\"true\"> </i> &nbsp; Exercice 12 </h3>\n",
    "\n",
    "Utilisez la fonction `rectangle(p, d, e, w, pen, fill)` pour dessiner une copie de ce tableau de Mondrian.\n"
   ]
  },
  {
   "cell_type": "markdown",
   "metadata": {},
   "source": [
    "![mondrian](https://raw.githubusercontent.com/edunumsec2/book/master/src/appr/prog1/media/mondrian.jpg)\n",
    "\n"
   ]
  },
  {
   "cell_type": "markdown",
   "metadata": {},
   "source": [
    "---\n",
    "\n",
    "#### Remarque générale\n",
    "\n",
    "Ce document est une adaptation d'un ressource pédagogique tiré du catalogue modulo https://modulo-info.ch/. Il est sous license Creative Commons [BY-NC-SA](https://creativecommons.org/licenses/?lang=fr)\n",
    "![Licence Creative Commons](https://i.creativecommons.org/l/by-nc-sa/4.0/88x31.png)"
   ]
  }
 ],
 "metadata": {
  "kernelspec": {
   "display_name": "Python 3 (ipykernel)",
   "language": "python",
   "name": "python3"
  },
  "language_info": {
   "codemirror_mode": {
    "name": "ipython",
    "version": 3
   },
   "file_extension": ".py",
   "mimetype": "text/x-python",
   "name": "python",
   "nbconvert_exporter": "python",
   "pygments_lexer": "ipython3",
   "version": "3.10.12"
  }
 },
 "nbformat": 4,
 "nbformat_minor": 4
}
