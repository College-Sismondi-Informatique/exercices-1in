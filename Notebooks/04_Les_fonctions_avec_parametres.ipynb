{
 "cells": [
  {
   "cell_type": "markdown",
   "metadata": {},
   "source": "<div style=\"padding:20px;background-color:papayawhip;\" > \n<h3 style=\"color:chocolate\"> <i class=\"fa fa-info\" aria-hidden=\"true\"> </i> &nbsp; Remarque introductive &nbsp;  <i class=\"fa fa-info\" aria-hidden=\"true\"></h3> \n<p> Ce fichier est fait pour être lu sur le site <a href=\"https://notebook.basthon.fr/\"><img src='https://notebook.basthon.fr/assets/efede5218c9087496f16.png' style=\"border: 0; display:inline; margin: 0 5px; height:30px\" alt=\"Basthon\"/></a>. <br>\n    \nSi vous l'avez ouvert avec un autre programme, comme Jupyter notebook, vous riquez de rencontrer quelques bugs. <br>\nVeuillez cliquez sur <a href=\"https://notebook.basthon.fr/\">ce lien</a> et y charger ce fichier à l'aide du bouton \"Ouvrir\"  &nbsp; <i class=\"fa fa-folder\" aria-hidden=\"true\"> </i>\n</p> </div>    "
  },
  {
   "cell_type": "markdown",
   "metadata": {},
   "source": "# 4. Les fonctions avec paramètres\n\nDans cette leçon, nous allons approfondir le concept de la fonction. Dans la leçon 3 sur les fonctions simples, nous avons vu la fonction comme une façon de donner un nom à une séquence d'instructions. Ici nous allons voir comment nous pouvons ajouter un ou plusieurs paramètres à une fonction. Nous allons voir que :\n\n- l'expression `def rect(d, e):` permet de définir une fonction avec deux paramètres,\n- les paramètres `d` et `e` sont des variables locales valides uniquement à l'intérieur de la définition de fonction,\n- ces paramètres prennent une valeur au moment de l'appel  de la fonction avec `rect(50, 30)`.\n\n"
  },
  {
   "cell_type": "markdown",
   "metadata": {},
   "source": "<h3 style=\"color:chocolate;background-color:papayawhip;\" > <i class=\"fa fa-question\" aria-hidden=\"true\"> </i> &nbsp; Quizz </h3> \n \n```\nEn Python, `def` est un raccourci pour\n\nA) défoncé\nB) défilé\nC) définition\nD) défavorisé\n```"
  },
  {
   "cell_type": "raw",
   "metadata": {},
   "source": "Ma réponse: "
  },
  {
   "cell_type": "markdown",
   "metadata": {},
   "source": "<details>\n<summary style=\"border-left:3px solid #3c763d; border-radius:2pt; width:100%; color:#3c763d; padding:6px; background-color: #dff0d8\"> <i class=\"fa fa-angle-right\" aria-hidden=\"true\">\nRéponse\n</summary>  \n\n<div style=\"border-left:3px solid #3c763d; border-radius:2pt; color:#3c763d; padding:6px; background-color: #eff0e8\">\nC) définition\n</div>\n</details>"
  },
  {
   "cell_type": "markdown",
   "metadata": {},
   "source": "## Paramétrer une fonction\n\nJusqu'à maintenant, notre rectangle était d'une taille fixe. La fonction `rectangle()` de la leçon 3 sur les fonctions simples \n```python \ndef rectangle():\n    forward(160)\n    left(90)\n    forward(100)\n    left(90)\n    forward(160)\n    left(90)\n    forward(100)\n    left(90)\n```\n dessine toujours un rectangle de 160 x 100 pixels. Il faudrait faire une nouvelle fonction `rectangle2()` si on voulait dessiner une taille différente.\n\nIl serait très utile de disposer d'une fonction de la forme `rectangle(d, e)` qui puisse dessiner des rectangles de largeur et hauteur variable.\nC'est possible en spécifiant des **paramètres** pour la fonction.\nUn paramètre de fonction est une **variable locale** qui peut être utilisée dans sa définition.\n\nLors de l'appel de la fonction, nous donnons des valeurs à la fonction.\nCes valeurs sont les **arguments** de la fonction.\n\n"
  },
  {
   "cell_type": "markdown",
   "metadata": {},
   "source": "<h3 style=\"color:teal;background-color:azure;\" > <i class=\"fa fa-pencil\" aria-hidden=\"true\"> </i> &nbsp; Exercice 1 </h3>\n\nComplétez le programme ci-dessous afin de dessiner un deuxième rectangle avec d'autres dimensions.\n\n"
  },
  {
   "cell_type": "code",
   "execution_count": null,
   "metadata": {
    "trusted": false
   },
   "outputs": [],
   "source": "from turtle import *\n\ndef rectangle(d, e):    # paramètres (d, e)\n    for i in range(2):\n        forward(d)\n        left(90)\n        forward(e)\n        left(90)\n\nrectangle(160, 100)      # largeur=160, hauteur=100\n\n# à compléter\n\ndone()"
  },
  {
   "cell_type": "markdown",
   "metadata": {},
   "source": "### Exemples de fonctions avec des paramètres\n"
  },
  {
   "cell_type": "markdown",
   "metadata": {},
   "source": "**Exemple 1 : Le Losange**\n\nEssayez de comprendre le programme ci-dessous, puis exécutez le..."
  },
  {
   "cell_type": "code",
   "execution_count": null,
   "metadata": {
    "trusted": false
   },
   "outputs": [],
   "source": "from turtle import *\n\ndef losange(d, a):      # paramètres (d=distance, a=angle)\n    for i in range(2):\n        forward(d)\n        left(a)\n\n        forward(d)\n        left(180-a)\n\nlosange(100, 60)            # distance=100, angle=60\nlosange(140, 100)           # distance=140, angle=100\n\ndone()\n"
  },
  {
   "cell_type": "markdown",
   "metadata": {},
   "source": "On remarque que la fonction `losange(a, angle)`, définie ci-dessus, a comme paramètre la longueur et le premier angle. \n\nRemarque: Le deuxième angle du losange est calculé."
  },
  {
   "cell_type": "markdown",
   "metadata": {},
   "source": "## Retour à la maison...\n\nRevenons à l'exemple d'une fonction qui dessine une maison.\n"
  },
  {
   "cell_type": "markdown",
   "metadata": {},
   "source": "<h3 style=\"color:teal;background-color:azure;\" > <i class=\"fa fa-pencil\" aria-hidden=\"true\"> </i> &nbsp; Exercice 2 </h3>\n\nComplétez le programme afin qu'il dessine une troisième maison de taille 100.\n\n"
  },
  {
   "cell_type": "code",
   "execution_count": null,
   "metadata": {
    "trusted": false
   },
   "outputs": [],
   "source": "from turtle import *\n\ndef maison(d):\n    dot()\n    forward (1.41*d)  # sol\n    left(90)\n    forward(d)  # mur droit\n    left(45)\n    forward(d)  # toit droit\n    left(90)\n    forward(d)  # toit gauche\n    left(45)\n    forward(d)  # mur gauche\n    left(90)\n\nbackward(200)\nmaison(50)      # maison de taille 50\nforward(100)\nmaison(70)      # maison de taille 70\n\n# à compléter\n\ndone()\n"
  },
  {
   "cell_type": "markdown",
   "metadata": {},
   "source": "## Colorier la maison\n\nMaintenant nous modifions la fonction pour inclure non seulement la position, la taille, mais également la couleur de la maison comme paramètres. Les arguments de la fonction sont :\n\n- `p` -- position de la maison\n- `d` -- dimension de la maison\n- `c` -- couleur de la maison\n\n"
  },
  {
   "cell_type": "markdown",
   "metadata": {},
   "source": "<h3 style=\"color:teal;background-color:azure;\" > <i class=\"fa fa-pencil\" aria-hidden=\"true\"> </i> &nbsp; Exercice 4 </h3>Aujoutez deux autres maisons de taille et couleur différente.\n\n"
  },
  {
   "cell_type": "code",
   "execution_count": null,
   "metadata": {
    "trusted": false
   },
   "outputs": [],
   "source": "from turtle import *\nup()\n\ndef maison(d, c):\n    dot()\n    down()\n    fillcolor(c)\n    begin_fill()\n    forward (1.41*d)  # sol\n    left(90)\n    forward(d)  # mur droit\n    left(45)\n    forward(d)  # toit droit\n    left(90)\n    forward(d)  # toit gauche\n    left(45)\n    forward(d)  # mur gauche\n    left(90)\n    end_fill()\n    up()\n\ngoto(0,0)\nmaison(70, 'lightblue')\ngoto(150, 30)\nmaison(50, 'yellow')\n\ndone()\n"
  },
  {
   "cell_type": "markdown",
   "metadata": {},
   "source": "## Drapeau tricolore\n\n"
  },
  {
   "cell_type": "markdown",
   "metadata": {},
   "source": "<h3 style=\"color:teal;background-color:azure;\" > <i class=\"fa fa-pencil\" aria-hidden=\"true\"> </i> &nbsp; Exercice 5 </h3>\n\n1. Modifiez les couleurs pour afficher le drapeau de l'irlande (ou d'un autre pays de votre choix).  \n2. Créez une deuxième fonction `drapeau2(d, c, c2, c3)` qui crée un drapeau avec des barres horizontales et utilisez là pour dessiner le drapeau des pays bas  (ou d'un autre pays de votre choix)."
  },
  {
   "cell_type": "code",
   "execution_count": null,
   "metadata": {
    "trusted": false
   },
   "outputs": [],
   "source": "from turtle import *\n\ndef rectangle(d, e, c):\n    fillcolor(c)\n    begin_fill()\n    for i in range(2):\n        forward(d)\n        left(90)\n        forward(e)\n        left(90)\n    end_fill()\n\ndef drapeau(d, c1, c2, c3):\n    rectangle(d, 2*d, c1)\n    forward(d)\n    rectangle(d, 2*d, c2)\n    forward(d)\n    rectangle(d, 2*d, c3)\n\ndrapeau(50, 'blue', 'white', 'red')\n\ndone()\n"
  },
  {
   "cell_type": "markdown",
   "metadata": {},
   "source": "## Arbre\n\nPour dessiner un arbre simple, nous utilisons un segment droit pour le tronc et un disque (dot) pour le feuillage.\nC'est une fonction qui a 3 paramètres\n\n- `d` -- longueur du tronc\n- `c` -- couleur du tronc\n- `c2` -- couleur du feuillage\n\n"
  },
  {
   "cell_type": "markdown",
   "metadata": {},
   "source": "<h3 style=\"color:teal;background-color:azure;\" > <i class=\"fa fa-pencil\" aria-hidden=\"true\"> </i> &nbsp; Exercice 6 </h3>\n\nDéfinissez et utilisez une fonction `foret(n)` qui dessine `n` arbres.\n\n"
  },
  {
   "cell_type": "code",
   "execution_count": null,
   "metadata": {
    "trusted": false
   },
   "outputs": [],
   "source": "from turtle import *\n\ndef arbre(d, c, c2):\n    down()\n    left(90)\n    width(d/6)      # tronc\n    pencolor(c)\n    forward(d)\n    dot(d, c2)      # feuillage\n    up()\n    backward(d)     # retourner à la position de départ\n    right(90)\n\n\narbre(100, 'brown', 'lime')\nforward(70)\narbre(90, 'brown', 'green')\n\ndone()\n"
  },
  {
   "cell_type": "markdown",
   "metadata": {},
   "source": "## Coeur\n\n"
  },
  {
   "cell_type": "markdown",
   "metadata": {},
   "source": "<h3 style=\"color:teal;background-color:azure;\" > <i class=\"fa fa-pencil\" aria-hidden=\"true\"> </i> &nbsp; Exercice 7 </h3>\n\nAjoutez deux paramètres: `w` pour l'épaisseur de la ligne (width), et `c2` pour la couleur de ligne.  \nLa fonction aura la forme `coeur(r, w, c, c2)`.\n\n"
  },
  {
   "cell_type": "code",
   "execution_count": null,
   "metadata": {
    "trusted": false
   },
   "outputs": [],
   "source": "from turtle import *\n\ndef coeur(r, c):\n    down()\n    fillcolor(c)\n    begin_fill()\n    left(90)\n    circle(r, 225)\n    forward(2.4*r)\n    left(90)\n    forward(2.4*r)\n    circle(r, 225)\n    left(90)\n    end_fill()\n    up()\n\ncoeur(50, 'darkviolet')\nforward(130)\ncoeur(40, 'tomato')\n\ndone()\n"
  },
  {
   "cell_type": "markdown",
   "metadata": {},
   "source": "## Exercices d'entraînement "
  },
  {
   "cell_type": "markdown",
   "metadata": {},
   "source": "<h3 style=\"color:teal;background-color:azure;\" > <i class=\"fa fa-pencil\" aria-hidden=\"true\"> </i> &nbsp; Exercice 8 </h3>\n\nCorrigez le programme ci-dessous afin qu'il affiche un triangle rouge"
  },
  {
   "cell_type": "code",
   "execution_count": null,
   "metadata": {
    "trusted": false
   },
   "outputs": [],
   "source": "from turtle import *\n\ndef triangle_couleur(d, c):\n    pencolor(c)\n    for i in range(3):\n        forward(d)\n        left(120)\n\ntriangle_couleur(\"red\", 100)\n\ndone()"
  },
  {
   "cell_type": "markdown",
   "metadata": {},
   "source": "<h3 style=\"color:teal;background-color:azure;\" > <i class=\"fa fa-pencil\" aria-hidden=\"true\"> </i> &nbsp; Exercice 9 </h3>\n\n1. Testez le programme suivant ci-dessous.\n2. Définissez une fonction `triangle(l)`, qui permet de tracer des triangles équilatéraux de longueur lg, et utilisez-là pour réduire le nombre d’instructions du programme. \n\n**NB**: Le nombre d'instructions du programme doit être au moins divisé par 2.\n"
  },
  {
   "cell_type": "code",
   "execution_count": null,
   "metadata": {
    "trusted": false
   },
   "outputs": [],
   "source": "from turtle import *\n\n# pour être à gauche du canevas\nbackward(250)\n\n# Code à factoriser\nfor k in range(3):\n    forward(30)\n    right(120)\nforward(30)\nfor k in range(3):\n    forward(60)\n    right(120)\nforward(60)\nfor k in range(3):\n    forward(90)\n    right(120)\nforward(90)\nfor k in range(3):\n    forward(120)\n    right(120)\nforward(120)\nfor k in range(3):\n    forward(150)\n    right(120)\n\ndone()\n"
  },
  {
   "cell_type": "markdown",
   "metadata": {},
   "source": "<h3 style=\"color:teal;background-color:azure;\" > <i class=\"fa fa-pencil\" aria-hidden=\"true\"> </i> &nbsp; Exercice 10 </h3>\n\n\nDéfinir une fonction `carre_couleur(d,c )` qui demande à la tortue de\ndessiner des carrés colorés de longueur variés. Elle doit dessiner trois carrés comme sur la figure ci-dessous.\n\n![Image carres colorés](https://githepia.hesge.ch/info_sismondi/exercices-1ere/-/raw/main/Notebooks/imgs_chap4/ex_carres_couleur.png)"
  },
  {
   "cell_type": "code",
   "execution_count": null,
   "metadata": {
    "trusted": false
   },
   "outputs": [],
   "source": "from turtle import *\n\n# a compléter\n\ndone()"
  },
  {
   "cell_type": "markdown",
   "metadata": {},
   "source": "<h3 style=\"color:teal;background-color:azure;\" > <i class=\"fa fa-pencil\" aria-hidden=\"true\"> </i> &nbsp; Exercice 11 </h3>\n\nDéfinissez une commande `rangee_triangles(nombre, cote)` qui dessine une rangée de pyramides selon l’illustration. Chaque triangle a des côtés de longueur `cote`.\nLe paramètre `nombre` indique le nombre de triangles dans la rangée. Utilisez ensuite\ncette commande pour dessiner une rangée de 13 triangles de côtés 31, centrée au\nmilieu de la fenêtre.\n\n![Image rangee de triangle](https://githepia.hesge.ch/info_sismondi/exercices-1ere/-/raw/main/Notebooks/imgs_chap4/ex_triangles.png)"
  },
  {
   "cell_type": "code",
   "execution_count": null,
   "metadata": {
    "trusted": false
   },
   "outputs": [],
   "source": "from turtle import *\n\ndef rangee_triangles(nombre, cote):\n    # a compléter\n\n# a compléter\n\ndone()"
  },
  {
   "cell_type": "markdown",
   "metadata": {},
   "source": "<h3 style=\"color:teal;background-color:azure;\" > <i class=\"fa fa-pencil\" aria-hidden=\"true\"> </i> &nbsp; Exercice 12 </h3>\n\nDéfinissez une fonction `maison(h, c)` qui dessine une maison avec une porte de hauteur `h` et de vouleur `c`. \nLes autres dimensions de la maison sont représentées sur l'image ci-dessous.\n![Image rangee de triangle](https://githepia.hesge.ch/info_sismondi/exercices-1ere/-/raw/main/Notebooks/imgs_chap4/maison_dim.svg)\nÉcrire un programme qui utilise la fonction `maison(h, c)` pour reproduire la figure suivante:\n![Image rangee de triangle](https://githepia.hesge.ch/info_sismondi/exercices-1ere/-/raw/main/Notebooks/imgs_chap4/village.svg)"
  },
  {
   "cell_type": "code",
   "execution_count": null,
   "metadata": {
    "trusted": false
   },
   "outputs": [],
   "source": "from turtle import *\n\n\ndef maison(h, c):\n    # a compléter\n    \n\nspeed(9) # pour dessiner vite\n# dessiner le village (a compléter)\n# a compléter\ndone()"
  },
  {
   "cell_type": "markdown",
   "metadata": {},
   "source": "# Complément sur les valeurs par défaut *\n\nQuand une fonction possède beaucoup d'arguments, nous pouvons spécifier des valeurs par défaut. Pour ceci nous ajoutons la valeur par défaut dans la liste de paramètres avec le symbole `=`.\n\nLa fonction `rectangle(p, d, e, w=1, pen='black', fill='white')` dessine un rectangle aux dimensions `d` x `e` à la position `p`.\nCette fonction possède 3 paramètres optionnels (valeur par défaut en parenthèse):\n\n- `w` -- épaisseur de ligne (`1`)\n- `pen` -- couleur de ligne (`'black'`)\n- `fill` -- couleur de remplissage (`'white'`)\n\nIl a maintenant différentes façons à appeler la fonction. Tous les paramètres qui ont une valeur par défaut sont optionnels. Au minimum nous devons spécifier les paramètres sans valeur par défaut.\n\n```\nrectangle((40, 0), 80, 40)\n```\n\nLe rectangle est dessiné dans la direction actuelle de la tortue. Cette orientation peut être changée avec `seth()`. La tortue se positionne de l'autre côté du point de départ. Ceci permet d'enchainer à dessiner des rectangles.\n\n"
  },
  {
   "cell_type": "code",
   "execution_count": null,
   "metadata": {
    "trusted": false
   },
   "outputs": [],
   "source": "from turtle import *\npenup()\n\ndef rectangle(p, d, e, w=1, pen='black', fill='white'):\n    goto(p)\n    pendown()\n    width(w)\n    pencolor(pen)\n    fillcolor(fill)\n    begin_fill()\n    for i in range(2):\n        forward(d)\n        left(90)\n        forward(e)\n        left(90)\n    end_fill()\n    penup()\n\nrectangle([-200, 30], 40, 30)\nrectangle([-100, -20], 40, 30, 1, 'orange', 'orange')\nrectangle([100, -40], 30, 80, fill='yellow')\nrectangle([200, 100], 80, 40, 1, 'red', 'pink')\n\ndone()\n"
  },
  {
   "cell_type": "markdown",
   "metadata": {},
   "source": "## Polygone régulier\n\n_Rappel: Un polygone est une figure géométrique plane fermée, formée par une suite de segments de droite qui se rejoignent en leurs extrémités._\n\nLa fonction `polygone()` dessine un polygone régulier avec n sommets. Les arguments de la fonction sont :\n\n- `d` -- distance du segment\n- `n` -- nombre de segments\n\n"
  },
  {
   "cell_type": "code",
   "execution_count": null,
   "metadata": {
    "trusted": false
   },
   "outputs": [],
   "source": "from turtle import *\n\ndef polygon(d, n, w=1, pen='black', fill='white'):\n    down()\n    pencolor(pen)\n    width(w)\n    fillcolor(fill)\n    begin_fill()\n    for i in range(n):\n        forward(d)\n        left(360/n)\n    end_fill()\n    up()\n\nup()\nbackward(280)\nfor n in range(3, 9):\n    polygon(40, n, fill='lime')\n    color('black')\n    forward(100)\n\ndone()\n"
  },
  {
   "cell_type": "markdown",
   "metadata": {},
   "source": "## Polygone étoilé\n\nEn ajoutant un paramètre supplémentaire `m`, la fonction `polygone()` permet également de dessiner un polygone étoilé.  Ce paramètre signifie le nombre de pics sauté pour aller au prochain des `n` points répartis dans un cercle. Pour `m=1` un polygone régulier est dessiné.\n\nes arguments de la fonction sont :\n\n- `d` -- distance du segment\n- `n` -- nombre de segments\n- `m` -- paramètre pour polygone étoilé (nombre de pics sautés)\n\n"
  },
  {
   "cell_type": "code",
   "execution_count": null,
   "metadata": {
    "trusted": false
   },
   "outputs": [],
   "source": "from turtle import *\n\ndef polygon(d, n, m=1, w=1, pen='black', fill='white'):\n    down()\n    pencolor(pen)\n    width(w)\n    fillcolor(fill)\n    begin_fill()\n    for i in range(n):\n        forward(d)\n        left(m*360/n)\n    end_fill()\n    up()\n\nup()\nspeed(0)\nbackward(250)\nfor m in range(2, 6):\n    polygon(80, 11, m, fill='yellow')\n    color('black')\n    forward(140)\n\ndone()\n"
  },
  {
   "cell_type": "markdown",
   "metadata": {},
   "source": "<h3 style=\"color:teal;background-color:azure;\" > <i class=\"fa fa-pencil\" aria-hidden=\"true\"> </i> &nbsp; Exercice 12 </h3>\n\nUtilisez la fonction `rectangle(p, d, e, w, pen, fill)` pour dessiner une copie de ce tableau de Mondrian.\n"
  },
  {
   "cell_type": "markdown",
   "metadata": {},
   "source": "![mondrian](https://raw.githubusercontent.com/edunumsec2/book/master/src/appr/prog1/media/mondrian.jpg)\n\n"
  },
  {
   "cell_type": "markdown",
   "metadata": {},
   "source": "---\n\n#### Remarque générale\n\nCe document est une adaptation d'un ressource pédagogique tiré du catalogue modulo https://modulo-info.ch/. Il est sous license Creative Commons [BY-NC-SA](https://creativecommons.org/licenses/?lang=fr)\n![Licence Creative Commons](https://i.creativecommons.org/l/by-nc-sa/4.0/88x31.png)"
  }
 ],
 "metadata": {
  "kernelspec": {
   "display_name": "Python 3 (ipykernel)",
   "language": "python",
   "name": "python3"
  },
  "language_info": {
   "codemirror_mode": {
    "name": "ipython",
    "version": 3
   },
   "file_extension": ".py",
   "mimetype": "text/x-python",
   "name": "python",
   "nbconvert_exporter": "python",
   "pygments_lexer": "ipython3",
   "version": "3.10.12"
  }
 },
 "nbformat": 4,
 "nbformat_minor": 2
}
