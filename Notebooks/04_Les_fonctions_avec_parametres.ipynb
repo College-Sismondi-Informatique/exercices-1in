{
 "cells": [
  {
   "cell_type": "markdown",
   "metadata": {},
   "source": [
    "# 4. Les fonctions avec paramètres\n",
    "\n",
    "Dans cette leçon, nous allons approfondir le concept de la fonction. Dans la leçon 3 sur les fonctions simples, nous avons vu la fonction comme une façon de donner un nom à une séquence d'instructions. Ici nous allons voir comment nous pouvons ajouter un ou plusieurs paramètres à une fonction. Nous allons voir que :\n",
    "\n",
    "- l'expression `def rect(d, e):` permet de définir une fonction avec deux paramètres,\n",
    "- les paramètres `d, e` sont des variables locales valides uniquement à l'intérieur de la définition de fonction,\n",
    "- ces paramètres prennent une valeur au moment de l'appel  de la fonction avec `rect(50, 30)`.\n",
    "\n"
   ]
  },
  {
   "cell_type": "markdown",
   "metadata": {},
   "source": [
    "<h3 style=\"color:chocolate;background-color:papayawhip;\" > <i class=\"fa fa-question\" aria-hidden=\"true\"> </i> &nbsp; Quizz </h3> \n",
    " \n",
    "```\n",
    "En Python, `def` est un raccourci pour\n",
    "\n",
    "A) défoncé\n",
    "B) défilé\n",
    "C) définition\n",
    "D) défavorisé\n",
    "```"
   ]
  },
  {
   "cell_type": "raw",
   "metadata": {},
   "source": [
    "Ma réponse: "
   ]
  },
  {
   "cell_type": "markdown",
   "metadata": {},
   "source": [
    "<details>\n",
    "<summary style=\"border-left:3px solid #3c763d; border-radius:2pt; width:100%; color:#3c763d; padding:6px; background-color: #dff0d8\"> \n",
    "Réponse\n",
    "</summary>  \n",
    "\n",
    "<div style=\"border-left:3px solid #3c763d; border-radius:2pt; color:#3c763d; padding:6px; background-color: #eff0e8\">\n",
    "C) définition\n",
    "</div>\n",
    "</details>"
   ]
  },
  {
   "cell_type": "markdown",
   "metadata": {},
   "source": [
    "## Paramétrer une fonction\n",
    "\n",
    "Jusqu'à maintenant, notre rectangle était d'une taille fixe. La fonction `rectangle()` de la leçon 3 sur les fonctions simples \n",
    "```python \n",
    "def rectangle():\n",
    "    forward(160)\n",
    "    left(90)\n",
    "    forward(100)\n",
    "    left(90)\n",
    "    forward(160)\n",
    "    left(90)\n",
    "    forward(100)\n",
    "    left(90)\n",
    "```\n",
    " dessine toujours un rectangle de 160 x 100 pixels. Il faudrait faire une nouvelle fonction `rectangle2()` si on voulait dessiner une taille différente.\n",
    "\n",
    "Il serait très utile de disposer d'une fonction de la forme `rectangle(d, e)` qui puisse dessiner des rectangles de largeur et hauteur variable.\n",
    "C'est possible en spécifiant des **paramètres** pour la fonction.\n",
    "Un paramètre de fonction est une **variable locale** qui peut être utilisée dans sa définition.\n",
    "\n",
    "Lors de l'appel de la fonction, nous donnons des valeurs à la fonction.\n",
    "Ces valeurs sont les **arguments** de la fonction.\n",
    "\n"
   ]
  },
  {
   "cell_type": "markdown",
   "metadata": {},
   "source": [
    "<h3 style=\"color:teal;background-color:azure;\" > <i class=\"fa fa-pencil\" aria-hidden=\"true\"> </i> &nbsp; Exercice 1 </h3>\n",
    "\n",
    "Complétez le programme ci-dessous afin de dessiner un deuxième rectangle avec d'autres dimensions.\n",
    "\n"
   ]
  },
  {
   "cell_type": "code",
   "execution_count": null,
   "metadata": {},
   "outputs": [],
   "source": [
    "from turtle import *\n",
    "\n",
    "def rectangle(d, e):    # paramètres (d, e)\n",
    "    for i in range(2):\n",
    "        forward(d)\n",
    "        left(90)\n",
    "        forward(e)\n",
    "        left(90)\n",
    "\n",
    "rectangle(160, 100)      # largeur=160, hauteur=100\n",
    "\n",
    "# à compléter\n",
    "\n",
    "done()"
   ]
  },
  {
   "cell_type": "markdown",
   "metadata": {},
   "source": [
    "### Exemples de fonctions avec des paramétres\n"
   ]
  },
  {
   "cell_type": "markdown",
   "metadata": {},
   "source": [
    "**Exemple 1 : Le Losange**\n",
    "\n",
    "Essayez de comprendre le programme ci-dessous, puis exécutez le..."
   ]
  },
  {
   "cell_type": "code",
   "execution_count": null,
   "metadata": {},
   "outputs": [],
   "source": [
    "from turtle import *\n",
    "\n",
    "def losange(d, a):      # paramètres (d=distance, a=angle)\n",
    "    for i in range(2):\n",
    "        forward(d)\n",
    "        left(a)\n",
    "\n",
    "        forward(d)\n",
    "        left(180-a)\n",
    "\n",
    "losange(100, 60)            # distance=100, angle=60\n",
    "losange(140, 100)           # distance=140, angle=100\n",
    "\n",
    "done()\n"
   ]
  },
  {
   "cell_type": "markdown",
   "metadata": {},
   "source": [
    "On remarque que la fonction `losange(a, angle)`, définie ci-dessus, a comme paramètre la longueur et le premier angle. \n",
    "\n",
    "Remarque: Le deuxième angle du losange est calculé."
   ]
  },
  {
   "cell_type": "markdown",
   "metadata": {},
   "source": [
    "**Exemple 2 : Le polygone**\n",
    "\n",
    "Essayez de comprendre le programme ci-dessous, puis exécutez le..."
   ]
  },
  {
   "cell_type": "code",
   "execution_count": null,
   "metadata": {},
   "outputs": [],
   "source": [
    "from turtle import *\n",
    "\n",
    "def polygone(d, n):     # paramètres (d, n)\n",
    "    for i in range(n):\n",
    "        forward(d)\n",
    "        left(360/n)\n",
    "\n",
    "polygone(100, 3)    # triangle\n",
    "polygone(100, 4)    # carré\n",
    "polygone(100, 5)    # pentagon\n",
    "\n",
    "done()\n"
   ]
  },
  {
   "cell_type": "markdown",
   "metadata": {},
   "source": [
    "On remarque que la fonction `polygone(d, n)` a comme paramètre la distance d'un côté et le nombre de sommets.\n",
    "\n"
   ]
  },
  {
   "cell_type": "markdown",
   "metadata": {},
   "source": [
    "## Retour à la maison...\n",
    "\n",
    "Revenons à l'exemple d'une fonction qui dessine une maison.\n"
   ]
  },
  {
   "cell_type": "markdown",
   "metadata": {},
   "source": [
    "<h3 style=\"color:teal;background-color:azure;\" > <i class=\"fa fa-pencil\" aria-hidden=\"true\"> </i> &nbsp; Exercice 2 </h3>\n",
    "\n",
    "Complétez le programme afin qu'il dessine une troisième maison de taille 100.\n",
    "\n"
   ]
  },
  {
   "cell_type": "code",
   "execution_count": null,
   "metadata": {},
   "outputs": [],
   "source": [
    "from turtle import *\n",
    "\n",
    "def maison(d):\n",
    "    dot()\n",
    "    forward (1.41*d)  # sol\n",
    "    left(90)\n",
    "    forward(d)  # mur droit\n",
    "    left(45)\n",
    "    forward(d)  # toit droit\n",
    "    left(90)\n",
    "    forward(d)  # toit gauche\n",
    "    left(45)\n",
    "    forward(d)  # mur gauche\n",
    "    left(90)\n",
    "\n",
    "backward(200)\n",
    "maison(50)      # maison de taille 50\n",
    "forward(100)\n",
    "maison(70)      # maison de taille 70\n",
    "\n",
    "# à compléter\n",
    "\n",
    "done()\n"
   ]
  },
  {
   "cell_type": "markdown",
   "metadata": {},
   "source": [
    "## Positionner la maison\n",
    "\n",
    "!!! info Rappel\n",
    "Au départ, la tortue se trouve au centre d'une zone rectangulaire appelée _canevas_. \n",
    "![Image caneva](https://githepia.hesge.ch/info_sismondi/exercices-1ere/-/raw/main/Notebooks/imgs_chap4/canevas.png)\n",
    "Ce rectangle a les propriétés suivantes :\n",
    "\n",
    "- l'origine (0, 0) se trouve au centre,\n",
    "- l'axe horizontal x, s'étend de -300 à +300 (à droite),\n",
    "- l'axe vertical y, s'étend de -200 à +200 (en haut).\n",
    "!!!\n",
    "\n",
    "La fonction `goto(x, y)` permet de placer directement la tortue à la position de coordonnées `(x, y)`. On peut utiliser `goto(x, y)` pour positionner notre maison à un endroit précis.\n",
    "\n",
    "Pour désigner une position, nous utilisons la variable `p` (p pour position) qui représente le couple de coordonnées `[x, y]`."
   ]
  },
  {
   "cell_type": "markdown",
   "metadata": {},
   "source": [
    "<h3 style=\"color:teal;background-color:azure;\" > <i class=\"fa fa-pencil\" aria-hidden=\"true\"> </i> &nbsp; Exercice 3 </h3>Aujoutez deux autres maisons de taille différente.\n",
    "\n"
   ]
  },
  {
   "cell_type": "code",
   "execution_count": null,
   "metadata": {},
   "outputs": [],
   "source": [
    "from turtle import *\n",
    "\n",
    "def maison(p , d):\n",
    "    goto(p)     # aller à la position p\n",
    "    dot()       # ajouter un marquer (dot)\n",
    "    down()\n",
    "    forward (1.41*d)  # sol\n",
    "    left(90)\n",
    "    forward(d)  # mur droit\n",
    "    left(45)\n",
    "    forward(d)  # toit droit\n",
    "    left(90)\n",
    "    forward(d)  # toit gauche\n",
    "    left(45)\n",
    "    forward(d)  # mur gauche\n",
    "    left(90)\n",
    "    up()\n",
    "\n",
    "maison([0, 0], 50)          # maison à la position (0, 0)\n",
    "maison([-150, 50], 70)      # maison à la position (-150, 50)\n",
    "\n",
    "done()"
   ]
  },
  {
   "cell_type": "markdown",
   "metadata": {},
   "source": [
    "!!! info Les listes\n",
    "En Python les données peuvent être de plusieurs type. Par exemple, nous avons déjà rencontré le type nombre entier (`int`),  nombre à virgule **flottante** (`float`) et chaînes de caractères (`str`).\n",
    "\n",
    "En python, le type `list` permet de définir des données composée d e plusieurs valeurs. Il suffit de mettre les valeurs, séparées par des virgules, entre des crochets.\n",
    "!!!"
   ]
  },
  {
   "cell_type": "markdown",
   "metadata": {},
   "source": [
    "## Colorier la maison\n",
    "\n",
    "Maintenant nous modifions la fonction pour inclure non seulement la position, la taille, mais également la couleur de la maison comme paramètres. Les arguments de la fonction sont :\n",
    "\n",
    "- `p` -- position de la maison\n",
    "- `d` -- dimension de la maison\n",
    "- `c` -- couleur de la maison\n",
    "\n"
   ]
  },
  {
   "cell_type": "markdown",
   "metadata": {},
   "source": [
    "<h3 style=\"color:teal;background-color:azure;\" > <i class=\"fa fa-pencil\" aria-hidden=\"true\"> </i> &nbsp; Exercice 4 </h3>Aujoutez deux autres maisons de taille et couleur différente.\n",
    "\n"
   ]
  },
  {
   "cell_type": "code",
   "execution_count": null,
   "metadata": {},
   "outputs": [],
   "source": [
    "from turtle import *\n",
    "up()\n",
    "\n",
    "def maison(p, d, c):\n",
    "    goto(p)\n",
    "    dot()\n",
    "    down()\n",
    "    fillcolor(c)\n",
    "    begin_fill()\n",
    "    forward (1.41*d)  # sol\n",
    "    left(90)\n",
    "    forward(d)  # mur droit\n",
    "    left(45)\n",
    "    forward(d)  # toit droit\n",
    "    left(90)\n",
    "    forward(d)  # toit gauche\n",
    "    left(45)\n",
    "    forward(d)  # mur gauche\n",
    "    left(90)\n",
    "    end_fill()\n",
    "    up()\n",
    "\n",
    "maison([0, 0], 70, 'lightblue')\n",
    "maison([150, 30], 50, 'yellow')\n",
    "\n",
    "done()\n"
   ]
  },
  {
   "cell_type": "markdown",
   "metadata": {},
   "source": [
    "## Drapeau tricolore\n",
    "\n"
   ]
  },
  {
   "cell_type": "markdown",
   "metadata": {},
   "source": [
    "<h3 style=\"color:teal;background-color:azure;\" > <i class=\"fa fa-pencil\" aria-hidden=\"true\"> </i> &nbsp; Exercice 5 </h3>\n",
    "\n",
    "1. Modifiez les couleurs pour afficher le drapeau de l'irlande (ou d'un autre pays de votre choix).  \n",
    "2. Créez une deuxième fonction `drapeau2(d, c, c2, c3)` qui crée un drapeau avec des barres horizontales et utilisez là pour dessiner le drapeau des pays bas  (ou d'un autre pays de votre choix)."
   ]
  },
  {
   "cell_type": "code",
   "execution_count": null,
   "metadata": {},
   "outputs": [],
   "source": [
    "from turtle import *\n",
    "\n",
    "def rectangle(d, e, c):\n",
    "    fillcolor(c)\n",
    "    begin_fill()\n",
    "    for i in range(2):\n",
    "        forward(d)\n",
    "        left(90)\n",
    "        forward(e)\n",
    "        left(90)\n",
    "    end_fill()\n",
    "\n",
    "def drapeau(d, c1, c2, c3):\n",
    "    rectangle(d, 2*d, c1)\n",
    "    forward(d)\n",
    "    rectangle(d, 2*d, c2)\n",
    "    forward(d)\n",
    "    rectangle(d, 2*d, c3)\n",
    "\n",
    "drapeau(50, 'blue', 'white', 'red')\n",
    "\n",
    "done()\n"
   ]
  },
  {
   "cell_type": "markdown",
   "metadata": {},
   "source": [
    "## Arbre\n",
    "\n",
    "Pour dessiner un arbre simple, nous utilisons un segment droit pour le tronc et un disque (dot) pour le feuillage.\n",
    "C'est une fonction qui a 3 paramètres\n",
    "\n",
    "- `d` -- longueur du tronc\n",
    "- `c` -- couleur du tronc\n",
    "- `c2` -- couleur du feuillage\n",
    "\n"
   ]
  },
  {
   "cell_type": "markdown",
   "metadata": {},
   "source": [
    "<h3 style=\"color:teal;background-color:azure;\" > <i class=\"fa fa-pencil\" aria-hidden=\"true\"> </i> &nbsp; Exercice 6 </h3>\n",
    "\n",
    "Définissez et utilisez une fonction `foret(n)` qui dessine `n` arbres.\n",
    "\n"
   ]
  },
  {
   "cell_type": "code",
   "execution_count": null,
   "metadata": {},
   "outputs": [],
   "source": [
    "from turtle import *\n",
    "\n",
    "def arbre(d, c, c2):\n",
    "    down()\n",
    "    left(90)\n",
    "    width(d/6)      # tronc\n",
    "    pencolor(c)\n",
    "    forward(d)\n",
    "    dot(d, c2)      # feuillage\n",
    "    up()\n",
    "    backward(d)     # retourner à la position de départ\n",
    "    right(90)\n",
    "\n",
    "\n",
    "arbre(100, 'brown', 'lime')\n",
    "forward(70)\n",
    "arbre(90, 'brown', 'green')\n",
    "\n",
    "done()\n"
   ]
  },
  {
   "cell_type": "markdown",
   "metadata": {},
   "source": [
    "## Coeur\n",
    "\n"
   ]
  },
  {
   "cell_type": "markdown",
   "metadata": {},
   "source": [
    "<h3 style=\"color:teal;background-color:azure;\" > <i class=\"fa fa-pencil\" aria-hidden=\"true\"> </i> &nbsp; Exercice 7 </h3>\n",
    "\n",
    "Ajoutez deux paramètres: `w` pour l'épaisseur de la ligne (width), et `c2` pour la couleur de ligne.  \n",
    "La fonction aura la forme `coeur(r, w, c, c2)`.\n",
    "\n"
   ]
  },
  {
   "cell_type": "code",
   "execution_count": null,
   "metadata": {},
   "outputs": [],
   "source": [
    "from turtle import *\n",
    "\n",
    "def coeur(r, c):\n",
    "    down()\n",
    "    fillcolor(c)\n",
    "    begin_fill()\n",
    "    left(90)\n",
    "    circle(r, 225)\n",
    "    forward(2.4*r)\n",
    "    left(90)\n",
    "    forward(2.4*r)\n",
    "    circle(r, 225)\n",
    "    left(90)\n",
    "    end_fill()\n",
    "    up()\n",
    "\n",
    "coeur(50, 'darkviolet')\n",
    "forward(130)\n",
    "coeur(40, 'tomato')\n",
    "\n",
    "done()\n"
   ]
  },
  {
   "cell_type": "markdown",
   "metadata": {},
   "source": [
    "## Autres exemples de fonction\n",
    "\n",
    "**Exemple 1: Dessiner un bus**\n",
    "\n",
    "Pour dessiner un bus, une voiture ou un camion simple, nous pouvons utiliser des rectangles pour le châssis, et un disque (dot) pour les roues.\n",
    "C'est une fonction qui a comme paramètres\n",
    "\n",
    "- `p` -- position du bus\n",
    "- `d` -- dimension (longeur) du bus\n",
    "- `c` -- couleur du bus"
   ]
  },
  {
   "cell_type": "code",
   "execution_count": null,
   "metadata": {},
   "outputs": [],
   "source": [
    "from turtle import *\n",
    "up()\n",
    "\n",
    "def rectangle(d, e, c):\n",
    "    fillcolor(c)\n",
    "    begin_fill()\n",
    "    for i in range(2):\n",
    "        forward(d)\n",
    "        left(90)\n",
    "        forward(e)\n",
    "        left(90)\n",
    "    end_fill()\n",
    "\n",
    "def bus(p, d, c):\n",
    "    goto(p)\n",
    "    down()\n",
    "    rectangle(d, d/3, c) # chassis\n",
    "    forward(d/4)\n",
    "    dot(d/5)            # roue arrière\n",
    "    dot(d/10, 'white')\n",
    "    forward(d/2)\n",
    "    dot(d/5)            # roue avant\n",
    "    dot(d/10, 'white')\n",
    "    up()\n",
    "\n",
    "bus([-200, 50], 200, 'red')\n",
    "bus([50, 20], 150, 'lightblue')\n",
    "\n",
    "done()\n"
   ]
  },
  {
   "cell_type": "markdown",
   "metadata": {},
   "source": [
    "**Exemple 2: L'escalier**\n",
    "\n",
    "Pour dessiner un escalier notre fonction aura les paramètres suivants:\n",
    "\n",
    "- `d` -- longueur de marche\n",
    "- `e` -- hauteur de marche\n",
    "- `n` -- nombre de marches\n",
    "\n"
   ]
  },
  {
   "cell_type": "code",
   "execution_count": null,
   "metadata": {
    "scrolled": true
   },
   "outputs": [],
   "source": [
    "from turtle import *\n",
    "\n",
    "def escalier(d, e, n):\n",
    "    dot()   # marqueur de début\n",
    "    for i in range(n):\n",
    "        forward(d)\n",
    "        left(90)\n",
    "        forward(e)\n",
    "        right(90)\n",
    "\n",
    "escalier(20, 10, 5)\n",
    "escalier(10, -20, 5)\n",
    "escalier(30, 10, 4)\n",
    "\n",
    "done()\n"
   ]
  },
  {
   "cell_type": "markdown",
   "metadata": {},
   "source": [
    "## Nommer une variable\n",
    "\n",
    "Pour nommer une variable, on utilise les caractères suivants :\n",
    "\n",
    "- lettres (`a...z` et `A...Z`),\n",
    "- chiffres (`0...9`),\n",
    "- le tiret bas (`_`).\n",
    "\n",
    "Le nom de variable :\n",
    "\n",
    "- est sensible aux majuscules/minuscules (`BUS` et `bus` sont des noms de variables différents),\n",
    "- ne peut pas commencer avec un chiffre,\n",
    "- ne doit pas consister d'un mot-clé (`def`, `for`, `in`, `from`, ...),\n",
    "\n",
    "Par exemplee, les noms de variables suivantes sont valides : \n",
    "    `a2`, `_a`, `speed`, `pos_x`, `POS_X`,\n",
    "\n",
    "tandis que ceux là ne le sont pas :   `2a`, `def`, `pos x`.\n"
   ]
  },
  {
   "cell_type": "markdown",
   "metadata": {},
   "source": [
    "<h3 style=\"color:chocolate;background-color:papayawhip;\" > <i class=\"fa fa-question\" aria-hidden=\"true\"> </i> &nbsp; Quizz </h3> \n",
    " \n",
    "```\n",
    "Lesquels des noms de variable sont valides ?\n",
    "\n",
    "A) var 2\n",
    "B) var2\n",
    "C) 2var\n",
    "D) IF\n",
    "```"
   ]
  },
  {
   "cell_type": "raw",
   "metadata": {},
   "source": [
    "Votre réponse: "
   ]
  },
  {
   "cell_type": "markdown",
   "metadata": {},
   "source": [
    "<details>\n",
    "<summary style=\"border-left:3px solid #3c763d; border-radius:2pt; width:100%; color:#3c763d; padding:6px; background-color: #dff0d8\"> \n",
    "Réponse\n",
    "</summary>  \n",
    "\n",
    "<div style=\"border-left:3px solid #3c763d; border-radius:2pt; color:#3c763d; padding:6px; background-color: #eff0e8\">\n",
    "\n",
    "B) `var2`\n",
    "    \n",
    "D) `IF` serait valable car différent du mot clé `if` (rappel : Python est sensible aux majuscules/minuscules)\n",
    "    \n",
    "Les deux autres ne sont pas valables car `var 2` contient une espace et `2var` commence par un chiffre.\n",
    "    \n",
    "</div>\n",
    "</details>"
   ]
  },
  {
   "cell_type": "markdown",
   "metadata": {},
   "source": [
    "## Exercices d'entraînement "
   ]
  },
  {
   "cell_type": "markdown",
   "metadata": {},
   "source": [
    "<h3 style=\"color:teal;background-color:azure;\" > <i class=\"fa fa-pencil\" aria-hidden=\"true\"> </i> &nbsp; Exercice 8 </h3>\n",
    "\n",
    "Corrigez le programme ci-dessous afin qu'il affiche un triangle rouge"
   ]
  },
  {
   "cell_type": "code",
   "execution_count": null,
   "metadata": {},
   "outputs": [],
   "source": [
    "from turtle import *\n",
    "\n",
    "def triangle_couleur(d, c):\n",
    "    pencolor(c)\n",
    "    for i in range(3):\n",
    "        forward(d)\n",
    "        left(120)\n",
    "\n",
    "triangle_couleur(\"red\", 100)\n",
    "\n",
    "done()"
   ]
  },
  {
   "cell_type": "markdown",
   "metadata": {},
   "source": [
    "<h3 style=\"color:teal;background-color:azure;\" > <i class=\"fa fa-pencil\" aria-hidden=\"true\"> </i> &nbsp; Exercice 9 </h3>\n",
    "\n",
    "1. Testez le programme suivant (voir plus bas pour tester) :\n",
    "\n",
    "```Python\n",
    "from turtle import *\n",
    "\n",
    "# pour être à gauche du canevas\n",
    "backward(250)\n",
    "\n",
    "# Code à factoriser\n",
    "for k in range(3):\n",
    "    forward(30)\n",
    "    right(120)\n",
    "forward(30)\n",
    "for k in range(3):\n",
    "    forward(60)\n",
    "    right(120)\n",
    "forward(60)\n",
    "for k in range(3):\n",
    "    forward(90)\n",
    "    right(120)\n",
    "forward(90)\n",
    "for k in range(3):\n",
    "    forward(120)\n",
    "    right(120)\n",
    "forward(120)\n",
    "for k in range(3):\n",
    "    forward(150)\n",
    "    right(120)\n",
    "\n",
    "done()\n",
    "```\n",
    "2. Définissez une fonction `triangle(l)`, qui permet de tracer des triangles équilatéraux de longueur lg, et utilisez-là pour réduire le nombre d’instructions du programme. \n",
    "\n",
    "**NB**: Le nombre d'instructions du programme doit être au moins divisé par 2.\n"
   ]
  },
  {
   "cell_type": "code",
   "execution_count": null,
   "metadata": {},
   "outputs": [],
   "source": [
    "from turtle import *\n",
    "\n",
    "# pour être à gauche du canevas\n",
    "backward(250)\n",
    "\n",
    "# Code à factoriser\n",
    "for k in range(3):\n",
    "    forward(30)\n",
    "    right(120)\n",
    "forward(30)\n",
    "for k in range(3):\n",
    "    forward(60)\n",
    "    right(120)\n",
    "forward(60)\n",
    "for k in range(3):\n",
    "    forward(90)\n",
    "    right(120)\n",
    "forward(90)\n",
    "for k in range(3):\n",
    "    forward(120)\n",
    "    right(120)\n",
    "forward(120)\n",
    "for k in range(3):\n",
    "    forward(150)\n",
    "    right(120)\n",
    "\n",
    "done()\n"
   ]
  },
  {
   "cell_type": "markdown",
   "metadata": {},
   "source": [
    "<h3 style=\"color:teal;background-color:azure;\" > <i class=\"fa fa-pencil\" aria-hidden=\"true\"> </i> &nbsp; Exercice 10 </h3>\n",
    "\n",
    "\n",
    "Définir une fonction `carre_couleur(d,c )` qui demande à la tortue de\n",
    "dessiner des carrés colorés de longueur variés. Elle doit dessiner trois triangles comme sur la figure ci-dessous.\n",
    "\n",
    "![Image carres colorés](https://githepia.hesge.ch/info_sismondi/exercices-1ere/-/raw/main/Notebooks/imgs_chap4/ex_carres_couleur.png)"
   ]
  },
  {
   "cell_type": "code",
   "execution_count": null,
   "metadata": {},
   "outputs": [],
   "source": [
    "from turtle import *\n",
    "\n",
    "# a compléter\n",
    "\n",
    "done()"
   ]
  },
  {
   "cell_type": "markdown",
   "metadata": {},
   "source": [
    "<h3 style=\"color:teal;background-color:azure;\" > <i class=\"fa fa-pencil\" aria-hidden=\"true\"> </i> &nbsp; Exercice 11 </h3>\n",
    "\n",
    "Définissez une commande `rangee_triangles(nombre, cote)` qui dessine une rangée de pyramides selon l’illustration. Chaque triangle a des côtés de longueur `cote`.\n",
    "Le paramètre `nombre` indique le nombre de triangles dans la rangée. Utilisez ensuite\n",
    "cette commande pour dessiner une rangée de 13 triangles de côtés 31, centrée au\n",
    "milieu de la fenêtre.\n",
    "\n",
    "![Image rangee de triangle](https://githepia.hesge.ch/info_sismondi/exercices-1ere/-/raw/main/Notebooks/imgs_chap4/ex_triangles.png)"
   ]
  },
  {
   "cell_type": "code",
   "execution_count": null,
   "metadata": {},
   "outputs": [],
   "source": [
    "from turtle import *\n",
    "\n",
    "def rangee_triangles(nombre, cote):\n",
    "    # a compléter\n",
    "\n",
    "# a compléter\n",
    "\n",
    "done()"
   ]
  },
  {
   "cell_type": "markdown",
   "metadata": {},
   "source": [
    "<h3 style=\"color:teal;background-color:azure;\" > <i class=\"fa fa-pencil\" aria-hidden=\"true\"> </i> &nbsp; Exercice 12 </h3>\n",
    "\n",
    "Définissez une fonction `maison(h, c)` qui dessine une maison avec une porte de hauteur `h` et de vouleur `c`. \n",
    "Les autres dimensions de la maison sont représentées sur l'image ci-dessous.\n",
    "![Image rangee de triangle](https://githepia.hesge.ch/info_sismondi/exercices-1ere/-/raw/main/Notebooks/imgs_chap4/maison_dim.svg)\n",
    "Écrire un programme qui utilise la fonction `maison(h, c)` pour reproduire la figure suivante:\n",
    "![Image rangee de triangle](https://githepia.hesge.ch/info_sismondi/exercices-1ere/-/raw/main/Notebooks/imgs_chap4/village.svg)"
   ]
  },
  {
   "cell_type": "code",
   "execution_count": null,
   "metadata": {},
   "outputs": [],
   "source": [
    "from turtle import *\n",
    "\n",
    "\n",
    "def maison(h, c):\n",
    "    # a compléter\n",
    "    \n",
    "\n",
    "speed(9) # pour dessiner vite\n",
    "# dessiner le village (a compléter)\n",
    "# a compléter\n",
    "done()"
   ]
  },
  {
   "cell_type": "markdown",
   "metadata": {},
   "source": [
    "# Complément sur les valeurs par défaut *\n",
    "\n",
    "Quand une fonction possède beaucoup d'arguments, nous pouvons spécifier des valeurs par défaut. Pour ceci nous ajoutons la valeur par défaut dans la liste de paramètres avec le symbole `=`.\n",
    "\n",
    "La fonction `rectangle(p, d, e, w=1, pen='black', fill='white')` dessine un rectangle aux dimensions `d` x `e` à la position `p`.\n",
    "Cette fonction possède 3 paramètres optionnels (valeur par défaut en parenthèse):\n",
    "\n",
    "- `w` -- épaisseur de ligne (`1`)\n",
    "- `pen` -- couleur de ligne (`'black'`)\n",
    "- `fill` -- couleur de remplissage (`'white'`)\n",
    "\n",
    "Il a maintenant différentes façons à appeler la fonction. Tous les paramètres qui ont une valeur par défaut sont optionnels. Au minimum nous devons spécifier les paramètres sans valeur par défaut.\n",
    "\n",
    "```\n",
    "rectangle((40, 0), 80, 40)\n",
    "```\n",
    "\n",
    "Le rectangle est dessiné dans la direction actuelle de la tortue. Cette orientation peut être changée avec `seth()`. La tortue se positionne de l'autre côté du point de départ. Ceci permet d'enchainer à dessiner des rectangles.\n",
    "\n"
   ]
  },
  {
   "cell_type": "code",
   "execution_count": null,
   "metadata": {},
   "outputs": [],
   "source": [
    "from turtle import *\n",
    "penup()\n",
    "\n",
    "def rectangle(p, d, e, w=1, pen='black', fill='white'):\n",
    "    goto(p)\n",
    "    pendown()\n",
    "    width(w)\n",
    "    pencolor(pen)\n",
    "    fillcolor(fill)\n",
    "    begin_fill()\n",
    "    for i in range(2):\n",
    "        forward(d)\n",
    "        left(90)\n",
    "        forward(e)\n",
    "        left(90)\n",
    "    end_fill()\n",
    "    penup()\n",
    "\n",
    "rectangle([-200, 30], 40, 30)\n",
    "rectangle([-100, -20], 40, 30, 1, 'orange', 'orange')\n",
    "rectangle([100, -40], 30, 80, fill='yellow')\n",
    "rectangle([200, 100], 80, 40, 1, 'red', 'pink')\n",
    "\n",
    "done()\n"
   ]
  },
  {
   "cell_type": "markdown",
   "metadata": {},
   "source": [
    "## Polygone régulier\n",
    "\n",
    "La fonction `polygone()` dessine un polygone régulier avec n sommets. Les arguments de la fonction sont :\n",
    "\n",
    "- `d` -- distance du segment\n",
    "- `n` -- nombre de segments\n",
    "\n"
   ]
  },
  {
   "cell_type": "code",
   "execution_count": null,
   "metadata": {},
   "outputs": [],
   "source": [
    "from turtle import *\n",
    "\n",
    "def polygon(d, n, w=1, pen='black', fill='white'):\n",
    "    down()\n",
    "    pencolor(pen)\n",
    "    width(w)\n",
    "    fillcolor(fill)\n",
    "    begin_fill()\n",
    "    for i in range(n):\n",
    "        forward(d)\n",
    "        left(360/n)\n",
    "    end_fill()\n",
    "    up()\n",
    "\n",
    "up()\n",
    "backward(280)\n",
    "for n in range(3, 9):\n",
    "    polygon(40, n, fill='lime')\n",
    "    color('black')\n",
    "    forward(100)\n",
    "\n",
    "done()\n"
   ]
  },
  {
   "cell_type": "markdown",
   "metadata": {},
   "source": [
    "## Polygone étoilé\n",
    "\n",
    "En ajoutant un paramètre supplémentaire `m`, la fonction `polygone()` permet également de dessiner un polygone étoilé.  Ce paramètre signifie le nombre de pics sauté pour aller au prochain des `n` points répartis dans un cercle. Pour `m=1` un polygone régulier est dessiné.\n",
    "\n",
    "es arguments de la fonction sont :\n",
    "\n",
    "- `d` -- distance du segment\n",
    "- `n` -- nombre de segments\n",
    "- `m` -- paramètre pour polygone étoilé (nombre de pics sautés)\n",
    "\n"
   ]
  },
  {
   "cell_type": "code",
   "execution_count": null,
   "metadata": {},
   "outputs": [],
   "source": [
    "from turtle import *\n",
    "\n",
    "def polygon(d, n, m=1, w=1, pen='black', fill='white'):\n",
    "    down()\n",
    "    pencolor(pen)\n",
    "    width(w)\n",
    "    fillcolor(fill)\n",
    "    begin_fill()\n",
    "    for i in range(n):\n",
    "        forward(d)\n",
    "        left(m*360/n)\n",
    "    end_fill()\n",
    "    up()\n",
    "\n",
    "up()\n",
    "speed(0)\n",
    "backward(250)\n",
    "for m in range(2, 6):\n",
    "    polygon(80, 11, m, fill='yellow')\n",
    "    color('black')\n",
    "    forward(140)\n",
    "\n",
    "done()\n"
   ]
  },
  {
   "cell_type": "markdown",
   "metadata": {},
   "source": [
    "<h3 style=\"color:teal;background-color:azure;\" > <i class=\"fa fa-pencil\" aria-hidden=\"true\"> </i> &nbsp; Exercice 12 </h3>\n",
    "\n",
    "Utilisez la fonction `rectangle(p, d, e, w, pen, fill)` pour dessiner une copie de ce tableau de Mondrian.\n"
   ]
  },
  {
   "cell_type": "markdown",
   "metadata": {},
   "source": [
    "![mondrian](https://raw.githubusercontent.com/edunumsec2/book/master/src/appr/prog1/media/mondrian.jpg)\n",
    "\n"
   ]
  },
  {
   "cell_type": "markdown",
   "metadata": {},
   "source": [
    "---\n",
    "\n",
    "#### Remarque générale\n",
    "\n",
    "Ce document est une adaptation d'un ressource pédagogique tiré du catalogue modulo https://modulo-info.ch/. Il est sous license Creative Commons [BY-NC-SA](https://creativecommons.org/licenses/?lang=fr)\n",
    "![Licence Creative Commons](https://i.creativecommons.org/l/by-nc-sa/4.0/88x31.png)"
   ]
  },
  {
   "cell_type": "code",
   "execution_count": null,
   "metadata": {},
   "outputs": [],
   "source": []
  }
 ],
 "metadata": {
  "kernelspec": {
   "display_name": "Python 3 (ipykernel)",
   "language": "python",
   "name": "python3"
  },
  "language_info": {
   "codemirror_mode": {
    "name": "ipython",
    "version": 3
   },
   "file_extension": ".py",
   "mimetype": "text/x-python",
   "name": "python",
   "nbconvert_exporter": "python",
   "pygments_lexer": "ipython3",
   "version": "3.10.12"
  }
 },
 "nbformat": 4,
 "nbformat_minor": 4
}
