{
 "cells": [
  {
   "cell_type": "markdown",
   "metadata": {},
   "source": "<div class = \"alert  alert-danger\"> \n    \n# Cours avec solution\n</div>\n\n<div class = \"alert alert-block alert-warning\"> \n\n### A faire avant de commençer\n**Cliquez sur Exécuter tout** dans le menu **Cellule**.\n</div>"
  },
  {
   "cell_type": "markdown",
   "metadata": {
    "deletable": false
   },
   "source": "# 6 - Les Conditions, partie 1\n\nDans ce chapitre, nous allons voir comment un programme peut faire des choix, et comment il peut exécuter du code de façon sélective.\n\n<blockquote class=\"alert alert-info\" style=\"background-color:rgb(220,240,255); margin:10px 10%;\">\n    <p><span style=\"font-size:1.5em\">❔</span> C'est quoi une instruction conditionnelle? Exécutez la cellule ci-dessous pour voir une petite introduction sur la notion de type d'instruction conditionnelle</p>\n</blockquote>\n\n<iframe width=\"560\" height=\"315\" src=\"https://www.youtube.com/embed/c0cm031r_eo?si=Apy9aC8a9HoHcHfv\" title=\"YouTube video player\" frameborder=\"0\" allow=\"accelerometer; autoplay; clipboard-write; encrypted-media; gyroscope; picture-in-picture; web-share\" referrerpolicy=\"strict-origin-when-cross-origin\" allowfullscreen></iframe>"
  },
  {
   "cell_type": "markdown",
   "metadata": {
    "deletable": false
   },
   "source": "## I) Comparaisons\n\nUn programme doit parfois comparer deux valeurs.\nPython connait six types de comparaisons :\n\n- plus petit (`<`),\n- plus petit ou égal (`<=`),\n- égal (`==`),\n- différent (`!=`),\n- plus grand  (`>`),\n- plus grand ou égal (`>=`).\n\nDans des formules mathématiques nous utilisons les symboles ≤,  ≥ et ≠. En Python vous devez utiliser deux symboles: `<=`, `>=` et `!=` à la place.\n\nLe résultat d'une comparaison est une valeur **booléenne**, soit `True` (vrai) soit `False` (faux).\n\n\n**Remarque** Il est impossible de comparer des données de différentes nature (par exemple une chaîne de caractère avec un nombre)\n\n"
  },
  {
   "cell_type": "markdown",
   "metadata": {
    "editable": false
   },
   "source": "<h3 style=\"color:chocolate;background-color:papayawhip;\" > <i class=\"fa fa-question\" aria-hidden=\"true\"> </i> &nbsp; Quizz </h3> \n \nQu'affiche le programme suivant "
  },
  {
   "cell_type": "code",
   "execution_count": null,
   "metadata": {
    "trusted": true
   },
   "outputs": [],
   "source": "print(\"10\" > 2)"
  },
  {
   "cell_type": "markdown",
   "metadata": {},
   "source": "<details>\n<summary style=\"border-left:3px solid #3c763d; border-radius:2pt; width:100%; color:#3c763d; padding:6px; background-color: #dff0d8\"> \nRéponse\n</summary>  \n\n<div style=\"border-left:3px solid #3c763d; border-radius:2pt; color:#3c763d; padding:6px; background-color: #eff0e8\"> Une erreur car il est impossible de comparer la chaîne de caractère \"10\" (type str) avec le nombre 2 (type int).\n</div>\n</details>\n                "
  },
  {
   "cell_type": "markdown",
   "metadata": {},
   "source": "<h3 style=\"color:teal;background-color:azure;\" > <i class=\"fa fa-pencil\" aria-hidden=\"true\"> </i> &nbsp; Exercice 2 </h3>\n\n1. Remplace les `...` de chaque commentaire avec la valeur qui devrait être affichée.\n\n*Indication: chaque print affiche un `bool` : `True` ou `False`*"
  },
  {
   "cell_type": "markdown",
   "metadata": {},
   "source": "<div class = \"alert alert-block alert-warning\"> \n\n### Solution\n</div>"
  },
  {
   "cell_type": "code",
   "execution_count": null,
   "metadata": {
    "trusted": true
   },
   "outputs": [],
   "source": "a = 5\nb = 18 \nc = 12.3\nmot1=\"Hello\"\nmot2=\"World\"\n# L'instruction suivante va afficher False\nprint(a > b)\n# L'instruction suivante va afficher True\nprint(b//a == 3)\n# L'instruction suivante va afficher True\nprint(b%a == 3)\n# L'instruction suivante va afficher False\nprint(a - b > 2)\n# L'instruction suivante va afficher True\nprint(type(c) == float)\n# L'instruction suivante va afficher True\nprint(mot1 != mot2)\n# L'instruction suivante va afficher True\nprint(mot1 < mot2)\n# L'instruction suivante va afficher False\nprint(\"a\" > \"b\")\n# L'instruction suivante va afficher une erreur car on ne peut \n# pas comparer une chaîne de caractère avec un nombre\nprint(mot1 > 2)\n"
  },
  {
   "cell_type": "markdown",
   "metadata": {},
   "source": "2. Exécute le programme ci-dessus et corrige, si besoin, les commentaires afin qu'ils correspondent aux valeurs affichées\n\n<h3 style=\"color:teal;background-color:azure;\" > <i class=\"fa fa-pencil\" aria-hidden=\"true\"> </i> &nbsp; Exercice 2 </h3>Testez les lignes ci-dessous et ajoutez des exemples avec les autres 5 comparateurs.\n\n"
  },
  {
   "cell_type": "code",
   "execution_count": null,
   "metadata": {
    "trusted": true
   },
   "outputs": [],
   "source": "# Variable x\nx = 3\nprint('x =', x)\n\n# 6 exemples de comparaisons\nprint('(x < 2) =', x < 2)\n\n\n\n\n"
  },
  {
   "cell_type": "markdown",
   "metadata": {},
   "source": "<div class = \"alert alert-block alert-warning\"> \n\n### Solution\n</div>"
  },
  {
   "cell_type": "code",
   "execution_count": null,
   "metadata": {
    "trusted": true
   },
   "outputs": [],
   "source": "# Variable x\nx = 3\nprint('x =', x)\n\n# 6 exemples de comparaisons\nprint('(x < 2) =', x < 2)\nprint('(x == 5) =', x ==5)\nprint('(x <= 5) =', x <=5)\nprint('(x >= 5) =', x >=5)\nprint('(x > 5) =', x >5)\nprint('(x != 5) =', x !=5)\n"
  },
  {
   "cell_type": "markdown",
   "metadata": {
    "deletable": false,
    "editable": false
   },
   "source": "<h3 style=\"color:chocolate;background-color:papayawhip;\" > <i class=\"fa fa-question\" aria-hidden=\"true\"> </i> &nbsp; Quizz </h3> \n \nL'expression `x == 2` : \n\n  A) <input type=\"checkbox\" > met la valeur 2 dans la variable x\n    \n  B) <input type=\"checkbox\" > compare deux valeurs\n  \n  C) <input type=\"checkbox\" > affecte la variable x avec une valeur\n    \n  D) <input type=\"checkbox\" > retourne True ou False"
  },
  {
   "cell_type": "markdown",
   "metadata": {},
   "source": "<details>\n<summary style=\"border-left:3px solid #3c763d; border-radius:2pt; width:100%; color:#3c763d; padding:6px; background-color: #dff0d8\"> \nRéponse\n</summary>  \n\n<div style=\"border-left:3px solid #3c763d; border-radius:2pt; color:#3c763d; padding:6px; background-color: #eff0e8\">D) retourne True ou False\n</div>\n</details>\n                "
  },
  {
   "cell_type": "markdown",
   "metadata": {},
   "source": "!!! warning \nIl ne faut pas confondre l'opérateur d'affectation (`x = 2`) avec l'opérateur de comparaison (`x == 2`)\n!!!\n\n<h3 style=\"color:chocolate;background-color:papayawhip;\" > <i class=\"fa fa-question\" aria-hidden=\"true\"> </i> &nbsp; Quizz </h3> \n \n\n\nQue se passe-t-il si vous échangez les deux éléments dans `x == 2` ?  \nEt si vous échangez les deux éléments dans `x = 2`  ?\n\nEssayer pour voir..."
  },
  {
   "cell_type": "code",
   "execution_count": null,
   "metadata": {
    "trusted": true
   },
   "outputs": [],
   "source": "x = 2       # affectation\nx == 2      # comparaison\n"
  },
  {
   "cell_type": "raw",
   "metadata": {},
   "source": "Ma réponse : "
  },
  {
   "cell_type": "markdown",
   "metadata": {},
   "source": "<details>\n<summary style=\"border-left:3px solid #3c763d; border-radius:2pt; width:100%; color:#3c763d; padding:6px; background-color: #dff0d8\"> \nRéponse\n</summary>  \n\n<div style=\"border-left:3px solid #3c763d; border-radius:2pt; color:#3c763d; padding:6px; background-color: #eff0e8\">Si on écrit 2 = x à la place de x = 2 il y aura une erreur car on ne peut affecter x à 2. Dans l'autre cas, c'est égal de tester si x est égal à 2 (x==2) ou de tester si 2 est égal à x (2==x)\n</div>\n</details>\n                "
  },
  {
   "cell_type": "markdown",
   "metadata": {
    "tags": [
     "breakpoint"
    ]
   },
   "source": "#### Ctrl+enter pour continuer ..........."
  },
  {
   "cell_type": "markdown",
   "metadata": {},
   "source": "## II) Conditions (`if`)\n\nAfin d'exécuter du code de façon sélective, on utilise le mot-clé `if`.\n\nNous allons voir que :\n\n- le mot-clé `if` permet une exécution conditionnelle,\n- le mot-clé `if-else` permet de choisir entre deux alternatives,\n- le mot-clé `elif` (else if) permet d'ajouter différentes conditions.\n\n"
  },
  {
   "cell_type": "markdown",
   "metadata": {},
   "source": "### Exécution conditionnelle `if`\n\nLa structure `if` ci-dessous permet d'exécuter une action seulement si `condition` est `True`.\n\n``` python\nif condition:\n    action\n```\n\n#### Exemple \n\nLe programme suivant demande la moyenne générale obtenue au premier semestre est affiche `Bravo, tu peux faire un extra-muros!\")` si la moyenne est supérieure ou égale à 5.3.\n"
  },
  {
   "cell_type": "code",
   "execution_count": null,
   "metadata": {
    "trusted": true
   },
   "outputs": [],
   "source": "n = int(input(\"Quelle est ta moyenne générale au premier semestre\"))\n\nif n >= 5.3 :\n    print(\"Bravo, tu peux faire un extra-muros!\")"
  },
  {
   "cell_type": "markdown",
   "metadata": {},
   "source": "<h3 style=\"color:chocolate;background-color:papayawhip;\" > <i class=\"fa fa-question\" aria-hidden=\"true\"> </i> &nbsp; Quizz </h3> \n \n\nEn Python, `if` est suivi\n\nA)  <input type=\"checkbox\" > d'un bloc\n\nB)  <input type=\"checkbox\" > d'une condition\n\nC)  <input type=\"checkbox\" > de parenthèses\n\nD)  <input type=\"checkbox\" > d'un deux-points\n"
  },
  {
   "cell_type": "markdown",
   "metadata": {},
   "source": "<details>\n<summary style=\"border-left:3px solid #3c763d; border-radius:2pt; width:100%; color:#3c763d; padding:6px; background-color: #dff0d8\"> \nRéponse\n</summary>  \n\n<div style=\"border-left:3px solid #3c763d; border-radius:2pt; color:#3c763d; padding:6px; background-color: #eff0e8\">B) d'une condition  (Et ensuite de D), un deux-points)\n</div>\n</details>\n                \n"
  },
  {
   "cell_type": "markdown",
   "metadata": {},
   "source": "### Choix binaire `if - else`\n\nLa structure `if - else` ci-dessous permet d'exécuter une **action_1** seulement si une **condition** est vraie et une **action_2** sinon : \n\n``` python\nif condition:\n    action_1\nelse:\n    action_2\n```\n\n#### Exemple 1\nDans l'exemple ci-dessous, on affiche si un nombre entré est positif ou négatif :\n\n"
  },
  {
   "cell_type": "code",
   "execution_count": null,
   "metadata": {
    "trusted": true
   },
   "outputs": [],
   "source": "n = int(input('Entrez un nombre: '))\n\nif n > 0:\n    print('positif')\nelse:\n    print('négatif')"
  },
  {
   "cell_type": "markdown",
   "metadata": {},
   "source": "<h3 style=\"color:teal;background-color:azure;\" > <i class=\"fa fa-pencil\" aria-hidden=\"true\"> </i> &nbsp; Exercice 3 </h3>\n\n1. Complète le programme ci-dessous qui affiche `C'est un triangle rectancle` ou `Ce n'est pas un triangle rectancle` en fonction des longeurs des côtés du triangle rentré.\n\n2. Testez votre programme pour vérifier si le triangle où a=9, b=12 et c= 15 est un triangle rectangle.\n\n*Rappel : Selon la réciproque du théorème de Pythagore, un triangle de longeur $a$, $b$ et $c$ ($c$ le plus grand côté) est rectangle si $a^2+b^2=c^2$*"
  },
  {
   "cell_type": "markdown",
   "metadata": {},
   "source": "<div class = \"alert alert-block alert-warning\"> \n\n### Solution\n</div>"
  },
  {
   "cell_type": "code",
   "execution_count": null,
   "metadata": {
    "trusted": true
   },
   "outputs": [],
   "source": "a = float(input(\"La longeur du côté a vaut : \"))\nb = float(input(\"La longeur du côté a vaut : \"))\nc = float(input(\"La longeur du côté a vaut : \"))\nif a**2 + b**2 == c**2 :\n    print(\"C'est un triangle rectancle\")\nelse:\n    print(\"Ce n'est pas un triangle rectange\")"
  },
  {
   "cell_type": "raw",
   "metadata": {},
   "source": "Le triangle où a=9, b=12 et c= 15 est-il un triangle rectangle?\n\n    Réponse : OUI"
  },
  {
   "cell_type": "markdown",
   "metadata": {},
   "source": "<h3 style=\"color:teal;background-color:azure;\" > <i class=\"fa fa-pencil\" aria-hidden=\"true\"> </i> &nbsp; Exercice 4 </h3>\n\nComplétez le programme qui demande son âge à l'utilisatrice et affiche `vous êtes majeure` si elle est mineure ou `vous êtes mineure` dans le cas contraire.\n\n*Rappel : la fonction `int` transforme la réponse textuelle du `input` en nombre entier.*\n\n"
  },
  {
   "cell_type": "markdown",
   "metadata": {},
   "source": "<div class = \"alert alert-block alert-warning\"> \n\n### Solution\n</div>"
  },
  {
   "cell_type": "code",
   "execution_count": null,
   "metadata": {
    "trusted": true
   },
   "outputs": [],
   "source": "age = int(input(\"Bonjour, quel est votre âge ?\"))\n\nif age < 18:\n    print(\"Vous êtes mineure\")\nelse:\n    print(\"Vous êtes majeure\")"
  },
  {
   "cell_type": "markdown",
   "metadata": {
    "tags": [
     "breakpoint"
    ]
   },
   "source": "#### Ctrl+enter pour continuer ..........."
  },
  {
   "cell_type": "markdown",
   "metadata": {},
   "source": "### Choix multiple (`if - elif - else`)\n\nLe mot-clé `elif` est une contraction de **else if** et permet de continuer à tester d'autres conditions : \n\n``` python\nif condition1 :\n    action_1\nelif condition2 :\n    action_2\nelse:\n    action_3\n```\n\nDans l'exemple ci-dessous, on affiche si un nombre entré est positif, négatif ou nul :\n\n"
  },
  {
   "cell_type": "code",
   "execution_count": null,
   "metadata": {
    "trusted": true
   },
   "outputs": [],
   "source": "n = int(input('Entrez un nombre: '))\n\nif n > 0:\n    print('positif')\nelif n < 0:\n    print('négatif')\nelse:\n    print('zéro')\n"
  },
  {
   "cell_type": "markdown",
   "metadata": {},
   "source": "Sans le mot-clé `elif` nous devrions mettre le bloc `if` à l'intérieur du bloc  `else` en indentation.\nAvec multiples conditions, les blocs se décalent de plus en plus et rendent le programme illisible, comme ci-dessous.\n\n"
  },
  {
   "cell_type": "code",
   "execution_count": null,
   "metadata": {
    "trusted": true
   },
   "outputs": [],
   "source": "# !!! Exemple à éviter !!!!\nn = int(input('Entrez un nombre: '))\n\nif n > 0:\n    print('positif')\nelse:\n    if n < 0:\n        print('négatif')\n    else:\n        print('zéro')\n"
  },
  {
   "cell_type": "markdown",
   "metadata": {},
   "source": "<h3 style=\"color:teal;background-color:azure;\" > <i class=\"fa fa-pencil\" aria-hidden=\"true\"> </i> &nbsp; Exercice 5 </h3>\nPour chacun des programme:\n\n1. Sans exécuter les programme, donnez la valeur des variables demandées. \n2. Vérifier votre réponse en ajoutant un print à la fin des programmes et en les éxecutants.\n\n<div class = \"alert alert-block alert-warning\"> \n\n### Solution\n</div>\n\n**Programme A**"
  },
  {
   "cell_type": "code",
   "execution_count": null,
   "metadata": {
    "trusted": true
   },
   "outputs": [],
   "source": "# Programme A\na = 7\nb = 12\nif a > 5:\n    b = b - 4\nif b >= 8:\n    b = b + 1\n    \nprint(b)"
  },
  {
   "cell_type": "raw",
   "metadata": {},
   "source": "La variable b vaut :  9"
  },
  {
   "cell_type": "markdown",
   "metadata": {},
   "source": "**Programme B**"
  },
  {
   "cell_type": "code",
   "execution_count": null,
   "metadata": {
    "trusted": true
   },
   "outputs": [],
   "source": "# Programme B\na = 7\nb = 12\nif a > 5:\n    b = b - 4\nelif b >= 8:\n    b = b + 1 \n    \nprint(b)"
  },
  {
   "cell_type": "raw",
   "metadata": {},
   "source": "La variable b vaut :  8"
  },
  {
   "cell_type": "markdown",
   "metadata": {},
   "source": "**Programme C**"
  },
  {
   "cell_type": "code",
   "execution_count": null,
   "metadata": {
    "trusted": true
   },
   "outputs": [],
   "source": "# Programme C\na = 7\nb = 12\nif a > 5:\n    b = b - 4\nelse:\n    b = b + 1\n    \nprint(b)"
  },
  {
   "cell_type": "code",
   "execution_count": null,
   "metadata": {
    "trusted": true
   },
   "outputs": [],
   "source": "La variable b vaut :  8"
  },
  {
   "cell_type": "markdown",
   "metadata": {},
   "source": "**Programme D**"
  },
  {
   "cell_type": "code",
   "execution_count": null,
   "metadata": {
    "trusted": true
   },
   "outputs": [],
   "source": "# Programme D\na = 10\nif a < 5:\n    a = 20\nelif a < 100:\n    a = 500\nelse:\n    a = 0\n    \nprint(a)"
  },
  {
   "cell_type": "raw",
   "metadata": {},
   "source": "La variable a vaut :  500"
  },
  {
   "cell_type": "markdown",
   "metadata": {},
   "source": "<h3 style=\"color:teal;background-color:azure;\" > <i class=\"fa fa-pencil\" aria-hidden=\"true\"> </i> &nbsp; Exercice 6 </h3>\n\nLes programmes suivants sont-ils valides (on ne demande pas ce qu’ils font) ? S’ils sont invalides, corrigez les.\n\n**Programme A**"
  },
  {
   "cell_type": "code",
   "execution_count": null,
   "metadata": {
    "trusted": true
   },
   "outputs": [],
   "source": "a = 10\nif a == 5:\na = 2"
  },
  {
   "cell_type": "markdown",
   "metadata": {},
   "source": "<div class = \"alert alert-block alert-warning\"> \n\n### Solution\n</div>"
  },
  {
   "cell_type": "code",
   "execution_count": null,
   "metadata": {
    "trusted": true
   },
   "outputs": [],
   "source": "# version corrigée\na = 10\nif a == 5:\n    a = 2 # oubli de l'indentation"
  },
  {
   "cell_type": "markdown",
   "metadata": {},
   "source": "**Programme B**"
  },
  {
   "cell_type": "code",
   "execution_count": null,
   "metadata": {
    "trusted": true
   },
   "outputs": [],
   "source": "a = 10\nelif a == 5:\n    a = 2"
  },
  {
   "cell_type": "markdown",
   "metadata": {},
   "source": "<div class = \"alert alert-block alert-warning\"> \n\n### Solution\n</div>"
  },
  {
   "cell_type": "code",
   "execution_count": null,
   "metadata": {
    "trusted": true
   },
   "outputs": [],
   "source": "# version corrigée\na = 10\nif a == 5: # elif seulement possible après un if\n    a = 2"
  },
  {
   "cell_type": "markdown",
   "metadata": {},
   "source": "**Programme C**"
  },
  {
   "cell_type": "code",
   "execution_count": null,
   "metadata": {
    "trusted": true
   },
   "outputs": [],
   "source": "a = 10\nif a = 5:\n    a == 2"
  },
  {
   "cell_type": "markdown",
   "metadata": {},
   "source": "<div class = \"alert alert-block alert-warning\"> \n\n### Solution\n</div>"
  },
  {
   "cell_type": "code",
   "execution_count": null,
   "metadata": {
    "trusted": true
   },
   "outputs": [],
   "source": "# version corrigée\na = 10\nif a == 5: # confusion = avec ==\n    a = 2"
  },
  {
   "cell_type": "markdown",
   "metadata": {},
   "source": "<h3 style=\"color:teal;background-color:azure;\" > <i class=\"fa fa-pencil\" aria-hidden=\"true\"> </i> &nbsp; Exercice 7 </h3>\n\n1. Complétez le programme ci-dessous qui demande à l'utilisateur·ice les coefficients d'une équation du second degré $ax^2+bx+c=0$ et qui affiche les solutions.\n\n2. Testez votre programme sur les équations $5x^2-5x-15=0$, $5x^2-5x+15=0$ et $10x^2-20x+10=0$. "
  },
  {
   "cell_type": "markdown",
   "metadata": {},
   "source": "!!! info utiliser des fonctions mathématiques comme la fonction racine carrée $\\sqrt{x}$.\nPour calculer la racine carrée d'un nombre $\\sqrt{x}$, il faut utiliser la fonction `sqrt` du module `math`. Pour ce faire, votre programme doit commencer par `from math import sqrt` (pour importer la fonction `sqrt` du module `math`).  Pour l'utiliser, il suffit de mettre la valeur dont on veut trouver la racine en argument de la fonction `sqrt`. Par exemple, l'instruction `print(sqrt(25))` affichera 5.\n!!!\n"
  },
  {
   "cell_type": "markdown",
   "metadata": {},
   "source": "<div class = \"alert alert-block alert-warning\"> \n\n### Solution\n</div>"
  },
  {
   "cell_type": "code",
   "execution_count": null,
   "metadata": {
    "trusted": true
   },
   "outputs": [],
   "source": "a = float(input(\"Entrer le coefficient a = \"))\nb = float(input(\"Entrer le coefficient a = \"))\nc = float(input(\"Entrer le coefficient a = \"))\ndelta = b**2 - 4*a*c\nif delta > 0 :\n    x1 = (-b-delta)/(2*a)\n    x2 = (-b+delta)/(2*a)\n    print(\"Deux solutions, x1= \",x1, \"; x2 = \", x2)\nelif delta == 0 :\n    x = (-b)/(2*a)\n    print(\"Une solution, x=\", x)\nelse :\n    print(\"Aucune solution\")"
  },
  {
   "cell_type": "raw",
   "metadata": {},
   "source": "Quel est l'ensemble des solution de 5x²-5x-15=0?\n\n    Réponse: S = {-32, 33}\n    \n    \nQuel est l'ensemble des solution de 5x²+5x+15=0=0?\n\n    Réponse: S = {}\n    \n    \nQuel est l'ensemble des solution de 10x²-20x+10=0?\n\n    Réponse: S = {1}\n    "
  },
  {
   "cell_type": "markdown",
   "metadata": {},
   "source": "<h3 style=\"color:teal;background-color:azure;\" > <i class=\"fa fa-pencil\" aria-hidden=\"true\"> </i> &nbsp; Exercice 8 </h3>\n\nÉcrivez un programme qui demande à l'utilisateur·ice s'il faut dessiner un triangle, un cercle ou un carré de dimension 100, puis qui fait le bon dessin.\n\n"
  },
  {
   "cell_type": "markdown",
   "metadata": {},
   "source": "<div class = \"alert alert-block alert-warning\"> \n\n### Solution\n</div>"
  },
  {
   "cell_type": "code",
   "execution_count": null,
   "metadata": {
    "trusted": true
   },
   "outputs": [],
   "source": "from turtle import *\n\nforme = input(\"Quelle forme voulez-vous dessiner? \")\n\nif forme == \"triangle\":\n    for _ in range(3):\n        forward(100)\n        left(120)\nelif forme == \"carre\":\n    for _ in range(4):\n        forward(100)\n        left(90)\nelif forme == \"cercle\":\n    circle(100)\nelse:\n    print(\"La forme demandée n'est pas écrite correctement (choix possible triangle/carre*cercle)\")\n        \ndone()"
  },
  {
   "cell_type": "markdown",
   "metadata": {},
   "source": "<h3 style=\"color:teal;background-color:azure;\" > <i class=\"fa fa-pencil\" aria-hidden=\"true\"> </i> &nbsp; Exercice 9 </h3> \n\nDéfinissez une fonction `temperature()` qui prend en paramètre une température entre -20 et 50 et affiche si cette température est :\n* glaciale\n* froide\n* normale\n* chaude\n* bouillante\n\n(à vous de choisir les bornes de chaque catégorie)\n"
  },
  {
   "cell_type": "markdown",
   "metadata": {},
   "source": "<div class = \"alert alert-block alert-warning\"> \n\n### Solution\n</div>"
  },
  {
   "cell_type": "code",
   "execution_count": null,
   "metadata": {
    "trusted": true
   },
   "outputs": [],
   "source": "def temperature(t):\n    if t < -5 :\n        print(\"glaciale\")\n    elif t < 10:\n        print(\"froide\")\n    elif t < 20:\n        print(\"normale\")\n    elif t < 35:\n        print(\"chaude\")\n    else:\n        print(\"bouillante\")\n    \ntemp = int(input(\"Entrez une température entre -20 et 50 : \"))\ntemperature(temp)"
  },
  {
   "cell_type": "markdown",
   "metadata": {},
   "source": "<h3 style=\"color:teal;background-color:azure;\" > <i class=\"fa fa-pencil\" aria-hidden=\"true\"> </i> &nbsp; Exercice 10 </h3> \n\nDéfinissez une fonction `compare` qui prend en paramètres deux nombres `a` et `b`, puis qui dit lequel est le plus grand :\n- si le premier nombre est plus grand que le deuxième, le programme affichera « Le premier ! »\n- si le deuxième nombre est plus grand que le premier, le programme affichera « Le deuxième ! »\n- s'ils sont égaux, le programme affichera « Ils sont égaux. ».\n\n\nTestez-la avec deux nombres de votre choix."
  },
  {
   "cell_type": "markdown",
   "metadata": {},
   "source": "<div class = \"alert alert-block alert-warning\"> \n\n### Solution\n</div>"
  },
  {
   "cell_type": "code",
   "execution_count": 6,
   "metadata": {
    "trusted": true
   },
   "outputs": [
    {
     "name": "stdout",
     "output_type": "stream",
     "text": "Le deuxième !\nLe premier !\nIls sont égaux.\n"
    }
   ],
   "source": "def compare(a,b):\n    if a > b:\n        print(\"Le premier !\")\n    elif a < b:\n        print(\"Le deuxième !\")\n    else:\n        print(\"Ils sont égaux.\")\n\n# test de la fonction\ncompare(3, 8)\ncompare(11, 8)\ncompare(22, 22)"
  },
  {
   "cell_type": "markdown",
   "metadata": {},
   "source": "<h3 style=\"color:teal;background-color:azure;\" > <i class=\"fa fa-pencil\" aria-hidden=\"true\"> </i> &nbsp; Exercice 11 </h3>\nCorrigez le programme suivant :"
  },
  {
   "cell_type": "code",
   "execution_count": null,
   "metadata": {
    "trusted": true
   },
   "outputs": [],
   "source": "age == 18\nrevenu == 25000\n\nif age >= 18\nif revenu < 25000\nprint(\"Vous êtes éligible à la subvention.\")\nelif revenu < 26000\nprint(\"Vous êtes presque éligible à la subvention, vous gagnez 1'000.- de trop.\")\nelse:\nprint(\"Vous n'êtes pas éligible à cause de vos revenus trop élevés.\")\nelse:\nif revenu < 25000\nprint(\"Vous n'êtes pas éligible à cause de votre âge, mais le seriez si vous étiez majeur·e.\")\nelse:\nprint(\"Vous n'êtes pas éligible à cause de vos revenus trop élevés et de votre âge.\")\n   \n"
  },
  {
   "cell_type": "markdown",
   "metadata": {},
   "source": "<div class = \"alert alert-block alert-warning\"> \n\n### Solution\n</div>"
  },
  {
   "cell_type": "code",
   "execution_count": null,
   "metadata": {
    "trusted": false
   },
   "outputs": [],
   "source": "age == 18\nrevenu == 25000\n\nif age >= 18\n    if revenu < 25000\n        print(\"Vous êtes éligible à la subvention.\")\n    elif revenu < 26000\n        print(\"Vous êtes presque éligible à la subvention, vous gagnez 1'000.- de trop.\")\n    else:\n        print(\"Vous n'êtes pas éligible à cause de vos revenus trop élevés.\")\nelse:\n    if revenu < 25000\n        print(\"Vous n'êtes pas éligible à cause de votre âge, mais le seriez si vous étiez majeur·e.\")\n    else:\n        print(\"Vous n'êtes pas éligible à cause de vos revenus trop élevés et de votre âge.\")\n   "
  }
 ],
 "metadata": {
  "celltoolbar": "Éditer les Méta-Données",
  "kernelspec": {
   "display_name": "Python 3 (ipykernel)",
   "language": "python",
   "name": "python3"
  }
 },
 "nbformat": 4,
 "nbformat_minor": 2
}
