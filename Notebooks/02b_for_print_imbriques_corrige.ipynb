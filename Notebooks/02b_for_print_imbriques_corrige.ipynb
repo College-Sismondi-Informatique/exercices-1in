{
 "cells": [
  {
   "cell_type": "markdown",
   "metadata": {},
   "source": "<div style=\"padding:20px;background-color:papayawhip;\" > \n<h3 style=\"color:chocolate\"> <i class=\"fa fa-info\" aria-hidden=\"true\"> </i> &nbsp; Remarque introductive &nbsp;  <i class=\"fa fa-info\" aria-hidden=\"true\"></h3> \n<p> Ce fichier est fait pour être lu sur le site <a href=\"https://notebook.basthon.fr/\"><img src='https://notebook.basthon.fr/assets/efede5218c9087496f16.png' style=\"border: 0; display:inline; margin: 0 5px; height:30px\" alt=\"Basthon\"/></a>. <br>\n    \nSi vous l'avez ouvert avec un autre programme, comme Jupyter notebook, vous riquez de rencontrer quelques bugs. <br>\nVeuillez cliquez sur <a href=\"https://notebook.basthon.fr/\">ce lien</a> et y charger ce fichier à l'aide du bouton \"Ouvrir\"  &nbsp; <i class=\"fa fa-folder\" aria-hidden=\"true\"> </i>\n</p> </div>    "
  },
  {
   "cell_type": "markdown",
   "metadata": {},
   "source": "<div style=\"padding:20px;background-color:lightgreen;\" > \n    <center>\n<h1 style=\"color:green\" > <i class=\"fa fa-info\" aria-hidden=\"true\" > </i> &nbsp; CORRIGÉ &nbsp;  <i class=\"fa fa-info\" aria-hidden=\"true\"></h1> \n    </center>"
  },
  {
   "cell_type": "markdown",
   "metadata": {},
   "source": "# 2b. Les boucles `for` - Suite\n\nDans ce chapitre, nous continuons à explorer les boucles `for`. Pour rappel, la boucle `for` permet de répéter des instructions et s'utilise ainsi : \n* la structure `for _ in range(n):` permet de répéter un bloc un nombre `n` fois,\n* les instructions qui sont répétées, sont celles qui suivent le `:` et qui sont indentées (décalées à droite avec la touche Tab ou &#8633;)\n\n### Exemple : \n\n```python\nfrom turtle import *\n\nfor _ in range(4):\n    forward(100)\n    left(90)\n\ndone()\n```"
  },
  {
   "cell_type": "markdown",
   "metadata": {},
   "source": "## Boucles et print\n\nDans le chapitre précédent, nous avons essentiellement travaillé avec des dessins `turtle`, mais on peut utiliser les boucles dans de nombreuses situations, par exemple, l'affichage de texte avec `print`."
  },
  {
   "cell_type": "markdown",
   "metadata": {},
   "source": "<h3 style=\"color:teal;background-color:azure;\" > <i class=\"fa fa-pencil\" aria-hidden=\"true\"> </i> &nbsp; Exercice 1 </h3>\n\n    \n    \nÉcrire à l’aide d’une boucle `for` 5 fois le mot “bonjour”.\n\n\n"
  },
  {
   "cell_type": "code",
   "execution_count": 7,
   "metadata": {
    "trusted": true
   },
   "outputs": [
    {
     "name": "stdout",
     "output_type": "stream",
     "text": ".........."
    }
   ],
   "source": "for _ in range(5):\n    print(\"bonjour\")"
  },
  {
   "cell_type": "markdown",
   "metadata": {},
   "source": "<h3 style=\"color:teal;background-color:azure;\" > <i class=\"fa fa-pencil\" aria-hidden=\"true\"> </i> &nbsp; Exercice 2 </h3>\n\n    \n    \nAfficher en max 4 lignes la sortie suivante : \n```python\n. . . . . . . . . .\n.                 .\n.                 .\n.                 .\n.                 .\n.                 .\n.                 .\n.                 .\n.                 .\n. . . . . . . . . .\n\n```\n\n"
  },
  {
   "cell_type": "code",
   "execution_count": 6,
   "metadata": {
    "trusted": true
   },
   "outputs": [
    {
     "name": "stdout",
     "output_type": "stream",
     "text": ". . . . . . . . . .\n.                 .\n.                 .\n.                 .\n.                 .\n.                 .\n.                 .\n.                 .\n.                 .\n. . . . . . . . . .\n"
    }
   ],
   "source": "print(\". . . . . . . . . .\")\nfor _ in range(8):\n    print(\".                 .\")\nprint(\". . . . . . . . . .\")"
  },
  {
   "cell_type": "markdown",
   "metadata": {},
   "source": "Pour afficher la première ligne de ce dessin, on n'est pas obligé·e d'écrire manuellement `\"..........\"`, on peut aussi indiquer à l'instruction `print` de ne pas revenir en écrivant : \n```python\nfor _ in range(10):\n    print(\".\", end=\"\")\n```\n\nLe paramètre `end=\"\"` indique que le caractère de fin, n'est plus le retour à la ligne, mais un caractère vide. On peut indiquer le caractère de fin de notre choix entre les `\"\"`.\n"
  },
  {
   "cell_type": "markdown",
   "metadata": {},
   "source": "<h3 style=\"color:teal;background-color:azure;\" > <i class=\"fa fa-pencil\" aria-hidden=\"true\"> </i> &nbsp; Exercice 3</h3>\n\nEssayez le code suivant, puis modifier le pour obtenir le résultat suivant :\n\n`.-  .-  .-  .-  .-  .-  .-  .-  .-  .- `\n    "
  },
  {
   "cell_type": "code",
   "execution_count": 13,
   "metadata": {
    "trusted": true
   },
   "outputs": [
    {
     "name": "stdout",
     "output_type": "stream",
     "text": ".        .        .        .        .        .        .        .        .        .        "
    }
   ],
   "source": "for _ in range(10):\n    print(\".\", end=\"        \")\n\n# Correction : \nfor _ in range(10):\n    print(\".\", end=\"-  \")"
  },
  {
   "cell_type": "markdown",
   "metadata": {},
   "source": "<h3 style=\"color:teal;background-color:azure;\" > <i class=\"fa fa-pencil\" aria-hidden=\"true\"> </i> &nbsp; Exercice 4</h3>\n\nReproduis le carré suivant à l'aide de 4 boucles `for`: \n\n```\n°*°*°*°*°*°*°*°*°*°*\n°                  °\n*                  *\n°                  °\n*                  *\n°                  °\n*                  *\n°                  °\n*                  *\n°*°*°*°*°*°*°*°*°*°*\n```\n    "
  },
  {
   "cell_type": "code",
   "execution_count": 22,
   "metadata": {
    "trusted": true
   },
   "outputs": [
    {
     "name": "stdout",
     "output_type": "stream",
     "text": "°*°*°*°*°*°*°*°*°*°*\n°                  °\n*                  *\n°                  °\n*                  *\n°                  °\n*                  *\n°                  °\n*                  *\n°*°*°*°*°*°*°*°*°*°*"
    }
   ],
   "source": "for _ in range(10):\n    print(\"°*\", end=\"\")\nprint()\nfor _ in range(4):\n    print(\"°                  °\")\n    print(\"*                  *\")\nfor _ in range(10):\n    print(\"°*\", end=\"\")"
  },
  {
   "cell_type": "markdown",
   "metadata": {},
   "source": "## Boucles `for` imbriquées\n\n## Qu’est-ce qu’une boucle imbriquée ?\nUne **boucle imbriquée** est une boucle qui se trouve à l’intérieur d’une autre boucle.  \n\n👉 Exemple en français :  \n- Pour chaque ligne d’un cahier (boucle extérieure)  \n  - j’écris 4 mots (boucle intérieure)  \n- J'ajoute un point à la fin de la ligne (boucle extérieure)\n\nEn Python, cela donne :\n\n```python\nfor _ in range(3):               # Boucle extérieure (3 fois)\n    for _ in range(4):           # Boucle intérieure (4 fois)\n        print(\" coucou\", end=\"\")  # end=\"\" indique de rester sur la même ligne\n    print(\".\")   \n```"
  },
  {
   "cell_type": "markdown",
   "metadata": {},
   "source": "<h3 style=\"color:teal;background-color:azure;\" > <i class=\"fa fa-pencil\" aria-hidden=\"true\"> </i> &nbsp; Exercice 5</h3>\n\nÉcris un programme de max. 4 ligne qui produit cette sortie : \n\n```\nSalut\nCa va ?\nCa va ?\nCa va ?\nSalut\nCa va ?\nCa va ?\nCa va ?\n```"
  },
  {
   "cell_type": "code",
   "execution_count": 29,
   "metadata": {
    "trusted": true
   },
   "outputs": [
    {
     "name": "stdout",
     "output_type": "stream",
     "text": "Salut\nCa va ?\nCa va ?\nCa va ?\nSalut\nCa va ?\nCa va ?\nCa va ?\n"
    }
   ],
   "source": "for _ in range(2):\n    print(\"Salut\")\n    for _ in range(3):\n        print(\"Ca va ?\")"
  },
  {
   "cell_type": "markdown",
   "metadata": {},
   "source": "<h3 style=\"color:teal;background-color:azure;\" > <i class=\"fa fa-pencil\" aria-hidden=\"true\"> </i> &nbsp; Exercice 6</h3>\n\nReproduis le rectangle suivant à l'aide d'une **boucle imbriquée (donc sans copier la ligne entière)**: \n\n```\no*o*o*o*o*o*o*o*o*o*o*o*o*o*o*o*o*o*o*o*o*o*o*o*o*o*o*o*o*o*o*o*o*o*o*o*o*o*o*o*\no*o*o*o*o*o*o*o*o*o*o*o*o*o*o*o*o*o*o*o*o*o*o*o*o*o*o*o*o*o*o*o*o*o*o*o*o*o*o*o*\no*o*o*o*o*o*o*o*o*o*o*o*o*o*o*o*o*o*o*o*o*o*o*o*o*o*o*o*o*o*o*o*o*o*o*o*o*o*o*o*\no*o*o*o*o*o*o*o*o*o*o*o*o*o*o*o*o*o*o*o*o*o*o*o*o*o*o*o*o*o*o*o*o*o*o*o*o*o*o*o*\no*o*o*o*o*o*o*o*o*o*o*o*o*o*o*o*o*o*o*o*o*o*o*o*o*o*o*o*o*o*o*o*o*o*o*o*o*o*o*o*\no*o*o*o*o*o*o*o*o*o*o*o*o*o*o*o*o*o*o*o*o*o*o*o*o*o*o*o*o*o*o*o*o*o*o*o*o*o*o*o*\no*o*o*o*o*o*o*o*o*o*o*o*o*o*o*o*o*o*o*o*o*o*o*o*o*o*o*o*o*o*o*o*o*o*o*o*o*o*o*o*\no*o*o*o*o*o*o*o*o*o*o*o*o*o*o*o*o*o*o*o*o*o*o*o*o*o*o*o*o*o*o*o*o*o*o*o*o*o*o*o*\no*o*o*o*o*o*o*o*o*o*o*o*o*o*o*o*o*o*o*o*o*o*o*o*o*o*o*o*o*o*o*o*o*o*o*o*o*o*o*o*\no*o*o*o*o*o*o*o*o*o*o*o*o*o*o*o*o*o*o*o*o*o*o*o*o*o*o*o*o*o*o*o*o*o*o*o*o*o*o*o*\n```"
  },
  {
   "cell_type": "code",
   "execution_count": 28,
   "metadata": {
    "trusted": true
   },
   "outputs": [
    {
     "name": "stdout",
     "output_type": "stream",
     "text": "o*o*o*o*o*o*o*o*o*o*o*o*o*o*o*o*o*o*o*o*o*o*o*o*o*o*o*o*o*o*o*o*o*o*o*o*o*o*o*o*\no*o*o*o*o*o*o*o*o*o*o*o*o*o*o*o*o*o*o*o*o*o*o*o*o*o*o*o*o*o*o*o*o*o*o*o*o*o*o*o*\no*o*o*o*o*o*o*o*o*o*o*o*o*o*o*o*o*o*o*o*o*o*o*o*o*o*o*o*o*o*o*o*o*o*o*o*o*o*o*o*\no*o*o*o*o*o*o*o*o*o*o*o*o*o*o*o*o*o*o*o*o*o*o*o*o*o*o*o*o*o*o*o*o*o*o*o*o*o*o*o*\no*o*o*o*o*o*o*o*o*o*o*o*o*o*o*o*o*o*o*o*o*o*o*o*o*o*o*o*o*o*o*o*o*o*o*o*o*o*o*o*\no*o*o*o*o*o*o*o*o*o*o*o*o*o*o*o*o*o*o*o*o*o*o*o*o*o*o*o*o*o*o*o*o*o*o*o*o*o*o*o*\no*o*o*o*o*o*o*o*o*o*o*o*o*o*o*o*o*o*o*o*o*o*o*o*o*o*o*o*o*o*o*o*o*o*o*o*o*o*o*o*\no*o*o*o*o*o*o*o*o*o*o*o*o*o*o*o*o*o*o*o*o*o*o*o*o*o*o*o*o*o*o*o*o*o*o*o*o*o*o*o*\no*o*o*o*o*o*o*o*o*o*o*o*o*o*o*o*o*o*o*o*o*o*o*o*o*o*o*o*o*o*o*o*o*o*o*o*o*o*o*o*\no*o*o*o*o*o*o*o*o*o*o*o*o*o*o*o*o*o*o*o*o*o*o*o*o*o*o*o*o*o*o*o*o*o*o*o*o*o*o*o*\n"
    }
   ],
   "source": "for _ in range(10):              \n    for _ in range(40):           \n        print(\"o\", end=\"*\")\n    print(\"\")   "
  },
  {
   "cell_type": "markdown",
   "metadata": {},
   "source": "<h3 style=\"color:teal;background-color:azure;\" > <i class=\"fa fa-pencil\" aria-hidden=\"true\"> </i> &nbsp; Exercice 7</h3>\n\nQu’obtient-on dans la console après exécution de ce programme?\n\n```python\nfor _ in range(2):\n    print(\"Une\")\n    for _ in range(2):\n        print(\"Deux\")\n    for _ in range(2):\n        print(\"Trois\")\n        print()\n```\n\nTa réponse : "
  },
  {
   "cell_type": "raw",
   "metadata": {},
   "source": ""
  },
  {
   "cell_type": "markdown",
   "metadata": {},
   "source": "<details>\n<summary style=\"border-left:3px solid #3c763d; border-radius:2pt; width:100%; color:#3c763d; padding:6px; background-color: #dff0d8\"> \nRéponse (Cliquer pour dévoiler)\n</summary>  \n\n```\nUne\nDeux\nDeux\nTrois\n\nTrois\n\nUne\nDeux\nDeux\nTrois\n\nTrois\n```\n</details>"
  },
  {
   "cell_type": "markdown",
   "metadata": {},
   "source": "<h3 style=\"color:teal;background-color:azure;\" > <i class=\"fa fa-pencil\" aria-hidden=\"true\"> </i> &nbsp; Exercice 8</h3>\n\nCompléter le code suivant de sorte qu’il produise le résultat suivant dans la console.\n\n```\nABBBBC\nABBBBC\nABBBBC\nABBBBC\n```"
  },
  {
   "cell_type": "raw",
   "metadata": {},
   "source": "for _ in range(.....):\n    print(\"......\",end=\"\")\n    for _ in range(......):\n        print(\"......\", end=\"\")\n    print(\"......\", end=\"\")\n    print()\n"
  },
  {
   "cell_type": "markdown",
   "metadata": {},
   "source": "<h3 style=\"color:teal;background-color:azure;\" > <i class=\"fa fa-pencil\" aria-hidden=\"true\"> </i> &nbsp; Exercice 9</h3>\n\nÉcrire un code qui permet de produire le résultat suivant dans la console à l’aide de trois boucles for imbriquées.\n```\nmatin\nmidi soir,soir,soir,\nmidi soir,soir,soir,\nmidi soir,soir,soir,\n\nmatin\nmidi soir,soir,soir,\nmidi soir,soir,soir,\nmidi soir,soir,soir,\n```"
  },
  {
   "cell_type": "markdown",
   "metadata": {},
   "source": "<h3 style=\"color:teal;background-color:azure;\" > <i class=\"fa fa-pencil\" aria-hidden=\"true\"> </i> &nbsp; Exercice 10</h3>\n\nCorriger le programme suivant qui doit afficher : \n```\nCoucou.Coucou.\nCoucou.Coucou.\nCoucou.Coucou.\n```"
  },
  {
   "cell_type": "code",
   "execution_count": null,
   "metadata": {
    "trusted": true
   },
   "outputs": [],
   "source": "for_ in rang(3):\nfor _ rang(2):\n    print(\"Coucou\", end=.)\n    print"
  },
  {
   "cell_type": "code",
   "execution_count": 32,
   "metadata": {
    "trusted": true
   },
   "outputs": [
    {
     "name": "stdout",
     "output_type": "stream",
     "text": "Coucou.Coucou.\nCoucou.Coucou.\nCoucou.Coucou.\n"
    }
   ],
   "source": "# Corrigé\nfor _ in range(3):\n    for _ in range(2):\n        print(\"Coucou\", end=\".\")\n    print()"
  },
  {
   "cell_type": "markdown",
   "metadata": {},
   "source": "---\n\n#### Remarque générale\n\nCe document est une adaptation d'un ressource pédagogique tiré du catalogue modulo https://modulo-info.ch/. Il est sous license Creative Commons [BY-NC-SA](https://creativecommons.org/licenses/?lang=fr)\n![Licence Creative Commons](https://i.creativecommons.org/l/by-nc-sa/4.0/88x31.png)\n"
  }
 ],
 "metadata": {
  "kernelspec": {
   "display_name": "Python 3 (ipykernel)",
   "language": "python",
   "name": "python3"
  },
  "language_info": {
   "codemirror_mode": {
    "name": "ipython",
    "version": 3
   },
   "file_extension": ".py",
   "mimetype": "text/x-python",
   "name": "python",
   "nbconvert_exporter": "python",
   "pygments_lexer": "ipython3",
   "version": "3.11.2"
  }
 },
 "nbformat": 4,
 "nbformat_minor": 2
}
