{
  "cells": [
    {
      "metadata": {},
      "cell_type": "markdown",
      "source": "<div class = \"alert  alert-danger\"> \n    \n# Cours avec solution\n</div>\n\n<div class = \"alert alert-block alert-warning\"> \n\n### A faire avant de commençer\n**Cliquez sur Exécuter tout** dans le menu **Cellule**.\n</div>\n\n\n# Solutions des exercices de révision pour l'évaluation\n\n<h3 style=\"color:teal;background-color:azure;\" > <i class=\"fa fa-pencil\" aria-hidden=\"true\"> </i> &nbsp; Exercice 0 </h3>\n\nEcrire un programme qui affiche `Dans une images codé en 24 bit il y a 2**24 couleurs` où à la place de `2**24` il y a le résultat du calcul (c'est-à-dire le résultat de $2^{24}$) . \n\n<div class = \"alert alert-block alert-warning\"> \n\n### Solution\n</div>"
    },
    {
      "metadata": {
        "trusted": true
      },
      "cell_type": "code",
      "source": "print(\"Dans une images codé en 24 bit il y a \" ,2**24, \" couleurs\")",
      "execution_count": null,
      "outputs": []
    },
    {
      "metadata": {},
      "cell_type": "markdown",
      "source": "<h3 style=\"color:teal;background-color:azure;\" > <i class=\"fa fa-pencil\" aria-hidden=\"true\"> </i> &nbsp; Exercice 1 </h3>\n\n1. Testez le programme suivant:"
    },
    {
      "metadata": {
        "trusted": true
      },
      "cell_type": "code",
      "source": "from turtle import *\n\nfor _ in range(3):\n    right(120)\n    forward(100)\n    for _ in range(5):\n        forward(10)\n        backward(10)\n        left(72)\ndone()",
      "execution_count": null,
      "outputs": []
    },
    {
      "metadata": {},
      "cell_type": "markdown",
      "source": "2. Réécrire le programme en définissant et en utilisant une fonction nommée `étoile`. Le programme doit produire la même figure\n\n<div class = \"alert alert-block alert-warning\"> \n\n### Solution\n</div>"
    },
    {
      "metadata": {
        "trusted": true
      },
      "cell_type": "code",
      "source": "from turtle import *\n\ndef etoile():\n    for _ in range(5):\n        forward(10)\n        backward(10)\n        left(72)\n\nfor _ in range(3):\n    right(120)\n    forward(100)\n    etoile()\n\ndone()\n",
      "execution_count": null,
      "outputs": []
    },
    {
      "metadata": {},
      "cell_type": "markdown",
      "source": "<h3 style=\"color:teal;background-color:azure;\" > <i class=\"fa fa-pencil\" aria-hidden=\"true\"> </i> &nbsp; Exercice 2 </h3>\n\nReprendre votre programme dessinant un carré et un triangle (leçon 3 : les fonctions simples) et réaliser le programme qui dessine 5 fois le carré et le triangle comme sur la figure ci-dessous. Le code ne devrait pas dépasser 20 lignes.\n\n![Suite de triangle et de carré](https://githepia.hesge.ch/info_sismondi/exercices-1ere/-/raw/main/Notebooks/imgs_chap3/ex_triangle_carre.svg)\n\n<div class = \"alert alert-block alert-warning\"> \n\n### Solution\n</div>"
    },
    {
      "metadata": {
        "trusted": true
      },
      "cell_type": "code",
      "source": "from turtle import *\n\ndef triangle():\n    for _ in range(3):\n        left(120)\n        forward(30)\n        \ndef carre():\n    for _ in range(4):\n        left(90)\n        forward(30)\n\nup()\nbackward(200)\ndown()\n\nfor _ in range(5):\n    carre()\n    penup()\n    forward(40)\n    pendown()\n    triangle()\n    penup()\n    forward(40)\n    pendown()\n    \ndone()\n",
      "execution_count": null,
      "outputs": []
    },
    {
      "metadata": {},
      "cell_type": "markdown",
      "source": "<h3 style=\"color:teal;background-color:azure;\" > <i class=\"fa fa-pencil\" aria-hidden=\"true\"> </i> &nbsp; Exercice 3 </h3>\n\nOn souhaite représenter la figure ci-dessous, mais le programme proposé ne donne pas la bonne exécution. \n- Quelle figure produit le code proposé (faire un croquis)?\n- Réécrire le code de sorte à obtenir la figure attendue.\nPrendre garde à la position finale de la tortue. Le point indique l’origine du repère.\n\n**Programme proposé**\n```Python\nfrom turtle import *\n\nfor _ in range(3):\n    for _ in range(3):\n        forward(50)\n        left(120)\n    forward(-50)\n    right(120)\n\ndone()\n```\n![Image de triangle dans un triangle](https://githepia.hesge.ch/info_sismondi/exercices-1ere/-/raw/main/Notebooks/imgs_chap3/sierpinski.png)\n\n<div class = \"alert alert-block alert-warning\"> \n\n### Solution\n</div>"
    },
    {
      "metadata": {
        "trusted": true
      },
      "cell_type": "code",
      "source": "from turtle import *\n\nfor _ in range(3):\n    for _ in range(3):\n        forward(50)\n        right(120)\n    forward(50)\n    left(120)\n\n    \ndone()\n",
      "execution_count": null,
      "outputs": []
    },
    {
      "metadata": {},
      "cell_type": "markdown",
      "source": "<h3 style=\"color:teal;background-color:azure;\" > <i class=\"fa fa-pencil\" aria-hidden=\"true\"> </i> &nbsp; Exercice 4 </h3>\n\nÉcrire un programme qui permet de produire le résultat ci-dessous dans la console à l’aide de trois boucles for imbriquées. On prendra garde à respecter les sauts de ligne. \n\n```\nmatin\nmidi soir soir soir \nmidi soir soir soir \n\nmatin\nmidi soir soir soir \nmidi soir soir soir \n```\n\n<div class = \"alert alert-block alert-warning\"> \n\n### Solution\n</div>"
    },
    {
      "metadata": {
        "trusted": true
      },
      "cell_type": "code",
      "source": "for _ in range(2):\n    print(\"matin\")\n    for _ in range(2):\n        print(\"midi\", end=\" \")\n        for _ in range(3):\n            print(\"soir\", end=\" \")\n        print()\n    print()\n",
      "execution_count": null,
      "outputs": []
    },
    {
      "metadata": {},
      "cell_type": "markdown",
      "source": "<h3 style=\"color:teal;background-color:azure;\" > <i class=\"fa fa-pencil\" aria-hidden=\"true\"> </i> &nbsp; Exercice 5 </h3>\n\nEn vous inspirant du programme ci-dessous\n\n```Python\nfrom turtle import *\n\nfor _ in range(3):\n    right(120)\n    forward(100)\n    for _ in range(4):\n        forward(10)\n        backward(10)\n        left(90)\n    goto(0,0)\ndone()\n\n```\nécrire un programme qui dessine la figure suivante, une fleur de pissenlit très simplifiée. \n\n![Image de fleur simplidiée](https://githepia.hesge.ch/info_sismondi/exercices-1ere/-/raw/main/Notebooks/imgs_chap3/fleur_etoile.png)\n\nLe point indique l’origine du repère. La tige a une longueur de 150, les branches ont une longueur de 50 et la longueur des “graines” est de 10.\n\n<div class = \"alert alert-block alert-warning\"> \n\n### Solution\n</div>"
    },
    {
      "metadata": {
        "trusted": true
      },
      "cell_type": "code",
      "source": "from turtle import *\n\nleft(90)\nbackward(180)\nforward(200)\n\nfor _ in range(5):\n    forward(100)\n    for _ in range(5):\n        forward(10)\n        backward(10)\n        left(72)\n    backward(100)\n    right(72)\ndone()\n",
      "execution_count": null,
      "outputs": []
    },
    {
      "metadata": {},
      "cell_type": "markdown",
      "source": "### ou avec un fonction `etoile`"
    },
    {
      "metadata": {
        "trusted": true
      },
      "cell_type": "code",
      "source": "from turtle import *\n\ndef etoile():\n    for _ in range(5):\n        forward(10)\n        backward(10)\n        left(72)   \n\nleft(90)\nbackward(180)\nforward(200)\n\nfor _ in range(5):\n    forward(100)\n    etoile()\n    backward(100)\n    right(72)\ndone()\n",
      "execution_count": null,
      "outputs": []
    },
    {
      "metadata": {},
      "cell_type": "markdown",
      "source": "<h3 style=\"color:teal;background-color:azure;\" > <i class=\"fa fa-pencil\" aria-hidden=\"true\"> </i> &nbsp; Exercice 6 </h3>\n\nÉcrire un programme qui définit et utilise des fonctions afin de dessiner la figure suivante:\n\n![Image de triple quadrillage](https://githepia.hesge.ch/info_sismondi/exercices-1ere/-/raw/main/Notebooks/imgs_chap3/triple_carre.png)\n<div class = \"alert alert-block alert-warning\"> \n\n### Solution\n</div>"
    },
    {
      "metadata": {
        "trusted": true
      },
      "cell_type": "code",
      "source": "from turtle import *\n\ndef carre():\n    for _ in range(4):\n        left(90)\n        forward(20)\n\ndef carre_quadruple():\n    for _ in range(4):\n        carre()\n        left(90)\n\nfor _ in range(3):\n    carre_quadruple()\n    penup()\n    forward(60)\n    pendown()\n\ndone()\n",
      "execution_count": null,
      "outputs": []
    },
    {
      "metadata": {
        "trusted": true
      },
      "cell_type": "code",
      "source": "",
      "execution_count": null,
      "outputs": []
    }
  ],
  "metadata": {
    "kernelspec": {
      "name": "python3",
      "display_name": "Python 3",
      "language": "python"
    }
  },
  "nbformat": 4,
  "nbformat_minor": 2
}
