{
 "cells": [
  {
   "cell_type": "markdown",
   "metadata": {},
   "source": "# Organisation et enregistrement des fichiers.\n\nFichier: 01c_Compléments_turtle.ipynb\n\nIl est primordial et important que vous sauvegardiez vos exercices. Vous avez deux alternatives:\n1. Dans votre dossier personnel “Mes documents” qui sera accessible depuis tous les ordinateurs du collège.\n2. Depuis votre Drive accessible depuis le site: https://eduge.ch. En sauvegardant dans votre drive, les fichiers seront accessibles depuis n’importe quel ordinateur ayant accès au WEB, donc depuis la maison.\n\n\n\n<div class = \"alert  alert-danger\"> \n    \n**Attention:**\n    \nLes fichiers sauvegardés sur le dossier “Bureau”, ne seront accessibles que depuis l’ordinateur où vous vous trouvez ! De plus, si le poste est réinstallé, vous perdez tout !!! Donc pas de sauvegarde de fichier sur le bureau.\n    \n**Veillez à bien sauvegarder votre travail** dans le bon dossier du disque réseau (dossier document) avec le bon nom (et l'extension *.ipynb*), **sinon toutes les modifications seront perdues!**\n\nPour reprendre votre travail, il suffit d'ouvrir le fichier .ipynb en cliquant sur *Fichier --> ouvrir*\n</div>\n\nNous vous conseillons de créer les dossiers suivants (ou similaire) dans votre dossier “Mes documents” ou “Drive”:\n```\nMes documents\\\n              Info_1ère\\\n                        Python\\\n                        Projet\\\n                        Exposé\\\n```\n"
  },
  {
   "cell_type": "markdown",
   "metadata": {},
   "source": "## 1.1 Rappel : le module `turtle`\n\nNous continuons l’utilisation du module Turtle pour dessiner. Quelques rappels essentiels:\n* Pour importer toutes les fonctions du module turtle, il est obligatoire d’insérer, au début du programme, la ligne suivante:\n```python\nfrom turtle import *\n```\n\nOn s’imagine une tortue qui se déplace sur un canevas et laisse une trace.\n\nCi-dessous, vous trouvez notre premier programme de trois lignes :\n\n- dans la première ligne, nous importons toutes (`*`) les fonctions du module turtle,\n\n- avec `shape('turtle')`, nous affichons une tortue (au lieu de la flèche),\n\n- avec `forward(150)`, nous faisons avancer la tortue de 150 pixels,\n\n- avec `done()`, nous lançons de tracage de la figure.\n\n\n"
  },
  {
   "cell_type": "markdown",
   "metadata": {},
   "source": "<div class=\"alert alert-block alert-info\"><b>Rappel:</b> Cliquez sur le bouton <b>Excécuter</b> pour tester le programme. </div>"
  },
  {
   "cell_type": "code",
   "execution_count": null,
   "metadata": {
    "trusted": true
   },
   "outputs": [],
   "source": "from turtle import *\n\nshape('turtle')\nforward(150)\ndone()"
  },
  {
   "cell_type": "markdown",
   "metadata": {},
   "source": "Quelques fonctions de Turtle avec des exemples:\n\n| Fonction |Exemple|Commentaire|\n|:-------- |:------|:----------|\n|forward(x)|forward(150)|Trace un trait de 150 points|\n|backward(x)|backward(150)|Trace un trait “à reculons” de 150 points|\n|left(n)|left(60)|Tourne sur place la tortue de 60° à gauche|\n|right(n)|right(60)|Tourne sur place la tortue de 60° à droite|\n|width(x)|width(5)|Change l’épaisseur à 5 points|"
  },
  {
   "cell_type": "markdown",
   "metadata": {},
   "source": "***\n\n## 1.2 Le canevas\n\nAu départ, la tortue se trouve au centre d'une zone rectangulaire appelée _canevas_.  Ce rectangle a les propriétés suivantes :\n\n- l'origine (0, 0) se trouve au centre,\n- l'axe horizontal x, s'étend de -300 à +300 (à droite),\n- l'axe vertical y, s'étend de -200 à +200 (en haut).\n\n<div><img alt=\"schéma axe X et y\" src=\"https://github.com/College-Sismondi-Informatique/exercices-1in/blob/main/Notebooks/imgs_chap1/schema_X_Y_turtle.png?raw=true\" style=\"width:400px\"/></div>\n\n<h3 style=\"color:teal;background-color:azure;\" > <i class=\"fa fa-pencil\" aria-hidden=\"true\"> </i> &nbsp; Exercice 1 </h3>\nCompléter le programme ci-dessous pour mener la tortue tout en bas du canevas. Ensuite, ajoutez une diagonale."
  },
  {
   "cell_type": "code",
   "execution_count": null,
   "metadata": {
    "trusted": true
   },
   "outputs": [],
   "source": "from turtle import *\n\nshape('turtle')\nforward(300)\nbackward(600)\nforward(300)\n\nleft(90)\nforward(200)\n\n\ndone()"
  },
  {
   "cell_type": "markdown",
   "metadata": {},
   "source": "## 1.3 Go to (Aller directement à)\n\nPour se déplacer directement à un point du canevas, on peut utiliser l'instruction `goto(x, y)`. \nPar exemple, `goto(0,0)` permet de se rendre directement au centre du canevas.\n\n\n<h3 style=\"color:teal;background-color:azure;\" > <i class=\"fa fa-pencil\" aria-hidden=\"true\"> </i> &nbsp; Exercice 2 </h3>\n\nRefaites le même dessin qu'à l'exercice 1, en utilisant l'instruction `goto`."
  },
  {
   "cell_type": "code",
   "execution_count": null,
   "metadata": {
    "trusted": true
   },
   "outputs": [],
   "source": "from turtle import *\n\ngoto(200,200)\n\ndone()"
  },
  {
   "cell_type": "markdown",
   "metadata": {},
   "source": "## 1.3 Se déplacer et lever le crayon\nSi on souhaite que la tortue se déplace sans écrire (sans dessiner), on utilise l'instruction `penup()`, puis pour reprendre l'écriture, on utilise la fonction `pendown()`.\n\n### Exemple:\n"
  },
  {
   "cell_type": "code",
   "execution_count": null,
   "metadata": {
    "trusted": true
   },
   "outputs": [],
   "source": "from turtle import *\n\nforward(100)\npenup()\nforward(100)\npendown()\nforward(100)\n\n\ndone()"
  },
  {
   "cell_type": "markdown",
   "metadata": {},
   "source": "<h3 style=\"color:teal;background-color:azure;\" > <i class=\"fa fa-pencil\" aria-hidden=\"true\"> </i> &nbsp; Exercice 3 </h3>\nReproduire le dessin suivant : \n\n![2 carrés espacés](https://github.com/College-Sismondi-Informatique/exercices-1in/blob/main/Notebooks/imgs_chap1/penup.png?raw=true)"
  },
  {
   "cell_type": "code",
   "execution_count": null,
   "metadata": {
    "trusted": true
   },
   "outputs": [],
   "source": ""
  },
  {
   "cell_type": "markdown",
   "metadata": {},
   "source": "## 1.4 Les disques et les cercles\n"
  },
  {
   "cell_type": "markdown",
   "metadata": {},
   "source": "La fonction `circle(R)` permet de dessiner un cercle de rayon R. De même, la fonction `dot(D)` permet de dessiner un cercle rempli (un point) centré à la position actuelle de la tortue de diamètre D.\n\n"
  },
  {
   "cell_type": "code",
   "execution_count": null,
   "metadata": {
    "trusted": true
   },
   "outputs": [],
   "source": "from turtle import *\n\n\ncircle(100)\n\ndot(50)\n\ndone()"
  },
  {
   "cell_type": "markdown",
   "metadata": {},
   "source": "<h3 style=\"color:teal;background-color:azure;\" > <i class=\"fa fa-pencil\" aria-hidden=\"true\"> </i> &nbsp; Exercice 4 </h3>\n\nDessiner un bonhomme de neige avec `circle(R)` et utiliser `dot()` pour les yeux et les boutons. Vous pouvez vous inspirer du dessin ci-dessous. Dessiner juste un bonhomme de neige.\n\nPour dessiner un nez orange, il suffit d'appeler `dot(12, \"orange\")`\n\n<div><img alt=\"schéma axe X et y\" src=\"https://github.com/College-Sismondi-Informatique/exercices-1in/blob/main/Notebooks/imgs_chap1/bonhomme_neige.png?raw=true\" style=\"width:600px\"/></div>\n"
  },
  {
   "cell_type": "code",
   "execution_count": null,
   "metadata": {
    "trusted": true
   },
   "outputs": [],
   "source": ""
  },
  {
   "cell_type": "markdown",
   "metadata": {},
   "source": "## 1.5 Les arcs de cercle\n"
  },
  {
   "cell_type": "markdown",
   "metadata": {},
   "source": "La fonction `circle` avec 2 paramètres dans les parenthèses : `circle(R, A)` permet de dessiner un arc de cercle de rayon R et d'angle A.\n\n\n<div><img alt=\"schéma axe X et y\" src=\"https://github.com/College-Sismondi-Informatique/exercices-1in/blob/main/Notebooks/imgs_chap1/arc_cercle.png?raw=true\" style=\"width:400px\"/></div>\n\nModifier le code suivant en changeant les valeurs pour comprendre comment la fonction `circle(R, A)` fonctionne. Soyez attentif à la position de départ de la tortue. Vous pouvez également tester des valeurs négatives d'angle et de rayon et changer l'angle de départ de la tortue par exemple en ajoutant un angle de 90° `left(90)`.\n\n\n\n"
  },
  {
   "cell_type": "code",
   "execution_count": null,
   "metadata": {
    "trusted": true
   },
   "outputs": [],
   "source": "from turtle import *\n\ncircle(60, 120)\n\ndone()"
  },
  {
   "cell_type": "markdown",
   "metadata": {},
   "source": "## 1.6 Les couleurs\n\nOn utilise les fonctions suivantes pour changer les couleurs : \n* `color(\"orange\")` pour changer la couleur du trait\n* `fillcolor(\"yellow\")` pour changer la couleur de remplissage\n* `begin_fill()` avant de commencer une forme qu'on voudra remplir\n* `end_fill()` après avoir fini une forme qu'on veut remplir\n\nVoici quelques couleurs, vous trouverez d'autre couleur ici: https://cs111.wellesley.edu/reference/colors\n\n| Nom (chaîne de caractères) | Couleur |\n|-----------------------------|---------|\n| `\"black\"`   | Noir ⬛ |\n| `\"white\"`   | Blanc ⬜|\n| `\"red\"`     | Rouge 🟥|\n| `\"green\"`   | Vert 🟩|\n| `\"blue\"`    | Bleu 🟦|\n| `\"yellow\"`  | Jaune 🟨|\n| `\"orange\"`  | Orange 🟧|\n| `\"purple\"`  | Violet 🟪|\n| `\"brown\"`   | Brun 🟫|\n| `\"cyan\"`    | Cyan (bleu clair) 🟦|\n\n\n\nℹ️ **NB :** La couleur est indiquée en anglais entre guillemets !\n\n<h3 style=\"color:teal;background-color:azure;\" > <i class=\"fa fa-pencil\" aria-hidden=\"true\"> </i> &nbsp; Exercice 5 </h3>\n\nAvec ces fonctions, dessiner un cercle de coutour orange rempli en bleu.\n"
  },
  {
   "cell_type": "markdown",
   "metadata": {
    "trusted": true
   },
   "source": ""
  },
  {
   "cell_type": "markdown",
   "metadata": {},
   "source": "## 1.7 Les pixels\n\n💡Un pixel (abréviation de picture element) est la plus petite unité d’une image numérique.\n\nDans le code ci-dessous, nous affichons un pixel rouge. Arrivez-vous à le distinguer ?\nCe point représente, le point le plus petit que peut afficher votre écran.\n\n<h3 style=\"color:teal;background-color:azure;\" > <i class=\"fa fa-pencil\" aria-hidden=\"true\"> </i> &nbsp; Exercice 6 </h3>"
  },
  {
   "cell_type": "code",
   "execution_count": null,
   "metadata": {
    "trusted": true
   },
   "outputs": [],
   "source": "from turtle import *\n\nhideturtle()\nspeed(0)\n\ncolor(\"red\")  \ndot(1)\ndone()"
  },
  {
   "cell_type": "markdown",
   "metadata": {},
   "source": "## 1.8 Une image binaire\n\nLe code suivant simule le dessin d'une image binaire. Afin de rendre visible un point, nous simulons la taille d'un pixel par un petit carré de 10x10 pixel. Reprendre l'image du petit monstre de la série d'exercice papier.\n\n<div><img alt=\"schéma axe X et y\" src=\"https://github.com/College-Sismondi-Informatique/exercices-1in/blob/main/Notebooks/imgs_chap1/monstre_binaire.png?raw=true\" style=\"width:200px\"/></div>\n\nVous allez vérifier votre codage en modifiant dans le code qui suit, les 0 et 1 dans la grille.\nLes `0` correspondent au codage d'un pixel noir et les `1` correspondent au codage d'un pixel blanc.\n\n```\n    [0,0,0,0,0,0,0,0,0,0,0,0,0],\n    [0,1,1,1,1,1,1,1,1,1,1,1,0],\n    [0,1,1,1,1,1,1,1,1,1,1,1,0],\n    [0,1,1,1,1,1,1,1,1,1,1,1,0],\n    [0,1,1,1,1,1,1,1,1,1,1,1,0],\n    [0,1,1,1,1,1,1,1,1,1,1,1,0],\n    [0,1,1,1,1,1,1,1,1,1,1,1,0],\n    [0,1,1,1,1,1,1,1,1,1,1,1,0],\n    [0,1,1,1,1,1,1,1,1,1,1,1,0],\n    [0,0,0,0,0,0,0,0,0,0,0,0,0],    \n````\n\n<h3 style=\"color:teal;background-color:azure;\" > <i class=\"fa fa-pencil\" aria-hidden=\"true\"> </i> &nbsp; Exercice 7 </h3>"
  },
  {
   "cell_type": "code",
   "execution_count": null,
   "metadata": {
    "trusted": true
   },
   "outputs": [],
   "source": "from turtle import *\n\n# MODIFIER les 0 et les 1 en laissant correctement les virgules et les []\n# 0 = noir, 1 = blanc\n# Pour l'instant un rectangle est affiché\nM = [\n    [0,0,0,0,0,0,0,0,0,0,0,0,0],\n    [0,1,1,1,1,1,1,1,1,1,1,1,0],\n    [0,1,1,1,1,1,1,1,1,1,1,1,0],\n    [0,1,1,1,1,1,1,1,1,1,1,1,0],\n    [0,1,1,1,1,1,1,1,1,1,1,1,0],\n    [0,1,1,1,1,1,1,1,1,1,1,1,0],\n    [0,1,1,1,1,1,1,1,1,1,1,1,0],\n    [0,1,1,1,1,1,1,1,1,1,1,1,0],\n    [0,1,1,1,1,1,1,1,1,1,1,1,0],\n    [0,0,0,0,0,0,0,0,0,0,0,0,0],    \n]\n\n######################### NE PAS MODIFIER LE CODE CI-DESSOUS ##############################\n######################### NE PAS MODIFIER LE CODE CI-DESSOUS ##############################\n######################### NE PAS MODIFIER LE CODE CI-DESSOUS ##############################\n\n# Paramètres\nTAILLE_PIXEL = 10\nORIGINE_X = -150\nORIGINE_Y = 150\n\ndef carre_plein(x, y, taille, couleur):\n    penup()\n    goto(x, y)\n    pendown()\n    color(couleur)\n    begin_fill()\n    for _ in range(4):\n        forward(taille)\n        right(90)\n    end_fill()\n\ndef dessiner_grille(M):\n    hideturtle()\n    speed(0)\n    y = ORIGINE_Y\n    for ligne in M:\n        x = ORIGINE_X\n        for v in ligne:\n            if v == 0:\n                carre_plein(x, y, TAILLE_PIXEL, \"black\")\n            else:\n                carre_plein(x, y, TAILLE_PIXEL, \"white\")\n            x += TAILLE_PIXEL\n        y -= TAILLE_PIXEL\n\ndessiner_grille(M)\ndone()\n"
  },
  {
   "cell_type": "markdown",
   "metadata": {},
   "source": "### À retenir (résumé des fonctions de dessin turtle)\n\n\nQuelques fonctions de Turtle avec des exemples:\n\n| Fonction |Exemple|Commentaire|\n|:-------- |:------|:----------|\n|`forward(x)`|`forward(150)`|Trace un trait de 150 points|\n|`backward(x)`|`backward(150)`|Trace un trait “à reculons” de 150 points|\n|`left(n)`|`left(60)`|Tourne sur place la tortue de 60° à gauche|\n|`right(n)`|`right(60)`|Tourne sur place la tortue de 60° à droite|\n|`width(x)`|`width(5)`|Change l’épaisseur à 5 points|\n|`penup()`|`penup()`|Lève la tortue (permet de se déplacer sans dessiner)|\n|`pendown()`|`pendown()`|Baisse le stylo|\n|`goto(x,y)`|`goto(100,0)`|Déplace le stylo sur l'axe de x à 100 et 0 en y.|\n|`seth(angle)`|`seth(0)`|Tourne le stylo à 0 degré (= position de départ)|\n|`dot(r)`| `dot(50)`|dessine un point de rayon `r`|\n|`circle(r)`| `circle(150)`|dessine un cercle de rayon `r`, vers la gauche|\n|`circle(-r)`| `circle(-150)`| dessine un cercle de rayon `r`, vers la droite|\n|`circle(r, a)`| `circle(150, 90)`|dessine un arc de cercle de rayon `r` avec un angle `a`|\n|`color(c)`| `color(\"orange\")`|pour changer la couleur du trait\n|`fillcolor(c)`|`fillcolor(\"yellow\")`| pour changer la couleur de remplissage\n|`begin_fill()`| `begin_fill()`| avant de commencer une forme qu'on voudra remplir\n|`end_fill()`| `end_fill()`| après avoir fini une forme qu'on veut remplir\n"
  },
  {
   "cell_type": "markdown",
   "metadata": {},
   "source": "## Exercices complémentaires\n<h3 style=\"color:teal;background-color:azure;\" > <i class=\"fa fa-pencil\" aria-hidden=\"true\"> </i> &nbsp; Exercice 8</h3>\n\nPac-Man est un jeu vidéo créé par l’entreprise japonaise Namco, sorti au Japon en 1980. Le jeu consiste à déplacer Pac-Man, un personnage qui ressemble à un diagramme circulaire à l’intérieur d’un labyrinthe, afin de lui faire manger toutes les pac-gommes qui s’y trouvent en évitant d’être touchées par des fantômes.\n\n\nAjoutez l'œil de Pac-Man, et les points qu'il mange.\n"
  },
  {
   "cell_type": "code",
   "execution_count": null,
   "metadata": {
    "trusted": true
   },
   "outputs": [],
   "source": "from turtle import *\n\nfillcolor('yellow')\nbegin_fill()\nleft(30)\nforward(100)\nleft(90)\ncircle(100, 300)\nleft(90)\nforward(100)\nend_fill()\n\ndone()\n"
  },
  {
   "cell_type": "markdown",
   "metadata": {},
   "source": "<h3 style=\"color:teal;background-color:azure;\" > <i class=\"fa fa-pencil\" aria-hidden=\"true\"> </i> &nbsp; Exercice 9 </h3>\n\nColoriez le cœur en rouge, ajoutez une flèche."
  },
  {
   "cell_type": "code",
   "execution_count": null,
   "metadata": {
    "trusted": true
   },
   "outputs": [],
   "source": "from turtle import *\nr = 50\n\nleft(90)\ncircle(r, 225)\nforward(2.4*r)\nleft(90)\nforward(2.4*r)\ncircle(r, 225)\n\ndone()\n"
  },
  {
   "cell_type": "markdown",
   "metadata": {},
   "source": "### Infini — ∞\nLe mot **infini** (du latin in-, préfixe négatif, et finitus, *limité*) est un adjectif servant à qualifier quelque chose qui n'a pas de limite en nombre ou en taille. L'infini est représenté par le symbole ∞. Nous allons le dessiner.\n\n<h3 style=\"color:teal;background-color:azure;\" > <i class=\"fa fa-pencil\" aria-hidden=\"true\"> </i> &nbsp; Exercice 10 </h3> Compléter le dessin du symbole infini.\n\n"
  },
  {
   "cell_type": "code",
   "execution_count": null,
   "metadata": {
    "trusted": true
   },
   "outputs": [],
   "source": "from turtle import *\n\nright(45)\nforward(50)\ncircle(50, 270) \n\ndone()"
  },
  {
   "cell_type": "markdown",
   "metadata": {},
   "source": "<h3 style=\"color:teal;background-color:azure;\" > <i class=\"fa fa-pencil\" aria-hidden=\"true\"> </i> &nbsp; Exercice 11 </h3>\n\nDessiner les deux cercles suivants d'épaisseur 5 en choississant 2 couleurs pour le premier cercle et 4 couleurs pour le deuxième:\n\n![Image de deux cercles de couleurs](https://github.com/College-Sismondi-Informatique/exercices-1in/blob/main/Notebooks/imgs_chap1/two_circle_color_python.png?raw=true)\n"
  },
  {
   "cell_type": "code",
   "execution_count": null,
   "metadata": {
    "trusted": true
   },
   "outputs": [],
   "source": "from turtle import *\n\n# à compléter\n\ndone()"
  },
  {
   "cell_type": "code",
   "execution_count": null,
   "metadata": {
    "trusted": true
   },
   "outputs": [],
   "source": ""
  },
  {
   "cell_type": "markdown",
   "metadata": {},
   "source": "<h3 style=\"color:teal;background-color:azure;\" > <i class=\"fa fa-pencil\" aria-hidden=\"true\"> </i> &nbsp; Exercice 12 </h3>\nÉcrire un programme qui dessine une voiture de couleur bleue avec des roues noires plus épaisse.\n\n<div><img alt=\"image de voiture\" src=\"https://github.com/College-Sismondi-Informatique/exercices-1in/blob/main/Notebooks/imgs_chap1/car_python.png?raw=true\" style=\"width:400px\"/></div>"
  },
  {
   "cell_type": "code",
   "execution_count": null,
   "metadata": {
    "trusted": true
   },
   "outputs": [],
   "source": "from turtle import *\n\n# à compléter\n\ndone()"
  },
  {
   "cell_type": "markdown",
   "metadata": {},
   "source": "<h3 style=\"color:teal;background-color:azure;\" > <i class=\"fa fa-pencil\" aria-hidden=\"true\"> </i> &nbsp; Exercice 13 </h3>\nÉcrire un programme qui dessine une poisson de couleur, avec une queue et un oeil.\n\n"
  },
  {
   "cell_type": "code",
   "execution_count": null,
   "metadata": {
    "scrolled": true,
    "trusted": true
   },
   "outputs": [],
   "source": "from turtle import *\n\nhideturtle()\nspeed(0)\n\ncolor(\"red\")  # la robe est rouge\ndot(1)\ndone()"
  },
  {
   "cell_type": "markdown",
   "metadata": {},
   "source": "---\n\n#### Remarque générale\n\nCe document est une adaptation d'un ressource pédagogique tiré du catalogue modulo https://modulo-info.ch/. Il est sous license Creative Commons [BY-NC-SA](https://creativecommons.org/licenses/?lang=fr)\n![Licence Creative Commons](https://i.creativecommons.org/l/by-nc-sa/4.0/88x31.png)"
  }
 ],
 "metadata": {
  "kernelspec": {
   "display_name": "Python 3 (ipykernel)",
   "language": "python",
   "name": "python3"
  }
 },
 "nbformat": 4,
 "nbformat_minor": 2
}
