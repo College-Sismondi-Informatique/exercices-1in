{
 "cells": [
  {
   "cell_type": "markdown",
   "metadata": {},
   "source": "# Organisation et enregistrement des fichiers.\n\nFichier: 01c_Compléments_turtle.ipynb\n\nIl est primordial et important que vous sauvegardiez vos exercices. Vous avez deux alternatives:\n1. Dans votre dossier personnel “Mes documents” qui sera accessible depuis tous les ordinateurs du collège.\n2. Depuis votre Drive accessible depuis le site: https://eduge.ch. En sauvegardant dans votre drive, les fichiers seront accessibles depuis n’importe quel ordinateur ayant accès au WEB, donc depuis la maison.\n\n\n\n<div class = \"alert  alert-danger\"> \n    \n**Attention:**\n    \nLes fichiers sauvegardés sur le dossier “Bureau”, ne seront accessibles que depuis l’ordinateur où vous vous trouvez ! De plus, si le poste est réinstallé, vous perdez tout !!! Donc pas de sauvegarde de fichier sur le bureau.\n    \n**Veillez à bien sauvegarder votre travail** dans le bon dossier du disque réseau (dossier document) avec le bon nom (et l'extension *.ipynb*), **sinon toutes les modifications seront perdues!**\n\nPour reprendre votre travail, il suffit d'ouvrir le fichier .ipynb en cliquant sur *Fichier --> ouvrir*\n</div>\n\nNous vous conseillons de créer les dossiers suivants (ou similaire) dans votre dossier “Mes documents” ou “Drive”:\n```\nMes documents\\\n              Info_1ère\\\n                        Python\\\n                        Projet\\\n                        Exposé\\\n```\n"
  },
  {
   "cell_type": "markdown",
   "metadata": {},
   "source": "## 1.1 Rappel : le module `turtle`\n\nNous continuons l’utilisation du module Turtle pour dessiner. Quelques rappels essentiels:\n* Pour importer toutes les fonctions du module turtle, il est obligatoire d’insérer, au début du programme, la ligne suivante:\n```python\nfrom turtle import *\n```\n\nOn s’imagine une tortue qui se déplace sur un canevas et laisse une trace.\n\nCi-dessous, vous trouvez notre premier programme de trois lignes :\n\n- dans la première ligne, nous importons toutes (`*`) les fonctions du module turtle,\n\n- avec `shape('turtle')`, nous affichons une tortue (au lieu de la flèche),\n\n- avec `forward(150)`, nous faisons avancer la tortue de 150 pixels,\n\n- avec `done()`, nous lançons de tracage de la figure.\n\n\n"
  },
  {
   "cell_type": "markdown",
   "metadata": {},
   "source": "<div class=\"alert alert-block alert-info\"><b>A savoir:</b> Cliquez sur le bouton <b>Excécuter</b> pour tester le programme. </div>"
  },
  {
   "cell_type": "code",
   "execution_count": null,
   "metadata": {
    "trusted": false
   },
   "outputs": [],
   "source": "from turtle import *\n\nshape('turtle')\nforward(150)\ndone()"
  },
  {
   "cell_type": "markdown",
   "metadata": {},
   "source": "Quelques fonctions de Turtle avec des exemples:\n\n| Fonction |Exemple|Commentaire|\n|:-------- |:------|:----------|\n|forward(x)|forward(150)|Trace un trait de 150 points|\n|backward(x)|backward(150)|Trace un trait “à reculons” de 150 points|\n|left(n)|left(60)|Tourne sur place la tortue de 60° à gauche|\n|right(n)|right(60)|Tourne sur place la tortue de 60° à droite|\n|width(x)|width(5)|Change l’épaisseur à 5 points|"
  },
  {
   "cell_type": "markdown",
   "metadata": {},
   "source": "***\n\n## 1.2 Le canevas\n\nAu départ, la tortue se trouve au centre d'une zone rectangulaire appelée _canevas_.  Ce rectangle a les propriétés suivantes :\n\n- l'origine (0, 0) se trouve au centre,\n- l'axe horizontal x, s'étend de -300 à +300 (à droite),\n- l'axe vertical y, s'étend de -200 à +200 (en haut).\n\n\n\n<h3 style=\"color:teal;background-color:azure;\" > <i class=\"fa fa-pencil\" aria-hidden=\"true\"> </i> &nbsp; Exercice 1 </h3>\nCompléter le programme ci-dessous pour mener la tortue tout en bas du canevas. Ensuite, ajoutez une diagonale."
  },
  {
   "cell_type": "code",
   "execution_count": null,
   "metadata": {
    "trusted": false
   },
   "outputs": [],
   "source": "from turtle import *\n\nshape('turtle')\nforward(300)\nbackward(600)\nforward(300)\n\nleft(90)\nforward(200)\n\n\ndone()"
  },
  {
   "cell_type": "markdown",
   "metadata": {},
   "source": "## 1.3 Go to (Aller directement à)\n\nPour se déplacer directement à un point du canevas, on peut utiliser l'instruction `goto(x, y)`. \nPar exemple, `goto(0,0)` permet de se rendre directement au centre du canevas.\n\n\n<h3 style=\"color:teal;background-color:azure;\" > <i class=\"fa fa-pencil\" aria-hidden=\"true\"> </i> &nbsp; Exercice 2 </h3>\n\nRefaites le même dessin qu'à l'exercice 1, en utilisant l'instruction `goto`."
  },
  {
   "cell_type": "code",
   "execution_count": null,
   "metadata": {
    "trusted": false
   },
   "outputs": [],
   "source": "from turtle import *\n\ngoto(200,200)\n\ndone()"
  },
  {
   "cell_type": "markdown",
   "metadata": {},
   "source": "## 1.3 Se déplacer et lever le crayon\nSi on souhaite que la tortue se déplace sans écrire (sans dessiner), on utilise l'instruction `penup()`, puis pour reprendre l'écriture, on utilise la fonction `pendown()`.\n\n### Exemple\n"
  },
  {
   "cell_type": "code",
   "execution_count": null,
   "metadata": {
    "trusted": false
   },
   "outputs": [],
   "source": "from turtle import *\n\nforward(100)\npenup()\nforward(100)\npendown()\nforward(100)\n\n\ndone()"
  },
  {
   "cell_type": "markdown",
   "metadata": {},
   "source": "<h3 style=\"color:teal;background-color:azure;\" > <i class=\"fa fa-pencil\" aria-hidden=\"true\"> </i> &nbsp; Exercice 3 </h3>\nReproduis le dessin suivant : \n\n![2 carrés espacés](https://github.com/College-Sismondi-Informatique/exercices-1in/blob/main/Notebooks/imgs_chap1/penup.png?raw=true)"
  },
  {
   "cell_type": "code",
   "execution_count": null,
   "metadata": {
    "trusted": false
   },
   "outputs": [],
   "source": ""
  },
  {
   "cell_type": "markdown",
   "metadata": {},
   "source": "## 1.4 Les disques et les cercles\n"
  },
  {
   "cell_type": "markdown",
   "metadata": {},
   "source": "La fonction `circle(R)` permet de dessiner un cercle de rayon R. De même, la fonction `dot(R)` permet de dessiner un disque de rayon R.\n\n"
  },
  {
   "cell_type": "code",
   "execution_count": null,
   "metadata": {
    "trusted": false
   },
   "outputs": [],
   "source": "from turtle import *\n\n\ncircle(100)\n\n\ndot(50)\n\n\n\ndone()"
  },
  {
   "cell_type": "markdown",
   "metadata": {},
   "source": "<h3 style=\"color:teal;background-color:azure;\" > <i class=\"fa fa-pencil\" aria-hidden=\"true\"> </i> &nbsp; Exercice 4 </h3>\n\nDessiner un bonhomme de neige avec `circle(R)` et utiliser `dot()` pour les yeux.\n\n"
  },
  {
   "cell_type": "code",
   "execution_count": null,
   "metadata": {
    "trusted": false
   },
   "outputs": [],
   "source": ""
  },
  {
   "cell_type": "markdown",
   "metadata": {},
   "source": "## 1.5 Les arcs de cercle\n"
  },
  {
   "cell_type": "markdown",
   "metadata": {},
   "source": "La fonction `circle` avec 2 paramètres dans les parenthèses : `circle(R, A)` permet de dessiner un arc de cercle de rayon R et d'angle A.\n\nModifier le code suivant en changeant les valeurs pour comprendre comment la fonction circle(R, A) fonctionne. Vous pouvez également tester des valeurs négatives d'angle et de rayon.\n\n\n\n"
  },
  {
   "cell_type": "code",
   "execution_count": null,
   "metadata": {
    "trusted": false
   },
   "outputs": [],
   "source": "from turtle import *\n\ncircle(100, 180)\n\ndone()"
  },
  {
   "cell_type": "markdown",
   "metadata": {},
   "source": "## 1.6 Les couleurs\n\nOn utilise les fonctions suivantes pour changer les couleurs : \n* `color(\"orange\")` pour changer la couleur du trait\n* `fillcolor(\"yellow\")` pour changer la couleur de remplissage\n* `begin_fill()` avant de commencer une forme qu'on voudra remplir\n* `end_fill()` après avoir fini une forme qu'on veut remplir\n\nLa couleur est indiquée en anglais entre guillemets !\n\n<h3 style=\"color:teal;background-color:azure;\" > <i class=\"fa fa-pencil\" aria-hidden=\"true\"> </i> &nbsp; Exercice 5 </h3>\n\nAvec ces fonctions, dessiner un cercle de coutour orange rempli en bleu."
  },
  {
   "cell_type": "code",
   "execution_count": null,
   "metadata": {
    "trusted": false
   },
   "outputs": [],
   "source": ""
  },
  {
   "cell_type": "markdown",
   "metadata": {},
   "source": "### A retenir\n\n\n\nQuelques fonctions de Turtle avec des exemples:\n\n| Fonction |Exemple|Commentaire|\n|:-------- |:------|:----------|\n|forward(x)|forward(150)|Trace un trait de 150 points|\n|backward(x)|backward(150)|Trace un trait “à reculons” de 150 points|\n|left(n)|left(60)|Tourne sur place la tortue de 60° à gauche|\n|right(n)|right(60)|Tourne sur place la tortue de 60° à droite|\n|width(x)|width(5)|Change l’épaisseur à 5 points|\n|penup()|penup()|Lève la tortue (permet de se déplacer sans dessiner)|\n|pendown()|pendown()|Baisse le stylo|\n|`dot(r)`| `dot(50)`|dessine un point de rayon `r`|\n|`circle(r)`| `circle(150)`|dessine un cercle de rayon `r`, vers la gauche|\n|`circle(-r)`| `circle(-150)`| dessine un cercle de rayon `r`, vers la droite|\n|`circle(r, a)`| `circle(150, 90)`|dessine un arc de cercle de rayon `r` avec un angle `a`|\n|`color(c)`| `color(\"orange\")`|pour changer la couleur du trait\n|`fillcolor(c)`|`fillcolor(\"yellow\")`| pour changer la couleur de remplissage\n| `begin_fill()`| `begin_fill()`| avant de commencer une forme qu'on voudra remplir\n| `end_fill()`| `end_fill()`| après avoir fini une forme qu'on veut remplir\n"
  },
  {
   "cell_type": "markdown",
   "metadata": {},
   "source": "## Exercices complémentaires\n<h3 style=\"color:teal;background-color:azure;\" > <i class=\"fa fa-pencil\" aria-hidden=\"true\"> </i> &nbsp; Exercice 6 </h3>\n\nPac-Man est un jeu vidéo créé par l’entreprise japonaise Namco, sorti au Japon en 1980. Le jeu consiste à déplacer Pac-Man, un personnage qui ressemble à un diagramme circulaire à l’intérieur d’un labyrinthe, afin de lui faire manger toutes les pac-gommes qui s’y trouvent en évitant d’être touchées par des fantômes.\n\n\nAjoutez l'œil de Pac-Man, et les points qu'il mange.\n"
  },
  {
   "cell_type": "code",
   "execution_count": null,
   "metadata": {
    "trusted": false
   },
   "outputs": [],
   "source": "from turtle import *\n\nfillcolor('yellow')\nbegin_fill()\nleft(30)\nforward(100)\nleft(90)\ncircle(100, 300)\nleft(90)\nforward(100)\nend_fill()\n\ndone()\n"
  },
  {
   "cell_type": "markdown",
   "metadata": {},
   "source": "<h3 style=\"color:teal;background-color:azure;\" > <i class=\"fa fa-pencil\" aria-hidden=\"true\"> </i> &nbsp; Exercice 7 </h3>\n\nColoriez le cœur en rouge, ajoutez une flèche."
  },
  {
   "cell_type": "code",
   "execution_count": null,
   "metadata": {
    "trusted": false
   },
   "outputs": [],
   "source": "from turtle import *\nr = 50\n\nleft(90)\ncircle(r, 225)\nforward(2.4*r)\nleft(90)\nforward(2.4*r)\ncircle(r, 225)\n\ndone()\n"
  },
  {
   "cell_type": "markdown",
   "metadata": {},
   "source": "### Infini — ∞\nLe mot **infini** (du latin in-, préfixe négatif, et finitus, *limité*) est un adjectif servant à qualifier quelque chose qui n'a pas de limite en nombre ou en taille. L'infini est représenté par le symbole ∞. Nous allons le dessiner.\n\n<h3 style=\"color:teal;background-color:azure;\" > <i class=\"fa fa-pencil\" aria-hidden=\"true\"> </i> &nbsp; Exercice 8 </h3> Compléter le dessin du symbole infini.\n\n"
  },
  {
   "cell_type": "code",
   "execution_count": null,
   "metadata": {
    "trusted": false
   },
   "outputs": [],
   "source": "from turtle import *\n\nright(45)\nforward(50)\ncircle(50, 270) \n\ndone()"
  },
  {
   "cell_type": "markdown",
   "metadata": {},
   "source": "<h3 style=\"color:teal;background-color:azure;\" > <i class=\"fa fa-pencil\" aria-hidden=\"true\"> </i> &nbsp; Exercice 9 </h3>\n\nDessiner les deux cercles suivants d'épaisseur 5 en choississant 2 couleurs pour le premier cercle et 4 couleurs pour le deuxième:\n\n![Image de deux cercles de couleurs](https://github.com/College-Sismondi-Informatique/exercices-1in/blob/main/Notebooks/imgs_chap1/two_circle_color_python.png?raw=true)\n"
  },
  {
   "cell_type": "code",
   "execution_count": null,
   "metadata": {
    "trusted": false
   },
   "outputs": [],
   "source": "from turtle import *\n\n# à compléter\n\ndone()"
  },
  {
   "cell_type": "code",
   "execution_count": null,
   "metadata": {
    "trusted": false
   },
   "outputs": [],
   "source": ""
  },
  {
   "cell_type": "markdown",
   "metadata": {},
   "source": "<h3 style=\"color:teal;background-color:azure;\" > <i class=\"fa fa-pencil\" aria-hidden=\"true\"> </i> &nbsp; Exercice 10 </h3>\nÉcrivez un programme qui dessine une voiture de couleur bleue avec des roues noires plus épaisse.\n\n![Image de voiture](https://github.com/College-Sismondi-Informatique/exercices-1in/blob/main/Notebooks/imgs_chap1/car_python.png?raw=true)\n\n"
  },
  {
   "cell_type": "code",
   "execution_count": null,
   "metadata": {
    "trusted": false
   },
   "outputs": [],
   "source": "from turtle import *\n\n# à compléter\n\ndone()"
  },
  {
   "cell_type": "markdown",
   "metadata": {},
   "source": "<h3 style=\"color:teal;background-color:azure;\" > <i class=\"fa fa-pencil\" aria-hidden=\"true\"> </i> &nbsp; Exercice 11 </h3>\nÉcrivez un programme qui dessine une poisson de couleur, avec une queue et un oeil.\n\n"
  },
  {
   "cell_type": "code",
   "execution_count": null,
   "metadata": {
    "scrolled": true,
    "trusted": false
   },
   "outputs": [],
   "source": ""
  },
  {
   "cell_type": "markdown",
   "metadata": {},
   "source": "---\n\n#### Remarque générale\n\nCe document est une adaptation d'un ressource pédagogique tiré du catalogue modulo https://modulo-info.ch/. Il est sous license Creative Commons [BY-NC-SA](https://creativecommons.org/licenses/?lang=fr)\n![Licence Creative Commons](https://i.creativecommons.org/l/by-nc-sa/4.0/88x31.png)"
  }
 ],
 "metadata": {
  "kernelspec": {
   "display_name": "Python 3 (ipykernel)",
   "language": "python",
   "name": "python3"
  }
 },
 "nbformat": 4,
 "nbformat_minor": 2
}
