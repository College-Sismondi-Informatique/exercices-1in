{
 "cells": [
  {
   "cell_type": "markdown",
   "metadata": {},
   "source": "# Organisation et enregistrement des fichiers.\n\nFichier: 01c_Compléments_turtle.ipynb\n\nIl est primordial et important que vous sauvegardiez vos exercices. Vous avez deux alternatives:\n1. Dans votre dossier personnel “Mes documents” qui sera accessible depuis tous les ordinateurs du collège.\n2. Depuis votre Drive accessible depuis le site: https://eduge.ch. En sauvegardant dans votre drive, les fichiers seront accessibles depuis n’importe quel ordinateur ayant accès au WEB, donc depuis la maison.\n\n\n\n<div class = \"alert  alert-danger\"> \n    \n**Attention:**\n    \nLes fichiers sauvegardés sur le dossier “Bureau”, ne seront accessibles que depuis l’ordinateur où vous vous trouvez ! De plus, si le poste est réinstallé, vous perdez tout !!! Donc pas de sauvegarde de fichier sur le bureau.\n    \n**Veillez à bien sauvegarder votre travail** dans le bon dossier du disque réseau (dossier document) avec le bon nom (et l'extension *.ipynb*), **sinon toutes les modifications seront perdues!**\n\nPour reprendre votre travail, il suffit d'ouvrir le fichier .ipynb en cliquant sur *Fichier --> ouvrir*\n</div>\n\nNous vous conseillons de créer les dossiers suivants (ou similaire) dans votre dossier “Mes documents” ou “Drive”:\n```\nMes documents\\\n              Info_1ère\\\n                        Python\\\n                        Projet\\\n                        Exposé\\\n```\n"
  },
  {
   "cell_type": "markdown",
   "metadata": {},
   "source": "## 1.0 Rappel : le module `turtle`\n\nNous continuons l’utilisation du module Turtle pour dessiner. Quelques rappels essentiels:\n* Pour importer toutes les fonctions du module turtle, il est obligatoire d’insérer, au début du programme, la ligne suivante:\n```python\nfrom turtle import *\n```\n\nOn s’imagine une tortue qui se déplace sur un canevas et laisse une trace.\n\nCi-dessous, vous trouvez notre premier programme de trois lignes :\n\n- dans la première ligne, nous importons toutes (`*`) les fonctions du module turtle,\n\n- avec `shape('turtle')`, nous affichons une tortue (au lieu de la flèche),\n\n- avec `forward(150)`, nous faisons avancer la tortue de 150 pixels,\n\n- avec `done()`, nous lançons de tracage de la figure.\n\n\n"
  },
  {
   "cell_type": "markdown",
   "metadata": {},
   "source": "<div class=\"alert alert-block alert-info\"><b>Rappel:</b> Cliquez sur le bouton <b>Excécuter</b> pour tester le programme. </div>"
  },
  {
   "cell_type": "code",
   "execution_count": null,
   "metadata": {
    "trusted": true
   },
   "outputs": [],
   "source": "from turtle import *\n\nshape('turtle')\nforward(150)\ndone()"
  },
  {
   "cell_type": "markdown",
   "metadata": {},
   "source": "Quelques fonctions de Turtle avec des exemples:\n\n| Fonction |Exemple|Commentaire|\n|:-------- |:------|:----------|\n|forward(x)|forward(150)|Trace un trait de 150 points|\n|backward(x)|backward(150)|Trace un trait “à reculons” de 150 points|\n|left(n)|left(60)|Tourne sur place la tortue de 60° à gauche|\n|right(n)|right(60)|Tourne sur place la tortue de 60° à droite|\n|width(x)|width(5)|Change l’épaisseur à 5 points|"
  },
  {
   "cell_type": "markdown",
   "metadata": {},
   "source": "***\n\n## 1.1 Le canevas\n\nAu départ, la tortue se trouve au centre d'une zone rectangulaire appelée _canevas_.  Ce rectangle a les propriétés suivantes :\n\n- l'origine (0, 0) se trouve au centre,\n- l'axe horizontal x, s'étend de -300 à +300 (à droite),\n- l'axe vertical y, s'étend de -200 à +200 (en haut).\n\n<div><img alt=\"schéma axe X et y\" src=\"https://github.com/College-Sismondi-Informatique/exercices-1in/blob/main/Notebooks/imgs_chap1/schema_X_Y_turtle.png?raw=true\" style=\"width:400px\"/></div>\n\n<h3 style=\"color:teal;background-color:azure;\" > <i class=\"fa fa-pencil\" aria-hidden=\"true\"> </i> &nbsp; Exercice 1 </h3>\nCompléter le programme ci-dessous pour mener la tortue tout en bas du canevas. Ensuite, ajoutez une diagonale."
  },
  {
   "cell_type": "code",
   "execution_count": null,
   "metadata": {
    "trusted": true
   },
   "outputs": [],
   "source": "from turtle import *\n\nshape('turtle')\nforward(300)\nbackward(600)\nforward(300)\n\nleft(90)\nforward(200)\n\n\ndone()"
  },
  {
   "cell_type": "markdown",
   "metadata": {},
   "source": "## 1.2 Go to (Aller directement à)\n\nPour se déplacer directement à un point du canevas, on peut utiliser l'instruction `goto(x, y)`. \nPar exemple, `goto(0,0)` permet de se rendre directement au centre du canevas.\n\n\n<h3 style=\"color:teal;background-color:azure;\" > <i class=\"fa fa-pencil\" aria-hidden=\"true\"> </i> &nbsp; Exercice 2 </h3>\n\nRefaites le même dessin qu'à l'exercice 1, en utilisant l'instruction `goto`."
  },
  {
   "cell_type": "code",
   "execution_count": null,
   "metadata": {
    "trusted": true
   },
   "outputs": [],
   "source": "from turtle import *\n\ngoto(200,200)\n\ndone()"
  },
  {
   "cell_type": "markdown",
   "metadata": {},
   "source": "## 1.3 Se déplacer et lever le crayon\nSi on souhaite que la tortue se déplace sans écrire (sans dessiner), on utilise l'instruction `penup()`, puis pour reprendre l'écriture, on utilise la fonction `pendown()`.\n\n### Exemple:\n"
  },
  {
   "cell_type": "code",
   "execution_count": null,
   "metadata": {
    "trusted": true
   },
   "outputs": [],
   "source": "from turtle import *\n\nforward(100)\npenup()\nforward(100)\npendown()\nforward(100)\n\n\ndone()"
  },
  {
   "cell_type": "markdown",
   "metadata": {},
   "source": "<h3 style=\"color:teal;background-color:azure;\" > <i class=\"fa fa-pencil\" aria-hidden=\"true\"> </i> &nbsp; Exercice 3 </h3>\nReproduire le dessin suivant : \n\n![2 carrés espacés](https://github.com/College-Sismondi-Informatique/exercices-1in/blob/main/Notebooks/imgs_chap1/penup.png?raw=true)"
  },
  {
   "cell_type": "code",
   "execution_count": null,
   "metadata": {
    "trusted": true
   },
   "outputs": [],
   "source": "from turtle import *\n\n# à compléter\n\ndone()"
  },
  {
   "cell_type": "markdown",
   "metadata": {},
   "source": "## 1.4 Les disques et les cercles\n"
  },
  {
   "cell_type": "markdown",
   "metadata": {},
   "source": "La fonction `circle(R)` permet de dessiner un cercle de rayon R. De même, la fonction `dot(D)` permet de dessiner un cercle rempli (un point) centré à la position actuelle de la tortue de diamètre D.\n\n"
  },
  {
   "cell_type": "code",
   "execution_count": null,
   "metadata": {
    "trusted": true
   },
   "outputs": [],
   "source": "from turtle import *\n\n\ncircle(100)\n\ndot(50)\n\ndone()"
  },
  {
   "cell_type": "markdown",
   "metadata": {},
   "source": "<h3 style=\"color:teal;background-color:azure;\" > <i class=\"fa fa-pencil\" aria-hidden=\"true\"> </i> &nbsp; Exercice 4 </h3>\n\nDessiner un bonhomme de neige (comme celui de gauche) avec `circle(R)` et utiliser `dot()` pour les yeux et les boutons. Vous pouvez vous inspirer du dessin ci-dessous en vous aidant des axes x et y.\n\nPour dessiner un nez orange, il suffit d'appeler `dot(12, \"orange\")`\n\n<div><img alt=\"schéma axe X et y\" src=\"https://github.com/College-Sismondi-Informatique/exercices-1in/blob/main/Notebooks/imgs_chap1/bonhomme_neige.png?raw=true\" style=\"width:600px\"/></div>\n"
  },
  {
   "cell_type": "code",
   "execution_count": null,
   "metadata": {
    "trusted": true
   },
   "outputs": [],
   "source": "from turtle import *\n\n# à compléter\n\ndone()"
  },
  {
   "cell_type": "markdown",
   "metadata": {},
   "source": "## 1.5 Les arcs de cercle\n"
  },
  {
   "cell_type": "markdown",
   "metadata": {},
   "source": "La fonction `circle` avec 2 paramètres dans les parenthèses : `circle(R, A)` permet de dessiner un arc de cercle de rayon R et d'angle A.\n\n\n<div><img alt=\"schéma axe X et y\" src=\"https://github.com/College-Sismondi-Informatique/exercices-1in/blob/main/Notebooks/imgs_chap1/arc_cercle.png?raw=true\" style=\"width:400px\"/></div>\n\nModifier le code suivant en changeant les valeurs pour comprendre comment la fonction `circle(R, A)` fonctionne. Soyez attentif à la position de départ de la tortue. Vous pouvez également tester des valeurs négatives d'angle et de rayon et changer l'angle de départ de la tortue par exemple en ajoutant un angle de 90° `left(90)`.\n\n\n\n"
  },
  {
   "cell_type": "code",
   "execution_count": null,
   "metadata": {
    "trusted": true
   },
   "outputs": [],
   "source": "from turtle import *\n\ncircle(60, 120)\n\ndone()"
  },
  {
   "cell_type": "markdown",
   "metadata": {},
   "source": "## 1.6 Les couleurs\n\nOn utilise les fonctions suivantes pour changer les couleurs : \n* `color(\"orange\")` pour changer la couleur du trait\n* `fillcolor(\"yellow\")` pour changer la couleur de remplissage\n* `begin_fill()` avant de commencer une forme qu'on voudra remplir\n* `end_fill()` après avoir fini une forme qu'on veut remplir\n\nVoici quelques couleurs, vous trouverez d'autre couleur ici: https://cs111.wellesley.edu/reference/colors\n\n| Nom (chaîne de caractères) | Couleur |\n|-----------------------------|---------|\n| `\"black\"`   | Noir ⬛ |\n| `\"white\"`   | Blanc ⬜|\n| `\"red\"`     | Rouge 🟥|\n| `\"green\"`   | Vert 🟩|\n| `\"blue\"`    | Bleu 🟦|\n| `\"yellow\"`  | Jaune 🟨|\n| `\"orange\"`  | Orange 🟧|\n| `\"purple\"`  | Violet 🟪|\n| `\"brown\"`   | Brun 🟫|\n| `\"cyan\"`    | Cyan (bleu clair) 🟦|\n\n\n\nℹ️ **NB :** La couleur est indiquée en anglais entre guillemets !\n\n<h3 style=\"color:teal;background-color:azure;\" > <i class=\"fa fa-pencil\" aria-hidden=\"true\"> </i> &nbsp; Exercice 5 </h3>\n\nAvec ces fonctions, dessiner un cercle de coutour orange rempli en bleu.\n"
  },
  {
   "cell_type": "code",
   "execution_count": null,
   "metadata": {
    "trusted": true
   },
   "outputs": [],
   "source": "from turtle import *\n\n# à compléter\n\ndone()"
  },
  {
   "cell_type": "markdown",
   "metadata": {},
   "source": "## 1.7 Les pixels\n\n💡Un pixel (abréviation de picture element) est la plus petite unité d’une image numérique.\n\nDans le code ci-dessous, nous affichons un pixel rouge. Arrivez-vous à le distinguer ?\nCe point représente, le point le plus petit que peut afficher votre écran.\n\n<h3 style=\"color:teal;background-color:azure;\" > <i class=\"fa fa-pencil\" aria-hidden=\"true\"> </i> &nbsp; Exercice 6 </h3>"
  },
  {
   "cell_type": "code",
   "execution_count": null,
   "metadata": {
    "trusted": true
   },
   "outputs": [],
   "source": "from turtle import *\n\nhideturtle()\nspeed(0)\n\ncolor(\"red\")  \ndot(1)\ndone()"
  },
  {
   "cell_type": "markdown",
   "metadata": {},
   "source": "## 1.8 Une image binaire\n\nLe code suivant simule le dessin d'une image binaire. Afin de rendre visible un point, nous simulons la taille d'un pixel par un petit carré de 10x10 pixel. Reprendre l'image du petit monstre de la série d'exercice papier.\n\n<div><img alt=\"schéma axe X et y\" src=\"https://github.com/College-Sismondi-Informatique/exercices-1in/blob/main/Notebooks/imgs_chap1/monstre_binaire.png?raw=true\" style=\"width:200px\"/></div>\n\nVous allez vérifier votre codage en modifiant dans le code qui suit, les 0 et 1 dans la grille.\nLes `0` correspondent au codage d'un pixel noir et les `1` correspondent au codage d'un pixel blanc.\n\n```\n    [0,0,0,0,0,0,0,0,0,0,0,0,0],\n    [0,1,1,1,1,1,1,1,1,1,1,1,0],\n    [0,1,1,1,1,1,1,1,1,1,1,1,0],\n    [0,1,1,1,1,1,1,1,1,1,1,1,0],\n    [0,1,1,1,1,1,1,1,1,1,1,1,0],\n    [0,1,1,1,1,1,1,1,1,1,1,1,0],\n    [0,1,1,1,1,1,1,1,1,1,1,1,0],\n    [0,1,1,1,1,1,1,1,1,1,1,1,0],\n    [0,1,1,1,1,1,1,1,1,1,1,1,0],\n    [0,0,0,0,0,0,0,0,0,0,0,0,0],    \n````\n\n<h3 style=\"color:teal;background-color:azure;\" > <i class=\"fa fa-pencil\" aria-hidden=\"true\"> </i> &nbsp; Exercice 7 </h3>"
  },
  {
   "cell_type": "code",
   "execution_count": null,
   "metadata": {
    "trusted": true
   },
   "outputs": [],
   "source": "from turtle import *\n\n# MODIFIER les 0 et les 1 en laissant correctement les virgules et les []\n# 0 = noir, 1 = blanc\n# Pour l'instant un rectangle est affiché\nM = [\n    [0,0,0,0,0,0,0,0,0,0,0,0,0],\n    [0,1,1,1,1,1,1,1,1,1,1,1,0],\n    [0,1,1,1,1,1,1,1,1,1,1,1,0],\n    [0,1,1,1,1,1,1,1,1,1,1,1,0],\n    [0,1,1,1,1,1,1,1,1,1,1,1,0],\n    [0,1,1,1,1,1,1,1,1,1,1,1,0],\n    [0,1,1,1,1,1,1,1,1,1,1,1,0],\n    [0,1,1,1,1,1,1,1,1,1,1,1,0],\n    [0,1,1,1,1,1,1,1,1,1,1,1,0],\n    [0,0,0,0,0,0,0,0,0,0,0,0,0],    \n]\n\n######################### NE PAS MODIFIER LE CODE CI-DESSOUS ##############################\n######################### NE PAS MODIFIER LE CODE CI-DESSOUS ##############################\n######################### NE PAS MODIFIER LE CODE CI-DESSOUS ##############################\n\n# Paramètres\nTAILLE_PIXEL = 10\nORIGINE_X = -150\nORIGINE_Y = 150\n\ndef carre_plein(x, y, taille, couleur):\n    penup()\n    goto(x, y)\n    pendown()\n    color(couleur)\n    begin_fill()\n    for _ in range(4):\n        forward(taille)\n        right(90)\n    end_fill()\n\ndef dessiner_grille(M):\n    hideturtle()\n    speed(0)\n    y = ORIGINE_Y\n    for ligne in M:\n        x = ORIGINE_X\n        for v in ligne:\n            if v == 0:\n                carre_plein(x, y, TAILLE_PIXEL, \"black\")\n            else:\n                carre_plein(x, y, TAILLE_PIXEL, \"white\")\n            x += TAILLE_PIXEL\n        y -= TAILLE_PIXEL\n\ndessiner_grille(M)\ndone()\n"
  },
  {
   "cell_type": "markdown",
   "metadata": {},
   "source": "## 1.9 Simulation d’une image indexée\n\nDans ce travail, nous allons **simuler une image indexée** comme dans le cours :  \n- L’image est représentée par une **grille de nombres** (indices).  \n- Chaque nombre correspond à une couleur définie dans une **palette**.  \n\n<div><img alt=\"schéma axe X et y\" src=\"https://github.com/College-Sismondi-Informatique/exercices-1in/blob/main/Notebooks/imgs_chap1/mario_indexé.png?raw=true\" style=\"width:700px\"/></div>\n\n\n<h3 style=\"color:teal;background-color:azure;\" > <i class=\"fa fa-pencil\" aria-hidden=\"true\"> </i> &nbsp; Exercice 8 </h3>\n\n1. Exécuter le programme Python fourni : il dessine Mario à partir de la **grille** et de la **palette**.\n2. **Sans changer la grille**, modifie uniquement la **palette** pour :  \n   - donner une autre couleur au **pull** et à sa **casquette**.\n   - donner une autre couleur à la **salopette**\n3. Vous pouvez vous aider du site suivant, pour trouver d'autres couleurs(*) : https://cs111.wellesley.edu/labs/lab02/colors\n\n(*) Toute les couleurs ne sont pas codées et ne pourront pas s'afficher !\n\n👉 Cet exercice montre que dans une **image indexée**, on peut modifier les couleurs **simplement en changeant la palette**, sans retoucher la grille de pixels.\n"
  },
  {
   "cell_type": "code",
   "execution_count": null,
   "metadata": {
    "trusted": true
   },
   "outputs": [],
   "source": "from turtle import *\n\n# --- Palette indexée (0..5) → couleurs Turtle (noms simples) \n# Ne pas oublier de mettre entre guillemet et écrire les noms des couleurs en anglais.\nPALETTE = {\n    0: \"blue\",   \n    1: \"saddlebrown\",      \n    2: \"black\",   \n    3: \"gold\", \n    4: \"red\",      \n    5: \"white\",     \n}\n\n######################### NE PAS MODIFIER LE CODE CI-DESSOUS ##############################\n######################### NE PAS MODIFIER LE CODE CI-DESSOUS ##############################\n######################### NE PAS MODIFIER LE CODE CI-DESSOUS ##############################\n\n# --- Paramètres d'affichage ---\nTAILLE_PIXEL = 15        # change si tu veux un Mario plus grand\nORIGINE_X = -140         # coin haut-gauche en x\nORIGINE_Y =  160         # coin haut-gauche en y\n\n# --- Grille 14 x 16 issue du cours (indices 0..5) ---\nM = [\n    [5,5,5,5,4,4,4,4,4,5,5,5,5,5],\n    [5,5,5,4,4,4,4,4,4,4,4,4,5,5],\n    [5,5,5,1,1,1,3,3,2,3,5,5,5,5],\n    [5,5,1,3,1,3,3,3,2,3,3,3,5,5],\n    [5,5,1,3,1,1,3,3,3,2,3,3,3,5],\n    [5,5,5,1,3,3,3,3,2,2,2,2,5,5],\n    [5,5,5,5,3,3,3,3,3,3,5,5,5,5],\n    [5,5,5,4,4,0,4,4,0,4,4,5,5,5],\n    [5,5,4,4,4,0,4,4,0,4,4,4,5,5],\n    [5,4,4,4,4,0,0,0,0,4,4,4,4,5],\n    [5,3,3,4,0,3,0,0,3,0,4,3,3,5],\n    [5,3,3,3,0,0,0,0,0,0,3,3,3,5],\n    [5,3,3,0,0,0,0,0,0,0,0,3,3,5],\n    [5,5,5,0,0,0,5,5,0,0,0,5,5,5],\n    [5,5,1,1,1,5,5,5,5,1,1,1,5,5],\n    [5,1,1,1,1,5,5,5,5,1,1,1,1,5],\n]\n\n# --- Rendu Turtle (ne rien modifier pour les élèves) ---\ndef carre_plein(x, y, taille, couleur):\n    penup(); goto(x, y); pendown()\n    color(couleur)\n    begin_fill()\n    for _ in range(4):\n        forward(taille); right(90)\n    end_fill()\n\ndef dessiner_grille(M):\n    hideturtle(); speed(0)\n    y = ORIGINE_Y\n    for ligne in M:\n        x = ORIGINE_X\n        for idx in ligne:\n            couleur = PALETTE.get(idx, \"white\")\n            carre_plein(x, y, TAILLE_PIXEL, couleur)\n            x += TAILLE_PIXEL\n        y -= TAILLE_PIXEL\n\nspeed(0)\ndessiner_grille(M)\ndone()"
  },
  {
   "cell_type": "markdown",
   "metadata": {},
   "source": "## 2.0 Image en couleur RVB et pixel\nDans ce travail, nous allons travailler avec une image couleur (RVB):\n- Nous allons la charger\n- Récupérer la taille de l'image (largeur,hauteur)\n- Récupérer la valeur RVB d'un pixel donné\n- Chercher une zone pour dessiner un carré (= changer la valeur de quelques pixels)\n- Afficher l'image modifiée.\n\n<div><img alt=\"paysage suisse\" src=\"https://github.com/College-Sismondi-Informatique/exercices-1in/blob/main/Notebooks/imgs_chap1/paysage_small.png?raw=true\" style=\"width:537px\"/></div>"
  },
  {
   "cell_type": "markdown",
   "metadata": {},
   "source": "<div class = \"alert  alert-danger\"> \nPour travailler sur une image en python dans un notebook, il faut d'abord la récupérer et ensuite la chargée.\n\nC'est une manipulation obligatoire !!! \n\nAvant de commencer à coder, suivre les instructions de 1 à 7 correctement !\n</div>\n\n1) Commencer par télécharger l'image : **clique droit** sur l'image\n\n2) Choisir Enregistrer l'image sous...  (conserver le nom et l'extension du fichier proposé qui est paysage_small.png\n<div><img alt=\"marche à suivre\" src=\"https://github.com/College-Sismondi-Informatique/exercices-1in/blob/main/Notebooks/imgs_chap1/marche_a_suivre01.png?raw=true\" style=\"width:400px\"/></div>\n\n3) Dans ce notebook, ouvrir le menu Fichier --> Ouvrir...\n\n<div><img alt=\"marche à suivre\" src=\"https://github.com/College-Sismondi-Informatique/exercices-1in/blob/main/Notebooks/imgs_chap1/marche_a_suivre02.png?raw=true\" style=\"width:300px\"/></div>\n\n4) Sélectionner l'image que vous venez de télécharger.\n5) Cliquer sur Open\n6) Vous devriez voir ce pop-up vous indiquant que l'image est chargée et utilisable par le code:\n\n<div><img alt=\"pop-up\" src=\"https://github.com/College-Sismondi-Informatique/exercices-1in/blob/main/Notebooks/imgs_chap1/chargement_image.png?raw=true\" style=\"width:500px\"/></div>\n\n7) Accepter en cliquant sur ok"
  },
  {
   "cell_type": "markdown",
   "metadata": {},
   "source": "<h3 style=\"color:teal;background-color:azure;\" > <i class=\"fa fa-pencil\" aria-hidden=\"true\"> </i> &nbsp; Exercice 9 </h3>\n\nLe code suivant n'est pas complet, il faut suivre les étapes suivantes:\n\n1) Dans le code qui suit, la ligne 3, permet de charger l'image nommée paysage_small.png dans ce notebook python. \n\n    --> En cas d'erreur, vérifiez le nom du fichier !"
  },
  {
   "cell_type": "markdown",
   "metadata": {},
   "source": "2) Commencer par afficher la taille en largeur et hauteur de votre image en **substituant** le texte `CHANGER_ICI` par `MonImage.size`. Cette information vous permet de comprendre la définition de votre image."
  },
  {
   "cell_type": "code",
   "execution_count": null,
   "metadata": {
    "trusted": true
   },
   "outputs": [],
   "source": "from PIL import Image\n\nMonImage=Image.open(\"paysage_small.png\")\n\nprint(\"Taille de mon image en nombre de pixels (largeur, hauteur):\",MonImage.size) # --> À modifier"
  },
  {
   "cell_type": "raw",
   "metadata": {},
   "source": "Noter ici:"
  },
  {
   "cell_type": "markdown",
   "metadata": {},
   "source": "3) Dans le code suivant, l'instruction `Monimage.getpixel(x,y)` vous permet de récupérer la valeur RVB d'un pixel situé à la position (x,y). Attention, à la différence de turtle, la coordonnée (0;0) est en haut à gauche. Dans l'exemple suivant, vous trouvez un point rose en (4;6), les croisements du quadrillage montre la position d'un pixel.\n\n<div><img alt=\"grille pixel\" src=\"https://github.com/College-Sismondi-Informatique/exercices-1in/blob/main/Notebooks/imgs_chap1/grille_pixel.png?raw=true\" style=\"width:400px\"/></div>\n\nAprès avoir exécuté le code, essayer de déterminer sur quelle partie de l'image se trouve ce pixel. Vous pouvez décoder la couleur à l'aide de ce site: https://www.w3schools.com/colors/colors_rgb.asp"
  },
  {
   "cell_type": "code",
   "execution_count": null,
   "metadata": {
    "trusted": true
   },
   "outputs": [],
   "source": "from PIL import Image\n\nMonImage=Image.open(\"paysage_small.png\")\n\n\nprint(\"Valeur RGB:\", MonImage.getpixel((17,265)))"
  },
  {
   "cell_type": "raw",
   "metadata": {},
   "source": "Votre réponse: "
  },
  {
   "cell_type": "markdown",
   "metadata": {},
   "source": "3) Il s'agit maintenant de dessiner un carré blanc de 10x10 pixels dans le lac. À vous de trouver les coordonnées des différents pixels pour y parvenir ainsi que la valeur RVB pour obtenir du blanc.\n\nL'instruction `MonImage.putpixel((X,Y),(R,V,B))` vous permet de modifier un pixel de l'image.\n- X : position X du pixel\n- Y : position Y du pixel\n- R : valeur décimale entre 0 et 255 de la composante rouge\n- V : valeur décimale entre 0 et 255 de la composante verte\n- B : valeur décimale entre 0 et 255 de la composante bleue\n\nExemple dessine un point rose à la position (4;6): `MonImage.putpixel((100,50),(255,150,255))`\n\nL'instruction `MonImage.show()`, affichera l'image modifiée"
  },
  {
   "cell_type": "code",
   "execution_count": null,
   "metadata": {
    "trusted": true
   },
   "outputs": [],
   "source": "from PIL import Image\n\nMonImage=Image.open(\"paysage_small.png\")\n\nMonImage.putpixel((X,Y),(R,V,B)) # ==> Remplacer X, Y, R, V, B par des valeurs décimales.\n####### À COMPLÉTER\n\nMonImage.show() #On affiche l'image contenue dans la variable MonImage"
  },
  {
   "cell_type": "markdown",
   "metadata": {},
   "source": "## 1.10 Résumé de quelques fonctions de dessin turtle \n\nLa documentation officielle: https://docs.python.org/fr/3/library/turtle.html#module-turtle\n\nQuelques fonctions de Turtle avec des exemples:\n\n| Fonction |Exemple|Commentaire|\n|:-------- |:------|:----------|\n|`forward(x)`|`forward(150)`|Trace un trait de 150 points|\n|`backward(x)`|`backward(150)`|Trace un trait “à reculons” de 150 points|\n|`left(n)`|`left(60)`|Tourne sur place la tortue de 60° à gauche|\n|`right(n)`|`right(60)`|Tourne sur place la tortue de 60° à droite|\n|`width(x)`|`width(5)`|Change l’épaisseur à 5 points|\n|`penup()`|`penup()`|Lève la tortue (permet de se déplacer sans dessiner)|\n|`pendown()`|`pendown()`|Baisse le stylo|\n|`goto(x,y)`|`goto(100,0)`|Déplace le stylo sur l'axe de x à 100 et 0 en y.|\n|`seth(angle)`|`seth(0)`|Tourne le stylo à 0 degré (= position de départ)|\n|`speed(v)`|`speed(0)`| Dessine très rapidement|\n|`hideturtle()`|`hideturtle()`| Cache le stylo (la tortue)|\n| **Arc de cercle, cercle et point**|\n|`dot(r)`| `dot(50)`|dessine un point de rayon `r`|\n|`circle(r)`| `circle(150)`|dessine un cercle de rayon `r`, vers la gauche|\n|`circle(-r)`| `circle(-150)`| dessine un cercle de rayon `r`, vers la droite|\n|`circle(r, a)`| `circle(150, 90)`|dessine un arc de cercle de rayon `r` avec un angle `a`|\n| **Couleur et remplissage (coloriage)**|\n|`color(c)`| `color(\"orange\")`|pour changer la couleur du trait\n|`fillcolor(c)`|`fillcolor(\"yellow\")`| pour changer la couleur de remplissage\n|`begin_fill()`| `begin_fill()`| avant de commencer une forme qu'on voudra remplir\n|`end_fill()`| `end_fill()`| après avoir fini une forme qu'on veut remplir\n"
  },
  {
   "cell_type": "markdown",
   "metadata": {},
   "source": "## Exercices complémentaires\n<h3 style=\"color:teal;background-color:azure;\" > <i class=\"fa fa-pencil\" aria-hidden=\"true\"> </i> &nbsp; Exercice 10</h3>\n\nPac-Man est un jeu vidéo créé par l’entreprise japonaise Namco, sorti au Japon en 1980. Le jeu consiste à déplacer Pac-Man, un personnage qui ressemble à un diagramme circulaire à l’intérieur d’un labyrinthe, afin de lui faire manger toutes les pac-gommes qui s’y trouvent en évitant d’être touchées par des fantômes.\n\n\nAjoutez l'œil de Pac-Man, et les points qu'il mange.\n"
  },
  {
   "cell_type": "code",
   "execution_count": null,
   "metadata": {
    "trusted": true
   },
   "outputs": [],
   "source": "from turtle import *\n\nfillcolor('yellow')\nbegin_fill()\nleft(30)\nforward(100)\nleft(90)\ncircle(100, 300)\nleft(90)\nforward(100)\nend_fill()\n\ndone()\n"
  },
  {
   "cell_type": "markdown",
   "metadata": {},
   "source": "<h3 style=\"color:teal;background-color:azure;\" > <i class=\"fa fa-pencil\" aria-hidden=\"true\"> </i> &nbsp; Exercice 11 </h3>\n\nColoriez le cœur en rouge, ajoutez une flèche."
  },
  {
   "cell_type": "code",
   "execution_count": null,
   "metadata": {
    "trusted": true
   },
   "outputs": [],
   "source": "from turtle import *\nr = 50\n\nleft(90)\ncircle(r, 225)\nforward(2.4*r)\nleft(90)\nforward(2.4*r)\ncircle(r, 225)\n\ndone()\n"
  },
  {
   "cell_type": "markdown",
   "metadata": {},
   "source": "### Infini — ∞\nLe mot **infini** (du latin in-, préfixe négatif, et finitus, *limité*) est un adjectif servant à qualifier quelque chose qui n'a pas de limite en nombre ou en taille. L'infini est représenté par le symbole ∞. Nous allons le dessiner.\n\n<h3 style=\"color:teal;background-color:azure;\" > <i class=\"fa fa-pencil\" aria-hidden=\"true\"> </i> &nbsp; Exercice 12 </h3> Compléter le dessin du symbole infini.\n\n"
  },
  {
   "cell_type": "code",
   "execution_count": null,
   "metadata": {
    "trusted": true
   },
   "outputs": [],
   "source": "from turtle import *\n\nright(45)\nforward(50)\ncircle(50, 270) \n\ndone()"
  },
  {
   "cell_type": "markdown",
   "metadata": {},
   "source": "<h3 style=\"color:teal;background-color:azure;\" > <i class=\"fa fa-pencil\" aria-hidden=\"true\"> </i> &nbsp; Exercice 13 </h3>\n\nDessiner les deux cercles suivants d'épaisseur 5 en choississant 2 couleurs pour le premier cercle et 4 couleurs pour le deuxième:\n\n![Image de deux cercles de couleurs](https://github.com/College-Sismondi-Informatique/exercices-1in/blob/main/Notebooks/imgs_chap1/two_circle_color_python.png?raw=true)\n"
  },
  {
   "cell_type": "code",
   "execution_count": null,
   "metadata": {
    "trusted": true
   },
   "outputs": [],
   "source": "from turtle import *\n\n# à compléter\n\ndone()"
  },
  {
   "cell_type": "markdown",
   "metadata": {},
   "source": "<h3 style=\"color:teal;background-color:azure;\" > <i class=\"fa fa-pencil\" aria-hidden=\"true\"> </i> &nbsp; Exercice 14 </h3>\nÉcrire un programme qui dessine une voiture de couleur bleue avec des roues noires plus épaisse.\n\n<div><img alt=\"image de voiture\" src=\"https://github.com/College-Sismondi-Informatique/exercices-1in/blob/main/Notebooks/imgs_chap1/car_python.png?raw=true\" style=\"width:400px\"/></div>"
  },
  {
   "cell_type": "code",
   "execution_count": null,
   "metadata": {
    "trusted": true
   },
   "outputs": [],
   "source": "from turtle import *\n\n# à compléter\n\ndone()"
  },
  {
   "cell_type": "markdown",
   "metadata": {},
   "source": "En option (pour les plus avancé): Modifier le programme précédent pour arrondir les angles de la voiture.\n\n<div><img alt=\"image de voiture\" src=\"https://github.com/College-Sismondi-Informatique/exercices-1in/blob/main/Notebooks/imgs_chap1/car_python_arrondi.png?raw=true\" style=\"width:400px\"/></div>"
  },
  {
   "cell_type": "code",
   "execution_count": null,
   "metadata": {
    "trusted": true
   },
   "outputs": [],
   "source": ""
  },
  {
   "cell_type": "markdown",
   "metadata": {},
   "source": "<h3 style=\"color:teal;background-color:azure;\" > <i class=\"fa fa-pencil\" aria-hidden=\"true\"> </i> &nbsp; Exercice 15 </h3>\nÉcrire un programme qui dessine un poisson de couleur, avec une queue et un oeil.\n\n"
  },
  {
   "cell_type": "code",
   "execution_count": null,
   "metadata": {
    "scrolled": true,
    "trusted": true
   },
   "outputs": [],
   "source": "from turtle import *\n\nhideturtle()\nspeed(0)\n\ncolor(\"red\")  # la robe est rouge\ndot(1)\ndone()"
  },
  {
   "cell_type": "markdown",
   "metadata": {},
   "source": "---\n\n#### Remarque générale\n\nCe document est une adaptation d'un ressource pédagogique tiré du catalogue modulo https://modulo-info.ch/. Il est sous license Creative Commons [BY-NC-SA](https://creativecommons.org/licenses/?lang=fr)\n![Licence Creative Commons](https://i.creativecommons.org/l/by-nc-sa/4.0/88x31.png)"
  }
 ],
 "metadata": {
  "kernelspec": {
   "display_name": "Python 3 (ipykernel)",
   "language": "python",
   "name": "python3"
  }
 },
 "nbformat": 4,
 "nbformat_minor": 2
}
