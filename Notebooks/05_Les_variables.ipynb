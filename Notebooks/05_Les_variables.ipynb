{
 "cells": [
  {
   "cell_type": "markdown",
   "metadata": {},
   "source": "<div class=\"alert alert-danger\" style=\"border-left:5px solid #a94442;border-radius: 5px;\">\n    \n- **veillez à bien sauvegarder votre travail** dans le bon dossier du disque réseau (dossier document) avec le bon nom (et l'extension *.ipynb*), **sinon toutes les modifications seront perdues!**\n    \n- Pour reprendre votre travail, il suffit d'ouvrir le fichier .ipynb en cliquant sur *Fichier ouvrir*\n\n- **Ce notebook doit être ouvert avec Basthon. Si en haut à droite vous voyez le symbole de Jupyter alors allez sur [Basthon](https://notebook.basthon.fr) pour ouvrir ce notbook.**\n\n\n</div>\n\n\n\n\n# 5. Les variables\n\nDans cette leçon, nous allons étudier le concept de variables. Dans la leçon 4 sur les fonctions avec paramètres, nous avons vu qui'il était possible de paramètrer les fonctions afin que leur comportement varient. Ces paramètres permettent d'indiquer, par exemple, que\n\n- qu'une fonction `rect(d, e)` trace un rectangle où les paramètres `d, e` donnent les dimensions du rectangle.\n- qu'une fonction `maison(c)` dessine une maison où `c` permet de spécifier la couleur du rectangle.\n\n## Qu'est-ce qu'une variable ?\n\nEn programmation, une variable est un espace réservé en mémoire pour stocker des valeurs qui peuvent être utilisées et modifiées dans vos programmes. Pensez-y comme une boîte avec un nom que vous pouvez utiliser pour stocker et récupérer des informations."
  },
  {
   "cell_type": "markdown",
   "metadata": {},
   "source": "<h3 style=\"color:chocolate;background-color:papayawhip;\" > <i class=\"fa fa-question\" aria-hidden=\"true\"> </i> &nbsp; Quizz </h3> \n\n```\nQu'est-ce qu'une variable en Python ?\n\nA) Un type de données\nB) Un opérateur de mathématiques\nC) Un espace réservé pour stocker des valeurs\nD) Une fonction\n```"
  },
  {
   "cell_type": "raw",
   "metadata": {},
   "source": "Ma réponse: "
  },
  {
   "cell_type": "markdown",
   "metadata": {},
   "source": "<details>\n<summary style=\"border-left:3px solid #3c763d; border-radius:2pt; width:100%; color:#3c763d; padding:6px; background-color: #dff0d8\"> \nSolution\n</summary>  \n\n<div style=\"border-left:3px solid #3c763d; border-radius:2pt; color:#3c763d; padding:6px; background-color: #eff0e8\">\nC) Un espace réservé pour stocker des valeurs\n</div>\n</details>"
  },
  {
   "cell_type": "markdown",
   "metadata": {},
   "source": "## Règles de Nommage\n1. Le nom d'une variable doit commencer par une lettre ou un underscore (_).\n2. Le nom ne peut pas commencer par un chiffre.\n3. Le nom peut contenir uniquement des lettres, des chiffres et des underscores.\n4. Les noms de variables sont sensibles à la casse (age, Age et AGE sont différents).\n\n<h3 style=\"color:chocolate;background-color:papayawhip;\" > <i class=\"fa fa-question\" aria-hidden=\"true\"> </i> &nbsp; Quizz </h3> \n \n```\nQuel nom de variable est invalide en Python ?\n\nA) nom\nB) _var3\nC) 3variable\nD) variableNom\n```"
  },
  {
   "cell_type": "raw",
   "metadata": {},
   "source": "Ma réponse: "
  },
  {
   "cell_type": "markdown",
   "metadata": {},
   "source": "<details>\n<summary style=\"border-left:3px solid #3c763d; border-radius:2pt; width:100%; color:#3c763d; padding:6px; background-color: #dff0d8\"> \nSolution\n</summary>  \n\n<div style=\"border-left:3px solid #3c763d; border-radius:2pt; color:#3c763d; padding:6px; background-color: #eff0e8\">\nB) _var3    et    C) 3variable\n</div>\n</details>"
  },
  {
   "cell_type": "markdown",
   "metadata": {},
   "source": "## Création et Affectation de Variables\n\nPour créer une variable en Python, il vous suffit de choisir un nom et de lui affecter une valeur à l'aide du signe égal `=`.\n\n```python\n# Exemple de création de variables\nage = 17\nnom = \"Alice\"\npi = 3.14159\n```\n\n## Exemples d'utilisation de variables\n\n### Exemple 1 : Faire des calculs\nLes variables permettent de stocker des données et de les faire évoluer. Lorsque les variables contiennent des données numériques, il est possible de faire des caculs en tutilisant les opérateurs `+`, `-`, `*`, `/` et `**`ainis que `%` et `//` si ce sont des valeurs entières. Par exemple, si on teste le programme suivant"
  },
  {
   "cell_type": "code",
   "execution_count": null,
   "metadata": {
    "trusted": true
   },
   "outputs": [],
   "source": "r = 2\npi = 3.14159\nA = pi*r**2\nprint(\"L'aire d'un disque de rayon \",r,\" vaut \", A)"
  },
  {
   "cell_type": "markdown",
   "metadata": {},
   "source": "On obtient un programme qui affiche l'aire d'un disque de rayon 2.\n\n### Exemple 2 : Apporter des variation à des répétitions\n\nOn peut modifier une variable à chaque itération d'une boucle `for`. On peut, par exemple, utiliser une variable pour afficher une table de mutiliplication. Vérifier que le programme suivant affiche bien la table de multiplication de 7:"
  },
  {
   "cell_type": "code",
   "execution_count": null,
   "metadata": {
    "scrolled": true,
    "trusted": true
   },
   "outputs": [],
   "source": "n = 1\nfor _ in range(10):\n    print(n, \" x 7 =\", n*7)\n    n = n + 1"
  },
  {
   "cell_type": "markdown",
   "metadata": {},
   "source": "Pour ajouter 1 à la variable `n`, on écrit `n = n + 1` qui consiste à remplacer la valeur de `n` par son ancienne valeur plus 1.\n\nOn peut utiliser un procéder similaire pour tracer une spirales, comme le fait le programme suivant:"
  },
  {
   "cell_type": "code",
   "execution_count": null,
   "metadata": {
    "trusted": true
   },
   "outputs": [],
   "source": "from turtle import *\n\ndef triangle(l):\n    for _ in range(3):\n        forward(l)\n        left(120)\n        \nx = 20\nfor _ in range(4):\n    triangle(x)\n    forward(x + 10)\n    x = x + 20\n    \ndone()"
  },
  {
   "cell_type": "markdown",
   "metadata": {},
   "source": "\n\n### Exemple 3 : Utiliser avec une fonction avec paramètre. \n\nOn peut utiliser la valeur d'une variable comme argument d'une fonction. Le programme suivant va permettre de dessiner des triangles de plus en plus grands:"
  },
  {
   "cell_type": "code",
   "execution_count": null,
   "metadata": {
    "trusted": true
   },
   "outputs": [],
   "source": "from turtle import *\n        \nx = 20\nfor _ in range(30):\n    forward(x)\n    left(90)\n    x = x + 10\n    \ndone()"
  },
  {
   "cell_type": "markdown",
   "metadata": {},
   "source": "## Exercices\n\n<h3 style=\"color:teal;background-color:azure;\" > <i class=\"fa fa-pencil\" aria-hidden=\"true\"> </i> &nbsp; Exercice 1 </h3>\n\nTransformez le i vers un i avec trema (deux points).\n"
  },
  {
   "cell_type": "code",
   "execution_count": null,
   "metadata": {
    "trusted": true
   },
   "outputs": [],
   "source": ""
  }
 ],
 "metadata": {
  "kernelspec": {
   "display_name": "Python 3",
   "language": "python",
   "name": "python3"
  }
 },
 "nbformat": 4,
 "nbformat_minor": 2
}
