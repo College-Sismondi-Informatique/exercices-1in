{
 "cells": [
  {
   "cell_type": "markdown",
   "id": "0-4a42e0",
   "metadata": {},
   "source": [
    "<div style=\"padding:20px;background-color:papayawhip;\" > \n",
    "<h3 style=\"color:chocolate\"> <i class=\"fa fa-info\" aria-hidden=\"true\"> </i> &nbsp; Remarque introductive &nbsp;  <i class=\"fa fa-info\" aria-hidden=\"true\"></h3> \n",
    "<p> Ce fichier est fait pour être lu sur le site <a href=\"https://notebook.basthon.fr/\"><img src='https://notebook.basthon.fr/assets/efede5218c9087496f16.png' style=\"border: 0; display:inline; margin: 0 5px; height:30px\" alt=\"Basthon\"/></a>. <br>\n",
    "    \n",
    "Si vous l'avez ouvert avec un autre programme, comme Jupyter notebook, vous riquez de rencontrer quelques bugs. <br>\n",
    "Veuillez cliquez sur <a href=\"https://notebook.basthon.fr/\">ce lien</a> et y charger ce fichier à l'aide du bouton \"Ouvrir\"  &nbsp; <i class=\"fa fa-folder\" aria-hidden=\"true\"> </i>\n",
    "</p> </div>    "
   ]
  },
  {
   "cell_type": "markdown",
   "id": "1-70fc26",
   "metadata": {},
   "source": [
    "# Positionner - `goto(x, y)`\n",
    "\n",
    "La fonction `goto(x, y)` permet de positionner la tortue à une position `(x, y)`.\n",
    "\n",
    "Nous allons voir que :\n",
    "\n",
    "- la fonction `pos()` retourne la position actuelle de la tortue,\n",
    "- la fonction `goto(x, y)` positionne la tortue à la position `(x, y)`,\n",
    "- les fonctions `xcor()` et `ycor()` retournent la coordonnée x ou y,\n",
    "- les fonctions `setx(x)` et `sety(y)` affectent la coordonnée x ou y.\n",
    "\n"
   ]
  },
  {
   "cell_type": "markdown",
   "id": "2-0a8910",
   "metadata": {},
   "source": [
    "<h3 style=\"color:chocolate;background-color:papayawhip;\" > <i class=\"fa fa-question\" aria-hidden=\"true\"> </i> &nbsp; Quizz </h3> \n",
    " \n",
    "```\n",
    "La fonction `pos()` du module `turtle`\n",
    "\n",
    "A) positionne la tortue\n",
    "B) retourne la coordonnée x\n",
    "C) retourne un tuple de coordonnées\n",
    "D) vérifie si une valeur est positive\n",
    "```"
   ]
  },
  {
   "cell_type": "raw",
   "id": "3-770ee9",
   "metadata": {},
   "source": [
    "Ma réponse : "
   ]
  },
  {
   "cell_type": "markdown",
   "id": "4-8ceb6b",
   "metadata": {},
   "source": [
    "<details>\n",
    "<summary style=\"border-left:3px solid #3c763d; border-radius:2pt; width:100%; color:#3c763d; padding:6px; background-color: #dff0d8\"> \n",
    "Réponse\n",
    "</summary>  \n",
    "\n",
    "<div style=\"border-left:3px solid #3c763d; border-radius:2pt; color:#3c763d; padding:6px; background-color: #eff0e8\">C) retourne un tuple de coordonnées\n",
    "</div>\n",
    "</details>\n",
    "                \n"
   ]
  },
  {
   "cell_type": "markdown",
   "id": "5-483b4d",
   "metadata": {},
   "source": [
    "## La position `pos()`\n",
    "\n",
    "La fonction `pos()` retourne la position actuelle de la tortue, sous forme d'un tuple `(x, y)`. Dans le dessin de l'escalier, la fonction `write(pos())` affiche les coordonnées de chaque marche, marquée par un point noir.\n",
    "\n"
   ]
  },
  {
   "cell_type": "markdown",
   "id": "6-8c73cb",
   "metadata": {},
   "source": [
    "<h3 style=\"color:teal;background-color:azure;\" > <i class=\"fa fa-pencil\" aria-hidden=\"true\"> </i> &nbsp; Exercice 1 </h3>Affichez un point (dot) et les coordonnées de chaque point d'inflexion de l'escalier.\n",
    "\n"
   ]
  },
  {
   "cell_type": "code",
   "execution_count": null,
   "id": "7-1c8c7e",
   "metadata": {},
   "outputs": [],
   "source": [
    "from turtle import *\n",
    "\n",
    "for i in range(4):\n",
    "    dot()\n",
    "    write(pos())    # affiche la position (x, y)\n",
    "    forward(50)\n",
    "    left(90)\n",
    "    forward(30)\n",
    "    right(90)\n",
    "\n",
    "forward(80)\n",
    "\n",
    "done()\n"
   ]
  },
  {
   "cell_type": "markdown",
   "id": "8-29148b",
   "metadata": {},
   "source": [
    "## Valeur `xcor()` et `ycor()`\n",
    "\n",
    "Les deux fonctions `xcor()` et `ycor()` retournent que la partie x ou y des coordonnées. Dans le dessin de l'escalier, la fonction `write(xcor())` affiche la coordonnée x, et la fonction `write(ycor())` affiche la coordonnée y de chaque marche.\n",
    "\n"
   ]
  },
  {
   "cell_type": "markdown",
   "id": "9-5f3485",
   "metadata": {},
   "source": [
    "<h3 style=\"color:teal;background-color:azure;\" > <i class=\"fa fa-pencil\" aria-hidden=\"true\"> </i> &nbsp; Exercice 2 </h3>Transformez l'escalier en un escalier qui descend.\n",
    "\n"
   ]
  },
  {
   "cell_type": "code",
   "execution_count": null,
   "id": "10-916197",
   "metadata": {},
   "outputs": [],
   "source": [
    "from turtle import *\n",
    "\n",
    "for i in range(4):\n",
    "    forward(50)\n",
    "    left(90)\n",
    "    dot()\n",
    "    write(xcor())   # affiche la coordonnée x\n",
    "    forward(30)\n",
    "    right(90)\n",
    "    dot()\n",
    "    write(ycor())   # affiche la coordonnée y\n",
    "\n",
    "forward(80)\n",
    "\n",
    "done()\n"
   ]
  },
  {
   "cell_type": "markdown",
   "id": "11-f57320",
   "metadata": {},
   "source": [
    "## Positionner avec `goto()`\n",
    "\n",
    "La fonction `goto(x, y)` positionne la tortue à la position `(x, y)`. Les coordonnées de la position de l’origine de chaque triangle sont affichées.\n",
    "\n"
   ]
  },
  {
   "cell_type": "code",
   "execution_count": null,
   "id": "12-17a2eb",
   "metadata": {},
   "outputs": [],
   "source": [
    "from turtle import *\n",
    "\n",
    "def triangle():\n",
    "    down()\n",
    "    write(pos())\n",
    "    for i in range(3):\n",
    "        forward(100)\n",
    "        left(120)\n",
    "    up()\n",
    "\n",
    "triangle()      # position à (0, 0)\n",
    "goto(150, 50)\n",
    "triangle()      # position à (150, 50)\n",
    "goto(-200, 80)\n",
    "triangle()      # position à (-200, 80)\n",
    "\n",
    "done()\n"
   ]
  },
  {
   "cell_type": "markdown",
   "id": "13-318ff3",
   "metadata": {},
   "source": [
    "## Dessiner un polygone\n",
    "\n",
    "Avec la fonction `goto(x, y)` nous pouvons facilement dessiner une ligne polygonale.\n",
    "\n"
   ]
  },
  {
   "cell_type": "code",
   "execution_count": null,
   "id": "14-56c71d",
   "metadata": {},
   "outputs": [],
   "source": [
    "from turtle import *\n",
    "\n",
    "goto(0, 0)\n",
    "goto(200, 0)\n",
    "goto(200, 100)\n",
    "goto(100, 150)\n",
    "goto(0, 100)\n",
    "goto(0, 0)\n",
    "\n",
    "done()\n"
   ]
  },
  {
   "cell_type": "markdown",
   "id": "15-c8e484",
   "metadata": {},
   "source": [
    "La fonction `goto()` accepte deux coordonnées x, y séparés sous la forme `goto(x, y)` ou alternativement un seul argument sous forme de tuple `goto(p)`.\n",
    "\n"
   ]
  },
  {
   "cell_type": "code",
   "execution_count": null,
   "id": "16-f59b92",
   "metadata": {},
   "outputs": [],
   "source": [
    "from turtle import *\n",
    "\n",
    "goto(0, 0)\n",
    "goto(200, 0)\n",
    "goto(200, 100)\n",
    "\n",
    "p = (100, 150)\n",
    "q = (0, 100)\n",
    "r = (0, 0)\n",
    "\n",
    "goto(p)\n",
    "goto(q)\n",
    "goto(r)\n",
    "\n",
    "done()\n"
   ]
  },
  {
   "cell_type": "markdown",
   "id": "17-b23da8",
   "metadata": {},
   "source": [
    "Mais une façon beaucoup plus compacte et flexible, c'est de représenter un polygone avec un tuple de points. Ensuite nous dessinons cette forme géométrique avec une boucle à l'aide de la fonction `goto(p)`.\n",
    "\n"
   ]
  },
  {
   "cell_type": "markdown",
   "id": "18-522811",
   "metadata": {},
   "source": [
    "<h3 style=\"color:teal;background-color:azure;\" > <i class=\"fa fa-pencil\" aria-hidden=\"true\"> </i> &nbsp; Exercice 3 </h3>Ajoutez 4 points supplémentaires dans le tuple du polygone pour insérer une porte de taille 50x30.\n",
    "\n"
   ]
  },
  {
   "cell_type": "code",
   "execution_count": null,
   "id": "19-5f3012",
   "metadata": {},
   "outputs": [],
   "source": [
    "from turtle import *\n",
    "\n",
    "points = ((0, 0), (200, 0), (200, 100), (100, 150), (0, 100), (0, 0))\n",
    "\n",
    "for p in points:\n",
    "    goto(p)\n",
    "    write(p)    # affiche la position (x, y)\n",
    "\n",
    "done()\n"
   ]
  },
  {
   "cell_type": "markdown",
   "id": "20-106662",
   "metadata": {},
   "source": [
    "## Relier les points\n",
    "\n",
    "Relier les points est un casse-tête en deux dimensions qui comprend une suite de points numérotés à relier.\n",
    "\n"
   ]
  },
  {
   "cell_type": "markdown",
   "id": "21-e0f13b",
   "metadata": {},
   "source": [
    "![dots](https://raw.githubusercontent.com/edunumsec2/book/master/src/appr/prog1/media/dots.png)\n",
    "\n",
    "Le programme suivant numérote les points du polygone.\n",
    "\n"
   ]
  },
  {
   "cell_type": "markdown",
   "id": "22-f29686",
   "metadata": {},
   "source": [
    "<h3 style=\"color:teal;background-color:azure;\" > <i class=\"fa fa-pencil\" aria-hidden=\"true\"> </i> &nbsp; Exercice 4 </h3>Ajoutez encore la porte à la maison, mais dessinez que les points avec un numéro, sans dessiner les lignes, comme dans le jeu relier les points.\n",
    "\n"
   ]
  },
  {
   "cell_type": "code",
   "execution_count": null,
   "id": "23-e503d2",
   "metadata": {},
   "outputs": [],
   "source": [
    "from turtle import *\n",
    "\n",
    "points = ((0, 0), (200, 0), (200, 100), (100, 150), (0, 100), (0, 0))\n",
    "\n",
    "i = 0\n",
    "for p in points:\n",
    "    goto(p)\n",
    "    write(i)\n",
    "    i = i + 1\n",
    "\n",
    "done()\n"
   ]
  },
  {
   "cell_type": "markdown",
   "id": "24-822d58",
   "metadata": {},
   "source": [
    "## Déplacer un polygone\n",
    "\n",
    "Avec le polygone représenté par un tuple de ses coordonnées, il est facile de le déplacer et redessiner le polygone ailleurs.\n",
    "\n"
   ]
  },
  {
   "cell_type": "markdown",
   "id": "25-fd9f71",
   "metadata": {},
   "source": [
    "<h3 style=\"color:teal;background-color:azure;\" > <i class=\"fa fa-pencil\" aria-hidden=\"true\"> </i> &nbsp; Exercice 5 </h3>Déplacez la maison vers une position où elle n'est plus superposée à la première maison.\n",
    "\n"
   ]
  },
  {
   "cell_type": "code",
   "execution_count": null,
   "id": "26-ae964b",
   "metadata": {},
   "outputs": [],
   "source": [
    "from turtle import *\n",
    "\n",
    "points = ((0, 0), (200, 0), (200, 100), (100, 150), (0, 100), (0, 0))\n",
    "\n",
    "for p in points:\n",
    "    goto(p)\n",
    "    write(p)\n",
    "\n",
    "color('red')\n",
    "for p in points:\n",
    "    q = p[0] - 150, p[1] - 50\n",
    "    goto(q)\n",
    "    write(q)\n",
    "\n",
    "done()\n"
   ]
  },
  {
   "cell_type": "markdown",
   "id": "27-5fb233",
   "metadata": {},
   "source": [
    "## Changer l'échelle\n",
    "\n",
    "Avec le polygone représenté par un tuple de ses coordonnées, il est facile de le déplacer et redessiner le polygone ailleurs avec un changement d'échelle.\n",
    "\n"
   ]
  },
  {
   "cell_type": "markdown",
   "id": "28-67f9b7",
   "metadata": {},
   "source": [
    "<h3 style=\"color:teal;background-color:azure;\" > <i class=\"fa fa-pencil\" aria-hidden=\"true\"> </i> &nbsp; Exercice 6 </h3>Ajoutez une troisième maison encore plus petite.\n",
    "\n"
   ]
  },
  {
   "cell_type": "code",
   "execution_count": null,
   "id": "29-75c74f",
   "metadata": {},
   "outputs": [],
   "source": [
    "from turtle import *\n",
    "\n",
    "points = ((0, 0), (200, 0), (200, 100), (100, 150), (0, 100), (0, 0))\n",
    "\n",
    "for p in points:\n",
    "    goto(p)\n",
    "    write(p)\n",
    "\n",
    "color('red')\n",
    "for p in points:\n",
    "    q = 0.7 * p[0] - 200, 0.7 * p[1] - 100\n",
    "    goto(q)\n",
    "    write(q)\n",
    "\n",
    "done()\n"
   ]
  },
  {
   "cell_type": "markdown",
   "id": "30-300a93",
   "metadata": {},
   "source": [
    "## Images miroirs\n",
    "\n",
    "Dans le jeu de Tetris, nous pouvons définir les formes sous forme d'un tuple qui dessine un petit polygone. Multiplier les coordonnées par une variable `a` permet de changer de taille. Changer le signe d'une ou des deux coordonnées permet de trouver l'image miroir.\n",
    "\n"
   ]
  },
  {
   "cell_type": "markdown",
   "id": "31-6710c5",
   "metadata": {},
   "source": [
    "<h3 style=\"color:teal;background-color:azure;\" > <i class=\"fa fa-pencil\" aria-hidden=\"true\"> </i> &nbsp; Exercice 7 </h3>Ajoutez l'image miroir manquante.\n",
    "\n"
   ]
  },
  {
   "cell_type": "code",
   "execution_count": null,
   "id": "32-3019a1",
   "metadata": {},
   "outputs": [],
   "source": [
    "from turtle import *\n",
    "\n",
    "a = 40\n",
    "L = ((0, 0), (2, 0), (2, 1), (1, 1), (1, 3), (0, 3), (0, 0))\n",
    "\n",
    "for p in L:\n",
    "    q = a * p[0], a * p[1]\n",
    "    goto(q)\n",
    "    write(p)\n",
    "\n",
    "for p in L:\n",
    "    q = a * p[0], -a * p[1]\n",
    "    goto(q)\n",
    "\n",
    "for p in L:\n",
    "    q = -a * p[0], -a * p[1]\n",
    "    goto(q)\n",
    "\n",
    "done()\n"
   ]
  },
  {
   "cell_type": "markdown",
   "id": "33-6f6744",
   "metadata": {},
   "source": [
    "## Direction `heading()`\n",
    "\n",
    "La fonction `heading()` renvoie la direction actuelle de la tortue.\n",
    "La fonction `write(heading())` affiche la direction actuelle de la tortue à chaque extrémité.\n",
    "\n"
   ]
  },
  {
   "cell_type": "code",
   "execution_count": null,
   "id": "34-701e89",
   "metadata": {},
   "outputs": [],
   "source": [
    "from turtle import *\n",
    "\n",
    "a = 100\n",
    "n = 18\n",
    "\n",
    "for i in range(n):\n",
    "    forward(100)\n",
    "    write(heading())\n",
    "    backward(100)\n",
    "    left(360/n)\n",
    "\n",
    "done()\n"
   ]
  },
  {
   "cell_type": "markdown",
   "id": "35-4e1969",
   "metadata": {},
   "source": [
    "La direction (heading) des 8 segments d'un octogone.\n",
    "\n"
   ]
  },
  {
   "cell_type": "code",
   "execution_count": null,
   "id": "36-bb3bfc",
   "metadata": {},
   "outputs": [],
   "source": [
    "from turtle import *\n",
    "\n",
    "n = 8\n",
    "for i in range(n):\n",
    "    write(heading())\n",
    "    forward(70)\n",
    "    left(360/n)\n",
    "\n",
    "done()\n"
   ]
  },
  {
   "cell_type": "markdown",
   "id": "37-07d109",
   "metadata": {},
   "source": [
    "## Orienter avec `seth(a)`\n",
    "\n",
    "La fonction opposée à `heading()` est `setheading(a)` ou sa version courte `seth(a)` qui permet d'orienter la tortue dans une direction particulière.\n",
    "\n",
    "Ceci est pratique pour dessiner les pièces dans une direction spécifique.\n",
    "Par exemple dans le Tetris, les figures peuvent avoir 4 orientations différentes.\n",
    "\n"
   ]
  },
  {
   "cell_type": "markdown",
   "id": "38-a78e8c",
   "metadata": {},
   "source": [
    "<h3 style=\"color:teal;background-color:azure;\" > <i class=\"fa fa-pencil\" aria-hidden=\"true\"> </i> &nbsp; Exercice 8 </h3>Ajoutez deux autres L avec une position et orientation appropriée pour créer un remplissage compact.\n",
    "\n"
   ]
  },
  {
   "cell_type": "code",
   "execution_count": null,
   "id": "39-8310d4",
   "metadata": {},
   "outputs": [],
   "source": [
    "from turtle import *\n",
    "a = 20\n",
    "\n",
    "def L():\n",
    "    down()\n",
    "    for angle in (0, 90, 90, -90, 0, 90, 90, 0, 0, 90):\n",
    "        forward(a)\n",
    "        left(angle)\n",
    "    up()\n",
    "\n",
    "L()\n",
    "goto(3*a, -a)\n",
    "seth(90)\n",
    "L()\n",
    "\n",
    "done()\n"
   ]
  },
  {
   "cell_type": "markdown",
   "id": "40-4d7c64",
   "metadata": {},
   "source": [
    "## Tangram\n",
    "\n",
    "Le tangram, « sept planches de la ruse », ou jeu des sept pièces, est une sorte de puzzle chinois. C'est une dissection du carré en sept pièces élémentaires. Des dissections plus générales, de formes différentes, sont également appelées tangrams.\n",
    "\n"
   ]
  },
  {
   "cell_type": "markdown",
   "id": "41-9335ff",
   "metadata": {},
   "source": [
    "![tangram](https://raw.githubusercontent.com/edunumsec2/book/master/src/appr/prog1/media/tangram0.png)\n",
    "\n"
   ]
  },
  {
   "cell_type": "markdown",
   "id": "42-85f6c7",
   "metadata": {},
   "source": [
    "<h3 style=\"color:teal;background-color:azure;\" > <i class=\"fa fa-pencil\" aria-hidden=\"true\"> </i> &nbsp; Exercice 9 </h3>Utilisez les fonctions `goto(x, y)` et `setheading(a)` pour ajouter encore deux triangles et former un carré.\n",
    "\n"
   ]
  },
  {
   "cell_type": "code",
   "execution_count": null,
   "id": "43-bcb9a6",
   "metadata": {},
   "outputs": [],
   "source": [
    "from turtle import *\n",
    "a = 50\n",
    "\n",
    "def triangle():\n",
    "    p = pos()\n",
    "    forward(2*a)\n",
    "    left(90)\n",
    "    forward(2*a)\n",
    "    goto(p)\n",
    "\n",
    "seth(45)\n",
    "triangle()\n",
    "goto(0, 2.82*a)\n",
    "seth(-45)\n",
    "triangle()\n",
    "\n",
    "done()\n"
   ]
  },
  {
   "cell_type": "markdown",
   "id": "44-5d9f19",
   "metadata": {},
   "source": [
    "## Ligne polygonale\n",
    "\n",
    "La fonction `polyline(points, p=(0, 0), size=(1, 1), w=1, pen='black', fill='white')` dessine une ligne polygonale définie par un tuple de points. Les arguments sont:\n",
    "\n",
    "- `points` -- tuple de positions (x, y)\n",
    "- `p` -- position de déplacement\n",
    "- `size` -- facteur d'échelle\n",
    "\n"
   ]
  },
  {
   "cell_type": "code",
   "execution_count": null,
   "id": "45-7dc7b3",
   "metadata": {},
   "outputs": [],
   "source": [
    "from turtle import *\n",
    "\n",
    "def polyline(points, p0=(0, 0), size=(1, 1), w=1, pen='black', fill='white'):\n",
    "    width(w)\n",
    "    pencolor(pen)\n",
    "    fillcolor(fill)\n",
    "    goto(p0)\n",
    "    begin_fill()\n",
    "    for p in points:\n",
    "        goto(p0[0]+p[0]*size[0], p0[1]+p[1]*size[1], )\n",
    "        down()\n",
    "    end_fill()\n",
    "    up()\n",
    "\n",
    "house = ((0, 0), (10, 0), (10, 15), (20, 15), (20, 0),\n",
    "            (50, 0), (50, 25), (25, 50), (0, 25), (0, 0))\n",
    "\n",
    "up()\n",
    "polyline(house)\n",
    "polyline(house, p=(-150, -50), fill='pink')\n",
    "polyline(house, (90, -60), size=(2, 2), w=3)\n",
    "polyline(house, (90, -80), size=(2, -1.5))\n",
    "\n",
    "done()\n"
   ]
  },
  {
   "cell_type": "markdown",
   "id": "46-7453b7",
   "metadata": {},
   "source": [
    "## Exercice\n",
    "\n"
   ]
  },
  {
   "cell_type": "markdown",
   "id": "47-9b8c84",
   "metadata": {},
   "source": [
    "### Tangram\n",
    "\n",
    "Choisissez un animal et recréez la figure.\n",
    "\n"
   ]
  },
  {
   "cell_type": "markdown",
   "id": "48-f31d31",
   "metadata": {},
   "source": [
    "![tangram](https://raw.githubusercontent.com/edunumsec2/book/master/src/appr/prog1/media/tangram1.jpg)\n",
    "\n"
   ]
  },
  {
   "cell_type": "code",
   "execution_count": null,
   "id": "49-b93af3",
   "metadata": {},
   "outputs": [],
   "source": [
    "from turtle import *\n",
    "a = 50\n",
    "\n",
    "def triangle():\n",
    "    p = pos()\n",
    "    begin_fill()\n",
    "    forward(2*a)\n",
    "    left(90)\n",
    "    forward(2*a)\n",
    "    goto(p)\n",
    "    end_fill()\n",
    "\n",
    "seth(90)\n",
    "color('red')\n",
    "triangle()\n",
    "\n",
    "done()\n"
   ]
  },
  {
   "cell_type": "markdown",
   "id": "50-1ccbcc",
   "metadata": {},
   "source": [
    "### Tangram 2\n",
    "\n",
    "Choisissez un animal et recréez la figure.\n",
    "\n"
   ]
  },
  {
   "cell_type": "markdown",
   "id": "51-c2bc43",
   "metadata": {},
   "source": [
    "![tangram](https://raw.githubusercontent.com/edunumsec2/book/master/src/appr/prog1/media/tangram2.jpg)\n",
    "\n"
   ]
  },
  {
   "cell_type": "code",
   "execution_count": null,
   "id": "52-2de919",
   "metadata": {},
   "outputs": [],
   "source": [
    "from turtle import *\n",
    "a = 50\n",
    "\n",
    "from turtle import *\n",
    "a = 50\n",
    "\n",
    "def triangle():\n",
    "    p = pos()\n",
    "    begin_fill()\n",
    "    forward(2*a)\n",
    "    left(90)\n",
    "    forward(2*a)\n",
    "    goto(p)\n",
    "    end_fill()\n",
    "\n",
    "seth(180)\n",
    "color('orange')\n",
    "triangle()\n",
    "\n",
    "done()\n"
   ]
  },
  {
   "cell_type": "markdown",
   "id": "53-2ade01",
   "metadata": {},
   "source": [
    "### Musée d'art et d'histoire\n",
    "\n",
    "Le [Musée d'art et d'histoire de Genève](http://institutions.ville-geneve.ch/fr/mah/) a mandaté le studio de graphisme zurichois [Hubertus Design](https://hubertus-design.ch) pour renouveler son identité visuelle. Ce logo à la ligne graphique dynamique, sobre et contemporaine symbolise dorénavant la marque MAH.\n",
    "\n"
   ]
  },
  {
   "cell_type": "code",
   "execution_count": null,
   "id": "54-33c36a",
   "metadata": {},
   "outputs": [],
   "source": [
    "from turtle import *\n",
    "dot(1000, 'yellow')\n",
    "\n",
    "M = (0, 0), (2, 3), (4, 0), (6, 3), (8, 0), (8, 8), (2, 5), (6, 5), (0, 8), (0, 0)\n",
    "A = (0, 0), (6, 3), (2, 3), (8, 0), (4, 8), (0, 0)\n",
    "H = (0, 0), (6, 3), (2, 3), (8, 0), (8, 8), (2, 5), (6, 5), (0, 8), (0, 0)\n",
    "\n",
    "d = 20\n",
    "def lettre(L):\n",
    "    x0, y0 = pos()\n",
    "    for x, y in L:\n",
    "        goto(x0 + x * d, y0 + y * d)\n",
    "        down()\n",
    "    up()\n",
    "\n",
    "up()\n",
    "goto(-12*d, -4*d)\n",
    "for c in (M, A, H):\n",
    "    lettre(c)\n",
    "    forward(8*d)\n",
    "\n",
    "goto(-8*d, -10)\n",
    "for s in ('MUSÉE', \"D'ART\", \"D'HISTOIRE\"):\n",
    "    write(s, align='center', font=('Arial', 16))\n",
    "    forward(8*d)\n",
    "\n",
    "done()\n"
   ]
  },
  {
   "cell_type": "markdown",
   "id": "55-3fd876",
   "metadata": {},
   "source": [
    "Créez 3 autres lettres dans le même style pour un autre musée dans une autre ville. Changez texte et couleur.\n"
   ]
  },
  {
   "cell_type": "markdown",
   "id": "56-cebd46",
   "metadata": {},
   "source": [
    "---\n",
    "\n",
    "#### Remarque générale\n",
    "\n",
    "Ce document est une adaptation d'un ressource pédagogique tiré du catalogue modulo https://modulo-info.ch/. Il est sous license Creative Commons [BY-NC-SA](https://creativecommons.org/licenses/?lang=fr)\n",
    "![Licence Creative Commons](https://i.creativecommons.org/l/by-nc-sa/4.0/88x31.png)\n",
    "\n",
    "    "
   ]
  }
 ],
 "metadata": {
  "kernelspec": {
   "display_name": "Python 3 (ipykernel)",
   "language": "python",
   "name": "python3"
  },
  "language_info": {
   "codemirror_mode": {
    "name": "ipython",
    "version": 3
   },
   "file_extension": ".py",
   "mimetype": "text/x-python",
   "name": "python",
   "nbconvert_exporter": "python",
   "pygments_lexer": "ipython3",
   "version": "3.10.12"
  }
 },
 "nbformat": 4,
 "nbformat_minor": 5
}
