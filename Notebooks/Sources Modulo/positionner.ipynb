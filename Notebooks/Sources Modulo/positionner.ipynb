{
 "cells": [
  {
   "cell_type": "markdown",
   "id": "ad835679",
   "metadata": {},
   "source": [
    "# Positionner - `goto(x, y)`\n",
    "\n",
    "La fonction `goto(x, y)` permet de positionner la tortue à une position `(x, y)`.\n",
    "\n",
    "Nous allons voir que :\n",
    "\n",
    "- la fonction `pos()` retourne la position actuelle de la tortue,\n",
    "- la fonction `goto(x, y)` positionne la tortue à la position `(x, y)`,\n",
    "- les fonctions `xcor()` et `ycor()` retournent la coordonnée x ou y,\n",
    "- les fonctions `setx(x)` et `sety(y)` affectent la coordonnée x ou y.\n",
    "\n"
   ]
  },
  {
   "cell_type": "markdown",
   "id": "9a61e439",
   "metadata": {},
   "source": [
    "<h3 style=\"color:chocolate;background-color:papayawhip;\" > <i class=\"fa fa-question\" aria-hidden=\"true\"> </i> &nbsp; Quizz </h3> \n",
    " \n",
    "```\n",
    "La fonction `pos()` du module `turtle`\n",
    "\n",
    "A) positionne la tortue\n",
    "B) retourne la coordonnée x\n",
    "C) retourne un tuple de coordonnées\n",
    "D) vérifie si une valeur est positive\n",
    "```"
   ]
  },
  {
   "cell_type": "raw",
   "id": "1e834ca5",
   "metadata": {},
   "source": [
    "Réponse : \n"
   ]
  },
  {
   "cell_type": "markdown",
   "id": "1589ea66",
   "metadata": {},
   "source": [
    "## La position `pos()`\n",
    "\n",
    "La fonction `pos()` retourne la position actuelle de la tortue, sous forme d'un tuple `(x, y)`. Dans le dessin de l'escalier, la fonction `write(pos())` affiche les coordonnées de chaque marche, marquée par un point noir.\n",
    "\n"
   ]
  },
  {
   "cell_type": "markdown",
   "id": "195bac88",
   "metadata": {},
   "source": [
    "<h3 style=\"color:teal;background-color:azure;\" > <i class=\"fa fa-pencil\" aria-hidden=\"true\"> </i> &nbsp; Exercice 1 </h3>Affichez un point (dot) et les coordonnées de chaque point d'inflexion de l'escalier.\n",
    "\n"
   ]
  },
  {
   "cell_type": "code",
   "execution_count": null,
   "id": "d86cc863",
   "metadata": {},
   "outputs": [],
   "source": [
    "from turtle import *\n",
    "\n",
    "for i in range(4):\n",
    "    dot()\n",
    "    write(pos())    # affiche la position (x, y)\n",
    "    forward(50)\n",
    "    left(90)\n",
    "    forward(30)\n",
    "    right(90)\n",
    "\n",
    "forward(80)\n",
    "\n",
    "done()\n"
   ]
  },
  {
   "cell_type": "markdown",
   "id": "1bf5b365",
   "metadata": {},
   "source": [
    "## Valeur `xcor()` et `ycor()`\n",
    "\n",
    "Les deux fonctions `xcor()` et `ycor()` retournent que la partie x ou y des coordonnées. Dans le dessin de l'escalier, la fonction `write(xcor())` affiche la coordonnée x, et la fonction `write(ycor())` affiche la coordonnée y de chaque marche.\n",
    "\n"
   ]
  },
  {
   "cell_type": "markdown",
   "id": "9c088dec",
   "metadata": {},
   "source": [
    "<h3 style=\"color:teal;background-color:azure;\" > <i class=\"fa fa-pencil\" aria-hidden=\"true\"> </i> &nbsp; Exercice 2 </h3>Transformez l'escalier en un escalier qui descend.\n",
    "\n"
   ]
  },
  {
   "cell_type": "code",
   "execution_count": null,
   "id": "c7446a5d",
   "metadata": {},
   "outputs": [],
   "source": [
    "from turtle import *\n",
    "\n",
    "for i in range(4):\n",
    "    forward(50)\n",
    "    left(90)\n",
    "    dot()\n",
    "    write(xcor())   # affiche la coordonnée x\n",
    "    forward(30)\n",
    "    right(90)\n",
    "    dot()\n",
    "    write(ycor())   # affiche la coordonnée y\n",
    "\n",
    "forward(80)\n",
    "\n",
    "done()\n"
   ]
  },
  {
   "cell_type": "markdown",
   "id": "352f3008",
   "metadata": {},
   "source": [
    "## Positionner avec `goto()`\n",
    "\n",
    "La fonction `goto(x, y)` positionne la tortue à la position `(x, y)`. Les coordonnées de la position de l’origine de chaque triangle sont affichées.\n",
    "\n"
   ]
  },
  {
   "cell_type": "code",
   "execution_count": null,
   "id": "2615451e",
   "metadata": {},
   "outputs": [],
   "source": [
    "from turtle import *\n",
    "\n",
    "def triangle():\n",
    "    down()\n",
    "    write(pos())\n",
    "    for i in range(3):\n",
    "        forward(100)\n",
    "        left(120)\n",
    "    up()\n",
    "\n",
    "triangle()      # position à (0, 0)\n",
    "goto(150, 50)\n",
    "triangle()      # position à (150, 50)\n",
    "goto(-200, 80)\n",
    "triangle()      # position à (-200, 80)\n",
    "\n",
    "done()\n"
   ]
  },
  {
   "cell_type": "markdown",
   "id": "6a61cb6a",
   "metadata": {},
   "source": [
    "## Dessiner un polygone\n",
    "\n",
    "Avec la fonction `goto(x, y)` nous pouvons facilement dessiner une ligne polygonale.\n",
    "\n"
   ]
  },
  {
   "cell_type": "code",
   "execution_count": null,
   "id": "f463e2d9",
   "metadata": {},
   "outputs": [],
   "source": [
    "from turtle import *\n",
    "\n",
    "goto(0, 0)\n",
    "goto(200, 0)\n",
    "goto(200, 100)\n",
    "goto(100, 150)\n",
    "goto(0, 100)\n",
    "goto(0, 0)\n",
    "\n",
    "done()\n"
   ]
  },
  {
   "cell_type": "markdown",
   "id": "5da18f5a",
   "metadata": {},
   "source": [
    "La fonction `goto()` accepte deux coordonnées x, y séparés sous la forme `goto(x, y)` ou alternativement un seul argument sous forme de tuple `goto(p)`.\n",
    "\n"
   ]
  },
  {
   "cell_type": "code",
   "execution_count": null,
   "id": "6ce03671",
   "metadata": {},
   "outputs": [],
   "source": [
    "from turtle import *\n",
    "\n",
    "goto(0, 0)\n",
    "goto(200, 0)\n",
    "goto(200, 100)\n",
    "\n",
    "p = (100, 150)\n",
    "q = (0, 100)\n",
    "r = (0, 0)\n",
    "\n",
    "goto(p)\n",
    "goto(q)\n",
    "goto(r)\n",
    "\n",
    "done()\n"
   ]
  },
  {
   "cell_type": "markdown",
   "id": "d26cd478",
   "metadata": {},
   "source": [
    "Mais une façon beaucoup plus compacte et flexible, c'est de représenter un polygone avec un tuple de points. Ensuite nous dessinons cette forme géométrique avec une boucle à l'aide de la fonction `goto(p)`.\n",
    "\n"
   ]
  },
  {
   "cell_type": "markdown",
   "id": "ba94d9cc",
   "metadata": {},
   "source": [
    "<h3 style=\"color:teal;background-color:azure;\" > <i class=\"fa fa-pencil\" aria-hidden=\"true\"> </i> &nbsp; Exercice 3 </h3>Ajoutez 4 points supplémentaires dans le tuple du polygone pour insérer une porte de taille 50x30.\n",
    "\n"
   ]
  },
  {
   "cell_type": "code",
   "execution_count": null,
   "id": "deabff7f",
   "metadata": {},
   "outputs": [],
   "source": [
    "from turtle import *\n",
    "\n",
    "points = ((0, 0), (200, 0), (200, 100), (100, 150), (0, 100), (0, 0))\n",
    "\n",
    "for p in points:\n",
    "    goto(p)\n",
    "    write(p)    # affiche la position (x, y)\n",
    "\n",
    "done()\n"
   ]
  },
  {
   "cell_type": "markdown",
   "id": "1b739cc4",
   "metadata": {},
   "source": [
    "## Relier les points\n",
    "\n",
    "Relier les points est un casse-tête en deux dimensions qui comprend une suite de points numérotés à relier.\n",
    "\n"
   ]
  },
  {
   "cell_type": "markdown",
   "id": "7367106b",
   "metadata": {},
   "source": [
    "![dots](https://raw.githubusercontent.com/edunumsec2/book/master/src/appr/prog1/media/dots.png)\n",
    "\n",
    "Le programme suivant numérote les points du polygone.\n",
    "\n"
   ]
  },
  {
   "cell_type": "markdown",
   "id": "22855333",
   "metadata": {},
   "source": [
    "<h3 style=\"color:teal;background-color:azure;\" > <i class=\"fa fa-pencil\" aria-hidden=\"true\"> </i> &nbsp; Exercice 4 </h3>Ajoutez encore la porte à la maison, mais dessinez que les points avec un numéro, sans dessiner les lignes, comme dans le jeu relier les points.\n",
    "\n"
   ]
  },
  {
   "cell_type": "code",
   "execution_count": null,
   "id": "3d8a625a",
   "metadata": {},
   "outputs": [],
   "source": [
    "from turtle import *\n",
    "\n",
    "points = ((0, 0), (200, 0), (200, 100), (100, 150), (0, 100), (0, 0))\n",
    "\n",
    "i = 0\n",
    "for p in points:\n",
    "    goto(p)\n",
    "    write(i)\n",
    "    i = i + 1\n",
    "\n",
    "done()\n"
   ]
  },
  {
   "cell_type": "markdown",
   "id": "3daa273c",
   "metadata": {},
   "source": [
    "## Déplacer un polygone\n",
    "\n",
    "Avec le polygone représenté par un tuple de ses coordonnées, il est facile de le déplacer et redessiner le polygone ailleurs.\n",
    "\n"
   ]
  },
  {
   "cell_type": "markdown",
   "id": "2bb778cd",
   "metadata": {},
   "source": [
    "<h3 style=\"color:teal;background-color:azure;\" > <i class=\"fa fa-pencil\" aria-hidden=\"true\"> </i> &nbsp; Exercice 5 </h3>Déplacez la maison vers une position où elle n'est plus superposée à la première maison.\n",
    "\n"
   ]
  },
  {
   "cell_type": "code",
   "execution_count": null,
   "id": "6d4c28e2",
   "metadata": {},
   "outputs": [],
   "source": [
    "from turtle import *\n",
    "\n",
    "points = ((0, 0), (200, 0), (200, 100), (100, 150), (0, 100), (0, 0))\n",
    "\n",
    "for p in points:\n",
    "    goto(p)\n",
    "    write(p)\n",
    "\n",
    "color('red')\n",
    "for p in points:\n",
    "    q = p[0] - 150, p[1] - 50\n",
    "    goto(q)\n",
    "    write(q)\n",
    "\n",
    "done()\n"
   ]
  },
  {
   "cell_type": "markdown",
   "id": "f4ba562d",
   "metadata": {},
   "source": [
    "## Changer l'échelle\n",
    "\n",
    "Avec le polygone représenté par un tuple de ses coordonnées, il est facile de le déplacer et redessiner le polygone ailleurs avec un changement d'échelle.\n",
    "\n"
   ]
  },
  {
   "cell_type": "markdown",
   "id": "de73b116",
   "metadata": {},
   "source": [
    "<h3 style=\"color:teal;background-color:azure;\" > <i class=\"fa fa-pencil\" aria-hidden=\"true\"> </i> &nbsp; Exercice 6 </h3>Ajoutez une troisième maison encore plus petite.\n",
    "\n"
   ]
  },
  {
   "cell_type": "code",
   "execution_count": null,
   "id": "ca6ceb82",
   "metadata": {},
   "outputs": [],
   "source": [
    "from turtle import *\n",
    "\n",
    "points = ((0, 0), (200, 0), (200, 100), (100, 150), (0, 100), (0, 0))\n",
    "\n",
    "for p in points:\n",
    "    goto(p)\n",
    "    write(p)\n",
    "\n",
    "color('red')\n",
    "for p in points:\n",
    "    q = 0.7 * p[0] - 200, 0.7 * p[1] - 100\n",
    "    goto(q)\n",
    "    write(q)\n",
    "\n",
    "done()\n"
   ]
  },
  {
   "cell_type": "markdown",
   "id": "80881f7d",
   "metadata": {},
   "source": [
    "## Images miroirs\n",
    "\n",
    "Dans le jeu de Tetris, nous pouvons définir les formes sous forme d'un tuple qui dessine un petit polygone. Multiplier les coordonnées par une variable `a` permet de changer de taille. Changer le signe d'une ou des deux coordonnées permet de trouver l'image miroir.\n",
    "\n"
   ]
  },
  {
   "cell_type": "markdown",
   "id": "0dbecd5c",
   "metadata": {},
   "source": [
    "<h3 style=\"color:teal;background-color:azure;\" > <i class=\"fa fa-pencil\" aria-hidden=\"true\"> </i> &nbsp; Exercice 7 </h3>Ajoutez l'image miroir manquante.\n",
    "\n"
   ]
  },
  {
   "cell_type": "code",
   "execution_count": null,
   "id": "b372daac",
   "metadata": {},
   "outputs": [],
   "source": [
    "from turtle import *\n",
    "\n",
    "a = 40\n",
    "L = ((0, 0), (2, 0), (2, 1), (1, 1), (1, 3), (0, 3), (0, 0))\n",
    "\n",
    "for p in L:\n",
    "    q = a * p[0], a * p[1]\n",
    "    goto(q)\n",
    "    write(p)\n",
    "\n",
    "for p in L:\n",
    "    q = a * p[0], -a * p[1]\n",
    "    goto(q)\n",
    "\n",
    "for p in L:\n",
    "    q = -a * p[0], -a * p[1]\n",
    "    goto(q)\n",
    "\n",
    "done()\n"
   ]
  },
  {
   "cell_type": "markdown",
   "id": "b22b40b9",
   "metadata": {},
   "source": [
    "## Direction `heading()`\n",
    "\n",
    "La fonction `heading()` renvoie la direction actuelle de la tortue.\n",
    "La fonction `write(heading())` affiche la direction actuelle de la tortue à chaque extrémité.\n",
    "\n"
   ]
  },
  {
   "cell_type": "code",
   "execution_count": null,
   "id": "607e34ad",
   "metadata": {},
   "outputs": [],
   "source": [
    "from turtle import *\n",
    "\n",
    "a = 100\n",
    "n = 18\n",
    "\n",
    "for i in range(n):\n",
    "    forward(100)\n",
    "    write(heading())\n",
    "    backward(100)\n",
    "    left(360/n)\n",
    "\n",
    "done()\n"
   ]
  },
  {
   "cell_type": "markdown",
   "id": "3bc8fa65",
   "metadata": {},
   "source": [
    "La direction (heading) des 8 segments d'un octogone.\n",
    "\n"
   ]
  },
  {
   "cell_type": "code",
   "execution_count": null,
   "id": "db0197bb",
   "metadata": {},
   "outputs": [],
   "source": [
    "from turtle import *\n",
    "\n",
    "n = 8\n",
    "for i in range(n):\n",
    "    write(heading())\n",
    "    forward(70)\n",
    "    left(360/n)\n",
    "\n",
    "done()\n"
   ]
  },
  {
   "cell_type": "markdown",
   "id": "35f5d5b4",
   "metadata": {},
   "source": [
    "## Orienter avec `seth(a)`\n",
    "\n",
    "La fonction opposée à `heading()` est `setheading(a)` ou sa version courte `seth(a)` qui permet d'orienter la tortue dans une direction particulière.\n",
    "\n",
    "Ceci est pratique pour dessiner les pièces dans une direction spécifique.\n",
    "Par exemple dans le Tetris, les figures peuvent avoir 4 orientations différentes.\n",
    "\n"
   ]
  },
  {
   "cell_type": "markdown",
   "id": "b20aa1c1",
   "metadata": {},
   "source": [
    "<h3 style=\"color:teal;background-color:azure;\" > <i class=\"fa fa-pencil\" aria-hidden=\"true\"> </i> &nbsp; Exercice 8 </h3>Ajoutez deux autres L avec une position et orientation appropriée pour créer un remplissage compact.\n",
    "\n"
   ]
  },
  {
   "cell_type": "code",
   "execution_count": null,
   "id": "e92ae42d",
   "metadata": {},
   "outputs": [],
   "source": [
    "from turtle import *\n",
    "a = 20\n",
    "\n",
    "def L():\n",
    "    down()\n",
    "    for angle in (0, 90, 90, -90, 0, 90, 90, 0, 0, 90):\n",
    "        forward(a)\n",
    "        left(angle)\n",
    "    up()\n",
    "\n",
    "L()\n",
    "goto(3*a, -a)\n",
    "seth(90)\n",
    "L()\n",
    "\n",
    "done()\n"
   ]
  },
  {
   "cell_type": "markdown",
   "id": "79cb0902",
   "metadata": {},
   "source": [
    "## Tangram\n",
    "\n",
    "Le tangram, « sept planches de la ruse », ou jeu des sept pièces, est une sorte de puzzle chinois. C'est une dissection du carré en sept pièces élémentaires. Des dissections plus générales, de formes différentes, sont également appelées tangrams.\n",
    "\n"
   ]
  },
  {
   "cell_type": "markdown",
   "id": "3791c789",
   "metadata": {},
   "source": [
    "![tangram](https://raw.githubusercontent.com/edunumsec2/book/master/src/appr/prog1/media/tangram0.png)\n",
    "\n"
   ]
  },
  {
   "cell_type": "markdown",
   "id": "385e50ab",
   "metadata": {},
   "source": [
    "<h3 style=\"color:teal;background-color:azure;\" > <i class=\"fa fa-pencil\" aria-hidden=\"true\"> </i> &nbsp; Exercice 9 </h3>Utilisez les fonctions `goto(x, y)` et `setheading(a)` pour ajouter encore deux triangles et former un carré.\n",
    "\n"
   ]
  },
  {
   "cell_type": "code",
   "execution_count": null,
   "id": "e66fc6c3",
   "metadata": {},
   "outputs": [],
   "source": [
    "from turtle import *\n",
    "a = 50\n",
    "\n",
    "def triangle():\n",
    "    p = pos()\n",
    "    forward(2*a)\n",
    "    left(90)\n",
    "    forward(2*a)\n",
    "    goto(p)\n",
    "\n",
    "seth(45)\n",
    "triangle()\n",
    "goto(0, 2.82*a)\n",
    "seth(-45)\n",
    "triangle()\n",
    "\n",
    "done()\n"
   ]
  },
  {
   "cell_type": "markdown",
   "id": "6f0ca18f",
   "metadata": {},
   "source": [
    "## Ligne polygonale\n",
    "\n",
    "La fonction `polyline(points, p=(0, 0), size=(1, 1), w=1, pen='black', fill='white')` dessine une ligne polygonale définie par un tuple de points. Les arguments sont:\n",
    "\n",
    "- `points` -- tuple de positions (x, y)\n",
    "- `p` -- position de déplacement\n",
    "- `size` -- facteur d'échelle\n",
    "\n"
   ]
  },
  {
   "cell_type": "code",
   "execution_count": null,
   "id": "6661e3c8",
   "metadata": {},
   "outputs": [],
   "source": [
    "from turtle import *\n",
    "\n",
    "def polyline(points, p0=(0, 0), size=(1, 1), w=1, pen='black', fill='white'):\n",
    "    width(w)\n",
    "    pencolor(pen)\n",
    "    fillcolor(fill)\n",
    "    goto(p0)\n",
    "    begin_fill()\n",
    "    for p in points:\n",
    "        goto(p0[0]+p[0]*size[0], p0[1]+p[1]*size[1], )\n",
    "        down()\n",
    "    end_fill()\n",
    "    up()\n",
    "\n",
    "house = ((0, 0), (10, 0), (10, 15), (20, 15), (20, 0),\n",
    "            (50, 0), (50, 25), (25, 50), (0, 25), (0, 0))\n",
    "\n",
    "up()\n",
    "polyline(house)\n",
    "polyline(house, p=(-150, -50), fill='pink')\n",
    "polyline(house, (90, -60), size=(2, 2), w=3)\n",
    "polyline(house, (90, -80), size=(2, -1.5))\n",
    "\n",
    "done()\n"
   ]
  },
  {
   "cell_type": "markdown",
   "id": "167a1527",
   "metadata": {},
   "source": [
    "## Exercice\n",
    "\n"
   ]
  },
  {
   "cell_type": "markdown",
   "id": "9992e8cb",
   "metadata": {},
   "source": [
    "### Tangram\n",
    "\n",
    "Choisissez un animal et recréez la figure.\n",
    "\n"
   ]
  },
  {
   "cell_type": "markdown",
   "id": "8fb38ee5",
   "metadata": {},
   "source": [
    "![tangram](https://raw.githubusercontent.com/edunumsec2/book/master/src/appr/prog1/media/tangram1.jpg)\n",
    "\n"
   ]
  },
  {
   "cell_type": "code",
   "execution_count": null,
   "id": "bcf29850",
   "metadata": {},
   "outputs": [],
   "source": [
    "from turtle import *\n",
    "a = 50\n",
    "\n",
    "def triangle():\n",
    "    p = pos()\n",
    "    begin_fill()\n",
    "    forward(2*a)\n",
    "    left(90)\n",
    "    forward(2*a)\n",
    "    goto(p)\n",
    "    end_fill()\n",
    "\n",
    "seth(90)\n",
    "color('red')\n",
    "triangle()\n",
    "\n",
    "done()\n"
   ]
  },
  {
   "cell_type": "markdown",
   "id": "8b2bc151",
   "metadata": {},
   "source": [
    "### Tangram 2\n",
    "\n",
    "Choisissez un animal et recréez la figure.\n",
    "\n"
   ]
  },
  {
   "cell_type": "markdown",
   "id": "0ad4a248",
   "metadata": {},
   "source": [
    "![tangram](https://raw.githubusercontent.com/edunumsec2/book/master/src/appr/prog1/media/tangram2.jpg)\n",
    "\n"
   ]
  },
  {
   "cell_type": "code",
   "execution_count": null,
   "id": "35d7217f",
   "metadata": {},
   "outputs": [],
   "source": [
    "from turtle import *\n",
    "a = 50\n",
    "\n",
    "from turtle import *\n",
    "a = 50\n",
    "\n",
    "def triangle():\n",
    "    p = pos()\n",
    "    begin_fill()\n",
    "    forward(2*a)\n",
    "    left(90)\n",
    "    forward(2*a)\n",
    "    goto(p)\n",
    "    end_fill()\n",
    "\n",
    "seth(180)\n",
    "color('orange')\n",
    "triangle()\n",
    "\n",
    "done()\n"
   ]
  },
  {
   "cell_type": "markdown",
   "id": "edb74a82",
   "metadata": {},
   "source": [
    "### Musée d'art et d'histoire\n",
    "\n",
    "Le [Musée d'art et d'histoire de Genève](http://institutions.ville-geneve.ch/fr/mah/) a mandaté le studio de graphisme zurichois [Hubertus Design](https://hubertus-design.ch) pour renouveler son identité visuelle. Ce logo à la ligne graphique dynamique, sobre et contemporaine symbolise dorénavant la marque MAH.\n",
    "\n"
   ]
  },
  {
   "cell_type": "code",
   "execution_count": null,
   "id": "47da9db1",
   "metadata": {},
   "outputs": [],
   "source": [
    "from turtle import *\n",
    "dot(1000, 'yellow')\n",
    "\n",
    "M = (0, 0), (2, 3), (4, 0), (6, 3), (8, 0), (8, 8), (2, 5), (6, 5), (0, 8), (0, 0)\n",
    "A = (0, 0), (6, 3), (2, 3), (8, 0), (4, 8), (0, 0)\n",
    "H = (0, 0), (6, 3), (2, 3), (8, 0), (8, 8), (2, 5), (6, 5), (0, 8), (0, 0)\n",
    "\n",
    "d = 20\n",
    "def lettre(L):\n",
    "    x0, y0 = pos()\n",
    "    for x, y in L:\n",
    "        goto(x0 + x * d, y0 + y * d)\n",
    "        down()\n",
    "    up()\n",
    "\n",
    "up()\n",
    "goto(-12*d, -4*d)\n",
    "for c in (M, A, H):\n",
    "    lettre(c)\n",
    "    forward(8*d)\n",
    "\n",
    "goto(-8*d, -10)\n",
    "for s in ('MUSÉE', \"D'ART\", \"D'HISTOIRE\"):\n",
    "    write(s, align='center', font=('Arial', 16))\n",
    "    forward(8*d)\n",
    "\n",
    "done()\n"
   ]
  },
  {
   "cell_type": "markdown",
   "id": "7d10668d",
   "metadata": {},
   "source": [
    "Créez 3 autres lettres dans le même style pour un autre musée dans une autre ville. Changez texte et couleur.\n"
   ]
  },
  {
   "cell_type": "markdown",
   "id": "e64a8a1d",
   "metadata": {},
   "source": [
    "---\n",
    "\n",
    "#### Remarque générale\n",
    "\n",
    "Ce document est une adaptation d'un ressource pédagogique tiré du catalogue modulo https://modulo-info.ch/. Il est sous license Creative Commons [BY-NC-SA](https://creativecommons.org/licenses/?lang=fr)\n",
    "![Licence Creative Commons](https://i.creativecommons.org/l/by-nc-sa/4.0/88x31.png)\n",
    "\n",
    "    "
   ]
  }
 ],
 "metadata": {
  "kernelspec": {
   "display_name": "Python 3 (ipykernel)",
   "language": "python",
   "name": "python3"
  },
  "language_info": {
   "codemirror_mode": {
    "name": "ipython",
    "version": 3
   },
   "file_extension": ".py",
   "mimetype": "text/x-python",
   "name": "python",
   "nbconvert_exporter": "python",
   "pygments_lexer": "ipython3",
   "version": "3.10.12"
  }
 },
 "nbformat": 4,
 "nbformat_minor": 5
}
