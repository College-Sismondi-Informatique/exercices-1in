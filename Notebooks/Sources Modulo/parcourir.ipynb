{
 "cells": [
  {
   "cell_type": "markdown",
   "id": "0-4a42e0",
   "metadata": {},
   "source": [
    "<div style=\"padding:20px;background-color:papayawhip;\" > \n",
    "<h3 style=\"color:chocolate\"> <i class=\"fa fa-info\" aria-hidden=\"true\"> </i> &nbsp; Remarque introductive &nbsp;  <i class=\"fa fa-info\" aria-hidden=\"true\"></h3> \n",
    "<p> Ce fichier est fait pour être lu sur le site <a href=\"https://notebook.basthon.fr/\"><img src='https://notebook.basthon.fr/assets/efede5218c9087496f16.png' style=\"border: 0; display:inline; margin: 0 5px; height:30px\" alt=\"Basthon\"/></a>. <br>\n",
    "    \n",
    "Si vous l'avez ouvert avec un autre programme, comme Jupyter notebook, vous riquez de rencontrer quelques bugs. <br>\n",
    "Veuillez cliquez sur <a href=\"https://notebook.basthon.fr/\">ce lien</a> et y charger ce fichier à l'aide du bouton \"Ouvrir\"  &nbsp; <i class=\"fa fa-folder\" aria-hidden=\"true\"> </i>\n",
    "</p> </div>    "
   ]
  },
  {
   "cell_type": "markdown",
   "id": "1-be341b",
   "metadata": {},
   "source": [
    "# Parcourir - `tuple`\n",
    "\n",
    "Dans ce chapitre, nous allons découvrir le concept très important de la séquence. Ce concept s'appelle `tuple` en langage Python ou **n-uplet** en français. Un tuple est une séquence d'objets, par exemple de couleurs, de distances ou d'angles. Nous pouvons parcourir les valeurs d'un tuple une après l'autre avec une boucle `for`. Nous allons voir que :\n",
    "\n",
    "- le tuple `(10, 20, 30)` représente une séquence de valeurs,\n",
    "- dans la boucle `for d in (10, 20, 30):` la variable `d` parcourt des nombres,\n",
    "- dans la boucle `for c in ('red', 'blue', 'green'):` la variable `c` parcourt des couleurs.\n",
    "\n"
   ]
  },
  {
   "cell_type": "markdown",
   "id": "2-a822d5",
   "metadata": {},
   "source": [
    "<h3 style=\"color:chocolate;background-color:papayawhip;\" > <i class=\"fa fa-question\" aria-hidden=\"true\"> </i> &nbsp; Quizz </h3> \n",
    " \n",
    "```\n",
    "En informatique, un `tuple` est\n",
    "\n",
    "A) une séquence d'objets\n",
    "B) une liste numérique\n",
    "C) un ensemble mathématique\n",
    "D) une chaîne de caractères\n",
    "```"
   ]
  },
  {
   "cell_type": "raw",
   "id": "3-770ee9",
   "metadata": {},
   "source": [
    "Ma réponse : "
   ]
  },
  {
   "cell_type": "markdown",
   "id": "4-737388",
   "metadata": {},
   "source": [
    "<details>\n",
    "<summary style=\"border-left:3px solid #3c763d; border-radius:2pt; width:100%; color:#3c763d; padding:6px; background-color: #dff0d8\"> \n",
    "Réponse\n",
    "</summary>  \n",
    "\n",
    "<div style=\"border-left:3px solid #3c763d; border-radius:2pt; color:#3c763d; padding:6px; background-color: #eff0e8\">A) une séquence d'objets\n",
    "</div>\n",
    "</details>\n",
    "                \n",
    "Auparavant nous avons vu la boucle `for` comme une simple répétition. Dans ce chapitre la boucle `for` est différente dans le sens que nous parcourons une séquence et nous utilisons une valeur différente pour chaque tour. En Python, cette idée de *parcourir une séquence* et d'utiliser une *valeur successive* à chaque tour, est un concept fondamental.\n",
    "\n"
   ]
  },
  {
   "cell_type": "markdown",
   "id": "5-984bc1",
   "metadata": {},
   "source": [
    "## Variable d'itération\n",
    "\n",
    "Dans des boucles d'itération, nous allons utiliser des variables d'une seule lettre.\n",
    "\n",
    "- `a` pour un angle\n",
    "- `c` pour une couleur\n",
    "- `d` pour une distance\n",
    "- `i` pour un indice (entier)\n",
    "- `r` pour un rayon\n",
    "\n"
   ]
  },
  {
   "cell_type": "markdown",
   "id": "6-20ea08",
   "metadata": {},
   "source": [
    "<h3 style=\"color:chocolate;background-color:papayawhip;\" > <i class=\"fa fa-question\" aria-hidden=\"true\"> </i> &nbsp; Quizz </h3> \n",
    " \n",
    "```\n",
    "La variable `i` désigne normalement\n",
    "\n",
    "A) une longueur\n",
    "B) un caractère\n",
    "C) un entier\n",
    "D) une coordonnée\n",
    "```"
   ]
  },
  {
   "cell_type": "raw",
   "id": "7-770ee9",
   "metadata": {},
   "source": [
    "Ma réponse : "
   ]
  },
  {
   "cell_type": "markdown",
   "id": "8-1abe1e",
   "metadata": {},
   "source": [
    "<details>\n",
    "<summary style=\"border-left:3px solid #3c763d; border-radius:2pt; width:100%; color:#3c763d; padding:6px; background-color: #dff0d8\"> \n",
    "Réponse\n",
    "</summary>  \n",
    "\n",
    "<div style=\"border-left:3px solid #3c763d; border-radius:2pt; color:#3c763d; padding:6px; background-color: #eff0e8\">C) un entier\n",
    "</div>\n",
    "</details>\n",
    "                \n"
   ]
  },
  {
   "cell_type": "markdown",
   "id": "9-10954a",
   "metadata": {},
   "source": [
    "## Parcourir\n",
    "\n",
    "Dans les exemples suivants nous allons parcourir différents types de tuples.\n",
    "\n"
   ]
  },
  {
   "cell_type": "markdown",
   "id": "10-8f6894",
   "metadata": {},
   "source": [
    "### Des couleurs\n",
    "\n",
    "Pour dessiner de multiples couleurs, nous pouvons définir un tuple (séquence) de couleurs et parcourir cette séquence.\n",
    "En Python, un tuple est délimité par des parenthèses `()` et les éléments sont séparés par une virgule.\n",
    "\n",
    "Dans l'expression `for c in (...)`, la variable `c` va prendre à tour de rôle les valeurs dans la séquence. Dans l'exemple ci-dessous, `c` prendra successivement les valeurs : `'yellow'`, `'cyan'`, `'orange'`, etc. Le bloc indenté qui suit la ligne `for` sera exécuté autant de fois que la séquence contient d'éléments.\n",
    "\n",
    "La fonction `dot(80, c)` afficher un disque de diamètre 80 et de couleur `c`.  \n",
    "La fonction `write(c)` affiche le nom de la couleur `c`.\n",
    "\n"
   ]
  },
  {
   "cell_type": "markdown",
   "id": "11-4f803b",
   "metadata": {},
   "source": [
    "<h3 style=\"color:teal;background-color:azure;\" > <i class=\"fa fa-pencil\" aria-hidden=\"true\"> </i> &nbsp; Exercice 1 </h3>Modifiez la séquence des couleurs.\n",
    "\n"
   ]
  },
  {
   "cell_type": "code",
   "execution_count": null,
   "id": "12-df006c",
   "metadata": {},
   "outputs": [],
   "source": [
    "from turtle import *\n",
    "up()\n",
    "\n",
    "backward(200)\n",
    "for c in ('yellow', 'cyan', 'orange', 'pink', 'lime'):\n",
    "    dot(80, c)\n",
    "    write(c)\n",
    "    forward(80)\n",
    "\n",
    "done()\n"
   ]
  },
  {
   "cell_type": "markdown",
   "id": "13-0540a4",
   "metadata": {},
   "source": [
    "### Des diamètres\n",
    "\n",
    "Nous pouvons également parcourir une séquence de nombres et ainsi, spécifier une série de diamètres de disques.\n",
    "\n",
    "La fonction `dot(d, 'pink')` afficher un disque de diamètre `d` de couleur rose.  \n",
    "La fonction `write(d)` affiche la distance `d`.\n",
    "\n"
   ]
  },
  {
   "cell_type": "markdown",
   "id": "14-aea06e",
   "metadata": {},
   "source": [
    "<h3 style=\"color:teal;background-color:azure;\" > <i class=\"fa fa-pencil\" aria-hidden=\"true\"> </i> &nbsp; Exercice 2 </h3>Modifiez la séquence des diamètres.\n",
    "\n"
   ]
  },
  {
   "cell_type": "code",
   "execution_count": null,
   "id": "15-83c746",
   "metadata": {},
   "outputs": [],
   "source": [
    "from turtle import *\n",
    "up()\n",
    "\n",
    "backward(220)\n",
    "for d in (40, 60, 80, 60, 40):\n",
    "    dot(d, 'pink')\n",
    "    write(d)\n",
    "    forward(100)\n",
    "\n",
    "done()\n"
   ]
  },
  {
   "cell_type": "markdown",
   "id": "16-ea47f7",
   "metadata": {},
   "source": [
    "### Des distances\n",
    "\n",
    "Dans le chapitre [Définir](prog1.definir) nous avons vu les fonctions `batiment()` et `porte()` avec 8 lignes pour chaque définition de fonction qui dessine un rectangle.\n",
    "\n",
    "À l'aide d'une séquence qui contient ces 4 distances, nous pouvons écrire ces fonctions de manière bien plus compacte. Pour illustrer les distances parcourues, nous l'affichons à chaque itération avec `write(a)`.\n",
    "\n"
   ]
  },
  {
   "cell_type": "markdown",
   "id": "17-441236",
   "metadata": {},
   "source": [
    "<h3 style=\"color:teal;background-color:azure;\" > <i class=\"fa fa-pencil\" aria-hidden=\"true\"> </i> &nbsp; Exercice 3 </h3>Modifiez la taille du bâtiment et de la porte.\n",
    "\n"
   ]
  },
  {
   "cell_type": "code",
   "execution_count": null,
   "id": "18-9d7186",
   "metadata": {},
   "outputs": [],
   "source": [
    "from turtle import *\n",
    "\n",
    "def batiment():\n",
    "    for d in (200, 100, 200, 100):\n",
    "        forward(d/2)\n",
    "        write(d)\n",
    "        forward(d/2)\n",
    "        left(90)\n",
    "\n",
    "def porte():\n",
    "    for d in (30, 50, 30, 50):\n",
    "        forward(d/2)\n",
    "        write(d)\n",
    "        forward(d/2)\n",
    "        left(90)\n",
    "\n",
    "batiment()\n",
    "forward(40)\n",
    "porte()\n",
    "\n",
    "done()\n"
   ]
  },
  {
   "cell_type": "markdown",
   "id": "19-a9352d",
   "metadata": {},
   "source": [
    "### Des angles\n",
    "\n",
    "Nous allons reprendre notre fonction `maison()` et, à l'aide d'une séquence, nous pouvons l'écrire de manière bien plus compacte. Cette fois-ci, la séquence représente des angles, donc nous nommons notre variable `angle` pour nous en rappeler.\n",
    "Pour illustrer le parcours des angles, nous les affichons à chaque itération avec `write(angle)`.\n",
    "\n"
   ]
  },
  {
   "cell_type": "markdown",
   "id": "20-e7dde9",
   "metadata": {},
   "source": [
    "<h3 style=\"color:teal;background-color:azure;\" > <i class=\"fa fa-pencil\" aria-hidden=\"true\"> </i> &nbsp; Exercice 4 </h3>Ajoutez une porte et une fenêtre à la maison.\n",
    "\n"
   ]
  },
  {
   "cell_type": "code",
   "execution_count": null,
   "id": "21-fdcfa8",
   "metadata": {},
   "outputs": [],
   "source": [
    "from turtle import *\n",
    "\n",
    "def maison(d):\n",
    "    dot()\n",
    "    forward (1.41*d)\n",
    "    for a in (90, 45, 90, 45):\n",
    "        write(a)\n",
    "        left(a)\n",
    "        forward(d)\n",
    "    left(90)\n",
    "\n",
    "backward(200)\n",
    "maison(50)\n",
    "forward(150)\n",
    "maison(80)\n",
    "\n",
    "done()\n"
   ]
  },
  {
   "cell_type": "markdown",
   "id": "22-274259",
   "metadata": {},
   "source": [
    "## Maisons en couleurs\n",
    "\n",
    "Dans l'exemple nous allons d'abord parcourir une séquence d'angles avec une variable d'itération `angle` pour dessiner une maison.\n",
    "\n",
    "Ensuite, nous allons parcourir une séquence de couleurs avec une variable `c` pour dessiner des maisons de différentes couleurs.\n",
    "\n"
   ]
  },
  {
   "cell_type": "markdown",
   "id": "23-e7f953",
   "metadata": {},
   "source": [
    "<h3 style=\"color:teal;background-color:azure;\" > <i class=\"fa fa-pencil\" aria-hidden=\"true\"> </i> &nbsp; Exercice 5 </h3>Changez les couleurs des maisons.\n",
    "\n"
   ]
  },
  {
   "cell_type": "code",
   "execution_count": null,
   "id": "24-405c63",
   "metadata": {},
   "outputs": [],
   "source": [
    "from turtle import *\n",
    "\n",
    "def maison(d, c):\n",
    "    fillcolor(c)\n",
    "    begin_fill()\n",
    "    forward (1.41*d)\n",
    "    for a in (90, 45, 90, 45):\n",
    "        left(a)\n",
    "        forward(d)\n",
    "    left(90)\n",
    "    end_fill()\n",
    "\n",
    "backward(250)\n",
    "for c in ('red', 'yellow', 'pink', 'lightblue', 'lightgreen'):\n",
    "    maison(50, c)\n",
    "    forward(100)\n",
    "\n",
    "done()\n"
   ]
  },
  {
   "cell_type": "markdown",
   "id": "25-4109f0",
   "metadata": {},
   "source": [
    "## Tetris\n",
    "\n",
    "Utilisant un tuple, nous pouvons décrire une forme en une seule ligne.\n",
    "\n"
   ]
  },
  {
   "cell_type": "code",
   "execution_count": null,
   "id": "26-737d45",
   "metadata": {},
   "outputs": [],
   "source": [
    "from turtle import *\n",
    "\n",
    "a = 20\n",
    "I = (90, 0, 0, 0, 90, 90, 0, 0, 0, 90), 'cyan'\n",
    "O = (0, 90, 0, 90, 0, 90, 0, 90), 'yellow'\n",
    "T = (90, -90, 90, 90, 0, 0, 90 ,90, -90, 90), 'magenta'\n",
    "J = (0, 90, 0, 0, 90, 90 ,0 ,-90, 90, 90), 'blue'\n",
    "L = (0, 90, 90, -90, 0, 90, 90, 0, 0, 90), 'orange'\n",
    "S = (0, 90, -90, 90, 90, 0, 90, -90, 90, 90), 'lime'\n",
    "Z = (0, 90, 90, -90, 90, 0, 90, 90, -90, 90), 'red'\n",
    "\n",
    "up()\n",
    "backward(280)\n",
    "for forme, c in (I, O, T, J, L, S, Z):\n",
    "    fillcolor(c)\n",
    "    down()\n",
    "    begin_fill()\n",
    "    for angle in forme:\n",
    "        forward(a)\n",
    "        left(angle)\n",
    "    end_fill()\n",
    "    up()\n",
    "    forward(4*a)\n",
    "\n",
    "done()\n"
   ]
  },
  {
   "cell_type": "markdown",
   "id": "27-8624ef",
   "metadata": {},
   "source": [
    "## Drapeau LGBT\n",
    "\n",
    "Le [drapeau arc-en-ciel](https://fr.wikipedia.org/wiki/Drapeau_arc-en-ciel), ou également appelé le drapeau de la paix, est un drapeau représentant plusieurs bandes ayant les couleurs d'un arc-en-ciel. L'usage du drapeau arc-en-ciel est une ancienne tradition commune à de nombreuses cultures. Il évoque généralement la paix, la diversité sexuelle et de genre, ainsi que l'harmonie entre les individus dans le monde entier.\n",
    "\n",
    "Aujourd'hui, le drapeau arc-en-ciel est majoritairement connu comme celui de la communauté lesbienne, gay, bisexuelle, transgenre (abréviation : LGBT), depuis 1978.\n",
    "\n"
   ]
  },
  {
   "cell_type": "code",
   "execution_count": null,
   "id": "28-5d7aea",
   "metadata": {},
   "outputs": [],
   "source": [
    "from turtle import *\n",
    "\n",
    "backward(300)\n",
    "left(90)\n",
    "forward(167)\n",
    "right(90)\n",
    "width(67)\n",
    "\n",
    "for c in ('red', 'orange', 'yellow', 'green', 'blue', 'purple'):\n",
    "    pencolor(c)\n",
    "    forward(600)\n",
    "    backward(600)\n",
    "    right(90)\n",
    "    forward(67)\n",
    "    left(90)\n",
    "\n",
    "done()\n"
   ]
  },
  {
   "cell_type": "markdown",
   "id": "29-8d77bf",
   "metadata": {},
   "source": [
    "## Fleur\n",
    "\n",
    "Ci-dessous nous dessinons 6 fois un losange pour obtenir une fleur.\n",
    "Avec une boucle `for` nous parcourons une séquence de 6 couleurs alternantes.\n",
    "\n"
   ]
  },
  {
   "cell_type": "markdown",
   "id": "30-8073df",
   "metadata": {},
   "source": [
    "<h3 style=\"color:teal;background-color:azure;\" > <i class=\"fa fa-pencil\" aria-hidden=\"true\"> </i> &nbsp; Exercice 6 </h3>Il manque un pétale, corrigez le programme.\n",
    "\n"
   ]
  },
  {
   "cell_type": "code",
   "execution_count": null,
   "id": "31-a80be5",
   "metadata": {},
   "outputs": [],
   "source": [
    "from turtle import *\n",
    "getscreen().bgcolor('lightgreen')\n",
    "\n",
    "def losange(d, c):\n",
    "    fillcolor(c)\n",
    "    begin_fill()\n",
    "    for a in (60, 120, 60, 120):\n",
    "        forward(d)\n",
    "        left(a)\n",
    "    end_fill()\n",
    "\n",
    "for c in ('pink', 'red', 'pink', 'red', 'pink'):\n",
    "    losange(100, c)\n",
    "    left(60)\n",
    "\n",
    "done()\n"
   ]
  },
  {
   "cell_type": "markdown",
   "id": "32-85c86b",
   "metadata": {},
   "source": [
    "## Smiley\n",
    "\n",
    "Dans cet exemple nous allons parcourir différents diamètres de la bouche à l'aide d'une variable que nous appelons `d`. Voici quatre smileys avec différentes formes de bouche.\n",
    "\n"
   ]
  },
  {
   "cell_type": "markdown",
   "id": "33-d10a25",
   "metadata": {},
   "source": [
    "<h3 style=\"color:teal;background-color:azure;\" > <i class=\"fa fa-pencil\" aria-hidden=\"true\"> </i> &nbsp; Exercice 7 </h3>Faites varier un autre paramètre, par exemple la distance des yeux, ou la taille d'un œil.\n",
    "\n"
   ]
  },
  {
   "cell_type": "code",
   "execution_count": null,
   "id": "34-2129e3",
   "metadata": {},
   "outputs": [],
   "source": [
    "from turtle import *\n",
    "\n",
    "getscreen().bgcolor('skyblue')\n",
    "up()\n",
    "\n",
    "backward(200)\n",
    "for d in (10, 20, 30, 40):\n",
    "    dot(100, 'yellow')\n",
    "\n",
    "    left(45)\n",
    "    forward(20)\n",
    "    dot(15)\n",
    "\n",
    "    right(45)\n",
    "    backward(30)\n",
    "    dot(15)\n",
    "\n",
    "    right(60)\n",
    "    forward(35)\n",
    "    dot(d)\n",
    "    left(60)\n",
    "\n",
    "    forward(120)\n",
    "    left(5)\n",
    "\n",
    "done()\n"
   ]
  },
  {
   "cell_type": "markdown",
   "id": "35-9c8a7b",
   "metadata": {},
   "source": [
    "## Cube 3D\n",
    "\n",
    "Avec trois losanges, nous pouvons dessiner un cube en 3D.\n",
    "\n"
   ]
  },
  {
   "cell_type": "code",
   "execution_count": null,
   "id": "36-40b8f7",
   "metadata": {},
   "outputs": [],
   "source": [
    "from turtle import *\n",
    "\n",
    "def losange(d):\n",
    "    for a in (120, 60, 120, 60):\n",
    "        forward(d)\n",
    "        left(a)\n",
    "\n",
    "for i in range(3):\n",
    "    losange(100)\n",
    "    left(120)\n",
    "\n",
    "done()\n"
   ]
  },
  {
   "cell_type": "markdown",
   "id": "37-56a1e9",
   "metadata": {},
   "source": [
    "## Cube en couleur\n",
    "\n",
    "Avec l'utilisation de trois couleurs, l'effet 3D est accentué.\n",
    "Nous choisissons des couleurs claires pour les surfaces du haut, et des couleurs sombres pour les surfaces vers le bas.\n",
    "\n"
   ]
  },
  {
   "cell_type": "markdown",
   "id": "38-e06ace",
   "metadata": {},
   "source": [
    "<h3 style=\"color:teal;background-color:azure;\" > <i class=\"fa fa-pencil\" aria-hidden=\"true\"> </i> &nbsp; Exercice 8 </h3>Tournez le cube de 30°.\n",
    "\n"
   ]
  },
  {
   "cell_type": "code",
   "execution_count": null,
   "id": "39-1dece5",
   "metadata": {},
   "outputs": [],
   "source": [
    "from turtle import *\n",
    "\n",
    "def losange(d, c):\n",
    "    fillcolor(c)\n",
    "    begin_fill()\n",
    "    for a in (120, 60, 120, 60):\n",
    "        forward(100)\n",
    "        left(a)\n",
    "    end_fill()\n",
    "\n",
    "def cube():\n",
    "    for c in ('pink', 'violet', 'darkviolet'):\n",
    "        losange(100, c)\n",
    "        left(120)\n",
    "\n",
    "cube()\n",
    "\n",
    "done()\n"
   ]
  },
  {
   "cell_type": "markdown",
   "id": "40-9ab155",
   "metadata": {},
   "source": [
    "## Pavage du plan\n",
    "\n",
    "Un pavage du plan est un ensemble de portions du plan, par exemple des polygones, dont l'union est le plan tout entier, sans recouvrement.\n",
    "\n"
   ]
  },
  {
   "cell_type": "code",
   "execution_count": null,
   "id": "41-0a48e0",
   "metadata": {},
   "outputs": [],
   "source": [
    "from turtle import *\n",
    "\n",
    "def losange(d, c):\n",
    "    fillcolor(c)\n",
    "    begin_fill()\n",
    "    for a in (120, 60, 120, 60):\n",
    "        forward(100)\n",
    "        left(a)\n",
    "    end_fill()\n",
    "\n",
    "def cube():\n",
    "    for c in ('pink', 'violet', 'darkviolet'):\n",
    "        losange(100, c)\n",
    "        left(120)\n",
    "\n",
    "for i in range(3):\n",
    "    backward(100)\n",
    "    cube()\n",
    "    forward(100)\n",
    "    left(120)\n",
    "\n",
    "done()\n"
   ]
  },
  {
   "cell_type": "markdown",
   "id": "42-d6500c",
   "metadata": {},
   "source": [
    "## Cube de Rubik\n",
    "\n",
    "Pour dessiner un cube de Rubik, nous dessinons\n",
    "\n",
    "- 3 losanges pour former une ligne,\n",
    "- 3 lignes pour former une surface,\n",
    "- 3 surfaces pour former un cube.\n",
    "\n",
    "Dans chaque fonction (losange, ligne, surface) nous retournons au point de départ.\n",
    "\n"
   ]
  },
  {
   "cell_type": "code",
   "execution_count": null,
   "id": "43-0ac4e6",
   "metadata": {},
   "outputs": [],
   "source": [
    "from turtle import *\n",
    "speed(8)\n",
    "\n",
    "def losange():\n",
    "    begin_fill()\n",
    "    for a in (120, 60, 120, 60):\n",
    "        forward(50)\n",
    "        left(a)\n",
    "    end_fill()\n",
    "\n",
    "def ligne():\n",
    "    for i in range(3):\n",
    "        losange()\n",
    "        forward(50)\n",
    "    backward(150)\n",
    "\n",
    "def surface():\n",
    "    for i in range(3):\n",
    "        ligne()\n",
    "        left(120)\n",
    "        forward(50)\n",
    "        right(120)\n",
    "    left(120)\n",
    "    backward(150)\n",
    "\n",
    "for c in ('red', 'green', 'blue'):\n",
    "    fillcolor(c)\n",
    "    surface()\n",
    "\n",
    "done()\n"
   ]
  },
  {
   "cell_type": "markdown",
   "id": "44-6d1860",
   "metadata": {},
   "source": [
    "## Minecraft\n",
    "\n",
    "[Minecraft](https://fr.wikipedia.org/wiki/Minecraft) est un jeu vidéo de type aventure *bac à sable* développé par le Suédois Markus Persson, puis par la société Mojang Studios, sorti en 2011. Il s'agit d'un univers composé de voxels.\n",
    "\n"
   ]
  },
  {
   "cell_type": "markdown",
   "id": "45-ea92a9",
   "metadata": {},
   "source": [
    "### Cube de base\n",
    "\n",
    "Le voxel (mot créé en contractant *volume* et *element*) est à la 3D ce que le pixel est à la 2D.\n",
    "\n"
   ]
  },
  {
   "cell_type": "code",
   "execution_count": null,
   "id": "46-6b96f3",
   "metadata": {},
   "outputs": [],
   "source": [
    "from turtle import *\n",
    "\n",
    "def losange():\n",
    "    for a in (120, 60, 120, 60):\n",
    "        forward(50)\n",
    "        left(a)\n",
    "\n",
    "def cube():\n",
    "    for c in ('lime', 'peru', 'sienna'):\n",
    "        fillcolor(c)\n",
    "        begin_fill()\n",
    "        losange()\n",
    "        end_fill()\n",
    "        left(120)\n",
    "\n",
    "left(30)\n",
    "cube()\n",
    "\n",
    "done()\n"
   ]
  },
  {
   "cell_type": "markdown",
   "id": "47-627193",
   "metadata": {},
   "source": [
    "### Stratégie\n",
    "\n",
    "Le dessin d'un cube commence au centre.\n",
    "Pour aligner ou empiler des blocs, il faut trouver le déplacement vers le prochain bloc, en suivant les 3 axes principaux du cube. Ici nous nous déplaçons un cube en avant avec `forward(-50)`.\n",
    "\n"
   ]
  },
  {
   "cell_type": "code",
   "execution_count": null,
   "id": "48-965763",
   "metadata": {},
   "outputs": [],
   "source": [
    "from turtle import *\n",
    "\n",
    "def losange():\n",
    "    for a in (120, 60, 120, 60):\n",
    "        forward(50)\n",
    "        left(a)\n",
    "\n",
    "def cube():\n",
    "    for c in ('lime', 'peru', 'sienna'):\n",
    "        fillcolor(c)\n",
    "        begin_fill()\n",
    "        losange()\n",
    "        end_fill()\n",
    "        left(120)\n",
    "===\n",
    "speed(5)\n",
    "left(30)\n",
    "cube()\n",
    "\n",
    "color('red')\n",
    "dot(20, 'red')\n",
    "forward(-50)\n",
    "dot(20)\n",
    "\n",
    "done()\n"
   ]
  },
  {
   "cell_type": "markdown",
   "id": "49-58c6c1",
   "metadata": {},
   "source": [
    "### Aligner\n",
    "\n",
    "Le programme suivant aligne 3 blocs pour former une rangée.\n",
    "\n"
   ]
  },
  {
   "cell_type": "code",
   "execution_count": null,
   "id": "50-c0de23",
   "metadata": {},
   "outputs": [],
   "source": [
    "from turtle import *\n",
    "\n",
    "def losange():\n",
    "    for a in (120, 60, 120, 60):\n",
    "        forward(50)\n",
    "        left(a)\n",
    "\n",
    "def cube():\n",
    "    for c in ('lime', 'peru', 'sienna'):\n",
    "        fillcolor(c)\n",
    "        begin_fill()\n",
    "        losange()\n",
    "        end_fill()\n",
    "        left(120)\n",
    "===\n",
    "speed(5)\n",
    "left(30)\n",
    "for i in range(3):\n",
    "    cube()\n",
    "    forward(-50)\n",
    "\n",
    "done()\n"
   ]
  },
  {
   "cell_type": "markdown",
   "id": "51-570bf1",
   "metadata": {},
   "source": [
    "### Empiler\n",
    "\n",
    "Ce programme empile 3 blocs pour former une colonne.\n",
    "\n",
    "Ici nous utilisons un déplacement vers le haut.\n",
    "\n",
    "```python\n",
    "left(60)\n",
    "forward(50)\n",
    "right(60)\n",
    "```\n",
    "\n",
    "Avant de dessiner un bloc, l'orientation de la tortue doit être rétablie.\n",
    "\n"
   ]
  },
  {
   "cell_type": "code",
   "execution_count": null,
   "id": "52-ff8826",
   "metadata": {},
   "outputs": [],
   "source": [
    "from turtle import *\n",
    "\n",
    "def losange():\n",
    "    for a in (120, 60, 120, 60):\n",
    "        forward(50)\n",
    "        left(a)\n",
    "\n",
    "def cube():\n",
    "    for c in ('lime', 'peru', 'sienna'):\n",
    "        fillcolor(c)\n",
    "        begin_fill()\n",
    "        losange()\n",
    "        end_fill()\n",
    "        left(120)\n",
    "===\n",
    "speed(5)\n",
    "left(30)\n",
    "for i in range(3):\n",
    "    cube()\n",
    "    left(60)\n",
    "    forward(50)\n",
    "    right(60)\n",
    "\n",
    "done()\n"
   ]
  },
  {
   "cell_type": "markdown",
   "id": "53-18a413",
   "metadata": {},
   "source": [
    "## Exercices\n",
    "\n",
    "- Téléchargez un exercice.\n",
    "- Éditez-le dans un éditeur.\n",
    "- Déposez-le sur Moodle.\n",
    "\n"
   ]
  },
  {
   "cell_type": "markdown",
   "id": "54-ce03da",
   "metadata": {},
   "source": [
    "### Minecraft - escalier\n",
    "\n",
    "Avec les cubes de Minecraft, créez un escalier avec 4 marches.\n",
    "\n"
   ]
  },
  {
   "cell_type": "code",
   "execution_count": null,
   "id": "55-1e0535",
   "metadata": {},
   "outputs": [],
   "source": [
    "from turtle import *\n",
    "\n",
    "def losange():\n",
    "    for a in (120, 60, 120, 60):\n",
    "        forward(50)\n",
    "        left(a)\n",
    "\n",
    "def cube():\n",
    "    for c in ('lime', 'peru', 'sienna'):\n",
    "        fillcolor(c)\n",
    "        begin_fill()\n",
    "        losange()\n",
    "        end_fill()\n",
    "        left(120)\n",
    "\n",
    "speed(0)\n",
    "left(30)\n",
    "cube()\n",
    "\n",
    "done()\n"
   ]
  },
  {
   "cell_type": "markdown",
   "id": "56-868e4d",
   "metadata": {},
   "source": [
    "### Minecraft - portail\n",
    "\n",
    "Avec les cubes de Minecraft, créez un portail 4x4 en forme de π.\n",
    "\n"
   ]
  },
  {
   "cell_type": "code",
   "execution_count": null,
   "id": "57-1e0535",
   "metadata": {},
   "outputs": [],
   "source": [
    "from turtle import *\n",
    "\n",
    "def losange():\n",
    "    for a in (120, 60, 120, 60):\n",
    "        forward(50)\n",
    "        left(a)\n",
    "\n",
    "def cube():\n",
    "    for c in ('lime', 'peru', 'sienna'):\n",
    "        fillcolor(c)\n",
    "        begin_fill()\n",
    "        losange()\n",
    "        end_fill()\n",
    "        left(120)\n",
    "\n",
    "speed(0)\n",
    "left(30)\n",
    "cube()\n",
    "\n",
    "done()\n"
   ]
  },
  {
   "cell_type": "markdown",
   "id": "58-73b121",
   "metadata": {},
   "source": [
    "### Pavage hexagonal\n",
    "\n",
    "Le pavage hexagonal est, en géométrie, un pavage du plan euclidien constitué d'hexagones réguliers.\n",
    "\n"
   ]
  },
  {
   "cell_type": "markdown",
   "id": "59-12b890",
   "metadata": {},
   "source": [
    "![pavage](https://raw.githubusercontent.com/edunumsec2/book/master/src/appr/prog1/media/pavage_hex.png)\n",
    "\n",
    "Parcourez les 3 couleurs pour dessiner une surface tricolore, soit alignée linéairement, soit autour d'un point commun. Répétez ensuite cette surface élémentaire pour créer un pavage.\n",
    "\n"
   ]
  },
  {
   "cell_type": "code",
   "execution_count": null,
   "id": "60-453af3",
   "metadata": {},
   "outputs": [],
   "source": [
    "from turtle import *\n",
    "\n",
    "def hexagone():\n",
    "    for i in range(6):\n",
    "        forward(40)\n",
    "        left(60)\n",
    "\n",
    "hexagone()\n",
    "\n",
    "done()\n"
   ]
  },
  {
   "cell_type": "markdown",
   "id": "61-cca610",
   "metadata": {},
   "source": [
    "### Cube de Rubik\n",
    "\n",
    "À l'aide de tuples de couleurs, dessinez le cube de Rubik suivant.\n",
    "\n"
   ]
  },
  {
   "cell_type": "markdown",
   "id": "62-0a949f",
   "metadata": {},
   "source": [
    "![pavage](https://raw.githubusercontent.com/edunumsec2/book/master/src/appr/prog1/media/rubik.jpg)\n",
    "\n"
   ]
  },
  {
   "cell_type": "code",
   "execution_count": null,
   "id": "63-5467bf",
   "metadata": {},
   "outputs": [],
   "source": [
    "from turtle import *\n",
    "d = 50\n",
    "\n",
    "def losange(c):\n",
    "    fillcolor(c)\n",
    "    begin_fill()\n",
    "    for a in (120, 60, 120, 60):\n",
    "        forward(d)\n",
    "        left(a)\n",
    "    end_fill()\n",
    "    forward(d)\n",
    "\n",
    "def next():\n",
    "    backward(3*d)\n",
    "    left(120)\n",
    "    forward(d)\n",
    "    right(120)\n",
    "\n",
    "surface = (('red', 'blue', 'orange'),\n",
    "           ('white', 'yellow', 'red'),\n",
    "           ('blue', 'white', 'green'))\n",
    "\n",
    "left(30)\n",
    "for ligne in surface:\n",
    "    for c in ligne:\n",
    "        losange(c)\n",
    "    next()\n",
    "\n",
    "done()\n"
   ]
  },
  {
   "cell_type": "markdown",
   "id": "64-99e854",
   "metadata": {},
   "source": [
    "### Tetris\n",
    "\n",
    "Le jeu vidéo [Tetris](https://fr.wikipedia.org/wiki/Tetris) est un puzzle conçu par l'informaticien russe Alekseï Pajitnov en 1984.\n",
    "Tetris met le joueur au défi de réaliser des lignes complètes en déplaçant des pièces de formes différentes, les [tétrominos](https://fr.wikipedia.org/wiki/Tétromino), qui défilent du haut jusqu'au bas de l'écran.\n",
    "\n"
   ]
  },
  {
   "cell_type": "markdown",
   "id": "65-1c0070",
   "metadata": {},
   "source": [
    "<img src=\"https://raw.githubusercontent.com/edunumsec2/book/master/src/appr/prog1/media/tetris.png\" alt=\"media/tetris.png\" width=\"200\"/>"
   ]
  },
  {
   "cell_type": "markdown",
   "id": "66-cc57fa",
   "metadata": {},
   "source": [
    "\n",
    " \n",
    "\n",
    "Les éléments de base d'un tétromino mesurent 20 × 20 pixels. Il existe 7 formes de tétrominos, qui sont nommés d'après les lettres auxquels ils ressemblent :\n",
    "\n",
    "- S\n",
    "- L\n",
    "- O (carré)\n",
    "- Z\n",
    "- I (bâton)\n",
    "- J\n",
    "- T\n",
    "\n",
    "Cette fois, utilisez :\n",
    "\n",
    "- une séquence d'angles pour définir un tétromino,\n",
    "- un point (dot) pour marquer l'origine du tétromino,\n",
    "- une séquence de fonctions pour parcourir les tétrominos.\n",
    "\n"
   ]
  },
  {
   "cell_type": "code",
   "execution_count": null,
   "id": "67-1ebe26",
   "metadata": {},
   "outputs": [],
   "source": [
    "from turtle import *\n",
    "# Votre prénom, nom, classe\n",
    "\n",
    "def S():\n",
    "    for a in (-90, 90, 0, 90, 90, -90, 90, 0, 90, 90):\n",
    "        forward(20)\n",
    "        left(a)\n",
    "\n",
    "def L():\n",
    "    ...\n",
    "def O():\n",
    "    ...\n",
    "\n",
    "up()\n",
    "backward(250)\n",
    "\n",
    "for f in (S, L, O):\n",
    "    down()\n",
    "    dot()\n",
    "    f()\n",
    "    up()\n",
    "    forward(80)\n",
    "\n",
    "done()"
   ]
  },
  {
   "cell_type": "markdown",
   "id": "68-cebd46",
   "metadata": {},
   "source": [
    "---\n",
    "\n",
    "#### Remarque générale\n",
    "\n",
    "Ce document est une adaptation d'un ressource pédagogique tiré du catalogue modulo https://modulo-info.ch/. Il est sous license Creative Commons [BY-NC-SA](https://creativecommons.org/licenses/?lang=fr)\n",
    "![Licence Creative Commons](https://i.creativecommons.org/l/by-nc-sa/4.0/88x31.png)\n",
    "\n",
    "    "
   ]
  }
 ],
 "metadata": {
  "kernelspec": {
   "display_name": "Python 3 (ipykernel)",
   "language": "python",
   "name": "python3"
  },
  "language_info": {
   "codemirror_mode": {
    "name": "ipython",
    "version": 3
   },
   "file_extension": ".py",
   "mimetype": "text/x-python",
   "name": "python",
   "nbconvert_exporter": "python",
   "pygments_lexer": "ipython3",
   "version": "3.10.12"
  }
 },
 "nbformat": 4,
 "nbformat_minor": 5
}
