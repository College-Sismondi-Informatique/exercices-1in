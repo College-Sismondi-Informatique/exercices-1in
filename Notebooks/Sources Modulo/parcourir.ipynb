{
 "cells": [
  {
   "cell_type": "markdown",
   "id": "7bc11446",
   "metadata": {},
   "source": [
    "# Parcourir - `tuple`\n",
    "\n",
    "Dans ce chapitre, nous allons découvrir le concept très important de la séquence. Ce concept s'appelle `tuple` en langage Python ou **n-uplet** en français. Un tuple est une séquence d'objets, par exemple de couleurs, de distances ou d'angles. Nous pouvons parcourir les valeurs d'un tuple une après l'autre avec une boucle `for`. Nous allons voir que :\n",
    "\n",
    "- le tuple `(10, 20, 30)` représente une séquence de valeurs,\n",
    "- dans la boucle `for d in (10, 20, 30):` la variable `d` parcourt des nombres,\n",
    "- dans la boucle `for c in ('red', 'blue', 'green'):` la variable `c` parcourt des couleurs.\n",
    "\n"
   ]
  },
  {
   "cell_type": "markdown",
   "id": "2b1b121e",
   "metadata": {},
   "source": [
    "<h3 style=\"color:chocolate;background-color:papayawhip;\" > <i class=\"fa fa-question\" aria-hidden=\"true\"> </i> &nbsp; Quizz </h3> \n",
    " \n",
    "```\n",
    "En informatique, un `tuple` est\n",
    "\n",
    "A) une séquence d'objets\n",
    "B) une liste numérique\n",
    "C) un ensemble mathématique\n",
    "D) une chaîne de caractères\n",
    "```"
   ]
  },
  {
   "cell_type": "raw",
   "id": "2b63b865",
   "metadata": {},
   "source": [
    "Réponse : \n"
   ]
  },
  {
   "cell_type": "markdown",
   "id": "12da15bc",
   "metadata": {},
   "source": [
    "Auparavant nous avons vu la boucle `for` comme une simple répétition. Dans ce chapitre la boucle `for` est différente dans le sens que nous parcourons une séquence et nous utilisons une valeur différente pour chaque tour. En Python, cette idée de *parcourir une séquence* et d'utiliser une *valeur successive* à chaque tour, est un concept fondamental.\n",
    "\n"
   ]
  },
  {
   "cell_type": "markdown",
   "id": "9e0896ed",
   "metadata": {},
   "source": [
    "## Variable d'itération\n",
    "\n",
    "Dans des boucles d'itération, nous allons utiliser des variables d'une seule lettre.\n",
    "\n",
    "- `a` pour un angle\n",
    "- `c` pour une couleur\n",
    "- `d` pour une distance\n",
    "- `i` pour un indice (entier)\n",
    "- `r` pour un rayon\n",
    "\n"
   ]
  },
  {
   "cell_type": "markdown",
   "id": "d8e61b8b",
   "metadata": {},
   "source": [
    "<h3 style=\"color:chocolate;background-color:papayawhip;\" > <i class=\"fa fa-question\" aria-hidden=\"true\"> </i> &nbsp; Quizz </h3> \n",
    " \n",
    "```\n",
    "La variable `i` désigne normalement\n",
    "\n",
    "A) une longueur\n",
    "B) un caractère\n",
    "C) un entier\n",
    "D) une coordonnée\n",
    "```"
   ]
  },
  {
   "cell_type": "raw",
   "id": "2678d4f0",
   "metadata": {},
   "source": [
    "Réponse : \n"
   ]
  },
  {
   "cell_type": "markdown",
   "id": "73fe86ee",
   "metadata": {},
   "source": [
    "## Parcourir\n",
    "\n",
    "Dans les exemples suivants nous allons parcourir différents types de tuples.\n",
    "\n"
   ]
  },
  {
   "cell_type": "markdown",
   "id": "0222103d",
   "metadata": {},
   "source": [
    "### Des couleurs\n",
    "\n",
    "Pour dessiner de multiples couleurs, nous pouvons définir un tuple (séquence) de couleurs et parcourir cette séquence.\n",
    "En Python, un tuple est délimité par des parenthèses `()` et les éléments sont séparés par une virgule.\n",
    "\n",
    "Dans l'expression `for c in (...)`, la variable `c` va prendre à tour de rôle les valeurs dans la séquence. Dans l'exemple ci-dessous, `c` prendra successivement les valeurs : `'yellow'`, `'cyan'`, `'orange'`, etc. Le bloc indenté qui suit la ligne `for` sera exécuté autant de fois que la séquence contient d'éléments.\n",
    "\n",
    "La fonction `dot(80, c)` afficher un disque de diamètre 80 et de couleur `c`.  \n",
    "La fonction `write(c)` affiche le nom de la couleur `c`.\n",
    "\n"
   ]
  },
  {
   "cell_type": "markdown",
   "id": "85f4a99a",
   "metadata": {},
   "source": [
    "<h3 style=\"color:teal;background-color:azure;\" > <i class=\"fa fa-pencil\" aria-hidden=\"true\"> </i> &nbsp; Exercice 1 </h3>Modifiez la séquence des couleurs.\n",
    "\n"
   ]
  },
  {
   "cell_type": "code",
   "execution_count": null,
   "id": "7eafba85",
   "metadata": {},
   "outputs": [],
   "source": [
    "from turtle import *\n",
    "up()\n",
    "\n",
    "backward(200)\n",
    "for c in ('yellow', 'cyan', 'orange', 'pink', 'lime'):\n",
    "    dot(80, c)\n",
    "    write(c)\n",
    "    forward(80)\n",
    "\n",
    "done()\n"
   ]
  },
  {
   "cell_type": "markdown",
   "id": "e94208ac",
   "metadata": {},
   "source": [
    "### Des diamètres\n",
    "\n",
    "Nous pouvons également parcourir une séquence de nombres et ainsi, spécifier une série de diamètres de disques.\n",
    "\n",
    "La fonction `dot(d, 'pink')` afficher un disque de diamètre `d` de couleur rose.  \n",
    "La fonction `write(d)` affiche la distance `d`.\n",
    "\n"
   ]
  },
  {
   "cell_type": "markdown",
   "id": "768253d6",
   "metadata": {},
   "source": [
    "<h3 style=\"color:teal;background-color:azure;\" > <i class=\"fa fa-pencil\" aria-hidden=\"true\"> </i> &nbsp; Exercice 2 </h3>Modifiez la séquence des diamètres.\n",
    "\n"
   ]
  },
  {
   "cell_type": "code",
   "execution_count": null,
   "id": "b49d5c4f",
   "metadata": {},
   "outputs": [],
   "source": [
    "from turtle import *\n",
    "up()\n",
    "\n",
    "backward(220)\n",
    "for d in (40, 60, 80, 60, 40):\n",
    "    dot(d, 'pink')\n",
    "    write(d)\n",
    "    forward(100)\n",
    "\n",
    "done()\n"
   ]
  },
  {
   "cell_type": "markdown",
   "id": "ef2d625e",
   "metadata": {},
   "source": [
    "### Des distances\n",
    "\n",
    "Dans le chapitre [Définir](prog1.definir) nous avons vu les fonctions `batiment()` et `porte()` avec 8 lignes pour chaque définition de fonction qui dessine un rectangle.\n",
    "\n",
    "À l'aide d'une séquence qui contient ces 4 distances, nous pouvons écrire ces fonctions de manière bien plus compacte. Pour illustrer les distances parcourues, nous l'affichons à chaque itération avec `write(a)`.\n",
    "\n"
   ]
  },
  {
   "cell_type": "markdown",
   "id": "7b2f8a9d",
   "metadata": {},
   "source": [
    "<h3 style=\"color:teal;background-color:azure;\" > <i class=\"fa fa-pencil\" aria-hidden=\"true\"> </i> &nbsp; Exercice 3 </h3>Modifiez la taille du bâtiment et de la porte.\n",
    "\n"
   ]
  },
  {
   "cell_type": "code",
   "execution_count": null,
   "id": "6c046741",
   "metadata": {},
   "outputs": [],
   "source": [
    "from turtle import *\n",
    "\n",
    "def batiment():\n",
    "    for d in (200, 100, 200, 100):\n",
    "        forward(d/2)\n",
    "        write(d)\n",
    "        forward(d/2)\n",
    "        left(90)\n",
    "\n",
    "def porte():\n",
    "    for d in (30, 50, 30, 50):\n",
    "        forward(d/2)\n",
    "        write(d)\n",
    "        forward(d/2)\n",
    "        left(90)\n",
    "\n",
    "batiment()\n",
    "forward(40)\n",
    "porte()\n",
    "\n",
    "done()\n"
   ]
  },
  {
   "cell_type": "markdown",
   "id": "420976ca",
   "metadata": {},
   "source": [
    "### Des angles\n",
    "\n",
    "Nous allons reprendre notre fonction `maison()` et, à l'aide d'une séquence, nous pouvons l'écrire de manière bien plus compacte. Cette fois-ci, la séquence représente des angles, donc nous nommons notre variable `angle` pour nous en rappeler.\n",
    "Pour illustrer le parcours des angles, nous les affichons à chaque itération avec `write(angle)`.\n",
    "\n"
   ]
  },
  {
   "cell_type": "markdown",
   "id": "f49ac00b",
   "metadata": {},
   "source": [
    "<h3 style=\"color:teal;background-color:azure;\" > <i class=\"fa fa-pencil\" aria-hidden=\"true\"> </i> &nbsp; Exercice 4 </h3>Ajoutez une porte et une fenêtre à la maison.\n",
    "\n"
   ]
  },
  {
   "cell_type": "code",
   "execution_count": null,
   "id": "e7381b1c",
   "metadata": {},
   "outputs": [],
   "source": [
    "from turtle import *\n",
    "\n",
    "def maison(d):\n",
    "    dot()\n",
    "    forward (1.41*d)\n",
    "    for a in (90, 45, 90, 45):\n",
    "        write(a)\n",
    "        left(a)\n",
    "        forward(d)\n",
    "    left(90)\n",
    "\n",
    "backward(200)\n",
    "maison(50)\n",
    "forward(150)\n",
    "maison(80)\n",
    "\n",
    "done()\n"
   ]
  },
  {
   "cell_type": "markdown",
   "id": "e8695087",
   "metadata": {},
   "source": [
    "## Maisons en couleurs\n",
    "\n",
    "Dans l'exemple nous allons d'abord parcourir une séquence d'angles avec une variable d'itération `angle` pour dessiner une maison.\n",
    "\n",
    "Ensuite, nous allons parcourir une séquence de couleurs avec une variable `c` pour dessiner des maisons de différentes couleurs.\n",
    "\n"
   ]
  },
  {
   "cell_type": "markdown",
   "id": "8fceee3f",
   "metadata": {},
   "source": [
    "<h3 style=\"color:teal;background-color:azure;\" > <i class=\"fa fa-pencil\" aria-hidden=\"true\"> </i> &nbsp; Exercice 5 </h3>Changez les couleurs des maisons.\n",
    "\n"
   ]
  },
  {
   "cell_type": "code",
   "execution_count": null,
   "id": "059d0053",
   "metadata": {},
   "outputs": [],
   "source": [
    "from turtle import *\n",
    "\n",
    "def maison(d, c):\n",
    "    fillcolor(c)\n",
    "    begin_fill()\n",
    "    forward (1.41*d)\n",
    "    for a in (90, 45, 90, 45):\n",
    "        left(a)\n",
    "        forward(d)\n",
    "    left(90)\n",
    "    end_fill()\n",
    "\n",
    "backward(250)\n",
    "for c in ('red', 'yellow', 'pink', 'lightblue', 'lightgreen'):\n",
    "    maison(50, c)\n",
    "    forward(100)\n",
    "\n",
    "done()\n"
   ]
  },
  {
   "cell_type": "markdown",
   "id": "bfafa0c8",
   "metadata": {},
   "source": [
    "## Tetris\n",
    "\n",
    "Utilisant un tuple, nous pouvons décrire une forme en une seule ligne.\n",
    "\n"
   ]
  },
  {
   "cell_type": "code",
   "execution_count": null,
   "id": "468c6f3f",
   "metadata": {},
   "outputs": [],
   "source": [
    "from turtle import *\n",
    "\n",
    "a = 20\n",
    "I = (90, 0, 0, 0, 90, 90, 0, 0, 0, 90), 'cyan'\n",
    "O = (0, 90, 0, 90, 0, 90, 0, 90), 'yellow'\n",
    "T = (90, -90, 90, 90, 0, 0, 90 ,90, -90, 90), 'magenta'\n",
    "J = (0, 90, 0, 0, 90, 90 ,0 ,-90, 90, 90), 'blue'\n",
    "L = (0, 90, 90, -90, 0, 90, 90, 0, 0, 90), 'orange'\n",
    "S = (0, 90, -90, 90, 90, 0, 90, -90, 90, 90), 'lime'\n",
    "Z = (0, 90, 90, -90, 90, 0, 90, 90, -90, 90), 'red'\n",
    "\n",
    "up()\n",
    "backward(280)\n",
    "for forme, c in (I, O, T, J, L, S, Z):\n",
    "    fillcolor(c)\n",
    "    down()\n",
    "    begin_fill()\n",
    "    for angle in forme:\n",
    "        forward(a)\n",
    "        left(angle)\n",
    "    end_fill()\n",
    "    up()\n",
    "    forward(4*a)\n",
    "\n",
    "done()\n"
   ]
  },
  {
   "cell_type": "markdown",
   "id": "1dd973bf",
   "metadata": {},
   "source": [
    "## Drapeau LGBT\n",
    "\n",
    "Le [drapeau arc-en-ciel](https://fr.wikipedia.org/wiki/Drapeau_arc-en-ciel), ou également appelé le drapeau de la paix, est un drapeau représentant plusieurs bandes ayant les couleurs d'un arc-en-ciel. L'usage du drapeau arc-en-ciel est une ancienne tradition commune à de nombreuses cultures. Il évoque généralement la paix, la diversité sexuelle et de genre, ainsi que l'harmonie entre les individus dans le monde entier.\n",
    "\n",
    "Aujourd'hui, le drapeau arc-en-ciel est majoritairement connu comme celui de la communauté lesbienne, gay, bisexuelle, transgenre (abréviation : LGBT), depuis 1978.\n",
    "\n"
   ]
  },
  {
   "cell_type": "code",
   "execution_count": null,
   "id": "f7ba7e4a",
   "metadata": {},
   "outputs": [],
   "source": [
    "from turtle import *\n",
    "\n",
    "backward(300)\n",
    "left(90)\n",
    "forward(167)\n",
    "right(90)\n",
    "width(67)\n",
    "\n",
    "for c in ('red', 'orange', 'yellow', 'green', 'blue', 'purple'):\n",
    "    pencolor(c)\n",
    "    forward(600)\n",
    "    backward(600)\n",
    "    right(90)\n",
    "    forward(67)\n",
    "    left(90)\n",
    "\n",
    "done()\n"
   ]
  },
  {
   "cell_type": "markdown",
   "id": "e6d06082",
   "metadata": {},
   "source": [
    "## Fleur\n",
    "\n",
    "Ci-dessous nous dessinons 6 fois un losange pour obtenir une fleur.\n",
    "Avec une boucle `for` nous parcourons une séquence de 6 couleurs alternantes.\n",
    "\n"
   ]
  },
  {
   "cell_type": "markdown",
   "id": "aa8295f4",
   "metadata": {},
   "source": [
    "<h3 style=\"color:teal;background-color:azure;\" > <i class=\"fa fa-pencil\" aria-hidden=\"true\"> </i> &nbsp; Exercice 6 </h3>Il manque un pétale, corrigez le programme.\n",
    "\n"
   ]
  },
  {
   "cell_type": "code",
   "execution_count": null,
   "id": "e6de79bd",
   "metadata": {},
   "outputs": [],
   "source": [
    "from turtle import *\n",
    "getscreen().bgcolor('lightgreen')\n",
    "\n",
    "def losange(d, c):\n",
    "    fillcolor(c)\n",
    "    begin_fill()\n",
    "    for a in (60, 120, 60, 120):\n",
    "        forward(d)\n",
    "        left(a)\n",
    "    end_fill()\n",
    "\n",
    "for c in ('pink', 'red', 'pink', 'red', 'pink'):\n",
    "    losange(100, c)\n",
    "    left(60)\n",
    "\n",
    "done()\n"
   ]
  },
  {
   "cell_type": "markdown",
   "id": "96946602",
   "metadata": {},
   "source": [
    "## Smiley\n",
    "\n",
    "Dans cet exemple nous allons parcourir différents diamètres de la bouche à l'aide d'une variable que nous appelons `d`. Voici quatre smileys avec différentes formes de bouche.\n",
    "\n"
   ]
  },
  {
   "cell_type": "markdown",
   "id": "5a37b9f6",
   "metadata": {},
   "source": [
    "<h3 style=\"color:teal;background-color:azure;\" > <i class=\"fa fa-pencil\" aria-hidden=\"true\"> </i> &nbsp; Exercice 7 </h3>Faites varier un autre paramètre, par exemple la distance des yeux, ou la taille d'un œil.\n",
    "\n"
   ]
  },
  {
   "cell_type": "code",
   "execution_count": null,
   "id": "e7170087",
   "metadata": {},
   "outputs": [],
   "source": [
    "from turtle import *\n",
    "\n",
    "getscreen().bgcolor('skyblue')\n",
    "up()\n",
    "\n",
    "backward(200)\n",
    "for d in (10, 20, 30, 40):\n",
    "    dot(100, 'yellow')\n",
    "\n",
    "    left(45)\n",
    "    forward(20)\n",
    "    dot(15)\n",
    "\n",
    "    right(45)\n",
    "    backward(30)\n",
    "    dot(15)\n",
    "\n",
    "    right(60)\n",
    "    forward(35)\n",
    "    dot(d)\n",
    "    left(60)\n",
    "\n",
    "    forward(120)\n",
    "    left(5)\n",
    "\n",
    "done()\n"
   ]
  },
  {
   "cell_type": "markdown",
   "id": "053cae43",
   "metadata": {},
   "source": [
    "## Cube 3D\n",
    "\n",
    "Avec trois losanges, nous pouvons dessiner un cube en 3D.\n",
    "\n"
   ]
  },
  {
   "cell_type": "code",
   "execution_count": null,
   "id": "ebeca34b",
   "metadata": {},
   "outputs": [],
   "source": [
    "from turtle import *\n",
    "\n",
    "def losange(d):\n",
    "    for a in (120, 60, 120, 60):\n",
    "        forward(d)\n",
    "        left(a)\n",
    "\n",
    "for i in range(3):\n",
    "    losange(100)\n",
    "    left(120)\n",
    "\n",
    "done()\n"
   ]
  },
  {
   "cell_type": "markdown",
   "id": "9c69189e",
   "metadata": {},
   "source": [
    "## Cube en couleur\n",
    "\n",
    "Avec l'utilisation de trois couleurs, l'effet 3D est accentué.\n",
    "Nous choisissons des couleurs claires pour les surfaces du haut, et des couleurs sombres pour les surfaces vers le bas.\n",
    "\n"
   ]
  },
  {
   "cell_type": "markdown",
   "id": "a5702914",
   "metadata": {},
   "source": [
    "<h3 style=\"color:teal;background-color:azure;\" > <i class=\"fa fa-pencil\" aria-hidden=\"true\"> </i> &nbsp; Exercice 8 </h3>Tournez le cube de 30°.\n",
    "\n"
   ]
  },
  {
   "cell_type": "code",
   "execution_count": null,
   "id": "b0c0b4ad",
   "metadata": {},
   "outputs": [],
   "source": [
    "from turtle import *\n",
    "\n",
    "def losange(d, c):\n",
    "    fillcolor(c)\n",
    "    begin_fill()\n",
    "    for a in (120, 60, 120, 60):\n",
    "        forward(100)\n",
    "        left(a)\n",
    "    end_fill()\n",
    "\n",
    "def cube():\n",
    "    for c in ('pink', 'violet', 'darkviolet'):\n",
    "        losange(100, c)\n",
    "        left(120)\n",
    "\n",
    "cube()\n",
    "\n",
    "done()\n"
   ]
  },
  {
   "cell_type": "markdown",
   "id": "4dee189d",
   "metadata": {},
   "source": [
    "## Pavage du plan\n",
    "\n",
    "Un pavage du plan est un ensemble de portions du plan, par exemple des polygones, dont l'union est le plan tout entier, sans recouvrement.\n",
    "\n"
   ]
  },
  {
   "cell_type": "code",
   "execution_count": null,
   "id": "cef8f84a",
   "metadata": {},
   "outputs": [],
   "source": [
    "from turtle import *\n",
    "\n",
    "def losange(d, c):\n",
    "    fillcolor(c)\n",
    "    begin_fill()\n",
    "    for a in (120, 60, 120, 60):\n",
    "        forward(100)\n",
    "        left(a)\n",
    "    end_fill()\n",
    "\n",
    "def cube():\n",
    "    for c in ('pink', 'violet', 'darkviolet'):\n",
    "        losange(100, c)\n",
    "        left(120)\n",
    "\n",
    "for i in range(3):\n",
    "    backward(100)\n",
    "    cube()\n",
    "    forward(100)\n",
    "    left(120)\n",
    "\n",
    "done()\n"
   ]
  },
  {
   "cell_type": "markdown",
   "id": "cf9c8366",
   "metadata": {},
   "source": [
    "## Cube de Rubik\n",
    "\n",
    "Pour dessiner un cube de Rubik, nous dessinons\n",
    "\n",
    "- 3 losanges pour former une ligne,\n",
    "- 3 lignes pour former une surface,\n",
    "- 3 surfaces pour former un cube.\n",
    "\n",
    "Dans chaque fonction (losange, ligne, surface) nous retournons au point de départ.\n",
    "\n"
   ]
  },
  {
   "cell_type": "code",
   "execution_count": null,
   "id": "3540a8aa",
   "metadata": {},
   "outputs": [],
   "source": [
    "from turtle import *\n",
    "speed(8)\n",
    "\n",
    "def losange():\n",
    "    begin_fill()\n",
    "    for a in (120, 60, 120, 60):\n",
    "        forward(50)\n",
    "        left(a)\n",
    "    end_fill()\n",
    "\n",
    "def ligne():\n",
    "    for i in range(3):\n",
    "        losange()\n",
    "        forward(50)\n",
    "    backward(150)\n",
    "\n",
    "def surface():\n",
    "    for i in range(3):\n",
    "        ligne()\n",
    "        left(120)\n",
    "        forward(50)\n",
    "        right(120)\n",
    "    left(120)\n",
    "    backward(150)\n",
    "\n",
    "for c in ('red', 'green', 'blue'):\n",
    "    fillcolor(c)\n",
    "    surface()\n",
    "\n",
    "done()\n"
   ]
  },
  {
   "cell_type": "markdown",
   "id": "e1927b1a",
   "metadata": {},
   "source": [
    "## Minecraft\n",
    "\n",
    "[Minecraft](https://fr.wikipedia.org/wiki/Minecraft) est un jeu vidéo de type aventure *bac à sable* développé par le Suédois Markus Persson, puis par la société Mojang Studios, sorti en 2011. Il s'agit d'un univers composé de voxels.\n",
    "\n"
   ]
  },
  {
   "cell_type": "markdown",
   "id": "2a56e18a",
   "metadata": {},
   "source": [
    "### Cube de base\n",
    "\n",
    "Le voxel (mot créé en contractant *volume* et *element*) est à la 3D ce que le pixel est à la 2D.\n",
    "\n"
   ]
  },
  {
   "cell_type": "code",
   "execution_count": null,
   "id": "a2e5e553",
   "metadata": {},
   "outputs": [],
   "source": [
    "from turtle import *\n",
    "\n",
    "def losange():\n",
    "    for a in (120, 60, 120, 60):\n",
    "        forward(50)\n",
    "        left(a)\n",
    "\n",
    "def cube():\n",
    "    for c in ('lime', 'peru', 'sienna'):\n",
    "        fillcolor(c)\n",
    "        begin_fill()\n",
    "        losange()\n",
    "        end_fill()\n",
    "        left(120)\n",
    "\n",
    "left(30)\n",
    "cube()\n",
    "\n",
    "done()\n"
   ]
  },
  {
   "cell_type": "markdown",
   "id": "e3edb1dc",
   "metadata": {},
   "source": [
    "### Stratégie\n",
    "\n",
    "Le dessin d'un cube commence au centre.\n",
    "Pour aligner ou empiler des blocs, il faut trouver le déplacement vers le prochain bloc, en suivant les 3 axes principaux du cube. Ici nous nous déplaçons un cube en avant avec `forward(-50)`.\n",
    "\n"
   ]
  },
  {
   "cell_type": "code",
   "execution_count": null,
   "id": "3594f063",
   "metadata": {},
   "outputs": [],
   "source": [
    "from turtle import *\n",
    "\n",
    "def losange():\n",
    "    for a in (120, 60, 120, 60):\n",
    "        forward(50)\n",
    "        left(a)\n",
    "\n",
    "def cube():\n",
    "    for c in ('lime', 'peru', 'sienna'):\n",
    "        fillcolor(c)\n",
    "        begin_fill()\n",
    "        losange()\n",
    "        end_fill()\n",
    "        left(120)\n",
    "===\n",
    "speed(5)\n",
    "left(30)\n",
    "cube()\n",
    "\n",
    "color('red')\n",
    "dot(20, 'red')\n",
    "forward(-50)\n",
    "dot(20)\n",
    "\n",
    "done()\n"
   ]
  },
  {
   "cell_type": "markdown",
   "id": "23c4dbcf",
   "metadata": {},
   "source": [
    "### Aligner\n",
    "\n",
    "Le programme suivant aligne 3 blocs pour former une rangée.\n",
    "\n"
   ]
  },
  {
   "cell_type": "code",
   "execution_count": null,
   "id": "ca31f104",
   "metadata": {},
   "outputs": [],
   "source": [
    "from turtle import *\n",
    "\n",
    "def losange():\n",
    "    for a in (120, 60, 120, 60):\n",
    "        forward(50)\n",
    "        left(a)\n",
    "\n",
    "def cube():\n",
    "    for c in ('lime', 'peru', 'sienna'):\n",
    "        fillcolor(c)\n",
    "        begin_fill()\n",
    "        losange()\n",
    "        end_fill()\n",
    "        left(120)\n",
    "===\n",
    "speed(5)\n",
    "left(30)\n",
    "for i in range(3):\n",
    "    cube()\n",
    "    forward(-50)\n",
    "\n",
    "done()\n"
   ]
  },
  {
   "cell_type": "markdown",
   "id": "6a5992b9",
   "metadata": {},
   "source": [
    "### Empiler\n",
    "\n",
    "Ce programme empile 3 blocs pour former une colonne.\n",
    "\n",
    "Ici nous utilisons un déplacement vers le haut.\n",
    "\n",
    "```python\n",
    "left(60)\n",
    "forward(50)\n",
    "right(60)\n",
    "```\n",
    "\n",
    "Avant de dessiner un bloc, l'orientation de la tortue doit être rétablie.\n",
    "\n"
   ]
  },
  {
   "cell_type": "code",
   "execution_count": null,
   "id": "ee4a1742",
   "metadata": {},
   "outputs": [],
   "source": [
    "from turtle import *\n",
    "\n",
    "def losange():\n",
    "    for a in (120, 60, 120, 60):\n",
    "        forward(50)\n",
    "        left(a)\n",
    "\n",
    "def cube():\n",
    "    for c in ('lime', 'peru', 'sienna'):\n",
    "        fillcolor(c)\n",
    "        begin_fill()\n",
    "        losange()\n",
    "        end_fill()\n",
    "        left(120)\n",
    "===\n",
    "speed(5)\n",
    "left(30)\n",
    "for i in range(3):\n",
    "    cube()\n",
    "    left(60)\n",
    "    forward(50)\n",
    "    right(60)\n",
    "\n",
    "done()\n"
   ]
  },
  {
   "cell_type": "markdown",
   "id": "cfeb097c",
   "metadata": {},
   "source": [
    "## Exercices\n",
    "\n",
    "- Téléchargez un exercice.\n",
    "- Éditez-le dans un éditeur.\n",
    "- Déposez-le sur Moodle.\n",
    "\n"
   ]
  },
  {
   "cell_type": "markdown",
   "id": "6de4efce",
   "metadata": {},
   "source": [
    "### Minecraft - escalier\n",
    "\n",
    "Avec les cubes de Minecraft, créez un escalier avec 4 marches.\n",
    "\n"
   ]
  },
  {
   "cell_type": "code",
   "execution_count": null,
   "id": "2e5bb32d",
   "metadata": {},
   "outputs": [],
   "source": [
    "from turtle import *\n",
    "\n",
    "def losange():\n",
    "    for a in (120, 60, 120, 60):\n",
    "        forward(50)\n",
    "        left(a)\n",
    "\n",
    "def cube():\n",
    "    for c in ('lime', 'peru', 'sienna'):\n",
    "        fillcolor(c)\n",
    "        begin_fill()\n",
    "        losange()\n",
    "        end_fill()\n",
    "        left(120)\n",
    "\n",
    "speed(0)\n",
    "left(30)\n",
    "cube()\n",
    "\n",
    "done()\n"
   ]
  },
  {
   "cell_type": "markdown",
   "id": "fbbfd350",
   "metadata": {},
   "source": [
    "### Minecraft - portail\n",
    "\n",
    "Avec les cubes de Minecraft, créez un portail 4x4 en forme de π.\n",
    "\n"
   ]
  },
  {
   "cell_type": "code",
   "execution_count": null,
   "id": "6ebd5060",
   "metadata": {},
   "outputs": [],
   "source": [
    "from turtle import *\n",
    "\n",
    "def losange():\n",
    "    for a in (120, 60, 120, 60):\n",
    "        forward(50)\n",
    "        left(a)\n",
    "\n",
    "def cube():\n",
    "    for c in ('lime', 'peru', 'sienna'):\n",
    "        fillcolor(c)\n",
    "        begin_fill()\n",
    "        losange()\n",
    "        end_fill()\n",
    "        left(120)\n",
    "\n",
    "speed(0)\n",
    "left(30)\n",
    "cube()\n",
    "\n",
    "done()\n"
   ]
  },
  {
   "cell_type": "markdown",
   "id": "da044396",
   "metadata": {},
   "source": [
    "### Pavage hexagonal\n",
    "\n",
    "Le pavage hexagonal est, en géométrie, un pavage du plan euclidien constitué d'hexagones réguliers.\n",
    "\n"
   ]
  },
  {
   "cell_type": "markdown",
   "id": "3237b97b",
   "metadata": {},
   "source": [
    "![pavage](https://raw.githubusercontent.com/edunumsec2/book/master/src/appr/prog1/media/pavage_hex.png)\n",
    "\n",
    "Parcourez les 3 couleurs pour dessiner une surface tricolore, soit alignée linéairement, soit autour d'un point commun. Répétez ensuite cette surface élémentaire pour créer un pavage.\n",
    "\n"
   ]
  },
  {
   "cell_type": "code",
   "execution_count": null,
   "id": "d66f40ce",
   "metadata": {},
   "outputs": [],
   "source": [
    "from turtle import *\n",
    "\n",
    "def hexagone():\n",
    "    for i in range(6):\n",
    "        forward(40)\n",
    "        left(60)\n",
    "\n",
    "hexagone()\n",
    "\n",
    "done()\n"
   ]
  },
  {
   "cell_type": "markdown",
   "id": "8857f3a1",
   "metadata": {},
   "source": [
    "### Cube de Rubik\n",
    "\n",
    "À l'aide de tuples de couleurs, dessinez le cube de Rubik suivant.\n",
    "\n"
   ]
  },
  {
   "cell_type": "markdown",
   "id": "7bb809c5",
   "metadata": {},
   "source": [
    "![pavage](https://raw.githubusercontent.com/edunumsec2/book/master/src/appr/prog1/media/rubik.jpg)\n",
    "\n"
   ]
  },
  {
   "cell_type": "code",
   "execution_count": null,
   "id": "3e68000d",
   "metadata": {},
   "outputs": [],
   "source": [
    "from turtle import *\n",
    "d = 50\n",
    "\n",
    "def losange(c):\n",
    "    fillcolor(c)\n",
    "    begin_fill()\n",
    "    for a in (120, 60, 120, 60):\n",
    "        forward(d)\n",
    "        left(a)\n",
    "    end_fill()\n",
    "    forward(d)\n",
    "\n",
    "def next():\n",
    "    backward(3*d)\n",
    "    left(120)\n",
    "    forward(d)\n",
    "    right(120)\n",
    "\n",
    "surface = (('red', 'blue', 'orange'),\n",
    "           ('white', 'yellow', 'red'),\n",
    "           ('blue', 'white', 'green'))\n",
    "\n",
    "left(30)\n",
    "for ligne in surface:\n",
    "    for c in ligne:\n",
    "        losange(c)\n",
    "    next()\n",
    "\n",
    "done()\n"
   ]
  },
  {
   "cell_type": "markdown",
   "id": "d92d92c1",
   "metadata": {},
   "source": [
    "### Tetris\n",
    "\n",
    "Le jeu vidéo [Tetris](https://fr.wikipedia.org/wiki/Tetris) est un puzzle conçu par l'informaticien russe Alekseï Pajitnov en 1984.\n",
    "Tetris met le joueur au défi de réaliser des lignes complètes en déplaçant des pièces de formes différentes, les [tétrominos](https://fr.wikipedia.org/wiki/Tétromino), qui défilent du haut jusqu'au bas de l'écran.\n",
    "\n"
   ]
  },
  {
   "cell_type": "markdown",
   "id": "abfdf103",
   "metadata": {},
   "source": [
    "<img src=\"https://raw.githubusercontent.com/edunumsec2/book/master/src/appr/prog1/media/tetris.png\" alt=\"media/tetris.png\" width=\"200\"/>"
   ]
  },
  {
   "cell_type": "markdown",
   "id": "6e107a95",
   "metadata": {},
   "source": [
    "\n",
    " \n",
    "\n",
    "Les éléments de base d'un tétromino mesurent 20 × 20 pixels. Il existe 7 formes de tétrominos, qui sont nommés d'après les lettres auxquels ils ressemblent :\n",
    "\n",
    "- S\n",
    "- L\n",
    "- O (carré)\n",
    "- Z\n",
    "- I (bâton)\n",
    "- J\n",
    "- T\n",
    "\n",
    "Cette fois, utilisez :\n",
    "\n",
    "- une séquence d'angles pour définir un tétromino,\n",
    "- un point (dot) pour marquer l'origine du tétromino,\n",
    "- une séquence de fonctions pour parcourir les tétrominos.\n",
    "\n"
   ]
  },
  {
   "cell_type": "code",
   "execution_count": null,
   "id": "8d2bc4c1",
   "metadata": {},
   "outputs": [],
   "source": [
    "from turtle import *\n",
    "# Votre prénom, nom, classe\n",
    "\n",
    "def S():\n",
    "    for a in (-90, 90, 0, 90, 90, -90, 90, 0, 90, 90):\n",
    "        forward(20)\n",
    "        left(a)\n",
    "\n",
    "def L():\n",
    "    ...\n",
    "def O():\n",
    "    ...\n",
    "\n",
    "up()\n",
    "backward(250)\n",
    "\n",
    "for f in (S, L, O):\n",
    "    down()\n",
    "    dot()\n",
    "    f()\n",
    "    up()\n",
    "    forward(80)\n",
    "\n",
    "done()"
   ]
  }
 ],
 "metadata": {
  "kernelspec": {
   "display_name": "Python 3 (ipykernel)",
   "language": "python",
   "name": "python3"
  },
  "language_info": {
   "codemirror_mode": {
    "name": "ipython",
    "version": 3
   },
   "file_extension": ".py",
   "mimetype": "text/x-python",
   "name": "python",
   "nbconvert_exporter": "python",
   "pygments_lexer": "ipython3",
   "version": "3.10.12"
  }
 },
 "nbformat": 4,
 "nbformat_minor": 5
}
