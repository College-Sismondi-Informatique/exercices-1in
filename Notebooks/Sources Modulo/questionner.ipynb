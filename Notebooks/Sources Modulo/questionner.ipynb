{
 "cells": [
  {
   "cell_type": "markdown",
   "id": "1fdd6ef8",
   "metadata": {},
   "source": [
    "# Questionner - `input()`\n",
    "\n",
    "Dans ce chapitre, nous découvrons comment un programme peut poser une question lors de son exécution. L'utilisateur du programme peut alors répondre et entrer une information. La réponse sera stockée dans la mémoire de l'ordinateur et sera associée à une variable. Grâce à cette variable, le programme peut traiter la réponse fournie, et le résultat peut être affiché. Nous allons voir que :\n",
    "\n",
    "- la fonction `input('question')` demande une information,\n",
    "- une variable, par exemple `x`, mémorise une information,\n",
    "- la fonction `print()` affiche un texte (une réponse).\n",
    "\n"
   ]
  },
  {
   "cell_type": "markdown",
   "id": "6ad6cdcc",
   "metadata": {},
   "source": [
    "## La fonction `input()`\n",
    "\n",
    "La fonction `input('question')` permet de demander une entrée (input) à l'utilisateur.\n",
    "L'utilisateur voit le texte `question` affiché à la console et doit répondre à cette question. Il termine son entrée avec la touche Enter.\n",
    "\n",
    "La réponse de l'utilisateur est ensuite mémorisée dans une variable que nous appelons `x` dans cet exemple.\n",
    "Ensuite, nous pouvons utiliser cette variable `x` dans la suite du programme, par exemple comme argument dans une fonction `print()`.\n",
    "\n"
   ]
  },
  {
   "cell_type": "code",
   "execution_count": null,
   "id": "d9d48c1c",
   "metadata": {},
   "outputs": [],
   "source": [
    "x = input('Entrez votre nom: ')\n",
    "print('Bonjour', x)\n"
   ]
  },
  {
   "cell_type": "markdown",
   "id": "de5bad38",
   "metadata": {},
   "source": [
    "## La fonction `print()`\n",
    "\n",
    "La fonction `print()` peut accepter un ou plusieurs arguments, séparés par une virgule. Un espace est inséré à la place de la virgule.\n",
    "Appeler la fonction `print()` sans argument, insère une ligne vide.\n",
    "\n"
   ]
  },
  {
   "cell_type": "code",
   "execution_count": null,
   "id": "837f1c49",
   "metadata": {},
   "outputs": [],
   "source": [
    "x = input('Entrez votre nom: ')\n",
    "print()                 # sans argument - ligne vide\n",
    "print('Hello')          # un argument\n",
    "print('Bonjour', x)     # deux arguments\n",
    "print(x, 'comment vas-tu?')\n",
    "print(x, 'restera toujours', x)     # trois arguments\n",
    "print(x, 'voit', x, 'qui voit', x)  # cinq arguments\n"
   ]
  },
  {
   "cell_type": "markdown",
   "id": "7766c21e",
   "metadata": {},
   "source": [
    "## La variable\n",
    "\n",
    "Une variable est une place en mémoire pour stocker de l'information.\n",
    "Vous êtes complètement libres dans le choix des noms pour les variables, mais il est recommandé de choisir des noms qui sont le plus explicites possible. C'est mieux d'utiliser des noms de variable parlants, comme `nom` et `age`, même si on avait pu utiliser `x` et `y`.  \n",
    "\n"
   ]
  },
  {
   "cell_type": "markdown",
   "id": "4b018914",
   "metadata": {},
   "source": [
    "<h3 style=\"color:teal;background-color:azure;\" > <i class=\"fa fa-pencil\" aria-hidden=\"true\"> </i> &nbsp; Exercice 1 </h3>Ajoutez une troisième question et utilisez la réponse dans un `print()`.\n",
    "\n"
   ]
  },
  {
   "cell_type": "code",
   "execution_count": null,
   "id": "c2c87411",
   "metadata": {},
   "outputs": [],
   "source": [
    "nom = input('Entrez votre nom: ')\n",
    "print('Bonjour', nom)\n",
    "\n",
    "age = input('Entrez votre âge: ')\n",
    "print('Très bien', nom, 'vous avez', age, 'ans')\n"
   ]
  },
  {
   "cell_type": "markdown",
   "id": "24576c6d",
   "metadata": {},
   "source": [
    "## Demander un nombre\n",
    "\n",
    "La fonction `input()` permet d'obtenir une entrée de l'utilisateur. Mais attention !\n",
    "La valeur retournée est une chaine de caractères (de type string `str`). Nous pouvons le prouver avec la fonction `type()`.\n",
    "\n"
   ]
  },
  {
   "cell_type": "code",
   "execution_count": null,
   "id": "fd41bce9",
   "metadata": {},
   "outputs": [],
   "source": [
    "x = input('Entrez un nombre: ')\n",
    "print(type(x))\n"
   ]
  },
  {
   "cell_type": "markdown",
   "id": "d84c64b2",
   "metadata": {},
   "source": [
    "Pour pouvoir utiliser cette valeur dans un calcul, nous devons la transformer en nombre. Pour convertir une chaine de caractères en un nombre à virgule flottante nous utilisons la fonction de conversion `float()`.\n",
    "\n"
   ]
  },
  {
   "cell_type": "code",
   "execution_count": null,
   "id": "9e8c1fdb",
   "metadata": {},
   "outputs": [],
   "source": [
    "x = '1.5'\n",
    "print(type(x))          # la variable x contient une chaîne\n",
    "print(type(float(x)))   # la fonction float(x) renvoie un nombre\n"
   ]
  },
  {
   "cell_type": "markdown",
   "id": "1378430a",
   "metadata": {},
   "source": [
    "## Opérations de base\n",
    "\n",
    "En Python, nous retrouvons les 4 opérations arithmétiques de base :\n",
    "\n",
    "- addition (`+`)\n",
    "- soustraction (`-`)\n",
    "- multiplication (`*`)\n",
    "- division (`/`)\n",
    "\n"
   ]
  },
  {
   "cell_type": "code",
   "execution_count": null,
   "id": "cb633be1",
   "metadata": {},
   "outputs": [],
   "source": [
    "print('Opérations de base')\n",
    "a = float(input('Entrez un nombre: '))\n",
    "b = float(input('Entrez un nombre: '))\n",
    "print()\n",
    "print('Addition      ', a + b)\n",
    "print('Soustraction  ', a - b)\n",
    "print('Multiplication', a * b)\n",
    "print('Division      ', a / b)\n"
   ]
  },
  {
   "cell_type": "markdown",
   "id": "2cedbae3",
   "metadata": {},
   "source": [
    "## Puissance\n",
    "\n",
    "En Python l'opérateur de puissance est `**`. Ne le confondez pas avec le symbole `^` utilisé dans d'autres langages tel qu’Excel.\n",
    "\n"
   ]
  },
  {
   "cell_type": "code",
   "execution_count": null,
   "id": "ba71d100",
   "metadata": {},
   "outputs": [],
   "source": [
    "print('Puissance')\n",
    "a = float(input('Entrez un nombre: '))\n",
    "n = float(input('Entrez un exposant: '))\n",
    "print()\n",
    "print(a, 'puissance', n, '=', a ** n)\n"
   ]
  },
  {
   "cell_type": "markdown",
   "id": "01408637",
   "metadata": {},
   "source": [
    "Nous pouvons utiliser une puissance de 0.5 pour calculer une racine.\n",
    "\n"
   ]
  },
  {
   "cell_type": "code",
   "execution_count": null,
   "id": "5a25da83",
   "metadata": {},
   "outputs": [],
   "source": [
    "print('Racine')\n",
    "a = float(input('Entrez un nombre: '))\n",
    "print('La racine de', a, 'est', a ** 0.5)\n"
   ]
  },
  {
   "cell_type": "markdown",
   "id": "de1511c4",
   "metadata": {},
   "source": [
    "Nous pouvons maintenant calculer une diagonale, en utilisant le théorème de Pythagore.\n",
    "\n"
   ]
  },
  {
   "cell_type": "code",
   "execution_count": null,
   "id": "6ffaa6a1",
   "metadata": {},
   "outputs": [],
   "source": [
    "print('Pythagore')\n",
    "a = float(input('Entrez un nombre a: '))\n",
    "b = float(input('Entrez un nombre b: '))\n",
    "print()\n",
    "print('La diagonale est', (a ** 2 + b ** 2) ** 0.5)\n"
   ]
  },
  {
   "cell_type": "markdown",
   "id": "26a5ca2f",
   "metadata": {},
   "source": [
    "## Division entière\n",
    "\n",
    "En Python, nous avons un opérateur spécial pour la division entière (`//`) ainsi que pour le reste de la division entière. L'opérateur pour le reste de la division entière est `%` est s'appelle **modulo**.\n",
    "\n",
    "Cette fois-ci nous transformons la chaine pas en nombre à virgule flottante (`float`), mais en nombre enter (`int`).\n",
    "\n"
   ]
  },
  {
   "cell_type": "code",
   "execution_count": null,
   "id": "4baffcd8",
   "metadata": {},
   "outputs": [],
   "source": [
    "print('Division entière')\n",
    "a = int(input('Entrez un entier a: '))\n",
    "b = int(input('Entrez un entier b: '))\n",
    "print()\n",
    "print('Division normale    ', a / b)\n",
    "print('Division entière    ', a // b)\n",
    "print('Reste de la division', a % b)\n"
   ]
  },
  {
   "cell_type": "markdown",
   "id": "45ca5937",
   "metadata": {},
   "source": [
    "<h3 style=\"color:chocolate;background-color:papayawhip;\" > <i class=\"fa fa-question\" aria-hidden=\"true\"> </i> &nbsp; Quizz </h3> \n",
    " \n",
    "```\n",
    "Quel est le résultat de l'expression `10 % 3` ?\n",
    "\n",
    "A) 1\n",
    "B) 2\n",
    "C) 3\n",
    "D) 3.333333\n",
    "```"
   ]
  },
  {
   "cell_type": "raw",
   "id": "d0a5172e",
   "metadata": {},
   "source": [
    "Réponse : \n"
   ]
  },
  {
   "cell_type": "markdown",
   "id": "a85ddd9e",
   "metadata": {},
   "source": [
    "<h3 style=\"color:chocolate;background-color:papayawhip;\" > <i class=\"fa fa-question\" aria-hidden=\"true\"> </i> &nbsp; Quizz </h3> \n",
    " \n",
    "```\n",
    "En informatique, `int` est l'abréviation pour\n",
    "\n",
    "A) international\n",
    "B) entier\n",
    "C) interne\n",
    "D) intelligent\n",
    "```"
   ]
  },
  {
   "cell_type": "raw",
   "id": "229f04a3",
   "metadata": {},
   "source": [
    "Réponse : \n"
   ]
  },
  {
   "cell_type": "markdown",
   "id": "69fc0e50",
   "metadata": {},
   "source": [
    "## Calcul géométrique\n",
    "\n",
    "Dans l'exemple suivant, on demande le rayon et on affiche rayon, diamètre et circonférence. Ajoutez la surface du cercle en utilisant la formule :\n",
    "\n",
    "$$ S = \\pi r^2 $$\n",
    "\n"
   ]
  },
  {
   "cell_type": "markdown",
   "id": "04440a83",
   "metadata": {},
   "source": [
    "<h3 style=\"color:teal;background-color:azure;\" > <i class=\"fa fa-pencil\" aria-hidden=\"true\"> </i> &nbsp; Exercice 2 </h3>Complétez le programme pour afficher la surface du cercle.\n",
    "\n"
   ]
  },
  {
   "cell_type": "code",
   "execution_count": null,
   "id": "afd4b6b5",
   "metadata": {},
   "outputs": [],
   "source": [
    "print('Circle')\n",
    "r = float(input('Entrez le rayon: '))\n",
    "pi = 3.14\n",
    "print()\n",
    "print('rayon =', r)\n",
    "print('diamètre =', 2 * r)\n",
    "print('circonférence =', pi * 2 * r)\n",
    "print('surface =', ...)\n"
   ]
  },
  {
   "cell_type": "markdown",
   "id": "52444100",
   "metadata": {},
   "source": [
    "Nous pouvons également créer des programmes où nous demandons plusieurs valeurs à l'utilisateur. Cette fois, nous permettons seulement l'utilisation de nombres entiers, et donc transformons la chaine obtenue avec `int()` en nombre entier.\n",
    "\n"
   ]
  },
  {
   "cell_type": "markdown",
   "id": "0f54f2db",
   "metadata": {},
   "source": [
    "<h3 style=\"color:teal;background-color:azure;\" > <i class=\"fa fa-pencil\" aria-hidden=\"true\"> </i> &nbsp; Exercice 3 </h3>Complétez le programme pour afficher le périmètre et la diagonale.\n",
    "\n"
   ]
  },
  {
   "cell_type": "code",
   "execution_count": null,
   "id": "e8b5d92b",
   "metadata": {},
   "outputs": [],
   "source": [
    "print('Rectangle')\n",
    "a = float(input('Entrez la largeur: '))\n",
    "b = float(input('Entrez la longueur: '))\n",
    "\n",
    "print('surface =', a * b)\n",
    "print('périmètre =', ...)\n",
    "print('diagonale =', ...)\n"
   ]
  },
  {
   "cell_type": "markdown",
   "id": "beda3bd1",
   "metadata": {},
   "source": [
    "## Créer un quiz\n",
    "\n",
    "Pour faire des petits quiz, nous créons des paires de mots qui vont ensemble. Par exemple pays et capitale dans un cours de géographie, ou une liste de vocabulaire en deux langues, pour un cours de langue.\n",
    "\n"
   ]
  },
  {
   "cell_type": "markdown",
   "id": "214ee89f",
   "metadata": {},
   "source": [
    "### Séquence de questions\n",
    "\n",
    "Nous mettons les deux valeurs `question` et `solution` dans un tuple et nous regroupons ces paires dans un deuxième tuple que nous appelons `quiz`\n",
    "\n",
    "Quand nous parcourons `quiz` avec une boucle `for` nous pouvons utiliser une seule variable, par exemple `x` et lui affecter le tuple `(question, solution)`\n",
    "\n",
    "Nous pouvons aussi parcourir le quiz avec un tuple de deux variables `(q, s)` et associer les deux valeurs séparément à chaque variable : donc\n",
    "`q = question` et `s = solution`.\n",
    "\n"
   ]
  },
  {
   "cell_type": "code",
   "execution_count": null,
   "id": "0f5f10e2",
   "metadata": {},
   "outputs": [],
   "source": [
    "\n",
    "quiz = (('France', 'Paris'),\n",
    "        ('Allemagne', 'Berlin'),\n",
    "        ('Suisse', 'Berne'))\n",
    "\n",
    "print('parcourir avec x')\n",
    "for x in quiz:\n",
    "    print('x =', x)\n",
    "\n",
    "print()\n",
    "print('parcourir avec (q, s)')\n",
    "for (q, s) in quiz:\n",
    "    print('q =', q, '   s =', s)\n"
   ]
  },
  {
   "cell_type": "markdown",
   "id": "889e77ad",
   "metadata": {},
   "source": [
    "### Poser une question\n",
    "\n",
    "Nous pouvons maintenant extraire la question et la poser plusieurs fois dans une boucle `for`. Avec `input()` nous demandons la réponse. Nous séparons les questions avec un `print()` sans argument pour insérer une ligne vide entre les questions.\n",
    "\n"
   ]
  },
  {
   "cell_type": "code",
   "execution_count": null,
   "id": "879f1a40",
   "metadata": {},
   "outputs": [],
   "source": [
    "\n",
    "quiz = (('France', 'Paris'),\n",
    "        ('Allemagne', 'Berlin'),\n",
    "        ('Suisse', 'Berne'))\n",
    "\n",
    "for (q, s) in quiz:\n",
    "    print('Quelle est la capitale de', q)\n",
    "    reponse = input('Votre réponse: ')\n",
    "    print()\n"
   ]
  },
  {
   "cell_type": "markdown",
   "id": "cdf46b78",
   "metadata": {},
   "source": [
    "### Evaluer une réponse\n",
    "\n",
    "Nous introduisons ici déjà la structure `if-else` que nous allons voir en détail plus tard.\n",
    "\n",
    "Le mot-clé `if` est suivi d'une condition. Ici nous comparons la réponse donnée par l'utilisateur avec la solution connue par le programme.\n",
    "\n",
    "L'expression `reponse == solution` renvoie comme valeur `True` ou `False`. Selon cette valeur, un des deux blocs est exécuté.\n",
    "\n"
   ]
  },
  {
   "cell_type": "code",
   "execution_count": null,
   "id": "56f67342",
   "metadata": {},
   "outputs": [],
   "source": [
    "\n",
    "quiz = (('France', 'Paris'),\n",
    "        ('Allemagne', 'Berlin'),\n",
    "        ('Suisse', 'Berne'))\n",
    "\n",
    "for (question, solution) in quiz:\n",
    "    print('Quelle est la capitale de', question)\n",
    "    reponse = input('Votre réponse: ')\n",
    "    if reponse == solution:\n",
    "        print('correct')\n",
    "    else:\n",
    "        print('FAUX! La bonne réponse est', solution)\n",
    "    print()\n"
   ]
  },
  {
   "cell_type": "markdown",
   "id": "3e2d9ea0",
   "metadata": {},
   "source": [
    "### Quiz avec score\n",
    "\n",
    "Comment ajouter un score ?\n",
    "\n",
    "Il faut ajouter 3 éléments de code pour:\n",
    "\n",
    "- initialiser une variable au début\n",
    "- augmenter la valeur avec chaque bonne réponse\n",
    "- afficher le score à la fin\n",
    "\n"
   ]
  },
  {
   "cell_type": "code",
   "execution_count": null,
   "id": "2fe0defa",
   "metadata": {},
   "outputs": [],
   "source": [
    "score = 0   # initialiser au début\n",
    "\n",
    "print('avant', score)\n",
    "score = score + 1\n",
    "print('après', score)\n",
    "\n",
    "print('Votre score est', score)\n"
   ]
  },
  {
   "cell_type": "markdown",
   "id": "7941089c",
   "metadata": {},
   "source": [
    "Nous reprenons l'exemple du [chapitre précédent](prog1.randomiser) et nous ajoutons le calcul du score\n",
    "\n"
   ]
  },
  {
   "cell_type": "code",
   "execution_count": null,
   "id": "aeb4e290",
   "metadata": {},
   "outputs": [],
   "source": [
    "score = 0\n",
    "quiz = (('France', 'Paris'),\n",
    "        ('Allemagne', 'Berlin'),\n",
    "        ('Suisse', 'Berne'))\n",
    "\n",
    "for (question, solution) in quiz:\n",
    "    print('Quelle est la capitale de', question)\n",
    "    reponse = input('Votre réponse: ')\n",
    "    if reponse == solution:\n",
    "        print('correct')\n",
    "        score = score + 1\n",
    "    else:\n",
    "        print('FAUX! La bonne réponse est', solution)\n",
    "    print()\n",
    "\n",
    "print('Votre score: ', score, 'sur', len(quiz))\n"
   ]
  },
  {
   "cell_type": "markdown",
   "id": "d378d434",
   "metadata": {},
   "source": [
    "### Quiz mathématique\n",
    "\n",
    "Nous utilisons un tuple avec deux valeurs (a, b) que nous mettons dans un deuxième tuple.\n",
    "Cette fois nous avons pas besoin de donner une solution, car nous pouvons la calculer.\n",
    "\n"
   ]
  },
  {
   "cell_type": "markdown",
   "id": "fe109e62",
   "metadata": {},
   "source": [
    "<h3 style=\"color:teal;background-color:azure;\" > <i class=\"fa fa-pencil\" aria-hidden=\"true\"> </i> &nbsp; Exercice 4 </h3>Ajoutez le score pour ce quiz.\n",
    "\n"
   ]
  },
  {
   "cell_type": "code",
   "execution_count": null,
   "id": "c4dafba3",
   "metadata": {},
   "outputs": [],
   "source": [
    "print('Quiz addition')\n",
    "quiz = ((12, 35), (23, 11), (55, 23))\n",
    "\n",
    "for (a, b) in quiz:\n",
    "    print(a, '+', b, '=')\n",
    "    reponse = int(input())\n",
    "    if reponse == a + b:\n",
    "        print('correct')\n",
    "    else:\n",
    "        print('FAUX. La bonne réponse est', a + b)\n",
    "    print()\n"
   ]
  },
  {
   "cell_type": "markdown",
   "id": "76c7c21e",
   "metadata": {},
   "source": [
    "## Erreurs\n",
    "\n",
    "Dans des chapitres précédents, nous avons déjà vu quelques messages d'erreurs. Mais il y en a d'autres que nous allons voir ici.\n",
    "Il est important de bien comprendre les messages d'erreur.\n",
    "Dans cette section, vous allez découvrir les différentes catégories d'erreur et comment les corriger.\n",
    "\n"
   ]
  },
  {
   "cell_type": "markdown",
   "id": "c58e83ed",
   "metadata": {},
   "source": [
    "### SyntaxError - accents\n",
    "\n",
    "Cette erreur survient lorsque vous utilisez des accents dans des noms de fonctions ou de variables.\n",
    "\n"
   ]
  },
  {
   "cell_type": "markdown",
   "id": "bb33d7ca",
   "metadata": {},
   "source": [
    "<h3 style=\"color:teal;background-color:azure;\" > <i class=\"fa fa-pencil\" aria-hidden=\"true\"> </i> &nbsp; Exercice 5 </h3>Corrigez les trois erreurs de syntaxe'.\n",
    "\n"
   ]
  },
  {
   "cell_type": "code",
   "execution_count": null,
   "id": "a79098e3",
   "metadata": {},
   "outputs": [],
   "source": [
    "from turtle import *\n",
    "\n",
    "def carré():\n",
    "    for à in range(4):\n",
    "        forward(100)\n",
    "        left(90)\n",
    "\n",
    "carré()\n",
    "\n",
    "done()\n"
   ]
  },
  {
   "cell_type": "markdown",
   "id": "57be925c",
   "metadata": {},
   "source": [
    "### SyntaxError - parenthèses\n",
    "\n",
    "Cette erreur survient lorsque vous oubliez de fermer une parenthèse.\n",
    "\n"
   ]
  },
  {
   "cell_type": "markdown",
   "id": "da84d452",
   "metadata": {},
   "source": [
    "<h3 style=\"color:teal;background-color:azure;\" > <i class=\"fa fa-pencil\" aria-hidden=\"true\"> </i> &nbsp; Exercice 6 </h3>Corrigez l'erreur de syntaxe.\n",
    "\n"
   ]
  },
  {
   "cell_type": "code",
   "execution_count": null,
   "id": "3b7d1655",
   "metadata": {},
   "outputs": [],
   "source": [
    "from turtle import *\n",
    "\n",
    "forward(100)\n",
    "left(90)\n",
    "forward(100\n",
    "\n",
    "done()\n"
   ]
  },
  {
   "cell_type": "markdown",
   "id": "c117f95a",
   "metadata": {},
   "source": [
    "### SyntaxError - ponctuation\n",
    "\n",
    "Cette erreur survient lorsque vous oubliez un signe de ponctuation (parenthèse, virgule, apostrophe).\n",
    "\n"
   ]
  },
  {
   "cell_type": "markdown",
   "id": "bcecc2e0",
   "metadata": {},
   "source": [
    "<h3 style=\"color:teal;background-color:azure;\" > <i class=\"fa fa-pencil\" aria-hidden=\"true\"> </i> &nbsp; Exercice 7 </h3>Corrigez les trois erreurs de syntaxe.\n",
    "\n"
   ]
  },
  {
   "cell_type": "code",
   "execution_count": null,
   "id": "8d8a5675",
   "metadata": {},
   "outputs": [],
   "source": [
    "print('hello'\n",
    "print(12 34)\n",
    "print('bonjour)\n"
   ]
  },
  {
   "cell_type": "markdown",
   "id": "b08cda9a",
   "metadata": {},
   "source": [
    "### TypeError\n",
    "\n",
    "Cette erreur survient lorsque vous mettez des opérandes dont le type n'est pas approprié pour l'opérateur, par exemple une comparaison entre une chaîne et un entier.\n",
    "\n"
   ]
  },
  {
   "cell_type": "markdown",
   "id": "7906024d",
   "metadata": {},
   "source": [
    "<h3 style=\"color:teal;background-color:azure;\" > <i class=\"fa fa-pencil\" aria-hidden=\"true\"> </i> &nbsp; Exercice 8 </h3>Corrigez les trois erreurs de type.\n",
    "\n"
   ]
  },
  {
   "cell_type": "code",
   "execution_count": null,
   "id": "423c8065",
   "metadata": {},
   "outputs": [],
   "source": [
    "print('10' > 0)\n",
    "print('10' * '10')\n",
    "print('10' + 10)\n"
   ]
  },
  {
   "cell_type": "markdown",
   "id": "13f2ba6f",
   "metadata": {},
   "source": [
    "## Exercices\n",
    "\n",
    "- Téléchargez l'exercice\n",
    "- Lancez un éditeur externe (tel que Thonny)\n",
    "- Depuis l'éditeur ouvrez le fichier téléchargé\n",
    "- Remplacez ... par votre code\n",
    "- Déposez vos exercices sur Moodle\n",
    "\n"
   ]
  },
  {
   "cell_type": "markdown",
   "id": "e6d3c8b0",
   "metadata": {},
   "source": [
    "### Chatbot\n",
    "\n",
    "Créez un programme qui vous pose des questions\n",
    "\n",
    "- votre nom\n",
    "- votre âge\n",
    "- votre couleur préférée\n",
    "- votre groupe de musique préféré\n",
    "- votre classe\n",
    "- votre meilleur ami\n",
    "\n",
    "À chaque fois le chatbot mémorise votre réponse dans une variable qu'il utilise dans la phrase suivante.\n",
    "\n"
   ]
  },
  {
   "cell_type": "code",
   "execution_count": null,
   "id": "d90e65ce",
   "metadata": {},
   "outputs": [],
   "source": [
    "print('Je suis un chatbot')\n",
    "print('Quel est ton nom ?')\n",
    "nom = input()\n",
    "print('Salut', nom)\n",
    "...\n"
   ]
  },
  {
   "cell_type": "markdown",
   "id": "b514ffa7",
   "metadata": {},
   "source": [
    "### Rectangle\n",
    "\n",
    "Faites un programme qui demande à l'utilisateur les côtés a et b d'un rectangle et calcule ensuite\n",
    "\n",
    "le périmètre\n",
    "\n",
    "$$ p = 2 (a+b) $$\n",
    "\n",
    "la surface\n",
    "\n",
    "$$ S = ab $$\n",
    "\n",
    "et la diagonale\n",
    "\n",
    "$$ d = \\sqrt{a^2 + b^2} $$\n",
    "\n"
   ]
  },
  {
   "cell_type": "code",
   "execution_count": null,
   "id": "0880b7ea",
   "metadata": {},
   "outputs": [],
   "source": [
    "print('Le rectangle')\n",
    "\n",
    "a = float(input('Entrez la longueur a: '))\n",
    "...\n",
    "\n"
   ]
  },
  {
   "cell_type": "markdown",
   "id": "33dfa5ae",
   "metadata": {},
   "source": [
    "### Cercle\n",
    "\n",
    "Faites un programme qui demande à l'utilisateur le rayon d'un cercle et calcule ensuite\n",
    "\n",
    "le diamètre\n",
    "\n",
    "$$ d = 2r $$\n",
    "\n",
    "la circonférence\n",
    "\n",
    "$$ c = 2 \\pi r $$\n",
    "\n",
    "et la surface\n",
    "\n",
    "$$ S = \\pi r^2 $$\n",
    "\n"
   ]
  },
  {
   "cell_type": "code",
   "execution_count": null,
   "id": "78798714",
   "metadata": {},
   "outputs": [],
   "source": [
    "print('Le cercle')\n",
    "\n",
    "r = input('Entrez le rayon r: ')\n",
    "...\n",
    "\n"
   ]
  },
  {
   "cell_type": "markdown",
   "id": "9311795d",
   "metadata": {},
   "source": [
    "### Sphère\n",
    "\n",
    "Faites un programme qui demande à l'utilisateur le rayon d'une sphère et calcule ensuite\n",
    "\n",
    "le diamètre\n",
    "\n",
    "$$ d = 2r $$\n",
    "\n",
    "la surface\n",
    "\n",
    "$$ A = 4 \\pi r^2 $$\n",
    "\n",
    "et le volume\n",
    "\n",
    "$$ V = \\frac{4 \\pi r^3}{3} $$\n",
    "\n"
   ]
  },
  {
   "cell_type": "code",
   "execution_count": null,
   "id": "9bbffc41",
   "metadata": {},
   "outputs": [],
   "source": [
    "print('La sphère')\n",
    "\n",
    "r = input('Entrez le rayon r: ')\n",
    "...\n",
    "\n"
   ]
  },
  {
   "cell_type": "markdown",
   "id": "2c967e76",
   "metadata": {},
   "source": [
    "### Quiz de multiplication\n",
    "\n",
    "Créez un quiz de multiplication.\n",
    "\n",
    "- Complétez pour avoir 10 questions\n",
    "- Corrigez les erreurs\n",
    "- Ajoutez le calcul du score\n",
    "\n"
   ]
  },
  {
   "cell_type": "code",
   "execution_count": null,
   "id": "3382d639",
   "metadata": {},
   "outputs": [],
   "source": [
    "print('Quiz de multiplication')\n",
    "score = 0\n",
    "\n",
    "for (a, b) in ((4, 6), (5, 6)):\n",
    "    print(a, '*', b, '=')\n",
    "    reponse = int(input())\n",
    "    if reponse == a * b:\n",
    "        print('correct')\n",
    "    else:\n",
    "        print('FAUX. La bonne réponse est', a + b)\n",
    "    print()\n",
    "\n",
    "print('Votre score est')\n"
   ]
  },
  {
   "cell_type": "markdown",
   "id": "b1b04182",
   "metadata": {},
   "source": [
    "### Quiz de vocabulaire\n",
    "\n",
    "Créez un quiz de vocabulaire français-anglais.\n",
    "\n",
    "- Complétez pour avoir 10 questions\n",
    "- Corrigez les erreurs\n",
    "- Ajoutez le calcul du score\n",
    "\n"
   ]
  },
  {
   "cell_type": "code",
   "execution_count": null,
   "id": "95b537fa",
   "metadata": {},
   "outputs": [],
   "source": [
    "print('Quiz de vocabulaire anglais')\n",
    "score = 0\n",
    "quiz = (('ordinateur', 'computer'),\n",
    "        ('clavier', 'keyboard'),\n",
    "        ('souris', 'display'))\n",
    "\n",
    "for (question, solution) in quiz:\n",
    "    reponse = input(question + ': ')\n",
    "    if reponse == solution:\n",
    "        print('correct')\n",
    "    else:\n",
    "        print('FAUX. La bonne réponse est', question)\n",
    "    print()\n",
    "\n",
    "print('Votre score est')\n"
   ]
  },
  {
   "cell_type": "markdown",
   "id": "6bd78d36",
   "metadata": {},
   "source": [
    "### Quiz Kahoot\n",
    "\n",
    "La plate-forme d'apprentissage ludique [Kahoot!](https://fr.wikipedia.org/wiki/Kahoot!) est utilisée comme technologie éducative dans les écoles et autres établissements d'enseignement.\n",
    "\n",
    "Ses jeux d’apprentissage, *Kahoots*, sont des questionnaires à choix multiples qui permettent à plusieurs utilisateurs de jouer simultanément. Le site est accessible via un navigateur Web, mais aussi téléchargeable sur smartphone.\n",
    "\n",
    "Créez un quiz avec des questions sur un sujet de culture générale, dans le style des quiz sur le site Kahoot.\n",
    "\n",
    "- Complétez pour avoir 10 questions\n",
    "- Ajoutez le calcul du score\n",
    "\n"
   ]
  },
  {
   "cell_type": "code",
   "execution_count": null,
   "id": "d1ed94ab",
   "metadata": {},
   "outputs": [],
   "source": [
    "print('Quiz Kahoot Disney')\n",
    "print()\n",
    "score = 0\n",
    "\n",
    "quiz = ((\"Quel est le nom du cowboy dans Toy Story\", 'Woody'),\n",
    "        (\"Comment s'appelle le garçon dont le nez grandit quand il ment\", 'Pinocchio'),\n",
    "        (\"Quel est le nom de la fée dans Peter Pan\", 'Tinkerbell'))\n",
    "\n",
    "\n",
    "for (question, solution) in quiz:\n",
    "    print(question + '?')\n",
    "    reponse = input()\n",
    "    if reponse == solution:\n",
    "        ...\n",
    "    else:\n",
    "        ...\n",
    "    print()\n",
    "\n",
    "print('Votre score est', ...)"
   ]
  }
 ],
 "metadata": {
  "kernelspec": {
   "display_name": "Python 3 (ipykernel)",
   "language": "python",
   "name": "python3"
  },
  "language_info": {
   "codemirror_mode": {
    "name": "ipython",
    "version": 3
   },
   "file_extension": ".py",
   "mimetype": "text/x-python",
   "name": "python",
   "nbconvert_exporter": "python",
   "pygments_lexer": "ipython3",
   "version": "3.10.12"
  }
 },
 "nbformat": 4,
 "nbformat_minor": 5
}
