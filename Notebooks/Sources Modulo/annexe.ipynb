{
 "cells": [
  {
   "cell_type": "markdown",
   "id": "059332eb",
   "metadata": {},
   "source": [
    "# Annexes\n",
    "\n",
    "Dans ce chapitre, nous présentons quelques outils pour écrire du code en Python :\n",
    "\n",
    "- console\n",
    "- éditeur geek nano\n",
    "- éditeur simple IDLE\n",
    "- éditeur débutant Thonny\n",
    "- éditeur pro VS Code\n",
    "- éditeur avancé Jupyter Lab\n",
    "\n",
    "Nous montrons également comment configurer l'apparence de la fenêtre du module `turtle` et comment sauvegarder une image en format EPS.\n",
    "\n"
   ]
  },
  {
   "cell_type": "markdown",
   "id": "7c04f2d9",
   "metadata": {},
   "source": [
    "<h3 style=\"color:chocolate;background-color:papayawhip;\" > <i class=\"fa fa-question\" aria-hidden=\"true\"> </i> &nbsp; Quizz </h3> \n",
    " \n",
    "```\n",
    "Un IDE est\n",
    "\n",
    "A) un éditeur d'ID (ID editor en anglais)\n",
    "B) un installateur d'édition\n",
    "C) un environnement de dévelopement intégré\n",
    "D) un éditeur de données intégrale\n",
    "===\n",
    "IDE est l'abbréviation de *Integrated Development Environment*.  Il comporte un éditeur de texte destiné à la programmation, une console, et des boutons pour démarrer le compilateur ou un débogueur.\n",
    "```"
   ]
  },
  {
   "cell_type": "raw",
   "id": "b6c5e5ad",
   "metadata": {},
   "source": [
    "Réponse : \n"
   ]
  },
  {
   "cell_type": "markdown",
   "id": "0500f6ff",
   "metadata": {},
   "source": [
    "## Console\n",
    "\n",
    "Vous pouvez lancer une séance Python directement dans un terminal. Sur un Mac, démarrez l'application **Terminal**. Dans la console qui s'ouvre, tapez `python3`. Ceci ouvre une séance interactive de Python.\n",
    "\n",
    "Après avoir affiché la version de Python (ci-dessous c'est 3.10.0), la console Python affiche un invite (prompt en anglais) qui consiste de 3 chevrons (`>>>`).\n",
    "\n"
   ]
  },
  {
   "cell_type": "markdown",
   "id": "2472b83c",
   "metadata": {},
   "source": [
    "![terminal](https://raw.githubusercontent.com/edunumsec2/book/master/src/appr/prog1/media/terminal.png)\n",
    "\n",
    "Entrez une expression en Python, par exemple `1 + 2`. Appuyez sur la touche `Enter` pour évaluer l'expression et afficher le résultat sur la ligne suivante. Un nouveau invite est alors présenté.\n",
    "\n",
    "Essayez d'entrer une commande multi-ligne, par exemple une boucle `for`. L'invite change alors vers un invite de continuation (`...`). Pour évaluer une séquence multi-ligne, terminez par une ligne vide.\n",
    "\n",
    "Vous ne pouvez pas éditer une expression qui est déjà exécutée. Vous ne pouvez seulement ajouter une nouvelle expression après l'invite (`>>>`) de la dernière ligne.\n",
    "\n"
   ]
  },
  {
   "cell_type": "markdown",
   "id": "9f887d10",
   "metadata": {},
   "source": [
    "![touches flèches](https://raw.githubusercontent.com/edunumsec2/book/master/src/appr/prog1/media/fleches-clavier.png)\n",
    "\n",
    "Par contre vous pouvez utiliser les flèches haut/bas pour accéder à l'historique de vos expressions. Ceci vous permet de réutiliser et modifier des expressions que vous avez déjà utilisées auparavant.\n",
    "\n",
    "Pour quitter tapez la commande `quit()`.\n",
    "\n"
   ]
  },
  {
   "cell_type": "markdown",
   "id": "c2e63b3b",
   "metadata": {},
   "source": [
    "## nano\n",
    "\n",
    "L'éditeur **nano** est un simple éditeur de texte pour Unix, Linux et Mac. Ce n'est pas un IDE. Pour lancer nano depuis la console tapez\n",
    "`nano hello.py`.\n",
    "\n",
    "Ceci ouvre l'éditeur nano avec un nouveau fichier nommé `hello.py`. Entrez alors les deux lignes de code suivant.\n",
    "\n"
   ]
  },
  {
   "cell_type": "markdown",
   "id": "241c2715",
   "metadata": {},
   "source": [
    "![éditeur nano](https://raw.githubusercontent.com/edunumsec2/book/master/src/appr/prog1/media/nano.png)\n",
    "\n",
    "L'éditeur nano utilise la touche `ctrl` pour ses commandes :\n",
    "\n",
    "- appuyez sur `ctrl+O` pour sauvegarder le fichier,\n",
    "- appuyez sur `ctrl+X` pour quitter nano.\n",
    "\n",
    "Ensuite vous pouvez lancer votre programme depuis la console avec\n",
    "`python3 hello.py` qui affiche quelque chose comme ceci :\n",
    "\n",
    "```text\n",
    "Entrez votre nom: Guido\n",
    "bonjour Guido\n",
    "```\n",
    "\n"
   ]
  },
  {
   "cell_type": "markdown",
   "id": "fac9eaf0",
   "metadata": {},
   "source": [
    "## IDLE\n",
    "\n",
    "L'éditeur IDLE est un environnement de développement intégré (IDE) pour Python. Il est entièrement écrit en Python et utilise la bibliothèque graphique Tkinter. Vous pouvez le télécharger depuis le site [python.org](https://www.python.org/downloads/).\n",
    "\n",
    "IDLE signifie *Integrated DeveLopment Environment* (environnement de développement intégré, en français).\n",
    "\n",
    "L'éditeur IDLE\n",
    "\n",
    "- utilise une coloration syntaxique,\n",
    "- propose l'auto-complétion des commandes,\n",
    "- gère automatiquement l'indentation.\n",
    "\n"
   ]
  },
  {
   "cell_type": "markdown",
   "id": "8e1615c1",
   "metadata": {},
   "source": [
    "![console IDLE](https://raw.githubusercontent.com/edunumsec2/book/master/src/appr/prog1/media/IDLE_console.png)\n",
    "\n",
    "L'éditeur IDLE permet également d'éditer un fichier code et de l'exécuter avec la commande **Run > Run Module** (F5).\n",
    "Plusieurs fenêtres de code peuvent être ouvertes simultanément. Vous pouvez les regrouper dans une seule fenêtre avec la commande **Window > Merge All Windows**.\n",
    "\n"
   ]
  },
  {
   "cell_type": "markdown",
   "id": "8c8c8955",
   "metadata": {},
   "source": [
    "![éditeur IDLE](https://raw.githubusercontent.com/edunumsec2/book/master/src/appr/prog1/media/IDLE_editor.png)\n",
    "\n",
    "Dans le menu **Help > Turtle Demo** vous trouvez des exemples programmés avec le module `turtle`. Dans le menu **Exemple** choisissez par exemple `clock` et appuyez sur **Start**.\n",
    "\n"
   ]
  },
  {
   "cell_type": "markdown",
   "id": "31f1ad17",
   "metadata": {},
   "source": [
    "![IDLE démo](https://raw.githubusercontent.com/edunumsec2/book/master/src/appr/prog1/media/IDLE_clock.png)\n",
    "\n",
    "Les avantages par rapport à Thonny:\n",
    "\n",
    "- vous disposez de la dernière version de Python (3.10),\n",
    "- vous pouvez utiliser des émoticônes.\n",
    "\n"
   ]
  },
  {
   "cell_type": "markdown",
   "id": "e2290a36",
   "metadata": {},
   "source": [
    "## Thonny\n",
    "\n",
    "Pour débuter avec Python, nous proposons d'utiliser l'éditeur Thonny, qui a été spécialement conçu pour l'apprentissage de Python. Il peut être téléchargé depuis le site [thonny.org](https://thonny.org) et il est très facile à installer.\n",
    "\n",
    "Comme IDLE, l'éditeur Thonny est aussi entièrement programmé en Python en utilisant l'interface graphique Tkinter.\n",
    "\n"
   ]
  },
  {
   "cell_type": "markdown",
   "id": "5142d85a",
   "metadata": {},
   "source": [
    "![éditeur Thonny](https://raw.githubusercontent.com/edunumsec2/book/master/src/appr/prog1/media/thonny_ide.png)\n",
    "\n",
    "Les avantages de Thonny par rapport à IDLE sont qu'il :\n",
    "\n",
    "- combine éditeur et console,\n",
    "- peut afficher les variables,\n",
    "- peut exécuter les instructions pas-à-pas,\n",
    "- peut programmer l'ordinateur mono-carte micro:bit,\n",
    "- peut installer des modules supplémentaires.\n",
    "\n"
   ]
  },
  {
   "cell_type": "markdown",
   "id": "f371d380",
   "metadata": {},
   "source": [
    "## VS Code\n",
    "\n",
    "Visual Studio Code est un éditeur de code multi-plateforme, open source et gratuit, développé par Microsoft. Vous pouvez le télécharger depuis [code.visualstudio.com](https://code.visualstudio.com).\n",
    "\n",
    "Dans le sondage auprès des développeurs réalisé par Stack Overflow en 2021, Visual Studio Code a été classé comme l'outil d'environnement de développement le plus populaire, avec 71 % des 82 000 répondants déclarant l'utiliser.\n",
    "\n"
   ]
  },
  {
   "cell_type": "markdown",
   "id": "679534f0",
   "metadata": {},
   "source": [
    "![éditeur VS Code](https://raw.githubusercontent.com/edunumsec2/book/master/src/appr/prog1/media/vscode.png)\n",
    "\n"
   ]
  },
  {
   "cell_type": "markdown",
   "id": "7fc5904b",
   "metadata": {},
   "source": [
    "## Jupyter Lab\n",
    "\n",
    "Jupyter Lab est un environnement de programmation qui combine code et document dans un seul document et qui tourne dans un navigateur web. Vous pouvez l'installer facilement depuis Thonny.\n",
    "\n",
    "- Choisissez le menu **Outils > Gérer les paquets...**\n",
    "- Cherchez le module `jupyterlab``\n",
    "- Cliquez sur **Installer**\n",
    "\n"
   ]
  },
  {
   "cell_type": "markdown",
   "id": "c9abcb51",
   "metadata": {},
   "source": [
    "![éditeur Jupyter Lab](https://raw.githubusercontent.com/edunumsec2/book/master/src/appr/prog1/media/jupyterlab_install.png)\n",
    "\n",
    "Ensuite vous devez lancer un serveur Jupyter en local sur votre ordinateur.\n",
    "\n",
    "- Choisissez le menu **Outils > Ouvrir la console du système...**\n",
    "- Tapez `cd`\n",
    "- Tapez `jupyter lab`\n",
    "\n",
    "La commande `cd` (changer directory) vous place dans votre dossier de l'utilisateur (home). La commande `jupyter lab` lance un serveur Jupyter et ouvre une page web à l'adresse `http://localhost:8888/lab`.\n",
    "\n",
    "Vous devez laisser ouvert le terminal, pour pouvoir utiliser Jupyter Lab dans le navigateur.\n",
    "\n",
    "Jupyter Lab est un éditeur qui vous permet d'afficher un navigateur de fichier qui vous permet d'ouvrir et afficher :\n",
    "\n",
    "- des Jupyter notebooks (.ipynb)\n",
    "- des consoles\n",
    "- des données (CSV)\n",
    "- des images (PNG, JPG)\n",
    "\n",
    "Un fichier Jupyter notebook permet de combiner code et documentation. Le notebook est composé de blocs qui peuvent être\n",
    "\n",
    "- documentation (en Markdown)\n",
    "- code (en Python)\n",
    "- résultat\n",
    "\n"
   ]
  },
  {
   "cell_type": "markdown",
   "id": "9e87689b",
   "metadata": {},
   "source": [
    "## Configuration turtle\n",
    "\n",
    "L'apparence de la fenêtre du module `turtle` peut être configuré par un  fichier de configuration.  \n",
    "Vous pouvez télécharger ce fichier et le placer dans le même dossier ou vous gardez vos programmes Python.\n",
    "\n",
    "Comme dans le navigateur web, il met la taille de la fenêtre à 600 x 400 pixels. Le curseur a la forme de tortue (`shape = turtle`) et la couleur de base est indigo, une des couleurs du logo Modulo.\n",
    "\n"
   ]
  },
  {
   "cell_type": "code",
   "execution_count": null,
   "id": "2e9695e8",
   "metadata": {},
   "outputs": [],
   "source": [
    ":static:\n",
    "width = 640\n",
    "height = 440\n",
    "leftright = -1\n",
    "topbottom = 0\n",
    "canvwidth = 600\n",
    "canvheight = 400\n",
    "mode = standard\n",
    "colormode = 1.0\n",
    "delay = 10\n",
    "undobuffersize = 1000\n",
    "shape = turtle\n",
    "pencolor = indigo\n",
    "fillcolor = white\n",
    "resizemode = noresize\n",
    "visible = True\n",
    "language = english\n",
    "exampleturtle = turtle\n",
    "examplescreen = screen\n",
    "title = Modulo - Programmation\n",
    "using_IDLE = False\n"
   ]
  },
  {
   "cell_type": "markdown",
   "id": "7bf9d1eb",
   "metadata": {},
   "source": [
    "## Exporter en EPS\n",
    "\n",
    "Pour exporter un dessin en format EPS (Encapsulated PostScript) il suffit de copier les 2 lignes ci-dessous à la fin de votre code. Remplacez `fichier.eps` par le nom de votre fichier, par exemple `rubik.eps`.\n",
    "\n",
    "```python\n",
    "from tkinter import * \n",
    "Screen().getcanvas().postscript(file='fichier.eps')\n",
    "```\n",
    "\n"
   ]
  },
  {
   "cell_type": "markdown",
   "id": "db2b8eca",
   "metadata": {},
   "source": [
    "## Exporter en JPG ou PNG\n",
    "\n",
    "Sur un Mac un document en format EPS s'ouvre avec le programme Aperçu. Vous pouvez facilement exporter l'image sous un autre format.\n",
    "\n",
    "- Choisissez le menu **Fichier > Exporter…**\n",
    "- Sélectionnez le format : JPEG, TIFF ou PNG\n",
    "- Choisissez la qualité (entre minimale/maximale)\n",
    "- Choisissez la résolution (pixels/pouce)\n",
    "\n"
   ]
  },
  {
   "cell_type": "markdown",
   "id": "a07eb618",
   "metadata": {},
   "source": [
    "![exporter en JPG](https://raw.githubusercontent.com/edunumsec2/book/master/src/appr/prog1/media/eps_jpg.png)\n",
    "\n"
   ]
  },
  {
   "cell_type": "markdown",
   "id": "94088d04",
   "metadata": {},
   "source": [
    "## Créer un fond d'écran\n",
    "\n",
    "Un écran HD (High définition) a une résolution de 1920 x 1080 pixels.\n",
    "Avec la tortue nous allons d'abord créer une image avec la moitié de cette résolution qui est 960 x 540 pixels.\n",
    "L'expérience montre qu'il faut ajouter 2-3 pixels et donc viser une taille de 963 x 542 pixels.\n",
    "\n",
    "Ajoutez au début du programme cette ligne.\n",
    "\n",
    "```python\n",
    "Screen().setup(width=963, height=542, startx=0, starty=0)\n",
    "```\n",
    "\n",
    "Ajoutez à la fin du programme ces lignes\n",
    "\n",
    "```python\n",
    "from tkinter import * \n",
    "Screen().getcanvas().postscript(file='wallpaper.eps')\n",
    "done()\n",
    "```\n",
    "\n",
    "Avec Aperçu ouvrez le fichier `wallpaper.eps`.\n",
    "Doublez la résolution de 72 à 144 pixels/pouce\n",
    "\n"
   ]
  },
  {
   "cell_type": "markdown",
   "id": "3af4be46",
   "metadata": {},
   "source": [
    "![exporter en PNG](https://raw.githubusercontent.com/edunumsec2/book/master/src/appr/prog1/media/eps_png.png)\n",
    "\n",
    "Ceci donne comme résultat un fichier PNG avec une résolution de 1920 x 1080 pixels.\n"
   ]
  }
 ],
 "metadata": {
  "kernelspec": {
   "display_name": "Python 3 (ipykernel)",
   "language": "python",
   "name": "python3"
  },
  "language_info": {
   "codemirror_mode": {
    "name": "ipython",
    "version": 3
   },
   "file_extension": ".py",
   "mimetype": "text/x-python",
   "name": "python",
   "nbconvert_exporter": "python",
   "pygments_lexer": "ipython3",
   "version": "3.10.12"
  }
 },
 "nbformat": 4,
 "nbformat_minor": 5
}
