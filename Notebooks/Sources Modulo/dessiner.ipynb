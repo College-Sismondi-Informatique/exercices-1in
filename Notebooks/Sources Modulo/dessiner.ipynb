{
 "cells": [
  {
   "cell_type": "markdown",
   "id": "0-4a42e0",
   "metadata": {},
   "source": [
    "<div style=\"padding:20px;background-color:papayawhip;\" > \n",
    "<h3 style=\"color:chocolate\"> <i class=\"fa fa-info\" aria-hidden=\"true\"> </i> &nbsp; Remarque introductive &nbsp;  <i class=\"fa fa-info\" aria-hidden=\"true\"></h3> \n",
    "<p> Ce fichier est fait pour être lu sur le site <a href=\"https://notebook.basthon.fr/\"><img src='https://notebook.basthon.fr/assets/efede5218c9087496f16.png' style=\"border: 0; display:inline; margin: 0 5px; height:30px\" alt=\"Basthon\"/></a>. <br>\n",
    "    \n",
    "Si vous l'avez ouvert avec un autre programme, comme Jupyter notebook, vous riquez de rencontrer quelques bugs. <br>\n",
    "Veuillez cliquez sur <a href=\"https://notebook.basthon.fr/\">ce lien</a> et y charger ce fichier à l'aide du bouton \"Ouvrir\"  &nbsp; <i class=\"fa fa-folder\" aria-hidden=\"true\"> </i>\n",
    "</p> </div>    "
   ]
  },
  {
   "cell_type": "markdown",
   "id": "1-51b5cb",
   "metadata": {},
   "source": [
    "# Dessiner - `forward()`\n",
    "\n",
    "Dans ce chapitre, nous explorons ce que c'est un programme et nous prenons\n",
    " l'exemple du dessin. Ici, un programme est une séquence d'instructions pour dessiner une image.\n",
    "\n",
    "Allons de l'avant (forward) avec la programmation. Nous allons voir que :\n",
    "\n",
    "- l'expression `from turtle import *` met à disposition les fonctions de dessin,\n",
    "- les instructions `forward()`, `backward()` permettent de tracer une ligne,\n",
    "- les instructions `left()`, `right()` permettent de changer de direction.\n",
    "\n"
   ]
  },
  {
   "cell_type": "markdown",
   "id": "2-9264b5",
   "metadata": {},
   "source": [
    "<h3 style=\"color:chocolate;background-color:papayawhip;\" > <i class=\"fa fa-question\" aria-hidden=\"true\"> </i> &nbsp; Quizz </h3> \n",
    " \n",
    "```\n",
    "Un programme informatique est\n",
    "\n",
    "A) une instruction de séquence\n",
    "B) une séquence d'instructions\n",
    "C) un algorithme\n",
    "D) une recette de cuisine\n",
    "===\n",
    "Un algorithme est la description générale des étapes de résolution d'un problème. Il peut être traduit en un programme informatique.\n",
    "```"
   ]
  },
  {
   "cell_type": "raw",
   "id": "3-770ee9",
   "metadata": {},
   "source": [
    "Ma réponse : "
   ]
  },
  {
   "cell_type": "markdown",
   "id": "4-92ab47",
   "metadata": {},
   "source": [
    "<details>\n",
    "<summary style=\"border-left:3px solid #3c763d; border-radius:2pt; width:100%; color:#3c763d; padding:6px; background-color: #dff0d8\"> \n",
    "Réponse\n",
    "</summary>  \n",
    "\n",
    "<div style=\"border-left:3px solid #3c763d; border-radius:2pt; color:#3c763d; padding:6px; background-color: #eff0e8\">B) une séquence d'instructions\n",
    "</div>\n",
    "</details>\n",
    "                \n"
   ]
  },
  {
   "cell_type": "markdown",
   "id": "5-0d814d",
   "metadata": {},
   "source": [
    "## Le module `turtle`\n",
    "\n",
    "Dans le langage de programmation Python, le module `turtle` (signifiant tortue en anglais) présente une façon sympathique pour faire des dessins. C'est pour cela que nous commençons notre aventure de programmation avec cet animal qui avance tout doucement à son propre rythme.\n",
    "\n",
    "On s'imagine une tortue qui se déplace sur un canevas et laisse une trace.\n",
    "\n",
    "Ci-dessous, vous trouvez notre premier programme de trois lignes :\n",
    "\n",
    "- dans la première ligne, nous importons toutes (`*`) les fonctions du module `turtle`,\n",
    "- avec `shape('turtle')`, nous affichons une tortue (au lieu de la flèche),\n",
    "- avec `forward(150)`, nous faisons avancer la tortue de 150 pixels.\n",
    "\n"
   ]
  },
  {
   "cell_type": "markdown",
   "id": "6-fef741",
   "metadata": {},
   "source": [
    "<h3 style=\"color:teal;background-color:azure;\" > <i class=\"fa fa-pencil\" aria-hidden=\"true\"> </i> &nbsp; Exercice 1 </h3>Ajoutez d'autres instructions telles que `backward()`, `left()` et `right()` pour faire un dessin.\n",
    "\n"
   ]
  },
  {
   "cell_type": "code",
   "execution_count": null,
   "id": "7-9f6990",
   "metadata": {},
   "outputs": [],
   "source": [
    "from turtle import *\n",
    "\n",
    "shape('turtle')\n",
    "forward(150)\n",
    "\n",
    "done()\n"
   ]
  },
  {
   "cell_type": "markdown",
   "id": "8-439896",
   "metadata": {},
   "source": [
    "<h3 style=\"color:chocolate;background-color:papayawhip;\" > <i class=\"fa fa-question\" aria-hidden=\"true\"> </i> &nbsp; Quizz </h3> \n",
    " \n",
    "```\n",
    "En Python, `turtle` est\n",
    "\n",
    "A) un module standard\n",
    "B) un éditeur de dessin\n",
    "C) une tortue\n",
    "D) une commande\n",
    "===\n",
    "Le module `turtle` fait partie de la distribution standard de Python. Nous le trouvons donc inclus avec Python sur toutes les plateformes.\n",
    "```"
   ]
  },
  {
   "cell_type": "raw",
   "id": "9-770ee9",
   "metadata": {},
   "source": [
    "Ma réponse : "
   ]
  },
  {
   "cell_type": "markdown",
   "id": "10-c940ef",
   "metadata": {},
   "source": [
    "<details>\n",
    "<summary style=\"border-left:3px solid #3c763d; border-radius:2pt; width:100%; color:#3c763d; padding:6px; background-color: #dff0d8\"> \n",
    "Réponse\n",
    "</summary>  \n",
    "\n",
    "<div style=\"border-left:3px solid #3c763d; border-radius:2pt; color:#3c763d; padding:6px; background-color: #eff0e8\">A) un module standard\n",
    "</div>\n",
    "</details>\n",
    "                \n",
    "La tortue peut se déplacer et dessiner une trace avec les 4 fonctions:\n",
    "\n",
    "- `forward(d)` pour avancer d'une distance `d` (en pixels)\n",
    "- `backward(d)` pour reculer\n",
    "- `left(a)` pour tourner à gauche d'un angle `a` (en degrés)\n",
    "- `right(a)` pour tourner à droite\n",
    "\n"
   ]
  },
  {
   "cell_type": "markdown",
   "id": "11-78ee6c",
   "metadata": {},
   "source": [
    "## Le canevas\n",
    "\n",
    "Au départ, la tortue se trouve au centre d'une zone rectangulaire appelée _canevas_.  Ce rectangle a les propriétés suivantes :\n",
    "\n",
    "- l'origine (0, 0) se trouve au centre,\n",
    "- l'axe horizontal x, s'étend de -300 à +300 (à droite),\n",
    "- l'axe vertical y, s'étend de -200 à +200 (en haut).\n",
    "\n"
   ]
  },
  {
   "cell_type": "markdown",
   "id": "12-8dc200",
   "metadata": {},
   "source": [
    "<h3 style=\"color:teal;background-color:azure;\" > <i class=\"fa fa-pencil\" aria-hidden=\"true\"> </i> &nbsp; Exercice 2 </h3>Ajoutez une instruction dans le code ci-dessous pour mener la tortue tout en bas du canevas. Ensuite, ajoutez une diagonale.\n",
    "\n"
   ]
  },
  {
   "cell_type": "code",
   "execution_count": null,
   "id": "13-12f36d",
   "metadata": {},
   "outputs": [],
   "source": [
    "from turtle import *\n",
    "\n",
    "shape('turtle')\n",
    "forward(300)\n",
    "backward(600)\n",
    "forward(300)\n",
    "\n",
    "left(90)\n",
    "forward(200)\n",
    "\n",
    "done()\n"
   ]
  },
  {
   "cell_type": "markdown",
   "id": "14-f71815",
   "metadata": {},
   "source": [
    "<h3 style=\"color:chocolate;background-color:papayawhip;\" > <i class=\"fa fa-question\" aria-hidden=\"true\"> </i> &nbsp; Quizz </h3> \n",
    " \n",
    "```\n",
    "La largeur de la zone de dessin de la tortue est\n",
    "\n",
    "A) 200 pixels\n",
    "B) 400 pixels\n",
    "C) 600 pixels\n",
    "D) 800 pixels\n",
    "```"
   ]
  },
  {
   "cell_type": "raw",
   "id": "15-770ee9",
   "metadata": {},
   "source": [
    "Ma réponse : "
   ]
  },
  {
   "cell_type": "markdown",
   "id": "16-003e08",
   "metadata": {},
   "source": [
    "<details>\n",
    "<summary style=\"border-left:3px solid #3c763d; border-radius:2pt; width:100%; color:#3c763d; padding:6px; background-color: #dff0d8\"> \n",
    "Réponse\n",
    "</summary>  \n",
    "\n",
    "<div style=\"border-left:3px solid #3c763d; border-radius:2pt; color:#3c763d; padding:6px; background-color: #eff0e8\">C) 600 pixels\n",
    "</div>\n",
    "</details>\n",
    "                \n"
   ]
  },
  {
   "cell_type": "markdown",
   "id": "17-231264",
   "metadata": {},
   "source": [
    "## Une séquence\n",
    "\n",
    "Un programme est une séquence d'instructions. Le bloc de 8 instructions ci-dessous indique comment dessiner un carré. La tortue doit avancer, tourner, avancer, tourner, etc.\n",
    "\n"
   ]
  },
  {
   "cell_type": "markdown",
   "id": "18-4e95af",
   "metadata": {},
   "source": [
    "<h3 style=\"color:teal;background-color:azure;\" > <i class=\"fa fa-pencil\" aria-hidden=\"true\"> </i> &nbsp; Exercice 3 </h3>Modifiez ce code pour en faire un rectangle, au lieu d'un carré.\n",
    "\n"
   ]
  },
  {
   "cell_type": "code",
   "execution_count": null,
   "id": "19-d1fdfe",
   "metadata": {},
   "outputs": [],
   "source": [
    "from turtle import *\n",
    "\n",
    "forward(100)\n",
    "left(90)\n",
    "forward(100)\n",
    "left(90)\n",
    "forward(100)\n",
    "left(90)\n",
    "forward(100)\n",
    "left(90)\n",
    "\n",
    "done()\n"
   ]
  },
  {
   "cell_type": "markdown",
   "id": "20-0d906f",
   "metadata": {},
   "source": [
    "<h3 style=\"color:chocolate;background-color:papayawhip;\" > <i class=\"fa fa-question\" aria-hidden=\"true\"> </i> &nbsp; Quizz </h3> \n",
    " \n",
    "```\n",
    "Une séquence d'instructions d'un bloc est exécutée\n",
    "\n",
    "A) selon la priorité\n",
    "B) simultanément\n",
    "C) dans l'ordre\n",
    "D) aléatoirement\n",
    "```"
   ]
  },
  {
   "cell_type": "raw",
   "id": "21-770ee9",
   "metadata": {},
   "source": [
    "Ma réponse : "
   ]
  },
  {
   "cell_type": "markdown",
   "id": "22-2e4f31",
   "metadata": {},
   "source": [
    "<details>\n",
    "<summary style=\"border-left:3px solid #3c763d; border-radius:2pt; width:100%; color:#3c763d; padding:6px; background-color: #dff0d8\"> \n",
    "Réponse\n",
    "</summary>  \n",
    "\n",
    "<div style=\"border-left:3px solid #3c763d; border-radius:2pt; color:#3c763d; padding:6px; background-color: #eff0e8\">C) dans l'ordre\n",
    "</div>\n",
    "</details>\n",
    "                \n"
   ]
  },
  {
   "cell_type": "markdown",
   "id": "23-8f92fd",
   "metadata": {},
   "source": [
    "## Épaisseur de ligne\n",
    "\n",
    "La fonction `width(d)` (épaisseur en anglais) permet de définir l'épaisseur de la ligne.\n",
    "Voici un triangle où chaque côté a une épaisseur différente.\n",
    "\n"
   ]
  },
  {
   "cell_type": "markdown",
   "id": "24-506795",
   "metadata": {},
   "source": [
    "<h3 style=\"color:teal;background-color:azure;\" > <i class=\"fa fa-pencil\" aria-hidden=\"true\"> </i> &nbsp; Exercice 4 </h3>Explorez différentes épaisseurs de ligne.\n",
    "\n"
   ]
  },
  {
   "cell_type": "code",
   "execution_count": null,
   "id": "25-fddaa3",
   "metadata": {},
   "outputs": [],
   "source": [
    "from turtle import *\n",
    "\n",
    "forward(200)\n",
    "left(120)\n",
    "\n",
    "width(5)\n",
    "forward(200)\n",
    "left(120)\n",
    "\n",
    "width(10)\n",
    "forward(200)\n",
    "\n",
    "done()\n"
   ]
  },
  {
   "cell_type": "markdown",
   "id": "26-7addc0",
   "metadata": {},
   "source": [
    "## Maison avec toit\n",
    "\n",
    "Nous dessinons une maison et marquons le toit par une ligne plus épaisse.\n",
    "\n"
   ]
  },
  {
   "cell_type": "markdown",
   "id": "27-03bcab",
   "metadata": {},
   "source": [
    "<h3 style=\"color:teal;background-color:azure;\" > <i class=\"fa fa-pencil\" aria-hidden=\"true\"> </i> &nbsp; Exercice 5 </h3>Doublez l'épaisseur du toit. Ensuite, doublez la hauteur de la maison.\n",
    "\n"
   ]
  },
  {
   "cell_type": "code",
   "execution_count": null,
   "id": "28-b0ca38",
   "metadata": {},
   "outputs": [],
   "source": [
    "from turtle import *\n",
    "\n",
    "forward(100)\n",
    "left(90)\n",
    "forward(60)\n",
    "left(45)\n",
    "width(5)\n",
    "forward(71)\n",
    "left(90)\n",
    "forward(71)\n",
    "width(1)\n",
    "left(45)\n",
    "forward(60)\n",
    "left(90)\n",
    "\n",
    "done()\n"
   ]
  },
  {
   "cell_type": "markdown",
   "id": "29-ad08f7",
   "metadata": {},
   "source": [
    "## Raquette de ping-pong\n",
    "\n",
    "L'épaisseur de ligne est très utile dans le dessin.\n",
    "\n"
   ]
  },
  {
   "cell_type": "markdown",
   "id": "30-0cdd2c",
   "metadata": {},
   "source": [
    "<h3 style=\"color:teal;background-color:azure;\" > <i class=\"fa fa-pencil\" aria-hidden=\"true\"> </i> &nbsp; Exercice 6 </h3>Transformez la raquette de ping-pong en haltères de musculation.\n",
    "\n"
   ]
  },
  {
   "cell_type": "code",
   "execution_count": null,
   "id": "31-4a4fd1",
   "metadata": {},
   "outputs": [],
   "source": [
    "from turtle import *\n",
    "\n",
    "width(20)\n",
    "forward(100)\n",
    "width(80)\n",
    "forward(20)\n",
    "\n",
    "done()\n"
   ]
  },
  {
   "cell_type": "markdown",
   "id": "32-96d403",
   "metadata": {},
   "source": [
    "## Lunettes de soleil\n",
    "\n",
    "Voici encore un exemple où, avec un simple changement d'épaisseur, vous obtenez un effet très intéressant.\n",
    "\n"
   ]
  },
  {
   "cell_type": "markdown",
   "id": "33-1b39bc",
   "metadata": {},
   "source": [
    "<h3 style=\"color:teal;background-color:azure;\" > <i class=\"fa fa-pencil\" aria-hidden=\"true\"> </i> &nbsp; Exercice 7 </h3>Ajoutez la première branche qui manque.\n",
    "\n"
   ]
  },
  {
   "cell_type": "code",
   "execution_count": null,
   "id": "34-778558",
   "metadata": {},
   "outputs": [],
   "source": [
    "from turtle import *\n",
    "\n",
    "width(50)\n",
    "forward(20)\n",
    "width(10)\n",
    "forward(60)\n",
    "width(50)\n",
    "forward(20)\n",
    "width(10)\n",
    "forward(40)\n",
    "left(45)\n",
    "forward(60)\n",
    "\n",
    "done()\n"
   ]
  },
  {
   "cell_type": "markdown",
   "id": "35-505c48",
   "metadata": {},
   "source": [
    "## Commentaire\n",
    "\n",
    "Le symbole `#` indique un commentaire. Sur le Mac vous pouvez l'insérer avec **opt+3** ou **alt+3**.\n",
    "Un commentaire permet d'ajouter une explication pour le lecteur humain. Il n'a aucune influence sur le programme. Python ignore tout simplement tout commentaire.\n",
    "\n"
   ]
  },
  {
   "cell_type": "markdown",
   "id": "36-3f368a",
   "metadata": {},
   "source": [
    "<h3 style=\"color:teal;background-color:azure;\" > <i class=\"fa fa-pencil\" aria-hidden=\"true\"> </i> &nbsp; Exercice 8 </h3>Expliquez dans chaque ligne ce que fait l'instruction.\n",
    "\n"
   ]
  },
  {
   "cell_type": "code",
   "execution_count": null,
   "id": "37-346d9a",
   "metadata": {},
   "outputs": [],
   "source": [
    "from turtle import *\n",
    "\n",
    "width(50)       # mettre l'épaisseur du trait à 50\n",
    "forward(20)     # avancer de 20 pas\n",
    "width(10)\n",
    "forward(60)\n",
    "width(50)\n",
    "forward(20)\n",
    "width(10)\n",
    "forward(40)\n",
    "left(45)\n",
    "forward(60)\n",
    "\n",
    "done()\n"
   ]
  },
  {
   "cell_type": "markdown",
   "id": "38-11597e",
   "metadata": {},
   "source": [
    "L'exercice précédent servait à expliciter pour un débutant en programmation la signification des commandes écrites en anglais. Normalement on ne fait pas ça, car un programmeur est censé connaitre la signification des commandes.\n",
    "\n",
    "Les commentaires servent à expliciter la vraie signification d'une partie du programme.\n",
    "\n"
   ]
  },
  {
   "cell_type": "markdown",
   "id": "39-2d60ce",
   "metadata": {},
   "source": [
    "<h3 style=\"color:teal;background-color:azure;\" > <i class=\"fa fa-pencil\" aria-hidden=\"true\"> </i> &nbsp; Exercice 9 </h3>Expliquez cette fois ce que dessine chaque partie du programme (verre, pont, verre, charnière, branche).\n",
    "\n"
   ]
  },
  {
   "cell_type": "code",
   "execution_count": null,
   "id": "40-0ff6b1",
   "metadata": {},
   "outputs": [],
   "source": [
    "from turtle import *\n",
    "\n",
    "width(50)       # dessiner le premier verre\n",
    "forward(20)\n",
    "width(10)       # dessiner le pont (nez)\n",
    "forward(60)\n",
    "width(50)\n",
    "forward(20)\n",
    "width(10)\n",
    "forward(40)\n",
    "left(45)\n",
    "forward(60)\n",
    "\n",
    "done()\n"
   ]
  },
  {
   "cell_type": "markdown",
   "id": "41-6046c4",
   "metadata": {},
   "source": [
    "## Équivalence\n",
    "\n",
    "La tortue possède 4 fonctions de déplacement, mais à strictement parler, on pourrait s'en sortir avec seulement deux fonctions, `forward()` et `left()`, car :\n",
    "\n",
    "- `backward(d)` est équivalent à `forward(-d)`\n",
    "- `right(a)` est équivalent à `left(-a)`\n",
    "\n",
    "Dans le programme ci-dessous, les 4 lignes du deuxième bloc sont équivalentes aux 4 instructions du premier bloc et donnent un résultat identique.\n",
    "\n"
   ]
  },
  {
   "cell_type": "markdown",
   "id": "42-2e3df7",
   "metadata": {},
   "source": [
    "<h3 style=\"color:teal;background-color:azure;\" > <i class=\"fa fa-pencil\" aria-hidden=\"true\"> </i> &nbsp; Exercice 10 </h3>Expliquez avec un commentaire ce que font les 2 dernières lignes.\n",
    "\n"
   ]
  },
  {
   "cell_type": "code",
   "execution_count": null,
   "id": "43-0b1e3e",
   "metadata": {},
   "outputs": [],
   "source": [
    "from turtle import *\n",
    "\n",
    "forward(160)\n",
    "left(90)\n",
    "forward(100)\n",
    "left(90)\n",
    "\n",
    "backward(-160)  # équivalent à forward(160)\n",
    "right(-90)      # équivalent à left(90)\n",
    "backward(-100)\n",
    "right(-90)\n",
    "\n",
    "done()\n"
   ]
  },
  {
   "cell_type": "markdown",
   "id": "44-a8f9bb",
   "metadata": {},
   "source": [
    "<h3 style=\"color:chocolate;background-color:papayawhip;\" > <i class=\"fa fa-question\" aria-hidden=\"true\"> </i> &nbsp; Quizz </h3> \n",
    " \n",
    "```\n",
    "L'expression `left(90)` est équivalent à\n",
    "\n",
    "A) right(-90)\n",
    "B) right(180)\n",
    "C) left(180)\n",
    "D) left(-90)\n",
    "```"
   ]
  },
  {
   "cell_type": "raw",
   "id": "45-770ee9",
   "metadata": {},
   "source": [
    "Ma réponse : "
   ]
  },
  {
   "cell_type": "markdown",
   "id": "46-30b893",
   "metadata": {},
   "source": [
    "<details>\n",
    "<summary style=\"border-left:3px solid #3c763d; border-radius:2pt; width:100%; color:#3c763d; padding:6px; background-color: #dff0d8\"> \n",
    "Réponse\n",
    "</summary>  \n",
    "\n",
    "<div style=\"border-left:3px solid #3c763d; border-radius:2pt; color:#3c763d; padding:6px; background-color: #eff0e8\">A) right(-90)\n",
    "</div>\n",
    "</details>\n",
    "                \n"
   ]
  },
  {
   "cell_type": "markdown",
   "id": "47-b85c2d",
   "metadata": {},
   "source": [
    "## Éditeur\n",
    "\n",
    "Jusqu'à maintenant, nous avons exécuté nos petits programmes ici dans cette page web. Malheureusement, ces programmes disparaissent quand nous rechargeons la page. Pour pouvoir les sauvegarder et programmer indépendamment de ce site web, nous avons besoin d'un éditeur de Python externe.\n",
    "\n",
    "Nous vous proposons d'utiliser [Thonny](https://thonny.org), qui est un logiciel libre, facile à installer, et un excellent éditeur pour débuter avec Python. Essayez de faire ceci :\n",
    "\n",
    "1. Ouvrez l'éditeur Thonny\n",
    "1. Écrivez le code pour dessiner une maison\n",
    "1. Sauvegardez le programme sous `maison.py`\n",
    "1. Exécutez le programme\n",
    "\n"
   ]
  },
  {
   "cell_type": "markdown",
   "id": "48-73544a",
   "metadata": {},
   "source": [
    "<img src=\"https://raw.githubusercontent.com/edunumsec2/book/master/src/appr/prog1/media/thonny.png\" alt=\"media/thonny.png\" width=\"200\"/>"
   ]
  },
  {
   "cell_type": "markdown",
   "id": "49-1e8cbe",
   "metadata": {},
   "source": [
    "\n",
    " \n",
    "\n",
    "Quand vous utilisez le module `turtle` avec Thonny, ajoutez toujours la fonction `done()` comme dernière ligne de code, pour que vous puissiez quitter le programme.\n",
    "\n"
   ]
  },
  {
   "cell_type": "markdown",
   "id": "50-edffe5",
   "metadata": {},
   "source": [
    "## Exercices\n",
    "\n",
    "- Téléchargez un exercice.\n",
    "- Ouvrez-le dans un éditeur externe (tel que Thonny).\n",
    "- Mettez votre prénom, nom et classe.\n",
    "- Remplacez `...` par votre code.\n",
    "- Déposez votre exercice sur Moodle (ou plateforme équivalente).\n",
    "\n"
   ]
  },
  {
   "cell_type": "markdown",
   "id": "51-389652",
   "metadata": {},
   "source": [
    "### Rectangle\n",
    "\n",
    "Dessinez un rectangle.\n",
    "\n"
   ]
  },
  {
   "cell_type": "code",
   "execution_count": null,
   "id": "52-d7eec9",
   "metadata": {},
   "outputs": [],
   "source": [
    "from turtle import *\n",
    "# Prénom Nom, classe\n",
    "\n",
    "forward(200)\n",
    "...\n",
    "done()\n"
   ]
  },
  {
   "cell_type": "markdown",
   "id": "53-ca002d",
   "metadata": {},
   "source": [
    "### Triangle\n",
    "\n",
    "Dessinez un triangle.\n",
    "\n"
   ]
  },
  {
   "cell_type": "code",
   "execution_count": null,
   "id": "54-d7eec9",
   "metadata": {},
   "outputs": [],
   "source": [
    "from turtle import *\n",
    "# Prénom Nom, classe\n",
    "\n",
    "forward(200)\n",
    "...\n",
    "done()\n"
   ]
  },
  {
   "cell_type": "markdown",
   "id": "55-9f73e1",
   "metadata": {},
   "source": [
    "### Hexagone\n",
    "\n",
    "Dessinez un hexagone.\n",
    "\n"
   ]
  },
  {
   "cell_type": "code",
   "execution_count": null,
   "id": "56-d4e849",
   "metadata": {},
   "outputs": [],
   "source": [
    "from turtle import *\n",
    "# Prénom Nom, classe\n",
    "\n",
    "forward(100)\n",
    "...\n",
    "done()\n"
   ]
  },
  {
   "cell_type": "markdown",
   "id": "57-9c5bf3",
   "metadata": {},
   "source": [
    "### Chaise\n",
    "\n",
    "Dessinez une chaise.\n",
    "\n"
   ]
  },
  {
   "cell_type": "code",
   "execution_count": null,
   "id": "58-388e88",
   "metadata": {},
   "outputs": [],
   "source": [
    "from turtle import *\n",
    "# Prénom Nom, classe\n",
    "\n",
    "left(90)\n",
    "forward(100)\n",
    "...\n",
    "done()\n"
   ]
  },
  {
   "cell_type": "markdown",
   "id": "59-19f888",
   "metadata": {},
   "source": [
    "### Table\n",
    "\n",
    "Dessinez une table.\n",
    "\n"
   ]
  },
  {
   "cell_type": "code",
   "execution_count": null,
   "id": "60-388e88",
   "metadata": {},
   "outputs": [],
   "source": [
    "from turtle import *\n",
    "# Prénom Nom, classe\n",
    "\n",
    "left(90)\n",
    "forward(100)\n",
    "...\n",
    "done()\n"
   ]
  },
  {
   "cell_type": "markdown",
   "id": "61-19782e",
   "metadata": {},
   "source": [
    "### Lit\n",
    "\n",
    "Dessinez un lit.\n",
    "\n"
   ]
  },
  {
   "cell_type": "code",
   "execution_count": null,
   "id": "62-388e88",
   "metadata": {},
   "outputs": [],
   "source": [
    "from turtle import *\n",
    "# Prénom Nom, classe\n",
    "\n",
    "left(90)\n",
    "forward(100)\n",
    "...\n",
    "done()\n"
   ]
  },
  {
   "cell_type": "markdown",
   "id": "63-8e1dc8",
   "metadata": {},
   "source": [
    "### TP\n",
    "\n",
    "Téléchargez le fichier ci-dessous et utilisez-le comme base de départ pour votre travail pratique.\n",
    "\n"
   ]
  },
  {
   "cell_type": "code",
   "execution_count": null,
   "id": "64-154c50",
   "metadata": {},
   "outputs": [],
   "source": [
    "\"\"\"\n",
    "tp1 - introduction\n",
    "\n",
    "Nom :\n",
    "Classe :\n",
    "Date :\n",
    "\n",
    "- installez Thonny chez vous\n",
    "- nommez ce fichier : tp1_classe_prenom.py (minuscules, sans accents)\n",
    "- ajoutez 100+ ligne de code pour faire un dessin concrèt\n",
    "- ajoutez des commentaires qui expliquent les éléments du dessin\n",
    "- exéctutez le code et montrez l'image\n",
    "- prenez une capture d'écran entier,\n",
    "    qui montre la fênetre code et la fenêtre dessin sans être superposée\n",
    "- Déposez sur Moodle :\n",
    "    tp1_classe_prenom.py     (code)\n",
    "    tp1_classe_preneom.jpg   (capture d'écran en format JPG)\n",
    "\"\"\"\n",
    "\n",
    "from turtle import *\n",
    "\n",
    "# mettez votre code ici !\n",
    "forward(100)\n",
    "\n",
    "done()"
   ]
  },
  {
   "cell_type": "markdown",
   "id": "65-cebd46",
   "metadata": {},
   "source": [
    "---\n",
    "\n",
    "#### Remarque générale\n",
    "\n",
    "Ce document est une adaptation d'un ressource pédagogique tiré du catalogue modulo https://modulo-info.ch/. Il est sous license Creative Commons [BY-NC-SA](https://creativecommons.org/licenses/?lang=fr)\n",
    "![Licence Creative Commons](https://i.creativecommons.org/l/by-nc-sa/4.0/88x31.png)\n",
    "\n",
    "    "
   ]
  }
 ],
 "metadata": {
  "kernelspec": {
   "display_name": "Python 3 (ipykernel)",
   "language": "python",
   "name": "python3"
  },
  "language_info": {
   "codemirror_mode": {
    "name": "ipython",
    "version": 3
   },
   "file_extension": ".py",
   "mimetype": "text/x-python",
   "name": "python",
   "nbconvert_exporter": "python",
   "pygments_lexer": "ipython3",
   "version": "3.10.12"
  }
 },
 "nbformat": 4,
 "nbformat_minor": 5
}
