{
 "cells": [
  {
   "cell_type": "markdown",
   "id": "6518fe4a",
   "metadata": {},
   "source": [
    "# Randomiser - `random`\n",
    "\n",
    "Dans ce chapitre, nous verrons comment un programme peut introduire un élément aléatoire dans un calcul ou dans un raisonnement. Ceci est très important pour programmer certains jeux. Nous allons voir que :\n",
    "\n",
    "- la fonction `random()` renvoie une valeur aléatoire dans l'intervalle [0, 1],\n",
    "- la fonction `randint(a, b)` renvoie un entier aléatoire dans l'intervalle [a, b],\n",
    "- la fonction `shuffle(liste)` fait une permutation aléatoire des éléments d'une liste.\n",
    "\n"
   ]
  },
  {
   "cell_type": "markdown",
   "id": "3cf0c12a",
   "metadata": {},
   "source": [
    "<h3 style=\"color:chocolate;background-color:papayawhip;\" > <i class=\"fa fa-question\" aria-hidden=\"true\"> </i> &nbsp; Quizz </h3> \n",
    " \n",
    "```\n",
    "En Python, `random` est\n",
    "\n",
    "A) un module\n",
    "B) une condition\n",
    "C) une variable aléatoire\n",
    "D) un mot-clé\n",
    "```"
   ]
  },
  {
   "cell_type": "raw",
   "id": "0c5617d4",
   "metadata": {},
   "source": [
    "Réponse : \n"
   ]
  },
  {
   "cell_type": "markdown",
   "id": "add71e4d",
   "metadata": {},
   "source": [
    "## Le contenu du module\n",
    "\n",
    "Le module `random` permet de créer des nombres pseudoaléatoires. Pour afficher le contenu d'un module, nous pouvons utiliser la fonction `dir()` qui affiche les objets du module.\n",
    "\n",
    "Le module met à disposition 13 fonctions.\n",
    "\n"
   ]
  },
  {
   "cell_type": "code",
   "execution_count": null,
   "id": "9e72747b",
   "metadata": {},
   "outputs": [],
   "source": [
    "import random\n",
    "\n",
    "for f in dir(random):\n",
    "    print(f)\n"
   ]
  },
  {
   "cell_type": "markdown",
   "id": "17bf69c4",
   "metadata": {},
   "source": [
    "## Entier aléatoire\n",
    "\n",
    "La fonction `randint(a, b)` retourne un nombre aléatoire dans l'intervalle [a, b].\n",
    "Avec `y = randint(-200, 200)` nous choisissons une valeur `y` aléatoire.\n",
    "\n",
    "Pour éviter de dessiner une ligne depuis l'origine au premier point, nous levons le stylo au début, et nous le posons dès le premier point atteint avec `goto(x, y)`\n",
    "\n"
   ]
  },
  {
   "cell_type": "code",
   "execution_count": null,
   "id": "dde681a0",
   "metadata": {},
   "outputs": [],
   "source": [
    "from turtle import *\n",
    "from random import *\n",
    "\n",
    "d = 20\n",
    "up()\n",
    "\n",
    "for x in range(-300, 300, d):\n",
    "    y = randint(-200, 200)\n",
    "    goto(x, y)\n",
    "    down()\n",
    "    forward(d)\n",
    "    dot()\n",
    "    write(y)\n",
    "\n",
    "done()\n"
   ]
  },
  {
   "cell_type": "markdown",
   "id": "242b23fa",
   "metadata": {},
   "source": [
    "## Position aléatoire\n",
    "\n",
    "Nous pouvons également choisir les deux coordonnées `x` et `y` de façon aléatoire.\n",
    "\n"
   ]
  },
  {
   "cell_type": "code",
   "execution_count": null,
   "id": "54235303",
   "metadata": {},
   "outputs": [],
   "source": [
    "from turtle import *\n",
    "from random import *\n",
    "\n",
    "for i in range(10):\n",
    "    x = randint(-300, 300)\n",
    "    y = randint(-200, 200)\n",
    "    p = (x, y)\n",
    "    goto(p)\n",
    "    dot()\n",
    "    write(p)\n",
    "\n",
    "done()\n"
   ]
  },
  {
   "cell_type": "markdown",
   "id": "98c70464",
   "metadata": {},
   "source": [
    "## Angle aléatoire\n",
    "\n",
    "La fonction `a = randint(-90, 90)` retourne un angle aléatoire dans l'intervalle [-90, 90].\n",
    "Le programme produit un parcours aléatoire (**random walk**)\n",
    "\n"
   ]
  },
  {
   "cell_type": "code",
   "execution_count": null,
   "id": "3b7a7a0b",
   "metadata": {},
   "outputs": [],
   "source": [
    "from turtle import *\n",
    "from random import *\n",
    "\n",
    "d = 20\n",
    "\n",
    "for i in range(100):\n",
    "    a = randint(-90, 90)\n",
    "    dot()\n",
    "    write(a)\n",
    "    left(a)\n",
    "    forward(d)\n",
    "\n",
    "done()\n"
   ]
  },
  {
   "cell_type": "markdown",
   "id": "7ab0469f",
   "metadata": {},
   "source": [
    "## Taille aléatoire\n",
    "\n",
    "La fonction `d = randint(1, 3)` retourne un diamètre aléatoire dans l'intervalle [1, 3]. Chaque taille a la même probabilité.\n",
    "\n"
   ]
  },
  {
   "cell_type": "code",
   "execution_count": null,
   "id": "00f53c24",
   "metadata": {},
   "outputs": [],
   "source": [
    "from turtle import *\n",
    "from random import *\n",
    "up()\n",
    "\n",
    "for i in range(20):\n",
    "    x = randint(-300, 300)\n",
    "    y = randint(-200, 200)\n",
    "    d = randint(1, 3)\n",
    "    goto(x, y)\n",
    "    dot(d*10, 'pink')\n",
    "    write(d, align='center')\n",
    "\n",
    "done()\n"
   ]
  },
  {
   "cell_type": "markdown",
   "id": "f746050b",
   "metadata": {},
   "source": [
    "### Sous la belle étoile\n",
    "\n",
    "Les étoiles dans le ciel apparaissent à des positions plus ou moins aléatoires.\n",
    "Nous calculons `x` et `y` comme des entiers aléatoires, choisis dans l'intervalle de la largeur et de la hauteur de la fenêtre.\n",
    "\n",
    "Nous choisissons la taille `d` avec une distribution normale (de Gauss).\n",
    "\n",
    "L'expression `d = gauss(3, 2)` renvoie un diamètre avec une moyenne de 3 et un sigma de 2.\n",
    "Comme cette valeur pourrait être négative, dans certains cas, nous en prenons la valeur absolue avec la fonction `abs())`.\n",
    "\n"
   ]
  },
  {
   "cell_type": "code",
   "execution_count": null,
   "id": "58b992c3",
   "metadata": {},
   "outputs": [],
   "source": [
    "from turtle import *\n",
    "from random import *\n",
    "getscreen().bgcolor('black')\n",
    "speed(0)\n",
    "up()\n",
    "\n",
    "for i in range(200):\n",
    "    x = randint(-300, 300)\n",
    "    y = randint(-200, 300)\n",
    "    d = abs(gauss(3, 2))\n",
    "    goto(x, y)\n",
    "    dot(d, 'white')\n",
    "\n",
    "done()\n"
   ]
  },
  {
   "cell_type": "markdown",
   "id": "d5ce483b",
   "metadata": {},
   "source": [
    "Pour faire un dessin, il est utile de pouvoir spécifier la région des étoiles.\n",
    "Nous choisissons ici des régions rectangulaires définies par une position `p` et une taille `size`.\n",
    "Les étoiles seront placées dans cette région.\n",
    "\n"
   ]
  },
  {
   "cell_type": "code",
   "execution_count": null,
   "id": "8435d36e",
   "metadata": {},
   "outputs": [],
   "source": [
    "from turtle import *\n",
    "from random import *\n",
    "speed(0)\n",
    "up()\n",
    "\n",
    "def rectangle(p, size, c):\n",
    "    color(c)\n",
    "    begin_fill()\n",
    "    goto(p)                 # la tortue va au point de départ\n",
    "    for d in size * 2:      # équivalent à (w, h, w, h)\n",
    "        forward(d)\n",
    "        left(90)\n",
    "    end_fill()\n",
    "\n",
    "def etoiles(p, size, n, c):\n",
    "    for i in range(n):\n",
    "        x = randint(p[0], p[0] + size[0])\n",
    "        y = randint(p[1], p[1] + size[1])\n",
    "        d = abs(gauss(3, 2))\n",
    "        goto(x, y)\n",
    "        dot(d, c)\n",
    "\n",
    "rectangle((-300, -200), (600, 150), 'darkgreen')\n",
    "rectangle((-300, -50), (600, 250), 'black')\n",
    "etoiles((-300, -50), (600, 250), 100, 'white')\n",
    "\n",
    "done()\n"
   ]
  },
  {
   "cell_type": "markdown",
   "id": "33960712",
   "metadata": {},
   "source": [
    "### La voie lactée\n",
    "\n",
    "Pour arranger les étoiles plus dans une bande horizontale, comme dans la Voie lactée, nous utilisons pour la variable `y` une distribution normale (de Gauss) avec une moyenne de 0 et un sigma de 50.\n",
    "\n"
   ]
  },
  {
   "cell_type": "code",
   "execution_count": null,
   "id": "8968c09c",
   "metadata": {},
   "outputs": [],
   "source": [
    "from turtle import *\n",
    "from random import *\n",
    "getscreen().bgcolor('black')\n",
    "speed(0)\n",
    "up()\n",
    "\n",
    "for i in range(500):\n",
    "    x = randint(-300, 300)\n",
    "    y = gauss(0, 50)\n",
    "    d = abs(gauss(2, 2))\n",
    "    goto(x, y)\n",
    "    dot(d, 'white')\n",
    "\n",
    "done()\n"
   ]
  },
  {
   "cell_type": "markdown",
   "id": "a63a6ee2",
   "metadata": {},
   "source": [
    "## Couleur aléatoire\n",
    "\n",
    "La fonction `choice()` retourne un élément aléatoire dans une séquence. \n",
    "\n"
   ]
  },
  {
   "cell_type": "code",
   "execution_count": null,
   "id": "3d7e6139",
   "metadata": {},
   "outputs": [],
   "source": [
    "from turtle import *\n",
    "from random import *\n",
    "up()\n",
    "\n",
    "couleurs = ('pink', 'red', 'orange', 'lime', 'cyan',\n",
    "            'beige', 'yellow', 'silver', 'gold', 'skyblue')\n",
    "\n",
    "for i in range(20):\n",
    "    x = randint(-300, 300)\n",
    "    y = randint(-200, 200)\n",
    "    c = choice(couleurs)\n",
    "    goto(x, y)\n",
    "    dot(60, c)\n",
    "    write(c, align='center')\n",
    "\n",
    "done()\n"
   ]
  },
  {
   "cell_type": "markdown",
   "id": "5e66054f",
   "metadata": {},
   "source": [
    "### Cube de Rubik\n",
    "\n",
    "Depuis une liste avec les 6 couleurs du cube de Rubik, nous en choisissons une aléatoirement, pour dessiner un cube dans son état défait.\n",
    "\n"
   ]
  },
  {
   "cell_type": "code",
   "execution_count": null,
   "id": "966fa8dc",
   "metadata": {},
   "outputs": [],
   "source": [
    "from turtle import *\n",
    "from random import *\n",
    "speed(0)\n",
    "couleurs = 'red', 'green', 'blue', 'yellow', 'orange', 'white'\n",
    "\n",
    "def losange(d, c):\n",
    "    fillcolor(c)\n",
    "    begin_fill()\n",
    "    for a in (120, 60, 120, 60):\n",
    "        forward(d)\n",
    "        left(a)\n",
    "    end_fill()\n",
    "\n",
    "def surface():\n",
    "    for j in range(3):\n",
    "        for i in range(3):\n",
    "            c = choice(couleurs)\n",
    "            losange(50, c)\n",
    "            forward(50)\n",
    "        backward(150)\n",
    "        left(120)\n",
    "        forward(50)\n",
    "        right(120)\n",
    "    left(120)\n",
    "    backward(150)\n",
    "\n",
    "for i in range(3):\n",
    "    surface()\n",
    "\n",
    "done()\n"
   ]
  },
  {
   "cell_type": "markdown",
   "id": "6a2a022d",
   "metadata": {},
   "source": [
    "## Text aléatoire\n",
    "\n",
    "La fonction 'choice()' permet aussi de choisir parmi un tuple de mots. Ici nous affichons les noms des chapitres à des positions aléatoires. \n",
    "Parfois les positions sont superposées. Nous allons voir plus tard, comment nous pouvons résoudre ce problème.\n",
    "\n"
   ]
  },
  {
   "cell_type": "code",
   "execution_count": null,
   "id": "36e3e73a",
   "metadata": {},
   "outputs": [],
   "source": [
    "from turtle import *\n",
    "from random import *\n",
    "up()\n",
    "\n",
    "mots = ('dessiner', 'définir', 'colorier', 'répéter', 'cercler', 'paramétrer',\n",
    "        'parcourir', 'positionner', 'typographier', 'itérer', 'randomiser')\n",
    "\n",
    "for i in range(20):\n",
    "    x = randint(-300, 300)\n",
    "    y = randint(-200, 200)\n",
    "    mot = choice(mots)\n",
    "    goto(x, y)\n",
    "    write(mot, font=('Courier', 18))\n",
    "\n",
    "done()\n"
   ]
  },
  {
   "cell_type": "markdown",
   "id": "0c82686e",
   "metadata": {},
   "source": [
    "## Emoji aléatoire\n",
    "\n",
    "\n"
   ]
  },
  {
   "cell_type": "code",
   "execution_count": null,
   "id": "fdd63b00",
   "metadata": {},
   "outputs": [],
   "source": [
    "from turtle import *\n",
    "from random import *\n",
    "up()\n",
    "d = 40\n",
    "emojis = list('🐶🐱🐭🐹🐰🦊🐻🐼🐨🐯🦁🐮🐷🐸🐵')\n",
    "\n",
    "for i in range(20):\n",
    "    x = randint(-300, 300-d)\n",
    "    y = randint(-200, 200-d)\n",
    "    emoji = choice(emojis)\n",
    "    goto(x, y)\n",
    "    write(emoji, font=('Courier', d))\n",
    "\n",
    "done()\n"
   ]
  },
  {
   "cell_type": "markdown",
   "id": "bf964a52",
   "metadata": {},
   "source": [
    "## Fleurs dans un champ\n",
    "\n",
    "Dans l'exemple suivant, nous plaçons des fleurs à des positions aléatoires dans un champ.\n",
    "\n"
   ]
  },
  {
   "cell_type": "code",
   "execution_count": null,
   "id": "ffe6d393",
   "metadata": {},
   "outputs": [],
   "source": [
    "from turtle import *\n",
    "from random import *\n",
    "getscreen().bgcolor('green')\n",
    "speed(0)\n",
    "up()\n",
    "\n",
    "def fleur(d):\n",
    "    for i in range(5):\n",
    "        dot(d, 'lightyellow')\n",
    "        forward(d*0.8)\n",
    "        left(72)\n",
    "    left(60)\n",
    "    forward(d*0.7)\n",
    "    dot(d*0.7, 'gold')\n",
    "\n",
    "for i in range(10):\n",
    "    x = randint(-300, 300)\n",
    "    y = randint(-200, 200)\n",
    "    d = gauss(30, 10)\n",
    "    seth(0)\n",
    "    goto(x, y)\n",
    "    fleur(d)\n",
    "\n",
    "done()\n",
    "\n",
    "\n"
   ]
  },
  {
   "cell_type": "markdown",
   "id": "0752d55e",
   "metadata": {},
   "source": [
    "## Distribution gaussienne\n",
    "\n",
    "La distribution normale, ou **distribution gaussienne**, est la distribution qui apparait souvent dans la nature. La taille d'une population, le poids d'une population, suit souvent une distribution gaussienne.\n",
    "\n",
    "La distribution normale `gauss(mu, sigma)` est décrite par deux paramètres :\n",
    "\n",
    "- son espérance `mu`\n",
    "- son écart-type `sigma`\n",
    "\n",
    "La fonction `gauss(0, 5)' avec un sigma de 5 va distribuer ses valeurs autour de 0, de sorte placer 67% des points dans l'intervalle [-5, 5]. Le programme suivant montre un histogramme visuel de classification de 400 points.\n",
    "\n"
   ]
  },
  {
   "cell_type": "code",
   "execution_count": null,
   "id": "2ffd6aa6",
   "metadata": {},
   "outputs": [],
   "source": [
    "from turtle import *\n",
    "from random import *\n",
    "speed(0)\n",
    "up()\n",
    "\n",
    "sigma = 5\n",
    "d = 10\n",
    "y = [-180] * 60\n",
    "\n",
    "for x in range(-300, 300, 50):\n",
    "    goto(x, -200)\n",
    "    write(x//d)\n",
    "for i in range(400):\n",
    "    j = int(gauss(0, sigma))\n",
    "    goto(j*d, y[j+30])\n",
    "    dot(d)\n",
    "    y[j+30] += d\n",
    "\n",
    "done()\n"
   ]
  },
  {
   "cell_type": "markdown",
   "id": "5c997a5b",
   "metadata": {},
   "source": [
    "La distribution des tailles des animaux, ou des humains, est également gaussienne. Ci-dessous nous montrons une distribution avec un sigma de 2 et ensuite avec un sigma de 10.\n",
    "\n"
   ]
  },
  {
   "cell_type": "code",
   "execution_count": null,
   "id": "0cae71da",
   "metadata": {},
   "outputs": [],
   "source": [
    "from turtle import *\n",
    "from random import *\n",
    "d = 100\n",
    "up()\n",
    "\n",
    "for (y, sigma) in ((50, 2), (-150, 10)):\n",
    "    goto(-280, y)\n",
    "    write(sigma)\n",
    "    for x in range(-300, 300-d, d//2):\n",
    "        goto(x, y)\n",
    "        d = int(gauss(100, sigma))\n",
    "        write('🧍‍', font=(None, d))\n",
    "\n",
    "done()\n"
   ]
  },
  {
   "cell_type": "markdown",
   "id": "dc8cbaf9",
   "metadata": {},
   "source": [
    "## Champs de fleurs\n",
    "\n",
    "Pour simuler la perspective, nous dessinons les fleurs proches plus grandes.\n",
    "Il est de nouveau utile de définir une fonction de répartition, qui permet de distribuer des listes d'objets dans une région rectangulaire.\n",
    "\n"
   ]
  },
  {
   "cell_type": "code",
   "execution_count": null,
   "id": "925d31a4",
   "metadata": {},
   "outputs": [],
   "source": [
    "from turtle import *\n",
    "from random import *\n",
    "getscreen().bgcolor('lightgreen')\n",
    "up()\n",
    "\n",
    "def repartition(p, size, n, emojis):\n",
    "    for i in range(n):\n",
    "        x = randint(p[0], p[0] + size[0])\n",
    "        y = randint(p[1], p[1] + size[1])\n",
    "        d = gauss(40, 5) * (p[1]+size[1]-y)/size[1]\n",
    "        goto(x, y)\n",
    "        c = choice(emojis)\n",
    "        write(c, font=(None, int(d)))\n",
    "\n",
    "repartition((-300, -200), (250, 400), 20, '🌸🌺🌷🌻🌼')\n",
    "repartition((0, -200), (300, 400), 20, '🍏🍎🍐🍊🍋🍉🍇🍓🫐🍒🍑🥝')\n",
    "hideturtle()\n",
    "\n",
    "done()\n"
   ]
  },
  {
   "cell_type": "markdown",
   "id": "ec8af6da",
   "metadata": {},
   "source": [
    "## Aquarium\n",
    "\n",
    "Nous ajoutons des feuillages en bas de l'aquarium et intercalons les poissons avec les plantes.\n",
    "\n"
   ]
  },
  {
   "cell_type": "code",
   "execution_count": null,
   "id": "79ff27b6",
   "metadata": {},
   "outputs": [],
   "source": [
    "from turtle import *\n",
    "from random import *\n",
    "getscreen().bgcolor('lightblue')\n",
    "up()\n",
    "\n",
    "poissons = list('🐠🐟🐡🦀🐠')\n",
    "print(poissons)\n",
    "plantes = list('🌿🌱')\n",
    "print(plantes)\n",
    "\n",
    "for i in range(10):\n",
    "    x = randint(-300, 260)\n",
    "    y = randint(-200, 160)\n",
    "    d = gauss(40, 5)\n",
    "    goto(x, y)\n",
    "    poisson = choice(poissons)\n",
    "    write(poisson, font=(None, int(d)))\n",
    "\n",
    "    plante = choice(plantes)\n",
    "    goto(randint(-300, 250), -180)\n",
    "    write(plante, font=(None, int(gauss(50, 20))))\n",
    "\n",
    "hideturtle()\n",
    "\n",
    "done()\n",
    "\n"
   ]
  },
  {
   "cell_type": "markdown",
   "id": "eb06a2cf",
   "metadata": {},
   "source": [
    "## Permuter\n",
    "\n",
    "La fonction `shuffle()` permet de permuter les éléments d'une liste. Ceci est l'équivalent de ce qu'on fait avec des cartes de jeux, quand on les mélange.\n",
    "\n"
   ]
  },
  {
   "cell_type": "code",
   "execution_count": null,
   "id": "4ae86059",
   "metadata": {},
   "outputs": [],
   "source": [
    "from random import *\n",
    "\n",
    "a = list(range(10))\n",
    "print(a)\n",
    "\n",
    "for i in range(3):\n",
    "    shuffle(a)\n",
    "    print(a)\n"
   ]
  },
  {
   "cell_type": "markdown",
   "id": "439e2335",
   "metadata": {},
   "source": [
    "## Mélanger des cartes\n",
    "\n",
    "La fonction `shuffle()` permet de mélanger ou permuter aléatoirement une liste. Nous l'utilisons pour mélanger nos cartes de jeu.\n",
    "\n"
   ]
  },
  {
   "cell_type": "code",
   "execution_count": null,
   "id": "4a077bed",
   "metadata": {},
   "outputs": [],
   "source": [
    "from turtle import *\n",
    "from random import *\n",
    "getscreen().bgcolor('green')\n",
    "up()\n",
    "speed(0)\n",
    "w = 20\n",
    "width(w)\n",
    "\n",
    "def card(c):\n",
    "    down()\n",
    "    color('white')\n",
    "    for d in (w, 1.6 * w) * 2:\n",
    "        forward(d)\n",
    "        left(90)\n",
    "    color('red')\n",
    "    write(c, font=(None, w))\n",
    "    up()\n",
    "    forward(2 * w + 5)\n",
    "\n",
    "cartes = list('A23456789JQK')\n",
    "print(cartes)\n",
    "goto(-260, 100)\n",
    "for c in cartes:\n",
    "    card(c)\n",
    "\n",
    "shuffle(cartes)\n",
    "print(cartes)\n",
    "goto(-260, 0)\n",
    "for c in cartes:\n",
    "    card(c)\n",
    "\n",
    "done()"
   ]
  }
 ],
 "metadata": {
  "kernelspec": {
   "display_name": "Python 3 (ipykernel)",
   "language": "python",
   "name": "python3"
  },
  "language_info": {
   "codemirror_mode": {
    "name": "ipython",
    "version": 3
   },
   "file_extension": ".py",
   "mimetype": "text/x-python",
   "name": "python",
   "nbconvert_exporter": "python",
   "pygments_lexer": "ipython3",
   "version": "3.10.12"
  }
 },
 "nbformat": 4,
 "nbformat_minor": 5
}
