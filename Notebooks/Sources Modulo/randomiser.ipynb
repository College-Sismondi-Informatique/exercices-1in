{
 "cells": [
  {
   "cell_type": "markdown",
   "id": "0-4a42e0",
   "metadata": {},
   "source": [
    "<div style=\"padding:20px;background-color:papayawhip;\" > \n",
    "<h3 style=\"color:chocolate\"> <i class=\"fa fa-info\" aria-hidden=\"true\"> </i> &nbsp; Remarque introductive &nbsp;  <i class=\"fa fa-info\" aria-hidden=\"true\"></h3> \n",
    "<p> Ce fichier est fait pour être lu sur le site <a href=\"https://notebook.basthon.fr/\"><img src='https://notebook.basthon.fr/assets/efede5218c9087496f16.png' style=\"border: 0; display:inline; margin: 0 5px; height:30px\" alt=\"Basthon\"/></a>. <br>\n",
    "    \n",
    "Si vous l'avez ouvert avec un autre programme, comme Jupyter notebook, vous riquez de rencontrer quelques bugs. <br>\n",
    "Veuillez cliquez sur <a href=\"https://notebook.basthon.fr/\">ce lien</a> et y charger ce fichier à l'aide du bouton \"Ouvrir\"  &nbsp; <i class=\"fa fa-folder\" aria-hidden=\"true\"> </i>\n",
    "</p> </div>    "
   ]
  },
  {
   "cell_type": "markdown",
   "id": "1-0cfecb",
   "metadata": {},
   "source": [
    "# Randomiser - `random`\n",
    "\n",
    "Dans ce chapitre, nous verrons comment un programme peut introduire un élément aléatoire dans un calcul ou dans un raisonnement. Ceci est très important pour programmer certains jeux. Nous allons voir que :\n",
    "\n",
    "- la fonction `random()` renvoie une valeur aléatoire dans l'intervalle [0, 1],\n",
    "- la fonction `randint(a, b)` renvoie un entier aléatoire dans l'intervalle [a, b],\n",
    "- la fonction `shuffle(liste)` fait une permutation aléatoire des éléments d'une liste.\n",
    "\n"
   ]
  },
  {
   "cell_type": "markdown",
   "id": "2-01471e",
   "metadata": {},
   "source": [
    "<h3 style=\"color:chocolate;background-color:papayawhip;\" > <i class=\"fa fa-question\" aria-hidden=\"true\"> </i> &nbsp; Quizz </h3> \n",
    " \n",
    "```\n",
    "En Python, `random` est\n",
    "\n",
    "A) un module\n",
    "B) une condition\n",
    "C) une variable aléatoire\n",
    "D) un mot-clé\n",
    "```"
   ]
  },
  {
   "cell_type": "raw",
   "id": "3-770ee9",
   "metadata": {},
   "source": [
    "Ma réponse : "
   ]
  },
  {
   "cell_type": "markdown",
   "id": "4-e12b72",
   "metadata": {},
   "source": [
    "<details>\n",
    "<summary style=\"border-left:3px solid #3c763d; border-radius:2pt; width:100%; color:#3c763d; padding:6px; background-color: #dff0d8\"> \n",
    "Réponse\n",
    "</summary>  \n",
    "\n",
    "<div style=\"border-left:3px solid #3c763d; border-radius:2pt; color:#3c763d; padding:6px; background-color: #eff0e8\">A) un module\n",
    "</div>\n",
    "</details>\n",
    "                \n"
   ]
  },
  {
   "cell_type": "markdown",
   "id": "5-efcec8",
   "metadata": {},
   "source": [
    "## Le contenu du module\n",
    "\n",
    "Le module `random` permet de créer des nombres pseudoaléatoires. Pour afficher le contenu d'un module, nous pouvons utiliser la fonction `dir()` qui affiche les objets du module.\n",
    "\n",
    "Le module met à disposition 13 fonctions.\n",
    "\n"
   ]
  },
  {
   "cell_type": "code",
   "execution_count": null,
   "id": "6-992207",
   "metadata": {},
   "outputs": [],
   "source": [
    "import random\n",
    "\n",
    "for f in dir(random):\n",
    "    print(f)\n"
   ]
  },
  {
   "cell_type": "markdown",
   "id": "7-b49881",
   "metadata": {},
   "source": [
    "## Entier aléatoire\n",
    "\n",
    "La fonction `randint(a, b)` retourne un nombre aléatoire dans l'intervalle [a, b].\n",
    "Avec `y = randint(-200, 200)` nous choisissons une valeur `y` aléatoire.\n",
    "\n",
    "Pour éviter de dessiner une ligne depuis l'origine au premier point, nous levons le stylo au début, et nous le posons dès le premier point atteint avec `goto(x, y)`\n",
    "\n"
   ]
  },
  {
   "cell_type": "code",
   "execution_count": null,
   "id": "8-ecb526",
   "metadata": {},
   "outputs": [],
   "source": [
    "from turtle import *\n",
    "from random import *\n",
    "\n",
    "d = 20\n",
    "up()\n",
    "\n",
    "for x in range(-300, 300, d):\n",
    "    y = randint(-200, 200)\n",
    "    goto(x, y)\n",
    "    down()\n",
    "    forward(d)\n",
    "    dot()\n",
    "    write(y)\n",
    "\n",
    "done()\n"
   ]
  },
  {
   "cell_type": "markdown",
   "id": "9-d227fd",
   "metadata": {},
   "source": [
    "## Position aléatoire\n",
    "\n",
    "Nous pouvons également choisir les deux coordonnées `x` et `y` de façon aléatoire.\n",
    "\n"
   ]
  },
  {
   "cell_type": "code",
   "execution_count": null,
   "id": "10-764257",
   "metadata": {},
   "outputs": [],
   "source": [
    "from turtle import *\n",
    "from random import *\n",
    "\n",
    "for i in range(10):\n",
    "    x = randint(-300, 300)\n",
    "    y = randint(-200, 200)\n",
    "    p = (x, y)\n",
    "    goto(p)\n",
    "    dot()\n",
    "    write(p)\n",
    "\n",
    "done()\n"
   ]
  },
  {
   "cell_type": "markdown",
   "id": "11-e60f32",
   "metadata": {},
   "source": [
    "## Angle aléatoire\n",
    "\n",
    "La fonction `a = randint(-90, 90)` retourne un angle aléatoire dans l'intervalle [-90, 90].\n",
    "Le programme produit un parcours aléatoire (**random walk**)\n",
    "\n"
   ]
  },
  {
   "cell_type": "code",
   "execution_count": null,
   "id": "12-f2e0a9",
   "metadata": {},
   "outputs": [],
   "source": [
    "from turtle import *\n",
    "from random import *\n",
    "\n",
    "d = 20\n",
    "\n",
    "for i in range(100):\n",
    "    a = randint(-90, 90)\n",
    "    dot()\n",
    "    write(a)\n",
    "    left(a)\n",
    "    forward(d)\n",
    "\n",
    "done()\n"
   ]
  },
  {
   "cell_type": "markdown",
   "id": "13-35b3b1",
   "metadata": {},
   "source": [
    "## Taille aléatoire\n",
    "\n",
    "La fonction `d = randint(1, 3)` retourne un diamètre aléatoire dans l'intervalle [1, 3]. Chaque taille a la même probabilité.\n",
    "\n"
   ]
  },
  {
   "cell_type": "code",
   "execution_count": null,
   "id": "14-9e40bc",
   "metadata": {},
   "outputs": [],
   "source": [
    "from turtle import *\n",
    "from random import *\n",
    "up()\n",
    "\n",
    "for i in range(20):\n",
    "    x = randint(-300, 300)\n",
    "    y = randint(-200, 200)\n",
    "    d = randint(1, 3)\n",
    "    goto(x, y)\n",
    "    dot(d*10, 'pink')\n",
    "    write(d, align='center')\n",
    "\n",
    "done()\n"
   ]
  },
  {
   "cell_type": "markdown",
   "id": "15-b38255",
   "metadata": {},
   "source": [
    "### Sous la belle étoile\n",
    "\n",
    "Les étoiles dans le ciel apparaissent à des positions plus ou moins aléatoires.\n",
    "Nous calculons `x` et `y` comme des entiers aléatoires, choisis dans l'intervalle de la largeur et de la hauteur de la fenêtre.\n",
    "\n",
    "Nous choisissons la taille `d` avec une distribution normale (de Gauss).\n",
    "\n",
    "L'expression `d = gauss(3, 2)` renvoie un diamètre avec une moyenne de 3 et un sigma de 2.\n",
    "Comme cette valeur pourrait être négative, dans certains cas, nous en prenons la valeur absolue avec la fonction `abs())`.\n",
    "\n"
   ]
  },
  {
   "cell_type": "code",
   "execution_count": null,
   "id": "16-c4f7f0",
   "metadata": {},
   "outputs": [],
   "source": [
    "from turtle import *\n",
    "from random import *\n",
    "getscreen().bgcolor('black')\n",
    "speed(0)\n",
    "up()\n",
    "\n",
    "for i in range(200):\n",
    "    x = randint(-300, 300)\n",
    "    y = randint(-200, 300)\n",
    "    d = abs(gauss(3, 2))\n",
    "    goto(x, y)\n",
    "    dot(d, 'white')\n",
    "\n",
    "done()\n"
   ]
  },
  {
   "cell_type": "markdown",
   "id": "17-2e3a64",
   "metadata": {},
   "source": [
    "Pour faire un dessin, il est utile de pouvoir spécifier la région des étoiles.\n",
    "Nous choisissons ici des régions rectangulaires définies par une position `p` et une taille `size`.\n",
    "Les étoiles seront placées dans cette région.\n",
    "\n"
   ]
  },
  {
   "cell_type": "code",
   "execution_count": null,
   "id": "18-9eca64",
   "metadata": {},
   "outputs": [],
   "source": [
    "from turtle import *\n",
    "from random import *\n",
    "speed(0)\n",
    "up()\n",
    "\n",
    "def rectangle(p, size, c):\n",
    "    color(c)\n",
    "    begin_fill()\n",
    "    goto(p)                 # la tortue va au point de départ\n",
    "    for d in size * 2:      # équivalent à (w, h, w, h)\n",
    "        forward(d)\n",
    "        left(90)\n",
    "    end_fill()\n",
    "\n",
    "def etoiles(p, size, n, c):\n",
    "    for i in range(n):\n",
    "        x = randint(p[0], p[0] + size[0])\n",
    "        y = randint(p[1], p[1] + size[1])\n",
    "        d = abs(gauss(3, 2))\n",
    "        goto(x, y)\n",
    "        dot(d, c)\n",
    "\n",
    "rectangle((-300, -200), (600, 150), 'darkgreen')\n",
    "rectangle((-300, -50), (600, 250), 'black')\n",
    "etoiles((-300, -50), (600, 250), 100, 'white')\n",
    "\n",
    "done()\n"
   ]
  },
  {
   "cell_type": "markdown",
   "id": "19-26785f",
   "metadata": {},
   "source": [
    "### La voie lactée\n",
    "\n",
    "Pour arranger les étoiles plus dans une bande horizontale, comme dans la Voie lactée, nous utilisons pour la variable `y` une distribution normale (de Gauss) avec une moyenne de 0 et un sigma de 50.\n",
    "\n"
   ]
  },
  {
   "cell_type": "code",
   "execution_count": null,
   "id": "20-2e5f37",
   "metadata": {},
   "outputs": [],
   "source": [
    "from turtle import *\n",
    "from random import *\n",
    "getscreen().bgcolor('black')\n",
    "speed(0)\n",
    "up()\n",
    "\n",
    "for i in range(500):\n",
    "    x = randint(-300, 300)\n",
    "    y = gauss(0, 50)\n",
    "    d = abs(gauss(2, 2))\n",
    "    goto(x, y)\n",
    "    dot(d, 'white')\n",
    "\n",
    "done()\n"
   ]
  },
  {
   "cell_type": "markdown",
   "id": "21-6270d1",
   "metadata": {},
   "source": [
    "## Couleur aléatoire\n",
    "\n",
    "La fonction `choice()` retourne un élément aléatoire dans une séquence. \n",
    "\n"
   ]
  },
  {
   "cell_type": "code",
   "execution_count": null,
   "id": "22-be7df5",
   "metadata": {},
   "outputs": [],
   "source": [
    "from turtle import *\n",
    "from random import *\n",
    "up()\n",
    "\n",
    "couleurs = ('pink', 'red', 'orange', 'lime', 'cyan',\n",
    "            'beige', 'yellow', 'silver', 'gold', 'skyblue')\n",
    "\n",
    "for i in range(20):\n",
    "    x = randint(-300, 300)\n",
    "    y = randint(-200, 200)\n",
    "    c = choice(couleurs)\n",
    "    goto(x, y)\n",
    "    dot(60, c)\n",
    "    write(c, align='center')\n",
    "\n",
    "done()\n"
   ]
  },
  {
   "cell_type": "markdown",
   "id": "23-03d5f6",
   "metadata": {},
   "source": [
    "### Cube de Rubik\n",
    "\n",
    "Depuis une liste avec les 6 couleurs du cube de Rubik, nous en choisissons une aléatoirement, pour dessiner un cube dans son état défait.\n",
    "\n"
   ]
  },
  {
   "cell_type": "code",
   "execution_count": null,
   "id": "24-da19ae",
   "metadata": {},
   "outputs": [],
   "source": [
    "from turtle import *\n",
    "from random import *\n",
    "speed(0)\n",
    "couleurs = 'red', 'green', 'blue', 'yellow', 'orange', 'white'\n",
    "\n",
    "def losange(d, c):\n",
    "    fillcolor(c)\n",
    "    begin_fill()\n",
    "    for a in (120, 60, 120, 60):\n",
    "        forward(d)\n",
    "        left(a)\n",
    "    end_fill()\n",
    "\n",
    "def surface():\n",
    "    for j in range(3):\n",
    "        for i in range(3):\n",
    "            c = choice(couleurs)\n",
    "            losange(50, c)\n",
    "            forward(50)\n",
    "        backward(150)\n",
    "        left(120)\n",
    "        forward(50)\n",
    "        right(120)\n",
    "    left(120)\n",
    "    backward(150)\n",
    "\n",
    "for i in range(3):\n",
    "    surface()\n",
    "\n",
    "done()\n"
   ]
  },
  {
   "cell_type": "markdown",
   "id": "25-942ceb",
   "metadata": {},
   "source": [
    "## Text aléatoire\n",
    "\n",
    "La fonction 'choice()' permet aussi de choisir parmi un tuple de mots. Ici nous affichons les noms des chapitres à des positions aléatoires. \n",
    "Parfois les positions sont superposées. Nous allons voir plus tard, comment nous pouvons résoudre ce problème.\n",
    "\n"
   ]
  },
  {
   "cell_type": "code",
   "execution_count": null,
   "id": "26-92fb12",
   "metadata": {},
   "outputs": [],
   "source": [
    "from turtle import *\n",
    "from random import *\n",
    "up()\n",
    "\n",
    "mots = ('dessiner', 'définir', 'colorier', 'répéter', 'cercler', 'paramétrer',\n",
    "        'parcourir', 'positionner', 'typographier', 'itérer', 'randomiser')\n",
    "\n",
    "for i in range(20):\n",
    "    x = randint(-300, 300)\n",
    "    y = randint(-200, 200)\n",
    "    mot = choice(mots)\n",
    "    goto(x, y)\n",
    "    write(mot, font=('Courier', 18))\n",
    "\n",
    "done()\n"
   ]
  },
  {
   "cell_type": "markdown",
   "id": "27-900fba",
   "metadata": {},
   "source": [
    "## Emoji aléatoire\n",
    "\n",
    "\n"
   ]
  },
  {
   "cell_type": "code",
   "execution_count": null,
   "id": "28-a6a672",
   "metadata": {},
   "outputs": [],
   "source": [
    "from turtle import *\n",
    "from random import *\n",
    "up()\n",
    "d = 40\n",
    "emojis = list('🐶🐱🐭🐹🐰🦊🐻🐼🐨🐯🦁🐮🐷🐸🐵')\n",
    "\n",
    "for i in range(20):\n",
    "    x = randint(-300, 300-d)\n",
    "    y = randint(-200, 200-d)\n",
    "    emoji = choice(emojis)\n",
    "    goto(x, y)\n",
    "    write(emoji, font=('Courier', d))\n",
    "\n",
    "done()\n"
   ]
  },
  {
   "cell_type": "markdown",
   "id": "29-d24b8d",
   "metadata": {},
   "source": [
    "## Fleurs dans un champ\n",
    "\n",
    "Dans l'exemple suivant, nous plaçons des fleurs à des positions aléatoires dans un champ.\n",
    "\n"
   ]
  },
  {
   "cell_type": "code",
   "execution_count": null,
   "id": "30-5e8bce",
   "metadata": {},
   "outputs": [],
   "source": [
    "from turtle import *\n",
    "from random import *\n",
    "getscreen().bgcolor('green')\n",
    "speed(0)\n",
    "up()\n",
    "\n",
    "def fleur(d):\n",
    "    for i in range(5):\n",
    "        dot(d, 'lightyellow')\n",
    "        forward(d*0.8)\n",
    "        left(72)\n",
    "    left(60)\n",
    "    forward(d*0.7)\n",
    "    dot(d*0.7, 'gold')\n",
    "\n",
    "for i in range(10):\n",
    "    x = randint(-300, 300)\n",
    "    y = randint(-200, 200)\n",
    "    d = gauss(30, 10)\n",
    "    seth(0)\n",
    "    goto(x, y)\n",
    "    fleur(d)\n",
    "\n",
    "done()\n",
    "\n",
    "\n"
   ]
  },
  {
   "cell_type": "markdown",
   "id": "31-21bb96",
   "metadata": {},
   "source": [
    "## Distribution gaussienne\n",
    "\n",
    "La distribution normale, ou **distribution gaussienne**, est la distribution qui apparait souvent dans la nature. La taille d'une population, le poids d'une population, suit souvent une distribution gaussienne.\n",
    "\n",
    "La distribution normale `gauss(mu, sigma)` est décrite par deux paramètres :\n",
    "\n",
    "- son espérance `mu`\n",
    "- son écart-type `sigma`\n",
    "\n",
    "La fonction `gauss(0, 5)' avec un sigma de 5 va distribuer ses valeurs autour de 0, de sorte placer 67% des points dans l'intervalle [-5, 5]. Le programme suivant montre un histogramme visuel de classification de 400 points.\n",
    "\n"
   ]
  },
  {
   "cell_type": "code",
   "execution_count": null,
   "id": "32-11bf77",
   "metadata": {},
   "outputs": [],
   "source": [
    "from turtle import *\n",
    "from random import *\n",
    "speed(0)\n",
    "up()\n",
    "\n",
    "sigma = 5\n",
    "d = 10\n",
    "y = [-180] * 60\n",
    "\n",
    "for x in range(-300, 300, 50):\n",
    "    goto(x, -200)\n",
    "    write(x//d)\n",
    "for i in range(400):\n",
    "    j = int(gauss(0, sigma))\n",
    "    goto(j*d, y[j+30])\n",
    "    dot(d)\n",
    "    y[j+30] += d\n",
    "\n",
    "done()\n"
   ]
  },
  {
   "cell_type": "markdown",
   "id": "33-f79b0b",
   "metadata": {},
   "source": [
    "La distribution des tailles des animaux, ou des humains, est également gaussienne. Ci-dessous nous montrons une distribution avec un sigma de 2 et ensuite avec un sigma de 10.\n",
    "\n"
   ]
  },
  {
   "cell_type": "code",
   "execution_count": null,
   "id": "34-1eb41c",
   "metadata": {},
   "outputs": [],
   "source": [
    "from turtle import *\n",
    "from random import *\n",
    "d = 100\n",
    "up()\n",
    "\n",
    "for (y, sigma) in ((50, 2), (-150, 10)):\n",
    "    goto(-280, y)\n",
    "    write(sigma)\n",
    "    for x in range(-300, 300-d, d//2):\n",
    "        goto(x, y)\n",
    "        d = int(gauss(100, sigma))\n",
    "        write('🧍‍', font=(None, d))\n",
    "\n",
    "done()\n"
   ]
  },
  {
   "cell_type": "markdown",
   "id": "35-1e33ea",
   "metadata": {},
   "source": [
    "## Champs de fleurs\n",
    "\n",
    "Pour simuler la perspective, nous dessinons les fleurs proches plus grandes.\n",
    "Il est de nouveau utile de définir une fonction de répartition, qui permet de distribuer des listes d'objets dans une région rectangulaire.\n",
    "\n"
   ]
  },
  {
   "cell_type": "code",
   "execution_count": null,
   "id": "36-dfe887",
   "metadata": {},
   "outputs": [],
   "source": [
    "from turtle import *\n",
    "from random import *\n",
    "getscreen().bgcolor('lightgreen')\n",
    "up()\n",
    "\n",
    "def repartition(p, size, n, emojis):\n",
    "    for i in range(n):\n",
    "        x = randint(p[0], p[0] + size[0])\n",
    "        y = randint(p[1], p[1] + size[1])\n",
    "        d = gauss(40, 5) * (p[1]+size[1]-y)/size[1]\n",
    "        goto(x, y)\n",
    "        c = choice(emojis)\n",
    "        write(c, font=(None, int(d)))\n",
    "\n",
    "repartition((-300, -200), (250, 400), 20, '🌸🌺🌷🌻🌼')\n",
    "repartition((0, -200), (300, 400), 20, '🍏🍎🍐🍊🍋🍉🍇🍓🫐🍒🍑🥝')\n",
    "hideturtle()\n",
    "\n",
    "done()\n"
   ]
  },
  {
   "cell_type": "markdown",
   "id": "37-cec29a",
   "metadata": {},
   "source": [
    "## Aquarium\n",
    "\n",
    "Nous ajoutons des feuillages en bas de l'aquarium et intercalons les poissons avec les plantes.\n",
    "\n"
   ]
  },
  {
   "cell_type": "code",
   "execution_count": null,
   "id": "38-fa72e4",
   "metadata": {},
   "outputs": [],
   "source": [
    "from turtle import *\n",
    "from random import *\n",
    "getscreen().bgcolor('lightblue')\n",
    "up()\n",
    "\n",
    "poissons = list('🐠🐟🐡🦀🐠')\n",
    "print(poissons)\n",
    "plantes = list('🌿🌱')\n",
    "print(plantes)\n",
    "\n",
    "for i in range(10):\n",
    "    x = randint(-300, 260)\n",
    "    y = randint(-200, 160)\n",
    "    d = gauss(40, 5)\n",
    "    goto(x, y)\n",
    "    poisson = choice(poissons)\n",
    "    write(poisson, font=(None, int(d)))\n",
    "\n",
    "    plante = choice(plantes)\n",
    "    goto(randint(-300, 250), -180)\n",
    "    write(plante, font=(None, int(gauss(50, 20))))\n",
    "\n",
    "hideturtle()\n",
    "\n",
    "done()\n",
    "\n"
   ]
  },
  {
   "cell_type": "markdown",
   "id": "39-fd42e4",
   "metadata": {},
   "source": [
    "## Permuter\n",
    "\n",
    "La fonction `shuffle()` permet de permuter les éléments d'une liste. Ceci est l'équivalent de ce qu'on fait avec des cartes de jeux, quand on les mélange.\n",
    "\n"
   ]
  },
  {
   "cell_type": "code",
   "execution_count": null,
   "id": "40-974191",
   "metadata": {},
   "outputs": [],
   "source": [
    "from random import *\n",
    "\n",
    "a = list(range(10))\n",
    "print(a)\n",
    "\n",
    "for i in range(3):\n",
    "    shuffle(a)\n",
    "    print(a)\n"
   ]
  },
  {
   "cell_type": "markdown",
   "id": "41-cd47b5",
   "metadata": {},
   "source": [
    "## Mélanger des cartes\n",
    "\n",
    "La fonction `shuffle()` permet de mélanger ou permuter aléatoirement une liste. Nous l'utilisons pour mélanger nos cartes de jeu.\n",
    "\n"
   ]
  },
  {
   "cell_type": "code",
   "execution_count": null,
   "id": "42-e5b24b",
   "metadata": {},
   "outputs": [],
   "source": [
    "from turtle import *\n",
    "from random import *\n",
    "getscreen().bgcolor('green')\n",
    "up()\n",
    "speed(0)\n",
    "w = 20\n",
    "width(w)\n",
    "\n",
    "def card(c):\n",
    "    down()\n",
    "    color('white')\n",
    "    for d in (w, 1.6 * w) * 2:\n",
    "        forward(d)\n",
    "        left(90)\n",
    "    color('red')\n",
    "    write(c, font=(None, w))\n",
    "    up()\n",
    "    forward(2 * w + 5)\n",
    "\n",
    "cartes = list('A23456789JQK')\n",
    "print(cartes)\n",
    "goto(-260, 100)\n",
    "for c in cartes:\n",
    "    card(c)\n",
    "\n",
    "shuffle(cartes)\n",
    "print(cartes)\n",
    "goto(-260, 0)\n",
    "for c in cartes:\n",
    "    card(c)\n",
    "\n",
    "done()"
   ]
  },
  {
   "cell_type": "markdown",
   "id": "43-cebd46",
   "metadata": {},
   "source": [
    "---\n",
    "\n",
    "#### Remarque générale\n",
    "\n",
    "Ce document est une adaptation d'un ressource pédagogique tiré du catalogue modulo https://modulo-info.ch/. Il est sous license Creative Commons [BY-NC-SA](https://creativecommons.org/licenses/?lang=fr)\n",
    "![Licence Creative Commons](https://i.creativecommons.org/l/by-nc-sa/4.0/88x31.png)\n",
    "\n",
    "    "
   ]
  }
 ],
 "metadata": {
  "kernelspec": {
   "display_name": "Python 3 (ipykernel)",
   "language": "python",
   "name": "python3"
  },
  "language_info": {
   "codemirror_mode": {
    "name": "ipython",
    "version": 3
   },
   "file_extension": ".py",
   "mimetype": "text/x-python",
   "name": "python",
   "nbconvert_exporter": "python",
   "pygments_lexer": "ipython3",
   "version": "3.10.12"
  }
 },
 "nbformat": 4,
 "nbformat_minor": 5
}
