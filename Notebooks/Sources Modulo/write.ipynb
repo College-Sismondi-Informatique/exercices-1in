{
 "cells": [
  {
   "cell_type": "markdown",
   "id": "0-4a42e0",
   "metadata": {},
   "source": [
    "<div style=\"padding:20px;background-color:papayawhip;\" > \n",
    "<h3 style=\"color:chocolate\"> <i class=\"fa fa-info\" aria-hidden=\"true\"> </i> &nbsp; Remarque introductive &nbsp;  <i class=\"fa fa-info\" aria-hidden=\"true\"></h3> \n",
    "<p> Ce fichier est fait pour être lu sur le site <a href=\"https://notebook.basthon.fr/\"><img src='https://notebook.basthon.fr/assets/efede5218c9087496f16.png' style=\"border: 0; display:inline; margin: 0 5px; height:30px\" alt=\"Basthon\"/></a>. <br>\n",
    "    \n",
    "Si vous l'avez ouvert avec un autre programme, comme Jupyter notebook, vous riquez de rencontrer quelques bugs. <br>\n",
    "Veuillez cliquez sur <a href=\"https://notebook.basthon.fr/\">ce lien</a> et y charger ce fichier à l'aide du bouton \"Ouvrir\"  &nbsp; <i class=\"fa fa-folder\" aria-hidden=\"true\"> </i>\n",
    "</p> </div>    "
   ]
  },
  {
   "cell_type": "markdown",
   "id": "1-dffcf4",
   "metadata": {},
   "source": [
    "# *Typographier - `write()`\n",
    "\n",
    "Dans ce chapitre, nous allons voir la **composition typographique** d'un texte dans un contexte graphique. Nous allons découvrir sa taille, sa couleur, sa police et son alignement. Nous allons voir que :\n",
    "\n",
    "- la fonction `write()` écrit un texte à la position de la tortue,\n",
    "- l'option `font=(police, taille, style)` permet de choisir son style,\n",
    "- l'option `align='center'` permet de choisir son alignement.\n",
    "\n"
   ]
  },
  {
   "cell_type": "markdown",
   "id": "2-5ef746",
   "metadata": {},
   "source": [
    "<h3 style=\"color:chocolate;background-color:papayawhip;\" > <i class=\"fa fa-question\" aria-hidden=\"true\"> </i> &nbsp; Quizz </h3> \n",
    " \n",
    "```\n",
    "La fonction `write()` écrit un texte dans le canvas de la tortue. Avec des options nous pouvons changer\n",
    "\n",
    "A) la taille\n",
    "B) la police\n",
    "C) le style\n",
    "D) l'alignement\n",
    "```"
   ]
  },
  {
   "cell_type": "raw",
   "id": "3-770ee9",
   "metadata": {},
   "source": [
    "Ma réponse : "
   ]
  },
  {
   "cell_type": "markdown",
   "id": "4-ebb78d",
   "metadata": {},
   "source": [
    "<details>\n",
    "<summary style=\"border-left:3px solid #3c763d; border-radius:2pt; width:100%; color:#3c763d; padding:6px; background-color: #dff0d8\"> \n",
    "Réponse\n",
    "</summary>  \n",
    "\n",
    "<div style=\"border-left:3px solid #3c763d; border-radius:2pt; color:#3c763d; padding:6px; background-color: #eff0e8\">D) l'alignement\n",
    "</div>\n",
    "</details>\n",
    "                \n"
   ]
  },
  {
   "cell_type": "markdown",
   "id": "5-fbc736",
   "metadata": {},
   "source": [
    "## La fonction `write()`\n",
    "\n",
    "La fonction `write()` permet d'afficher un texte à la position de la tortue.\n",
    "\n",
    "```{exercice}\n",
    "Déplacez la tortue quelque part et ajoutez un deuxième bout de texte.\n",
    "```\n",
    "\n"
   ]
  },
  {
   "cell_type": "code",
   "execution_count": null,
   "id": "6-3aa733",
   "metadata": {},
   "outputs": [],
   "source": [
    "from turtle import *\n",
    "\n",
    "write('ceci est une phrase écrite par la tortue.')\n",
    "\n",
    "done()\n"
   ]
  },
  {
   "cell_type": "markdown",
   "id": "7-7ab8f0",
   "metadata": {},
   "source": [
    "## Taille\n",
    "\n",
    "La fonction `write()` possède un paramètre optionnel `font` pour indiquer la police, la taille et le style.\n",
    "La valeur par défaut est `('Arial', 8, 'normal')`\n",
    "\n"
   ]
  },
  {
   "cell_type": "markdown",
   "id": "8-708f0b",
   "metadata": {},
   "source": [
    "<h3 style=\"color:teal;background-color:azure;\" > <i class=\"fa fa-pencil\" aria-hidden=\"true\"> </i> &nbsp; Exercice 1 </h3>Déplacez la tortue est essayez une taille encore plus grande.\n",
    "\n"
   ]
  },
  {
   "cell_type": "code",
   "execution_count": null,
   "id": "9-e5a7f0",
   "metadata": {},
   "outputs": [],
   "source": [
    "from turtle import *\n",
    "\n",
    "write(12, font=('Arial', 12))       # affiche un nombre\n",
    "\n",
    "goto(100, 100)\n",
    "write(pos(), font=('Arial', 18))    # affiche le résultat d'une fonction\n",
    "\n",
    "goto(-200, 80)\n",
    "f = ('Arial', 36)\n",
    "write(f, font=f)                    # affiche le résultat d'une variable\n",
    "\n",
    "done()\n"
   ]
  },
  {
   "cell_type": "markdown",
   "id": "10-c189b1",
   "metadata": {},
   "source": [
    "En utilisant une variable `taille` nous pouvons aussi parcourir un tuple de nombres. À l'intérieur de la boucle, nous utilisons cette variable `taille` trois fois :\n",
    "\n",
    "- pour calculer la distance entre les lignes, dans `backward(1.5  * taille)`\n",
    "- pour l'afficher, dans `write(taille)`\n",
    "- pour choisir la taille, dans l'option `font=(... taille)`\n",
    "\n"
   ]
  },
  {
   "cell_type": "markdown",
   "id": "11-84da01",
   "metadata": {},
   "source": [
    "<h3 style=\"color:teal;background-color:azure;\" > <i class=\"fa fa-pencil\" aria-hidden=\"true\"> </i> &nbsp; Exercice 2 </h3>Affichez encore la taille 80.\n",
    "\n"
   ]
  },
  {
   "cell_type": "code",
   "execution_count": null,
   "id": "12-f951b3",
   "metadata": {},
   "outputs": [],
   "source": [
    "from turtle import *\n",
    "\n",
    "left(90)\n",
    "forward(120)\n",
    "for taille in (8, 12, 18, 24, 36, 64):\n",
    "    backward(1.5 * taille)\n",
    "    write(taille, font=('Arial', taille))\n",
    "\n",
    "done()\n"
   ]
  },
  {
   "cell_type": "markdown",
   "id": "13-76c893",
   "metadata": {},
   "source": [
    "## Police\n",
    "\n",
    "En typographie, une **police d'écriture** est un ensemble de signes graphiques (caractères) dont le style est coordonné, afin de former un alphabet. Voici quelques polices notoires :\n",
    "\n",
    "- **Arial** - utilisé sur l'écran\n",
    "- **Times** - utilisé dans des livres, journaux\n",
    "- **Courier** - police mono-espace, utilisée pour du code\n",
    "- **Didot** - police ancienne et élégante\n",
    "- **Zapfino** - police manuscrite\n",
    "\n"
   ]
  },
  {
   "cell_type": "markdown",
   "id": "14-c65d79",
   "metadata": {},
   "source": [
    "<h3 style=\"color:teal;background-color:azure;\" > <i class=\"fa fa-pencil\" aria-hidden=\"true\"> </i> &nbsp; Exercice 3 </h3>Ajoutez la police **Didot** qui est une police élégante, et la police **Zapfino** qui est une police manuscrite.\n",
    "\n"
   ]
  },
  {
   "cell_type": "code",
   "execution_count": null,
   "id": "15-88bc8f",
   "metadata": {},
   "outputs": [],
   "source": [
    "from turtle import *\n",
    "\n",
    "left(90)\n",
    "forward(100)\n",
    "\n",
    "write('Arial', font=('Arial', 24))\n",
    "backward(60)\n",
    "\n",
    "write('Times', font=('Times', 24))\n",
    "backward(60)\n",
    "\n",
    "write('Courier', font=('Courier', 24))\n",
    "\n",
    "done()\n"
   ]
  },
  {
   "cell_type": "markdown",
   "id": "16-e782cf",
   "metadata": {},
   "source": [
    "En utilisant une variable `police` nous pouvons aussi parcourir un tuple de chaînes de caractères qui représentent des polices. À l'intérieur de la boucle, nous utilisons cette variable `police` deux fois :\n",
    "\n",
    "- pour l'afficher, dans `write(police)`\n",
    "- pour choisir la police, dans l'option `font=(police, ...)`\n",
    "\n"
   ]
  },
  {
   "cell_type": "code",
   "execution_count": null,
   "id": "17-18fd88",
   "metadata": {},
   "outputs": [],
   "source": [
    "from turtle import *\n",
    "\n",
    "left(90)\n",
    "forward(150)\n",
    "for police in ('Arial', 'Times', 'Courier', 'Didot', 'Zapfino'):\n",
    "    back(60)\n",
    "    write(police, font=(police, 24))\n",
    "\n",
    "done()\n"
   ]
  },
  {
   "cell_type": "markdown",
   "id": "18-18fa30",
   "metadata": {},
   "source": [
    "## Style\n",
    "\n",
    "Le troisième argument présente le style de la police :\n",
    "\n",
    "- gras (`bold`)\n",
    "- cursif (`italic`)\n",
    "- gras et cursif (`bold italic`)\n",
    "\n"
   ]
  },
  {
   "cell_type": "markdown",
   "id": "19-ff312a",
   "metadata": {},
   "source": [
    "<h3 style=\"color:teal;background-color:azure;\" > <i class=\"fa fa-pencil\" aria-hidden=\"true\"> </i> &nbsp; Exercice 4 </h3>Ajoutez un quatrième texte avec le style gras et cursif.\n",
    "\n"
   ]
  },
  {
   "cell_type": "code",
   "execution_count": null,
   "id": "20-9ad2ec",
   "metadata": {},
   "outputs": [],
   "source": [
    "from turtle import *\n",
    "\n",
    "left(90)\n",
    "forward(100)\n",
    "\n",
    "write('normal', font=('Arial', 48, 'normal'))\n",
    "backward(90)\n",
    "\n",
    "write('italic', font=('Arial', 48, 'italic'))\n",
    "backward(90)\n",
    "\n",
    "write('bold', font=('Arial', 48, 'bold'))\n",
    "\n",
    "done()\n"
   ]
  },
  {
   "cell_type": "markdown",
   "id": "21-0c8cc5",
   "metadata": {},
   "source": [
    "En utilisant une variable ``style`` nous pouvons aussi parcourir un tuple de chaînes de caractères qui représentent les 4 styles possibles. À l'intérieur de la boucle, nous utilisons cette variable ``style`` deux fois :\n",
    "\n",
    "- pour l'afficher (dans ``write()``)\n",
    "- pour choisir le style (dans l'option ``font=()``)\n",
    "\n"
   ]
  },
  {
   "cell_type": "code",
   "execution_count": null,
   "id": "22-ea8022",
   "metadata": {},
   "outputs": [],
   "source": [
    "from turtle import *\n",
    "\n",
    "left(90)\n",
    "forward(180)\n",
    "for style in ('normal', 'italic', 'bold', 'bold italic'):\n",
    "    backward(90)\n",
    "    write(style, font=('Arial', 48, style))\n",
    "\n",
    "done()\n"
   ]
  },
  {
   "cell_type": "markdown",
   "id": "23-8b431e",
   "metadata": {},
   "source": [
    "## Alignement\n",
    "\n",
    "Le paramètre optionnel `align` permet de choisir parmi 3 types d'alignements :\n",
    "\n",
    "- gauche (`'left'`)\n",
    "- centre (`'center'`)\n",
    "- droite (`'right'`)\n",
    "\n"
   ]
  },
  {
   "cell_type": "markdown",
   "id": "24-0c6719",
   "metadata": {},
   "source": [
    "<h3 style=\"color:teal;background-color:azure;\" > <i class=\"fa fa-pencil\" aria-hidden=\"true\"> </i> &nbsp; Exercice 5 </h3>Écrivez 3-4 lignes de texte en forme de poème qui sont centrées.\n",
    "\n"
   ]
  },
  {
   "cell_type": "code",
   "execution_count": null,
   "id": "25-97277a",
   "metadata": {},
   "outputs": [],
   "source": [
    "from turtle import *\n",
    "\n",
    "left(90)\n",
    "forward(150)\n",
    "for a in ('left', 'center', 'right'):\n",
    "    backward(100)\n",
    "    write(a, font=('Arial', 48), align=a)\n",
    "\n",
    "done()\n"
   ]
  },
  {
   "cell_type": "markdown",
   "id": "26-d6f347",
   "metadata": {},
   "source": [
    "## Texte en escalier\n",
    "\n",
    "Le paramètre optionnel `move` permet de choisir si la tortue se déplace à la fin du texte. Par défaut ce paramètre est `False`.\n",
    "Ce programme place chaque mot en escalier.\n",
    "\n"
   ]
  },
  {
   "cell_type": "markdown",
   "id": "27-08c14f",
   "metadata": {},
   "source": [
    "<h3 style=\"color:teal;background-color:azure;\" > <i class=\"fa fa-pencil\" aria-hidden=\"true\"> </i> &nbsp; Exercice 6 </h3>Que se passe-t-il si vous mettez `move=False` ?\n",
    "\n"
   ]
  },
  {
   "cell_type": "code",
   "execution_count": null,
   "id": "28-54aeb0",
   "metadata": {},
   "outputs": [],
   "source": [
    "from turtle import *\n",
    "\n",
    "mots = ('des', 'mots', 'en', 'escalier')\n",
    "\n",
    "left(90)\n",
    "for mot in mots:\n",
    "    write(mot, font=('Arial', 16), move=True)\n",
    "    forward(30)\n",
    "\n",
    "done()\n"
   ]
  },
  {
   "cell_type": "markdown",
   "id": "29-640dec",
   "metadata": {},
   "source": [
    "## Texte en couleur\n",
    "\n"
   ]
  },
  {
   "cell_type": "markdown",
   "id": "30-84949d",
   "metadata": {},
   "source": [
    "<h3 style=\"color:teal;background-color:azure;\" > <i class=\"fa fa-pencil\" aria-hidden=\"true\"> </i> &nbsp; Exercice 7 </h3>Écrivez les lignes sur la même ligne, en utilisant l'option `move=True`.\n",
    "\n"
   ]
  },
  {
   "cell_type": "code",
   "execution_count": null,
   "id": "31-438f58",
   "metadata": {},
   "outputs": [],
   "source": [
    "from turtle import *\n",
    "\n",
    "right(90)\n",
    "back(100)\n",
    "for c in ('red', 'blue', 'lime', 'indigo'):\n",
    "    color(c)\n",
    "    forward(50)\n",
    "    write(c, font=('Arial', 24, 'bold'))\n",
    "\n",
    "done()\n"
   ]
  },
  {
   "cell_type": "markdown",
   "id": "32-ba08be",
   "metadata": {},
   "source": [
    "```{caution}\n",
    "Si vous exécutez `write()` dans ce site avec [Skulpt](https://skulpt.org), la couleur du texte est définie par `fillcolor()`. Quand vous exécutez `write()` dans un éditeur externe avec Python standard, la couleur du texte est définie par `pencolor()`.\n",
    "```\n",
    "\n"
   ]
  },
  {
   "cell_type": "markdown",
   "id": "33-6050f8",
   "metadata": {},
   "source": [
    "## Texte aligné\n",
    "\n",
    "Le texte suivant est une phrase célèbre de *Star Wars*.\n",
    "Les mots sont alignés une fois à gauche, une fois au centre et une fois à droite.\n",
    "\n"
   ]
  },
  {
   "cell_type": "code",
   "execution_count": null,
   "id": "34-b32bd7",
   "metadata": {},
   "outputs": [],
   "source": [
    "from turtle import *\n",
    "\n",
    "mots = ('que', 'la', 'force', 'soit', 'avec', 'toi')\n",
    "\n",
    "goto(-200, 100)\n",
    "right(90)\n",
    "for mot in mots:\n",
    "    write(mot, font=('Arial', 24))\n",
    "    forward(40)\n",
    "\n",
    "goto(0, 100)\n",
    "for mot in mots:\n",
    "    write(mot, font=('Arial', 24), align='center')\n",
    "    forward(40)\n",
    "\n",
    "goto(200, 100)\n",
    "for mot in mots:\n",
    "    write(mot, font=('Arial', 24), align='right')\n",
    "    forward(40)\n",
    "\n",
    "done()\n"
   ]
  },
  {
   "cell_type": "markdown",
   "id": "35-dc4516",
   "metadata": {},
   "source": [
    "## Sudoku\n",
    "\n",
    "Le sudoku est un jeu en forme de grille 9x9. Le but du jeu est de remplir la grille avec une série de chiffres, tous différents, qui ne se trouvent jamais plus d’une fois sur une même ligne, dans une même colonne ou dans une même région 3x3, appelé bloc.\n",
    "\n"
   ]
  },
  {
   "cell_type": "code",
   "execution_count": null,
   "id": "36-356f14",
   "metadata": {},
   "outputs": [],
   "source": [
    "from turtle import *\n",
    "d = 40\n",
    "speed(10)\n",
    "\n",
    "def case(nombre):\n",
    "    for i in range(4):\n",
    "        forward(d)\n",
    "        left(90)\n",
    "    forward(d/2)\n",
    "    if nombre > 0:\n",
    "        write(nombre, font=(None, d), align='center')\n",
    "    forward(d/2)\n",
    "\n",
    "back(200)\n",
    "for i in range(10):\n",
    "    case(i)\n",
    "\n",
    "done()\n"
   ]
  },
  {
   "cell_type": "markdown",
   "id": "37-583568",
   "metadata": {},
   "source": [
    "## WhatsApp\n",
    "\n",
    "L'application [WhatsApp](https://fr.wikipedia.org/wiki/WhatsApp) fournit un système de messagerie instantanée chiffrée de bout en bout aussi bien via les réseaux de téléphonie mobile que par Internet.\n",
    "\n",
    "WhatsApp a remporté un grand succès au tournant des années 2010. L'application est créée en 2009 par Jan Koum et Brian Acton, deux anciens employés de la société américaine Yahoo! avec pour objectif de remplacer le SMS. Elle est utilisée par plus de deux milliards de personnes en 2020.\n",
    "\n",
    "En 2014, WhatsApp est acquis par Facebook pour un montant d'environ 22 milliards soit environ 350 millions de dollars par employé ou 40 dollars par utilisateur.\n",
    "\n",
    "Dans le programme ci-dessous nous allons afficher une conversation entre deux personnes dans le style d'une application de messagerie. Nous utilisons la fonction `goto()` pour placer la tortue à une position `(x, y)` et la fonction `setx()` placer la tortue vers la marge gauche (-280) ou droite (280).\n",
    "\n"
   ]
  },
  {
   "cell_type": "code",
   "execution_count": null,
   "id": "38-880fcc",
   "metadata": {},
   "outputs": [],
   "source": [
    "from turtle import *\n",
    "\n",
    "lignes = (('Comment-vas tu?', 'Bien'),\n",
    "          ('Et toi ?', 'Très bien.'),\n",
    "          ('Moi aussi.', 'Super.'))\n",
    "\n",
    "d = 50\n",
    "up()\n",
    "goto(-280, 150)\n",
    "right(90)\n",
    "\n",
    "for (texte1, texte2) in lignes:\n",
    "    setx(-280)\n",
    "    color('red')\n",
    "    write(texte1, font=('Arial', d/2))\n",
    "    forward(d)\n",
    "\n",
    "    setx(280)\n",
    "    color('indigo')\n",
    "    write(texte2, font=('Arial', d/2), align='right')\n",
    "    forward(d)\n",
    "\n",
    "done()\n"
   ]
  },
  {
   "cell_type": "markdown",
   "id": "39-7453b7",
   "metadata": {},
   "source": [
    "## Exercice\n",
    "\n"
   ]
  },
  {
   "cell_type": "markdown",
   "id": "40-dcad24",
   "metadata": {},
   "source": [
    "### Sudoku\n",
    "\n",
    "Reproduisez l'image ci-dessous\n",
    "\n"
   ]
  },
  {
   "cell_type": "markdown",
   "id": "41-4b23dd",
   "metadata": {},
   "source": [
    "<img src=\"https://raw.githubusercontent.com/edunumsec2/book/master/src/appr/prog1/media/sudoku.png\" alt=\"media/sudoku.png\" width=\"200\"/>"
   ]
  },
  {
   "cell_type": "markdown",
   "id": "42-bf1c44",
   "metadata": {},
   "source": [
    "\n",
    " \n",
    "\n"
   ]
  },
  {
   "cell_type": "code",
   "execution_count": null,
   "id": "43-23a8d8",
   "metadata": {},
   "outputs": [],
   "source": [
    "from turtle import *\n",
    "\n",
    "ligne1 = (5, 3, 0, 0, 7, 0, 0, 0, 0)\n",
    "ligne2 = (6, 0, 0, 1, 9, 5, 0, 0, 0)\n",
    "...\n",
    "\n",
    "d = 30\n",
    "\n",
    "def case(nombre):\n",
    "    for i in range(4):\n",
    "        forward(d)\n",
    "        left(90)\n",
    "    forward(d/2)\n",
    "    if nombre > 0:\n",
    "        write(nombre, font=(None, d), align='center')\n",
    "    forward(d/2)\n",
    "\n",
    "backward(4.5 * d)\n",
    "for n in ligne1:\n",
    "    case(n)\n",
    "\n",
    "\n",
    "done()\n"
   ]
  },
  {
   "cell_type": "markdown",
   "id": "44-f6a19a",
   "metadata": {},
   "source": [
    "### WhatsApp\n",
    "\n",
    "Créez une conversation WhatsApp fictive. D'abord en mode claire, ensuite en mode sombre (dark mode).\n",
    "\n"
   ]
  },
  {
   "cell_type": "code",
   "execution_count": null,
   "id": "45-7fc10d",
   "metadata": {},
   "outputs": [],
   "source": [
    "from turtle import *\n",
    "\n",
    "...\n",
    "\n",
    "done()\n"
   ]
  },
  {
   "cell_type": "markdown",
   "id": "46-22bcd1",
   "metadata": {},
   "source": [
    "### Scrabble\n",
    "\n",
    "Affichez deux mots qui ont une lettre en commun. Un mot à l'horizontale, le deuxième mot à la verticale.\n",
    "\n"
   ]
  },
  {
   "cell_type": "code",
   "execution_count": null,
   "id": "47-7fc10d",
   "metadata": {},
   "outputs": [],
   "source": [
    "from turtle import *\n",
    "\n",
    "...\n",
    "\n",
    "done()\n"
   ]
  },
  {
   "cell_type": "markdown",
   "id": "48-ab7234",
   "metadata": {},
   "source": [
    "### Nuage de mots-clés\n",
    "\n",
    "Le [nuage de mots-clés](https://fr.wikipedia.org/wiki/Nuage_de_mots-clés), ou nuage de tags (en anglais **tag cloud**) est une représentation visuelle des mots-clés (tags) très souvent utilisée en web. Généralement, les mots s'affichent dans des tailles et graisses de caractères d'autant plus visibles qu'ils sont utilisés ou populaires.\n",
    "\n",
    "Choisissez 10 mots et affichez-les avec 10 tailles différentes. La taille la plus grande doit apparaitre au milieu. Les mots ne doivent pas se superposer. Utilisez des tuples avec 10 mots, 10 tailles et 10 positions.\n",
    "\n"
   ]
  },
  {
   "cell_type": "code",
   "execution_count": null,
   "id": "49-7fc10d",
   "metadata": {},
   "outputs": [],
   "source": [
    "from turtle import *\n",
    "\n",
    "...\n",
    "\n",
    "done()\n"
   ]
  },
  {
   "cell_type": "markdown",
   "id": "50-6ab1c1",
   "metadata": {},
   "source": [
    "### TP\n",
    "\n",
    "Créez une image libre avec un nuage de mots et un poème.\n",
    "Pour exporter l'image en EPS vous devez enlever les commentaires dans les 3 lignes suivants:\n",
    "\n",
    "```\n"
   ]
  },
  {
   "cell_type": "markdown",
   "id": "51-2ca5e8",
   "metadata": {},
   "source": [
    "# from tkinter import *\n"
   ]
  },
  {
   "cell_type": "markdown",
   "id": "52-f36cd9",
   "metadata": {},
   "source": [
    "# Screen().setup(width=w+40, height=h+40)\n"
   ]
  },
  {
   "cell_type": "markdown",
   "id": "53-e56a5b",
   "metadata": {},
   "source": [
    "# Screen().getcanvas().postscript(file='tp.eps')\n",
    "```\n",
    "\n"
   ]
  },
  {
   "cell_type": "code",
   "execution_count": null,
   "id": "54-3d4eaf",
   "metadata": {},
   "outputs": [],
   "source": [
    "\"\"\"\n",
    "tp10 - typographier\n",
    "\n",
    "Nom :\n",
    "Classe :\n",
    "Date :\n",
    "\n",
    "- Nommez ce fichier : tpX_classe_prenom (minuscules, sans accents)\n",
    "\n",
    "Créez une image avec 2 parties :\n",
    "- Nuage de mots (10+ mots)\n",
    "- Poésie (5+ lignes)\n",
    "\n",
    "- Utilisez différentes polices, tailles, et couleurs\n",
    "- Déposez sur Moodle les 3 fichiers (py, eps, jpg)\n",
    "\"\"\"\n",
    "from turtle import *\n",
    "# from tkinter import *\n",
    "\n",
    "w, h = 600, 400\n",
    "# Screen().setup(width=w+40, height=h+40)\n",
    "up()\n",
    "\n",
    "def rectangle(p, d, e, text):\n",
    "    goto(p)\n",
    "    write(text, font=('Arial', 12))\n",
    "    down()\n",
    "    for i in range(2):\n",
    "        forward(d)\n",
    "        left(90)\n",
    "        forward(e)\n",
    "        left(90)\n",
    "    up()\n",
    "\n",
    "rectangle((-w/2, -h/2), w/2, h, 'Nuage de mots')\n",
    "rectangle((0, -h/2), w/2, h, 'Poésie')\n",
    "\n",
    "...\n",
    "\n",
    "# Screen().getcanvas().postscript(file='tp.eps')\n",
    "done()"
   ]
  },
  {
   "cell_type": "markdown",
   "id": "55-cebd46",
   "metadata": {},
   "source": [
    "---\n",
    "\n",
    "#### Remarque générale\n",
    "\n",
    "Ce document est une adaptation d'un ressource pédagogique tiré du catalogue modulo https://modulo-info.ch/. Il est sous license Creative Commons [BY-NC-SA](https://creativecommons.org/licenses/?lang=fr)\n",
    "![Licence Creative Commons](https://i.creativecommons.org/l/by-nc-sa/4.0/88x31.png)\n",
    "\n",
    "    "
   ]
  }
 ],
 "metadata": {
  "kernelspec": {
   "display_name": "Python 3 (ipykernel)",
   "language": "python",
   "name": "python3"
  },
  "language_info": {
   "codemirror_mode": {
    "name": "ipython",
    "version": 3
   },
   "file_extension": ".py",
   "mimetype": "text/x-python",
   "name": "python",
   "nbconvert_exporter": "python",
   "pygments_lexer": "ipython3",
   "version": "3.10.12"
  }
 },
 "nbformat": 4,
 "nbformat_minor": 5
}
