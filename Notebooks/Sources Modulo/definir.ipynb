{
 "cells": [
  {
   "cell_type": "markdown",
   "id": "0-4a42e0",
   "metadata": {},
   "source": [
    "<div style=\"padding:20px;background-color:papayawhip;\" > \n",
    "<h3 style=\"color:chocolate\"> <i class=\"fa fa-info\" aria-hidden=\"true\"> </i> &nbsp; Remarque introductive &nbsp;  <i class=\"fa fa-info\" aria-hidden=\"true\"></h3> \n",
    "<p> Ce fichier est fait pour être lu sur le site <a href=\"https://notebook.basthon.fr/\"><img src='https://notebook.basthon.fr/assets/efede5218c9087496f16.png' style=\"border: 0; display:inline; margin: 0 5px; height:30px\" alt=\"Basthon\"/></a>. <br>\n",
    "    \n",
    "Si vous l'avez ouvert avec un autre programme, comme Jupyter notebook, vous riquez de rencontrer quelques bugs. <br>\n",
    "Veuillez cliquez sur <a href=\"https://notebook.basthon.fr/\">ce lien</a> et y charger ce fichier à l'aide du bouton \"Ouvrir\"  &nbsp; <i class=\"fa fa-folder\" aria-hidden=\"true\"> </i>\n",
    "</p> </div>    "
   ]
  },
  {
   "cell_type": "markdown",
   "id": "1-ce6f1f",
   "metadata": {},
   "source": [
    "# Définir - `def`\n",
    "\n",
    "Dans ce chapitre, nous allons découvrir comment augmenter le vocabulaire de notre langage de programmation en définissant de nouvelles instructions, qu'on appelle aussi **fonction**. Ceci permet de rendre un code plus compact, mais surtout plus lisible. Nous allons voir que :\n",
    "\n",
    "- le mot-clé `def` permet de nommer (définir) une séquence,\n",
    "- le bloc qui suit doit être en **indentation** (décalé à droite),\n",
    "- les fonctions `up()/down()` permettent de lever et baisser le stylo.\n",
    "\n"
   ]
  },
  {
   "cell_type": "markdown",
   "id": "2-85e16f",
   "metadata": {},
   "source": [
    "<h3 style=\"color:chocolate;background-color:papayawhip;\" > <i class=\"fa fa-question\" aria-hidden=\"true\"> </i> &nbsp; Quizz </h3> \n",
    " \n",
    "```\n",
    "Une fonction permet de\n",
    "\n",
    "A) donner un nom à une séquence\n",
    "B) nous dire si ça fonctionne\n",
    "C) augmenter le vocabulaire du langage de programmation\n",
    "D) rendre un programme plus lisible\n",
    "```"
   ]
  },
  {
   "cell_type": "raw",
   "id": "3-770ee9",
   "metadata": {},
   "source": [
    "Ma réponse : "
   ]
  },
  {
   "cell_type": "markdown",
   "id": "4-8b771c",
   "metadata": {},
   "source": [
    "<details>\n",
    "<summary style=\"border-left:3px solid #3c763d; border-radius:2pt; width:100%; color:#3c763d; padding:6px; background-color: #dff0d8\"> \n",
    "Réponse\n",
    "</summary>  \n",
    "\n",
    "<div style=\"border-left:3px solid #3c763d; border-radius:2pt; color:#3c763d; padding:6px; background-color: #eff0e8\">D) rendre un programme plus lisible\n",
    "</div>\n",
    "</details>\n",
    "                \n"
   ]
  },
  {
   "cell_type": "markdown",
   "id": "5-e54f25",
   "metadata": {},
   "source": [
    "## Nommer une séquence\n",
    "\n",
    "Dessiner un rectangle est assez utile. C'est une forme qu'on pourra réutiliser certainement souvent. Il serait pratique de définir un nom pour ces 8 lignes de code. Pouvons-nous définir de nouvelles commandes ?\n",
    "\n",
    "```python\n",
    "forward(160)\n",
    "left(90)\n",
    "forward(100)\n",
    "left(90)\n",
    "forward(160)\n",
    "left(90)\n",
    "forward(100)\n",
    "left(90)\n",
    "```\n",
    "\n",
    "Oui, c'est possible. Avec le mot-clé `def`, nous pouvons définir une nouvelle commande que nous pouvons par exemple appeler `rectangle()`.\n",
    "Cette façon de créer un raccourci est appelée **définir** une fonction.\n",
    "Le code à exécuter suit l'expression `def rectangle():` et se trouve en **indentation** (décalé vers la droite).\n",
    "\n",
    "Ensuite, il suffit d'écrire `rectangle()` pour dessiner un rectangle. On appelle ceci **appeler** une fonction.\n",
    "Rappelez-vous ceci :\n",
    "\n",
    "- on définit une fonction une seule fois,\n",
    "- on appelle une fonction autant de fois que l'on veut,\n",
    "- si on ne l'appelle pas, elle n'est pas exécutée et il ne se passe rien.\n",
    "\n",
    "Définir une fonction nous permet de réduire le nombre de lignes de code nécessaires.\n",
    "Chaque fois que nous utilisons `rectangle()`,\n",
    "au lieu d'écrire 8 lignes, nous écrivons seulement une ligne de code.\n",
    "\n"
   ]
  },
  {
   "cell_type": "markdown",
   "id": "6-67cac8",
   "metadata": {},
   "source": [
    "<h3 style=\"color:teal;background-color:azure;\" > <i class=\"fa fa-pencil\" aria-hidden=\"true\"> </i> &nbsp; Exercice 1 </h3>Dessinez encore d'autres rectangles en appelant la nouvelle fonction `rectangle()`.\n",
    "\n"
   ]
  },
  {
   "cell_type": "code",
   "execution_count": null,
   "id": "7-05055e",
   "metadata": {},
   "outputs": [],
   "source": [
    "from turtle import *\n",
    "\n",
    "def rectangle():\n",
    "    forward(160)\n",
    "    left(90)\n",
    "    forward(100)\n",
    "    left(90)\n",
    "    forward(160)\n",
    "    left(90)\n",
    "    forward(100)\n",
    "    left(90)\n",
    "\n",
    "rectangle()\n",
    "left(90)\n",
    "rectangle()\n",
    "\n",
    "done()\n"
   ]
  },
  {
   "cell_type": "markdown",
   "id": "8-cc19aa",
   "metadata": {},
   "source": [
    "<h3 style=\"color:chocolate;background-color:papayawhip;\" > <i class=\"fa fa-question\" aria-hidden=\"true\"> </i> &nbsp; Quizz </h3> \n",
    " \n",
    "```\n",
    "Une **indentation** de texte est\n",
    "\n",
    "A) un décalage vers la gauche\n",
    "B) un décalage vers la droite\n",
    "C) une mise en paragraphe\n",
    "D) une mise en sous-section\n",
    "```"
   ]
  },
  {
   "cell_type": "raw",
   "id": "9-770ee9",
   "metadata": {},
   "source": [
    "Ma réponse : "
   ]
  },
  {
   "cell_type": "markdown",
   "id": "10-0e17ce",
   "metadata": {},
   "source": [
    "<details>\n",
    "<summary style=\"border-left:3px solid #3c763d; border-radius:2pt; width:100%; color:#3c763d; padding:6px; background-color: #dff0d8\"> \n",
    "Réponse\n",
    "</summary>  \n",
    "\n",
    "<div style=\"border-left:3px solid #3c763d; border-radius:2pt; color:#3c763d; padding:6px; background-color: #eff0e8\">B) un décalage vers la droite\n",
    "</div>\n",
    "</details>\n",
    "                \n"
   ]
  },
  {
   "cell_type": "markdown",
   "id": "11-829999",
   "metadata": {},
   "source": [
    "## Donner du sens\n",
    "\n",
    "Une fonction ne permet pas seulement d'économiser des lignes de code.\n",
    "Elle permet aussi de structurer le code et de lui donner un sens. Considérez par exemple le code ci-dessous. Il est presque impossible de comprendre ce que fait le programme en regardant les 17 lignes de code.\n",
    "\n"
   ]
  },
  {
   "cell_type": "code",
   "execution_count": null,
   "id": "12-5dbc69",
   "metadata": {},
   "outputs": [],
   "source": [
    "from turtle import *\n",
    "\n",
    "forward(200)\n",
    "left(90)\n",
    "forward(100)\n",
    "left(90)\n",
    "forward(200)\n",
    "left(90)\n",
    "forward(100)\n",
    "left(90)\n",
    "forward(30)\n",
    "forward(30)\n",
    "left(90)\n",
    "forward(50)\n",
    "left(90)\n",
    "forward(30)\n",
    "left(90)\n",
    "forward(50)\n",
    "left(90)\n",
    "\n",
    "done()\n"
   ]
  },
  {
   "cell_type": "markdown",
   "id": "13-bbf146",
   "metadata": {},
   "source": [
    "Si nous observons la tortue, nous comprenons finalement qu'elle dessine deux fois un rectangle. Nous pouvons même interpréter cette image et donner le sens de bâtiment au premier rectangle, et de porte au second.\n",
    "\n",
    "Essayons maintenant de découper le code en **sous-programmes** en utilisant deux fonctions `batiment()` et `porte()`.\n",
    "En regardant ces 3 lignes de code, on comprend immédiatement le sens du programme.\n",
    "\n",
    "``` python\n",
    "batiment()\n",
    "forward(30)     # repositionner la tortue\n",
    "porte()\n",
    "```\n",
    "\n",
    "La définition d'une fonction permet d'ajouter de nouveaux mots à un langage de programmation. Contrairement aux commandes natives de Python qui sont toutes en anglais, nous sommes libres de les choisir en français.\n",
    "\n",
    "**Attention** : écrivez les fonctions sans accents et sans circonflexes : `batiment()`, `carre()`, `boite()`.\n",
    "\n"
   ]
  },
  {
   "cell_type": "markdown",
   "id": "14-d797a1",
   "metadata": {},
   "source": [
    "<h3 style=\"color:teal;background-color:azure;\" > <i class=\"fa fa-pencil\" aria-hidden=\"true\"> </i> &nbsp; Exercice 2 </h3>Ajoutez une deuxième porte au bâtiment. Ensuite, faites-en une porte double.\n",
    "\n"
   ]
  },
  {
   "cell_type": "code",
   "execution_count": null,
   "id": "15-f6a99c",
   "metadata": {},
   "outputs": [],
   "source": [
    "from turtle import *\n",
    "\n",
    "def batiment():\n",
    "    forward(200)\n",
    "    left(90)\n",
    "    forward(100)\n",
    "    left(90)\n",
    "    forward(200)\n",
    "    left(90)\n",
    "    forward(100)\n",
    "    left(90)\n",
    "\n",
    "def porte():\n",
    "    forward(30)\n",
    "    left(90)\n",
    "    forward(50)\n",
    "    left(90)\n",
    "    forward(30)\n",
    "    left(90)\n",
    "    forward(50)\n",
    "    left(90)\n",
    "\n",
    "batiment()\n",
    "forward(30)\n",
    "porte()\n",
    "\n",
    "done()\n"
   ]
  },
  {
   "cell_type": "markdown",
   "id": "16-480947",
   "metadata": {},
   "source": [
    "<h3 style=\"color:chocolate;background-color:papayawhip;\" > <i class=\"fa fa-question\" aria-hidden=\"true\"> </i> &nbsp; Quizz </h3> \n",
    " \n",
    "```\n",
    "À combien de lignes de code la fonction `porte()` est-elle équivalente ?\n",
    "\n",
    "A) 1 ligne\n",
    "B) 2 lignes\n",
    "C) 8 lignes\n",
    "D) 17 lignes\n",
    "```"
   ]
  },
  {
   "cell_type": "raw",
   "id": "17-770ee9",
   "metadata": {},
   "source": [
    "Ma réponse : "
   ]
  },
  {
   "cell_type": "markdown",
   "id": "18-3ed11f",
   "metadata": {},
   "source": [
    "<details>\n",
    "<summary style=\"border-left:3px solid #3c763d; border-radius:2pt; width:100%; color:#3c763d; padding:6px; background-color: #dff0d8\"> \n",
    "Réponse\n",
    "</summary>  \n",
    "\n",
    "<div style=\"border-left:3px solid #3c763d; border-radius:2pt; color:#3c763d; padding:6px; background-color: #eff0e8\">C) 8 lignes\n",
    "</div>\n",
    "</details>\n",
    "                \n"
   ]
  },
  {
   "cell_type": "markdown",
   "id": "19-32c870",
   "metadata": {},
   "source": [
    "## Définir une fonction\n",
    "\n",
    "Le fait de donner un nom à une séquence d'instructions est appelé **définir une fonction**. Une **définition de fonction** comporte :\n",
    "\n",
    "1. le mot-clé `def` (définir),\n",
    "1. le nom de la fonction (`batiment/porte`),\n",
    "1. les parenthèses `()`,\n",
    "1. le deux-points `:`,\n",
    "1. un bloc en indentation.\n",
    "\n",
    "Qu'est-ce qu'un bloc en indentation ?\n",
    "C'est un bloc de texte qui comporte des espaces vides à gauche. En Python, ces espaces apparaissent en multiples de 4.\n",
    "\n",
    "L'indentation est très importante en Python. C'est l'indentation qui indique l'étendue des instructions qui font partie de la fonction.\n",
    "\n"
   ]
  },
  {
   "cell_type": "markdown",
   "id": "20-236abd",
   "metadata": {},
   "source": [
    "<h3 style=\"color:chocolate;background-color:papayawhip;\" > <i class=\"fa fa-question\" aria-hidden=\"true\"> </i> &nbsp; Quizz </h3> \n",
    " \n",
    "```\n",
    "Parmi les 4 définitions de fonction ci-dessous, laquelle est correcte ?\n",
    "\n",
    "A) def() rectangle:\n",
    "B) def: rectangle\n",
    "C) def rectangle():\n",
    "D) def(rectangle):\n",
    "```"
   ]
  },
  {
   "cell_type": "raw",
   "id": "21-770ee9",
   "metadata": {},
   "source": [
    "Ma réponse : "
   ]
  },
  {
   "cell_type": "markdown",
   "id": "22-bdd429",
   "metadata": {},
   "source": [
    "<details>\n",
    "<summary style=\"border-left:3px solid #3c763d; border-radius:2pt; width:100%; color:#3c763d; padding:6px; background-color: #dff0d8\"> \n",
    "Réponse\n",
    "</summary>  \n",
    "\n",
    "<div style=\"border-left:3px solid #3c763d; border-radius:2pt; color:#3c763d; padding:6px; background-color: #eff0e8\">C) def rectangle():\n",
    "</div>\n",
    "</details>\n",
    "                \n"
   ]
  },
  {
   "cell_type": "markdown",
   "id": "23-4b7004",
   "metadata": {},
   "source": [
    "## Indenter avec un raccourci\n",
    "\n",
    "Comme l'indentation est tellement importante en Python, il en existe un raccourci.\n",
    "Il faut d'abord sélectionner les lignes de code dont vous voulez changer l'indentation.\n",
    "Ensuite, vous appuyez sur :\n",
    "\n",
    "- la touche **tab** pour augmenter l'indentation\n",
    "- la touche **maj+tab** pour diminuer l'indentation\n",
    "\n"
   ]
  },
  {
   "cell_type": "markdown",
   "id": "24-2782b3",
   "metadata": {},
   "source": [
    "<h3 style=\"color:teal;background-color:azure;\" > <i class=\"fa fa-pencil\" aria-hidden=\"true\"> </i> &nbsp; Exercice 3 </h3>Essayez ces raccourcis dans le code ci-dessous. Transformez le code en deux fonctions `batiment()` et `porte()`, que vous appelez ensuite.\n",
    "\n"
   ]
  },
  {
   "cell_type": "code",
   "execution_count": null,
   "id": "25-5dbc69",
   "metadata": {},
   "outputs": [],
   "source": [
    "from turtle import *\n",
    "\n",
    "forward(200)\n",
    "left(90)\n",
    "forward(100)\n",
    "left(90)\n",
    "forward(200)\n",
    "left(90)\n",
    "forward(100)\n",
    "left(90)\n",
    "forward(30)\n",
    "forward(30)\n",
    "left(90)\n",
    "forward(50)\n",
    "left(90)\n",
    "forward(30)\n",
    "left(90)\n",
    "forward(50)\n",
    "left(90)\n",
    "\n",
    "done()\n"
   ]
  },
  {
   "cell_type": "markdown",
   "id": "26-2a38c2",
   "metadata": {},
   "source": [
    "Voici encore un raccourci très utile : **cmd+Enter** pour exécuter le code.\n",
    "\n"
   ]
  },
  {
   "cell_type": "markdown",
   "id": "27-6d272e",
   "metadata": {},
   "source": [
    "## Maison avec porte\n",
    "\n",
    "Une fois qu'une fonction est définie, elle peut être utilisée partout, même dans la définition d'une autre fonction.\n",
    "\n",
    "Ici, nous avons une fonction `porte()`, qui est utilisée à l'intérieur d'une deuxième fonction `maison()`. Pour que ceci soit possible, la définition de porte doit être placée avant la définition de `maison()`.\n",
    "\n"
   ]
  },
  {
   "cell_type": "markdown",
   "id": "28-78a55a",
   "metadata": {},
   "source": [
    "<h3 style=\"color:teal;background-color:azure;\" > <i class=\"fa fa-pencil\" aria-hidden=\"true\"> </i> &nbsp; Exercice 4 </h3>Déplacez la porte vers le milieu de la maison, et dessinez une deuxième maison.\n",
    "\n"
   ]
  },
  {
   "cell_type": "code",
   "execution_count": null,
   "id": "29-d62cad",
   "metadata": {},
   "outputs": [],
   "source": [
    "from turtle import *\n",
    "\n",
    "def porte():\n",
    "    forward(20)\n",
    "    left(90)\n",
    "    forward(40)\n",
    "    left(90)\n",
    "    forward(20)\n",
    "    left(90)\n",
    "    forward(40)\n",
    "    left(90)\n",
    "\n",
    "def maison():\n",
    "    forward(100)\n",
    "    left(90)\n",
    "    forward(60)\n",
    "    left(45)\n",
    "    forward(71)\n",
    "    left(90)\n",
    "    forward(71)\n",
    "    left(45)\n",
    "    forward(60)\n",
    "    left(90)\n",
    "    porte()\n",
    "\n",
    "maison()\n",
    "\n",
    "done()\n"
   ]
  },
  {
   "cell_type": "markdown",
   "id": "30-80209c",
   "metadata": {},
   "source": [
    "## Variable globale\n",
    "\n",
    "Une variable est le concept d'associer un **nom symbolique** à une valeur.\n",
    "\n",
    "Avant de pouvoir utiliser une variable, elle doit être créée.\n",
    "On appelle ce processus une **affectation** et on dit qu'on associe une valeur à une variable.\n",
    "La forme générale est `var = valeur` ou `var` est le nom de la variable et `valeur` est sa valeur.\n",
    "Attention, ceci n'est pas une égalité au sens mathématique.\n",
    "\n",
    "Dans le programme chaque instance de `d` est remplacée par 80. La commande `forward(d)` va donc prendre le sens de `forward(80)` et faire avancer la tortue de 80 pas.\n",
    "\n"
   ]
  },
  {
   "cell_type": "markdown",
   "id": "31-569d1d",
   "metadata": {},
   "source": [
    "<h3 style=\"color:teal;background-color:azure;\" > <i class=\"fa fa-pencil\" aria-hidden=\"true\"> </i> &nbsp; Exercice 5 </h3>Modifiez la valeur de la variable globale `d` et exécutez le programme.\n",
    "\n"
   ]
  },
  {
   "cell_type": "code",
   "execution_count": null,
   "id": "32-c64b79",
   "metadata": {},
   "outputs": [],
   "source": [
    "from turtle import *\n",
    "\n",
    "d = 80      # variable globale (d = distance)\n",
    "\n",
    "def triangle():\n",
    "    forward(d)\n",
    "    left(120)\n",
    "    forward(d)\n",
    "    left(120)\n",
    "    forward(d)\n",
    "\n",
    "triangle()\n",
    "triangle()\n",
    "triangle()\n",
    "\n",
    "done()\n"
   ]
  },
  {
   "cell_type": "markdown",
   "id": "33-d0375d",
   "metadata": {},
   "source": [
    "Une variable globale apparait au début du programme et sert à configurer une propriété générale d'un programme. Ici nous choisissons une variable globale `d` pour indiquer une **distance** de base.\n",
    "Cette distance est utilisée pour pouvoir dessiner des formes d'une hauteur standard.\n",
    "\n",
    "```{caution}\n",
    "Utilisez les variables globales avec beaucoup de modération !\n",
    "```\n",
    "\n"
   ]
  },
  {
   "cell_type": "markdown",
   "id": "34-c34090",
   "metadata": {},
   "source": [
    "## Le point `dot()`\n",
    "\n",
    "La fonction `dot()` dessine un point à la position actuelle de la tortue.\n",
    "\n"
   ]
  },
  {
   "cell_type": "markdown",
   "id": "35-eab38f",
   "metadata": {},
   "source": [
    "<h3 style=\"color:teal;background-color:azure;\" > <i class=\"fa fa-pencil\" aria-hidden=\"true\"> </i> &nbsp; Exercice 6 </h3>Ajoutez un point (`dot`) au sommet du triangle.\n",
    "\n"
   ]
  },
  {
   "cell_type": "code",
   "execution_count": null,
   "id": "36-e6137f",
   "metadata": {},
   "outputs": [],
   "source": [
    "from turtle import *\n",
    "\n",
    "d = 100      # variable globale (d = distance)\n",
    "\n",
    "def triangle():\n",
    "    dot()\n",
    "    forward(d)\n",
    "    left(120)\n",
    "    dot()\n",
    "    forward(d)\n",
    "    left(120)\n",
    "    forward(d)\n",
    "\n",
    "triangle()\n",
    "\n",
    "done()\n"
   ]
  },
  {
   "cell_type": "markdown",
   "id": "37-bea3b9",
   "metadata": {},
   "source": [
    "## Lever le stylo\n",
    "\n",
    "Les deux commandes `up()` et `down()` permettent de lever et de baisser le stylo.\n",
    "Ceci nous permet de dessiner des formes séparées, comme ici le petit i avec son point.\n",
    "\n"
   ]
  },
  {
   "cell_type": "markdown",
   "id": "38-fcdeb2",
   "metadata": {},
   "source": [
    "<h3 style=\"color:teal;background-color:azure;\" > <i class=\"fa fa-pencil\" aria-hidden=\"true\"> </i> &nbsp; Exercice 7 </h3>Transformez le i vers un i avec trema (deux points).\n",
    "\n"
   ]
  },
  {
   "cell_type": "code",
   "execution_count": null,
   "id": "39-a4a7f5",
   "metadata": {},
   "outputs": [],
   "source": [
    "from turtle import *\n",
    "d = 50\n",
    "\n",
    "def i():\n",
    "    dot()\n",
    "    down()      # poser le stylo\n",
    "    left(90)\n",
    "    forward(d)\n",
    "    up()        # lever le stylo\n",
    "    forward(d)\n",
    "    dot()\n",
    "    backward(2*d)\n",
    "    right(90)\n",
    "    forward(d/2)    # avancer à la prochaine lettre\n",
    "\n",
    "i()\n",
    "i()\n",
    "\n",
    "done()\n"
   ]
  },
  {
   "cell_type": "markdown",
   "id": "40-4e7788",
   "metadata": {},
   "source": [
    "```{caution}\n",
    "Contrairement aux fonctions `forward(d)` et `backward(d)` qui nécessitent un argument, les fonctions `up()` et `down()` ne nécessitent pas d'argument.\n",
    "```\n",
    "\n"
   ]
  },
  {
   "cell_type": "markdown",
   "id": "41-f82c2a",
   "metadata": {},
   "source": [
    "## Dessiner des lettres\n",
    "\n",
    "Voici quelques astuces pour dessiner des lettres:\n",
    "\n",
    "- Basez la dimension de chaque lettre sur la variable `d`. Ceci permet de choisir la taille des lettres.\n",
    "- Marquez le point de départ avec un point (dot).\n",
    "- Posez le stylo au début de chaque lettre (down), levez-le à la fin (up).\n",
    "\n",
    "- À la fin, avancez la tortue à la position de la prochaine lettre.\n",
    "\n"
   ]
  },
  {
   "cell_type": "code",
   "execution_count": null,
   "id": "42-6dcc8a",
   "metadata": {},
   "outputs": [],
   "source": [
    "from turtle import *\n",
    "d = 50\n",
    "\n",
    "def h():\n",
    "    dot()\n",
    "    down()\n",
    "    left(90)\n",
    "    forward(2*d)\n",
    "    backward(d)\n",
    "    right(90)\n",
    "    forward(d)\n",
    "    right(90)\n",
    "    forward(d)\n",
    "    left(90)\n",
    "    up()\n",
    "    forward(d/2)\n",
    "\n",
    "def i():\n",
    "    dot()\n",
    "    down()\n",
    "    left(90)\n",
    "    forward(d)\n",
    "    up()\n",
    "    forward(d)\n",
    "    dot()\n",
    "    backward(2*d)\n",
    "    right(90)\n",
    "    forward(d/2)\n",
    "\n",
    "h()\n",
    "i()\n",
    "h()\n",
    "i()\n",
    "\n",
    "done()\n"
   ]
  },
  {
   "cell_type": "markdown",
   "id": "43-6d00a9",
   "metadata": {},
   "source": [
    "## Trouver des motifs\n",
    "\n",
    "Une stratégie importante dans la programmation est de **reconnaître des structures identiques**. Par exemple, quand vous voyez un motif répété dans un dessin, vous devez repérer la partie qui est répétée et en créer une fonction.\n",
    "\n",
    "La fonction `bras()` dessine les 3 côtés d'un carré et tourne, à la fin, dans le sens approprié pour la suite.\n",
    "Ensuite, il suffit d'**appeler** 4 fois cette fonction pour dessiner une croix.\n",
    "En appelant la fonction `bras()`, au lieu d'écrire 6 lignes, nous n'écrivons qu'une ligne de code.\n",
    "\n"
   ]
  },
  {
   "cell_type": "markdown",
   "id": "44-d407b7",
   "metadata": {},
   "source": [
    "<h3 style=\"color:teal;background-color:azure;\" > <i class=\"fa fa-pencil\" aria-hidden=\"true\"> </i> &nbsp; Exercice 8 </h3>Allongez le bras de la croix à `2*d`, et diminuez sa largeur à `d/2` pour en faire une croix plus mince.\n",
    "\n"
   ]
  },
  {
   "cell_type": "code",
   "execution_count": null,
   "id": "45-99daba",
   "metadata": {},
   "outputs": [],
   "source": [
    "from turtle import *\n",
    "d = 60\n",
    "\n",
    "def bras():\n",
    "    forward(d)\n",
    "    left(90)\n",
    "    forward(d)\n",
    "    left(90)\n",
    "    forward(d)\n",
    "    right(90)\n",
    "\n",
    "def croix():\n",
    "    bras()\n",
    "    bras()\n",
    "    bras()\n",
    "    bras()\n",
    "\n",
    "croix()\n",
    "\n",
    "done()\n"
   ]
  },
  {
   "cell_type": "markdown",
   "id": "46-ed2265",
   "metadata": {},
   "source": [
    "## Exercices\n",
    "\n",
    "- Téléchargez un exercice.\n",
    "- Ouvrez-le dans un éditeur externe (tel que Thonny).\n",
    "- Mettez votre prénom, nom et classe.\n",
    "- Basez vos dimensions sur la variable globale `d`\n",
    "- Remplacez `...` par votre code.\n",
    "- Déposez votre exercice sur Moodle (ou plateforme équivalente).\n",
    "\n"
   ]
  },
  {
   "cell_type": "markdown",
   "id": "47-1afb1d",
   "metadata": {},
   "source": [
    "### Rectangles\n",
    "\n",
    "Définissez une fonction pour dessiner un rectangle.\n",
    "Ensuite, dessinez 3 rectangles qui ne se touchent pas, à des endroits différents.\n",
    "\n"
   ]
  },
  {
   "cell_type": "code",
   "execution_count": null,
   "id": "48-6a56a0",
   "metadata": {},
   "outputs": [],
   "source": [
    "from turtle import *\n",
    "# Prénom Nom, classe\n",
    "d = 100\n",
    "\n",
    "def rectangle():\n",
    "    ...\n",
    "\n",
    "rectangle()\n",
    "...\n",
    "done()\n"
   ]
  },
  {
   "cell_type": "markdown",
   "id": "49-5fbb68",
   "metadata": {},
   "source": [
    "### Maisons\n",
    "\n",
    "Définissez une fonction pour dessiner une maison.\n",
    "Ensuite, dessinez 3 maisons qui ne sont pas connectées, à des endroits différents.\n",
    "\n"
   ]
  },
  {
   "cell_type": "code",
   "execution_count": null,
   "id": "50-431a68",
   "metadata": {},
   "outputs": [],
   "source": [
    "from turtle import *\n",
    "# Prénom Nom, classe\n",
    "d = 100\n",
    "\n",
    "def maison():\n",
    "    ...\n",
    "\n",
    "\n",
    "maison()\n",
    "...\n",
    "done()\n"
   ]
  },
  {
   "cell_type": "markdown",
   "id": "51-787568",
   "metadata": {},
   "source": [
    "### Meubles\n",
    "\n",
    "Définissez 3 fonctions pour dessiner une chaise, une table et un lit.\n",
    "Ensuite placez plusieurs meubles dans l'espace\n",
    "\n"
   ]
  },
  {
   "cell_type": "code",
   "execution_count": null,
   "id": "52-52542f",
   "metadata": {},
   "outputs": [],
   "source": [
    "from turtle import *\n",
    "# Prénom Nom, classe\n",
    "d = 100\n",
    "\n",
    "def chaise():\n",
    "    ...\n",
    "\n",
    "def table():\n",
    "    ...\n",
    "\n",
    "def lit():\n",
    "    ...\n",
    "\n",
    "chaise()\n",
    "table()\n",
    "lit()\n",
    "...\n",
    "done()\n"
   ]
  },
  {
   "cell_type": "markdown",
   "id": "53-4e2868",
   "metadata": {},
   "source": [
    "### ABC\n",
    "\n",
    "Définissez une fonction pour chaque lettre de l'alphabet.\n",
    "Ensuite, ecrivez votre nom.\n",
    "\n"
   ]
  },
  {
   "cell_type": "code",
   "execution_count": null,
   "id": "54-c62e95",
   "metadata": {},
   "outputs": [],
   "source": [
    "from turtle import *\n",
    "# Prénom Nom, classe\n",
    "d = 30\n",
    "\n",
    "def A():\n",
    "    dot()\n",
    "    down()\n",
    "    left(70)        # demi-montée\n",
    "    forward(d)\n",
    "    right(70)\n",
    "    forward(0.6*d)  # trait du milieu\n",
    "    backward(0.6*d)\n",
    "    left(70)\n",
    "    forward(d)      # partie haute\n",
    "    right(140)\n",
    "    forward(2*d)    # descente\n",
    "    left(70)\n",
    "    up()\n",
    "    forward(d/2)    # avancer à la prochaine lettre\n",
    "\n",
    "A()\n",
    "A()\n",
    "...\n",
    "done()\n"
   ]
  },
  {
   "cell_type": "markdown",
   "id": "55-99e854",
   "metadata": {},
   "source": [
    "### Tetris\n",
    "\n",
    "Le jeu vidéo [Tetris](https://fr.wikipedia.org/wiki/Tetris) est un puzzle conçu par l'informaticien russe Alekseï Pajitnov en 1984.\n",
    "Tetris met le joueur au défi de réaliser des lignes complètes en déplaçant des pièces de formes différentes, les [tétrominos](https://fr.wikipedia.org/wiki/Tétromino), qui défilent du haut jusqu'au bas de l'écran.\n",
    "\n"
   ]
  },
  {
   "cell_type": "markdown",
   "id": "56-1c0070",
   "metadata": {},
   "source": [
    "<img src=\"https://raw.githubusercontent.com/edunumsec2/book/master/src/appr/prog1/media/tetris.png\" alt=\"media/tetris.png\" width=\"200\"/>"
   ]
  },
  {
   "cell_type": "markdown",
   "id": "57-aab4ad",
   "metadata": {},
   "source": [
    "\n",
    " \n",
    "\n",
    "Les carrés de base d'un tétromino mesurent 20 × 20 pixels. Il y en a 7 formes différentes, qui sont nommées d'après les lettres auxquelles elles ressemblent :\n",
    "\n",
    "- Z\n",
    "- L\n",
    "- O (carré)\n",
    "- S\n",
    "- I (bâton)\n",
    "- J\n",
    "- T\n",
    "\n",
    "Basez les dimensions de vos tétronimos sur la variable globale `d`.\n",
    "\n"
   ]
  },
  {
   "cell_type": "code",
   "execution_count": null,
   "id": "58-6e26f8",
   "metadata": {},
   "outputs": [],
   "source": [
    "from turtle import *\n",
    "# Prénom Nom, classe\n",
    "d = 20\n",
    "\n",
    "def Z():\n",
    "    down()\n",
    "    dot()\n",
    "    forward(2*d)\n",
    "    left(90)\n",
    "    forward(d)\n",
    "    left(90)\n",
    "    forward(d)\n",
    "    right(90)\n",
    "    forward(d)\n",
    "    left(90)\n",
    "    forward(2*d)\n",
    "    left(90)\n",
    "    forward(d)\n",
    "    left(90)\n",
    "    forward(d)\n",
    "    right(90)\n",
    "    forward(d)\n",
    "    left(90)\n",
    "    up()\n",
    "\n",
    "def L():\n",
    "    ...\n",
    "def O():\n",
    "    ...\n",
    "def S():\n",
    "    ...\n",
    "def I():\n",
    "    ...\n",
    "def J():\n",
    "    ...\n",
    "def T():\n",
    "    ...\n",
    "\n",
    "up()\n",
    "back(12*d)\n",
    "Z()\n",
    "forward(3*d)\n",
    "O()\n",
    "...\n",
    "done()\n"
   ]
  },
  {
   "cell_type": "markdown",
   "id": "59-2ebbe9",
   "metadata": {},
   "source": [
    "### TP\n",
    "\n",
    "Créez une fonction pour dessiner chaque lettre de l'alphabet. \n",
    "La taille de chaque lettre doit être basé sur la variable global `d` qui exprime la dimension (hauteur) d'une lettre. Créez une fonction `ABC()` qui affiche chaque lettre de l'alphabet. Ensuite créez une nouvelle fonction `prenom()` pour écrire votre nom.\n",
    "\n",
    "Pour démontrer que les expressions basées sur `d` sont corrects, affichez les lettres et votre nom avec deux tailles différents.\n",
    "\n",
    "Pour sauvegarder votre image vers un fichier EPS (image vectorielle) vous devez enlever les commentaires de ces deux lignes de code.\n",
    "\n",
    "``` python\n"
   ]
  },
  {
   "cell_type": "markdown",
   "id": "60-2ca5e8",
   "metadata": {},
   "source": [
    "# from tkinter import *\n"
   ]
  },
  {
   "cell_type": "markdown",
   "id": "61-283e69",
   "metadata": {},
   "source": [
    "# Screen().getcanvas().postscript(file='tp2.eps')\n",
    "```\n",
    "\n"
   ]
  },
  {
   "cell_type": "code",
   "execution_count": null,
   "id": "62-4bf382",
   "metadata": {},
   "outputs": [],
   "source": [
    "\"\"\"\n",
    "tp2 - définir\n",
    "\n",
    "Nom :\n",
    "Classe :\n",
    "Date :\n",
    "\n",
    "- nommez ce fichier : tp2_classe_prenom (minuscules, sans accents)\n",
    "- créez des fonctions pour les lettres de l'abc\n",
    "- créer une fonction pour écrire votre nom\n",
    "- récrivez l'abc et votre nom une deuxième fois plus petit\n",
    "- déposez sur Moodle :\n",
    "    tp2_classe_prenom.py     (code)\n",
    "    tp2_classe_prenom.eps    (image vectorielle)\n",
    "    tp2_classe_preneom.jpg   (image)\n",
    "\"\"\"\n",
    "from turtle import *\n",
    "# from tkinter import *\n",
    "\n",
    "d = 30\n",
    "\n",
    "def A():\n",
    "    dot()\n",
    "    down()\n",
    "    left(70)        # demi-montée\n",
    "    forward(d)\n",
    "    right(70)\n",
    "    forward(0.6*d)  # trait du milieu\n",
    "    backward(0.6*d)\n",
    "    left(70)\n",
    "    forward(d)      # partie haute\n",
    "    right(140)\n",
    "    forward(2*d)    # descente\n",
    "    left(70)\n",
    "    up()\n",
    "    forward(d/2)    # avancer à la prochaine lettre\n",
    "\n",
    "\n",
    "def ABC():\n",
    "    A()\n",
    "    A()\n",
    "    A()\n",
    "\n",
    "def prenom():\n",
    "    ...\n",
    "\n",
    "# afficher l'ABC et votre prénom\n",
    "backward(280)\n",
    "ABC()\n",
    "prenom()\n",
    "\n",
    "# afficher l'ABC et votre prénom avec une autre taille\n",
    "d = 10\n",
    "forward(100)\n",
    "ABC()\n",
    "prenom()\n",
    "\n",
    "# Screen().getcanvas().postscript(file='tp2.eps')\n",
    "done()"
   ]
  },
  {
   "cell_type": "markdown",
   "id": "63-cebd46",
   "metadata": {},
   "source": [
    "---\n",
    "\n",
    "#### Remarque générale\n",
    "\n",
    "Ce document est une adaptation d'un ressource pédagogique tiré du catalogue modulo https://modulo-info.ch/. Il est sous license Creative Commons [BY-NC-SA](https://creativecommons.org/licenses/?lang=fr)\n",
    "![Licence Creative Commons](https://i.creativecommons.org/l/by-nc-sa/4.0/88x31.png)\n",
    "\n",
    "    "
   ]
  }
 ],
 "metadata": {
  "kernelspec": {
   "display_name": "Python 3 (ipykernel)",
   "language": "python",
   "name": "python3"
  },
  "language_info": {
   "codemirror_mode": {
    "name": "ipython",
    "version": 3
   },
   "file_extension": ".py",
   "mimetype": "text/x-python",
   "name": "python",
   "nbconvert_exporter": "python",
   "pygments_lexer": "ipython3",
   "version": "3.10.12"
  }
 },
 "nbformat": 4,
 "nbformat_minor": 5
}
