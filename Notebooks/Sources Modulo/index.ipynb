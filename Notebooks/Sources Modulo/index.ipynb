{
 "cells": [
  {
   "cell_type": "markdown",
   "id": "b88aed84",
   "metadata": {},
   "source": [
    "# Programmation I\n",
    "\n",
    "```{toctree}\n",
    ":maxdepth: 2\n",
    ":hidden:\n",
    ":numbered: 2\n",
    "\n",
    "dessiner\n",
    "definir\n",
    "colorier\n",
    "repeter\n",
    "\n",
    "cercler\n",
    "parametrer\n",
    "parcourir\n",
    "positionner\n",
    "\n",
    "write\n",
    "iterer\n",
    "renvoyer\n",
    "randomiser\n",
    "\n",
    "decider\n",
    "ordonner\n",
    "graphe\n",
    "reutiliser\n",
    "\n",
    "questionner\n",
    "ecrire\n",
    "attendre\n",
    "\n",
    "grouper\n",
    "trier\n",
    "turtleart\n",
    "\n",
    "projet\n",
    "annexe\n",
    "```\n",
    "\n",
    "Programmer peut être facile. Si vous savez déjà dessiner, écrire et calculer, alors c'est un petit pas pour écrire votre premier programme.\n",
    "Quand vous envoyez un message avec WhatsApp, postez une image sur Instagram ou parlez à Siri, vous interagissez avec votre smartphone ou votre ordinateur. Mais comment ça fonctionne ?\n",
    "\n",
    "Ce sont des programmes qui disent à votre ordinateur comment manipuler une image, un texte ou le son de votre voix. Mais, quelque part, ces programmes ont été écrits par des humains.\n",
    "\n",
    "\n"
   ]
  },
  {
   "cell_type": "markdown",
   "id": "6b72186e",
   "metadata": {},
   "source": [
    "## Objectifs\n",
    "\n",
    "* Découvrir le langage de programmation Python\n",
    "\n",
    "* Dessiner, écrire et calculer en utilisant un ordinateur\n",
    "\n",
    "* Comprendre la logique d'un programme\n",
    "\n"
   ]
  },
  {
   "cell_type": "markdown",
   "id": "2ca917a4",
   "metadata": {},
   "source": [
    "## Personnages clés\n",
    "\n",
    "````{panels}\n",
    "\n",
    ":img-top: media/ada.jpg\n",
    "\n",
    "Ada Lovelace 🇬🇧\n",
    "^^^^^\n",
    "***1815-1852***\n",
    "\n",
    "[**Ada Lovelace**](https://fr.wikipedia.org/wiki/Ada_Lovelace) est principalement connue pour avoir réalisé le premier programme informatique, lors de son travail sur un ancêtre de l'ordinateur : la machine analytique de Charles Babbage. Le langage de programmation **Ada** est nommé en son honneur.\n",
    "\n",
    "----\n",
    ":img-top: media/guido.jpg\n",
    "\n",
    "Guido van Rossum 🇳🇱\n",
    "^^^^^\n",
    "***Né en 1954***\n",
    "\n",
    "[**Guido van Rossum**](https://fr.wikipedia.org/wiki/Guido_van_Rossum) est le créateur du langage de programmation **Python**. Au sein de la communauté pythonienne, il est connu comme « dictateur bienveillant à vie », ce qui signifie qu'il suit le développement de Python et arbitre lorsque la situation le requiert.\n",
    "````\n"
   ]
  },
  {
   "cell_type": "markdown",
   "id": "91b87511",
   "metadata": {},
   "source": [
    "---\n",
    "\n",
    "#### Remarque générale\n",
    "\n",
    "Ce document est une adaptation d'un ressource pédagogique tiré du catalogue modulo https://modulo-info.ch/. Il est sous license Creative Commons [BY-NC-SA](https://creativecommons.org/licenses/?lang=fr)\n",
    "![Licence Creative Commons](https://i.creativecommons.org/l/by-nc-sa/4.0/88x31.png)\n",
    "\n",
    "    "
   ]
  }
 ],
 "metadata": {
  "kernelspec": {
   "display_name": "Python 3 (ipykernel)",
   "language": "python",
   "name": "python3"
  },
  "language_info": {
   "codemirror_mode": {
    "name": "ipython",
    "version": 3
   },
   "file_extension": ".py",
   "mimetype": "text/x-python",
   "name": "python",
   "nbconvert_exporter": "python",
   "pygments_lexer": "ipython3",
   "version": "3.10.12"
  }
 },
 "nbformat": 4,
 "nbformat_minor": 5
}
