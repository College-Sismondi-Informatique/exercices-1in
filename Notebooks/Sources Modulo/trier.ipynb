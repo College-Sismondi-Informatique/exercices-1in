{
 "cells": [
  {
   "cell_type": "markdown",
   "id": "0-4a42e0",
   "metadata": {},
   "source": [
    "<div style=\"padding:20px;background-color:papayawhip;\" > \n",
    "<h3 style=\"color:chocolate\"> <i class=\"fa fa-info\" aria-hidden=\"true\"> </i> &nbsp; Remarque introductive &nbsp;  <i class=\"fa fa-info\" aria-hidden=\"true\"></h3> \n",
    "<p> Ce fichier est fait pour être lu sur le site <a href=\"https://notebook.basthon.fr/\"><img src='https://notebook.basthon.fr/assets/efede5218c9087496f16.png' style=\"border: 0; display:inline; margin: 0 5px; height:30px\" alt=\"Basthon\"/></a>. <br>\n",
    "    \n",
    "Si vous l'avez ouvert avec un autre programme, comme Jupyter notebook, vous riquez de rencontrer quelques bugs. <br>\n",
    "Veuillez cliquez sur <a href=\"https://notebook.basthon.fr/\">ce lien</a> et y charger ce fichier à l'aide du bouton \"Ouvrir\"  &nbsp; <i class=\"fa fa-folder\" aria-hidden=\"true\"> </i>\n",
    "</p> </div>    "
   ]
  },
  {
   "cell_type": "markdown",
   "id": "1-e37c80",
   "metadata": {},
   "source": [
    "# Trier - `sort()`\n",
    "\n",
    "Dans ce chapitre, nous allons découvrir quelques algorithmes de tri.\n",
    "Pouvoir trier les éléments d'une liste est une fonctionnalité fondamentale dans l'informatique. Le succès énorme de Google est basé sur un tri efficace de l'information, car dans une liste triée on peut trouver un élément **beaucoup** plus vite. Nous allons voir que :\n",
    "\n",
    "- la fonction `min(liste)` retourne le minimum,\n",
    "- la fonction `max(liste)` retourne le maximum,\n",
    "- la méthode `liste.sort()` trie une liste.\n",
    "\n",
    "Lorsque vous jouez aux cartes, vous triez vos cartes par valeur et dans ce cas, vous utilisez sans le savoir un algorithme de tri.\n",
    "\n"
   ]
  },
  {
   "cell_type": "markdown",
   "id": "2-89c93e",
   "metadata": {},
   "source": [
    "<img src=\"https://raw.githubusercontent.com/edunumsec2/book/master/src/appr/prog1/media/cartes.webp\" alt=\"media/cartes.webp\" width=\"200\"/>"
   ]
  },
  {
   "cell_type": "markdown",
   "id": "3-bf1c44",
   "metadata": {},
   "source": [
    "\n",
    " \n",
    "\n"
   ]
  },
  {
   "cell_type": "markdown",
   "id": "4-cd445e",
   "metadata": {},
   "source": [
    "## Fonction `min` et `max`\n",
    "\n",
    "Les fonctions `min()` et `max()` retournent le minimum et le maximum d'une liste à l'aide d'un algorithme.  \n",
    "Mais comment fonctionne cet algorithme ?\n",
    "\n"
   ]
  },
  {
   "cell_type": "markdown",
   "id": "5-b973ee",
   "metadata": {},
   "source": [
    "<h3 style=\"color:teal;background-color:azure;\" > <i class=\"fa fa-pencil\" aria-hidden=\"true\"> </i> &nbsp; Exercice 1 </h3>Modifiez la liste avec de nouvelles valeurs et essayez de nouveau.\n",
    "\n"
   ]
  },
  {
   "cell_type": "code",
   "execution_count": null,
   "id": "6-72596a",
   "metadata": {},
   "outputs": [],
   "source": [
    "liste = [3, 4, 1, 2, 6, 5]\n",
    "\n",
    "print(min(liste))\n",
    "print(max(liste))\n"
   ]
  },
  {
   "cell_type": "markdown",
   "id": "7-cdb917",
   "metadata": {},
   "source": [
    "## Trouver le minimum\n",
    "\n",
    "Pour trouver le minimum dans une liste il faut :\n",
    "\n",
    "- prendre la première valeur comme minimum courant,\n",
    "- parcourir le reste de la liste,\n",
    "- garder la valeur comme nouveau minimum si elle est plus petite.\n",
    "\n"
   ]
  },
  {
   "cell_type": "markdown",
   "id": "8-993f91",
   "metadata": {},
   "source": [
    "<h3 style=\"color:teal;background-color:azure;\" > <i class=\"fa fa-pencil\" aria-hidden=\"true\"> </i> &nbsp; Exercice 2 </h3>Modifiez l'algorithme pour trouver le minimum ET le maximum.\n",
    "\n"
   ]
  },
  {
   "cell_type": "code",
   "execution_count": null,
   "id": "9-e27e49",
   "metadata": {},
   "outputs": [],
   "source": [
    "liste = [3, 4, 1, 2, 6, 5]\n",
    "\n",
    "min = liste[0]\n",
    "for val in liste[1:]:\n",
    "    if val < min:\n",
    "        min = val\n",
    "\n",
    "print(min)\n"
   ]
  },
  {
   "cell_type": "markdown",
   "id": "10-985eed",
   "metadata": {},
   "source": [
    "## Créer une liste\n",
    "\n",
    "Pour visualiser les algorithmes que nous allons rencontrer dans ce chapitre,\n",
    "nous allons créer des listes avec des nombres aléatoires.\n",
    "\n",
    "Avec une compréhension nous allons créer :\n",
    "\n",
    "- une liste `x` avec des valeurs équidistantes dans l'intervalle [-300, 300]\n",
    "- une liste `y` avec des valeurs aléatoires dans l'intervalle [-200, 200]\n",
    "\n"
   ]
  },
  {
   "cell_type": "markdown",
   "id": "11-2bd61a",
   "metadata": {},
   "source": [
    "<h3 style=\"color:teal;background-color:azure;\" > <i class=\"fa fa-pencil\" aria-hidden=\"true\"> </i> &nbsp; Exercice 3 </h3>Modifiez `n` à 14.\n",
    "\n"
   ]
  },
  {
   "cell_type": "code",
   "execution_count": null,
   "id": "12-f58ce3",
   "metadata": {},
   "outputs": [],
   "source": [
    "from random import *\n",
    "\n",
    "n = 10\n",
    "d = 600//n\n",
    "x0 = 300 - d//2\n",
    "y0 = 200 - d//2\n",
    "x = [-x0 + i * d for i in range(n)]\n",
    "y = [randint(-y0, y0) for i in range(n)]\n",
    "\n",
    "print('x =', x)\n",
    "print('y =', y)\n"
   ]
  },
  {
   "cell_type": "markdown",
   "id": "13-cbc909",
   "metadata": {},
   "source": [
    "## Visualiser une liste\n",
    "\n",
    "Nous utilisons les listes `x` et `y` pour afficher des points et visualiser la liste `y`.\n",
    "\n"
   ]
  },
  {
   "cell_type": "markdown",
   "id": "14-5b4eda",
   "metadata": {},
   "source": [
    "<h3 style=\"color:teal;background-color:azure;\" > <i class=\"fa fa-pencil\" aria-hidden=\"true\"> </i> &nbsp; Exercice 4 </h3>Modifiez le nombre d'éléments.\n",
    "\n"
   ]
  },
  {
   "cell_type": "code",
   "execution_count": null,
   "id": "15-0516f3",
   "metadata": {},
   "outputs": [],
   "source": [
    "from turtle import *\n",
    "from random import *\n",
    "\n",
    "color('blue')\n",
    "speed(0)\n",
    "up()\n",
    "\n",
    "def create(size, bg='skyblue'):\n",
    "    global n, d, x, y\n",
    "    getscreen().bgcolor(bg)\n",
    "    n = size\n",
    "    d = 600/n\n",
    "    x0 = 300 - d//2\n",
    "    y0 = 200 - d//2\n",
    "    x = [-x0 + i * d for i in range(n)]\n",
    "    y = [randint(-y0, y0) for i in range(n)]\n",
    "\n",
    "def show():\n",
    "    for i in range(n):\n",
    "        goto(x[i], y[i])\n",
    "        dot(d)\n",
    "\n",
    "create(20)\n",
    "show()\n",
    "\n",
    "done()\n"
   ]
  },
  {
   "cell_type": "markdown",
   "id": "16-ff07f1",
   "metadata": {},
   "source": [
    "## Visualiser un algorithme\n",
    "\n",
    "Pour visualiser l'algorithme du minimum, nous dessinons en rouge les valeurs du minimum courant.\n",
    "Cet algorithme :\n",
    "\n",
    "- prend la première valeur comme minimum courant,\n",
    "- parcourt le reste de la liste,\n",
    "- garde la valeur comme nouveau minimum si elle est plus petite.\n",
    "\n"
   ]
  },
  {
   "cell_type": "markdown",
   "id": "17-b18264",
   "metadata": {},
   "source": [
    "<h3 style=\"color:teal;background-color:azure;\" > <i class=\"fa fa-pencil\" aria-hidden=\"true\"> </i> &nbsp; Exercice 5 </h3>Modifiez l'algorithme pour visualiser le minimum ET le maximum.\n",
    "\n"
   ]
  },
  {
   "cell_type": "code",
   "execution_count": null,
   "id": "18-63f00a",
   "metadata": {},
   "outputs": [],
   "source": [
    "from turtle import *\n",
    "from random import *\n",
    "\n",
    "color('blue')\n",
    "speed(0)\n",
    "up()\n",
    "\n",
    "def create(size, bg='skyblue'):\n",
    "    global n, d, x, y\n",
    "    getscreen().bgcolor(bg)\n",
    "    n = size\n",
    "    d = 600/n\n",
    "    x0 = 300 - d//2\n",
    "    y0 = 200 - d//2\n",
    "    x = [-x0 + i * d for i in range(n)]\n",
    "    y = [randint(-y0, y0) for i in range(n)]\n",
    "\n",
    "def show():\n",
    "    for i in range(n):\n",
    "        goto(x[i], y[i])\n",
    "        dot(d)\n",
    "===\n",
    "create(30)\n",
    "show()\n",
    "\n",
    "speed(3)\n",
    "color('red')\n",
    "for i in range(n):\n",
    "    if i == 0:\n",
    "        min = y[i]\n",
    "    else:\n",
    "        if y[i] < min:\n",
    "            min = y[i]\n",
    "    goto(x[i], min)\n",
    "    down()\n",
    "    dot(d/2)\n",
    "\n",
    "done()\n"
   ]
  },
  {
   "cell_type": "markdown",
   "id": "19-5cea20",
   "metadata": {},
   "source": [
    "## L'indice du minimum\n",
    "\n",
    "Souvent, on ne doit pas seulement trouver la valeur minimum, mais aussi son indice dans la liste.\n",
    "Contrairement au cas précédent, ici nous ne parcourons pas les valeurs, mais les indices.\n",
    "\n"
   ]
  },
  {
   "cell_type": "markdown",
   "id": "20-96bf58",
   "metadata": {},
   "source": [
    "<h3 style=\"color:teal;background-color:azure;\" > <i class=\"fa fa-pencil\" aria-hidden=\"true\"> </i> &nbsp; Exercice 6 </h3>Modifiez l'algorithme pour trouver l'indice du minimum ET maximum.\n",
    "\n"
   ]
  },
  {
   "cell_type": "code",
   "execution_count": null,
   "id": "21-256e19",
   "metadata": {},
   "outputs": [],
   "source": [
    "liste = [3, 4, 1, 2, 6, 5]\n",
    "\n",
    "min = liste[0]\n",
    "i_min = 0\n",
    "n = len(liste)\n",
    "\n",
    "for i in range(1, n):\n",
    "    if liste[i] < min:\n",
    "        min = liste[i]\n",
    "        i_min = i\n",
    "\n",
    "print(i_min)\n"
   ]
  },
  {
   "cell_type": "markdown",
   "id": "22-0075cb",
   "metadata": {},
   "source": [
    "## Échanger deux éléments\n",
    "\n",
    "Pour échanger deux éléments d'une liste, nous utilisons une affectation multiple.\n",
    "Ici nous échangeons les deux premiers éléments, donc les éléments avec les indices 0 et 1.\n",
    "\n"
   ]
  },
  {
   "cell_type": "code",
   "execution_count": null,
   "id": "23-5337eb",
   "metadata": {},
   "outputs": [],
   "source": [
    "liste = [3, 4, 1, 2, 6, 5]\n",
    "\n",
    "print(liste)\n",
    "liste[0], liste[1] = liste[1], liste[0]\n",
    "print(liste)\n"
   ]
  },
  {
   "cell_type": "markdown",
   "id": "24-e7cc17",
   "metadata": {},
   "source": [
    "Le programme devient plus lisible si nous définissons une fonction `echange()`.\n",
    "\n"
   ]
  },
  {
   "cell_type": "code",
   "execution_count": null,
   "id": "25-fc1d28",
   "metadata": {},
   "outputs": [],
   "source": [
    "liste = [3, 4, 1, 2, 6, 5]\n",
    "\n",
    "def echange(liste, i, j):\n",
    "    liste[i], liste[j] = liste[j], liste[i]\n",
    "\n",
    "print(liste)\n",
    "echange(liste, 0, 2)\n",
    "print(liste)\n"
   ]
  },
  {
   "cell_type": "markdown",
   "id": "26-5842c8",
   "metadata": {},
   "source": [
    "## Déplacer un point\n",
    "\n",
    "Pour visualiser le déplacement d'un point de l'indice `i` vers l'indice `j` nous effaçons le premier point en le dessinant en blanc, et nous indiquons avec une ligne le déplacement vers la nouvelle position.\n",
    "\n"
   ]
  },
  {
   "cell_type": "code",
   "execution_count": null,
   "id": "27-8ce481",
   "metadata": {},
   "outputs": [],
   "source": [
    "from turtle import *\n",
    "from random import *\n",
    "\n",
    "color('blue')\n",
    "speed(0)\n",
    "up()\n",
    "\n",
    "def create(size, bg='skyblue'):\n",
    "    global n, d, x, y\n",
    "    getscreen().bgcolor(bg)\n",
    "    n = size\n",
    "    d = 600/n\n",
    "    x0 = 300 - d//2\n",
    "    y0 = 200 - d//2\n",
    "    x = [-x0 + i * d for i in range(n)]\n",
    "    y = [randint(-y0, y0) for i in range(n)]\n",
    "\n",
    "def show():\n",
    "    for i in range(n):\n",
    "        goto(x[i], y[i])\n",
    "        dot(d)\n",
    "===\n",
    "def move(i, j):\n",
    "    goto(x[i], y[i])\n",
    "    color('white')\n",
    "    dot(d)\n",
    "    down()\n",
    "    goto(x[j], y[i])\n",
    "    color('blue')\n",
    "    dot(d)\n",
    "    up()\n",
    "\n",
    "create(15)\n",
    "show()\n",
    "\n",
    "speed(3)\n",
    "move(3, 13)\n",
    "\n",
    "done()\n"
   ]
  },
  {
   "cell_type": "markdown",
   "id": "28-4c33b9",
   "metadata": {},
   "source": [
    "## Échanger deux points\n",
    "\n",
    "Pour échanger deux points, il faut :\n",
    "\n",
    "- déplacer point `i` vers `j`\n",
    "- déplacer point `j` vers `i`\n",
    "- échanger les deux éléments dans la liste\n",
    "\n"
   ]
  },
  {
   "cell_type": "code",
   "execution_count": null,
   "id": "29-00b8dd",
   "metadata": {},
   "outputs": [],
   "source": [
    "from turtle import *\n",
    "from random import *\n",
    "\n",
    "color('blue')\n",
    "speed(0)\n",
    "up()\n",
    "\n",
    "def create(size, bg='skyblue'):\n",
    "    global n, d, x, y\n",
    "    getscreen().bgcolor(bg)\n",
    "    n = size\n",
    "    d = 600/n\n",
    "    x0 = 300 - d//2\n",
    "    y0 = 200 - d//2\n",
    "    x = [-x0 + i * d for i in range(n)]\n",
    "    y = [randint(-y0, y0) for i in range(n)]\n",
    "\n",
    "def show():\n",
    "    for i in range(n):\n",
    "        goto(x[i], y[i])\n",
    "        dot(d)\n",
    "\n",
    "def move(i, j):\n",
    "    goto(x[i], y[i])\n",
    "    color('white')\n",
    "    dot(d)\n",
    "    down()\n",
    "    goto(x[j], y[i])\n",
    "    color('blue')\n",
    "    dot(d)\n",
    "    up()\n",
    "===\n",
    "def swap(i, j):\n",
    "    move(i, j)\n",
    "    move(j, i)\n",
    "    y[i], y[j] = y[j], y[i]\n",
    "\n",
    "create(15)\n",
    "show()\n",
    "\n",
    "speed(3)\n",
    "swap(3, 13)\n",
    "\n",
    "done()\n"
   ]
  },
  {
   "cell_type": "markdown",
   "id": "30-eddaa8",
   "metadata": {},
   "source": [
    "## Échanger tous les points\n",
    "\n",
    "Dans l'exemple suivant, nous échangeons deux points successifs pour toute la liste. Nous observons que :\n",
    "\n",
    "- le premier point avance complètement de gauche à droite\n",
    "- tous les autres points reculent d'une position\n",
    "\n"
   ]
  },
  {
   "cell_type": "code",
   "execution_count": null,
   "id": "31-193775",
   "metadata": {},
   "outputs": [],
   "source": [
    "from turtle import *\n",
    "from random import *\n",
    "\n",
    "color('blue')\n",
    "speed(0)\n",
    "up()\n",
    "\n",
    "def create(size, bg='skyblue'):\n",
    "    global n, d, x, y\n",
    "    getscreen().bgcolor(bg)\n",
    "    n = size\n",
    "    d = 600/n\n",
    "    x0 = 300 - d//2\n",
    "    y0 = 200 - d//2\n",
    "    x = [-x0 + i * d for i in range(n)]\n",
    "    y = [randint(-y0, y0) for i in range(n)]\n",
    "\n",
    "def show():\n",
    "    for i in range(n):\n",
    "        goto(x[i], y[i])\n",
    "        dot(d)\n",
    "\n",
    "def move(i, j):\n",
    "    goto(x[i], y[i])\n",
    "    color('white')\n",
    "    dot(d)\n",
    "    down()\n",
    "    goto(x[j], y[i])\n",
    "    color('blue')\n",
    "    dot(d)\n",
    "    up()\n",
    "\n",
    "def swap(i, j):\n",
    "    move(i, j)\n",
    "    move(j, i)\n",
    "    y[i], y[j] = y[j], y[i]\n",
    "===\n",
    "create(15)\n",
    "show()\n",
    "\n",
    "speed(3)\n",
    "for i in range(n-1):\n",
    "    swap(i, i+1)\n",
    "\n",
    "done()\n"
   ]
  },
  {
   "cell_type": "markdown",
   "id": "32-25ccb5",
   "metadata": {},
   "source": [
    "## Tri par sélection\n",
    "\n",
    "L’algorithme du **tri par sélection** commence par rechercher le plus petit élément de la liste et l’échange avec le premier élément de la liste.\n",
    "\n"
   ]
  },
  {
   "cell_type": "markdown",
   "id": "33-aea41c",
   "metadata": {},
   "source": [
    "<img src=\"https://raw.githubusercontent.com/edunumsec2/book/master/src/appr/prog1/media/tri_selection.jpg\" alt=\"media/tri_selection.jpg\" width=\"200\"/>"
   ]
  },
  {
   "cell_type": "markdown",
   "id": "34-8df12f",
   "metadata": {},
   "source": [
    "\n",
    " \n",
    "\n",
    " Il recherche ensuite le plus petit élément de la liste restante. Il sélectionne ainsi le deuxième plus petit élément de la liste et l’échange avec le deuxième élément de la liste. Et ainsi de suite.\n",
    "\n"
   ]
  },
  {
   "cell_type": "code",
   "execution_count": null,
   "id": "35-2c07f6",
   "metadata": {},
   "outputs": [],
   "source": [
    "liste = [3, 4, 1, 2, 6, 5]\n",
    "print(liste)\n",
    "\n",
    "def echange(liste, i, j):\n",
    "    liste[i], liste[j] = liste[j], liste[i]\n",
    "\n",
    "n = len(liste)\n",
    "for i in range(n-1):\n",
    "    i_min = i\n",
    "    min = liste[i]\n",
    "    for j in range(i+1, n):\n",
    "        if liste[j] < liste[i_min]:\n",
    "            i_min = j\n",
    "            min = liste[j]\n",
    "    echange(liste, i, i_min)\n",
    "    print(liste)\n"
   ]
  },
  {
   "cell_type": "markdown",
   "id": "36-62f691",
   "metadata": {},
   "source": [
    "Avec les fonctions `min()` et `index()` nous pouvons écrire cet algorithme de façon encore plus compacte.\n",
    "\n"
   ]
  },
  {
   "cell_type": "code",
   "execution_count": null,
   "id": "37-c64d51",
   "metadata": {},
   "outputs": [],
   "source": [
    "liste = [3, 4, 1, 2, 6, 5]\n",
    "\n",
    "def tri_selection(liste):\n",
    "    for i in range(0,len(liste)-1):\n",
    "        i_min = liste.index(min(liste[i:]))\n",
    "        liste[i], liste[i_min] = liste[i_min], liste[i]\n",
    "        print(liste)\n",
    "\n",
    "print(liste)\n",
    "tri_selection(liste)\n"
   ]
  },
  {
   "cell_type": "markdown",
   "id": "38-ee0657",
   "metadata": {},
   "source": [
    "Voici une visualisation du tri par sélection.\n",
    "\n"
   ]
  },
  {
   "cell_type": "markdown",
   "id": "39-c32a2c",
   "metadata": {},
   "source": [
    "<h3 style=\"color:teal;background-color:azure;\" > <i class=\"fa fa-pencil\" aria-hidden=\"true\"> </i> &nbsp; Exercice 7 </h3>Modifiez la taille de la liste.\n",
    "\n"
   ]
  },
  {
   "cell_type": "code",
   "execution_count": null,
   "id": "40-385790",
   "metadata": {},
   "outputs": [],
   "source": [
    "from turtle import *\n",
    "from random import *\n",
    "\n",
    "color('blue')\n",
    "speed(0)\n",
    "up()\n",
    "\n",
    "def create(size, bg='skyblue'):\n",
    "    global n, d, x, y\n",
    "    getscreen().bgcolor(bg)\n",
    "    n = size\n",
    "    d = 600/n\n",
    "    x0 = 300 - d//2\n",
    "    y0 = 200 - d//2\n",
    "    x = [-x0 + i * d for i in range(n)]\n",
    "    y = [randint(-y0, y0) for i in range(n)]\n",
    "\n",
    "def show():\n",
    "    for i in range(n):\n",
    "        goto(x[i], y[i])\n",
    "        dot(d)\n",
    "\n",
    "def move(i, j):\n",
    "    goto(x[i], y[i])\n",
    "    color('white')\n",
    "    dot(d)\n",
    "    down()\n",
    "    goto(x[j], y[i])\n",
    "    color('blue')\n",
    "    dot(d)\n",
    "    up()\n",
    "\n",
    "def swap(i, j):\n",
    "    move(i, j)\n",
    "    move(j, i)\n",
    "    y[i], y[j] = y[j], y[i]\n",
    "===\n",
    "create(20)\n",
    "show()\n",
    "\n",
    "for i in range(n-1):\n",
    "    i_min = i\n",
    "    min = y[i]\n",
    "    for j in range(i+1, n):\n",
    "        if y[j] < y[i_min]:\n",
    "            i_min = j\n",
    "            min = y[j]\n",
    "    swap(i, i_min)\n",
    "show()\n",
    "\n",
    "done()\n"
   ]
  },
  {
   "cell_type": "markdown",
   "id": "41-2d3bdb",
   "metadata": {},
   "source": [
    "## Tri par insertion\n",
    "\n",
    "L'algorithme du **tri par insertion** est utilisé par la plupart des personnes pour trier des cartes à jouer. On prend les cartes non triées depuis la table, et on les insère à l'endroit correct dans sa main.\n",
    "\n"
   ]
  },
  {
   "cell_type": "markdown",
   "id": "42-e570fa",
   "metadata": {},
   "source": [
    "<img src=\"https://raw.githubusercontent.com/edunumsec2/book/master/src/appr/prog1/media/tri_insertion.jpg\" alt=\"media/tri_insertion.jpg\" width=\"200\"/>"
   ]
  },
  {
   "cell_type": "markdown",
   "id": "43-327e87",
   "metadata": {},
   "source": [
    "\n",
    " \n",
    "\n",
    "L’algorithme du tri par insertion parcourt la liste d’éléments à trier du deuxième au dernier élément. Pour chaque nouvel élément considéré, il l’insère à l’emplacement correct dans la liste déjà parcourue.\n",
    "\n"
   ]
  },
  {
   "cell_type": "code",
   "execution_count": null,
   "id": "44-d9e271",
   "metadata": {},
   "outputs": [],
   "source": [
    "y = [3, 4, 1, 2, 6, 5]\n",
    "\n",
    "n = len(y)\n",
    "for i in range(1, n):\n",
    "    for j in range(i, 0, -1):\n",
    "        if y[j] < y[j-1]:\n",
    "            y[j], y[j-1] = y[j-1], y[j]\n",
    "        else:\n",
    "            break\n",
    "    print(y)\n"
   ]
  },
  {
   "cell_type": "markdown",
   "id": "45-37e07a",
   "metadata": {},
   "source": [
    "Voici une visualisation du tri par insertion.\n",
    "\n"
   ]
  },
  {
   "cell_type": "markdown",
   "id": "46-cc4be3",
   "metadata": {},
   "source": [
    "<h3 style=\"color:teal;background-color:azure;\" > <i class=\"fa fa-pencil\" aria-hidden=\"true\"> </i> &nbsp; Exercice 8 </h3>Modifiez la taille de la liste.\n",
    "\n"
   ]
  },
  {
   "cell_type": "code",
   "execution_count": null,
   "id": "47-daa9cb",
   "metadata": {},
   "outputs": [],
   "source": [
    "from turtle import *\n",
    "from random import *\n",
    "\n",
    "color('blue')\n",
    "speed(0)\n",
    "up()\n",
    "\n",
    "def create(size, bg='skyblue'):\n",
    "    global n, d, x, y\n",
    "    getscreen().bgcolor(bg)\n",
    "    n = size\n",
    "    d = 600/n\n",
    "    x0 = 300 - d//2\n",
    "    y0 = 200 - d//2\n",
    "    x = [-x0 + i * d for i in range(n)]\n",
    "    y = [randint(-y0, y0) for i in range(n)]\n",
    "\n",
    "def show():\n",
    "    for i in range(n):\n",
    "        goto(x[i], y[i])\n",
    "        dot(d)\n",
    "\n",
    "def move(i, j):\n",
    "    goto(x[i], y[i])\n",
    "    color('white')\n",
    "    dot(d)\n",
    "    down()\n",
    "    goto(x[j], y[i])\n",
    "    color('blue')\n",
    "    dot(d)\n",
    "    up()\n",
    "\n",
    "def swap(i, j):\n",
    "    move(i, j)\n",
    "    move(j, i)\n",
    "    y[i], y[j] = y[j], y[i]\n",
    "===\n",
    "create(20)\n",
    "show()\n",
    "\n",
    "for i in range(1, n):\n",
    "    for j in range(i, 0, -1):\n",
    "        while y[j] < y[j-1]:\n",
    "            swap(j, j-1)\n",
    "show()\n",
    "\n",
    "done()\n"
   ]
  },
  {
   "cell_type": "markdown",
   "id": "48-b66961",
   "metadata": {},
   "source": [
    "## Tri à bulles\n",
    "\n",
    "L’algorithme du **tri à bulles** compare les éléments voisins, deux par deux, et les met dans le bon ordre. Le mot 'bulles' fait référence aux bulles dans une boisson qui montent à la surface.\n",
    "\n"
   ]
  },
  {
   "cell_type": "markdown",
   "id": "49-1d3356",
   "metadata": {},
   "source": [
    "<img src=\"https://raw.githubusercontent.com/edunumsec2/book/master/src/appr/prog1/media/bulles.jpg\" alt=\"media/bulles.jpg\" width=\"200\"/>"
   ]
  },
  {
   "cell_type": "markdown",
   "id": "50-396019",
   "metadata": {},
   "source": [
    "\n",
    " \n",
    "\n",
    "Dans l'exemple suivant, nous pouvons voir comment le `4` flotte vers le haut, jusqu'à ce qu'il rencontre le le `6` qui monte alors tout vers la surface, comme des bulles dans une boisson.\n",
    "\n"
   ]
  },
  {
   "cell_type": "markdown",
   "id": "51-a73d48",
   "metadata": {},
   "source": [
    "<img src=\"https://raw.githubusercontent.com/edunumsec2/book/master/src/appr/prog1/media/tri_bulles.jpg\" alt=\"media/tri_bulles.jpg\" width=\"200\"/>"
   ]
  },
  {
   "cell_type": "markdown",
   "id": "52-bf1c44",
   "metadata": {},
   "source": [
    "\n",
    " \n",
    "\n"
   ]
  },
  {
   "cell_type": "code",
   "execution_count": null,
   "id": "53-43aa96",
   "metadata": {},
   "outputs": [],
   "source": [
    "y = [3, 4, 1, 2, 6, 5]\n",
    "print(y)\n",
    "\n",
    "n = len(y)\n",
    "for i in range(n-1):\n",
    "    for j in range(n-i-1):\n",
    "        if y[j] > y[j+1]:\n",
    "            y[j], y[j+1] = y[j+1], y[j]\n",
    "        print(y)\n"
   ]
  },
  {
   "cell_type": "markdown",
   "id": "54-fcf805",
   "metadata": {},
   "source": [
    "Voici une visualisation du tri à bulles.\n",
    "\n"
   ]
  },
  {
   "cell_type": "markdown",
   "id": "55-354a24",
   "metadata": {},
   "source": [
    "<h3 style=\"color:teal;background-color:azure;\" > <i class=\"fa fa-pencil\" aria-hidden=\"true\"> </i> &nbsp; Exercice 9 </h3>Modifiez la taille de la liste.\n",
    "\n"
   ]
  },
  {
   "cell_type": "code",
   "execution_count": null,
   "id": "56-412f53",
   "metadata": {},
   "outputs": [],
   "source": [
    "from turtle import *\n",
    "from random import *\n",
    "\n",
    "color('blue')\n",
    "speed(0)\n",
    "up()\n",
    "\n",
    "def create(size, bg='skyblue'):\n",
    "    global n, d, x, y\n",
    "    getscreen().bgcolor(bg)\n",
    "    n = size\n",
    "    d = 600/n\n",
    "    x0 = 300 - d//2\n",
    "    y0 = 200 - d//2\n",
    "    x = [-x0 + i * 600/n for i in range(n)]\n",
    "    y = [randint(-y0, y0) for i in range(n)]\n",
    "\n",
    "def show():\n",
    "    for i in range(n):\n",
    "        goto(x[i], y[i])\n",
    "        dot(d)\n",
    "\n",
    "def move(i, j):\n",
    "    goto(x[i], y[i])\n",
    "    color('white')\n",
    "    dot(d)\n",
    "    down()\n",
    "    goto(x[j], y[i])\n",
    "    color('blue')\n",
    "    dot(d)\n",
    "    up()\n",
    "\n",
    "def swap(i, j):\n",
    "    move(i, j)\n",
    "    move(j, i)\n",
    "    y[i], y[j] = y[j], y[i]\n",
    "===\n",
    "create(20)\n",
    "show()\n",
    "\n",
    "for i in range(n-1):\n",
    "    for j in range(n-i-1):\n",
    "        if y[j] > y[j+1]:\n",
    "            swap(j, j+1)\n",
    "show()\n",
    "\n",
    "done()"
   ]
  },
  {
   "cell_type": "markdown",
   "id": "57-cebd46",
   "metadata": {},
   "source": [
    "---\n",
    "\n",
    "#### Remarque générale\n",
    "\n",
    "Ce document est une adaptation d'un ressource pédagogique tiré du catalogue modulo https://modulo-info.ch/. Il est sous license Creative Commons [BY-NC-SA](https://creativecommons.org/licenses/?lang=fr)\n",
    "![Licence Creative Commons](https://i.creativecommons.org/l/by-nc-sa/4.0/88x31.png)\n",
    "\n",
    "    "
   ]
  }
 ],
 "metadata": {
  "kernelspec": {
   "display_name": "Python 3 (ipykernel)",
   "language": "python",
   "name": "python3"
  },
  "language_info": {
   "codemirror_mode": {
    "name": "ipython",
    "version": 3
   },
   "file_extension": ".py",
   "mimetype": "text/x-python",
   "name": "python",
   "nbconvert_exporter": "python",
   "pygments_lexer": "ipython3",
   "version": "3.10.12"
  }
 },
 "nbformat": 4,
 "nbformat_minor": 5
}
