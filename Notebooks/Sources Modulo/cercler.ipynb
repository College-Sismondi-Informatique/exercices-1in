{
 "cells": [
  {
   "cell_type": "markdown",
   "id": "c41ea29b",
   "metadata": {},
   "source": [
    "# *Cercler - `circle()`\n",
    "\n",
    "Dans ce chapitre, nous explorons les cercles et les arcs de cercle. Nous allons voir que :\n",
    "\n",
    "- la fonction `circle(r)` dessine un cercle de rayon `r`, vers la gauche,\n",
    "- la fonction `circle(-r)` dessine un cercle de rayon `r`, vers la droite,\n",
    "- la fonction `circle(r, a)` dessine un arc de cercle de rayon `r` avec un angle `a`.\n",
    "\n"
   ]
  },
  {
   "cell_type": "markdown",
   "id": "f0f0149c",
   "metadata": {},
   "source": [
    "<h3 style=\"color:chocolate;background-color:papayawhip;\" > <i class=\"fa fa-question\" aria-hidden=\"true\"> </i> &nbsp; Quizz </h3> \n",
    " \n",
    "```\n",
    "Un cercle affiché sur un écran d'ordinateur est créé par\n",
    "\n",
    "A) une rotation de lumière\n",
    "B) un agrandissement d'un point\n",
    "C) un polygone régulier d'ordre élevé\n",
    "D) une boucle refermée\n",
    "```"
   ]
  },
  {
   "cell_type": "raw",
   "id": "9a6b4e6c",
   "metadata": {},
   "source": [
    "Réponse : \n"
   ]
  },
  {
   "cell_type": "markdown",
   "id": "4efaff89",
   "metadata": {},
   "source": [
    "## Fonction `circle()`\n",
    "\n",
    "La fonction `circle(r)` dessine un cercle de rayon `r`.\n",
    "Ce cercle est dessiné :\n",
    "\n",
    "- vers la gauche si `r` est positif,\n",
    "- vers la droite si `r` est négatif.\n",
    "\n"
   ]
  },
  {
   "cell_type": "code",
   "execution_count": null,
   "id": "05768049",
   "metadata": {},
   "outputs": [],
   "source": [
    "from turtle import *\n",
    "\n",
    "left(90)\n",
    "circle(20)\n",
    "circle(40)\n",
    "circle(60)\n",
    "circle(80)\n",
    "\n",
    "circle(-20)\n",
    "circle(-40)\n",
    "circle(-60)\n",
    "circle(-80)\n",
    "\n",
    "done()\n"
   ]
  },
  {
   "cell_type": "markdown",
   "id": "653759a6",
   "metadata": {},
   "source": [
    "## Fleur\n",
    "\n",
    "Dessinons des cercles dans une boucle, et tournons chaque fois.\n",
    "\n"
   ]
  },
  {
   "cell_type": "markdown",
   "id": "cd55fa35",
   "metadata": {},
   "source": [
    "<h3 style=\"color:teal;background-color:azure;\" > <i class=\"fa fa-pencil\" aria-hidden=\"true\"> </i> &nbsp; Exercice 1 </h3>Modifiez le nombre de répétitions et l'angle de rotation.\n",
    "\n"
   ]
  },
  {
   "cell_type": "code",
   "execution_count": null,
   "id": "f9937e12",
   "metadata": {},
   "outputs": [],
   "source": [
    "from turtle import *\n",
    "\n",
    "for i in range(6):\n",
    "    circle(50)\n",
    "    left(60)\n",
    "\n",
    "done()\n"
   ]
  },
  {
   "cell_type": "markdown",
   "id": "2d4b1137",
   "metadata": {},
   "source": [
    "## Arc de cercle\n",
    "\n",
    "Cette fonction peut avoir un deuxième paramètre sous la forme `circle(r, angle)`,\n",
    "où `angle` représente l'angle de l'arc de cercle dessiné.\n",
    "Par défaut, l'angle est de 360°, donc un cercle entier.\n",
    "\n",
    "Voici un exemple qui utilise deux demi-cercles de 180°.\n",
    "\n"
   ]
  },
  {
   "cell_type": "markdown",
   "id": "65e5fe79",
   "metadata": {},
   "source": [
    "<h3 style=\"color:teal;background-color:azure;\" > <i class=\"fa fa-pencil\" aria-hidden=\"true\"> </i> &nbsp; Exercice 2 </h3>Dessinez un bonhomme de neige et utilisez `dot()` pour les yeux.\n",
    "\n"
   ]
  },
  {
   "cell_type": "code",
   "execution_count": null,
   "id": "d4dfc988",
   "metadata": {},
   "outputs": [],
   "source": [
    "from turtle import *\n",
    "\n",
    "forward(100)\n",
    "circle(40, 180)\n",
    "forward(50)\n",
    "circle(-30)\n",
    "forward(50)\n",
    "circle(40, 180)\n",
    "\n",
    "done()\n"
   ]
  },
  {
   "cell_type": "markdown",
   "id": "73b27995",
   "metadata": {},
   "source": [
    "## Carré arrondi\n",
    "\n",
    "Avec la fonction `circle()`, il est maintenant possible de dessiner un carré dont les coins sont arrondis.\n",
    "\n"
   ]
  },
  {
   "cell_type": "markdown",
   "id": "08e70d9e",
   "metadata": {},
   "source": [
    "<h3 style=\"color:teal;background-color:azure;\" > <i class=\"fa fa-pencil\" aria-hidden=\"true\"> </i> &nbsp; Exercice 3 </h3>Dessinez maintenant un rectangle avec des coins arrondis.\n",
    "\n"
   ]
  },
  {
   "cell_type": "code",
   "execution_count": null,
   "id": "24197dc3",
   "metadata": {},
   "outputs": [],
   "source": [
    "from turtle import *\n",
    "\n",
    "for i in range(4):\n",
    "    forward(100)\n",
    "    circle(20, 90)\n",
    "\n",
    "done()\n"
   ]
  },
  {
   "cell_type": "markdown",
   "id": "847302cb",
   "metadata": {},
   "source": [
    "## Pac-Man\n",
    "\n",
    "Pac-Man est un jeu vidéo créé par l’entreprise japonaise Namco, sorti au Japon en 1980. Le jeu consiste à déplacer Pac-Man, un personnage qui ressemble à un diagramme circulaire à l’intérieur d’un labyrinthe, afin de lui faire manger toutes les pac-gommes qui s’y trouvent en évitant d’être touchées par des fantômes.\n",
    "\n"
   ]
  },
  {
   "cell_type": "markdown",
   "id": "073e6c24",
   "metadata": {},
   "source": [
    "<h3 style=\"color:teal;background-color:azure;\" > <i class=\"fa fa-pencil\" aria-hidden=\"true\"> </i> &nbsp; Exercice 4 </h3>Ajoutez l'œil de Pac-Man, et les points qu'il mange.\n",
    "\n"
   ]
  },
  {
   "cell_type": "code",
   "execution_count": null,
   "id": "3dad5492",
   "metadata": {},
   "outputs": [],
   "source": [
    "from turtle import *\n",
    "\n",
    "fillcolor('yellow')\n",
    "begin_fill()\n",
    "left(30)\n",
    "forward(100)\n",
    "left(90)\n",
    "circle(100, 300)\n",
    "left(90)\n",
    "forward(100)\n",
    "end_fill()\n",
    "\n",
    "done()\n"
   ]
  },
  {
   "cell_type": "markdown",
   "id": "45e7c15c",
   "metadata": {},
   "source": [
    "## Cœur\n",
    "\n",
    "Le cœur est le symbole de l'amour : on donne de façon métaphorique son cœur à la personne que l'on aime pour lui signifier qu'on lui confie sa vie.\n",
    "\n"
   ]
  },
  {
   "cell_type": "markdown",
   "id": "aabedb16",
   "metadata": {},
   "source": [
    "<h3 style=\"color:teal;background-color:azure;\" > <i class=\"fa fa-pencil\" aria-hidden=\"true\"> </i> &nbsp; Exercice 5 </h3>Coloriez le cœur en rouge, ajoutez une flèche.\n",
    "\n"
   ]
  },
  {
   "cell_type": "code",
   "execution_count": null,
   "id": "5e23b114",
   "metadata": {},
   "outputs": [],
   "source": [
    "from turtle import *\n",
    "r = 50\n",
    "\n",
    "left(90)\n",
    "circle(r, 225)\n",
    "forward(2.4*r)\n",
    "left(90)\n",
    "forward(2.4*r)\n",
    "circle(r, 225)\n",
    "\n",
    "done()\n"
   ]
  },
  {
   "cell_type": "markdown",
   "id": "5f3f22ae",
   "metadata": {},
   "source": [
    "## Infini — ∞\n",
    "\n",
    "Le mot **infini** (du latin in-, préfixe négatif, et finitus, *limité*) est un adjectif servant à qualifier quelque chose qui n'a pas de limite en nombre ou en taille. L'infini est représenté par le symbole ∞. Nous allons le dessiner.\n",
    "\n"
   ]
  },
  {
   "cell_type": "markdown",
   "id": "33d5ecdb",
   "metadata": {},
   "source": [
    "<h3 style=\"color:teal;background-color:azure;\" > <i class=\"fa fa-pencil\" aria-hidden=\"true\"> </i> &nbsp; Exercice 6 </h3>Augmentez un des rayons à `2*r` et ajustez la longueur des segments droits.\n",
    "\n"
   ]
  },
  {
   "cell_type": "code",
   "execution_count": null,
   "id": "fec50a2d",
   "metadata": {},
   "outputs": [],
   "source": [
    "from turtle import *\n",
    "r = 50\n",
    "\n",
    "right(45)\n",
    "forward(r)\n",
    "circle(r, 270)  # aumentez le rayon à 2*r\n",
    "forward(2*r)\n",
    "circle(-r, 270)\n",
    "forward(r)\n",
    "\n",
    "done()\n"
   ]
  },
  {
   "cell_type": "markdown",
   "id": "e3d49b36",
   "metadata": {},
   "source": [
    "## Bretzel - ⌘\n",
    "\n",
    "Le pictogramme ⌘ (Unicode 2318), parfois appelé *Gordon loop* ou *bretzel*, a été dessiné par Susan Kare lors de la création du premier Macintosh pour sa touche de commande. Il sert de préfixe à d'autres touches pour construire des raccourcis tels que :\n",
    "\n",
    "- ⌘-X pour couper\n",
    "- ⌘-C pour copier\n",
    "- ⌘-V pour coller\n",
    "\n"
   ]
  },
  {
   "cell_type": "markdown",
   "id": "57775508",
   "metadata": {},
   "source": [
    "<h3 style=\"color:teal;background-color:azure;\" > <i class=\"fa fa-pencil\" aria-hidden=\"true\"> </i> &nbsp; Exercice 7 </h3>Modifiez le bretzel pour avoir 3 ou 4 boucles.\n",
    "\n"
   ]
  },
  {
   "cell_type": "code",
   "execution_count": null,
   "id": "ea38558f",
   "metadata": {},
   "outputs": [],
   "source": [
    "from turtle import *\n",
    "r = 40\n",
    "\n",
    "for i in range(4):\n",
    "    circle(r, 270)\n",
    "    forward(3*r)\n",
    "\n",
    "done()\n"
   ]
  },
  {
   "cell_type": "markdown",
   "id": "609feb14",
   "metadata": {},
   "source": [
    "## Lettres\n",
    "\n",
    "Les lettres sont des signes graphiques qui forment un alphabet et servent à transcrire une langue.\n",
    "\n"
   ]
  },
  {
   "cell_type": "markdown",
   "id": "0e4f62a6",
   "metadata": {},
   "source": [
    "<h3 style=\"color:teal;background-color:azure;\" > <i class=\"fa fa-pencil\" aria-hidden=\"true\"> </i> &nbsp; Exercice 8 </h3>Ajoutez une fonction `m()` pour écrire le mot `nom`. Ajoutez ensuite des fonctions qui dessinent les lettres pour écrire votre prénom.\n",
    "\n"
   ]
  },
  {
   "cell_type": "code",
   "execution_count": null,
   "id": "c7ddb799",
   "metadata": {},
   "outputs": [],
   "source": [
    "from turtle import *\n",
    "width(5)\n",
    "r = 30\n",
    "\n",
    "def n():\n",
    "    down()\n",
    "    left(90)\n",
    "    forward(2*r)    # montée\n",
    "    backward(r)     # retour au milieu\n",
    "    circle(-r, 180) # demi-cercle\n",
    "    forward(r)      # descente\n",
    "    left(90)\n",
    "    up()\n",
    "    forward(r)      # avance vers la prochaine lettre\n",
    "\n",
    "def o():\n",
    "    forward(r)      # avance vers milieu\n",
    "    down()\n",
    "    circle(r)\n",
    "    up()\n",
    "    forward(2*r)    # avance vers prochaine lettre\n",
    "\n",
    "n()\n",
    "o()\n",
    "n()\n",
    "\n",
    "done()\n"
   ]
  },
  {
   "cell_type": "markdown",
   "id": "08d35156",
   "metadata": {},
   "source": [
    "## Pétales\n",
    "\n",
    "Un pétale est formé de deux arcs de cercle.\n",
    "\n"
   ]
  },
  {
   "cell_type": "markdown",
   "id": "c0d63833",
   "metadata": {},
   "source": [
    "<h3 style=\"color:teal;background-color:azure;\" > <i class=\"fa fa-pencil\" aria-hidden=\"true\"> </i> &nbsp; Exercice 9 </h3>Coloriez la fleur.\n",
    "\n"
   ]
  },
  {
   "cell_type": "code",
   "execution_count": null,
   "id": "64f0f444",
   "metadata": {},
   "outputs": [],
   "source": [
    "from turtle import *\n",
    "\n",
    "def petale():\n",
    "    for i in range(2):\n",
    "        circle(100, 120)\n",
    "        left(60)\n",
    "\n",
    "for i in range(6):\n",
    "    petale()\n",
    "    left(60)\n",
    "\n",
    "done()\n"
   ]
  },
  {
   "cell_type": "markdown",
   "id": "1c97a640",
   "metadata": {},
   "source": [
    "## Exercices\n",
    "\n",
    "- Téléchargez un exercice.\n",
    "- Editez-le dans un éditeur.\n",
    "- Déposez-le sur Moodle.\n",
    "\n"
   ]
  },
  {
   "cell_type": "markdown",
   "id": "2e4df01b",
   "metadata": {},
   "source": [
    "### LGBTQ+\n",
    "\n",
    "On vous demande de dessiner des logos pour les toilettes avec le symbole traditionnel ♂ et ♀. La communauté [LGBT](https://fr.wikipedia.org/wiki/Mouvement_LGBT) vous demande d'y ajouter un troisième logo, et c'est à vous d'un créer un.\n",
    "\n"
   ]
  },
  {
   "cell_type": "code",
   "execution_count": null,
   "id": "07555fd3",
   "metadata": {},
   "outputs": [],
   "source": [
    "from turtle import *\n",
    "# Prénom Nom, classe\n",
    "\n",
    "left(135)\n",
    "circle(50)\n",
    "right(90)\n",
    "forward(50)\n",
    "...\n",
    "\n",
    "done()\n"
   ]
  },
  {
   "cell_type": "markdown",
   "id": "948adcd6",
   "metadata": {},
   "source": [
    "### Anneaux olympiques\n",
    "\n",
    "Les cinq anneaux imbriqués, colorés en bleu, jaune, noir, vert et rouge sur un fond blanc, sont appelés *anneaux olympiques*. Le symbole est créé à l'origine en 1913 par Pierre Coubertin. Il semble avoir voulu que les anneaux représentent les cinq continents : Europe, Asie, Afrique, Amérique et Océanie.\n",
    "\n"
   ]
  },
  {
   "cell_type": "markdown",
   "id": "ba19c21d",
   "metadata": {},
   "source": [
    "<img src=\"https://raw.githubusercontent.com/edunumsec2/book/master/src/appr/prog1/media/olympic_rings.png\" alt=\"media/olympic_rings.png\" width=\"200\"/>"
   ]
  },
  {
   "cell_type": "markdown",
   "id": "3a1ac1e6",
   "metadata": {},
   "source": [
    "\n",
    " \n",
    "\n"
   ]
  },
  {
   "cell_type": "code",
   "execution_count": null,
   "id": "f6e17e6c",
   "metadata": {},
   "outputs": [],
   "source": [
    "from turtle import *\n",
    "# Prénom Nom, classe\n",
    "\n",
    "circle(50)\n",
    "\n",
    "done()\n"
   ]
  },
  {
   "cell_type": "markdown",
   "id": "fac37512",
   "metadata": {},
   "source": [
    "### Chemin de fer\n",
    "\n",
    "Avec des rails de chemin de fer, dessinez un circuit en forme d'un rond (deux rails avec les traverses).\n",
    "\n"
   ]
  },
  {
   "cell_type": "markdown",
   "id": "7bd0f94b",
   "metadata": {},
   "source": [
    "![rails](https://raw.githubusercontent.com/edunumsec2/book/master/src/appr/prog1/media/rails2.png)\n",
    "\n",
    "Utilisez une boucle `for` pour la répétition des traverses.\n",
    "\n"
   ]
  },
  {
   "cell_type": "code",
   "execution_count": null,
   "id": "e402030a",
   "metadata": {},
   "outputs": [],
   "source": [
    "from turtle import *\n",
    "# Prénom Nom, classe\n",
    "\n",
    "def traverse():\n",
    "    ...\n",
    "\n",
    "forward(200)\n",
    "\n",
    "done()\n"
   ]
  },
  {
   "cell_type": "markdown",
   "id": "e36b34c1",
   "metadata": {},
   "source": [
    "### Circuit en huit\n",
    "\n",
    "Avec des rails de chemin de fer, dessinez un circuit en forme de huit (deux rails avec les traverses). Découpez votre code en sous-programmes.\n",
    "\n"
   ]
  },
  {
   "cell_type": "code",
   "execution_count": null,
   "id": "468d7b97",
   "metadata": {},
   "outputs": [],
   "source": [
    "from turtle import *\n",
    "# Prénom Nom, classe\n",
    "\n",
    "def traverse():\n",
    "    ...\n",
    "\n",
    "forward(200)\n",
    "\n",
    "done()\n"
   ]
  },
  {
   "cell_type": "markdown",
   "id": "500ef7fb",
   "metadata": {},
   "source": [
    "### Un jardin\n",
    "\n",
    "Dessinez et coloriez un jardin. Définissez des fonctions pour des pétales, feuilles et fleurs.\n",
    "\n"
   ]
  },
  {
   "cell_type": "code",
   "execution_count": null,
   "id": "366489b6",
   "metadata": {},
   "outputs": [],
   "source": [
    "from turtle import *\n",
    "# Prénom Nom, classe\n",
    "\n",
    "dot(1000, 'lightgreen')  # background\n",
    "\n",
    "def petale():\n",
    "    ...\n",
    "def feuille():\n",
    "    ...\n",
    "def fleur():\n",
    "    dot(50, 'red')\n",
    "\n",
    "feuille()\n",
    "forward(200)\n",
    "fleur()\n",
    "\n",
    "done()"
   ]
  },
  {
   "cell_type": "markdown",
   "id": "acc1b1e1",
   "metadata": {},
   "source": [
    "---\n",
    "\n",
    "#### Remarque générale\n",
    "\n",
    "Ce document est une adaptation d'un ressource pédagogique tiré du catalogue modulo https://modulo-info.ch/. Il est sous license Creative Commons [BY-NC-SA](https://creativecommons.org/licenses/?lang=fr)\n",
    "![Licence Creative Commons](https://i.creativecommons.org/l/by-nc-sa/4.0/88x31.png)\n",
    "\n",
    "    "
   ]
  }
 ],
 "metadata": {
  "kernelspec": {
   "display_name": "Python 3 (ipykernel)",
   "language": "python",
   "name": "python3"
  },
  "language_info": {
   "codemirror_mode": {
    "name": "ipython",
    "version": 3
   },
   "file_extension": ".py",
   "mimetype": "text/x-python",
   "name": "python",
   "nbconvert_exporter": "python",
   "pygments_lexer": "ipython3",
   "version": "3.10.12"
  }
 },
 "nbformat": 4,
 "nbformat_minor": 5
}
