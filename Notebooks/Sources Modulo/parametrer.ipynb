{
 "cells": [
  {
   "cell_type": "markdown",
   "id": "0-4a42e0",
   "metadata": {},
   "source": [
    "<div style=\"padding:20px;background-color:papayawhip;\" > \n",
    "<h3 style=\"color:chocolate\"> <i class=\"fa fa-info\" aria-hidden=\"true\"> </i> &nbsp; Remarque introductive &nbsp;  <i class=\"fa fa-info\" aria-hidden=\"true\"></h3> \n",
    "<p> Ce fichier est fait pour être lu sur le site <a href=\"https://notebook.basthon.fr/\"><img src='https://notebook.basthon.fr/assets/efede5218c9087496f16.png' style=\"border: 0; display:inline; margin: 0 5px; height:30px\" alt=\"Basthon\"/></a>. <br>\n",
    "    \n",
    "Si vous l'avez ouvert avec un autre programme, comme Jupyter notebook, vous riquez de rencontrer quelques bugs. <br>\n",
    "Veuillez cliquez sur <a href=\"https://notebook.basthon.fr/\">ce lien</a> et y charger ce fichier à l'aide du bouton \"Ouvrir\"  &nbsp; <i class=\"fa fa-folder\" aria-hidden=\"true\"> </i>\n",
    "</p> </div>    "
   ]
  },
  {
   "cell_type": "markdown",
   "id": "1-e2e7d6",
   "metadata": {},
   "source": [
    "# Paramétrer - `rect(d, e)`\n",
    "\n",
    "Dans ce chapitre, nous revenons sur le concept de la fonction. Dans le chapitre 2 nous avons vu la fonction comme une façon de donner un nom à une séquence d'instructions. Ici nous allons voir comment nous pouvons ajouter un ou plusieurs paramètres à une fonction. Nous allons voir que :\n",
    "\n",
    "- l'expression `def rect(d, e):` permet de définir une fonction avec deux paramètres,\n",
    "- les paramètres `d, e` sont des variables locales valides uniquement à l'intérieur de la définition de fonction,\n",
    "- ces paramètres prennent une valeur au moment de l'appel  de la fonction avec `rect(50, 30)`.\n",
    "\n"
   ]
  },
  {
   "cell_type": "markdown",
   "id": "2-0771d1",
   "metadata": {},
   "source": [
    "<h3 style=\"color:chocolate;background-color:papayawhip;\" > <i class=\"fa fa-question\" aria-hidden=\"true\"> </i> &nbsp; Quizz </h3> \n",
    " \n",
    "```\n",
    "En Python, `def` est un raccourci pour\n",
    "\n",
    "A) défoncé\n",
    "B) défilé\n",
    "C) définition\n",
    "D) défavorisé\n",
    "```"
   ]
  },
  {
   "cell_type": "raw",
   "id": "3-770ee9",
   "metadata": {},
   "source": [
    "Ma réponse : "
   ]
  },
  {
   "cell_type": "markdown",
   "id": "4-8c2616",
   "metadata": {},
   "source": [
    "<details>\n",
    "<summary style=\"border-left:3px solid #3c763d; border-radius:2pt; width:100%; color:#3c763d; padding:6px; background-color: #dff0d8\"> \n",
    "Réponse\n",
    "</summary>  \n",
    "\n",
    "<div style=\"border-left:3px solid #3c763d; border-radius:2pt; color:#3c763d; padding:6px; background-color: #eff0e8\">C) définition\n",
    "</div>\n",
    "</details>\n",
    "                \n"
   ]
  },
  {
   "cell_type": "markdown",
   "id": "5-77edc7",
   "metadata": {},
   "source": [
    "## Paramétrer une fonction\n",
    "\n",
    "Jusqu'à maintenant, notre rectangle était d'une taille fixe. La fonction `rectangle()` du chapitre 2 dessine toujours un rectangle de 160 x 100 pixels. Il faudrait faire une nouvelle fonction `rectangle2()` si on voulait dessiner une taille différente.\n",
    "\n",
    "Il serait très utile de disposer d'une fonction de la forme `rectangle(d, e)` qui puisse dessiner des rectangles de largeur et hauteur variable.\n",
    "C'est possible en spécifiant des **paramètres** pour la fonction.\n",
    "Un paramètre de fonction est une variable locale qui peut être utilisée dans sa définition.\n",
    "\n",
    "Lors de l'appel de la fonction, nous donnons des valeurs à la fonction.\n",
    "Ces valeurs sont les **arguments** de la fonction.\n",
    "\n"
   ]
  },
  {
   "cell_type": "markdown",
   "id": "6-2da80d",
   "metadata": {},
   "source": [
    "<h3 style=\"color:teal;background-color:azure;\" > <i class=\"fa fa-pencil\" aria-hidden=\"true\"> </i> &nbsp; Exercice 1 </h3>Aujoutez un deuxième rectangle avec d'autres dimensions.\n",
    "\n"
   ]
  },
  {
   "cell_type": "code",
   "execution_count": null,
   "id": "7-241992",
   "metadata": {},
   "outputs": [],
   "source": [
    "from turtle import *\n",
    "\n",
    "def rectangle(d, e):    # paramètres (d, e)\n",
    "    for i in range(2):\n",
    "        forward(d/2)\n",
    "        write(d)\n",
    "        forward(d/2)\n",
    "        left(90)\n",
    "\n",
    "        forward(e/2)\n",
    "        write(e)\n",
    "        forward(e/2)\n",
    "        left(90)\n",
    "\n",
    "rectangle(160, 100)      # largeur=160, hauteur=100\n",
    "\n",
    "done()\n"
   ]
  },
  {
   "cell_type": "markdown",
   "id": "8-718f32",
   "metadata": {},
   "source": [
    "La fonction `losange(a, angle)` a comme paramètre la longueur et le premier angle. Le deuxième angle du losange est calculé.\n",
    "\n"
   ]
  },
  {
   "cell_type": "code",
   "execution_count": null,
   "id": "9-d78627",
   "metadata": {},
   "outputs": [],
   "source": [
    "from turtle import *\n",
    "\n",
    "def losange(d, a):      # paramètres (d=distance, a=angle)\n",
    "    for i in range(2):\n",
    "        forward(d)\n",
    "        left(a)\n",
    "        write(a)\n",
    "\n",
    "        forward(d)\n",
    "        left(180-a)\n",
    "        write(180-a)\n",
    "\n",
    "losange(100, 60)            # distance=100, angle=60\n",
    "losange(140, 100)           # distance=140, angle=100\n",
    "\n",
    "done()\n"
   ]
  },
  {
   "cell_type": "markdown",
   "id": "10-2c8776",
   "metadata": {},
   "source": [
    "La fonction `polygone(d, n)` a comme paramètre la distance du côté et le nombre de sommets.\n",
    "\n"
   ]
  },
  {
   "cell_type": "code",
   "execution_count": null,
   "id": "11-b9545e",
   "metadata": {},
   "outputs": [],
   "source": [
    "from turtle import *\n",
    "\n",
    "def polygone(d, n):     # paramètres (d, n)\n",
    "    for i in range(n):\n",
    "        forward(d)\n",
    "        left(360/n)\n",
    "        write(360/n)\n",
    "\n",
    "polygone(100, 3)    # triangle\n",
    "polygone(100, 4)    # carré\n",
    "polygone(100, 5)    # pentagon\n",
    "\n",
    "done()\n"
   ]
  },
  {
   "cell_type": "markdown",
   "id": "12-36ee16",
   "metadata": {},
   "source": [
    "## Dessiner une maison\n",
    "\n",
    "Nous revenons à notre fonction pour dessiner une maison.\n",
    "\n"
   ]
  },
  {
   "cell_type": "markdown",
   "id": "13-b7f2f2",
   "metadata": {},
   "source": [
    "<h3 style=\"color:teal;background-color:azure;\" > <i class=\"fa fa-pencil\" aria-hidden=\"true\"> </i> &nbsp; Exercice 2 </h3>Ajoutez une maison de taille 100.\n",
    "\n"
   ]
  },
  {
   "cell_type": "code",
   "execution_count": null,
   "id": "14-3bf9df",
   "metadata": {},
   "outputs": [],
   "source": [
    "from turtle import *\n",
    "\n",
    "def maison(d):\n",
    "    dot()\n",
    "    forward (1.41*d)  # sol\n",
    "    left(90)\n",
    "    forward(d)  # mur droit\n",
    "    left(45)\n",
    "    forward(d)  # toit droit\n",
    "    left(90)\n",
    "    forward(d)  # toit gauche\n",
    "    left(45)\n",
    "    forward(d)  # mur gauche\n",
    "    left(90)\n",
    "\n",
    "backward(200)\n",
    "maison(50)      # maison de taille 50\n",
    "forward(100)\n",
    "maison(70)      # maison de taille 70\n",
    "\n",
    "done()\n"
   ]
  },
  {
   "cell_type": "markdown",
   "id": "15-b27107",
   "metadata": {},
   "source": [
    "## Positionner la maison\n",
    "\n",
    "La fonction `goto(x, y)` place la tortue à la position `(x, y)`. Cette fonction  permet de positionner notre maison à un endroit précis.\n",
    "Pour désigner cette position, nous utilisons la variable `p` (point, position) qui consiste d'un tuple `(x, y)` de coordonnées.\n",
    "\n",
    "La fonction `write(p)` écrit la position `p` sur le canevas, à la position actuelle de la tortue. Pour marquer ce point de positionnement, nous ajoutons un point (dot) comme marqueur.\n",
    "\n"
   ]
  },
  {
   "cell_type": "markdown",
   "id": "16-30d5d3",
   "metadata": {},
   "source": [
    "<h3 style=\"color:teal;background-color:azure;\" > <i class=\"fa fa-pencil\" aria-hidden=\"true\"> </i> &nbsp; Exercice 3 </h3>Aujoutez deux autres maisons de taille différente.\n",
    "\n"
   ]
  },
  {
   "cell_type": "code",
   "execution_count": null,
   "id": "17-d85baa",
   "metadata": {},
   "outputs": [],
   "source": [
    "from turtle import *\n",
    "\n",
    "def maison(p, d):\n",
    "    goto(p)     # aller à la position p\n",
    "    write(p)    # afficher cette position p\n",
    "    dot()       # ajouter un marquer (dot)\n",
    "    down()\n",
    "    forward (1.41*d)  # sol\n",
    "    left(90)\n",
    "    forward(d)  # mur droit\n",
    "    left(45)\n",
    "    forward(d)  # toit droit\n",
    "    left(90)\n",
    "    forward(d)  # toit gauche\n",
    "    left(45)\n",
    "    forward(d)  # mur gauche\n",
    "    left(90)\n",
    "    up()\n",
    "\n",
    "maison((0, 0), 50)          # maison à la position (0, 0)\n",
    "maison((-150, 50), 70)      # maison à la position (-150, 50)\n",
    "\n",
    "done()\n"
   ]
  },
  {
   "cell_type": "markdown",
   "id": "18-4359ee",
   "metadata": {},
   "source": [
    "## Colorier la maison\n",
    "\n",
    "Maintenant nous modifions la fonction pour inclure non seulement la position, la taille, mais également la couleur de la maison comme paramètres. Les arguments de la fonction sont :\n",
    "\n",
    "- `p` -- position de la maison\n",
    "- `d` -- dimension de la maison\n",
    "- `c` -- couleur de la maison\n",
    "\n"
   ]
  },
  {
   "cell_type": "markdown",
   "id": "19-287af1",
   "metadata": {},
   "source": [
    "<h3 style=\"color:teal;background-color:azure;\" > <i class=\"fa fa-pencil\" aria-hidden=\"true\"> </i> &nbsp; Exercice 4 </h3>Aujoutez deux autres maisons de taille et couleur différente.\n",
    "\n"
   ]
  },
  {
   "cell_type": "code",
   "execution_count": null,
   "id": "20-980e83",
   "metadata": {},
   "outputs": [],
   "source": [
    "from turtle import *\n",
    "up()\n",
    "\n",
    "def maison(p, d, c):\n",
    "    goto(p)\n",
    "    dot()\n",
    "    down()\n",
    "    fillcolor(c)\n",
    "    begin_fill()\n",
    "    forward (1.41*d)  # sol\n",
    "    left(90)\n",
    "    forward(d)  # mur droit\n",
    "    left(45)\n",
    "    forward(d)  # toit droit\n",
    "    left(90)\n",
    "    forward(d)  # toit gauche\n",
    "    left(45)\n",
    "    forward(d)  # mur gauche\n",
    "    left(90)\n",
    "    end_fill()\n",
    "    up()\n",
    "\n",
    "maison((0, 0), 70, 'lightblue')\n",
    "maison((150, 30), 50, 'yellow')\n",
    "\n",
    "done()\n"
   ]
  },
  {
   "cell_type": "markdown",
   "id": "21-067116",
   "metadata": {},
   "source": [
    "## Drapeau tricolore\n",
    "\n"
   ]
  },
  {
   "cell_type": "markdown",
   "id": "22-fecdfd",
   "metadata": {},
   "source": [
    "<h3 style=\"color:teal;background-color:azure;\" > <i class=\"fa fa-pencil\" aria-hidden=\"true\"> </i> &nbsp; Exercice 5 </h3>Modifiez les couleurs pour obtenir le drapeau d'un autre pay.  \n",
    "Créez une deuxième fonction `drapeau2(d, c, c2, c3)` qui crée un drapeau avec des barres horizontales.\n",
    "\n"
   ]
  },
  {
   "cell_type": "code",
   "execution_count": null,
   "id": "23-fba02d",
   "metadata": {},
   "outputs": [],
   "source": [
    "from turtle import *\n",
    "\n",
    "def rectangle(d, e, c):\n",
    "    fillcolor(c)\n",
    "    begin_fill()\n",
    "    for i in range(2):\n",
    "        forward(d)\n",
    "        left(90)\n",
    "        forward(e)\n",
    "        left(90)\n",
    "    end_fill()\n",
    "\n",
    "def drapeau(d, c, c2, c3):\n",
    "    rectangle(d, 2*d, c)\n",
    "    forward(d)\n",
    "    rectangle(d, 2*d, c2)\n",
    "    forward(d)\n",
    "    rectangle(d, 2*d, c3)\n",
    "\n",
    "drapeau(50, 'blue', 'white', 'red')\n",
    "\n",
    "done()\n"
   ]
  },
  {
   "cell_type": "markdown",
   "id": "24-7feeaa",
   "metadata": {},
   "source": [
    "## Arbre\n",
    "\n",
    "Pour dessiner un arbre simple, nous utilisons un segment droit pour le tronc et un disque (dot) pour le feuillage.\n",
    "C'est une fonction qui a 3 paramètres\n",
    "\n",
    "- `d` -- longueur du tronc\n",
    "- `c` -- couleur du tronc\n",
    "- `c2` -- couleur du feuillage\n",
    "\n"
   ]
  },
  {
   "cell_type": "markdown",
   "id": "25-a10b07",
   "metadata": {},
   "source": [
    "<h3 style=\"color:teal;background-color:azure;\" > <i class=\"fa fa-pencil\" aria-hidden=\"true\"> </i> &nbsp; Exercice 6 </h3>Définissez une fonction `foret(n)` qui dessine `n` arbres.\n",
    "\n"
   ]
  },
  {
   "cell_type": "code",
   "execution_count": null,
   "id": "26-49cd37",
   "metadata": {},
   "outputs": [],
   "source": [
    "from turtle import *\n",
    "\n",
    "def arbre(d, c, c2):\n",
    "    down()\n",
    "    left(90)\n",
    "    width(d/6)      # tronc\n",
    "    pencolor(c)\n",
    "    forward(d)\n",
    "    dot(d, c2)      # feuillage\n",
    "    up()\n",
    "    backward(d)     # retourner à la position de départ\n",
    "    right(90)\n",
    "\n",
    "\n",
    "arbre(100, 'brown', 'lime')\n",
    "forward(70)\n",
    "arbre(90, 'brown', 'green')\n",
    "\n",
    "done()\n"
   ]
  },
  {
   "cell_type": "markdown",
   "id": "27-9ed3a7",
   "metadata": {},
   "source": [
    "## Bus\n",
    "\n",
    "Pour dessiner un bus, une voiture ou un camion simple, nous pouvons utiliser des rectangles pour le châssis, et un disque (dot) pour les roues.\n",
    "C'est une fonction qui a a paramètres\n",
    "\n",
    "- `p` -- position du bus\n",
    "- `d` -- dimension (longeur) du bus\n",
    "- `c` -- couleur du bus\n",
    "\n"
   ]
  },
  {
   "cell_type": "code",
   "execution_count": null,
   "id": "28-9b11e8",
   "metadata": {},
   "outputs": [],
   "source": [
    "from turtle import *\n",
    "up()\n",
    "\n",
    "def rectangle(d, e, c):\n",
    "    fillcolor(c)\n",
    "    begin_fill()\n",
    "    for i in range(2):\n",
    "        forward(d)\n",
    "        left(90)\n",
    "        forward(e)\n",
    "        left(90)\n",
    "    end_fill()\n",
    "\n",
    "def bus(p, d, c):\n",
    "    goto(p)\n",
    "    down()\n",
    "    rectangle(d, d/3, c) # chassis\n",
    "    forward(d/4)\n",
    "    dot(d/5)            # roue arrière\n",
    "    dot(d/10, 'white')\n",
    "    forward(d/2)\n",
    "    dot(d/5)            # roue avant\n",
    "    dot(d/10, 'white')\n",
    "    up()\n",
    "\n",
    "bus((-200, 50), 200, 'red')\n",
    "bus((50, 20), 150, 'lightblue')\n",
    "\n",
    "done()\n"
   ]
  },
  {
   "cell_type": "markdown",
   "id": "29-479fd2",
   "metadata": {},
   "source": [
    "## Coeur\n",
    "\n"
   ]
  },
  {
   "cell_type": "markdown",
   "id": "30-0c2b9a",
   "metadata": {},
   "source": [
    "<h3 style=\"color:teal;background-color:azure;\" > <i class=\"fa fa-pencil\" aria-hidden=\"true\"> </i> &nbsp; Exercice 7 </h3>Ajoutez deux paramètres: `w` pour l'épaisseur de la ligne (width), et `c2` pour la couleur de ligne.  \n",
    "La fonction aura la forme `coeur(r, w, c, c2)`.\n",
    "\n"
   ]
  },
  {
   "cell_type": "code",
   "execution_count": null,
   "id": "31-0cb1d5",
   "metadata": {},
   "outputs": [],
   "source": [
    "from turtle import *\n",
    "\n",
    "def coeur(r, c):\n",
    "    down()\n",
    "    fillcolor(c)\n",
    "    begin_fill()\n",
    "    left(90)\n",
    "    circle(r, 225)\n",
    "    forward(2.4*r)\n",
    "    left(90)\n",
    "    forward(2.4*r)\n",
    "    circle(r, 225)\n",
    "    left(90)\n",
    "    end_fill()\n",
    "    up()\n",
    "\n",
    "coeur(50, 'darkviolet')\n",
    "forward(130)\n",
    "coeur(40, 'tomato')\n",
    "\n",
    "done()\n"
   ]
  },
  {
   "cell_type": "markdown",
   "id": "32-f05457",
   "metadata": {},
   "source": [
    "## Escalier\n",
    "\n",
    "- `d` -- longueur de marche\n",
    "- `e` -- hauteur de marche\n",
    "- `n` -- nombre de marches\n",
    "\n"
   ]
  },
  {
   "cell_type": "code",
   "execution_count": null,
   "id": "33-61afc4",
   "metadata": {},
   "outputs": [],
   "source": [
    "from turtle import *\n",
    "\n",
    "def escalier(d, e, n):\n",
    "    dot()   # marqueur de début\n",
    "    for i in range(n):\n",
    "        forward(d)\n",
    "        left(90)\n",
    "        forward(e)\n",
    "        right(90)\n",
    "\n",
    "escalier(20, 10, 5)\n",
    "escalier(10, -20, 5)\n",
    "escalier(30, 10, 4)\n",
    "\n",
    "done()\n"
   ]
  },
  {
   "cell_type": "markdown",
   "id": "34-77ff02",
   "metadata": {},
   "source": [
    "## Valeurs par défaut\n",
    "\n",
    "Quand une fonction possède beaucoup d'arguments, nous pouvons spécifier des valeurs par défaut. Pour ceci nous ajoutons la valeur par défaut dans la liste de paramètres avec le symbole `=`.\n",
    "\n",
    "La fonction `rectangle(p, d, e, w=1, pen='black', fill='white')` dessine un rectangle aux dimensions `d` x `e` à la position `p`.\n",
    "Cette fonction possède 3 paramètres optionnels (valeur par défaut en parenthèse):\n",
    "\n",
    "- `w` -- épaisseur de ligne (`1`)\n",
    "- `pen` -- couleur de ligne (`'black'`)\n",
    "- `fill` -- couleur de remplissage (`'white'`)\n",
    "\n",
    "Il a maintenant différentes façons à appeler la fonction. Tous les paramètres qui ont une valeur par défaut sont optionnels. Au minimum nous devons spécifier les paramètres sans valeur par défaut.\n",
    "\n",
    "```\n",
    "rectangle((40, 0), 80, 40)\n",
    "```\n",
    "\n",
    "Le rectangle est dessiné dans la direction actuelle de la tortue. Cette orientation peut être changée avec `seth()`. La tortue se positionne de l'autre côté du point de départ. Ceci permet d'enchainer à dessiner des rectangles.\n",
    "\n"
   ]
  },
  {
   "cell_type": "code",
   "execution_count": null,
   "id": "35-0987a9",
   "metadata": {},
   "outputs": [],
   "source": [
    "from turtle import *\n",
    "up()\n",
    "\n",
    "def rectangle(p, d, e, w=1, pen='black', fill='white'):\n",
    "    goto(p)\n",
    "    down()\n",
    "    width(w)\n",
    "    pencolor(pen)\n",
    "    fillcolor(fill)\n",
    "    begin_fill()\n",
    "    for i in range(2):\n",
    "        forward(d)\n",
    "        left(90)\n",
    "        forward(e)\n",
    "        left(90)\n",
    "    end_fill()\n",
    "    up()\n",
    "\n",
    "rectangle((-200, 30), 40, 30)\n",
    "rectangle((-100, -20), 40, 30, 1, 'orange', 'orange')\n",
    "rectangle((100, -40), 30, 80, fill='yellow')\n",
    "rectangle((200, 100), 80, 40, 1, 'red', 'pink')\n",
    "\n",
    "done()\n"
   ]
  },
  {
   "cell_type": "markdown",
   "id": "36-0d4895",
   "metadata": {},
   "source": [
    "## Polygone régulier\n",
    "\n",
    "La fonction `polygone()` dessine un polygone régulier avec n sommets. Les arguments de la fonction sont :\n",
    "\n",
    "- `d` -- distance du segment\n",
    "- `n` -- nombre de segments\n",
    "\n"
   ]
  },
  {
   "cell_type": "code",
   "execution_count": null,
   "id": "37-9d5b55",
   "metadata": {},
   "outputs": [],
   "source": [
    "from turtle import *\n",
    "\n",
    "def polygon(d, n, w=1, pen='black', fill='white'):\n",
    "    down()\n",
    "    pencolor(pen)\n",
    "    width(w)\n",
    "    fillcolor(fill)\n",
    "    begin_fill()\n",
    "    for i in range(n):\n",
    "        forward(d)\n",
    "        left(360/n)\n",
    "    end_fill()\n",
    "    up()\n",
    "\n",
    "up()\n",
    "backward(280)\n",
    "for n in range(3, 9):\n",
    "    polygon(40, n, fill='lime')\n",
    "    color('black')\n",
    "    write(n)\n",
    "    forward(100)\n",
    "\n",
    "done()\n"
   ]
  },
  {
   "cell_type": "markdown",
   "id": "38-3433df",
   "metadata": {},
   "source": [
    "## Polygone étoilé\n",
    "\n",
    "En ajoutant un paramètre supplémentaire `m`, la fonction `polygone()` permet également de dessiner un polygone étoilé.  Ce paramètre signifie le nombre de pics sauté pour aller au prochain des `n` points répartis dans un cercle. Pour `m=1` un polygone régulier est dessiné.\n",
    "\n",
    "es arguments de la fonction sont :\n",
    "\n",
    "- `d` -- distance du segment\n",
    "- `n` -- nombre de segments\n",
    "- `m` -- paramètre pour polygone étoilé (nombre de pics sautés)\n",
    "\n"
   ]
  },
  {
   "cell_type": "code",
   "execution_count": null,
   "id": "39-882e2f",
   "metadata": {},
   "outputs": [],
   "source": [
    "from turtle import *\n",
    "\n",
    "def polygon(d, n, m=1, w=1, pen='black', fill='white'):\n",
    "    down()\n",
    "    pencolor(pen)\n",
    "    width(w)\n",
    "    fillcolor(fill)\n",
    "    begin_fill()\n",
    "    for i in range(n):\n",
    "        forward(d)\n",
    "        left(m*360/n)\n",
    "    end_fill()\n",
    "    up()\n",
    "\n",
    "up()\n",
    "speed(0)\n",
    "backward(250)\n",
    "for m in range(2, 6):\n",
    "    polygon(80, 11, m, fill='yellow')\n",
    "    color('black')\n",
    "    write(m)\n",
    "    forward(140)\n",
    "\n",
    "done()\n"
   ]
  },
  {
   "cell_type": "markdown",
   "id": "40-297005",
   "metadata": {},
   "source": [
    "## Nommer une variable\n",
    "\n",
    "Pour nommer une variable, vous pouvez utiliser :\n",
    "\n",
    "- lettres (`a...z` et `A...Z`),\n",
    "- chiffres (`0...9`),\n",
    "- le tiret bas (`_`).\n",
    "\n",
    "Le nom de variable :\n",
    "\n",
    "- est sensible aux majuscules/minuscules,\n",
    "- ne peut pas commencer avec un chiffre,\n",
    "- ne doit pas consister d'un mot-clé (`if`, `else`, `for`),\n",
    "\n",
    "Ces noms de variables sont donc valides : `a2`, `_a`, `speed`, `pos_x`, `POS_X`\n",
    "\n"
   ]
  },
  {
   "cell_type": "markdown",
   "id": "41-7da254",
   "metadata": {},
   "source": [
    "<h3 style=\"color:chocolate;background-color:papayawhip;\" > <i class=\"fa fa-question\" aria-hidden=\"true\"> </i> &nbsp; Quizz </h3> \n",
    " \n",
    "```\n",
    "Lesquels des noms de variable sont valides ?\n",
    "\n",
    "A) var 2\n",
    "B) var2\n",
    "C) 2var\n",
    "D) IF\n",
    "===\n",
    "`var 2` contient une espace\n",
    "`2var` commence par un chiffre\n",
    "`IF` n'est pas un mot-clé\n",
    "```"
   ]
  },
  {
   "cell_type": "raw",
   "id": "42-770ee9",
   "metadata": {},
   "source": [
    "Ma réponse : "
   ]
  },
  {
   "cell_type": "markdown",
   "id": "43-8b4732",
   "metadata": {},
   "source": [
    "<details>\n",
    "<summary style=\"border-left:3px solid #3c763d; border-radius:2pt; width:100%; color:#3c763d; padding:6px; background-color: #dff0d8\"> \n",
    "Réponse\n",
    "</summary>  \n",
    "\n",
    "<div style=\"border-left:3px solid #3c763d; border-radius:2pt; color:#3c763d; padding:6px; background-color: #eff0e8\">D) IF\n",
    "</div>\n",
    "</details>\n",
    "                \n"
   ]
  },
  {
   "cell_type": "markdown",
   "id": "44-750d0c",
   "metadata": {},
   "source": [
    "## Exercices\n",
    "\n"
   ]
  },
  {
   "cell_type": "markdown",
   "id": "45-ff272f",
   "metadata": {},
   "source": [
    "### Pingpong\n",
    "\n",
    "La fonction `pingpong()` reprend le dessin du chapitre 1 et ajoute trois paramètres\n",
    "\n"
   ]
  },
  {
   "cell_type": "code",
   "execution_count": null,
   "id": "46-4beda5",
   "metadata": {},
   "outputs": [],
   "source": [
    "from turtle import *\n",
    "\n",
    "def pingpong(d, c, c2):\n",
    "    down()\n",
    "    left(90)\n",
    "    color(c)        # poignée\n",
    "    width(d/8)\n",
    "    forward(d/2)\n",
    "    color(c2)       # plaque\n",
    "    width(d/2)\n",
    "    forward(d/10)\n",
    "    up()            # retourner au point de départ\n",
    "    backward(6/10*d)\n",
    "    right(90)\n",
    "\n",
    "pingpong(200, 'brown', 'red')\n",
    "forward(100)\n",
    "pingpong(150, 'brown', 'blue')\n",
    "\n",
    "done()\n"
   ]
  },
  {
   "cell_type": "markdown",
   "id": "47-fa8096",
   "metadata": {},
   "source": [
    "### Mondrian\n",
    "\n",
    "Avec la fonction `rectangle(p, d, e, w, pen, fill)` dessinez une copie de ce tableau de Mondrian.\n",
    "\n"
   ]
  },
  {
   "cell_type": "markdown",
   "id": "48-c4ffa3",
   "metadata": {},
   "source": [
    "![mondrian](https://raw.githubusercontent.com/edunumsec2/book/master/src/appr/prog1/media/mondrian.jpg)\n",
    "\n"
   ]
  },
  {
   "cell_type": "markdown",
   "id": "49-e6d661",
   "metadata": {},
   "source": [
    "### Stickman\n",
    "\n"
   ]
  },
  {
   "cell_type": "code",
   "execution_count": null,
   "id": "50-d38b85",
   "metadata": {},
   "outputs": [],
   "source": [
    "from turtle import *\n",
    "up()\n",
    "\n",
    "\n",
    "def leg(angle, d):\n",
    "    left(angle)\n",
    "    forward(d)\n",
    "    backward(d)\n",
    "    right(angle)\n",
    "\n",
    "def stickman(d, bras=(30, -45), jambes=(10, -30)):\n",
    "    seth(0)\n",
    "    down()\n",
    "    circle(d/2)       # tête\n",
    "    right(90)\n",
    "    forward(d/2)    # cou\n",
    "\n",
    "    leg(bras[0], d)\n",
    "    leg(bras[1], d)\n",
    "    forward(d)\n",
    "\n",
    "    leg(jambes[0], d)\n",
    "    leg(jambes[1], d)\n",
    "    up()\n",
    "\n",
    "goto(-200, 0)\n",
    "stickman(20)\n",
    "\n",
    "goto(-100, 0)\n",
    "stickman(20, (90, -110))\n",
    "\n",
    "goto(0, 0)\n",
    "stickman(30, (90, -110), (110, -24))\n",
    "hideturtle()\n",
    "\n",
    "done()"
   ]
  },
  {
   "cell_type": "markdown",
   "id": "51-cebd46",
   "metadata": {},
   "source": [
    "---\n",
    "\n",
    "#### Remarque générale\n",
    "\n",
    "Ce document est une adaptation d'un ressource pédagogique tiré du catalogue modulo https://modulo-info.ch/. Il est sous license Creative Commons [BY-NC-SA](https://creativecommons.org/licenses/?lang=fr)\n",
    "![Licence Creative Commons](https://i.creativecommons.org/l/by-nc-sa/4.0/88x31.png)\n",
    "\n",
    "    "
   ]
  }
 ],
 "metadata": {
  "kernelspec": {
   "display_name": "Python 3 (ipykernel)",
   "language": "python",
   "name": "python3"
  },
  "language_info": {
   "codemirror_mode": {
    "name": "ipython",
    "version": 3
   },
   "file_extension": ".py",
   "mimetype": "text/x-python",
   "name": "python",
   "nbconvert_exporter": "python",
   "pygments_lexer": "ipython3",
   "version": "3.10.12"
  }
 },
 "nbformat": 4,
 "nbformat_minor": 5
}
