{
 "cells": [
  {
   "cell_type": "markdown",
   "id": "0-4a42e0",
   "metadata": {},
   "source": [
    "<div style=\"padding:20px;background-color:papayawhip;\" > \n",
    "<h3 style=\"color:chocolate\"> <i class=\"fa fa-info\" aria-hidden=\"true\"> </i> &nbsp; Remarque introductive &nbsp;  <i class=\"fa fa-info\" aria-hidden=\"true\"></h3> \n",
    "<p> Ce fichier est fait pour être lu sur le site <a href=\"https://notebook.basthon.fr/\"><img src='https://notebook.basthon.fr/assets/efede5218c9087496f16.png' style=\"border: 0; display:inline; margin: 0 5px; height:30px\" alt=\"Basthon\"/></a>. <br>\n",
    "    \n",
    "Si vous l'avez ouvert avec un autre programme, comme Jupyter notebook, vous riquez de rencontrer quelques bugs. <br>\n",
    "Veuillez cliquez sur <a href=\"https://notebook.basthon.fr/\">ce lien</a> et y charger ce fichier à l'aide du bouton \"Ouvrir\"  &nbsp; <i class=\"fa fa-folder\" aria-hidden=\"true\"> </i>\n",
    "</p> </div>    "
   ]
  },
  {
   "cell_type": "markdown",
   "id": "1-b955f4",
   "metadata": {},
   "source": [
    "# Réseauter - `points`\n",
    "\n",
    "En mathématique un **graphe** est un ensemble de **points** liés par des **lignes**.  \n",
    "De façon générale les *points* sont des objets, souvent appelés *nœuds* ou *sommets*.  \n",
    "Les lignes sont souvent appelées *liens* ou *arêtes*.\n",
    "\n",
    "La *Théorie des graphes* est une branche des mathématiques. En informatique le graphe est un outil important pour modéliser :\n",
    "\n",
    "- des réseaux sociaux (Facebook)\n",
    "- des réseaux de transportation (Google Maps)\n",
    "- des réseaux informatiques (Internet)\n",
    "\n"
   ]
  },
  {
   "cell_type": "markdown",
   "id": "2-c1a744",
   "metadata": {},
   "source": [
    "## Les points\n",
    "\n",
    "Nous commençons par une liste de points que nous énumérons à partir de zéro.\n",
    "\n"
   ]
  },
  {
   "cell_type": "code",
   "execution_count": null,
   "id": "3-5870ff",
   "metadata": {},
   "outputs": [],
   "source": [
    "from turtle import *\n",
    "\n",
    "points = ((0, 0), (-200, 100), (50, 150), (180, -120), (-100, -100))\n",
    "\n",
    "up()\n",
    "i = 0\n",
    "for p in points:\n",
    "    goto(p)\n",
    "    dot()\n",
    "    write(i)\n",
    "    i = i + 1\n",
    "\n",
    "done()\n"
   ]
  },
  {
   "cell_type": "markdown",
   "id": "4-d1a82d",
   "metadata": {},
   "source": [
    "## Énumérer\n",
    "\n",
    "Nous pouvons *énumérer* les points de façon plus compacts en utilisant la fonction `enumerate` \n",
    "qui associe un entier à chaque élément d'une séquence.\n",
    "\n"
   ]
  },
  {
   "cell_type": "code",
   "execution_count": null,
   "id": "5-165a1e",
   "metadata": {},
   "outputs": [],
   "source": [
    "print(tuple(enumerate('abc')))\n"
   ]
  },
  {
   "cell_type": "markdown",
   "id": "6-427e8c",
   "metadata": {},
   "source": [
    "Le plus souvent enumerate est utilisé dans une boucle ou un veut \n",
    "parcourir une séquence, mais en même temps on a besoin d'un index `i`.\n",
    "\n"
   ]
  },
  {
   "cell_type": "code",
   "execution_count": null,
   "id": "7-b574a7",
   "metadata": {},
   "outputs": [],
   "source": [
    "noms = ('Kim', 'Jim', 'Ana')\n",
    "for (i, nom) in enumerate(noms):\n",
    "    print(i, nom)\n"
   ]
  },
  {
   "cell_type": "markdown",
   "id": "8-8d1267",
   "metadata": {},
   "source": [
    "Ou dans le cas de notre liste de points\n",
    "\n"
   ]
  },
  {
   "cell_type": "code",
   "execution_count": null,
   "id": "9-b5b73b",
   "metadata": {},
   "outputs": [],
   "source": [
    "points = ((0, 0), (-200, 100), (50, 150))\n",
    "for (i, p) in enumerate(points):\n",
    "    print(i, p)\n"
   ]
  },
  {
   "cell_type": "code",
   "execution_count": null,
   "id": "10-cfad18",
   "metadata": {},
   "outputs": [],
   "source": [
    "from turtle import *\n",
    "\n",
    "points = ((0, 0), (-200, 100), (50, 150), (200, 80))\n",
    "up()\n",
    "\n",
    "for (i, p) in enumerate(points):\n",
    "    goto(p)\n",
    "    dot()\n",
    "    write(i)\n",
    "\n",
    "done()\n"
   ]
  },
  {
   "cell_type": "markdown",
   "id": "11-117b19",
   "metadata": {},
   "source": [
    "## Les lignes\n",
    "\n",
    "Voici un graphe\n",
    "\n"
   ]
  },
  {
   "cell_type": "code",
   "execution_count": null,
   "id": "12-60ab5f",
   "metadata": {},
   "outputs": [],
   "source": [
    "from turtle import *\n",
    "up()\n",
    "\n",
    "points = ((0, 0), (-200, 100), (50, 150), (180, -120), (-100, -100))\n",
    "lignes = ((0, 1), (0, 2), (2, 3), (4, 3), (4, 0))\n",
    "\n",
    "def line(p, q):\n",
    "    goto(p)\n",
    "    down()\n",
    "    goto(q)\n",
    "    up()\n",
    "\n",
    "for (i, p) in enumerate(points):\n",
    "    goto(p)\n",
    "    dot()\n",
    "    write(i)\n",
    "\n",
    "for (i, j) in lignes:\n",
    "    line(points[i], points[j])\n",
    "\n",
    "done()\n"
   ]
  },
  {
   "cell_type": "markdown",
   "id": "13-1e8c8c",
   "metadata": {},
   "source": [
    "## Graphe circulaire\n",
    "\n",
    "Le graphe circulaire parcourt les points une seule fois et forme un parcours circulaire.\n",
    "\n"
   ]
  },
  {
   "cell_type": "markdown",
   "id": "14-01b230",
   "metadata": {},
   "source": [
    "<h3 style=\"color:teal;background-color:azure;\" > <i class=\"fa fa-pencil\" aria-hidden=\"true\"> </i> &nbsp; Exercice 1 </h3>Ajoutez un point supplémentaire, par exemple à `(0, -50)` ou ailleurs, ainsi que les lignes nécessaires pour garder un graphe circulaire.\n",
    "\n"
   ]
  },
  {
   "cell_type": "code",
   "execution_count": null,
   "id": "15-320beb",
   "metadata": {},
   "outputs": [],
   "source": [
    "from turtle import *\n",
    "up()\n",
    "def line(p, q):\n",
    "    goto(p)\n",
    "    down()\n",
    "    goto(q)\n",
    "    up()\n",
    "\n",
    "points = ((0, 50), (-150, 100), (150, 100), (150, -100), (-150, -100))\n",
    "lignes = ((0, 1), (1, 2), (2, 3), (3, 4), (4, 0))\n",
    "\n",
    "for (i, p) in enumerate(points):\n",
    "    goto(p)\n",
    "    dot()\n",
    "    write(i)\n",
    "\n",
    "for (i, j) in lignes:\n",
    "    line(points[i], points[j])\n",
    "\n",
    "done()\n"
   ]
  },
  {
   "cell_type": "markdown",
   "id": "16-298e4a",
   "metadata": {},
   "source": [
    "## Graphe étoilé\n",
    "\n",
    "Le graphe étoilé est un graphe avec un point spécial, qui est lié à tous les autres points.\n",
    "\n"
   ]
  },
  {
   "cell_type": "markdown",
   "id": "17-5f2760",
   "metadata": {},
   "source": [
    "<h3 style=\"color:teal;background-color:azure;\" > <i class=\"fa fa-pencil\" aria-hidden=\"true\"> </i> &nbsp; Exercice 2 </h3>Ajoutez un point supplémentaire, par exemple à `(0, -50)` ou ailleurs, ainsi que les lignes nécessaires pour garder un graphe étoilé.\n",
    "\n"
   ]
  },
  {
   "cell_type": "code",
   "execution_count": null,
   "id": "18-3c93fd",
   "metadata": {},
   "outputs": [],
   "source": [
    "from turtle import *\n",
    "up()\n",
    "def line(p, q):\n",
    "    goto(p)\n",
    "    down()\n",
    "    goto(q)\n",
    "    up()\n",
    "===\n",
    "points = ((0, 50), (-150, 100), (150, 100), (150, -100), (-150, -100))\n",
    "lignes = ((0, 1), (0, 2), (0, 3), (0, 4))\n",
    "\n",
    "for (i, p) in enumerate(points):\n",
    "    goto(p)\n",
    "    dot()\n",
    "    write(i)\n",
    "\n",
    "for (i, j) in lignes:\n",
    "    line(points[i], points[j])\n",
    "\n",
    "done()\n"
   ]
  },
  {
   "cell_type": "markdown",
   "id": "19-d31386",
   "metadata": {},
   "source": [
    "## Graphe roue\n",
    "\n",
    "Le **graphe roue** est le composé d'un graphe circulaire et un graphe étoilé. Un point spécial lie tous les autres points, qui eux sont reliés par un parcours circulaire.\n",
    "\n"
   ]
  },
  {
   "cell_type": "markdown",
   "id": "20-e858ab",
   "metadata": {},
   "source": [
    "<h3 style=\"color:teal;background-color:azure;\" > <i class=\"fa fa-pencil\" aria-hidden=\"true\"> </i> &nbsp; Exercice 3 </h3>Ajoutez un point supplémentaire, par exemple à `(0, -50)` ou ailleurs, ainsi que les lignes nécessaires pour garder un graphe roue.\n",
    "\n"
   ]
  },
  {
   "cell_type": "code",
   "execution_count": null,
   "id": "21-ae4063",
   "metadata": {},
   "outputs": [],
   "source": [
    "from turtle import *\n",
    "up()\n",
    "def line(p, q):\n",
    "    goto(p)\n",
    "    down()\n",
    "    goto(q)\n",
    "    up()\n",
    "===\n",
    "points = ((0, 50), (-150, 100), (150, 100), (150, -100), (-150, -100))\n",
    "lignes = ((0, 1), (0, 2), (0, 3), (0, 4), (1, 2), (2, 3), (3, 4), (4, 1))\n",
    "\n",
    "for (i, p) in enumerate(points):\n",
    "    goto(p)\n",
    "    dot()\n",
    "    write(i)\n",
    "\n",
    "for (i, j) in lignes:\n",
    "    line(points[i], points[j])\n",
    "\n",
    "done()\n"
   ]
  },
  {
   "cell_type": "markdown",
   "id": "22-ec634a",
   "metadata": {},
   "source": [
    "## Graphe complet\n",
    "\n",
    "Le **graphe complet** est un graphe ou tous les points sont reliés avec tous les autres points.\n",
    "\n"
   ]
  },
  {
   "cell_type": "markdown",
   "id": "23-c8af3d",
   "metadata": {},
   "source": [
    "<h3 style=\"color:teal;background-color:azure;\" > <i class=\"fa fa-pencil\" aria-hidden=\"true\"> </i> &nbsp; Exercice 4 </h3>Ajoutez un point supplémentaire, par exemple à `(0, -50)` ou ailleurs, ainsi que les lignes nécessaires pour garder un graphe complet.\n",
    "\n"
   ]
  },
  {
   "cell_type": "code",
   "execution_count": null,
   "id": "24-7dde40",
   "metadata": {},
   "outputs": [],
   "source": [
    "from turtle import *\n",
    "up()\n",
    "def line(p, q):\n",
    "    goto(p)\n",
    "    down()\n",
    "    goto(q)\n",
    "    up()\n",
    "===\n",
    "points = ((0, 50), (-150, 100), (150, 100), (150, -100), (-150, -100))\n",
    "lignes = ((0, 1), (0, 2), (0, 3), (0, 4), (1, 2), (1, 3), (1, 4),\n",
    "            (2, 3), (2, 4), (3, 4))\n",
    "\n",
    "for (i, p) in enumerate(points):\n",
    "    goto(p)\n",
    "    dot()\n",
    "    write(i)\n",
    "\n",
    "for (i, j) in lignes:\n",
    "    line(points[i], points[j])\n",
    "\n",
    "done()\n"
   ]
  },
  {
   "cell_type": "markdown",
   "id": "25-d40b7a",
   "metadata": {},
   "source": [
    "## Attribut des points\n",
    "\n",
    "Les coordonnées ne sont pas nécessaires pour la structure d'un graphe.\n",
    "Dans le sens mathématique, un graphe est uniquement déterminé par ses connexions.\n",
    "\n",
    "Mais pour dessiner une forme spécifique, nous avons besoin des coordonnées des points.\n",
    "En plus, chaque point peut comporter encore d'autres informations (attributs) tel que:\n",
    "\n",
    "- taille\n",
    "- couleur\n",
    "- étiquette\n",
    "\n",
    "Dans un graphe social (Facebook), chaque nœud (utilisateur) possède un très grand nombre d'attributs, tels que:\n",
    "nom, prénom, âge, anniversaire, lieu de résidence, photo de profil, etc.\n",
    "\n"
   ]
  },
  {
   "cell_type": "markdown",
   "id": "26-3af118",
   "metadata": {},
   "source": [
    "<h3 style=\"color:teal;background-color:azure;\" > <i class=\"fa fa-pencil\" aria-hidden=\"true\"> </i> &nbsp; Exercice 5 </h3>Ajoutez un point supplémentaire pour Berne. Choisissez les coordonnées, la taille, couleur et l’étiquette. Ajoutez une connexion pour Berne-Fribourg, et Berne-Vevey.\n",
    "\n"
   ]
  },
  {
   "cell_type": "code",
   "execution_count": null,
   "id": "27-4b66a5",
   "metadata": {},
   "outputs": [],
   "source": [
    "from turtle import *\n",
    "up()\n",
    "def line(p, q):\n",
    "    goto(p)\n",
    "    down()\n",
    "    goto(q)\n",
    "    up()\n",
    "===\n",
    "points = (((-200, -150), 50, 'red', 'Geneva'),\n",
    "          ((-20, -100), 60, 'lime', 'Lausanne'),\n",
    "          ((30, 10), 40, 'cyan', 'Fribourg'),\n",
    "          ((200, -150), 30, 'pink', 'Vevey'))\n",
    "\n",
    "lignes = ((0, 1), (1, 2), (1, 3))\n",
    "\n",
    "for (p, d, c, t) in points:\n",
    "    goto(p)\n",
    "    dot(d, c)\n",
    "    write(t)\n",
    "\n",
    "for (i, j) in lignes:\n",
    "    line(points[i][0], points[j][0])\n",
    "\n",
    "done()\n"
   ]
  },
  {
   "cell_type": "markdown",
   "id": "28-e37ddc",
   "metadata": {},
   "source": [
    "## Attribut des lignes\n",
    "\n",
    "Chaque ligne peut avoir des attributs. Pour un graphe dessiné, ceci peut être la couleur et l'épaisseur du trait.\n",
    "\n",
    "Dans le cas général, par exemple pour un réseau de transportation (Google Map), les attributs de lignes peuvent être:\n",
    "\n",
    "- distance (en km)\n",
    "- durée du parcours (en minutes)\n",
    "- cout en essence (en francs)\n",
    "- cout en péage (en francs)\n",
    "\n",
    "Ces informations permettent à Google Map de trouver par exemple le chemin \n",
    "\n",
    "- le plus court\n",
    "- le plus rapide\n",
    "- le plus écologique\n",
    "- le meilleur marché\n",
    "\n"
   ]
  },
  {
   "cell_type": "markdown",
   "id": "29-ea6d4c",
   "metadata": {},
   "source": [
    "<h3 style=\"color:teal;background-color:azure;\" > <i class=\"fa fa-pencil\" aria-hidden=\"true\"> </i> &nbsp; Exercice 6 </h3>Ajoutez des connexions supplémentaires pour Geneva-Fribourg et Fribourg-Vevey. Choisissez une couleur et une épaisseur appropriée.\n",
    "\n"
   ]
  },
  {
   "cell_type": "code",
   "execution_count": null,
   "id": "30-babbc3",
   "metadata": {},
   "outputs": [],
   "source": [
    "from turtle import *\n",
    "up()\n",
    "def line(p, q):\n",
    "    goto(p)\n",
    "    down()\n",
    "    goto(q)\n",
    "    up()\n",
    "===\n",
    "points = (((-200, -150), 50, 'red', 'Geneva'),\n",
    "          ((-20, -100), 60, 'lime', 'Lausanne'),\n",
    "          ((30, 10), 40, 'cyan', 'Fribourg'),\n",
    "          ((200, -150), 30, 'pink', 'Vevey'))\n",
    "\n",
    "lignes = ((0, 1, 15, 'red'),\n",
    "          (1, 2, 20, 'blue'),\n",
    "          (1, 3, 10, 'red'))\n",
    "\n",
    "for (i, j, d, c) in lignes:\n",
    "    width(d)\n",
    "    pencolor(c)\n",
    "    line(points[i][0], points[j][0])\n",
    "\n",
    "for (p, d, c, t) in points:\n",
    "    goto(p)\n",
    "    dot(d, c)\n",
    "    write(t)\n",
    "\n",
    "done()\n"
   ]
  },
  {
   "cell_type": "markdown",
   "id": "31-385deb",
   "metadata": {},
   "source": [
    "## Points aléatoires\n",
    "\n",
    "Nous allons utiliser la fonction aléatoire `randint()` pour créer des coordonnées qui se trouvent à l'intérieur du canevas.\n",
    "\n",
    "Nous commençons avec une liste vide `points = []` et dans une boucle nous ajoutons les points.\n",
    "La fonction `seed(2)` sert à avoir exactement la même configuration à chaque fois quand le programme est lancé.\n",
    "Vous pouvez changer le paramètre pour `seed()` pour avoir une autre distribution aléatoire.\n",
    "\n"
   ]
  },
  {
   "cell_type": "code",
   "execution_count": null,
   "id": "32-95a810",
   "metadata": {},
   "outputs": [],
   "source": [
    "from turtle import *\n",
    "from random import *\n",
    "speed(10)\n",
    "seed(2)\n",
    "up()\n",
    "\n",
    "points = []\n",
    "for i in range(10):\n",
    "    points += ((randint(-280, 280), randint(-180, 180)),)\n",
    "\n",
    "for (i, p) in enumerate(points):\n",
    "    goto(p)\n",
    "    dot()\n",
    "    write(i)\n",
    "\n",
    "done()\n"
   ]
  },
  {
   "cell_type": "markdown",
   "id": "33-2a2cde",
   "metadata": {},
   "source": [
    "### Graphe circulaire\n",
    "\n",
    "Nous allons utiliser la fonction aléatoire `randint()` pour créer des coordonnées qui se trouvent à l'intérieur du canevas.\n",
    "\n",
    "Nous commençons avec une liste vide `points = []` et dans une boucle nous ajoutons les points.\n",
    "La fonction `seed(2)` sert à avoir exactement la même configuration à chaque fois quand le programme est lancé.\n",
    "Vous pouvez changer le paramètre pour `seed()` pour avoir une autre distribution aléatoire.\n",
    "\n"
   ]
  },
  {
   "cell_type": "markdown",
   "id": "34-438718",
   "metadata": {},
   "source": [
    "<h3 style=\"color:teal;background-color:azure;\" > <i class=\"fa fa-pencil\" aria-hidden=\"true\"> </i> &nbsp; Exercice 7 </h3>Modifiez la couleur des points à `'lime'` et leur diamètre à `10+4*i`, pour que leur taille soit proportionnelle à leur indice.\n",
    "\n"
   ]
  },
  {
   "cell_type": "code",
   "execution_count": null,
   "id": "35-45460b",
   "metadata": {},
   "outputs": [],
   "source": [
    "from turtle import *\n",
    "from random import *\n",
    "speed(10)\n",
    "seed(2)\n",
    "up()\n",
    "\n",
    "def line(p, q):\n",
    "    goto(p)\n",
    "    down()\n",
    "    goto(q)\n",
    "    up()\n",
    "===\n",
    "n = 10\n",
    "points = []\n",
    "for i in range(n):\n",
    "    points += ((randint(-280, 280), randint(-180, 180)),)\n",
    "\n",
    "lignes = []\n",
    "for i in range(n):\n",
    "    lignes.append((i, (i+1) % n))\n",
    "\n",
    "for (i, p) in enumerate(points):\n",
    "    goto(p)\n",
    "    dot()\n",
    "    write(i)\n",
    "\n",
    "for (i, j) in lignes:\n",
    "    line(points[i], points[j])\n",
    "\n",
    "done()\n"
   ]
  },
  {
   "cell_type": "markdown",
   "id": "36-8226ef",
   "metadata": {},
   "source": [
    "### Graphe étoilé\n",
    "\n",
    "Nous commençons avec une liste vide `lignes = []` et nous ajoutons \n",
    "dans une boucle une ligne `(0, i)` qui va du point 0 vers tous les autres points.\n",
    "\n"
   ]
  },
  {
   "cell_type": "code",
   "execution_count": null,
   "id": "37-d7ae6d",
   "metadata": {},
   "outputs": [],
   "source": [
    "from turtle import *\n",
    "from random import *\n",
    "speed(10)\n",
    "seed(2)\n",
    "up()\n",
    "\n",
    "def line(p, q):\n",
    "    goto(p)\n",
    "    down()\n",
    "    goto(q)\n",
    "    up()\n",
    "===\n",
    "n = 10\n",
    "points = []\n",
    "for i in range(n):\n",
    "    points += ((randint(-280, 280), randint(-180, 180)),)\n",
    "\n",
    "lignes = []\n",
    "for i in range(1, n):\n",
    "    lignes.append((0, i))\n",
    "\n",
    "for (i, p) in enumerate(points):\n",
    "    goto(p)\n",
    "    dot()\n",
    "    write(i)\n",
    "\n",
    "for (i, j) in lignes:\n",
    "    line(points[i], points[j])\n",
    "\n",
    "done()\n"
   ]
  },
  {
   "cell_type": "markdown",
   "id": "38-da0372",
   "metadata": {},
   "source": [
    "### Graphe roue\n",
    "\n",
    "Nous commençons avec une liste vide `lignes = []` et dans une boucle nous ajoutons :\n",
    "\n",
    "- une ligne `(0, i)` qui va du point 0 vers tous les autres points,\n",
    "- une ligne `(i-1, i)` qui relie tous les points extérieurs.\n",
    "\n"
   ]
  },
  {
   "cell_type": "code",
   "execution_count": null,
   "id": "39-a3edbe",
   "metadata": {},
   "outputs": [],
   "source": [
    "from turtle import *\n",
    "from random import *\n",
    "speed(10)\n",
    "seed(2)\n",
    "up()\n",
    "\n",
    "def line(p, q):\n",
    "    goto(p)\n",
    "    down()\n",
    "    goto(q)\n",
    "    up()\n",
    "===\n",
    "n = 10\n",
    "points = []\n",
    "for i in range(n):\n",
    "    points += ((randint(-280, 280), randint(-180, 180)),)\n",
    "\n",
    "lignes = []\n",
    "for i in range(1, n):\n",
    "    lignes += ((0, i), (i-1, i))\n",
    "\n",
    "for (i, p) in enumerate(points):\n",
    "    goto(p)\n",
    "    dot()\n",
    "    write(i)\n",
    "\n",
    "for (i, j) in lignes:\n",
    "    line(points[i], points[j])\n",
    "\n",
    "done()\n"
   ]
  },
  {
   "cell_type": "markdown",
   "id": "40-d197cb",
   "metadata": {},
   "source": [
    "### Graphe arbre\n",
    "\n",
    "Un graphe **arbre** évoque la ramification des branches d'un arbre.\n",
    "En théorie des graphes, un arbre est un graphe **acyclique**, donc sans des parcours circulaires.\n",
    "Dans un arbre chaque point est lié à chaque autre point **par un seul chemin**.\n",
    "\n"
   ]
  },
  {
   "cell_type": "code",
   "execution_count": null,
   "id": "41-e04860",
   "metadata": {},
   "outputs": [],
   "source": [
    "from turtle import *\n",
    "from random import *\n",
    "speed(10)\n",
    "seed(2)\n",
    "up()\n",
    "\n",
    "def line(p, q):\n",
    "    goto(p)\n",
    "    down()\n",
    "    goto(q)\n",
    "    up()\n",
    "===\n",
    "n = 10\n",
    "points = []\n",
    "for i in range(n):\n",
    "    points += ((randint(-280, 280), randint(-180, 180)),)\n",
    "\n",
    "lignes = ((0, 2), (2, 4), (2, 1), (2, 3), (1, 5),\n",
    "            (3, 6), (3, 7), (1, 8), (1, 9))\n",
    "\n",
    "for (i, p) in enumerate(points):\n",
    "    goto(p)\n",
    "    dot()\n",
    "    write(i)\n",
    "\n",
    "for (i, j) in lignes:\n",
    "    line(points[i], points[j])\n",
    "\n",
    "done()\n"
   ]
  },
  {
   "cell_type": "markdown",
   "id": "42-4a3dbc",
   "metadata": {},
   "source": [
    "### Graphe complet\n",
    "\n",
    "Dans un **graphe complet**, tout point est lié à tous les autres points.\n",
    "Nous utilisons une boucle imbriquée avec les deux variables d'itération `i` et `j`, pour calculer toutes les combinaisons.\n",
    "\n"
   ]
  },
  {
   "cell_type": "code",
   "execution_count": null,
   "id": "43-1f9cdd",
   "metadata": {},
   "outputs": [],
   "source": [
    "from turtle import *\n",
    "from random import *\n",
    "speed(10)\n",
    "seed(2)\n",
    "up()\n",
    "\n",
    "def line(p, q):\n",
    "    goto(p)\n",
    "    down()\n",
    "    goto(q)\n",
    "    up()\n",
    "===\n",
    "n = 10\n",
    "points = []\n",
    "for i in range(n):\n",
    "    points += ((randint(-280, 280), randint(-180, 180)),)\n",
    "\n",
    "lignes = []\n",
    "for i in range(1, n):\n",
    "    for j in range(i, n):\n",
    "        lignes.append((i-1, j))\n",
    "\n",
    "for (i, p) in enumerate(points):\n",
    "    goto(p)\n",
    "    dot()\n",
    "    write(i)\n",
    "\n",
    "for (i, j) in lignes:\n",
    "    line(points[i], points[j])\n",
    "\n",
    "done()\n"
   ]
  },
  {
   "cell_type": "markdown",
   "id": "44-7453b7",
   "metadata": {},
   "source": [
    "## Exercice\n",
    "\n"
   ]
  },
  {
   "cell_type": "markdown",
   "id": "45-2f55ba",
   "metadata": {},
   "source": [
    "### Pays voisins\n",
    "\n",
    "Créez un graphe avec les pays d'Europe. Chaque pays est un nœud. Si les pays sont voisins, ils possèdent un lien entre eux.\n",
    "\n"
   ]
  },
  {
   "cell_type": "markdown",
   "id": "46-176725",
   "metadata": {},
   "source": [
    "![europe](https://raw.githubusercontent.com/edunumsec2/book/master/src/appr/prog1/media/carte_europe.png)\n",
    "\n"
   ]
  },
  {
   "cell_type": "markdown",
   "id": "47-f18777",
   "metadata": {},
   "source": [
    "### Réseau ferroviaire\n",
    "\n",
    "Créez un graphe qui représente le réseau ferroviaire suisse. Chaque ville est un nœud. Les lignes de chemin de fer représentent les liens.\n",
    "\n"
   ]
  },
  {
   "cell_type": "markdown",
   "id": "48-4722e5",
   "metadata": {},
   "source": [
    "![suisse](https://raw.githubusercontent.com/edunumsec2/book/master/src/appr/prog1/media/suisse.jpg)\n"
   ]
  },
  {
   "cell_type": "markdown",
   "id": "49-cebd46",
   "metadata": {},
   "source": [
    "---\n",
    "\n",
    "#### Remarque générale\n",
    "\n",
    "Ce document est une adaptation d'un ressource pédagogique tiré du catalogue modulo https://modulo-info.ch/. Il est sous license Creative Commons [BY-NC-SA](https://creativecommons.org/licenses/?lang=fr)\n",
    "![Licence Creative Commons](https://i.creativecommons.org/l/by-nc-sa/4.0/88x31.png)\n",
    "\n",
    "    "
   ]
  }
 ],
 "metadata": {
  "kernelspec": {
   "display_name": "Python 3 (ipykernel)",
   "language": "python",
   "name": "python3"
  },
  "language_info": {
   "codemirror_mode": {
    "name": "ipython",
    "version": 3
   },
   "file_extension": ".py",
   "mimetype": "text/x-python",
   "name": "python",
   "nbconvert_exporter": "python",
   "pygments_lexer": "ipython3",
   "version": "3.10.12"
  }
 },
 "nbformat": 4,
 "nbformat_minor": 5
}
