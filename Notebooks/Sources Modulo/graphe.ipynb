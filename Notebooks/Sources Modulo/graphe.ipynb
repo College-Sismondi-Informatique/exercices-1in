{
 "cells": [
  {
   "cell_type": "markdown",
   "id": "60d8ee03",
   "metadata": {},
   "source": [
    "# Réseauter - `points`\n",
    "\n",
    "En mathématique un **graphe** est un ensemble de **points** liés par des **lignes**.  \n",
    "De façon générale les *points* sont des objets, souvent appelés *nœuds* ou *sommets*.  \n",
    "Les lignes sont souvent appelées *liens* ou *arêtes*.\n",
    "\n",
    "La *Théorie des graphes* est une branche des mathématiques. En informatique le graphe est un outil important pour modéliser :\n",
    "\n",
    "- des réseaux sociaux (Facebook)\n",
    "- des réseaux de transportation (Google Maps)\n",
    "- des réseaux informatiques (Internet)\n",
    "\n"
   ]
  },
  {
   "cell_type": "markdown",
   "id": "8aedfd3e",
   "metadata": {},
   "source": [
    "## Les points\n",
    "\n",
    "Nous commençons par une liste de points que nous énumérons à partir de zéro.\n",
    "\n"
   ]
  },
  {
   "cell_type": "code",
   "execution_count": null,
   "id": "f18ca695",
   "metadata": {},
   "outputs": [],
   "source": [
    "from turtle import *\n",
    "\n",
    "points = ((0, 0), (-200, 100), (50, 150), (180, -120), (-100, -100))\n",
    "\n",
    "up()\n",
    "i = 0\n",
    "for p in points:\n",
    "    goto(p)\n",
    "    dot()\n",
    "    write(i)\n",
    "    i = i + 1\n",
    "\n",
    "done()\n"
   ]
  },
  {
   "cell_type": "markdown",
   "id": "d01b1745",
   "metadata": {},
   "source": [
    "## Énumérer\n",
    "\n",
    "Nous pouvons *énumérer* les points de façon plus compacts en utilisant la fonction `enumerate` \n",
    "qui associe un entier à chaque élément d'une séquence.\n",
    "\n"
   ]
  },
  {
   "cell_type": "code",
   "execution_count": null,
   "id": "5205d16b",
   "metadata": {},
   "outputs": [],
   "source": [
    "print(tuple(enumerate('abc')))\n"
   ]
  },
  {
   "cell_type": "markdown",
   "id": "491ff9b9",
   "metadata": {},
   "source": [
    "Le plus souvent enumerate est utilisé dans une boucle ou un veut \n",
    "parcourir une séquence, mais en même temps on a besoin d'un index `i`.\n",
    "\n"
   ]
  },
  {
   "cell_type": "code",
   "execution_count": null,
   "id": "3bfc6939",
   "metadata": {},
   "outputs": [],
   "source": [
    "noms = ('Kim', 'Jim', 'Ana')\n",
    "for (i, nom) in enumerate(noms):\n",
    "    print(i, nom)\n"
   ]
  },
  {
   "cell_type": "markdown",
   "id": "0f6a6971",
   "metadata": {},
   "source": [
    "Ou dans le cas de notre liste de points\n",
    "\n"
   ]
  },
  {
   "cell_type": "code",
   "execution_count": null,
   "id": "247e8d73",
   "metadata": {},
   "outputs": [],
   "source": [
    "points = ((0, 0), (-200, 100), (50, 150))\n",
    "for (i, p) in enumerate(points):\n",
    "    print(i, p)\n"
   ]
  },
  {
   "cell_type": "code",
   "execution_count": null,
   "id": "1fa10718",
   "metadata": {},
   "outputs": [],
   "source": [
    "from turtle import *\n",
    "\n",
    "points = ((0, 0), (-200, 100), (50, 150), (200, 80))\n",
    "up()\n",
    "\n",
    "for (i, p) in enumerate(points):\n",
    "    goto(p)\n",
    "    dot()\n",
    "    write(i)\n",
    "\n",
    "done()\n"
   ]
  },
  {
   "cell_type": "markdown",
   "id": "15d796bf",
   "metadata": {},
   "source": [
    "## Les lignes\n",
    "\n",
    "Voici un graphe\n",
    "\n"
   ]
  },
  {
   "cell_type": "code",
   "execution_count": null,
   "id": "ab3717e7",
   "metadata": {},
   "outputs": [],
   "source": [
    "from turtle import *\n",
    "up()\n",
    "\n",
    "points = ((0, 0), (-200, 100), (50, 150), (180, -120), (-100, -100))\n",
    "lignes = ((0, 1), (0, 2), (2, 3), (4, 3), (4, 0))\n",
    "\n",
    "def line(p, q):\n",
    "    goto(p)\n",
    "    down()\n",
    "    goto(q)\n",
    "    up()\n",
    "\n",
    "for (i, p) in enumerate(points):\n",
    "    goto(p)\n",
    "    dot()\n",
    "    write(i)\n",
    "\n",
    "for (i, j) in lignes:\n",
    "    line(points[i], points[j])\n",
    "\n",
    "done()\n"
   ]
  },
  {
   "cell_type": "markdown",
   "id": "c2765cb9",
   "metadata": {},
   "source": [
    "## Graphe circulaire\n",
    "\n",
    "Le graphe circulaire parcourt les points une seule fois et forme un parcours circulaire.\n",
    "\n"
   ]
  },
  {
   "cell_type": "markdown",
   "id": "f2d2ef37",
   "metadata": {},
   "source": [
    "<h3 style=\"color:teal;background-color:azure;\" > <i class=\"fa fa-pencil\" aria-hidden=\"true\"> </i> &nbsp; Exercice 1 </h3>Ajoutez un point supplémentaire, par exemple à `(0, -50)` ou ailleurs, ainsi que les lignes nécessaires pour garder un graphe circulaire.\n",
    "\n"
   ]
  },
  {
   "cell_type": "code",
   "execution_count": null,
   "id": "fe244d63",
   "metadata": {},
   "outputs": [],
   "source": [
    "from turtle import *\n",
    "up()\n",
    "def line(p, q):\n",
    "    goto(p)\n",
    "    down()\n",
    "    goto(q)\n",
    "    up()\n",
    "\n",
    "points = ((0, 50), (-150, 100), (150, 100), (150, -100), (-150, -100))\n",
    "lignes = ((0, 1), (1, 2), (2, 3), (3, 4), (4, 0))\n",
    "\n",
    "for (i, p) in enumerate(points):\n",
    "    goto(p)\n",
    "    dot()\n",
    "    write(i)\n",
    "\n",
    "for (i, j) in lignes:\n",
    "    line(points[i], points[j])\n",
    "\n",
    "done()\n"
   ]
  },
  {
   "cell_type": "markdown",
   "id": "511e7d77",
   "metadata": {},
   "source": [
    "## Graphe étoilé\n",
    "\n",
    "Le graphe étoilé est un graphe avec un point spécial, qui est lié à tous les autres points.\n",
    "\n"
   ]
  },
  {
   "cell_type": "markdown",
   "id": "8b82ed7f",
   "metadata": {},
   "source": [
    "<h3 style=\"color:teal;background-color:azure;\" > <i class=\"fa fa-pencil\" aria-hidden=\"true\"> </i> &nbsp; Exercice 2 </h3>Ajoutez un point supplémentaire, par exemple à `(0, -50)` ou ailleurs, ainsi que les lignes nécessaires pour garder un graphe étoilé.\n",
    "\n"
   ]
  },
  {
   "cell_type": "code",
   "execution_count": null,
   "id": "586f9cf6",
   "metadata": {},
   "outputs": [],
   "source": [
    "from turtle import *\n",
    "up()\n",
    "def line(p, q):\n",
    "    goto(p)\n",
    "    down()\n",
    "    goto(q)\n",
    "    up()\n",
    "===\n",
    "points = ((0, 50), (-150, 100), (150, 100), (150, -100), (-150, -100))\n",
    "lignes = ((0, 1), (0, 2), (0, 3), (0, 4))\n",
    "\n",
    "for (i, p) in enumerate(points):\n",
    "    goto(p)\n",
    "    dot()\n",
    "    write(i)\n",
    "\n",
    "for (i, j) in lignes:\n",
    "    line(points[i], points[j])\n",
    "\n",
    "done()\n"
   ]
  },
  {
   "cell_type": "markdown",
   "id": "4087f1ef",
   "metadata": {},
   "source": [
    "## Graphe roue\n",
    "\n",
    "Le **graphe roue** est le composé d'un graphe circulaire et un graphe étoilé. Un point spécial lie tous les autres points, qui eux sont reliés par un parcours circulaire.\n",
    "\n"
   ]
  },
  {
   "cell_type": "markdown",
   "id": "e889080c",
   "metadata": {},
   "source": [
    "<h3 style=\"color:teal;background-color:azure;\" > <i class=\"fa fa-pencil\" aria-hidden=\"true\"> </i> &nbsp; Exercice 3 </h3>Ajoutez un point supplémentaire, par exemple à `(0, -50)` ou ailleurs, ainsi que les lignes nécessaires pour garder un graphe roue.\n",
    "\n"
   ]
  },
  {
   "cell_type": "code",
   "execution_count": null,
   "id": "a4dbc54a",
   "metadata": {},
   "outputs": [],
   "source": [
    "from turtle import *\n",
    "up()\n",
    "def line(p, q):\n",
    "    goto(p)\n",
    "    down()\n",
    "    goto(q)\n",
    "    up()\n",
    "===\n",
    "points = ((0, 50), (-150, 100), (150, 100), (150, -100), (-150, -100))\n",
    "lignes = ((0, 1), (0, 2), (0, 3), (0, 4), (1, 2), (2, 3), (3, 4), (4, 1))\n",
    "\n",
    "for (i, p) in enumerate(points):\n",
    "    goto(p)\n",
    "    dot()\n",
    "    write(i)\n",
    "\n",
    "for (i, j) in lignes:\n",
    "    line(points[i], points[j])\n",
    "\n",
    "done()\n"
   ]
  },
  {
   "cell_type": "markdown",
   "id": "3f7b5172",
   "metadata": {},
   "source": [
    "## Graphe complet\n",
    "\n",
    "Le **graphe complet** est un graphe ou tous les points sont reliés avec tous les autres points.\n",
    "\n"
   ]
  },
  {
   "cell_type": "markdown",
   "id": "2f68dff1",
   "metadata": {},
   "source": [
    "<h3 style=\"color:teal;background-color:azure;\" > <i class=\"fa fa-pencil\" aria-hidden=\"true\"> </i> &nbsp; Exercice 4 </h3>Ajoutez un point supplémentaire, par exemple à `(0, -50)` ou ailleurs, ainsi que les lignes nécessaires pour garder un graphe complet.\n",
    "\n"
   ]
  },
  {
   "cell_type": "code",
   "execution_count": null,
   "id": "4ee8a63b",
   "metadata": {},
   "outputs": [],
   "source": [
    "from turtle import *\n",
    "up()\n",
    "def line(p, q):\n",
    "    goto(p)\n",
    "    down()\n",
    "    goto(q)\n",
    "    up()\n",
    "===\n",
    "points = ((0, 50), (-150, 100), (150, 100), (150, -100), (-150, -100))\n",
    "lignes = ((0, 1), (0, 2), (0, 3), (0, 4), (1, 2), (1, 3), (1, 4),\n",
    "            (2, 3), (2, 4), (3, 4))\n",
    "\n",
    "for (i, p) in enumerate(points):\n",
    "    goto(p)\n",
    "    dot()\n",
    "    write(i)\n",
    "\n",
    "for (i, j) in lignes:\n",
    "    line(points[i], points[j])\n",
    "\n",
    "done()\n"
   ]
  },
  {
   "cell_type": "markdown",
   "id": "9a141bd5",
   "metadata": {},
   "source": [
    "## Attribut des points\n",
    "\n",
    "Les coordonnées ne sont pas nécessaires pour la structure d'un graphe.\n",
    "Dans le sens mathématique, un graphe est uniquement déterminé par ses connexions.\n",
    "\n",
    "Mais pour dessiner une forme spécifique, nous avons besoin des coordonnées des points.\n",
    "En plus, chaque point peut comporter encore d'autres informations (attributs) tel que:\n",
    "\n",
    "- taille\n",
    "- couleur\n",
    "- étiquette\n",
    "\n",
    "Dans un graphe social (Facebook), chaque nœud (utilisateur) possède un très grand nombre d'attributs, tels que:\n",
    "nom, prénom, âge, anniversaire, lieu de résidence, photo de profil, etc.\n",
    "\n"
   ]
  },
  {
   "cell_type": "markdown",
   "id": "6dafcc44",
   "metadata": {},
   "source": [
    "<h3 style=\"color:teal;background-color:azure;\" > <i class=\"fa fa-pencil\" aria-hidden=\"true\"> </i> &nbsp; Exercice 5 </h3>Ajoutez un point supplémentaire pour Berne. Choisissez les coordonnées, la taille, couleur et l’étiquette. Ajoutez une connexion pour Berne-Fribourg, et Berne-Vevey.\n",
    "\n"
   ]
  },
  {
   "cell_type": "code",
   "execution_count": null,
   "id": "46a5482d",
   "metadata": {},
   "outputs": [],
   "source": [
    "from turtle import *\n",
    "up()\n",
    "def line(p, q):\n",
    "    goto(p)\n",
    "    down()\n",
    "    goto(q)\n",
    "    up()\n",
    "===\n",
    "points = (((-200, -150), 50, 'red', 'Geneva'),\n",
    "          ((-20, -100), 60, 'lime', 'Lausanne'),\n",
    "          ((30, 10), 40, 'cyan', 'Fribourg'),\n",
    "          ((200, -150), 30, 'pink', 'Vevey'))\n",
    "\n",
    "lignes = ((0, 1), (1, 2), (1, 3))\n",
    "\n",
    "for (p, d, c, t) in points:\n",
    "    goto(p)\n",
    "    dot(d, c)\n",
    "    write(t)\n",
    "\n",
    "for (i, j) in lignes:\n",
    "    line(points[i][0], points[j][0])\n",
    "\n",
    "done()\n"
   ]
  },
  {
   "cell_type": "markdown",
   "id": "938b362a",
   "metadata": {},
   "source": [
    "## Attribut des lignes\n",
    "\n",
    "Chaque ligne peut avoir des attributs. Pour un graphe dessiné, ceci peut être la couleur et l'épaisseur du trait.\n",
    "\n",
    "Dans le cas général, par exemple pour un réseau de transportation (Google Map), les attributs de lignes peuvent être:\n",
    "\n",
    "- distance (en km)\n",
    "- durée du parcours (en minutes)\n",
    "- cout en essence (en francs)\n",
    "- cout en péage (en francs)\n",
    "\n",
    "Ces informations permettent à Google Map de trouver par exemple le chemin \n",
    "\n",
    "- le plus court\n",
    "- le plus rapide\n",
    "- le plus écologique\n",
    "- le meilleur marché\n",
    "\n"
   ]
  },
  {
   "cell_type": "markdown",
   "id": "b2b6be25",
   "metadata": {},
   "source": [
    "<h3 style=\"color:teal;background-color:azure;\" > <i class=\"fa fa-pencil\" aria-hidden=\"true\"> </i> &nbsp; Exercice 6 </h3>Ajoutez des connexions supplémentaires pour Geneva-Fribourg et Fribourg-Vevey. Choisissez une couleur et une épaisseur appropriée.\n",
    "\n"
   ]
  },
  {
   "cell_type": "code",
   "execution_count": null,
   "id": "a1984a68",
   "metadata": {},
   "outputs": [],
   "source": [
    "from turtle import *\n",
    "up()\n",
    "def line(p, q):\n",
    "    goto(p)\n",
    "    down()\n",
    "    goto(q)\n",
    "    up()\n",
    "===\n",
    "points = (((-200, -150), 50, 'red', 'Geneva'),\n",
    "          ((-20, -100), 60, 'lime', 'Lausanne'),\n",
    "          ((30, 10), 40, 'cyan', 'Fribourg'),\n",
    "          ((200, -150), 30, 'pink', 'Vevey'))\n",
    "\n",
    "lignes = ((0, 1, 15, 'red'),\n",
    "          (1, 2, 20, 'blue'),\n",
    "          (1, 3, 10, 'red'))\n",
    "\n",
    "for (i, j, d, c) in lignes:\n",
    "    width(d)\n",
    "    pencolor(c)\n",
    "    line(points[i][0], points[j][0])\n",
    "\n",
    "for (p, d, c, t) in points:\n",
    "    goto(p)\n",
    "    dot(d, c)\n",
    "    write(t)\n",
    "\n",
    "done()\n"
   ]
  },
  {
   "cell_type": "markdown",
   "id": "c93640c4",
   "metadata": {},
   "source": [
    "## Points aléatoires\n",
    "\n",
    "Nous allons utiliser la fonction aléatoire `randint()` pour créer des coordonnées qui se trouvent à l'intérieur du canevas.\n",
    "\n",
    "Nous commençons avec une liste vide `points = []` et dans une boucle nous ajoutons les points.\n",
    "La fonction `seed(2)` sert à avoir exactement la même configuration à chaque fois quand le programme est lancé.\n",
    "Vous pouvez changer le paramètre pour `seed()` pour avoir une autre distribution aléatoire.\n",
    "\n"
   ]
  },
  {
   "cell_type": "code",
   "execution_count": null,
   "id": "68cd8cb3",
   "metadata": {},
   "outputs": [],
   "source": [
    "from turtle import *\n",
    "from random import *\n",
    "speed(10)\n",
    "seed(2)\n",
    "up()\n",
    "\n",
    "points = []\n",
    "for i in range(10):\n",
    "    points += ((randint(-280, 280), randint(-180, 180)),)\n",
    "\n",
    "for (i, p) in enumerate(points):\n",
    "    goto(p)\n",
    "    dot()\n",
    "    write(i)\n",
    "\n",
    "done()\n"
   ]
  },
  {
   "cell_type": "markdown",
   "id": "84bd2758",
   "metadata": {},
   "source": [
    "### Graphe circulaire\n",
    "\n",
    "Nous allons utiliser la fonction aléatoire `randint()` pour créer des coordonnées qui se trouvent à l'intérieur du canevas.\n",
    "\n",
    "Nous commençons avec une liste vide `points = []` et dans une boucle nous ajoutons les points.\n",
    "La fonction `seed(2)` sert à avoir exactement la même configuration à chaque fois quand le programme est lancé.\n",
    "Vous pouvez changer le paramètre pour `seed()` pour avoir une autre distribution aléatoire.\n",
    "\n"
   ]
  },
  {
   "cell_type": "markdown",
   "id": "e4f64267",
   "metadata": {},
   "source": [
    "<h3 style=\"color:teal;background-color:azure;\" > <i class=\"fa fa-pencil\" aria-hidden=\"true\"> </i> &nbsp; Exercice 7 </h3>Modifiez la couleur des points à `'lime'` et leur diamètre à `10+4*i`, pour que leur taille soit proportionnelle à leur indice.\n",
    "\n"
   ]
  },
  {
   "cell_type": "code",
   "execution_count": null,
   "id": "5e2ee1dc",
   "metadata": {},
   "outputs": [],
   "source": [
    "from turtle import *\n",
    "from random import *\n",
    "speed(10)\n",
    "seed(2)\n",
    "up()\n",
    "\n",
    "def line(p, q):\n",
    "    goto(p)\n",
    "    down()\n",
    "    goto(q)\n",
    "    up()\n",
    "===\n",
    "n = 10\n",
    "points = []\n",
    "for i in range(n):\n",
    "    points += ((randint(-280, 280), randint(-180, 180)),)\n",
    "\n",
    "lignes = []\n",
    "for i in range(n):\n",
    "    lignes.append((i, (i+1) % n))\n",
    "\n",
    "for (i, p) in enumerate(points):\n",
    "    goto(p)\n",
    "    dot()\n",
    "    write(i)\n",
    "\n",
    "for (i, j) in lignes:\n",
    "    line(points[i], points[j])\n",
    "\n",
    "done()\n"
   ]
  },
  {
   "cell_type": "markdown",
   "id": "31ccb0d1",
   "metadata": {},
   "source": [
    "### Graphe étoilé\n",
    "\n",
    "Nous commençons avec une liste vide `lignes = []` et nous ajoutons \n",
    "dans une boucle une ligne `(0, i)` qui va du point 0 vers tous les autres points.\n",
    "\n"
   ]
  },
  {
   "cell_type": "code",
   "execution_count": null,
   "id": "4dc7b1f1",
   "metadata": {},
   "outputs": [],
   "source": [
    "from turtle import *\n",
    "from random import *\n",
    "speed(10)\n",
    "seed(2)\n",
    "up()\n",
    "\n",
    "def line(p, q):\n",
    "    goto(p)\n",
    "    down()\n",
    "    goto(q)\n",
    "    up()\n",
    "===\n",
    "n = 10\n",
    "points = []\n",
    "for i in range(n):\n",
    "    points += ((randint(-280, 280), randint(-180, 180)),)\n",
    "\n",
    "lignes = []\n",
    "for i in range(1, n):\n",
    "    lignes.append((0, i))\n",
    "\n",
    "for (i, p) in enumerate(points):\n",
    "    goto(p)\n",
    "    dot()\n",
    "    write(i)\n",
    "\n",
    "for (i, j) in lignes:\n",
    "    line(points[i], points[j])\n",
    "\n",
    "done()\n"
   ]
  },
  {
   "cell_type": "markdown",
   "id": "7f9f1a5c",
   "metadata": {},
   "source": [
    "### Graphe roue\n",
    "\n",
    "Nous commençons avec une liste vide `lignes = []` et dans une boucle nous ajoutons :\n",
    "\n",
    "- une ligne `(0, i)` qui va du point 0 vers tous les autres points,\n",
    "- une ligne `(i-1, i)` qui relie tous les points extérieurs.\n",
    "\n"
   ]
  },
  {
   "cell_type": "code",
   "execution_count": null,
   "id": "b5f3a834",
   "metadata": {},
   "outputs": [],
   "source": [
    "from turtle import *\n",
    "from random import *\n",
    "speed(10)\n",
    "seed(2)\n",
    "up()\n",
    "\n",
    "def line(p, q):\n",
    "    goto(p)\n",
    "    down()\n",
    "    goto(q)\n",
    "    up()\n",
    "===\n",
    "n = 10\n",
    "points = []\n",
    "for i in range(n):\n",
    "    points += ((randint(-280, 280), randint(-180, 180)),)\n",
    "\n",
    "lignes = []\n",
    "for i in range(1, n):\n",
    "    lignes += ((0, i), (i-1, i))\n",
    "\n",
    "for (i, p) in enumerate(points):\n",
    "    goto(p)\n",
    "    dot()\n",
    "    write(i)\n",
    "\n",
    "for (i, j) in lignes:\n",
    "    line(points[i], points[j])\n",
    "\n",
    "done()\n"
   ]
  },
  {
   "cell_type": "markdown",
   "id": "4a2401d5",
   "metadata": {},
   "source": [
    "### Graphe arbre\n",
    "\n",
    "Un graphe **arbre** évoque la ramification des branches d'un arbre.\n",
    "En théorie des graphes, un arbre est un graphe **acyclique**, donc sans des parcours circulaires.\n",
    "Dans un arbre chaque point est lié à chaque autre point **par un seul chemin**.\n",
    "\n"
   ]
  },
  {
   "cell_type": "code",
   "execution_count": null,
   "id": "3f17ab6f",
   "metadata": {},
   "outputs": [],
   "source": [
    "from turtle import *\n",
    "from random import *\n",
    "speed(10)\n",
    "seed(2)\n",
    "up()\n",
    "\n",
    "def line(p, q):\n",
    "    goto(p)\n",
    "    down()\n",
    "    goto(q)\n",
    "    up()\n",
    "===\n",
    "n = 10\n",
    "points = []\n",
    "for i in range(n):\n",
    "    points += ((randint(-280, 280), randint(-180, 180)),)\n",
    "\n",
    "lignes = ((0, 2), (2, 4), (2, 1), (2, 3), (1, 5),\n",
    "            (3, 6), (3, 7), (1, 8), (1, 9))\n",
    "\n",
    "for (i, p) in enumerate(points):\n",
    "    goto(p)\n",
    "    dot()\n",
    "    write(i)\n",
    "\n",
    "for (i, j) in lignes:\n",
    "    line(points[i], points[j])\n",
    "\n",
    "done()\n"
   ]
  },
  {
   "cell_type": "markdown",
   "id": "674e68ba",
   "metadata": {},
   "source": [
    "### Graphe complet\n",
    "\n",
    "Dans un **graphe complet**, tout point est lié à tous les autres points.\n",
    "Nous utilisons une boucle imbriquée avec les deux variables d'itération `i` et `j`, pour calculer toutes les combinaisons.\n",
    "\n"
   ]
  },
  {
   "cell_type": "code",
   "execution_count": null,
   "id": "1701e0c1",
   "metadata": {},
   "outputs": [],
   "source": [
    "from turtle import *\n",
    "from random import *\n",
    "speed(10)\n",
    "seed(2)\n",
    "up()\n",
    "\n",
    "def line(p, q):\n",
    "    goto(p)\n",
    "    down()\n",
    "    goto(q)\n",
    "    up()\n",
    "===\n",
    "n = 10\n",
    "points = []\n",
    "for i in range(n):\n",
    "    points += ((randint(-280, 280), randint(-180, 180)),)\n",
    "\n",
    "lignes = []\n",
    "for i in range(1, n):\n",
    "    for j in range(i, n):\n",
    "        lignes.append((i-1, j))\n",
    "\n",
    "for (i, p) in enumerate(points):\n",
    "    goto(p)\n",
    "    dot()\n",
    "    write(i)\n",
    "\n",
    "for (i, j) in lignes:\n",
    "    line(points[i], points[j])\n",
    "\n",
    "done()\n"
   ]
  },
  {
   "cell_type": "markdown",
   "id": "1d376752",
   "metadata": {},
   "source": [
    "## Exercice\n",
    "\n"
   ]
  },
  {
   "cell_type": "markdown",
   "id": "07969e92",
   "metadata": {},
   "source": [
    "### Pays voisins\n",
    "\n",
    "Créez un graphe avec les pays d'Europe. Chaque pays est un nœud. Si les pays sont voisins, ils possèdent un lien entre eux.\n",
    "\n"
   ]
  },
  {
   "cell_type": "markdown",
   "id": "41533a15",
   "metadata": {},
   "source": [
    "![europe](https://raw.githubusercontent.com/edunumsec2/book/master/src/appr/prog1/media/carte_europe.png)\n",
    "\n"
   ]
  },
  {
   "cell_type": "markdown",
   "id": "2a5f88fc",
   "metadata": {},
   "source": [
    "### Réseau ferroviaire\n",
    "\n",
    "Créez un graphe qui représente le réseau ferroviaire suisse. Chaque ville est un nœud. Les lignes de chemin de fer représentent les liens.\n",
    "\n"
   ]
  },
  {
   "cell_type": "markdown",
   "id": "ea877c04",
   "metadata": {},
   "source": [
    "![suisse](https://raw.githubusercontent.com/edunumsec2/book/master/src/appr/prog1/media/suisse.jpg)\n"
   ]
  }
 ],
 "metadata": {
  "kernelspec": {
   "display_name": "Python 3 (ipykernel)",
   "language": "python",
   "name": "python3"
  },
  "language_info": {
   "codemirror_mode": {
    "name": "ipython",
    "version": 3
   },
   "file_extension": ".py",
   "mimetype": "text/x-python",
   "name": "python",
   "nbconvert_exporter": "python",
   "pygments_lexer": "ipython3",
   "version": "3.10.12"
  }
 },
 "nbformat": 4,
 "nbformat_minor": 5
}
