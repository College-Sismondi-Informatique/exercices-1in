{
 "cells": [
  {
   "cell_type": "markdown",
   "id": "135bb46d",
   "metadata": {},
   "source": [
    "# Grouper - `list`\n",
    "\n",
    "Dans ce chapitre, nous découvrons une nouvelle structure de données - la liste. C'est une séquence ordonnée d'objets quelconques. Contrairement au `tuple` qui est immuable, la liste est *muable*, c'est-à-dire que nous pouvons réassigner ces éléments. Nous allons voir que :\n",
    "\n",
    "- la liste est une séquence d'objets entre crochets tels que `[2, 3, 5]`,\n",
    "- la notion d'index `liste[i]` permet d'accéder au i-ème élément de la liste,\n",
    "- la notion de tranche `liste[i:j]` permet d'accéder à une sous-liste.\n",
    "\n"
   ]
  },
  {
   "cell_type": "markdown",
   "id": "c8a796f1",
   "metadata": {},
   "source": [
    "<h3 style=\"color:chocolate;background-color:papayawhip;\" > <i class=\"fa fa-question\" aria-hidden=\"true\"> </i> &nbsp; Quizz </h3> \n",
    " \n",
    "```\n",
    "En informatique, une liste est\n",
    "\n",
    "A) ordonnée\n",
    "B) jamais vide\n",
    "C) toujours hétérogène\n",
    "D) un ensemble mathématique\n",
    "```"
   ]
  },
  {
   "cell_type": "raw",
   "id": "4e498b02",
   "metadata": {},
   "source": [
    "Réponse : \n"
   ]
  },
  {
   "cell_type": "markdown",
   "id": "7d365e2d",
   "metadata": {},
   "source": [
    "## Des groupes d'objets\n",
    "\n",
    "Une liste permet de manipuler des groupes d'objets tels que :\n",
    "\n",
    "- noms d'élèves\n",
    "- notes d'un cours\n",
    "- couleurs\n",
    "\n",
    "En Python, on peut grouper des objets divers dans une liste. Une liste est ordonnée, ce qui veut dire qu'il y a un premier objet et un dernier objet.\n",
    "\n"
   ]
  },
  {
   "cell_type": "markdown",
   "id": "71780890",
   "metadata": {},
   "source": [
    "<h3 style=\"color:teal;background-color:azure;\" > <i class=\"fa fa-pencil\" aria-hidden=\"true\"> </i> &nbsp; Exercice 1 </h3>Ajoutez une nouvelle liste et affichez-la.\n",
    "\n"
   ]
  },
  {
   "cell_type": "code",
   "execution_count": null,
   "id": "ad5e23dd",
   "metadata": {},
   "outputs": [],
   "source": [
    "noms = ['Tim', 'Kim', 'Anna', 'Cindy']\n",
    "notes = [4, 5, 4, 5.5, 6, 3.5]\n",
    "couleurs = ['fuchsia', 'pink', 'orange']\n",
    "\n",
    "print(noms)\n",
    "print(notes)\n"
   ]
  },
  {
   "cell_type": "markdown",
   "id": "8d8fcf0c",
   "metadata": {},
   "source": [
    "En Python, une liste est délimitée par des crochets `[]` et ses éléments sont séparés par des virgules `,`.\n",
    "\n"
   ]
  },
  {
   "cell_type": "markdown",
   "id": "8c28aea9",
   "metadata": {},
   "source": [
    "## La fonction `len()`\n",
    "\n",
    "La fonction `len()` retourne la longueur d'une liste, c'est-à-dire le nombre d'éléments qu'elle contient.\n",
    "\n"
   ]
  },
  {
   "cell_type": "markdown",
   "id": "3cf2f944",
   "metadata": {},
   "source": [
    "<h3 style=\"color:teal;background-color:azure;\" > <i class=\"fa fa-pencil\" aria-hidden=\"true\"> </i> &nbsp; Exercice 2 </h3>Ajoutez des éléments à une liste at affichez de nouveau sa longueur.\n",
    "\n"
   ]
  },
  {
   "cell_type": "code",
   "execution_count": null,
   "id": "59e5f078",
   "metadata": {},
   "outputs": [],
   "source": [
    "noms = ['Tim', 'Kim', 'Anna', 'Cindy']\n",
    "notes = [4, 5, 4, 5.5, 6, 3.5]\n",
    "couleurs = ['fuchsia', 'pink', 'orange']\n",
    "\n",
    "print(len(noms))\n",
    "print(len(notes))\n"
   ]
  },
  {
   "cell_type": "markdown",
   "id": "8e6aae91",
   "metadata": {},
   "source": [
    "## La fonction `list()`\n",
    "\n",
    "La fonction `list()` peut transformer une chaîne de caractères ou une plage numérique en liste.\n",
    "\n"
   ]
  },
  {
   "cell_type": "code",
   "execution_count": null,
   "id": "60494da1",
   "metadata": {},
   "outputs": [],
   "source": [
    "print(list('Python'))\n",
    "print(list(range(10)))\n",
    "print(list(range(100, 150, 7)))\n"
   ]
  },
  {
   "cell_type": "markdown",
   "id": "e990fe2e",
   "metadata": {},
   "source": [
    "## Index `[i]`\n",
    "\n",
    "Nous pouvons accéder à un élément de la liste en utilisant un numéro entre crochets `[]`, appelé **index**. L'index d'un élément est toujours un nombre entier. En Python, comme dans beaucoup de langages de programmation, l'index pour le premier élément de la liste est 0 et non pas 1. Ainsi, les éléments d'une liste de longueur `n` auront comme premier index 0 et comme dernier index `n - 1`.\n",
    "\n"
   ]
  },
  {
   "cell_type": "code",
   "execution_count": null,
   "id": "0a45f263",
   "metadata": {},
   "outputs": [],
   "source": [
    "noms = ['Tim', 'Mia', 'Kim', 'Anna', 'Cindy', 'Léa']\n",
    "print(noms[0])\n",
    "print(noms[2])\n",
    "print(noms[-1])\n",
    "print(noms[-2])\n"
   ]
  },
  {
   "cell_type": "markdown",
   "id": "e742a57a",
   "metadata": {},
   "source": [
    "Un index négatif désigne un élément d'une liste pris depuis la fin de la liste.\n",
    "\n",
    "Les chaînes de caractères (`str`) peuvent aussi être indexées.\n",
    "\n"
   ]
  },
  {
   "cell_type": "code",
   "execution_count": null,
   "id": "60ec811a",
   "metadata": {},
   "outputs": [],
   "source": [
    "noms = ['Tim', 'Mia', 'Kim', 'Anna', 'Cindy', 'Léa']\n",
    "print(noms[0][0])\n",
    "print(noms[2][1])\n",
    "print(noms[-1][2])\n"
   ]
  },
  {
   "cell_type": "markdown",
   "id": "6beb9466",
   "metadata": {},
   "source": [
    "## Tranche `[i:j]`\n",
    "\n",
    "La notation `[i:j]`, après le nom d'une variable qui contient une liste, permet d'extraire une sous-liste de la liste. Cette sous-liste, aussi appelée **tranche**, est une partie de la liste identifiée par les deux index `i` et `j`.\n",
    "\n"
   ]
  },
  {
   "cell_type": "markdown",
   "id": "bcb5a011",
   "metadata": {},
   "source": [
    "<h3 style=\"color:teal;background-color:azure;\" > <i class=\"fa fa-pencil\" aria-hidden=\"true\"> </i> &nbsp; Exercice 3 </h3>Modifiez l'expression de tranche et exécutez de nouveau.\n",
    "\n"
   ]
  },
  {
   "cell_type": "code",
   "execution_count": null,
   "id": "252490c6",
   "metadata": {},
   "outputs": [],
   "source": [
    "noms = ['Tim', 'Mia', 'Kim', 'Anna', 'Cindy', 'Léa']\n",
    "\n",
    "print(noms[:2])    # élément 0 et 1\n",
    "print(noms[2:4])   # élément 2 et 3\n",
    "print(noms[4:])    # élément 4 et 5\n",
    "\n",
    "print(noms[::2])   # chaque 2e élément\n",
    "print(noms[1::2])  # chaque 2e élément\n"
   ]
  },
  {
   "cell_type": "markdown",
   "id": "1ba5f205",
   "metadata": {},
   "source": [
    "<h3 style=\"color:chocolate;background-color:papayawhip;\" > <i class=\"fa fa-question\" aria-hidden=\"true\"> </i> &nbsp; Quizz </h3> \n",
    " \n",
    "```\n",
    "Quel est le résultat de l'expression `'python'[:2]` ?\n",
    "\n",
    "A) thon\n",
    "B) y\n",
    "C) p\n",
    "D) py\n",
    "```"
   ]
  },
  {
   "cell_type": "raw",
   "id": "9b029a2d",
   "metadata": {},
   "source": [
    "Réponse : \n"
   ]
  },
  {
   "cell_type": "markdown",
   "id": "9c733e44",
   "metadata": {},
   "source": [
    "## Itérer sur une liste\n",
    "\n",
    "La boucle `for` peut itérer sur les éléments d’une liste. La variable d’itération prend successivement la valeur de chaque élément de la liste.\n",
    "La pratique est d'utiliser pour la liste un nom de variable au pluriel (`noms`) et pour la variable d'itération le même nom au singulier (`nom`).\n",
    "\n"
   ]
  },
  {
   "cell_type": "code",
   "execution_count": null,
   "id": "121fac7e",
   "metadata": {},
   "outputs": [],
   "source": [
    "noms = ['Tim', 'Mia', 'Kim', 'Anna', 'Cindy', 'Léa']\n",
    "for nom in noms:\n",
    "    print(nom)\n"
   ]
  },
  {
   "cell_type": "markdown",
   "id": "8b7d6f66",
   "metadata": {},
   "source": [
    "<h3 style=\"color:chocolate;background-color:papayawhip;\" > <i class=\"fa fa-question\" aria-hidden=\"true\"> </i> &nbsp; Quizz </h3> \n",
    " \n",
    "```\n",
    "Quel est le résultat de l'expression `'pikachu'[-3:]` ?\n",
    "\n",
    "A) pik\n",
    "B) chu\n",
    "C) p\n",
    "D) pika\n",
    "```"
   ]
  },
  {
   "cell_type": "raw",
   "id": "5204297e",
   "metadata": {},
   "source": [
    "Réponse : \n"
   ]
  },
  {
   "cell_type": "markdown",
   "id": "3d3b7164",
   "metadata": {},
   "source": [
    "## Concaténation\n",
    "\n",
    "L'opérateur `+` permet de concaténer (mettre bout à bout) deux listes.\n",
    "\n"
   ]
  },
  {
   "cell_type": "code",
   "execution_count": null,
   "id": "ebdd0324",
   "metadata": {},
   "outputs": [],
   "source": [
    "noms = ['Kim', 'Wendy']\n",
    "\n",
    "print([1, 2, 3] + [5, 4, 99])\n",
    "print(noms + ['George'])\n"
   ]
  },
  {
   "cell_type": "markdown",
   "id": "9a38bf82",
   "metadata": {},
   "source": [
    "## Répétition\n",
    "\n",
    "L'opérateur `*` permet de répéter une liste.\n",
    "\n"
   ]
  },
  {
   "cell_type": "code",
   "execution_count": null,
   "id": "531d5fef",
   "metadata": {},
   "outputs": [],
   "source": [
    "noms = ['Kim', 'Ada'] * 2\n",
    "print(noms)\n",
    "print([0] * 6)\n",
    "print(5 * [1])\n"
   ]
  },
  {
   "cell_type": "markdown",
   "id": "a66f17a1",
   "metadata": {},
   "source": [
    "## Ajouter des éléments\n",
    "\n",
    "Une **méthode** fonctionne comme une fonction, mais est rattachée à une liste avec la notation (`.`).\n",
    "Par exemple, si `a` désigne une liste, on peut ajouter un élément `x` à la fin de cette liste avec l'expression `a.append(x)`.\n",
    "\n",
    "<!-- Ne devrait-on pas préciser qu'une méthode peut-être utilisée avec d'autres objets Python que des listes ?  -->\n",
    "\n",
    "Ces trois méthodes permettent toutes d’ajouter des éléments à une liste existante :\n",
    "\n",
    "- `append(x)`,\n",
    "- `extend(iterable)`,\n",
    "- `insert(i, x)`.\n",
    "\n"
   ]
  },
  {
   "cell_type": "code",
   "execution_count": null,
   "id": "49536bea",
   "metadata": {},
   "outputs": [],
   "source": [
    "a = [1, 2, 3]\n",
    "a.append(99)\n",
    "print(a)\n"
   ]
  },
  {
   "cell_type": "markdown",
   "id": "b31469a0",
   "metadata": {},
   "source": [
    "La méthode `extend(sequence)` ajoute plusieurs éléments d'une **séquence** tels qu'une liste ou une chaîne de caractères (texte).\n",
    "\n"
   ]
  },
  {
   "cell_type": "code",
   "execution_count": null,
   "id": "c854f406",
   "metadata": {},
   "outputs": [],
   "source": [
    "a = [1, 2, 3]\n",
    "a.extend([10, 11])\n",
    "a.extend('abc')\n",
    "print(a)\n"
   ]
  },
  {
   "cell_type": "markdown",
   "id": "d44494ab",
   "metadata": {},
   "source": [
    "La méthode `insert(i, x)` insère un nouveau élément `x` à la position `i`.\n",
    "\n"
   ]
  },
  {
   "cell_type": "code",
   "execution_count": null,
   "id": "dab24022",
   "metadata": {},
   "outputs": [],
   "source": [
    "a = [1, 2, 3]\n",
    "a.insert(2, 999)\n",
    "print(a)\n"
   ]
  },
  {
   "cell_type": "markdown",
   "id": "0b25ac20",
   "metadata": {},
   "source": [
    "## Enlever des éléments\n",
    "\n",
    "Les méthodes suivantes permettent d'enlever des éléments à une liste :\n",
    "\n",
    "- `remove(x)`,\n",
    "- `pop(i)`,\n",
    "- `clear()`.\n",
    "\n",
    "La méthode `remove(x)` enlève l'élément `x` s'il existe, et donne une erreur autrement.\n",
    "\n"
   ]
  },
  {
   "cell_type": "code",
   "execution_count": null,
   "id": "e9c5091c",
   "metadata": {},
   "outputs": [],
   "source": [
    "a = [1, 2, 3, 4]\n",
    "a.remove(3)\n",
    "print(a)\n"
   ]
  },
  {
   "cell_type": "markdown",
   "id": "72831e7b",
   "metadata": {},
   "source": [
    "La méthode `pop()` enlève le dernier élément.\n",
    "\n"
   ]
  },
  {
   "cell_type": "code",
   "execution_count": null,
   "id": "366153f6",
   "metadata": {},
   "outputs": [],
   "source": [
    "a = [1, 2, 3, 4]\n",
    "a.pop()\n",
    "print(a)\n"
   ]
  },
  {
   "cell_type": "markdown",
   "id": "de713784",
   "metadata": {},
   "source": [
    "La méthode `pop(i)` enlève l'élément avec l'index `i`.\n",
    "\n"
   ]
  },
  {
   "cell_type": "code",
   "execution_count": null,
   "id": "7428fd92",
   "metadata": {},
   "outputs": [],
   "source": [
    "a = [1, 2, 3, 4]\n",
    "a.pop(1)\n",
    "print(a)\n"
   ]
  },
  {
   "cell_type": "markdown",
   "id": "4aa82243",
   "metadata": {},
   "source": [
    "La méthode `clear()` enlève tous les éléments.\n",
    "\n"
   ]
  },
  {
   "cell_type": "code",
   "execution_count": null,
   "id": "ee2660ea",
   "metadata": {},
   "outputs": [],
   "source": [
    "a = [1, 2, 3, 4]\n",
    "a.clear()\n",
    "print(a)\n"
   ]
  },
  {
   "cell_type": "markdown",
   "id": "4e3fa8ed",
   "metadata": {},
   "source": [
    "## Opérations\n",
    "\n",
    "Les listes disposent aussi de méthodes avec notation dotée :\n",
    "\n",
    "- `liste.sort()` pour trier une liste,\n",
    "- `liste.reverse()` pour inverser l'ordre des éléments,\n",
    "- `liste.count(x)` pour compter l'occurrence d'un élément x.\n",
    "\n"
   ]
  },
  {
   "cell_type": "markdown",
   "id": "0ed3836f",
   "metadata": {},
   "source": [
    "### Trier une liste\n",
    "\n",
    "La méthode `sort()` trie la liste dans l'ordre croissant (pour les caractères, on se réfère au code ASCII ou UTF utilisé).\n",
    "Cette méthode fonctionne uniquement si tous les éléments sont du même type (nombre, texte) et peuvent être comparés.\n",
    "\n"
   ]
  },
  {
   "cell_type": "code",
   "execution_count": null,
   "id": "6fb6efc1",
   "metadata": {},
   "outputs": [],
   "source": [
    "a = [23, 10, -89, -54, 99, 2, 13]\n",
    "a.sort()\n",
    "print('trié', a)\n"
   ]
  },
  {
   "cell_type": "markdown",
   "id": "a5305ea5",
   "metadata": {},
   "source": [
    "Le programme suivant montre le même tri de liste sous forme graphique.\n",
    "\n"
   ]
  },
  {
   "cell_type": "markdown",
   "id": "a86716a2",
   "metadata": {},
   "source": [
    "<h3 style=\"color:teal;background-color:azure;\" > <i class=\"fa fa-pencil\" aria-hidden=\"true\"> </i> &nbsp; Exercice 4 </h3>Ajoutez 5 éléments en plus.\n",
    "\n"
   ]
  },
  {
   "cell_type": "code",
   "execution_count": null,
   "id": "24751bc6",
   "metadata": {},
   "outputs": [],
   "source": [
    "from turtle import *\n",
    "up()\n",
    "\n",
    "def affiche(liste, couleur, etiquette):\n",
    "    n = len(liste)\n",
    "    color(couleur)\n",
    "    for i in range(n):\n",
    "        goto(i/n*500-250, liste[i])\n",
    "        down()\n",
    "        dot(10)\n",
    "    write('  ' + etiquette, font=(None, 12))\n",
    "    up()\n",
    "\n",
    "a = [23, 10, -89, -54, 99, 2, 13]\n",
    "\n",
    "affiche(a, 'blue', 'originale')\n",
    "a.sort()\n",
    "affiche(a, 'red', 'triée')\n",
    "hideturtle()\n",
    "\n",
    "done()\n"
   ]
  },
  {
   "cell_type": "markdown",
   "id": "bb08c780",
   "metadata": {},
   "source": [
    "### Inverser une liste\n",
    "\n",
    "La méthode `reverse()` inverse l'ordre de la liste.\n",
    "\n"
   ]
  },
  {
   "cell_type": "code",
   "execution_count": null,
   "id": "322bac58",
   "metadata": {},
   "outputs": [],
   "source": [
    "a = [1, 23, 10, -89, -54, 99]\n",
    "a.reverse()\n",
    "print('inversé', a)\n"
   ]
  },
  {
   "cell_type": "markdown",
   "id": "8101ed9a",
   "metadata": {},
   "source": [
    "De nouveau nous donnons un exemple graphique.\n",
    "\n"
   ]
  },
  {
   "cell_type": "code",
   "execution_count": null,
   "id": "ee3c0cee",
   "metadata": {},
   "outputs": [],
   "source": [
    "from turtle import *\n",
    "up()\n",
    "\n",
    "def affiche(liste, couleur, etiquette):\n",
    "    n = len(liste)\n",
    "    color(couleur)\n",
    "    for i in range(n):\n",
    "        goto(i/n*500-250, liste[i])\n",
    "        down()\n",
    "        dot(10)\n",
    "    write('  ' + etiquette, font=(None, 12))\n",
    "    up()\n",
    "\n",
    "a = [1, 23, 10, -89, -54, 99]\n",
    "\n",
    "affiche(a, 'blue', 'originale')\n",
    "a.reverse()\n",
    "affiche(a, 'red', 'inversée')\n",
    "hideturtle()\n",
    "\n",
    "done()\n"
   ]
  },
  {
   "cell_type": "markdown",
   "id": "27e05019",
   "metadata": {},
   "source": [
    "### Compter un élément\n",
    "\n",
    "La méthode `count(x)` compte le nombre d'occurrences de l'élément `x`.\n",
    "\n"
   ]
  },
  {
   "cell_type": "code",
   "execution_count": null,
   "id": "88fcfc8e",
   "metadata": {},
   "outputs": [],
   "source": [
    "m = list('Monty Python')\n",
    "print(m.count('y'))\n"
   ]
  },
  {
   "cell_type": "markdown",
   "id": "2fc1858e",
   "metadata": {},
   "source": [
    "## Vecteurs\n",
    "\n",
    "Une liste peut représenter un vecteur.\n",
    "Pour calculer la **norme d'un vecteur** nous additionnons les carrés des éléments et prenons la racine carrée.\n",
    "\n"
   ]
  },
  {
   "cell_type": "code",
   "execution_count": null,
   "id": "5f17911d",
   "metadata": {},
   "outputs": [],
   "source": [
    "a = [1, 4, 7]\n",
    "norm = 0\n",
    "for i in a:\n",
    "    norm += i**2\n",
    "\n",
    "norm = norm ** 0.5\n",
    "print(norm)\n"
   ]
  },
  {
   "cell_type": "markdown",
   "id": "3b283c13",
   "metadata": {},
   "source": [
    "Pour **additionner deux vecteurs**, il faut additionner chacun de leurs éléments.\n",
    "\n"
   ]
  },
  {
   "cell_type": "code",
   "execution_count": null,
   "id": "22002f57",
   "metadata": {},
   "outputs": [],
   "source": [
    "a = [1, 4, 7]\n",
    "b = [2, 1, 2]\n",
    "result = [0, 0, 0]\n",
    "for i in range(3):\n",
    "    result[i] = a[i] + b[i]\n",
    "print(result)\n"
   ]
  },
  {
   "cell_type": "markdown",
   "id": "446e632c",
   "metadata": {},
   "source": [
    "Pour multiplier un vecteur avec un **scalaire k**, il faut multiplier chaque élément avec ce scalaire.\n",
    "\n"
   ]
  },
  {
   "cell_type": "code",
   "execution_count": null,
   "id": "f1410eb5",
   "metadata": {},
   "outputs": [],
   "source": [
    "a = [1, 4, 7]\n",
    "result = [0, 0, 0]\n",
    "k = 2\n",
    "for i in range(3):\n",
    "    result[i] = a[i] * k\n",
    "print(result)\n"
   ]
  },
  {
   "cell_type": "markdown",
   "id": "5cc5ad27",
   "metadata": {},
   "source": [
    "Pour calculer le **produit scalaire** de deux vecteurs, il faut additionner le produit des éléments des vecteurs.\n",
    "\n"
   ]
  },
  {
   "cell_type": "code",
   "execution_count": null,
   "id": "7c6d0547",
   "metadata": {},
   "outputs": [],
   "source": [
    "a = [1, 4, 7]\n",
    "b = [2, 1, 2]\n",
    "s = 0\n",
    "for i in range(3):\n",
    "    s += a[i] * b[i]\n",
    "print(s)\n"
   ]
  },
  {
   "cell_type": "markdown",
   "id": "33fe200b",
   "metadata": {},
   "source": [
    "## Compréhension de liste\n",
    "\n",
    "Une **compréhension de liste** est une spécificité «élégante» du langage Python qui permet de construire de manière compacte des listes sur une seule ligne.\n",
    "\n",
    "Voici un exemple de construction «traditionnelle» d'une liste où on ajoute un élément après l'autre avec une boucle.\n",
    "\n"
   ]
  },
  {
   "cell_type": "code",
   "execution_count": null,
   "id": "6a60dcf9",
   "metadata": {},
   "outputs": [],
   "source": [
    "cubes = []\n",
    "for i in range(10):\n",
    "    cubes.append(i ** 3)\n",
    "print(cubes)\n"
   ]
  },
  {
   "cell_type": "markdown",
   "id": "1d43357e",
   "metadata": {},
   "source": [
    "En utilisant la compréhension de liste, on peut construire la même liste sur une seule ligne.\n",
    "\n"
   ]
  },
  {
   "cell_type": "code",
   "execution_count": null,
   "id": "f97644af",
   "metadata": {},
   "outputs": [],
   "source": [
    "print([i ** 3 for i in range(10)])\n"
   ]
  },
  {
   "cell_type": "markdown",
   "id": "53f4cc5f",
   "metadata": {},
   "source": [
    "On peut comprendre cette formulation de la manière suivante : la liste cubes indicée par i prend la valeur $i^3$ pour toutes les valeurs de i de 0 à 9.\n",
    "\n",
    "Une condition peut être ajoutée dans la compréhension (par exemple, pour n'ajouter à la liste que les valeurs impaires).\n",
    "L'opérateur `%` est l'opérateur modulo qui renvoie le reste de la division.\n",
    "\n"
   ]
  },
  {
   "cell_type": "code",
   "execution_count": null,
   "id": "3d28180b",
   "metadata": {},
   "outputs": [],
   "source": [
    "a = []\n",
    "for i in range(10):\n",
    "    if i % 2 == 1:\n",
    "        a.append(i ** 2)\n",
    "print(a)\n"
   ]
  },
  {
   "cell_type": "markdown",
   "id": "d0ce9e2b",
   "metadata": {},
   "source": [
    "Nous pouvons alors écrire la formation de cette liste en une seule ligne.\n",
    "\n"
   ]
  },
  {
   "cell_type": "code",
   "execution_count": null,
   "id": "7f2e5583",
   "metadata": {},
   "outputs": [],
   "source": [
    "print([i**2 for i in range(10) if i % 2 == 1])\n"
   ]
  },
  {
   "cell_type": "markdown",
   "id": "539a12a3",
   "metadata": {},
   "source": [
    "## La pile\n",
    "\n",
    "Une **pile** est une structure de données qui permet de gérer l'arrivée et le départ des éléments. Dans une pile d'assiettes ou de magazines, le dernier élément ajouté est le premier à être enlevé.\n",
    "\n",
    "En anglais cette structure s'appelle **stack** ou **LIFO** (last in first out).\n",
    "\n",
    "L'exemple suivant est une pile qui accumule des entiers.\n",
    "Si répondez avec une chaîne vide, ceci enlève le dernier élément mis sur la pile, jusqu'à ce que la pile soit vide.\n",
    "\n"
   ]
  },
  {
   "cell_type": "markdown",
   "id": "9a8ed8c1",
   "metadata": {},
   "source": [
    "<h3 style=\"color:teal;background-color:azure;\" > <i class=\"fa fa-pencil\" aria-hidden=\"true\"> </i> &nbsp; Exercice 5 </h3>Ajoutez des objets (nombres, texte) sur la pile. Enlevez un élément avec *Enter*.\n",
    "\n"
   ]
  },
  {
   "cell_type": "code",
   "execution_count": null,
   "id": "a94e354a",
   "metadata": {},
   "outputs": [],
   "source": [
    "x = input('[] < ')\n",
    "pile = []\n",
    "\n",
    "while x or len(pile):\n",
    "    if x:\n",
    "        pile.append(int(x))\n",
    "    else:\n",
    "        print(pile.pop())\n",
    "    x = input(str(pile) + ' < ')\n",
    "\n",
    "print('fin')\n"
   ]
  },
  {
   "cell_type": "markdown",
   "id": "992958dd",
   "metadata": {},
   "source": [
    "## La file d'attente\n",
    "\n",
    "La file d'attente est une structure de données qui permet de gérer l'arrivée et le départ d'éléments.\n",
    "\n",
    "Dans une file d'attente devant un guichet, la première personne arrivée est la première à être servi.\n",
    "\n",
    "En anglais cette structure s'appelle **buffer** ou encore **FIFO** (first in first out).\n",
    "\n",
    "L'exemple suivant est une file d'attente pour des entiers.\n",
    "Si vous répondez avec une chaîne vide, ceci enlève le plus ancien élément de la file, jusqu'à ce que la file soit vide.\n",
    "\n"
   ]
  },
  {
   "cell_type": "markdown",
   "id": "c7a8a322",
   "metadata": {},
   "source": [
    "<h3 style=\"color:teal;background-color:azure;\" > <i class=\"fa fa-pencil\" aria-hidden=\"true\"> </i> &nbsp; Exercice 6 </h3>Ajoutez des objets (nombres, texte) à la file. Enlevez avec *Enter*.\n",
    "\n"
   ]
  },
  {
   "cell_type": "code",
   "execution_count": null,
   "id": "0c4f11ce",
   "metadata": {},
   "outputs": [],
   "source": [
    "x = input('[] < ')\n",
    "file = []\n",
    "\n",
    "while x or len(file):\n",
    "    if x:\n",
    "        file.append(int(x))\n",
    "    else:\n",
    "        print(file.pop(0))\n",
    "    x = input(str(file) + ' < ')\n",
    "\n",
    "print('fin')"
   ]
  }
 ],
 "metadata": {
  "kernelspec": {
   "display_name": "Python 3 (ipykernel)",
   "language": "python",
   "name": "python3"
  },
  "language_info": {
   "codemirror_mode": {
    "name": "ipython",
    "version": 3
   },
   "file_extension": ".py",
   "mimetype": "text/x-python",
   "name": "python",
   "nbconvert_exporter": "python",
   "pygments_lexer": "ipython3",
   "version": "3.10.12"
  }
 },
 "nbformat": 4,
 "nbformat_minor": 5
}
