{
 "cells": [
  {
   "cell_type": "markdown",
   "id": "0-4a42e0",
   "metadata": {},
   "source": [
    "<div style=\"padding:20px;background-color:papayawhip;\" > \n",
    "<h3 style=\"color:chocolate\"> <i class=\"fa fa-info\" aria-hidden=\"true\"> </i> &nbsp; Remarque introductive &nbsp;  <i class=\"fa fa-info\" aria-hidden=\"true\"></h3> \n",
    "<p> Ce fichier est fait pour être lu sur le site <a href=\"https://notebook.basthon.fr/\"><img src='https://notebook.basthon.fr/assets/efede5218c9087496f16.png' style=\"border: 0; display:inline; margin: 0 5px; height:30px\" alt=\"Basthon\"/></a>. <br>\n",
    "    \n",
    "Si vous l'avez ouvert avec un autre programme, comme Jupyter notebook, vous riquez de rencontrer quelques bugs. <br>\n",
    "Veuillez cliquez sur <a href=\"https://notebook.basthon.fr/\">ce lien</a> et y charger ce fichier à l'aide du bouton \"Ouvrir\"  &nbsp; <i class=\"fa fa-folder\" aria-hidden=\"true\"> </i>\n",
    "</p> </div>    "
   ]
  },
  {
   "cell_type": "markdown",
   "id": "1-57fe0a",
   "metadata": {},
   "source": [
    "# Grouper - `list`\n",
    "\n",
    "Dans ce chapitre, nous découvrons une nouvelle structure de données - la liste. C'est une séquence ordonnée d'objets quelconques. Contrairement au `tuple` qui est immuable, la liste est *muable*, c'est-à-dire que nous pouvons réassigner ces éléments. Nous allons voir que :\n",
    "\n",
    "- la liste est une séquence d'objets entre crochets tels que `[2, 3, 5]`,\n",
    "- la notion d'index `liste[i]` permet d'accéder au i-ème élément de la liste,\n",
    "- la notion de tranche `liste[i:j]` permet d'accéder à une sous-liste.\n",
    "\n"
   ]
  },
  {
   "cell_type": "markdown",
   "id": "2-8d9146",
   "metadata": {},
   "source": [
    "<h3 style=\"color:chocolate;background-color:papayawhip;\" > <i class=\"fa fa-question\" aria-hidden=\"true\"> </i> &nbsp; Quizz </h3> \n",
    " \n",
    "```\n",
    "En informatique, une liste est\n",
    "\n",
    "A) ordonnée\n",
    "B) jamais vide\n",
    "C) toujours hétérogène\n",
    "D) un ensemble mathématique\n",
    "```"
   ]
  },
  {
   "cell_type": "raw",
   "id": "3-770ee9",
   "metadata": {},
   "source": [
    "Ma réponse : "
   ]
  },
  {
   "cell_type": "markdown",
   "id": "4-d83ae1",
   "metadata": {},
   "source": [
    "<details>\n",
    "<summary style=\"border-left:3px solid #3c763d; border-radius:2pt; width:100%; color:#3c763d; padding:6px; background-color: #dff0d8\"> \n",
    "Réponse\n",
    "</summary>  \n",
    "\n",
    "<div style=\"border-left:3px solid #3c763d; border-radius:2pt; color:#3c763d; padding:6px; background-color: #eff0e8\">A) ordonnée\n",
    "</div>\n",
    "</details>\n",
    "                \n"
   ]
  },
  {
   "cell_type": "markdown",
   "id": "5-043e6b",
   "metadata": {},
   "source": [
    "## Des groupes d'objets\n",
    "\n",
    "Une liste permet de manipuler des groupes d'objets tels que :\n",
    "\n",
    "- noms d'élèves\n",
    "- notes d'un cours\n",
    "- couleurs\n",
    "\n",
    "En Python, on peut grouper des objets divers dans une liste. Une liste est ordonnée, ce qui veut dire qu'il y a un premier objet et un dernier objet.\n",
    "\n"
   ]
  },
  {
   "cell_type": "markdown",
   "id": "6-ebaabd",
   "metadata": {},
   "source": [
    "<h3 style=\"color:teal;background-color:azure;\" > <i class=\"fa fa-pencil\" aria-hidden=\"true\"> </i> &nbsp; Exercice 1 </h3>Ajoutez une nouvelle liste et affichez-la.\n",
    "\n"
   ]
  },
  {
   "cell_type": "code",
   "execution_count": null,
   "id": "7-25d5de",
   "metadata": {},
   "outputs": [],
   "source": [
    "noms = ['Tim', 'Kim', 'Anna', 'Cindy']\n",
    "notes = [4, 5, 4, 5.5, 6, 3.5]\n",
    "couleurs = ['fuchsia', 'pink', 'orange']\n",
    "\n",
    "print(noms)\n",
    "print(notes)\n"
   ]
  },
  {
   "cell_type": "markdown",
   "id": "8-8ea971",
   "metadata": {},
   "source": [
    "En Python, une liste est délimitée par des crochets `[]` et ses éléments sont séparés par des virgules `,`.\n",
    "\n"
   ]
  },
  {
   "cell_type": "markdown",
   "id": "9-92bec3",
   "metadata": {},
   "source": [
    "## La fonction `len()`\n",
    "\n",
    "La fonction `len()` retourne la longueur d'une liste, c'est-à-dire le nombre d'éléments qu'elle contient.\n",
    "\n"
   ]
  },
  {
   "cell_type": "markdown",
   "id": "10-8d82d1",
   "metadata": {},
   "source": [
    "<h3 style=\"color:teal;background-color:azure;\" > <i class=\"fa fa-pencil\" aria-hidden=\"true\"> </i> &nbsp; Exercice 2 </h3>Ajoutez des éléments à une liste at affichez de nouveau sa longueur.\n",
    "\n"
   ]
  },
  {
   "cell_type": "code",
   "execution_count": null,
   "id": "11-2cd0af",
   "metadata": {},
   "outputs": [],
   "source": [
    "noms = ['Tim', 'Kim', 'Anna', 'Cindy']\n",
    "notes = [4, 5, 4, 5.5, 6, 3.5]\n",
    "couleurs = ['fuchsia', 'pink', 'orange']\n",
    "\n",
    "print(len(noms))\n",
    "print(len(notes))\n"
   ]
  },
  {
   "cell_type": "markdown",
   "id": "12-a991d7",
   "metadata": {},
   "source": [
    "## La fonction `list()`\n",
    "\n",
    "La fonction `list()` peut transformer une chaîne de caractères ou une plage numérique en liste.\n",
    "\n"
   ]
  },
  {
   "cell_type": "code",
   "execution_count": null,
   "id": "13-5eb356",
   "metadata": {},
   "outputs": [],
   "source": [
    "print(list('Python'))\n",
    "print(list(range(10)))\n",
    "print(list(range(100, 150, 7)))\n"
   ]
  },
  {
   "cell_type": "markdown",
   "id": "14-4cb8ca",
   "metadata": {},
   "source": [
    "## Index `[i]`\n",
    "\n",
    "Nous pouvons accéder à un élément de la liste en utilisant un numéro entre crochets `[]`, appelé **index**. L'index d'un élément est toujours un nombre entier. En Python, comme dans beaucoup de langages de programmation, l'index pour le premier élément de la liste est 0 et non pas 1. Ainsi, les éléments d'une liste de longueur `n` auront comme premier index 0 et comme dernier index `n - 1`.\n",
    "\n"
   ]
  },
  {
   "cell_type": "code",
   "execution_count": null,
   "id": "15-5fa3e5",
   "metadata": {},
   "outputs": [],
   "source": [
    "noms = ['Tim', 'Mia', 'Kim', 'Anna', 'Cindy', 'Léa']\n",
    "print(noms[0])\n",
    "print(noms[2])\n",
    "print(noms[-1])\n",
    "print(noms[-2])\n"
   ]
  },
  {
   "cell_type": "markdown",
   "id": "16-ddade6",
   "metadata": {},
   "source": [
    "Un index négatif désigne un élément d'une liste pris depuis la fin de la liste.\n",
    "\n",
    "Les chaînes de caractères (`str`) peuvent aussi être indexées.\n",
    "\n"
   ]
  },
  {
   "cell_type": "code",
   "execution_count": null,
   "id": "17-40e826",
   "metadata": {},
   "outputs": [],
   "source": [
    "noms = ['Tim', 'Mia', 'Kim', 'Anna', 'Cindy', 'Léa']\n",
    "print(noms[0][0])\n",
    "print(noms[2][1])\n",
    "print(noms[-1][2])\n"
   ]
  },
  {
   "cell_type": "markdown",
   "id": "18-6176fd",
   "metadata": {},
   "source": [
    "## Tranche `[i:j]`\n",
    "\n",
    "La notation `[i:j]`, après le nom d'une variable qui contient une liste, permet d'extraire une sous-liste de la liste. Cette sous-liste, aussi appelée **tranche**, est une partie de la liste identifiée par les deux index `i` et `j`.\n",
    "\n"
   ]
  },
  {
   "cell_type": "markdown",
   "id": "19-0b1a1f",
   "metadata": {},
   "source": [
    "<h3 style=\"color:teal;background-color:azure;\" > <i class=\"fa fa-pencil\" aria-hidden=\"true\"> </i> &nbsp; Exercice 3 </h3>Modifiez l'expression de tranche et exécutez de nouveau.\n",
    "\n"
   ]
  },
  {
   "cell_type": "code",
   "execution_count": null,
   "id": "20-81528e",
   "metadata": {},
   "outputs": [],
   "source": [
    "noms = ['Tim', 'Mia', 'Kim', 'Anna', 'Cindy', 'Léa']\n",
    "\n",
    "print(noms[:2])    # élément 0 et 1\n",
    "print(noms[2:4])   # élément 2 et 3\n",
    "print(noms[4:])    # élément 4 et 5\n",
    "\n",
    "print(noms[::2])   # chaque 2e élément\n",
    "print(noms[1::2])  # chaque 2e élément\n"
   ]
  },
  {
   "cell_type": "markdown",
   "id": "21-7da088",
   "metadata": {},
   "source": [
    "<h3 style=\"color:chocolate;background-color:papayawhip;\" > <i class=\"fa fa-question\" aria-hidden=\"true\"> </i> &nbsp; Quizz </h3> \n",
    " \n",
    "```\n",
    "Quel est le résultat de l'expression `'python'[:2]` ?\n",
    "\n",
    "A) thon\n",
    "B) y\n",
    "C) p\n",
    "D) py\n",
    "```"
   ]
  },
  {
   "cell_type": "raw",
   "id": "22-770ee9",
   "metadata": {},
   "source": [
    "Ma réponse : "
   ]
  },
  {
   "cell_type": "markdown",
   "id": "23-26f410",
   "metadata": {},
   "source": [
    "<details>\n",
    "<summary style=\"border-left:3px solid #3c763d; border-radius:2pt; width:100%; color:#3c763d; padding:6px; background-color: #dff0d8\"> \n",
    "Réponse\n",
    "</summary>  \n",
    "\n",
    "<div style=\"border-left:3px solid #3c763d; border-radius:2pt; color:#3c763d; padding:6px; background-color: #eff0e8\">D) py\n",
    "</div>\n",
    "</details>\n",
    "                \n"
   ]
  },
  {
   "cell_type": "markdown",
   "id": "24-803daa",
   "metadata": {},
   "source": [
    "## Itérer sur une liste\n",
    "\n",
    "La boucle `for` peut itérer sur les éléments d’une liste. La variable d’itération prend successivement la valeur de chaque élément de la liste.\n",
    "La pratique est d'utiliser pour la liste un nom de variable au pluriel (`noms`) et pour la variable d'itération le même nom au singulier (`nom`).\n",
    "\n"
   ]
  },
  {
   "cell_type": "code",
   "execution_count": null,
   "id": "25-38d106",
   "metadata": {},
   "outputs": [],
   "source": [
    "noms = ['Tim', 'Mia', 'Kim', 'Anna', 'Cindy', 'Léa']\n",
    "for nom in noms:\n",
    "    print(nom)\n"
   ]
  },
  {
   "cell_type": "markdown",
   "id": "26-c4a80c",
   "metadata": {},
   "source": [
    "<h3 style=\"color:chocolate;background-color:papayawhip;\" > <i class=\"fa fa-question\" aria-hidden=\"true\"> </i> &nbsp; Quizz </h3> \n",
    " \n",
    "```\n",
    "Quel est le résultat de l'expression `'pikachu'[-3:]` ?\n",
    "\n",
    "A) pik\n",
    "B) chu\n",
    "C) p\n",
    "D) pika\n",
    "```"
   ]
  },
  {
   "cell_type": "raw",
   "id": "27-770ee9",
   "metadata": {},
   "source": [
    "Ma réponse : "
   ]
  },
  {
   "cell_type": "markdown",
   "id": "28-d67a84",
   "metadata": {},
   "source": [
    "<details>\n",
    "<summary style=\"border-left:3px solid #3c763d; border-radius:2pt; width:100%; color:#3c763d; padding:6px; background-color: #dff0d8\"> \n",
    "Réponse\n",
    "</summary>  \n",
    "\n",
    "<div style=\"border-left:3px solid #3c763d; border-radius:2pt; color:#3c763d; padding:6px; background-color: #eff0e8\">B) chu\n",
    "</div>\n",
    "</details>\n",
    "                \n"
   ]
  },
  {
   "cell_type": "markdown",
   "id": "29-13442e",
   "metadata": {},
   "source": [
    "## Concaténation\n",
    "\n",
    "L'opérateur `+` permet de concaténer (mettre bout à bout) deux listes.\n",
    "\n"
   ]
  },
  {
   "cell_type": "code",
   "execution_count": null,
   "id": "30-2c0f6c",
   "metadata": {},
   "outputs": [],
   "source": [
    "noms = ['Kim', 'Wendy']\n",
    "\n",
    "print([1, 2, 3] + [5, 4, 99])\n",
    "print(noms + ['George'])\n"
   ]
  },
  {
   "cell_type": "markdown",
   "id": "31-907162",
   "metadata": {},
   "source": [
    "## Répétition\n",
    "\n",
    "L'opérateur `*` permet de répéter une liste.\n",
    "\n"
   ]
  },
  {
   "cell_type": "code",
   "execution_count": null,
   "id": "32-414012",
   "metadata": {},
   "outputs": [],
   "source": [
    "noms = ['Kim', 'Ada'] * 2\n",
    "print(noms)\n",
    "print([0] * 6)\n",
    "print(5 * [1])\n"
   ]
  },
  {
   "cell_type": "markdown",
   "id": "33-2f268f",
   "metadata": {},
   "source": [
    "## Ajouter des éléments\n",
    "\n",
    "Une **méthode** fonctionne comme une fonction, mais est rattachée à une liste avec la notation (`.`).\n",
    "Par exemple, si `a` désigne une liste, on peut ajouter un élément `x` à la fin de cette liste avec l'expression `a.append(x)`.\n",
    "\n",
    "<!-- Ne devrait-on pas préciser qu'une méthode peut-être utilisée avec d'autres objets Python que des listes ?  -->\n",
    "\n",
    "Ces trois méthodes permettent toutes d’ajouter des éléments à une liste existante :\n",
    "\n",
    "- `append(x)`,\n",
    "- `extend(iterable)`,\n",
    "- `insert(i, x)`.\n",
    "\n"
   ]
  },
  {
   "cell_type": "code",
   "execution_count": null,
   "id": "34-c9047d",
   "metadata": {},
   "outputs": [],
   "source": [
    "a = [1, 2, 3]\n",
    "a.append(99)\n",
    "print(a)\n"
   ]
  },
  {
   "cell_type": "markdown",
   "id": "35-32970d",
   "metadata": {},
   "source": [
    "La méthode `extend(sequence)` ajoute plusieurs éléments d'une **séquence** tels qu'une liste ou une chaîne de caractères (texte).\n",
    "\n"
   ]
  },
  {
   "cell_type": "code",
   "execution_count": null,
   "id": "36-017064",
   "metadata": {},
   "outputs": [],
   "source": [
    "a = [1, 2, 3]\n",
    "a.extend([10, 11])\n",
    "a.extend('abc')\n",
    "print(a)\n"
   ]
  },
  {
   "cell_type": "markdown",
   "id": "37-17ea83",
   "metadata": {},
   "source": [
    "La méthode `insert(i, x)` insère un nouveau élément `x` à la position `i`.\n",
    "\n"
   ]
  },
  {
   "cell_type": "code",
   "execution_count": null,
   "id": "38-0e1b63",
   "metadata": {},
   "outputs": [],
   "source": [
    "a = [1, 2, 3]\n",
    "a.insert(2, 999)\n",
    "print(a)\n"
   ]
  },
  {
   "cell_type": "markdown",
   "id": "39-c97ce6",
   "metadata": {},
   "source": [
    "## Enlever des éléments\n",
    "\n",
    "Les méthodes suivantes permettent d'enlever des éléments à une liste :\n",
    "\n",
    "- `remove(x)`,\n",
    "- `pop(i)`,\n",
    "- `clear()`.\n",
    "\n",
    "La méthode `remove(x)` enlève l'élément `x` s'il existe, et donne une erreur autrement.\n",
    "\n"
   ]
  },
  {
   "cell_type": "code",
   "execution_count": null,
   "id": "40-533cb1",
   "metadata": {},
   "outputs": [],
   "source": [
    "a = [1, 2, 3, 4]\n",
    "a.remove(3)\n",
    "print(a)\n"
   ]
  },
  {
   "cell_type": "markdown",
   "id": "41-0e1b9b",
   "metadata": {},
   "source": [
    "La méthode `pop()` enlève le dernier élément.\n",
    "\n"
   ]
  },
  {
   "cell_type": "code",
   "execution_count": null,
   "id": "42-0c0717",
   "metadata": {},
   "outputs": [],
   "source": [
    "a = [1, 2, 3, 4]\n",
    "a.pop()\n",
    "print(a)\n"
   ]
  },
  {
   "cell_type": "markdown",
   "id": "43-cd86ba",
   "metadata": {},
   "source": [
    "La méthode `pop(i)` enlève l'élément avec l'index `i`.\n",
    "\n"
   ]
  },
  {
   "cell_type": "code",
   "execution_count": null,
   "id": "44-bd2f82",
   "metadata": {},
   "outputs": [],
   "source": [
    "a = [1, 2, 3, 4]\n",
    "a.pop(1)\n",
    "print(a)\n"
   ]
  },
  {
   "cell_type": "markdown",
   "id": "45-482ceb",
   "metadata": {},
   "source": [
    "La méthode `clear()` enlève tous les éléments.\n",
    "\n"
   ]
  },
  {
   "cell_type": "code",
   "execution_count": null,
   "id": "46-e0df22",
   "metadata": {},
   "outputs": [],
   "source": [
    "a = [1, 2, 3, 4]\n",
    "a.clear()\n",
    "print(a)\n"
   ]
  },
  {
   "cell_type": "markdown",
   "id": "47-690e8b",
   "metadata": {},
   "source": [
    "## Opérations\n",
    "\n",
    "Les listes disposent aussi de méthodes avec notation dotée :\n",
    "\n",
    "- `liste.sort()` pour trier une liste,\n",
    "- `liste.reverse()` pour inverser l'ordre des éléments,\n",
    "- `liste.count(x)` pour compter l'occurrence d'un élément x.\n",
    "\n"
   ]
  },
  {
   "cell_type": "markdown",
   "id": "48-1960ce",
   "metadata": {},
   "source": [
    "### Trier une liste\n",
    "\n",
    "La méthode `sort()` trie la liste dans l'ordre croissant (pour les caractères, on se réfère au code ASCII ou UTF utilisé).\n",
    "Cette méthode fonctionne uniquement si tous les éléments sont du même type (nombre, texte) et peuvent être comparés.\n",
    "\n"
   ]
  },
  {
   "cell_type": "code",
   "execution_count": null,
   "id": "49-dfd17b",
   "metadata": {},
   "outputs": [],
   "source": [
    "a = [23, 10, -89, -54, 99, 2, 13]\n",
    "a.sort()\n",
    "print('trié', a)\n"
   ]
  },
  {
   "cell_type": "markdown",
   "id": "50-003e7d",
   "metadata": {},
   "source": [
    "Le programme suivant montre le même tri de liste sous forme graphique.\n",
    "\n"
   ]
  },
  {
   "cell_type": "markdown",
   "id": "51-21fed4",
   "metadata": {},
   "source": [
    "<h3 style=\"color:teal;background-color:azure;\" > <i class=\"fa fa-pencil\" aria-hidden=\"true\"> </i> &nbsp; Exercice 4 </h3>Ajoutez 5 éléments en plus.\n",
    "\n"
   ]
  },
  {
   "cell_type": "code",
   "execution_count": null,
   "id": "52-0cb790",
   "metadata": {},
   "outputs": [],
   "source": [
    "from turtle import *\n",
    "up()\n",
    "\n",
    "def affiche(liste, couleur, etiquette):\n",
    "    n = len(liste)\n",
    "    color(couleur)\n",
    "    for i in range(n):\n",
    "        goto(i/n*500-250, liste[i])\n",
    "        down()\n",
    "        dot(10)\n",
    "    write('  ' + etiquette, font=(None, 12))\n",
    "    up()\n",
    "\n",
    "a = [23, 10, -89, -54, 99, 2, 13]\n",
    "\n",
    "affiche(a, 'blue', 'originale')\n",
    "a.sort()\n",
    "affiche(a, 'red', 'triée')\n",
    "hideturtle()\n",
    "\n",
    "done()\n"
   ]
  },
  {
   "cell_type": "markdown",
   "id": "53-639d36",
   "metadata": {},
   "source": [
    "### Inverser une liste\n",
    "\n",
    "La méthode `reverse()` inverse l'ordre de la liste.\n",
    "\n"
   ]
  },
  {
   "cell_type": "code",
   "execution_count": null,
   "id": "54-10fac7",
   "metadata": {},
   "outputs": [],
   "source": [
    "a = [1, 23, 10, -89, -54, 99]\n",
    "a.reverse()\n",
    "print('inversé', a)\n"
   ]
  },
  {
   "cell_type": "markdown",
   "id": "55-ae8851",
   "metadata": {},
   "source": [
    "De nouveau nous donnons un exemple graphique.\n",
    "\n"
   ]
  },
  {
   "cell_type": "code",
   "execution_count": null,
   "id": "56-c56936",
   "metadata": {},
   "outputs": [],
   "source": [
    "from turtle import *\n",
    "up()\n",
    "\n",
    "def affiche(liste, couleur, etiquette):\n",
    "    n = len(liste)\n",
    "    color(couleur)\n",
    "    for i in range(n):\n",
    "        goto(i/n*500-250, liste[i])\n",
    "        down()\n",
    "        dot(10)\n",
    "    write('  ' + etiquette, font=(None, 12))\n",
    "    up()\n",
    "\n",
    "a = [1, 23, 10, -89, -54, 99]\n",
    "\n",
    "affiche(a, 'blue', 'originale')\n",
    "a.reverse()\n",
    "affiche(a, 'red', 'inversée')\n",
    "hideturtle()\n",
    "\n",
    "done()\n"
   ]
  },
  {
   "cell_type": "markdown",
   "id": "57-441a10",
   "metadata": {},
   "source": [
    "### Compter un élément\n",
    "\n",
    "La méthode `count(x)` compte le nombre d'occurrences de l'élément `x`.\n",
    "\n"
   ]
  },
  {
   "cell_type": "code",
   "execution_count": null,
   "id": "58-327af0",
   "metadata": {},
   "outputs": [],
   "source": [
    "m = list('Monty Python')\n",
    "print(m.count('y'))\n"
   ]
  },
  {
   "cell_type": "markdown",
   "id": "59-65f284",
   "metadata": {},
   "source": [
    "## Vecteurs\n",
    "\n",
    "Une liste peut représenter un vecteur.\n",
    "Pour calculer la **norme d'un vecteur** nous additionnons les carrés des éléments et prenons la racine carrée.\n",
    "\n"
   ]
  },
  {
   "cell_type": "code",
   "execution_count": null,
   "id": "60-ceaba4",
   "metadata": {},
   "outputs": [],
   "source": [
    "a = [1, 4, 7]\n",
    "norm = 0\n",
    "for i in a:\n",
    "    norm += i**2\n",
    "\n",
    "norm = norm ** 0.5\n",
    "print(norm)\n"
   ]
  },
  {
   "cell_type": "markdown",
   "id": "61-fa9c9f",
   "metadata": {},
   "source": [
    "Pour **additionner deux vecteurs**, il faut additionner chacun de leurs éléments.\n",
    "\n"
   ]
  },
  {
   "cell_type": "code",
   "execution_count": null,
   "id": "62-13fa56",
   "metadata": {},
   "outputs": [],
   "source": [
    "a = [1, 4, 7]\n",
    "b = [2, 1, 2]\n",
    "result = [0, 0, 0]\n",
    "for i in range(3):\n",
    "    result[i] = a[i] + b[i]\n",
    "print(result)\n"
   ]
  },
  {
   "cell_type": "markdown",
   "id": "63-669300",
   "metadata": {},
   "source": [
    "Pour multiplier un vecteur avec un **scalaire k**, il faut multiplier chaque élément avec ce scalaire.\n",
    "\n"
   ]
  },
  {
   "cell_type": "code",
   "execution_count": null,
   "id": "64-e0305e",
   "metadata": {},
   "outputs": [],
   "source": [
    "a = [1, 4, 7]\n",
    "result = [0, 0, 0]\n",
    "k = 2\n",
    "for i in range(3):\n",
    "    result[i] = a[i] * k\n",
    "print(result)\n"
   ]
  },
  {
   "cell_type": "markdown",
   "id": "65-d45d3f",
   "metadata": {},
   "source": [
    "Pour calculer le **produit scalaire** de deux vecteurs, il faut additionner le produit des éléments des vecteurs.\n",
    "\n"
   ]
  },
  {
   "cell_type": "code",
   "execution_count": null,
   "id": "66-352bac",
   "metadata": {},
   "outputs": [],
   "source": [
    "a = [1, 4, 7]\n",
    "b = [2, 1, 2]\n",
    "s = 0\n",
    "for i in range(3):\n",
    "    s += a[i] * b[i]\n",
    "print(s)\n"
   ]
  },
  {
   "cell_type": "markdown",
   "id": "67-0bfd6d",
   "metadata": {},
   "source": [
    "## Compréhension de liste\n",
    "\n",
    "Une **compréhension de liste** est une spécificité «élégante» du langage Python qui permet de construire de manière compacte des listes sur une seule ligne.\n",
    "\n",
    "Voici un exemple de construction «traditionnelle» d'une liste où on ajoute un élément après l'autre avec une boucle.\n",
    "\n"
   ]
  },
  {
   "cell_type": "code",
   "execution_count": null,
   "id": "68-3bad17",
   "metadata": {},
   "outputs": [],
   "source": [
    "cubes = []\n",
    "for i in range(10):\n",
    "    cubes.append(i ** 3)\n",
    "print(cubes)\n"
   ]
  },
  {
   "cell_type": "markdown",
   "id": "69-bdc72c",
   "metadata": {},
   "source": [
    "En utilisant la compréhension de liste, on peut construire la même liste sur une seule ligne.\n",
    "\n"
   ]
  },
  {
   "cell_type": "code",
   "execution_count": null,
   "id": "70-4b53a6",
   "metadata": {},
   "outputs": [],
   "source": [
    "print([i ** 3 for i in range(10)])\n"
   ]
  },
  {
   "cell_type": "markdown",
   "id": "71-7ded01",
   "metadata": {},
   "source": [
    "On peut comprendre cette formulation de la manière suivante : la liste cubes indicée par i prend la valeur $i^3$ pour toutes les valeurs de i de 0 à 9.\n",
    "\n",
    "Une condition peut être ajoutée dans la compréhension (par exemple, pour n'ajouter à la liste que les valeurs impaires).\n",
    "L'opérateur `%` est l'opérateur modulo qui renvoie le reste de la division.\n",
    "\n"
   ]
  },
  {
   "cell_type": "code",
   "execution_count": null,
   "id": "72-8cf26f",
   "metadata": {},
   "outputs": [],
   "source": [
    "a = []\n",
    "for i in range(10):\n",
    "    if i % 2 == 1:\n",
    "        a.append(i ** 2)\n",
    "print(a)\n"
   ]
  },
  {
   "cell_type": "markdown",
   "id": "73-39c591",
   "metadata": {},
   "source": [
    "Nous pouvons alors écrire la formation de cette liste en une seule ligne.\n",
    "\n"
   ]
  },
  {
   "cell_type": "code",
   "execution_count": null,
   "id": "74-23d40e",
   "metadata": {},
   "outputs": [],
   "source": [
    "print([i**2 for i in range(10) if i % 2 == 1])\n"
   ]
  },
  {
   "cell_type": "markdown",
   "id": "75-3e6991",
   "metadata": {},
   "source": [
    "## La pile\n",
    "\n",
    "Une **pile** est une structure de données qui permet de gérer l'arrivée et le départ des éléments. Dans une pile d'assiettes ou de magazines, le dernier élément ajouté est le premier à être enlevé.\n",
    "\n",
    "En anglais cette structure s'appelle **stack** ou **LIFO** (last in first out).\n",
    "\n",
    "L'exemple suivant est une pile qui accumule des entiers.\n",
    "Si répondez avec une chaîne vide, ceci enlève le dernier élément mis sur la pile, jusqu'à ce que la pile soit vide.\n",
    "\n"
   ]
  },
  {
   "cell_type": "markdown",
   "id": "76-bdf56f",
   "metadata": {},
   "source": [
    "<h3 style=\"color:teal;background-color:azure;\" > <i class=\"fa fa-pencil\" aria-hidden=\"true\"> </i> &nbsp; Exercice 5 </h3>Ajoutez des objets (nombres, texte) sur la pile. Enlevez un élément avec *Enter*.\n",
    "\n"
   ]
  },
  {
   "cell_type": "code",
   "execution_count": null,
   "id": "77-59b116",
   "metadata": {},
   "outputs": [],
   "source": [
    "x = input('[] < ')\n",
    "pile = []\n",
    "\n",
    "while x or len(pile):\n",
    "    if x:\n",
    "        pile.append(int(x))\n",
    "    else:\n",
    "        print(pile.pop())\n",
    "    x = input(str(pile) + ' < ')\n",
    "\n",
    "print('fin')\n"
   ]
  },
  {
   "cell_type": "markdown",
   "id": "78-496438",
   "metadata": {},
   "source": [
    "## La file d'attente\n",
    "\n",
    "La file d'attente est une structure de données qui permet de gérer l'arrivée et le départ d'éléments.\n",
    "\n",
    "Dans une file d'attente devant un guichet, la première personne arrivée est la première à être servi.\n",
    "\n",
    "En anglais cette structure s'appelle **buffer** ou encore **FIFO** (first in first out).\n",
    "\n",
    "L'exemple suivant est une file d'attente pour des entiers.\n",
    "Si vous répondez avec une chaîne vide, ceci enlève le plus ancien élément de la file, jusqu'à ce que la file soit vide.\n",
    "\n"
   ]
  },
  {
   "cell_type": "markdown",
   "id": "79-835efe",
   "metadata": {},
   "source": [
    "<h3 style=\"color:teal;background-color:azure;\" > <i class=\"fa fa-pencil\" aria-hidden=\"true\"> </i> &nbsp; Exercice 6 </h3>Ajoutez des objets (nombres, texte) à la file. Enlevez avec *Enter*.\n",
    "\n"
   ]
  },
  {
   "cell_type": "code",
   "execution_count": null,
   "id": "80-112d74",
   "metadata": {},
   "outputs": [],
   "source": [
    "x = input('[] < ')\n",
    "file = []\n",
    "\n",
    "while x or len(file):\n",
    "    if x:\n",
    "        file.append(int(x))\n",
    "    else:\n",
    "        print(file.pop(0))\n",
    "    x = input(str(file) + ' < ')\n",
    "\n",
    "print('fin')"
   ]
  },
  {
   "cell_type": "markdown",
   "id": "81-cebd46",
   "metadata": {},
   "source": [
    "---\n",
    "\n",
    "#### Remarque générale\n",
    "\n",
    "Ce document est une adaptation d'un ressource pédagogique tiré du catalogue modulo https://modulo-info.ch/. Il est sous license Creative Commons [BY-NC-SA](https://creativecommons.org/licenses/?lang=fr)\n",
    "![Licence Creative Commons](https://i.creativecommons.org/l/by-nc-sa/4.0/88x31.png)\n",
    "\n",
    "    "
   ]
  }
 ],
 "metadata": {
  "kernelspec": {
   "display_name": "Python 3 (ipykernel)",
   "language": "python",
   "name": "python3"
  },
  "language_info": {
   "codemirror_mode": {
    "name": "ipython",
    "version": 3
   },
   "file_extension": ".py",
   "mimetype": "text/x-python",
   "name": "python",
   "nbconvert_exporter": "python",
   "pygments_lexer": "ipython3",
   "version": "3.10.12"
  }
 },
 "nbformat": 4,
 "nbformat_minor": 5
}
