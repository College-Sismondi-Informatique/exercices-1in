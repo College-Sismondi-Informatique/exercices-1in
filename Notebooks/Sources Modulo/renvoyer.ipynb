{
 "cells": [
  {
   "cell_type": "markdown",
   "id": "badaf7a6",
   "metadata": {},
   "source": [
    "# Renvoyer - `return`\n",
    "\n",
    "Dans ce chapitre, nous allons voir comment une fonction peut renvoyer une valeur. Ceci est très important pour pouvoir utiliser une fonction dans une expression mathématique. Nous allons voir que :\n",
    "\n",
    "- le mot-clé `return` permet de renvoyer une valeur,\n",
    "- la fonction qui ne renvoie rien renvoie `None`,\n",
    "- l'expression `return x, y` renvoie un tuple.\n",
    "\n"
   ]
  },
  {
   "cell_type": "markdown",
   "id": "082d1b2c",
   "metadata": {},
   "source": [
    "<h3 style=\"color:chocolate;background-color:papayawhip;\" > <i class=\"fa fa-question\" aria-hidden=\"true\"> </i> &nbsp; Quizz </h3> \n",
    " \n",
    "```\n",
    "En informatique, le mot-clé `return` est utilisé pour\n",
    "\n",
    "A) changer de direction\n",
    "B) renvoyer une valeur\n",
    "C) répéter encore une fois\n",
    "D) rentrer au début\n",
    "```"
   ]
  },
  {
   "cell_type": "raw",
   "id": "dc4313fc",
   "metadata": {},
   "source": [
    "Réponse : \n"
   ]
  },
  {
   "cell_type": "markdown",
   "id": "21569a2c",
   "metadata": {},
   "source": [
    "## Valeur de retour\n",
    "\n",
    "L'instruction `return` permet de retourner une valeur.\n",
    "Le grand intérêt d'une valeur de retour est qu'on peut l'utiliser de nouveau dans des expressions.\n",
    "\n",
    "Par exemple, nous pouvons créer une expression comme celle-ci : `square(x) + cube(x)`\n",
    "\n"
   ]
  },
  {
   "cell_type": "markdown",
   "id": "09f1afea",
   "metadata": {},
   "source": [
    "<h3 style=\"color:teal;background-color:azure;\" > <i class=\"fa fa-pencil\" aria-hidden=\"true\"> </i> &nbsp; Exercice 1 </h3>Testez le code avec 2, 3 et 4.  \n",
    "Ajoutez une fonction `identite(x)` qui renvoie juste `x`.  \n",
    "Ajoutez une ligne qui calcule **identité + carré + cube**.\n",
    "\n"
   ]
  },
  {
   "cell_type": "code",
   "execution_count": null,
   "id": "0d79f0f2",
   "metadata": {},
   "outputs": [],
   "source": [
    "def carre(x):\n",
    "    return x ** 2\n",
    "\n",
    "def cube(x):\n",
    "    return x ** 3\n",
    "\n",
    "x = input('Entrez un nombre: ')\n",
    "x = int(x)\n",
    "print('carré =', carre(x))\n",
    "print('cube =', cube(x))\n",
    "print('carré + cube =', carre(x) + cube(x))\n"
   ]
  },
  {
   "cell_type": "markdown",
   "id": "f0edb84c",
   "metadata": {},
   "source": [
    "## Points de sortie\n",
    "\n",
    "Une fonction peut avoir plusieurs points de sortie. En fait quand une ligne avec `return` est exécutée, toutes les lignes qui suivent ne sont plus exécutées.\n",
    "\n",
    "La fonction `signe()` possède 3 points de sortie.\n",
    "\n"
   ]
  },
  {
   "cell_type": "markdown",
   "id": "6178ef3c",
   "metadata": {},
   "source": [
    "<h3 style=\"color:teal;background-color:azure;\" > <i class=\"fa fa-pencil\" aria-hidden=\"true\"> </i> &nbsp; Exercice 2 </h3>Testez avec -2, 0 et 3.\n",
    "\n"
   ]
  },
  {
   "cell_type": "code",
   "execution_count": null,
   "id": "f4c34eb7",
   "metadata": {},
   "outputs": [],
   "source": [
    "def signe(x):\n",
    "    if x > 0:\n",
    "        return 'positif'\n",
    "    elif x < 0:\n",
    "        return 'négatif'\n",
    "    else:\n",
    "        return 'zéro'\n",
    "\n",
    "x = int(input('Entrez un nombre: '))\n",
    "print(x, 'est', signe(x))\n"
   ]
  },
  {
   "cell_type": "markdown",
   "id": "1d8fc0d6",
   "metadata": {},
   "source": [
    "## Fonction linéaire\n",
    "\n",
    "En mathématique une fonction linéaire a la forme:\n",
    "\n",
    "$$ f(x) = a x + b $$\n",
    "\n",
    "Le paramètre `a` est appelé la pente de cette fonction. C'est l'équation d'une droite.\n",
    "\n",
    "Nous pouvons définir une telle fonction avec la commande `def f(x):` et le mot-clé `return` qui calcule une expression linéaire avec la variable `x`.\n",
    "\n",
    "Voici la définition de la fonction et cette fonction appelée avec trois valeurs particuliers: 3, 6, et 9.\n",
    "\n"
   ]
  },
  {
   "cell_type": "markdown",
   "id": "b3501eb4",
   "metadata": {},
   "source": [
    "<h3 style=\"color:teal;background-color:azure;\" > <i class=\"fa fa-pencil\" aria-hidden=\"true\"> </i> &nbsp; Exercice 3 </h3>Changez la fonction en $ f(x) = 2x - 3 $. \n",
    "\n"
   ]
  },
  {
   "cell_type": "code",
   "execution_count": null,
   "id": "2595f1bc",
   "metadata": {},
   "outputs": [],
   "source": [
    "def f(x):\n",
    "    return 0.5*x + 2\n",
    "\n",
    "print('f(3) =', f(3))\n",
    "print('f(6) =', f(6))\n",
    "print('f(9) =', f(9))\n"
   ]
  },
  {
   "cell_type": "markdown",
   "id": "e9024388",
   "metadata": {},
   "source": [
    "## Tracer une fonction\n",
    "\n",
    "Nous pouvons tracer une fonction `f(x)` comme graphe dans un système de coordonnées.\n",
    "\n",
    "La fonction `axis()` affiche l'axe x dans une plage de -5 à +5.\n",
    "\n",
    "- La fonction `stamp()` ajoute une flèche (c'est la forme de la tortue),\n",
    "- La fonction `write('x')` ajoute l'étiquette de l'axe x.\n",
    "\n"
   ]
  },
  {
   "cell_type": "code",
   "execution_count": null,
   "id": "b4db9cd1",
   "metadata": {},
   "outputs": [],
   "source": [
    "from turtle import *\n",
    "hideturtle()\n",
    "d = 50\n",
    "\n",
    "def axis():\n",
    "    for x in range(-5, 6):\n",
    "        goto(x*d, 0)\n",
    "        dot()\n",
    "        write(x)\n",
    "    forward(d/2)    # avance la distance d/2\n",
    "    stamp()         # ajoute la flèche\n",
    "    write('x')      # écrit l'étiquette x\n",
    "    up()\n",
    "\n",
    "axis()\n",
    "\n",
    "done()\n"
   ]
  },
  {
   "cell_type": "markdown",
   "id": "cb27e4f7",
   "metadata": {},
   "source": [
    "Ensuite nous définissons une fonction `tracer(f, c)` qui permet de tracer une fonction `f` avec une couleur `c`.\n",
    "\n",
    "L'argument `f` est la fonction à afficher.\n",
    "\n"
   ]
  },
  {
   "cell_type": "markdown",
   "id": "7257a970",
   "metadata": {},
   "source": [
    "<h3 style=\"color:teal;background-color:azure;\" > <i class=\"fa fa-pencil\" aria-hidden=\"true\"> </i> &nbsp; Exercice 4 </h3>Changez la pente de f en 0.4 et la pente de g en -0.3.  \n",
    "Définissez une fonction $ h(x) = 0.1 x - 2 $ et affichez-la avec la couleur verte.\n",
    "\n"
   ]
  },
  {
   "cell_type": "code",
   "execution_count": null,
   "id": "1b896521",
   "metadata": {},
   "outputs": [],
   "source": [
    "from turtle import *\n",
    "hideturtle()\n",
    "d = 50\n",
    "\n",
    "def axis():\n",
    "    for x in range(-5, 6):\n",
    "        goto(x*d, 0)\n",
    "        dot()\n",
    "        write(x)\n",
    "    forward(d/2)\n",
    "    stamp()\n",
    "    write('x')\n",
    "    up()\n",
    "===\n",
    "def f(x):\n",
    "    return 0.5*x + 1\n",
    "\n",
    "def g(x):\n",
    "    return -0.5*x + 1\n",
    "\n",
    "def tracer(f, c):\n",
    "    color(c)\n",
    "    for x in range(-5, 6):\n",
    "        goto(x*d, f(x)*d)\n",
    "        down()\n",
    "        dot()\n",
    "        write(round(f(x), 1))\n",
    "    up()\n",
    "\n",
    "axis()\n",
    "tracer(f, 'red')\n",
    "tracer(g, 'blue')\n",
    "\n",
    "done()\n"
   ]
  },
  {
   "cell_type": "markdown",
   "id": "15992218",
   "metadata": {},
   "source": [
    "## Fonction quadratique\n",
    "\n",
    "En mathématique une fonction quadratique a la forme:\n",
    "\n",
    "$$ f(x) = a x^2 + b x + c $$\n",
    "\n",
    "Donc voici deux fonctions quadratiques tracées en rouge et bleu.\n",
    "\n"
   ]
  },
  {
   "cell_type": "markdown",
   "id": "8bee9d88",
   "metadata": {},
   "source": [
    "<h3 style=\"color:teal;background-color:azure;\" > <i class=\"fa fa-pencil\" aria-hidden=\"true\"> </i> &nbsp; Exercice 5 </h3>Définissez une troisième fonction `h(x)` et affichez-la avec la couleur verte.\n",
    "\n"
   ]
  },
  {
   "cell_type": "code",
   "execution_count": null,
   "id": "950844e4",
   "metadata": {},
   "outputs": [],
   "source": [
    "from turtle import *\n",
    "hideturtle()\n",
    "d = 50\n",
    "\n",
    "def axis():\n",
    "    for x in range(-5, 6):\n",
    "        goto(x*d, 0)\n",
    "        dot()\n",
    "        write(x)\n",
    "    forward(d/2)\n",
    "    stamp()\n",
    "    write('x')\n",
    "    up()\n",
    "===\n",
    "def f(x):\n",
    "    return 0.2*x**2 - 2\n",
    "\n",
    "def g(x):\n",
    "    return -0.3*x**2 + x + 2\n",
    "\n",
    "def tracer(f, c):\n",
    "    color(c)\n",
    "    for x in range(-5, 6):\n",
    "        goto(x*d, f(x)*d)\n",
    "        down()\n",
    "        dot()\n",
    "        write(round(f(x), 1))\n",
    "    up()\n",
    "\n",
    "axis()\n",
    "tracer(f, 'red')\n",
    "tracer(g, 'blue')\n",
    "\n",
    "done()\n"
   ]
  },
  {
   "cell_type": "markdown",
   "id": "48a17b0d",
   "metadata": {},
   "source": [
    "## Renvoyer des tuples\n",
    "\n",
    "Dans un tuple avec multiples points, nous pouvons extraire un point particulier en utilisant un indice entre crochets. Nous obtenons :\n",
    "\n",
    "- le premier point avec l'indice 0\n",
    "- le dernier point avec l'indice -1\n",
    "\n"
   ]
  },
  {
   "cell_type": "code",
   "execution_count": null,
   "id": "ba48f61b",
   "metadata": {},
   "outputs": [],
   "source": [
    "points = ((20, 20), (100, -40), (130, 80))\n",
    "\n",
    "print(points)       # tous les points\n",
    "print(points[0])    # le premier point\n",
    "print(points[-1])   # le dernier point\n"
   ]
  },
  {
   "cell_type": "markdown",
   "id": "affc10a6",
   "metadata": {},
   "source": [
    "La fonction `first(points)` prend comme argument un tuple de points et renvoie seulement le premier point.\n",
    "\n"
   ]
  },
  {
   "cell_type": "markdown",
   "id": "09c11338",
   "metadata": {},
   "source": [
    "<h3 style=\"color:teal;background-color:azure;\" > <i class=\"fa fa-pencil\" aria-hidden=\"true\"> </i> &nbsp; Exercice 6 </h3>Ajoutez une fonction `last(points)` qui renvoie seulement le dernier point et affichez le résultat.\n",
    "\n"
   ]
  },
  {
   "cell_type": "code",
   "execution_count": null,
   "id": "c90c7c57",
   "metadata": {},
   "outputs": [],
   "source": [
    "points = ((20, 20), (100, -40), (130, 80))\n",
    "\n",
    "def first(points):\n",
    "    return points[0]\n",
    "\n",
    "print('first =', first(points))\n"
   ]
  },
  {
   "cell_type": "markdown",
   "id": "78c2fb5a",
   "metadata": {},
   "source": [
    "L'opérateur `+` permet de concaténer le premier point à la fin du tuple `points`.  \n",
    "Attention de placer le dernier point dans un tuple\n",
    "\n"
   ]
  },
  {
   "cell_type": "code",
   "execution_count": null,
   "id": "9ac1f6bd",
   "metadata": {},
   "outputs": [],
   "source": [
    "points = ((20, 20), (100, -40), (130, 80))\n",
    "\n",
    "print(points + points[0])           # ajoute x et y\n",
    "print(points + (points[0]))         # parenthèses mathématiques\n",
    "print(points + (points[0], ))       # parenthèses de tuple, ajoute (x, y)\n"
   ]
  },
  {
   "cell_type": "markdown",
   "id": "8e00812c",
   "metadata": {},
   "source": [
    "La fonction `polyline(points, c)` affiche le polygone fermé qui est donné par le tuple de coordonnées `points`. \n",
    "\n"
   ]
  },
  {
   "cell_type": "code",
   "execution_count": null,
   "id": "d8fe931b",
   "metadata": {},
   "outputs": [],
   "source": [
    "from turtle import *\n",
    "up()\n",
    "\n",
    "points = ((20, 20), (100, -40), (130, 80))\n",
    "\n",
    "def polyline(points, c):\n",
    "    color(c)\n",
    "    for p in points + (points[0],):\n",
    "        goto(p)\n",
    "        down()\n",
    "        dot()\n",
    "    up()\n",
    "\n",
    "polyline(points, 'red')\n",
    "\n",
    "done()\n"
   ]
  },
  {
   "cell_type": "markdown",
   "id": "98d033f4",
   "metadata": {},
   "source": [
    "## Extraire x et y\n",
    "\n",
    "L'expression `for p in points` parcourt tous les éléments dans `points` et les associe à `p`.\n",
    "Nous pouvons l'utiliser pour extraire x ou y.\n",
    "\n"
   ]
  },
  {
   "cell_type": "code",
   "execution_count": null,
   "id": "6472bb11",
   "metadata": {},
   "outputs": [],
   "source": [
    "points = ((20, 20), (100, -40), (130, 80))\n",
    "\n",
    "print(tuple(p for p in points))         # le point p entier (x, y)\n",
    "print(tuple(p[0] for p in points))      # seulement le premier élément (x)\n",
    "print(tuple(p[1] for p in points))      # seulement le deuxième élément (y)\n"
   ]
  },
  {
   "cell_type": "markdown",
   "id": "d496300c",
   "metadata": {},
   "source": [
    "Une autre façon d'obtenir la même chose est:\n",
    "\n"
   ]
  },
  {
   "cell_type": "code",
   "execution_count": null,
   "id": "aa0b0f30",
   "metadata": {},
   "outputs": [],
   "source": [
    "points = ((20, 20), (100, -40), (130, 80))\n",
    "\n",
    "print(points)\n",
    "print(tuple(x for (x, y) in points))\n",
    "print(tuple(y for (x, y) in points))\n"
   ]
  },
  {
   "cell_type": "markdown",
   "id": "99d86533",
   "metadata": {},
   "source": [
    "La fonction `xcors(points)` retourne le tuple des coordonnées x des points du polygone défini par `points`.\n",
    "\n",
    "La fonction `ycors(points)` retourne le tuple des coordonnées y des points du polygone défini par `points`.\n",
    "\n",
    "\n"
   ]
  },
  {
   "cell_type": "code",
   "execution_count": null,
   "id": "d8e24089",
   "metadata": {},
   "outputs": [],
   "source": [
    "points = ((20, 20), (100, -40), (130, 80))\n",
    "\n",
    "def xcors(points):\n",
    "    return tuple(x for (x, y) in points)\n",
    "\n",
    "def ycors(points):\n",
    "    return tuple(y for (x, y) in points)\n",
    "\n",
    "print(points)\n",
    "print(xcors(points))\n",
    "print(ycors(points))\n"
   ]
  },
  {
   "cell_type": "markdown",
   "id": "e441a212",
   "metadata": {},
   "source": [
    "## Changer l'échelle\n",
    "\n",
    "La fonction `scale(points, s)` retourne les points du polygone défini par `points` qui est changé d'échelle par le facteur de taille `s` (size ou scale) qui est définie par un tuple `(dx, dy)`.\n",
    "\n"
   ]
  },
  {
   "cell_type": "markdown",
   "id": "f5489246",
   "metadata": {},
   "source": [
    "<h3 style=\"color:teal;background-color:azure;\" > <i class=\"fa fa-pencil\" aria-hidden=\"true\"> </i> &nbsp; Exercice 7 </h3>Ajoutez un point supplémentaire au polygone pour en faire un rectangle.  \n",
    "En plus, changez l'échelle du polygone d'un facteur (4, 1) et affichez-le avec la couleur verte.\n",
    "\n"
   ]
  },
  {
   "cell_type": "code",
   "execution_count": null,
   "id": "4f6dd8b6",
   "metadata": {},
   "outputs": [],
   "source": [
    "from turtle import *\n",
    "dot()\n",
    "up()\n",
    "\n",
    "points = ((-20, -20), (50, -40), (30, 80))\n",
    "\n",
    "def polyline(points, c):\n",
    "    color(c)\n",
    "    for p in points + (points[0],):\n",
    "        goto(p)\n",
    "        down()\n",
    "        dot()\n",
    "    up()\n",
    "\n",
    "def scale(points, s):\n",
    "    return tuple((x * s[0], y * s[1]) for (x, y) in points)\n",
    "\n",
    "polyline(points, 'red')\n",
    "polyline(scale(points, (2, 2)), 'blue')\n",
    "\n",
    "done()\n"
   ]
  },
  {
   "cell_type": "markdown",
   "id": "840aa91e",
   "metadata": {},
   "source": [
    "## Changer la position\n",
    "\n",
    "La fonction `place(points, p)` retourne les points du polygone défini par `points` qui est déplacé par le vecteur de position `p`.\n",
    "\n"
   ]
  },
  {
   "cell_type": "markdown",
   "id": "601faa92",
   "metadata": {},
   "source": [
    "<h3 style=\"color:teal;background-color:azure;\" > <i class=\"fa fa-pencil\" aria-hidden=\"true\"> </i> &nbsp; Exercice 8 </h3>Ajoutez un point supplémentaire au polygone pour en faire un rectangle.  \n",
    "Changez la position du polygone d'un vecteur (-200, 100) et affichez-le avec la couleur verte.\n",
    "\n"
   ]
  },
  {
   "cell_type": "code",
   "execution_count": null,
   "id": "354db89b",
   "metadata": {},
   "outputs": [],
   "source": [
    "from turtle import *\n",
    "dot()\n",
    "up()\n",
    "\n",
    "points = ((-20, -20), (50, -40), (30, 50))\n",
    "\n",
    "def polyline(points, c):\n",
    "    color(c)\n",
    "    for p in points + (points[0],):\n",
    "        goto(p)\n",
    "        down()\n",
    "        dot()\n",
    "    up()\n",
    "\n",
    "def place(points, p):\n",
    "    return tuple((x+p[0], y+p[1]) for (x, y) in points)\n",
    "\n",
    "polyline(points, 'red')\n",
    "polyline(place(points, (-100, 0)), 'blue')\n",
    "\n",
    "done()\n"
   ]
  },
  {
   "cell_type": "markdown",
   "id": "558442ed",
   "metadata": {},
   "source": [
    "## Centre du polygone\n",
    "\n",
    "La fonction `center(points)` retourne le point qui est au centre du polygone défini par `points`.\n",
    "\n",
    "Le centre est calculé en prenant la valeur moyenne des coordonnées x et la valeur moyenne des coordonnées y.\n",
    "\n"
   ]
  },
  {
   "cell_type": "code",
   "execution_count": null,
   "id": "085be5ee",
   "metadata": {},
   "outputs": [],
   "source": [
    "from turtle import *\n",
    "up()\n",
    "\n",
    "poly1 = ((-20, -20), (50, -40), (30, 50))\n",
    "poly2 = ((-120, -120), (-250, -40), (-130, 50))\n",
    "\n",
    "def polyline(points, c):\n",
    "    color(c)\n",
    "    for p in points + (points[0],):\n",
    "        goto(p)\n",
    "        down()\n",
    "        dot()\n",
    "    up()\n",
    "\n",
    "def center(points):\n",
    "    n = len(points)\n",
    "    xc = sum(tuple(x for (x, y) in points))/n\n",
    "    yc = sum(tuple(y for (x, y) in points))/n\n",
    "    return (xc, yc)\n",
    "\n",
    "polyline(poly1, 'red')\n",
    "goto(center(poly1))\n",
    "dot()\n",
    "\n",
    "polyline(poly2, 'blue')\n",
    "goto(center(poly2))\n",
    "dot()\n",
    "\n",
    "done()\n"
   ]
  },
  {
   "cell_type": "markdown",
   "id": "c7f029cd",
   "metadata": {},
   "source": [
    "## Rectangle du polygone\n",
    "\n",
    "La fonction `box(points)` retourne les 4 points du rectangle qui entoure le polygone défini par `points`.\n",
    "\n"
   ]
  },
  {
   "cell_type": "markdown",
   "id": "e8fa08cc",
   "metadata": {},
   "source": [
    "<h3 style=\"color:teal;background-color:azure;\" > <i class=\"fa fa-pencil\" aria-hidden=\"true\"> </i> &nbsp; Exercice 9 </h3>Ajoutez 1-2 points supplémentaire aux deux polygones.  \n",
    "Vérifiez que la boite s'adapte pour toujours entourer exactement les points.\n",
    "\n"
   ]
  },
  {
   "cell_type": "code",
   "execution_count": null,
   "id": "ad542ab4",
   "metadata": {},
   "outputs": [],
   "source": [
    "from turtle import *\n",
    "up()\n",
    "\n",
    "poly1 = ((-20, -20), (50, -40), (30, 50))\n",
    "poly2 = ((-120, -120), (-250, -40), (-130, 50))\n",
    "\n",
    "def polyline(points, c):\n",
    "    color(c)\n",
    "    for p in points + (points[0],):\n",
    "        goto(p)\n",
    "        down()\n",
    "        dot()\n",
    "    up()\n",
    "\n",
    "def box(points):\n",
    "    x0 = min(tuple(x for (x, y) in points))\n",
    "    x1 = max(tuple(x for (x, y) in points))\n",
    "    y0 = min(tuple(y for (x, y) in points))\n",
    "    y1 = max(tuple(y for (x, y) in points))\n",
    "    return ((x0, y0), (x1, y0), (x1, y1), (x0, y1))\n",
    "\n",
    "polyline(poly1, 'red')\n",
    "polyline(box(poly1), 'blue')\n",
    "\n",
    "polyline(poly2, 'red')\n",
    "polyline(box(poly2), 'blue')\n",
    "\n",
    "done()"
   ]
  },
  {
   "cell_type": "markdown",
   "id": "3693ae5d",
   "metadata": {},
   "source": [
    "---\n",
    "\n",
    "#### Remarque générale\n",
    "\n",
    "Ce document est une adaptation d'un ressource pédagogique tiré du catalogue modulo https://modulo-info.ch/. Il est sous license Creative Commons [BY-NC-SA](https://creativecommons.org/licenses/?lang=fr)\n",
    "![Licence Creative Commons](https://i.creativecommons.org/l/by-nc-sa/4.0/88x31.png)\n",
    "\n",
    "    "
   ]
  }
 ],
 "metadata": {
  "kernelspec": {
   "display_name": "Python 3 (ipykernel)",
   "language": "python",
   "name": "python3"
  },
  "language_info": {
   "codemirror_mode": {
    "name": "ipython",
    "version": 3
   },
   "file_extension": ".py",
   "mimetype": "text/x-python",
   "name": "python",
   "nbconvert_exporter": "python",
   "pygments_lexer": "ipython3",
   "version": "3.10.12"
  }
 },
 "nbformat": 4,
 "nbformat_minor": 5
}
