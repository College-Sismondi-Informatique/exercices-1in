{
 "cells": [
  {
   "cell_type": "markdown",
   "id": "c42d02b7",
   "metadata": {},
   "source": [
    "# Itérer - `range()`\n",
    "\n",
    "Dans ce chapitre, nous allons voir de près comment une variable peut parcourir ou itérer sur une plage numérique.\n",
    "\n",
    "Une boucle permet de raccourcir le code et de mieux le structurer.\n",
    "Une boucle ne représente pas seulement une économie de lignes de code, mais donne aussi la possibilité de contrôler le nombre de répétitions. Nous allons voir que :\n",
    "\n",
    "- la boucle `for` répète du code pour un ensemble de valeurs données,\n",
    "- la variable d'itération `i` prend une autre valeur à chaque tour,\n",
    "- le parcours est possible sur des plages numériques, du texte, et des listes.\n",
    "\n"
   ]
  },
  {
   "cell_type": "markdown",
   "id": "19d3c903",
   "metadata": {},
   "source": [
    "<h3 style=\"color:chocolate;background-color:papayawhip;\" > <i class=\"fa fa-question\" aria-hidden=\"true\"> </i> &nbsp; Quizz </h3> \n",
    " \n",
    "```\n",
    "En informatique, itérer c'est\n",
    "\n",
    "A) parcourir\n",
    "B) bifurquer\n",
    "C) appeler\n",
    "D) répéter\n",
    "```"
   ]
  },
  {
   "cell_type": "raw",
   "id": "9627344b",
   "metadata": {},
   "source": [
    "Réponse : \n"
   ]
  },
  {
   "cell_type": "markdown",
   "id": "69067427",
   "metadata": {},
   "source": [
    "## Parcourir une séquence\n",
    "\n",
    "Dans la boucle `for` une variable d'itération va parcourir une valeur après l'autre d'une séquence d'objets. Cette séquence peut être :\n",
    "\n",
    "- une plage numérique avec `range()`,\n",
    "- une chaîne de caractères,\n",
    "- une liste.\n",
    "\n",
    "La **variable d'itération** prend successivement les valeurs 0 à n-1.\n",
    "Comme la variable d'itération est de type entier (`int`) on l'appelle souvent `i`.\n",
    "\n",
    "Nous reprenons l'exemple précédent du polygone, mais cette fois nous ne dessinons pas les segments, mais seulement les sommets. La valeur de la variable d'itération `i` est affichée à chaque sommet du polygone.\n",
    "\n"
   ]
  },
  {
   "cell_type": "markdown",
   "id": "db9fb1cf",
   "metadata": {},
   "source": [
    "<h3 style=\"color:teal;background-color:azure;\" > <i class=\"fa fa-pencil\" aria-hidden=\"true\"> </i> &nbsp; Exercice 1 </h3>Testez avec des nombres différents entre 5 et 13.\n",
    "\n"
   ]
  },
  {
   "cell_type": "code",
   "execution_count": null,
   "id": "a7b27917",
   "metadata": {},
   "outputs": [],
   "source": [
    "from turtle import *\n",
    "\n",
    "n = 9       # nombre de sommets\n",
    "a = 50      # longueur du côté\n",
    "up()\n",
    "\n",
    "for i in range(n):\n",
    "    forward(a)\n",
    "    left(360/n)\n",
    "    write(i)\n",
    "\n",
    "done()\n"
   ]
  },
  {
   "cell_type": "markdown",
   "id": "0ae2f8de",
   "metadata": {},
   "source": [
    "## Itérer avec `range()`\n",
    "\n",
    "La fonction `range(start, stop, step)` permet de produire une séquence linéaire d'entiers. Les entiers se trouvent dans l'intervalle semi-fermé `[start, stop[` avec un incrément de `step`.\n",
    "\n",
    "Le sens des paramètres :\n",
    "\n",
    "- `start` est la valeur de départ,\n",
    "- `stop` est la valeur finale, mais sans l'inclure,\n",
    "- `step` est l'incrément.\n",
    "\n",
    "La fonction `print()` utilise le paramètre optionnel `end` pour ne pas terminer avec un retour à la ligne, mais par un simple espace.\n",
    "\n"
   ]
  },
  {
   "cell_type": "markdown",
   "id": "164c59f8",
   "metadata": {},
   "source": [
    "<h3 style=\"color:teal;background-color:azure;\" > <i class=\"fa fa-pencil\" aria-hidden=\"true\"> </i> &nbsp; Exercice 2 </h3>Affichez les entiers entre -50 et 200 avec un incrément de 25.\n",
    "\n"
   ]
  },
  {
   "cell_type": "code",
   "execution_count": null,
   "id": "df98536c",
   "metadata": {},
   "outputs": [],
   "source": [
    "from turtle import *\n",
    "up()\n",
    "\n",
    "start = -250\n",
    "stop = 250\n",
    "step = 50\n",
    "\n",
    "for x in range(start, stop, step):\n",
    "    goto(x, 0)\n",
    "    write(x)\n",
    "\n",
    "done()\n"
   ]
  },
  {
   "cell_type": "markdown",
   "id": "c1e23e40",
   "metadata": {},
   "source": [
    "## Dessiner une spirale\n",
    "\n",
    "Si nous dessinons un polygone, mais augmentons la longueur de chaque segment successif en utilisant la variable d'itération `i`, nous obtenons une spirale.\n",
    "\n"
   ]
  },
  {
   "cell_type": "code",
   "execution_count": null,
   "id": "ed34f9bc",
   "metadata": {},
   "outputs": [],
   "source": [
    "from turtle import *\n",
    "\n",
    "for i in range(100):\n",
    "    write(i)\n",
    "    forward(i)\n",
    "    left(30)\n",
    "\n",
    "done()\n"
   ]
  },
  {
   "cell_type": "markdown",
   "id": "a91ce910",
   "metadata": {},
   "source": [
    "## Deux boucles imbriquées\n",
    "\n",
    "Dans Excel, les cellules sont désignées avec une lettre et un nombre.\n",
    "Pour recréer les noms de cellule nous parcourons une chaîne de chiffres et une deuxième fois dans une chaîne de lettres.\n",
    "\n",
    "On appelle la première boucle avec `y` la **boucle extérieure** et la deuxième boucle avec `x` **la boucle intérieure**.\n",
    "\n",
    "Nous concaténons les deux éléments lettre et nombre (`x + y`) et nous ajoutons l'option `end=' '` pour remplacer le retour à la ligne par un espace.\n",
    "\n",
    "Pour bien montrer l'ordre consécutif, nous importons la fonction `sleep()` du module `time` pour ralentir le parcours de la boucle.\n",
    "\n"
   ]
  },
  {
   "cell_type": "markdown",
   "id": "812a607c",
   "metadata": {},
   "source": [
    "<h3 style=\"color:teal;background-color:azure;\" > <i class=\"fa fa-pencil\" aria-hidden=\"true\"> </i> &nbsp; Exercice 3 </h3>Transformez le code pour afficher 20 colonnes de cellules.\n",
    "\n"
   ]
  },
  {
   "cell_type": "code",
   "execution_count": null,
   "id": "22bdcbe7",
   "metadata": {},
   "outputs": [],
   "source": [
    "from time import sleep\n",
    "\n",
    "for y in '1234567':\n",
    "    for x in 'ABCDEFG':\n",
    "        print(x + y, end=' ')\n",
    "        sleep(0.1)\n",
    "    print()\n"
   ]
  },
  {
   "cell_type": "markdown",
   "id": "76849ef6",
   "metadata": {},
   "source": [
    "## Itérer sur x et y\n",
    "\n",
    "Deux boucles imbriquées peuvent itérer dans les directions x et y. Ceci permet d'afficher les coordonnées de la tortue.\n",
    "\n"
   ]
  },
  {
   "cell_type": "code",
   "execution_count": null,
   "id": "8ec7e696",
   "metadata": {},
   "outputs": [],
   "source": [
    "from turtle import *\n",
    "up()\n",
    "\n",
    "for y in range(100, -150, -50):\n",
    "    for x in range(-200, 300, 100):\n",
    "        goto(x, y)\n",
    "        dot(45, 'silver')\n",
    "        write((x, y), align='center')\n",
    "\n",
    "done()\n"
   ]
  },
  {
   "cell_type": "markdown",
   "id": "2977e570",
   "metadata": {},
   "source": [
    "## Grille de points\n",
    "\n",
    "Le programme suivant dessine des points sur une grille régulière avec une distance `d` entre les points. Nous utilisons deux boucles imbriquées avec les variables d'itération `x` et `y`.\n",
    "\n"
   ]
  },
  {
   "cell_type": "code",
   "execution_count": null,
   "id": "ae5b02ca",
   "metadata": {},
   "outputs": [],
   "source": [
    "from turtle import *\n",
    "up()\n",
    "\n",
    "def grille(p, size, dim):\n",
    "    for i in range(dim[0]):         # itérer les lignes i\n",
    "        for j in range(dim[1]):     # itérer les colonnes j\n",
    "            x = p[0] + j*size[0]    # calculer x\n",
    "            y = p[1] + i*size[1]    # calculer y\n",
    "            goto(x, y)\n",
    "            dot()\n",
    "\n",
    "grille((-200, -100), (20, 20), (8, 8))\n",
    "grille((100, 0), (10, 10), (5, 7))\n",
    "\n",
    "done()\n"
   ]
  },
  {
   "cell_type": "markdown",
   "id": "fda3330a",
   "metadata": {},
   "source": [
    "## Grille de lignes\n",
    "\n",
    "Le programme suivant dessine une grille de lignes qui sont à une distance `d` les unes des autres. Nous utilisons deux boucles séparées avec les variables d'itération `x` et `y`.\n",
    "\n"
   ]
  },
  {
   "cell_type": "code",
   "execution_count": null,
   "id": "7a8a9ba9",
   "metadata": {},
   "outputs": [],
   "source": [
    "from turtle import *\n",
    "up()\n",
    "\n",
    "x0 = 180\n",
    "d = 40\n",
    "\n",
    "def ligne(p, q):\n",
    "    goto(p)\n",
    "    down()\n",
    "    goto(q)\n",
    "    up()\n",
    "\n",
    "for y in range(-x0, x0+1, d):\n",
    "    ligne((-x0, y), (x0, y))\n",
    "\n",
    "for x in range(-x0, x0+1, d):\n",
    "    ligne((x, -x0), (x, x0))\n",
    "\n",
    "done()\n"
   ]
  },
  {
   "cell_type": "markdown",
   "id": "438e0abc",
   "metadata": {},
   "source": [
    "## Grille de Sudoku\n",
    "\n",
    "Le programme suivant dessine une grille de Sudoku 3x3 avec une distance `d` entre les lignes. La particularité de la grille Sudoku est que chaque 3e ligne est accentuée. Nous utilisons la condition modulo `i%3` pour ceci.\n",
    "\n"
   ]
  },
  {
   "cell_type": "code",
   "execution_count": null,
   "id": "7a105857",
   "metadata": {},
   "outputs": [],
   "source": [
    "from turtle import *\n",
    "up()\n",
    "\n",
    "x0 = 180\n",
    "d = 40\n",
    "\n",
    "def ligne(p, q):\n",
    "    goto(p)\n",
    "    down()\n",
    "    goto(q)\n",
    "    up()\n",
    "\n",
    "for y in range(-x0, x0+1, d):\n",
    "    width(3 if y%3 == 0 else 1)\n",
    "    ligne((-x0, y), (x0, y))\n",
    "\n",
    "for x in range(-x0, x0+1, d):\n",
    "    width(3 if x%3 == 0 else 1)\n",
    "    ligne((x, -x0), (x, x0))\n",
    "\n",
    "done()\n"
   ]
  },
  {
   "cell_type": "markdown",
   "id": "ba161575",
   "metadata": {},
   "source": [
    "## Grille de tic-tac-toe\n",
    "\n",
    "La grille du jeu tic-tac-toe est une grille 3x3. Nous ajoutons des étiquettes a-c pour les colonnes et 1-3 pour les lignes.\n",
    "\n"
   ]
  },
  {
   "cell_type": "code",
   "execution_count": null,
   "id": "7f3ffe75",
   "metadata": {},
   "outputs": [],
   "source": [
    "from turtle import *\n",
    "up()\n",
    "\n",
    "speed(10)\n",
    "x0 = 150\n",
    "d = 100\n",
    "\n",
    "def ligne(p, q):\n",
    "    goto(p)\n",
    "    down()\n",
    "    goto(q)\n",
    "    up()\n",
    "\n",
    "for y in range(-x0, x0+1, d):\n",
    "    ligne((-x0, y), (x0, y))\n",
    "\n",
    "for x in range(-x0, x0+1, d):\n",
    "    ligne((x, -x0), (x, x0))\n",
    "\n",
    "goto(-x0 + d/2, x0+10)\n",
    "for c in 'abc':\n",
    "    write(c, font=('Arial', 24))\n",
    "    forward(d)\n",
    "\n",
    "goto(-x0-10, x0 - d/2 - 12)\n",
    "seth(-90)\n",
    "for c in '123':\n",
    "    write(c, font=('Arial', 24), align='right')\n",
    "    forward(d)\n",
    "\n",
    "done()\n"
   ]
  },
  {
   "cell_type": "markdown",
   "id": "8c54bc42",
   "metadata": {},
   "source": [
    "## Jouer au tic-tac-toe\n",
    "\n",
    "Pour jouer au tic-tac-toe, nous devons déchiffrer les noms des cellules qui sont constituées d'une lettre (a-c) et d'un chiffre (1-3). En alternance nous plaçons une croix et un cercle.\n",
    "\n"
   ]
  },
  {
   "cell_type": "code",
   "execution_count": null,
   "id": "8486cb93",
   "metadata": {},
   "outputs": [],
   "source": [
    ":output_lines: 5\n",
    "from turtle import *\n",
    "up()\n",
    "\n",
    "speed(10)\n",
    "x0 = 150\n",
    "d = 100\n",
    "\n",
    "def ligne(p, q):\n",
    "    goto(p)\n",
    "    down()\n",
    "    goto(q)\n",
    "    up()\n",
    "\n",
    "for y in range(-x0, x0+1, d):\n",
    "    ligne((-x0, y), (x0, y))\n",
    "\n",
    "for x in range(-x0, x0+1, d):\n",
    "    ligne((x, -x0), (x, x0))\n",
    "\n",
    "goto(-x0 + d/2, x0+10)\n",
    "for c in 'abc':\n",
    "    write(c, font=('Arial', 24))\n",
    "    forward(d)\n",
    "\n",
    "goto(-x0-10, x0 - d/2 - 12)\n",
    "seth(-90)\n",
    "for c in '123':\n",
    "    write(c, font=('Arial', 24), align='right')\n",
    "    forward(d)\n",
    "\n",
    "hideturtle()\n",
    "for i in range(9):\n",
    "    p = input('Entrez coordonné: ')\n",
    "    x = -x0 + (ord(p[0]) - ord('a') + 0.5) * d\n",
    "    y =  x0 - (int(p[1]) - 0.1) * d\n",
    "    goto(x, y)\n",
    "    write('×○'[i%2], font=('Arial', d), align='center')\n",
    "\n",
    "done()\n"
   ]
  },
  {
   "cell_type": "markdown",
   "id": "d16951ff",
   "metadata": {},
   "source": [
    "## Plateau d'échec\n",
    "\n",
    "Le plateau d'échec est constitué de 64 carrés qui sont alternativement noirs ou blancs.\n",
    "\n"
   ]
  },
  {
   "cell_type": "code",
   "execution_count": null,
   "id": "ee683c73",
   "metadata": {},
   "outputs": [],
   "source": [
    "from turtle import *\n",
    "\n",
    "speed(0)\n",
    "x0 = 160\n",
    "d = 40\n",
    "up()\n",
    "\n",
    "def case():\n",
    "    begin_fill()\n",
    "    down()\n",
    "    for i in range(4):\n",
    "        forward(d)\n",
    "        left(90)\n",
    "    up()\n",
    "    end_fill()\n",
    "\n",
    "for i in range(8):\n",
    "    for j in range(8):\n",
    "        goto(-x0 + j*d, -x0 + i*d)\n",
    "        fillcolor('white' if (i+j)%2 else 'black')\n",
    "        case()\n",
    "\n",
    "done()\n"
   ]
  },
  {
   "cell_type": "markdown",
   "id": "fe68afdb",
   "metadata": {},
   "source": [
    "## Exercices\n",
    "\n",
    "- Téléchargez un exercice.\n",
    "- Éditez-le dans un éditeur.\n",
    "- Déposez-le sur Moodle.\n",
    "\n"
   ]
  },
  {
   "cell_type": "markdown",
   "id": "ca48eae0",
   "metadata": {},
   "source": [
    "### Cadran\n",
    "\n",
    "Dessinez le cadran d'une montre avec 60 petits points pour les minutes et secondes et 12 grands points pour les heures. Utilisez la fonction modulo `i%5` pour faire la différence entre les petits et les grands points.\n",
    "\n"
   ]
  },
  {
   "cell_type": "code",
   "execution_count": null,
   "id": "0be9581a",
   "metadata": {},
   "outputs": [],
   "source": [
    "from turtle import *\n",
    "# Prénom, nom, classe\n",
    "\n",
    "for i in range(60):\n",
    "    ...\n",
    "\n",
    "done()\n"
   ]
  },
  {
   "cell_type": "markdown",
   "id": "a7bd3c25",
   "metadata": {},
   "source": [
    "### Plateau d'échec\n",
    "\n",
    "Dessinez un échiquier, numérotez les lignes 1-8 et les colonnes a-h, et placez les pions noirs et blancs aux positions de départ.\n",
    "\n"
   ]
  },
  {
   "cell_type": "code",
   "execution_count": null,
   "id": "1782f26d",
   "metadata": {},
   "outputs": [],
   "source": [
    "from turtle import *\n",
    "\n",
    "speed(0)\n",
    "x0 = 160\n",
    "d = 40\n",
    "up()\n",
    "\n",
    "blancs = '♖♘♗♔♕♗♘♖'\n",
    "\n",
    "goto(-x0, -x0)\n",
    "for c in blancs:\n",
    "    write(c, font=(None, d))\n",
    "    forward(d)\n",
    "\n",
    "done()\n"
   ]
  },
  {
   "cell_type": "markdown",
   "id": "616394dd",
   "metadata": {},
   "source": [
    "### Logo de l'EPFL\n",
    "\n",
    "En mars 2019, l’[EPFL](https://www.epfl.ch/fr/) profite de son anniversaire de 50 ans pour renouveler son logo. Tout en maintenant la couleur du drapeau helvétique, l’agence [Moser Design](https://moserdesign.ch) utilise une police de caractères suisse, l’Helvetica Neue. Les lettres ont été remaniées à la manière de pixels pour laisser transparaître la dimension numérique de l’école. On peut percevoir dans le négatif des lettres E et F deux croix helvétiques.\n",
    "\n"
   ]
  },
  {
   "cell_type": "code",
   "execution_count": null,
   "id": "948798ea",
   "metadata": {},
   "outputs": [],
   "source": [
    "from turtle import *\n",
    "shape('arrow')\n",
    "\n",
    "def pixel():\n",
    "    color('white')\n",
    "    begin_fill()\n",
    "    down()\n",
    "    for x in (21, 16) * 2:\n",
    "        forward(x)\n",
    "        left(90)\n",
    "    up()\n",
    "    end_fill()\n",
    "\n",
    "up()\n",
    "color('red')\n",
    "speed(2)\n",
    "goto(-200, -50)\n",
    "\n",
    "for c in 'EPFL':\n",
    "    write(c, font=('Helvetica Neue', 100, 'bold'), move=True)\n",
    "\n",
    "goto(-191, -9)\n",
    "pixel()\n",
    "goto(-17, -9)\n",
    "pixel()\n",
    "hideturtle()\n",
    "\n",
    "done()\n"
   ]
  },
  {
   "cell_type": "markdown",
   "id": "2b4068a3",
   "metadata": {},
   "source": [
    "Selon le même schéma, créez un logo pour une autre institution. Justifiez le choix de la couleur.\n"
   ]
  },
  {
   "cell_type": "markdown",
   "id": "ce8ecdee",
   "metadata": {},
   "source": [
    "---\n",
    "\n",
    "#### Remarque générale\n",
    "\n",
    "Ce document est une adaptation d'un ressource pédagogique tiré du catalogue modulo https://modulo-info.ch/. Il est sous license Creative Commons [BY-NC-SA](https://creativecommons.org/licenses/?lang=fr)\n",
    "![Licence Creative Commons](https://i.creativecommons.org/l/by-nc-sa/4.0/88x31.png)\n",
    "\n",
    "    "
   ]
  }
 ],
 "metadata": {
  "kernelspec": {
   "display_name": "Python 3 (ipykernel)",
   "language": "python",
   "name": "python3"
  },
  "language_info": {
   "codemirror_mode": {
    "name": "ipython",
    "version": 3
   },
   "file_extension": ".py",
   "mimetype": "text/x-python",
   "name": "python",
   "nbconvert_exporter": "python",
   "pygments_lexer": "ipython3",
   "version": "3.10.12"
  }
 },
 "nbformat": 4,
 "nbformat_minor": 5
}
