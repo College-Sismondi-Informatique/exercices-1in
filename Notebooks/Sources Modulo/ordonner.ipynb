{
 "cells": [
  {
   "cell_type": "markdown",
   "id": "010e1d68",
   "metadata": {},
   "source": [
    "# Ordonner - `tuple 2D`\n",
    "\n",
    "Comment représenter des formes complexes, mais réguliers, tels que :\n",
    "\n",
    "- les pixels d'une image PixelArt\n",
    "- les couleurs d'un cube de Rubik\n",
    "- l'état des pièces d'un échéqier\n",
    "- une image composé de polygones\n",
    "- la grille d'un sudoku\n",
    "- les lettres d'un scrabble ?\n",
    "\n",
    "La réponse est un tuple multi-dimensionnel, donc un tuple de tuple.\n",
    "\n"
   ]
  },
  {
   "cell_type": "markdown",
   "id": "32439c3b",
   "metadata": {},
   "source": [
    "## Tuple 2D\n",
    "\n",
    "Voici une image minimaliste de Sonic créée avec seulement 4x4 pixels.\n",
    "\n"
   ]
  },
  {
   "cell_type": "markdown",
   "id": "ea465765",
   "metadata": {},
   "source": [
    "<img src=\"https://raw.githubusercontent.com/edunumsec2/book/master/src/appr/prog1/media/sonic.png\" alt=\"media/sonic.png\" width=\"200\"/>"
   ]
  },
  {
   "cell_type": "markdown",
   "id": "7dcabcc3",
   "metadata": {},
   "source": [
    "\n",
    " \n",
    "\n",
    "Nous pouvons représenter cette information avec un tuple 2D de 4 lignes, chaque ligne ayant 4 couleurs.\n",
    "\n",
    "Avec un\n",
    "\n",
    "- indexage simple `sonic[0]` nous pouvons accéder à une ligne.\n",
    "- indexage double `sonic[2][2]` nous pouvons accéder à la couleur d'un pixel\n",
    "\n"
   ]
  },
  {
   "cell_type": "code",
   "execution_count": null,
   "id": "5602e1f9",
   "metadata": {},
   "outputs": [],
   "source": [
    "sonic = (('blue', 'blue', 'blue', 'white'),\n",
    "        ('white', 'blue', 'blue', 'blue'),\n",
    "        ('white', 'blue', 'beige', 'blue'),\n",
    "        ('red', 'white', 'red', 'white'))\n",
    "\n",
    "print(sonic[0])\n",
    "print(sonic[2][2])\n"
   ]
  },
  {
   "cell_type": "markdown",
   "id": "4f88d961",
   "metadata": {},
   "source": [
    "## Parcourir en 2D\n",
    "\n",
    "Nous pouvons parcourir de 2D en deux niveaux.\n",
    "\n",
    "- avec `for line in sonic:` ligne par ligne\n",
    "- avec `for c in c:` les couleurs de chaque ligne\n",
    "\n"
   ]
  },
  {
   "cell_type": "code",
   "execution_count": null,
   "id": "5606a5b7",
   "metadata": {},
   "outputs": [],
   "source": [
    "sonic = (('blue', 'blue', 'blue', 'white'),\n",
    "        ('white', 'blue', 'blue', 'blue'),\n",
    "        ('white', 'blue', 'beige', 'blue'),\n",
    "        ('red', 'white', 'red', 'white'))\n",
    "\n",
    "for line in sonic:\n",
    "    print()\n",
    "    print(line)\n",
    "    for c in line:\n",
    "        print(c)\n"
   ]
  },
  {
   "cell_type": "markdown",
   "id": "e6a7bbd7",
   "metadata": {},
   "source": [
    "## Palette de couleurs\n",
    "\n",
    "Au lieu d'écrire les couleurs à chaque fois, nous pouvons les coder avec une palette. Ceci a deux aventages.\n",
    "\n",
    "- la table 2D des pixels est plus compacte\n",
    "- on peux facilement échanger les couleurs\n",
    "\n"
   ]
  },
  {
   "cell_type": "code",
   "execution_count": null,
   "id": "8254d8b3",
   "metadata": {},
   "outputs": [],
   "source": [
    "palette = ('blue', 'white', 'beige', 'red')\n",
    "\n",
    "sonic = ((0, 0, 0, 1),\n",
    "        (1, 0, 0, 0),\n",
    "        (1, 0, 2, 0),\n",
    "        (3, 1, 3, 1))\n",
    "\n",
    "for line in sonic:\n",
    "    print()\n",
    "    print(line)\n",
    "    for i in line:\n",
    "        print(i, '=', palette[i])\n"
   ]
  },
  {
   "cell_type": "markdown",
   "id": "feaabd4a",
   "metadata": {},
   "source": [
    "## Dessiner des pixels\n",
    "\n",
    "Nous utilisons le parcours ligne par ligne, pixel par pixel pour dessiner les pixels\n",
    "\n"
   ]
  },
  {
   "cell_type": "code",
   "execution_count": null,
   "id": "1c01e180",
   "metadata": {},
   "outputs": [],
   "source": [
    "from turtle import *\n",
    "\n",
    "palette = ('blue', 'white', 'beige', 'red')\n",
    "sonic = ((0, 0, 0, 1),\n",
    "        (1, 0, 0, 0),\n",
    "        (1, 0, 2, 0),\n",
    "        (3, 1, 3, 1))\n",
    "d = 40\n",
    "\n",
    "def pixel(d, c):\n",
    "    down()\n",
    "    fillcolor(c)\n",
    "    begin_fill()\n",
    "    for i in range(4):\n",
    "        forward(d)\n",
    "        right(90)\n",
    "    end_fill()\n",
    "    forward(d)\n",
    "    up()\n",
    "\n",
    "speed(0)\n",
    "for line in sonic:\n",
    "    for i in line:\n",
    "        c = palette[i]\n",
    "        pixel(d, c)\n",
    "    backward(4*d)\n",
    "    sety(ycor() - d)\n",
    "\n",
    "done()\n"
   ]
  },
  {
   "cell_type": "markdown",
   "id": "881519ea",
   "metadata": {},
   "source": [
    "## Pixelart\n",
    "\n",
    "Nous pouvons utiliser la fonction `rectangle()` pour dessiner du Pixelart.\n",
    "Pour ceci nous utilisons deux tuples:\n",
    "\n",
    "- `palette` -- un tuple 1D contenant les couleurs (la palette des couleurs)\n",
    "- `table` -- un tuple 2D avec les indices des couleurs, ligne par ligne\n",
    "\n",
    "Les paramètres suivants sont passés à la fonction `rectangle()`:\n",
    "\n",
    "- `d` -- la taille du pixel (`20`)\n",
    "- `w` -- épaisseur de ligne (`1`)\n",
    "- `pen` -- couleur de ligne (`'black'`)\n",
    "\n",
    "Les points de départ sont marqués avec un point (dot) et les coordonnées y sont affichées.\n",
    "\n"
   ]
  },
  {
   "cell_type": "code",
   "execution_count": null,
   "id": "d034c51c",
   "metadata": {},
   "outputs": [],
   "source": [
    "from turtle import *\n",
    "speed(0)\n",
    "\n",
    "def rectangle(d, e, w=1, pen='black', fill=None):\n",
    "    \"\"\"Dessine un rectangle de taille d x e.\"\"\"\n",
    "    if pen:\n",
    "        down()\n",
    "        width(w)\n",
    "        pencolor(pen)\n",
    "    if fill:\n",
    "        fillcolor(fill)\n",
    "        begin_fill()\n",
    "    for x in (d, e, d, e):\n",
    "        forward(x)\n",
    "        right(90)\n",
    "    if fill:\n",
    "        end_fill()\n",
    "    up()\n",
    "    forward(d)\n",
    "===\n",
    "def pixelart(table, palette, d=20, w=1, pen='black'):\n",
    "    dot()\n",
    "    color('black')\n",
    "    write(pos())\n",
    "    for line in table:\n",
    "        for i in line:\n",
    "            rectangle(d, d, w=w, pen=pen, fill=palette[i])\n",
    "        backward(len(line)*d)\n",
    "        sety(ycor()-d)\n",
    "\n",
    "palette = (None, 'black', 'yellow', 'white', 'red', )\n",
    "pikachu =  ((1, 2, 2, 1),\n",
    "            (3, 4, 2, 3),\n",
    "            (2, 2, 2, 2),\n",
    "            (2, 2, 2, 3))\n",
    "\n",
    "dot(1000, 'whitesmoke')\n",
    "up()\n",
    "pixelart(pikachu, palette)\n",
    "goto(-180, 100)\n",
    "pixelart(pikachu, palette, d=30, w=0, pen=None)\n",
    "goto(150, 50)\n",
    "pixelart(pikachu, (None, 'green', 'lime', 'cyan', 'pink'), 25, 3, 'red')\n",
    "\n",
    "done()\n"
   ]
  },
  {
   "cell_type": "markdown",
   "id": "26b56b13",
   "metadata": {},
   "source": [
    "## Rubik\n",
    "\n",
    "Pour dessiner les 3 faces d'un cube de Rubik, nous pouvons utiliser la même méthode:\n",
    "\n",
    "- une palette pour les 6 couleurs\n",
    "- un tuple 3D pour les 3x3x3 couleurs visibles\n",
    "\n"
   ]
  },
  {
   "cell_type": "markdown",
   "id": "0dccffff",
   "metadata": {},
   "source": [
    "![pavage](https://raw.githubusercontent.com/edunumsec2/book/master/src/appr/prog1/media/rubik.jpg)\n",
    "\n"
   ]
  },
  {
   "cell_type": "markdown",
   "id": "dcc7671f",
   "metadata": {},
   "source": [
    "<h3 style=\"color:teal;background-color:azure;\" > <i class=\"fa fa-pencil\" aria-hidden=\"true\"> </i> &nbsp; Exercice 1 </h3>Ajoutez la 3e surface qui manque encore en indiquant les indices des couleurs.  \n",
    "Dans la palette, changez les couleurs rouge en `'pink'`,  bleu en `'lightblue'` et vert en `'lightgreen'`.\n",
    "\n"
   ]
  },
  {
   "cell_type": "code",
   "execution_count": null,
   "id": "bcc80594",
   "metadata": {},
   "outputs": [],
   "source": [
    "from turtle import *\n",
    "\n",
    "d = 40\n",
    "palette = ('red', 'blue', 'orange', 'white', 'yellow', 'green')\n",
    "cube = (((0, 1, 2), (3, 4, 0), (1, 3, 5)),\n",
    "        ((1, 5, 4), (5, 0, 2), (2, 4, 5)))\n",
    "\n",
    "def losange(d, c):\n",
    "    fillcolor(c)\n",
    "    begin_fill()\n",
    "    for a in (120, 60, 120, 60):\n",
    "        forward(d)\n",
    "        left(a)\n",
    "    end_fill()\n",
    "    forward(d)\n",
    "\n",
    "def next_line():\n",
    "    backward(3*d)\n",
    "    left(120)\n",
    "    forward(d)\n",
    "    right(120)\n",
    "\n",
    "def next_surface():\n",
    "    left(120)\n",
    "    backward(3*d)\n",
    "\n",
    "speed(0)\n",
    "left(30)\n",
    "for surface in cube:\n",
    "    for line in surface:\n",
    "        for i in line:\n",
    "            c = palette[i]\n",
    "            losange(d, c)\n",
    "        next_line()\n",
    "    next_surface()\n",
    "\n",
    "done()\n"
   ]
  },
  {
   "cell_type": "markdown",
   "id": "e2abc7cf",
   "metadata": {},
   "source": [
    "## Tetris\n",
    "\n",
    "Nous représentons chaque tétronimo comme un tuple d'angles.\n",
    "\n"
   ]
  },
  {
   "cell_type": "markdown",
   "id": "863c3095",
   "metadata": {},
   "source": [
    "![tétrominos](https://raw.githubusercontent.com/edunumsec2/book/master/src/appr/prog1/media/tetromino.png)\n",
    "\n",
    "Cet angle est l'angle à tourner après chaque segment de longeur `d`.\n",
    "\n",
    "- `90` tourner à gauche,\n",
    "- `0` continue tout droit,\n",
    "- `-90` tourner à droite.\n",
    "\n"
   ]
  },
  {
   "cell_type": "markdown",
   "id": "fa2115cf",
   "metadata": {},
   "source": [
    "<h3 style=\"color:teal;background-color:azure;\" > <i class=\"fa fa-pencil\" aria-hidden=\"true\"> </i> &nbsp; Exercice 2 </h3>Ajoutez les deux derniers angles dans le tuple `T` pour fermer la forme du T.\n",
    "\n"
   ]
  },
  {
   "cell_type": "code",
   "execution_count": null,
   "id": "5a94f136",
   "metadata": {},
   "outputs": [],
   "source": [
    "from turtle import *\n",
    "d = 80\n",
    "T = (90, -90, 90, 90, 0, 0, 90, 90)\n",
    "\n",
    "for a in T:\n",
    "    dot()\n",
    "    forward(d)\n",
    "    left(a)\n",
    "    write(a)\n",
    "\n",
    "done()\n"
   ]
  },
  {
   "cell_type": "markdown",
   "id": "c4b2bc6c",
   "metadata": {},
   "source": [
    "### Forme\n",
    "\n",
    "Nous marquons le point d'origine avec un point (dot).\n",
    "\n"
   ]
  },
  {
   "cell_type": "markdown",
   "id": "ee1aa90f",
   "metadata": {},
   "source": [
    "<h3 style=\"color:teal;background-color:azure;\" > <i class=\"fa fa-pencil\" aria-hidden=\"true\"> </i> &nbsp; Exercice 3 </h3>Trouvez les tuples d'angles pour représenter les tétronimos O, J et S.\n",
    "\n"
   ]
  },
  {
   "cell_type": "code",
   "execution_count": null,
   "id": "814309a0",
   "metadata": {},
   "outputs": [],
   "source": [
    "from turtle import *\n",
    "speed(0)\n",
    "d = 20\n",
    "I = (0, 0, 0, 90, 90, 0, 0, 0, 90, 90)\n",
    "O = ()\n",
    "T = (90, -90, 90, 90, 0, 0, 90, 90, -90, 90)\n",
    "J = ()\n",
    "L = (0, 90, 90, -90, 0, 90, 90, 0, 0, 90)\n",
    "S = ()\n",
    "Z = (0, 90, 90, -90, 90, 0, 90, 90, -90, 90)\n",
    "\n",
    "def tetronimo(angles):\n",
    "    down()\n",
    "    dot()\n",
    "    for a in angles:\n",
    "        forward(d)\n",
    "        left(a)\n",
    "    up()\n",
    "\n",
    "up()\n",
    "backward(280)\n",
    "for t in (I, O, T, J, L, S, Z):\n",
    "    tetronimo(t)\n",
    "    forward(4*d)\n",
    "\n",
    "done()\n"
   ]
  },
  {
   "cell_type": "markdown",
   "id": "47ef34e0",
   "metadata": {},
   "source": [
    "### Couleur\n",
    "\n",
    "En plus de la définition des angles, nous pouvons aussi ajouter la couleur.\n",
    "Chaque type de tétronimo est donc défini par un tuple de la forme `(couleur, angles)`.\n",
    "\n"
   ]
  },
  {
   "cell_type": "markdown",
   "id": "c361eb9c",
   "metadata": {},
   "source": [
    "<h3 style=\"color:teal;background-color:azure;\" > <i class=\"fa fa-pencil\" aria-hidden=\"true\"> </i> &nbsp; Exercice 4 </h3>Ajoutez les couleurs des tétronimos J, L, S et Z.\n",
    "\n"
   ]
  },
  {
   "cell_type": "code",
   "execution_count": null,
   "id": "fa9c0128",
   "metadata": {},
   "outputs": [],
   "source": [
    "from turtle import *\n",
    "speed(0)\n",
    "d = 20\n",
    "I = 'cyan', (0, 0, 0, 90, 90, 0, 0, 0, 90, 90)\n",
    "O = 'yellow', (0, 90, 0, 90, 0, 90, 0, 90)\n",
    "T = 'magenta', (90, -90, 90, 90, 0, 0, 90, 90, -90, 90)\n",
    "J = '', (0, 90, 0, 0, 90, 90, 0, -90, 90, 90)\n",
    "L = '', (0, 90, 90, -90, 0, 90, 90, 0, 0, 90)\n",
    "S = '', (0, 90, -90, 90, 90, 0, 90, -90, 90, 90)\n",
    "Z = '', (0, 90, 90, -90, 90, 0, 90, 90, -90, 90)\n",
    "\n",
    "def tetronimo(c, angles):\n",
    "    down()\n",
    "    dot()\n",
    "    fillcolor(c)\n",
    "    begin_fill()\n",
    "    for a in angles:\n",
    "        forward(d)\n",
    "        left(a)\n",
    "    end_fill()\n",
    "    up()\n",
    "\n",
    "up()\n",
    "backward(280)\n",
    "for (c, angles) in (I, O, T, J, L, S, Z):\n",
    "    tetronimo(c, angles)\n",
    "    forward(4*d)\n",
    "\n",
    "done()\n"
   ]
  },
  {
   "cell_type": "markdown",
   "id": "64ab2a09",
   "metadata": {},
   "source": [
    "### Position et orientation\n",
    "\n",
    "Pour positionner des tétronimos dans un arrangement spécifique, nous devons spécifier les coordonnées de sa position d'origine (marquée avec un point) et son orientation.\n",
    "Nous allons reprendre l'arrangement du chapitre 3.\n",
    "\n"
   ]
  },
  {
   "cell_type": "markdown",
   "id": "c6627b27",
   "metadata": {},
   "source": [
    "![tetris](https://raw.githubusercontent.com/edunumsec2/book/master/src/appr/prog1/media/tetris2.png)\n",
    "\n",
    "Chaque tétronimo peut être écrite sous forme de\n",
    "\n",
    "- type `t` de tétronimo\n",
    "- position `p`\n",
    "- orientation `h` (heading)\n",
    "\n"
   ]
  },
  {
   "cell_type": "markdown",
   "id": "f353afbb",
   "metadata": {},
   "source": [
    "<h3 style=\"color:teal;background-color:azure;\" > <i class=\"fa fa-pencil\" aria-hidden=\"true\"> </i> &nbsp; Exercice 5 </h3>Ajoutez les tétronimos qui manquent.\n",
    "\n"
   ]
  },
  {
   "cell_type": "code",
   "execution_count": null,
   "id": "1572ccca",
   "metadata": {},
   "outputs": [],
   "source": [
    "from turtle import *\n",
    "speed(0)\n",
    "d = 20      # dimension de base\n",
    "\n",
    "I = 'cyan', (0, 0, 0, 90, 90, 0, 0, 0, 90, 90)\n",
    "O = 'yellow', (0, 90, 0, 90, 0, 90, 0, 90)\n",
    "T = 'magenta', (90, -90, 90, 90, 0, 0, 90, 90, -90, 90)\n",
    "J = 'blue', (0, 90, 0, 0, 90, 90, 0, -90, 90, 90)\n",
    "L = 'orange', (0, 90, 90, -90, 0, 90, 90, 0, 0, 90)\n",
    "S = 'lime', (0, 90, -90, 90, 90, 0, 90, -90, 90, 90)\n",
    "Z = 'red', (0, 90, 90, -90, 90, 0, 90, 90, -90, 90)\n",
    "\n",
    "tetris = (  (O, (0, 0), 0),     # tetronimo, position, orientation\n",
    "            (S, (2, 0), 0),\n",
    "            (T, (6, 2), 180),\n",
    "            (J, (7, 0), 0),\n",
    "            (I, (10, 0), 90),\n",
    "            (L, (0, 4), -90))\n",
    "\n",
    "def tetronimo(c, angles):\n",
    "    down()\n",
    "    dot()\n",
    "    fillcolor(c)\n",
    "    begin_fill()\n",
    "    for a in angles:\n",
    "        forward(d)\n",
    "        left(a)\n",
    "    end_fill()\n",
    "    up()\n",
    "\n",
    "for (t, p, h) in tetris:\n",
    "    seth(h)\n",
    "    goto(p[0]*d, p[1]*d)\n",
    "    c, angles = t\n",
    "    tetronimo(c, angles)\n",
    "\n",
    "done()\n"
   ]
  },
  {
   "cell_type": "markdown",
   "id": "d54ae983",
   "metadata": {},
   "source": [
    "## Tangram\n",
    "\n",
    "Le tangram, « sept planches de la ruse », ou jeu des sept pièces, est une sorte de puzzle chinois. C'est une dissection du carré en sept pièces élémentaires. Des dissections plus générales, de formes différentes, sont également appelées tangrams.\n",
    "\n"
   ]
  },
  {
   "cell_type": "markdown",
   "id": "5ad9cb58",
   "metadata": {},
   "source": [
    "![tangram](https://raw.githubusercontent.com/edunumsec2/book/master/src/appr/prog1/media/tangram0.png)\n",
    "\n",
    "Nous traitons le carré de base comme ayant 4x4 unités. Ceci nous les 5 formes de base :\n",
    "\n",
    "- 2 triangles avec hypoténuse 4\n",
    "- 1 triangle avec hypoténuse 2.82\n",
    "- 1 triangles avec hypoténuse 2\n",
    "- 1 carré avec côté 1.41\n",
    "- 1 paraléllipiède de coté 2 et 1.41\n",
    "\n"
   ]
  },
  {
   "cell_type": "markdown",
   "id": "d01a4eda",
   "metadata": {},
   "source": [
    "### Formes\n",
    "\n",
    "Cette fois nous allons représenter les formes avec des tuples`(d, a)`, distance-angle. Le grand triangle est décrit avec ce tuple.\n",
    "\n"
   ]
  },
  {
   "cell_type": "code",
   "execution_count": null,
   "id": "747fb796",
   "metadata": {},
   "outputs": [],
   "source": [
    "from turtle import *\n",
    "D = 80\n",
    "triangle = ((4, 135), (2.82, 90), (2.82, 135))\n",
    "\n",
    "backward(2*D)\n",
    "for (d, a) in triangle:\n",
    "    forward(d/2*D)\n",
    "    write(d)\n",
    "    forward(d/2*D)\n",
    "    left(a)\n",
    "    write(a)\n",
    "\n",
    "done()\n"
   ]
  },
  {
   "cell_type": "markdown",
   "id": "ca7a1082",
   "metadata": {},
   "source": [
    "De la même façons nous procédons a décrire toutes les formes.\n",
    "\n"
   ]
  },
  {
   "cell_type": "code",
   "execution_count": null,
   "id": "a918daee",
   "metadata": {},
   "outputs": [],
   "source": [
    "from turtle import *\n",
    "\n",
    "D = 40\n",
    "\n",
    "T = ((4, 135), (2.82, 90), (2.82, 135))\n",
    "T2 = ((2.82, 135), (2, 90), (2, 135))\n",
    "T3 = ((2, 135), (1.41, 90), (1.41, 135))\n",
    "S = ((1.41, 90),(1.41, 90),(1.41, 90),(1.41, 90))\n",
    "L = ((2, 45), (1.41, 135), (2, 45), (1.41, 135))\n",
    "\n",
    "def polygon(poly):\n",
    "    down()\n",
    "    dot()\n",
    "    for (d, a) in poly:\n",
    "        forward(d*D)\n",
    "        left(a)\n",
    "    up()\n",
    "\n",
    "backward(250)\n",
    "for s in T, T2, T3, S, L:\n",
    "    polygon(s)\n",
    "    forward(100)\n",
    "\n",
    "done()\n"
   ]
  },
  {
   "cell_type": "markdown",
   "id": "a0bbc67d",
   "metadata": {},
   "source": [
    "### Positions et orientation\n",
    "\n",
    "Pour désigner une forme spécifique, nous utilisons un tuple avec 7 éléments qui contient un deuxième tuple `(piece, p, h)`\n",
    "\n",
    "- piece\n",
    "- position\n",
    "- orientation\n",
    "\n",
    "Voici le puzzle de base:\n",
    "\n"
   ]
  },
  {
   "cell_type": "code",
   "execution_count": null,
   "id": "ef75308b",
   "metadata": {},
   "outputs": [],
   "source": [
    "from turtle import *\n",
    "\n",
    "D = 40  # distance de base\n",
    "\n",
    "T = ((4, 135), (2.82, 90), (2.82, 135))             # grand triangle\n",
    "T2 = ((2.82, 135), (2, 90), (2, 135))               # moyen triangle\n",
    "T3 = ((2, 135), (1.41, 90), (1.41, 135))            # petit triangle\n",
    "C = ((1.41, 90),(1.41, 90),(1.41, 90),(1.41, 90))   # carré\n",
    "L = ((2, 45), (1.41, 135), (2, 45), (1.41, 135))    # losange\n",
    "\n",
    "square =  ((T, (0, 0), 0),      # piece, position, orientation\n",
    "           (T, (0, 4), -90),\n",
    "           (T2, (2, 4), -45),\n",
    "           (T3, (2, 4), -180),\n",
    "           (T3, (3, 1), 90),\n",
    "           (C, (2, 2), 45),\n",
    "           (L, (4, 0), 90))\n",
    "\n",
    "def polygon(poly):\n",
    "    down()\n",
    "    dot()\n",
    "    for (d, a) in poly:\n",
    "        forward(d*D)\n",
    "        left(a)\n",
    "    up()\n",
    "\n",
    "def tangram(pieces):\n",
    "    for (poly, p, h) in pieces:\n",
    "        goto(p[0]*D, p[1]*D)\n",
    "        seth(h)\n",
    "        polygon(poly)\n",
    "\n",
    "tangram(square)\n",
    "\n",
    "done()\n"
   ]
  },
  {
   "cell_type": "markdown",
   "id": "bb8c55f0",
   "metadata": {},
   "source": [
    "## Sudoku\n",
    "\n"
   ]
  },
  {
   "cell_type": "code",
   "execution_count": null,
   "id": "95f78c1b",
   "metadata": {},
   "outputs": [],
   "source": [
    "from turtle import *\n",
    "speed(0)\n",
    "up()\n",
    "\n",
    "def ligne(p, q):\n",
    "    goto(p)\n",
    "    down()\n",
    "    goto(q)\n",
    "    up()\n",
    "\n",
    "def grid(p, d):\n",
    "    x0, y0 = p\n",
    "    x1 = x0 + 9*d\n",
    "    y1 = y0 + 9*d\n",
    "\n",
    "    for i in range(10):\n",
    "        y = y0 + i*d\n",
    "        width(3 if i%3 == 0 else 1)\n",
    "        ligne((x0, y), (x1, y))\n",
    "\n",
    "    for i in range(10):\n",
    "        x = x0 + i*d\n",
    "        width(3 if i%3 == 0 else 1)\n",
    "        ligne((x, y0), (x, y1))\n",
    "\n",
    "grid((50, 0), 20)\n",
    "grid((-280, -180), 30)\n",
    "\n",
    "done()\n"
   ]
  },
  {
   "cell_type": "code",
   "execution_count": null,
   "id": "3a21961d",
   "metadata": {},
   "outputs": [],
   "source": [
    "from turtle import *\n",
    "\n",
    "sudoku = ((5, 3, 0, 0, 7, 0, 0, 0, 0),\n",
    "          (6, 0, 0, 1, 9, 5, 0, 0, 0),\n",
    "          (0, 9, 8, 0, 0, 0, 0, 6, 0),\n",
    "          (8, 0, 0, 0, 6, 0, 0, 0, 3),\n",
    "          (4, 0, 0, 8, 0, 3, 0, 0, 1),\n",
    "          (7, 0, 0, 0, 2, 0, 0, 0, 6),\n",
    "          (0, 6, 0, 0, 0, 0, 2, 8, 0),\n",
    "          (0, 0, 0, 4, 1, 9, 0, 0, 5),\n",
    "          (0, 0, 0, 0, 8, 0, 0, 7, 9))\n",
    "\n",
    "up()\n",
    "speed(0)\n",
    "p = (-100, 100)\n",
    "d = 20\n",
    "\n",
    "x, y = p\n",
    "for line in sudoku:\n",
    "    for i in line:\n",
    "        goto(x, y)\n",
    "        if i:\n",
    "            write(i)\n",
    "        x += d\n",
    "    x = p[0]\n",
    "    y -= d\n",
    "\n",
    "done()\n"
   ]
  },
  {
   "cell_type": "markdown",
   "id": "e8760f6d",
   "metadata": {},
   "source": [
    "## Scrabble\n",
    "\n",
    "Le [Scrabble](https://fr.wikipedia.org/wiki/Scrabble) est un jeu de société et un jeu de lettres où l'objectif est de cumuler des points, sur la base de tirages aléatoires de lettres, en créant des mots sur une grille carrée.\n",
    "Le jeu a été conçu par l'architecte new-yorkais Alfred Mosher Butts pendant la crise de 1929, et publié en 1931.\n",
    "\n"
   ]
  },
  {
   "cell_type": "markdown",
   "id": "8d35cbaa",
   "metadata": {},
   "source": [
    "### Dessiner une case\n",
    "\n",
    "Chaque lettre doit être placée au centre d'une case.\n",
    "Avec `x, y = pos()` nous mémorisons d'abord la position de départ dans deux variables locales. Ceci nous permet de placer la tortue au centre pour écrire la lettre, et à la fin, d'avancer à la prochaine case.\n",
    "\n"
   ]
  },
  {
   "cell_type": "markdown",
   "id": "f4f5896f",
   "metadata": {},
   "source": [
    "<h3 style=\"color:teal;background-color:azure;\" > <i class=\"fa fa-pencil\" aria-hidden=\"true\"> </i> &nbsp; Exercice 6 </h3>Positionnez la lettre pour qu'elle apparaisse au milieu de la case.  \n",
    "Il faudra modifier la commande `goto(x+d/2, y)`.\n",
    "\n"
   ]
  },
  {
   "cell_type": "code",
   "execution_count": null,
   "id": "3dd8536c",
   "metadata": {},
   "outputs": [],
   "source": [
    "from turtle import *\n",
    "\n",
    "def box(d, c):\n",
    "    x, y = pos()        # mémoriser la position de départ\n",
    "    down()\n",
    "    for i in range(4):  # dessiner un carré\n",
    "        forward(d)\n",
    "        left(90)\n",
    "    up()\n",
    "    goto(x+d/2, y)      # position pour écrire la lettre\n",
    "    dot()               # marquer\n",
    "    write(c, font=(None, d//2), align='center')\n",
    "    goto(x+d, y)        # avancer à la prochaine case\n",
    "\n",
    "speed(0)\n",
    "backward(200)\n",
    "for c in 'SCRABBLE':\n",
    "    box(50, c)\n",
    "\n",
    "done()\n"
   ]
  },
  {
   "cell_type": "markdown",
   "id": "fab764c6",
   "metadata": {},
   "source": [
    "### Dessiner le plateau\n",
    "\n",
    "Pour représenter le plateau des 15x15 cases, nous utilisons un tuple `scrabble` avec 15 chaines de caractères de longueur 15.\n",
    "\n",
    "Nous parcourons les lettre de chaque ligne pour afficher les cases vides et remplies.\n",
    "\n",
    "Essayons de reproduire cet état à l'aide du tuple `scrabble`.\n",
    "\n"
   ]
  },
  {
   "cell_type": "markdown",
   "id": "04c83d3f",
   "metadata": {},
   "source": [
    "![scrabble](https://raw.githubusercontent.com/edunumsec2/book/master/src/appr/prog1/media/scrabble.jpg)\n",
    "\n"
   ]
  },
  {
   "cell_type": "markdown",
   "id": "34dfeb47",
   "metadata": {},
   "source": [
    "<h3 style=\"color:teal;background-color:azure;\" > <i class=\"fa fa-pencil\" aria-hidden=\"true\"> </i> &nbsp; Exercice 7 </h3>Ajoutez les 3 dernière lignes qui manquent dans la définition de `scrabble`.\n",
    "\n"
   ]
  },
  {
   "cell_type": "code",
   "execution_count": null,
   "id": "9df59ebf",
   "metadata": {},
   "outputs": [],
   "source": [
    "from turtle import *\n",
    "\n",
    "scrabble = (' F     D  EGGS ',\n",
    "            ' R B  BUZZ  O  ',\n",
    "            'MUSIC  C E  ARM',\n",
    "            ' I C   K BOAT O',\n",
    "            ' TOY S   R    N',\n",
    "            '   C H   ARCADE',\n",
    "            '   L E T   A  Y',\n",
    "            '  TELEVISION   ',\n",
    "            '     P G   DOG ',\n",
    "            '    J  E BOY R ',\n",
    "            '   WATER     AX',\n",
    "            '    C      B P ')\n",
    "\n",
    "def box(d, c):\n",
    "    x, y = pos()        # mémoriser la position de départ\n",
    "    down()\n",
    "    for i in range(4):  # dessiner un carré\n",
    "        forward(d)\n",
    "        left(90)\n",
    "    up()\n",
    "    goto(x+d/2, y+d/4)  # position pour écrire la lettre\n",
    "    write(c, font=(None, d//2), align='center')\n",
    "    goto(x+d, y)        # avancer à la prochaine case\n",
    "\n",
    "up()\n",
    "speed(0)\n",
    "x, y = p = (-100, 100)\n",
    "d = 20\n",
    "\n",
    "for line in scrabble:\n",
    "    for c in line:\n",
    "        goto(x, y)\n",
    "        box(d, c)\n",
    "        x += d\n",
    "    x = p[0]\n",
    "    y -= d\n",
    "\n",
    "done()\n"
   ]
  },
  {
   "cell_type": "markdown",
   "id": "958e4513",
   "metadata": {},
   "source": [
    "## Multiples polygones\n",
    "\n",
    "Pour transformer une image en multiples polygones, nous pouvons placer une grille sur l'image ou imprimer l'image sur du papier carré.\n",
    "\n"
   ]
  },
  {
   "cell_type": "markdown",
   "id": "0fc71ff3",
   "metadata": {},
   "source": [
    "![bird](https://raw.githubusercontent.com/edunumsec2/book/master/src/appr/prog1/media/poly_bird.jpg)\n",
    "\n",
    "L'image origami de l'oiseau est composé de:\n",
    "\n",
    "- 18 points (de 0 à 17)\n",
    "- 7 polygones (de 0 à 6)\n",
    "\n",
    "Nous repérons d'abord toutes les coordonnées des points dans une liste `points`.  Avec un indexage du tuple tel que `point[0]` on peut accéder ou point 0.\n",
    "\n",
    "Les 7 polygones sont tout simplement des tuples avec les indices des points.\n",
    "\n"
   ]
  },
  {
   "cell_type": "code",
   "execution_count": null,
   "id": "8cd6cbb9",
   "metadata": {},
   "outputs": [],
   "source": [
    "from turtle import *\n",
    "\n",
    "points = ((19, 3), (27, 17), (22, 48), (30, 0), (42, 38),\n",
    "          (32, 54), (30, 53),  (12, 85), (2, 87), (64, 50),\n",
    "          (61, 72), (8, 92), (80, 57), (85, 78),(68, 80),\n",
    "          (58, 73), (83, 68), (94, 60))\n",
    "\n",
    "polygons = ((0, 1, 2),\n",
    "            (3, 4, 5, 2),\n",
    "            (6, 5, 7, 8),\n",
    "            (4, 9, 10, 11),\n",
    "            (9, 12, 10),\n",
    "            (12, 13, 14, 15, 10),\n",
    "            (16, 17, 13))\n",
    "\n",
    "up()\n",
    "i = 0\n",
    "for p in points:\n",
    "    goto(-150 + 3 *p[0], -150 + 3*p[1])\n",
    "    dot(p)\n",
    "    write(i)\n",
    "    i = i + 1\n",
    "\n",
    "done()\n"
   ]
  },
  {
   "cell_type": "markdown",
   "id": "cc91fcfc",
   "metadata": {},
   "source": [
    "Pour dessiner multiples polygones, nous devons parcourir la liste des polygones.\n",
    "Pour chaque polygone nous parcourons ses points.\n",
    "\n",
    "Avec les deux tuples `pos` et `size` nous pouvons choisir la position et la taille des polygones.\n",
    "\n",
    "```{python}\n",
    "goto(pos[0] + size[0] * p[0], pos[1] + size[1] * p[1])\n",
    "```\n",
    "\n",
    "Pour fermer le polygone, nous revenons sur le premier point de la liste.\n",
    "\n",
    "```{python}\n",
    "p = points[poly[0]]\n",
    "goto(pos[0] + size[0] * p[0], pos[1] + size[1] * p[1])\n",
    "````\n",
    "\n"
   ]
  },
  {
   "cell_type": "code",
   "execution_count": null,
   "id": "6fa639e3",
   "metadata": {},
   "outputs": [],
   "source": [
    "from turtle import *\n",
    "\n",
    "points = ((19, 3), (27, 17), (22, 48), (30, 0), (42, 38),\n",
    "          (32, 54), (30, 53),  (12, 85), (2, 87), (64, 50),\n",
    "          (61, 72), (8, 92), (80, 57), (85, 78),(68, 80),\n",
    "          (58, 73), (83, 68), (94, 60))\n",
    "\n",
    "polygons = ((0, 1, 2),\n",
    "            (3, 4, 5, 2),\n",
    "            (6, 5, 7, 8),\n",
    "            (4, 9, 10, 11),\n",
    "            (9, 12, 10),\n",
    "            (12, 13, 14, 15, 10),\n",
    "            (16, 17, 13))\n",
    "\n",
    "up()\n",
    "i = 0\n",
    "pos = (-150, -150)\n",
    "size = (3, 3)\n",
    "for poly in polygons:\n",
    "    for i in poly:\n",
    "        p = points[i]\n",
    "        goto(pos[0] + size[0] * p[0], pos[1] + size[1] * p[1])\n",
    "        down()\n",
    "        dot(p)\n",
    "        write(i)\n",
    "    p = points[poly[0]]\n",
    "    goto(pos[0] + size[0] * p[0], pos[1] + size[1] * p[1])\n",
    "    up()\n",
    "\n",
    "done()\n"
   ]
  },
  {
   "cell_type": "markdown",
   "id": "68884264",
   "metadata": {},
   "source": [
    "## Exercices\n",
    "\n"
   ]
  },
  {
   "cell_type": "markdown",
   "id": "1f932648",
   "metadata": {},
   "source": [
    "### Pixelart\n",
    "\n",
    "Choisissez un animal et produisez une image avec 8x8 pixels.\n",
    "\n"
   ]
  },
  {
   "cell_type": "markdown",
   "id": "9dcf8d8c",
   "metadata": {},
   "source": [
    "![pixelart](https://raw.githubusercontent.com/edunumsec2/book/master/src/appr/prog1/media/pixelart_8x8.png)\n",
    "\n"
   ]
  },
  {
   "cell_type": "code",
   "execution_count": null,
   "id": "ae10d85a",
   "metadata": {},
   "outputs": [],
   "source": [
    "from turtle import *\n",
    "\n",
    "d = 20\n",
    "palette = ('red',)\n",
    "image = ((0,),)\n",
    "\n",
    "def pixel(d, c):\n",
    "    fillcolor(c)\n",
    "    begin_fill()\n",
    "    for i in range(4):\n",
    "        forward(d)\n",
    "        right(90)\n",
    "    end_fill()\n",
    "\n",
    "def pixelart(image, palette, d=20, w=1, pen='black'):\n",
    "    for line in image:\n",
    "        for i in line:\n",
    "            c = palette[i]\n",
    "            pixel(d, c)\n",
    "        backward(len(line)*d)\n",
    "        sety(ycor()-d)\n",
    "\n",
    "pixelart(image, palette)\n",
    "\n",
    "done()\n"
   ]
  },
  {
   "cell_type": "markdown",
   "id": "faafdb47",
   "metadata": {},
   "source": [
    "### Tetris\n",
    "\n",
    "Utilisez un tuple pour décrire type, position et orientation de chaque tétronimo.\n",
    "\n"
   ]
  },
  {
   "cell_type": "markdown",
   "id": "fd07e268",
   "metadata": {},
   "source": [
    "![tetris](https://raw.githubusercontent.com/edunumsec2/book/master/src/appr/prog1/media/tetris_8x5.png)\n",
    "\n"
   ]
  },
  {
   "cell_type": "code",
   "execution_count": null,
   "id": "d40a18bb",
   "metadata": {},
   "outputs": [],
   "source": [
    "from turtle import *\n",
    "speed(0)\n",
    "d = 20      # dimension de base\n",
    "\n",
    "I = 'cyan', (0, 0, 0, 90, 90, 0, 0, 0, 90, 90)\n",
    "O = 'yellow', (0, 90, 0, 90, 0, 90, 0, 90)\n",
    "T = 'magenta', (90, -90, 90, 90, 0, 0, 90, 90, -90, 90)\n",
    "J = 'blue', (0, 90, 0, 0, 90, 90, 0, -90, 90, 90)\n",
    "L = 'orange', (0, 90, 90, -90, 0, 90, 90, 0, 0, 90)\n",
    "S = 'lime', (0, 90, -90, 90, 90, 0, 90, -90, 90, 90)\n",
    "Z = 'red', (0, 90, 90, -90, 90, 0, 90, 90, -90, 90)\n",
    "\n",
    "tetris = (  (O, (0, 0), 0),     # tetronimo, position, orientation\n",
    "        )\n",
    "\n",
    "def tetronimo(c, angles):\n",
    "    down()\n",
    "    dot()\n",
    "    fillcolor(c)\n",
    "    begin_fill()\n",
    "    for a in angles:\n",
    "        forward(d)\n",
    "        left(a)\n",
    "    end_fill()\n",
    "    up()\n",
    "\n",
    "for (t, p, h) in tetris:\n",
    "    seth(h)\n",
    "    goto(p[0]*d, p[1]*d)\n",
    "    c, angles = t\n",
    "    tetronimo(c, angles)\n",
    "\n",
    "done()"
   ]
  },
  {
   "cell_type": "markdown",
   "id": "c6ee934c",
   "metadata": {},
   "source": [
    "---\n",
    "\n",
    "#### Remarque générale\n",
    "\n",
    "Ce document est une adaptation d'un ressource pédagogique tiré du catalogue modulo https://modulo-info.ch/. Il est sous license Creative Commons [BY-NC-SA](https://creativecommons.org/licenses/?lang=fr)\n",
    "![Licence Creative Commons](https://i.creativecommons.org/l/by-nc-sa/4.0/88x31.png)\n",
    "\n",
    "    "
   ]
  }
 ],
 "metadata": {
  "kernelspec": {
   "display_name": "Python 3 (ipykernel)",
   "language": "python",
   "name": "python3"
  },
  "language_info": {
   "codemirror_mode": {
    "name": "ipython",
    "version": 3
   },
   "file_extension": ".py",
   "mimetype": "text/x-python",
   "name": "python",
   "nbconvert_exporter": "python",
   "pygments_lexer": "ipython3",
   "version": "3.10.12"
  }
 },
 "nbformat": 4,
 "nbformat_minor": 5
}
