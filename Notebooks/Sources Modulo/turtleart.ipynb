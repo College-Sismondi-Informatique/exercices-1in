{
 "cells": [
  {
   "cell_type": "markdown",
   "id": "309a1991",
   "metadata": {},
   "source": [
    "# TurtleArt\n",
    "\n",
    "Dans ce chapitre, nous présentons toute une série d'idées artistiques, inspirées du travail d'Artemis Papert que vous trouvez sur le site [TurtleArt](https://turtleart.org).\n",
    "\n",
    "*La créativité, c'est l'intelligence qui s'amuse.*  \n",
    "– Albert Einstein\n",
    "\n"
   ]
  },
  {
   "cell_type": "markdown",
   "id": "c0e12b63",
   "metadata": {},
   "source": [
    "<h3 style=\"color:chocolate;background-color:papayawhip;\" > <i class=\"fa fa-question\" aria-hidden=\"true\"> </i> &nbsp; Quizz </h3> \n",
    " \n",
    "```\n",
    "Quand vous programmez, vous pouvez\n",
    "\n",
    "A) créer\n",
    "B) inventer\n",
    "C) explorer\n",
    "D) comprendre\n",
    "```"
   ]
  },
  {
   "cell_type": "raw",
   "id": "09b9c47a",
   "metadata": {},
   "source": [
    "Réponse : \n"
   ]
  },
  {
   "cell_type": "markdown",
   "id": "50bd03d8",
   "metadata": {},
   "source": [
    "## Étoile\n",
    "\n",
    "Une **étoile** est un point lumineux dans le ciel nocturne, et par extension, une figure géométrique représentant des rayons partant du centre.\n",
    "\n"
   ]
  },
  {
   "cell_type": "code",
   "execution_count": null,
   "id": "fcc6618f",
   "metadata": {},
   "outputs": [],
   "source": [
    "from turtle import *\n",
    "\n",
    "dot(1000, 'midnightblue')\n",
    "color('white')\n",
    "width(1)\n",
    "\n",
    "n = 10\n",
    "for i in range(n):\n",
    "    forward(150)\n",
    "    backward(150)\n",
    "    left(360/n)\n",
    "\n",
    "done()\n"
   ]
  },
  {
   "cell_type": "markdown",
   "id": "61045c9f",
   "metadata": {},
   "source": [
    "## Diaphragme\n",
    "\n",
    "Un **diaphragme** est un élément mécanique sur le trajet lumineux d'un appareil photo pour régler la quantité de lumière.\n",
    "\n"
   ]
  },
  {
   "cell_type": "code",
   "execution_count": null,
   "id": "94e8a1bb",
   "metadata": {},
   "outputs": [],
   "source": [
    "from turtle import *\n",
    "\n",
    "dot(1000, 'beige')\n",
    "color('brown')\n",
    "width(3)\n",
    "\n",
    "n = 10\n",
    "for i in range(n):\n",
    "    forward(150)\n",
    "    backward(130)\n",
    "    left(360/n)\n",
    "\n",
    "done()\n"
   ]
  },
  {
   "cell_type": "markdown",
   "id": "a622d578",
   "metadata": {},
   "source": [
    "## Fleur\n",
    "\n",
    "Les **fleurs** ont souvent inspiré les artistes, peintres, poètes, sculpteurs et décorateurs.\n",
    "\n"
   ]
  },
  {
   "cell_type": "code",
   "execution_count": null,
   "id": "b1edf66a",
   "metadata": {},
   "outputs": [],
   "source": [
    "from turtle import *\n",
    "\n",
    "dot(1000, 'pink')\n",
    "color('crimson')\n",
    "width(3)\n",
    "\n",
    "def square(d):\n",
    "    for i in range(4):\n",
    "        forward(d)\n",
    "        left(90)\n",
    "\n",
    "n = 10\n",
    "for i in range(n):\n",
    "    square(100)\n",
    "    left(360/n)\n",
    "\n",
    "done()\n"
   ]
  },
  {
   "cell_type": "markdown",
   "id": "23513531",
   "metadata": {},
   "source": [
    "## Laser\n",
    "\n",
    "Le **laser** est un système photonique qui produit un rayonnement lumineux spatialement et temporellement cohérent.\n",
    "\n"
   ]
  },
  {
   "cell_type": "code",
   "execution_count": null,
   "id": "7cd9c252",
   "metadata": {},
   "outputs": [],
   "source": [
    "from turtle import *\n",
    "\n",
    "dot(1000, 'yellow')\n",
    "color('red')\n",
    "width(1)\n",
    "up()\n",
    "\n",
    "def dashes(d, n):\n",
    "    for i in range(n):\n",
    "        forward(d/2)\n",
    "        down()\n",
    "        forward(d)\n",
    "        up()\n",
    "\n",
    "n = 10\n",
    "for i in range(n):\n",
    "    goto(0, 0)\n",
    "    dashes(30, 4)\n",
    "    left(360/n)\n",
    "\n",
    "done()\n"
   ]
  },
  {
   "cell_type": "markdown",
   "id": "4d976d2f",
   "metadata": {},
   "source": [
    "## Yin et yang\n",
    "\n",
    "Dans la philosophie chinoise, le **yin** et le **yang** sont deux catégories complémentaires qui sont utilisées dans l'analyse de tous les phénomènes de la vie et du cosmos.\n",
    "\n"
   ]
  },
  {
   "cell_type": "code",
   "execution_count": null,
   "id": "13bd7520",
   "metadata": {},
   "outputs": [],
   "source": [
    "from turtle import *\n",
    "\n",
    "dot(1000, 'skyblue')\n",
    "color('navy')\n",
    "width(2)\n",
    "left(90)\n",
    "\n",
    "begin_fill()\n",
    "circle(-50, 180)\n",
    "circle(50, 180)\n",
    "circle(100, 180)\n",
    "end_fill()\n",
    "circle(100, 180)\n",
    "\n",
    "up()\n",
    "left(90)\n",
    "forward(50)\n",
    "dot(30, 'skyblue')\n",
    "forward(100)\n",
    "dot(30, 'navy')\n",
    "\n",
    "done()\n"
   ]
  },
  {
   "cell_type": "markdown",
   "id": "646710f0",
   "metadata": {},
   "source": [
    "## Soleil\n",
    "\n",
    "Le **Soleil** est l’étoile de notre système solaire.\n",
    "\n"
   ]
  },
  {
   "cell_type": "code",
   "execution_count": null,
   "id": "6bbd0e44",
   "metadata": {},
   "outputs": [],
   "source": [
    "from turtle import *\n",
    "\n",
    "dot(1000, 'orange')\n",
    "color('yellow')\n",
    "width(3)\n",
    "\n",
    "def wave(r, n):\n",
    "    down()\n",
    "    for i in range(n):\n",
    "        circle(r, 120)\n",
    "        circle(-r, 120)\n",
    "    up()\n",
    "\n",
    "n = 10\n",
    "for i in range(n):\n",
    "    goto(0, 0)\n",
    "    wave(20, 2)\n",
    "    left(360/n)\n",
    "\n",
    "done()\n"
   ]
  },
  {
   "cell_type": "markdown",
   "id": "ec290f75",
   "metadata": {},
   "source": [
    "## Carrés\n",
    "\n",
    "Un **carré** est un quadrilatère isométrique avec quatre angles droits.\n",
    "\n"
   ]
  },
  {
   "cell_type": "code",
   "execution_count": null,
   "id": "9a171703",
   "metadata": {},
   "outputs": [],
   "source": [
    "from turtle import *\n",
    "\n",
    "dot(1000, 'honeydew')\n",
    "color('teal')\n",
    "width(3)\n",
    "\n",
    "def square(d):\n",
    "    for i in range(4):\n",
    "        forward(d)\n",
    "        left(90)\n",
    "\n",
    "for d in range(20, 160, 20):\n",
    "    square(d)\n",
    "\n",
    "done()\n"
   ]
  },
  {
   "cell_type": "markdown",
   "id": "bc3bc82a",
   "metadata": {},
   "source": [
    "## Spirale\n",
    "\n",
    "Une **spirale** est une courbe qui commence en un point central puis s'en éloigne de plus en plus, en même temps qu'elle tourne autour.\n",
    "\n"
   ]
  },
  {
   "cell_type": "code",
   "execution_count": null,
   "id": "1e90fdad",
   "metadata": {},
   "outputs": [],
   "source": [
    "from turtle import *\n",
    "\n",
    "dot(1000, 'teal')\n",
    "color('yellow')\n",
    "width(2)\n",
    "\n",
    "for d in range(10, 300, 10):\n",
    "    forward(d)\n",
    "    right(91)\n",
    "\n",
    "done()\n"
   ]
  },
  {
   "cell_type": "markdown",
   "id": "f0aa5ce0",
   "metadata": {},
   "source": [
    "## Moulin\n",
    "\n",
    "Un **moulin à vent** est un jouet composé d'une roue munie de pales en papier dont la forme lui permet de tourner quand on souffle dessus.\n",
    "\n"
   ]
  },
  {
   "cell_type": "code",
   "execution_count": null,
   "id": "ce60efc1",
   "metadata": {},
   "outputs": [],
   "source": [
    "from turtle import *\n",
    "\n",
    "dot(1000, 'azure')\n",
    "color('red', 'pink')\n",
    "width(3)\n",
    "\n",
    "def triangle(d):\n",
    "    begin_fill()\n",
    "    for i in range(3):\n",
    "        forward(d)\n",
    "        right(120)\n",
    "    end_fill()\n",
    "\n",
    "n = 10\n",
    "for i in range(n):\n",
    "    forward(90)\n",
    "    triangle(90)\n",
    "    backward(90)\n",
    "    right(360/n)\n",
    "\n",
    "done()\n"
   ]
  },
  {
   "cell_type": "markdown",
   "id": "ce3fa588",
   "metadata": {},
   "source": [
    "## Disques\n",
    "\n",
    "Un **disque** est un objet plat circulaire.\n",
    "\n"
   ]
  },
  {
   "cell_type": "code",
   "execution_count": null,
   "id": "bdae9b1f",
   "metadata": {},
   "outputs": [],
   "source": [
    "from turtle import *\n",
    "from random import *\n",
    "\n",
    "dot(1000, 'lavender')\n",
    "up()\n",
    "\n",
    "n = 60\n",
    "for i in range(20):\n",
    "    x = randrange(-300+n, 300, n)\n",
    "    y = randrange(-200+n, 200, n)\n",
    "    goto(x, y)\n",
    "    dot(n, 'fuchsia')\n",
    "\n",
    "done()\n"
   ]
  },
  {
   "cell_type": "markdown",
   "id": "715a8dd9",
   "metadata": {},
   "source": [
    "## Œillet\n",
    "\n",
    "L'**œillet** rouge est un des symboles du mouvement ouvrier. En France tout particulièrement, on porte un œillet rouge à la boutonnière pour la fête du Travail.\n",
    "\n"
   ]
  },
  {
   "cell_type": "code",
   "execution_count": null,
   "id": "d5d4991e",
   "metadata": {},
   "outputs": [],
   "source": [
    "from turtle import *\n",
    "\n",
    "dot(1000, 'aliceblue')\n",
    "width(2)\n",
    "\n",
    "def petale(r):\n",
    "    begin_fill()\n",
    "    for i in range(2):\n",
    "        circle(r, 90)\n",
    "        left(90)\n",
    "    end_fill()\n",
    "\n",
    "color('green', 'lime')\n",
    "petale(40)\n",
    "left(90)\n",
    "forward(30)\n",
    "petale(40)\n",
    "forward(90)\n",
    "color('fuchsia', 'pink')\n",
    "n = 5\n",
    "for i in range(n):\n",
    "    petale(30)\n",
    "    left(360/n)\n",
    "\n",
    "done()\n"
   ]
  },
  {
   "cell_type": "markdown",
   "id": "84a73f5f",
   "metadata": {},
   "source": [
    "## Cœur\n",
    "\n",
    "Le **cœur** est un organe musculaire qui assure la circulation du sang dans le corps à travers des contractions rythmiques.\n",
    "\n"
   ]
  },
  {
   "cell_type": "code",
   "execution_count": null,
   "id": "d8bd30e7",
   "metadata": {},
   "outputs": [],
   "source": [
    "from turtle import *\n",
    "dot(1000, 'pink')\n",
    "\n",
    "r = 40\n",
    "left(45)\n",
    "fillcolor('red')\n",
    "\n",
    "begin_fill()\n",
    "forward(2 * r)\n",
    "circle(r, 180)\n",
    "right(90)\n",
    "circle(r, 180)\n",
    "forward(2 * r)\n",
    "end_fill()\n",
    "\n",
    "done()\n"
   ]
  },
  {
   "cell_type": "markdown",
   "id": "a8b75e26",
   "metadata": {},
   "source": [
    "## Comics\n",
    "\n",
    "Un **phylactère**, également appelé bulle ou ballon, est un élément graphique permettant de placer le texte d'un dialogue dans une bande dessinée.\n",
    "\n"
   ]
  },
  {
   "cell_type": "code",
   "execution_count": null,
   "id": "9a0d34b5",
   "metadata": {},
   "outputs": [],
   "source": [
    "from turtle import *\n",
    "\n",
    "dot(1000, 'skyblue')\n",
    "fillcolor('white')\n",
    "\n",
    "begin_fill()\n",
    "left(50)\n",
    "forward(50)\n",
    "right(50)\n",
    "forward(170)\n",
    "circle(40, 180)\n",
    "forward(200)\n",
    "circle(40, 180)\n",
    "goto(0, 0)\n",
    "end_fill()\n",
    "\n",
    "up()\n",
    "goto(30, 60)\n",
    "color('black')\n",
    "write('hello', font=('Courier', 32))\n",
    "\n",
    "done()\n"
   ]
  },
  {
   "cell_type": "markdown",
   "id": "0eb05a1d",
   "metadata": {},
   "source": [
    "## Arbre\n",
    "\n",
    "La **récursivité** est une démarche dont la description mène à la répétition d'une même règle.\n",
    "\n"
   ]
  },
  {
   "cell_type": "code",
   "execution_count": null,
   "id": "65f99b77",
   "metadata": {},
   "outputs": [],
   "source": [
    "from turtle import *\n",
    "\n",
    "dot(1000, 'lightgreen')\n",
    "color('brown')\n",
    "\n",
    "def branche(d, n, angle=50):\n",
    "    width(n)\n",
    "    forward(d)\n",
    "    if n > 1:\n",
    "        left(angle)\n",
    "        branche(d-10, n-1)\n",
    "        right(2 * angle)\n",
    "        branche(d-10, n-1)\n",
    "        left(angle)\n",
    "    backward(d)\n",
    "\n",
    "left(90)\n",
    "backward(70)\n",
    "branche(70, 6, 60)\n",
    "\n",
    "done()\n"
   ]
  },
  {
   "cell_type": "markdown",
   "id": "4dd11c99",
   "metadata": {},
   "source": [
    "## Bulles\n",
    "\n",
    "Les bulles de savon sont des cercles multicolores.\n",
    "\n"
   ]
  },
  {
   "cell_type": "code",
   "execution_count": null,
   "id": "66e95b15",
   "metadata": {},
   "outputs": [],
   "source": [
    "from turtle import *\n",
    "from random import *\n",
    "up()\n",
    "\n",
    "for i in range(100):\n",
    "    x = randint(-300, 300)\n",
    "    y = randint(-200, 200)\n",
    "    s = randint(20, 100)\n",
    "    goto(x, y)\n",
    "    color(random(), random(), random())\n",
    "    dot(s)\n",
    "\n",
    "done()\n"
   ]
  },
  {
   "cell_type": "markdown",
   "id": "b9d829d8",
   "metadata": {},
   "source": [
    "## Mitsubishi\n",
    "\n",
    "Le nom Mitsubishi (三菱) signifie *trois losanges* ou *trois diamants* ce qui est représenté dans son logo.\n",
    "\n"
   ]
  },
  {
   "cell_type": "code",
   "execution_count": null,
   "id": "991d8420",
   "metadata": {},
   "outputs": [],
   "source": [
    "from turtle import *\n",
    "color('red')\n",
    "hideturtle()\n",
    "\n",
    "def losange():\n",
    "    for a in (60, 120, 60, 120):\n",
    "        forward(100)\n",
    "        left(a)\n",
    "\n",
    "left(60)\n",
    "for i in range(3):\n",
    "    begin_fill()\n",
    "    losange()\n",
    "    end_fill()\n",
    "    left(120)\n",
    "\n",
    "done()\n"
   ]
  },
  {
   "cell_type": "markdown",
   "id": "76e1165d",
   "metadata": {},
   "source": [
    "## Modulo\n",
    "\n",
    "Le nom Modulo fait référence à l'opérateur **modulo** en mathématique `%` et à la structure **modulaire** du cours.\n",
    "\n"
   ]
  },
  {
   "cell_type": "code",
   "execution_count": null,
   "id": "f24795e9",
   "metadata": {},
   "outputs": [],
   "source": [
    "from turtle import *\n",
    "\n",
    "up()\n",
    "d = 60\n",
    "color('indigo')\n",
    "for c in 'modulo':\n",
    "    write(c, font=('Arial', d, 'bold'), move=True)\n",
    "\n",
    "goto(-2*d, d)\n",
    "dot(0.8*d)\n",
    "goto(-d, 0)\n",
    "dot(0.8*d, 'turquoise')\n",
    "goto(-2*d, 0)\n",
    "dot(d/2, 'lightgray')\n",
    "goto(-d, d)\n",
    "dot(d/2, 'lightgray')\n",
    "\n",
    "done()"
   ]
  },
  {
   "cell_type": "markdown",
   "id": "13c4d621",
   "metadata": {},
   "source": [
    "---\n",
    "\n",
    "#### Remarque générale\n",
    "\n",
    "Ce document est une adaptation d'un ressource pédagogique tiré du catalogue modulo https://modulo-info.ch/. Il est sous license Creative Commons [BY-NC-SA](https://creativecommons.org/licenses/?lang=fr)\n",
    "![Licence Creative Commons](https://i.creativecommons.org/l/by-nc-sa/4.0/88x31.png)\n",
    "\n",
    "    "
   ]
  }
 ],
 "metadata": {
  "kernelspec": {
   "display_name": "Python 3 (ipykernel)",
   "language": "python",
   "name": "python3"
  },
  "language_info": {
   "codemirror_mode": {
    "name": "ipython",
    "version": 3
   },
   "file_extension": ".py",
   "mimetype": "text/x-python",
   "name": "python",
   "nbconvert_exporter": "python",
   "pygments_lexer": "ipython3",
   "version": "3.10.12"
  }
 },
 "nbformat": 4,
 "nbformat_minor": 5
}
