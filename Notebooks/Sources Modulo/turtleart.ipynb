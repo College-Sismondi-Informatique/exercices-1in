{
 "cells": [
  {
   "cell_type": "markdown",
   "id": "0-4a42e0",
   "metadata": {},
   "source": [
    "<div style=\"padding:20px;background-color:papayawhip;\" > \n",
    "<h3 style=\"color:chocolate\"> <i class=\"fa fa-info\" aria-hidden=\"true\"> </i> &nbsp; Remarque introductive &nbsp;  <i class=\"fa fa-info\" aria-hidden=\"true\"></h3> \n",
    "<p> Ce fichier est fait pour être lu sur le site <a href=\"https://notebook.basthon.fr/\"><img src='https://notebook.basthon.fr/assets/efede5218c9087496f16.png' style=\"border: 0; display:inline; margin: 0 5px; height:30px\" alt=\"Basthon\"/></a>. <br>\n",
    "    \n",
    "Si vous l'avez ouvert avec un autre programme, comme Jupyter notebook, vous riquez de rencontrer quelques bugs. <br>\n",
    "Veuillez cliquez sur <a href=\"https://notebook.basthon.fr/\">ce lien</a> et y charger ce fichier à l'aide du bouton \"Ouvrir\"  &nbsp; <i class=\"fa fa-folder\" aria-hidden=\"true\"> </i>\n",
    "</p> </div>    "
   ]
  },
  {
   "cell_type": "markdown",
   "id": "1-a5e1d6",
   "metadata": {},
   "source": [
    "# TurtleArt\n",
    "\n",
    "Dans ce chapitre, nous présentons toute une série d'idées artistiques, inspirées du travail d'Artemis Papert que vous trouvez sur le site [TurtleArt](https://turtleart.org).\n",
    "\n",
    "*La créativité, c'est l'intelligence qui s'amuse.*  \n",
    "– Albert Einstein\n",
    "\n"
   ]
  },
  {
   "cell_type": "markdown",
   "id": "2-179f5d",
   "metadata": {},
   "source": [
    "<h3 style=\"color:chocolate;background-color:papayawhip;\" > <i class=\"fa fa-question\" aria-hidden=\"true\"> </i> &nbsp; Quizz </h3> \n",
    " \n",
    "```\n",
    "Quand vous programmez, vous pouvez\n",
    "\n",
    "A) créer\n",
    "B) inventer\n",
    "C) explorer\n",
    "D) comprendre\n",
    "```"
   ]
  },
  {
   "cell_type": "raw",
   "id": "3-770ee9",
   "metadata": {},
   "source": [
    "Ma réponse : "
   ]
  },
  {
   "cell_type": "markdown",
   "id": "4-e9acc9",
   "metadata": {},
   "source": [
    "<details>\n",
    "<summary style=\"border-left:3px solid #3c763d; border-radius:2pt; width:100%; color:#3c763d; padding:6px; background-color: #dff0d8\"> \n",
    "Réponse\n",
    "</summary>  \n",
    "\n",
    "<div style=\"border-left:3px solid #3c763d; border-radius:2pt; color:#3c763d; padding:6px; background-color: #eff0e8\">D) comprendre\n",
    "</div>\n",
    "</details>\n",
    "                \n"
   ]
  },
  {
   "cell_type": "markdown",
   "id": "5-7e701b",
   "metadata": {},
   "source": [
    "## Étoile\n",
    "\n",
    "Une **étoile** est un point lumineux dans le ciel nocturne, et par extension, une figure géométrique représentant des rayons partant du centre.\n",
    "\n"
   ]
  },
  {
   "cell_type": "code",
   "execution_count": null,
   "id": "6-717c47",
   "metadata": {},
   "outputs": [],
   "source": [
    "from turtle import *\n",
    "\n",
    "dot(1000, 'midnightblue')\n",
    "color('white')\n",
    "width(1)\n",
    "\n",
    "n = 10\n",
    "for i in range(n):\n",
    "    forward(150)\n",
    "    backward(150)\n",
    "    left(360/n)\n",
    "\n",
    "done()\n"
   ]
  },
  {
   "cell_type": "markdown",
   "id": "7-2086f5",
   "metadata": {},
   "source": [
    "## Diaphragme\n",
    "\n",
    "Un **diaphragme** est un élément mécanique sur le trajet lumineux d'un appareil photo pour régler la quantité de lumière.\n",
    "\n"
   ]
  },
  {
   "cell_type": "code",
   "execution_count": null,
   "id": "8-6969bd",
   "metadata": {},
   "outputs": [],
   "source": [
    "from turtle import *\n",
    "\n",
    "dot(1000, 'beige')\n",
    "color('brown')\n",
    "width(3)\n",
    "\n",
    "n = 10\n",
    "for i in range(n):\n",
    "    forward(150)\n",
    "    backward(130)\n",
    "    left(360/n)\n",
    "\n",
    "done()\n"
   ]
  },
  {
   "cell_type": "markdown",
   "id": "9-b6f295",
   "metadata": {},
   "source": [
    "## Fleur\n",
    "\n",
    "Les **fleurs** ont souvent inspiré les artistes, peintres, poètes, sculpteurs et décorateurs.\n",
    "\n"
   ]
  },
  {
   "cell_type": "code",
   "execution_count": null,
   "id": "10-63e209",
   "metadata": {},
   "outputs": [],
   "source": [
    "from turtle import *\n",
    "\n",
    "dot(1000, 'pink')\n",
    "color('crimson')\n",
    "width(3)\n",
    "\n",
    "def square(d):\n",
    "    for i in range(4):\n",
    "        forward(d)\n",
    "        left(90)\n",
    "\n",
    "n = 10\n",
    "for i in range(n):\n",
    "    square(100)\n",
    "    left(360/n)\n",
    "\n",
    "done()\n"
   ]
  },
  {
   "cell_type": "markdown",
   "id": "11-63e443",
   "metadata": {},
   "source": [
    "## Laser\n",
    "\n",
    "Le **laser** est un système photonique qui produit un rayonnement lumineux spatialement et temporellement cohérent.\n",
    "\n"
   ]
  },
  {
   "cell_type": "code",
   "execution_count": null,
   "id": "12-385fb2",
   "metadata": {},
   "outputs": [],
   "source": [
    "from turtle import *\n",
    "\n",
    "dot(1000, 'yellow')\n",
    "color('red')\n",
    "width(1)\n",
    "up()\n",
    "\n",
    "def dashes(d, n):\n",
    "    for i in range(n):\n",
    "        forward(d/2)\n",
    "        down()\n",
    "        forward(d)\n",
    "        up()\n",
    "\n",
    "n = 10\n",
    "for i in range(n):\n",
    "    goto(0, 0)\n",
    "    dashes(30, 4)\n",
    "    left(360/n)\n",
    "\n",
    "done()\n"
   ]
  },
  {
   "cell_type": "markdown",
   "id": "13-188ab8",
   "metadata": {},
   "source": [
    "## Yin et yang\n",
    "\n",
    "Dans la philosophie chinoise, le **yin** et le **yang** sont deux catégories complémentaires qui sont utilisées dans l'analyse de tous les phénomènes de la vie et du cosmos.\n",
    "\n"
   ]
  },
  {
   "cell_type": "code",
   "execution_count": null,
   "id": "14-0ac5a4",
   "metadata": {},
   "outputs": [],
   "source": [
    "from turtle import *\n",
    "\n",
    "dot(1000, 'skyblue')\n",
    "color('navy')\n",
    "width(2)\n",
    "left(90)\n",
    "\n",
    "begin_fill()\n",
    "circle(-50, 180)\n",
    "circle(50, 180)\n",
    "circle(100, 180)\n",
    "end_fill()\n",
    "circle(100, 180)\n",
    "\n",
    "up()\n",
    "left(90)\n",
    "forward(50)\n",
    "dot(30, 'skyblue')\n",
    "forward(100)\n",
    "dot(30, 'navy')\n",
    "\n",
    "done()\n"
   ]
  },
  {
   "cell_type": "markdown",
   "id": "15-8002c9",
   "metadata": {},
   "source": [
    "## Soleil\n",
    "\n",
    "Le **Soleil** est l’étoile de notre système solaire.\n",
    "\n"
   ]
  },
  {
   "cell_type": "code",
   "execution_count": null,
   "id": "16-be3a75",
   "metadata": {},
   "outputs": [],
   "source": [
    "from turtle import *\n",
    "\n",
    "dot(1000, 'orange')\n",
    "color('yellow')\n",
    "width(3)\n",
    "\n",
    "def wave(r, n):\n",
    "    down()\n",
    "    for i in range(n):\n",
    "        circle(r, 120)\n",
    "        circle(-r, 120)\n",
    "    up()\n",
    "\n",
    "n = 10\n",
    "for i in range(n):\n",
    "    goto(0, 0)\n",
    "    wave(20, 2)\n",
    "    left(360/n)\n",
    "\n",
    "done()\n"
   ]
  },
  {
   "cell_type": "markdown",
   "id": "17-3e4916",
   "metadata": {},
   "source": [
    "## Carrés\n",
    "\n",
    "Un **carré** est un quadrilatère isométrique avec quatre angles droits.\n",
    "\n"
   ]
  },
  {
   "cell_type": "code",
   "execution_count": null,
   "id": "18-de6510",
   "metadata": {},
   "outputs": [],
   "source": [
    "from turtle import *\n",
    "\n",
    "dot(1000, 'honeydew')\n",
    "color('teal')\n",
    "width(3)\n",
    "\n",
    "def square(d):\n",
    "    for i in range(4):\n",
    "        forward(d)\n",
    "        left(90)\n",
    "\n",
    "for d in range(20, 160, 20):\n",
    "    square(d)\n",
    "\n",
    "done()\n"
   ]
  },
  {
   "cell_type": "markdown",
   "id": "19-44efb1",
   "metadata": {},
   "source": [
    "## Spirale\n",
    "\n",
    "Une **spirale** est une courbe qui commence en un point central puis s'en éloigne de plus en plus, en même temps qu'elle tourne autour.\n",
    "\n"
   ]
  },
  {
   "cell_type": "code",
   "execution_count": null,
   "id": "20-28d27d",
   "metadata": {},
   "outputs": [],
   "source": [
    "from turtle import *\n",
    "\n",
    "dot(1000, 'teal')\n",
    "color('yellow')\n",
    "width(2)\n",
    "\n",
    "for d in range(10, 300, 10):\n",
    "    forward(d)\n",
    "    right(91)\n",
    "\n",
    "done()\n"
   ]
  },
  {
   "cell_type": "markdown",
   "id": "21-6e9c77",
   "metadata": {},
   "source": [
    "## Moulin\n",
    "\n",
    "Un **moulin à vent** est un jouet composé d'une roue munie de pales en papier dont la forme lui permet de tourner quand on souffle dessus.\n",
    "\n"
   ]
  },
  {
   "cell_type": "code",
   "execution_count": null,
   "id": "22-7385b2",
   "metadata": {},
   "outputs": [],
   "source": [
    "from turtle import *\n",
    "\n",
    "dot(1000, 'azure')\n",
    "color('red', 'pink')\n",
    "width(3)\n",
    "\n",
    "def triangle(d):\n",
    "    begin_fill()\n",
    "    for i in range(3):\n",
    "        forward(d)\n",
    "        right(120)\n",
    "    end_fill()\n",
    "\n",
    "n = 10\n",
    "for i in range(n):\n",
    "    forward(90)\n",
    "    triangle(90)\n",
    "    backward(90)\n",
    "    right(360/n)\n",
    "\n",
    "done()\n"
   ]
  },
  {
   "cell_type": "markdown",
   "id": "23-52f327",
   "metadata": {},
   "source": [
    "## Disques\n",
    "\n",
    "Un **disque** est un objet plat circulaire.\n",
    "\n"
   ]
  },
  {
   "cell_type": "code",
   "execution_count": null,
   "id": "24-e4b75a",
   "metadata": {},
   "outputs": [],
   "source": [
    "from turtle import *\n",
    "from random import *\n",
    "\n",
    "dot(1000, 'lavender')\n",
    "up()\n",
    "\n",
    "n = 60\n",
    "for i in range(20):\n",
    "    x = randrange(-300+n, 300, n)\n",
    "    y = randrange(-200+n, 200, n)\n",
    "    goto(x, y)\n",
    "    dot(n, 'fuchsia')\n",
    "\n",
    "done()\n"
   ]
  },
  {
   "cell_type": "markdown",
   "id": "25-a18c1b",
   "metadata": {},
   "source": [
    "## Œillet\n",
    "\n",
    "L'**œillet** rouge est un des symboles du mouvement ouvrier. En France tout particulièrement, on porte un œillet rouge à la boutonnière pour la fête du Travail.\n",
    "\n"
   ]
  },
  {
   "cell_type": "code",
   "execution_count": null,
   "id": "26-13a53d",
   "metadata": {},
   "outputs": [],
   "source": [
    "from turtle import *\n",
    "\n",
    "dot(1000, 'aliceblue')\n",
    "width(2)\n",
    "\n",
    "def petale(r):\n",
    "    begin_fill()\n",
    "    for i in range(2):\n",
    "        circle(r, 90)\n",
    "        left(90)\n",
    "    end_fill()\n",
    "\n",
    "color('green', 'lime')\n",
    "petale(40)\n",
    "left(90)\n",
    "forward(30)\n",
    "petale(40)\n",
    "forward(90)\n",
    "color('fuchsia', 'pink')\n",
    "n = 5\n",
    "for i in range(n):\n",
    "    petale(30)\n",
    "    left(360/n)\n",
    "\n",
    "done()\n"
   ]
  },
  {
   "cell_type": "markdown",
   "id": "27-9e8693",
   "metadata": {},
   "source": [
    "## Cœur\n",
    "\n",
    "Le **cœur** est un organe musculaire qui assure la circulation du sang dans le corps à travers des contractions rythmiques.\n",
    "\n"
   ]
  },
  {
   "cell_type": "code",
   "execution_count": null,
   "id": "28-ce4c27",
   "metadata": {},
   "outputs": [],
   "source": [
    "from turtle import *\n",
    "dot(1000, 'pink')\n",
    "\n",
    "r = 40\n",
    "left(45)\n",
    "fillcolor('red')\n",
    "\n",
    "begin_fill()\n",
    "forward(2 * r)\n",
    "circle(r, 180)\n",
    "right(90)\n",
    "circle(r, 180)\n",
    "forward(2 * r)\n",
    "end_fill()\n",
    "\n",
    "done()\n"
   ]
  },
  {
   "cell_type": "markdown",
   "id": "29-ea5267",
   "metadata": {},
   "source": [
    "## Comics\n",
    "\n",
    "Un **phylactère**, également appelé bulle ou ballon, est un élément graphique permettant de placer le texte d'un dialogue dans une bande dessinée.\n",
    "\n"
   ]
  },
  {
   "cell_type": "code",
   "execution_count": null,
   "id": "30-b0f175",
   "metadata": {},
   "outputs": [],
   "source": [
    "from turtle import *\n",
    "\n",
    "dot(1000, 'skyblue')\n",
    "fillcolor('white')\n",
    "\n",
    "begin_fill()\n",
    "left(50)\n",
    "forward(50)\n",
    "right(50)\n",
    "forward(170)\n",
    "circle(40, 180)\n",
    "forward(200)\n",
    "circle(40, 180)\n",
    "goto(0, 0)\n",
    "end_fill()\n",
    "\n",
    "up()\n",
    "goto(30, 60)\n",
    "color('black')\n",
    "write('hello', font=('Courier', 32))\n",
    "\n",
    "done()\n"
   ]
  },
  {
   "cell_type": "markdown",
   "id": "31-c3a7fe",
   "metadata": {},
   "source": [
    "## Arbre\n",
    "\n",
    "La **récursivité** est une démarche dont la description mène à la répétition d'une même règle.\n",
    "\n"
   ]
  },
  {
   "cell_type": "code",
   "execution_count": null,
   "id": "32-84b1fd",
   "metadata": {},
   "outputs": [],
   "source": [
    "from turtle import *\n",
    "\n",
    "dot(1000, 'lightgreen')\n",
    "color('brown')\n",
    "\n",
    "def branche(d, n, angle=50):\n",
    "    width(n)\n",
    "    forward(d)\n",
    "    if n > 1:\n",
    "        left(angle)\n",
    "        branche(d-10, n-1)\n",
    "        right(2 * angle)\n",
    "        branche(d-10, n-1)\n",
    "        left(angle)\n",
    "    backward(d)\n",
    "\n",
    "left(90)\n",
    "backward(70)\n",
    "branche(70, 6, 60)\n",
    "\n",
    "done()\n"
   ]
  },
  {
   "cell_type": "markdown",
   "id": "33-7a3a45",
   "metadata": {},
   "source": [
    "## Bulles\n",
    "\n",
    "Les bulles de savon sont des cercles multicolores.\n",
    "\n"
   ]
  },
  {
   "cell_type": "code",
   "execution_count": null,
   "id": "34-4e0519",
   "metadata": {},
   "outputs": [],
   "source": [
    "from turtle import *\n",
    "from random import *\n",
    "up()\n",
    "\n",
    "for i in range(100):\n",
    "    x = randint(-300, 300)\n",
    "    y = randint(-200, 200)\n",
    "    s = randint(20, 100)\n",
    "    goto(x, y)\n",
    "    color(random(), random(), random())\n",
    "    dot(s)\n",
    "\n",
    "done()\n"
   ]
  },
  {
   "cell_type": "markdown",
   "id": "35-a1719e",
   "metadata": {},
   "source": [
    "## Mitsubishi\n",
    "\n",
    "Le nom Mitsubishi (三菱) signifie *trois losanges* ou *trois diamants* ce qui est représenté dans son logo.\n",
    "\n"
   ]
  },
  {
   "cell_type": "code",
   "execution_count": null,
   "id": "36-d19401",
   "metadata": {},
   "outputs": [],
   "source": [
    "from turtle import *\n",
    "color('red')\n",
    "hideturtle()\n",
    "\n",
    "def losange():\n",
    "    for a in (60, 120, 60, 120):\n",
    "        forward(100)\n",
    "        left(a)\n",
    "\n",
    "left(60)\n",
    "for i in range(3):\n",
    "    begin_fill()\n",
    "    losange()\n",
    "    end_fill()\n",
    "    left(120)\n",
    "\n",
    "done()\n"
   ]
  },
  {
   "cell_type": "markdown",
   "id": "37-af8273",
   "metadata": {},
   "source": [
    "## Modulo\n",
    "\n",
    "Le nom Modulo fait référence à l'opérateur **modulo** en mathématique `%` et à la structure **modulaire** du cours.\n",
    "\n"
   ]
  },
  {
   "cell_type": "code",
   "execution_count": null,
   "id": "38-901193",
   "metadata": {},
   "outputs": [],
   "source": [
    "from turtle import *\n",
    "\n",
    "up()\n",
    "d = 60\n",
    "color('indigo')\n",
    "for c in 'modulo':\n",
    "    write(c, font=('Arial', d, 'bold'), move=True)\n",
    "\n",
    "goto(-2*d, d)\n",
    "dot(0.8*d)\n",
    "goto(-d, 0)\n",
    "dot(0.8*d, 'turquoise')\n",
    "goto(-2*d, 0)\n",
    "dot(d/2, 'lightgray')\n",
    "goto(-d, d)\n",
    "dot(d/2, 'lightgray')\n",
    "\n",
    "done()"
   ]
  },
  {
   "cell_type": "markdown",
   "id": "39-cebd46",
   "metadata": {},
   "source": [
    "---\n",
    "\n",
    "#### Remarque générale\n",
    "\n",
    "Ce document est une adaptation d'un ressource pédagogique tiré du catalogue modulo https://modulo-info.ch/. Il est sous license Creative Commons [BY-NC-SA](https://creativecommons.org/licenses/?lang=fr)\n",
    "![Licence Creative Commons](https://i.creativecommons.org/l/by-nc-sa/4.0/88x31.png)\n",
    "\n",
    "    "
   ]
  }
 ],
 "metadata": {
  "kernelspec": {
   "display_name": "Python 3 (ipykernel)",
   "language": "python",
   "name": "python3"
  },
  "language_info": {
   "codemirror_mode": {
    "name": "ipython",
    "version": 3
   },
   "file_extension": ".py",
   "mimetype": "text/x-python",
   "name": "python",
   "nbconvert_exporter": "python",
   "pygments_lexer": "ipython3",
   "version": "3.10.12"
  }
 },
 "nbformat": 4,
 "nbformat_minor": 5
}
