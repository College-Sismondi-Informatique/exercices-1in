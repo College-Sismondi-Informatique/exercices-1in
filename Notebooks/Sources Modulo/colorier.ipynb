{
 "cells": [
  {
   "cell_type": "markdown",
   "id": "d7f86d9d",
   "metadata": {},
   "source": [
    "# *Colorier - `color()`\n",
    "\n",
    "Dans ce chapitre, nous continuons à dessiner et nous introduisons la couleur.\n",
    "Une couleur peut être appliquée à une ligne, à un point, à une forme ou à l'arrière-fond. Nous allons voir que :\n",
    "\n",
    "- la fonction `color(c)` permet de choisir une couleur `c`,\n",
    "- la fonction `dot(d, c)` dessine un disque de diamètre `d` et de couleur `c`,\n",
    "- la fonction `begin_fill()/end_fill()` permet le remplissage.\n",
    "\n"
   ]
  },
  {
   "cell_type": "markdown",
   "id": "781bd743",
   "metadata": {},
   "source": [
    "<h3 style=\"color:chocolate;background-color:papayawhip;\" > <i class=\"fa fa-question\" aria-hidden=\"true\"> </i> &nbsp; Quizz </h3> \n",
    " \n",
    "```\n",
    "Une couleur sur un écran d'ordinateur est produite par\n",
    "\n",
    "A) des pigments\n",
    "B) du mouvement rapide\n",
    "C) un liquide coloré\n",
    "D) la combinaison de trois lumières\n",
    "```"
   ]
  },
  {
   "cell_type": "raw",
   "id": "705f0cb0",
   "metadata": {},
   "source": [
    "Réponse : \n"
   ]
  },
  {
   "cell_type": "markdown",
   "id": "b5a95939",
   "metadata": {},
   "source": [
    "## Liste de couleurs\n",
    "\n",
    "Voici une liste des couleurs disponibles. Pour les utiliser vous devez les écrire entre apostrophes, comme par exemple `'pink'` ou `'hotpink'`.\n",
    "\n"
   ]
  },
  {
   "cell_type": "markdown",
   "id": "04db7e26",
   "metadata": {},
   "source": [
    "![couleurs](https://raw.githubusercontent.com/edunumsec2/book/master/src/appr/prog1/media/colors.png)\n",
    "\n"
   ]
  },
  {
   "cell_type": "markdown",
   "id": "6fc4f5e9",
   "metadata": {},
   "source": [
    "## Couleur de ligne\n",
    "\n",
    "La fonction `color(c)` permet de définir la couleur de ligne `c`.\n",
    "Entre les parenthèses de la fonction, vous devez écrire le nom d'une couleur, entouré d'apostrophes — par exemple `color('red')` pour dessiner une ligne rouge.\n",
    "\n",
    "Voici un triangle avec 3 segments de couleurs différentes.\n",
    "\n"
   ]
  },
  {
   "cell_type": "markdown",
   "id": "d093c643",
   "metadata": {},
   "source": [
    "<h3 style=\"color:teal;background-color:azure;\" > <i class=\"fa fa-pencil\" aria-hidden=\"true\"> </i> &nbsp; Exercice 1 </h3>Modifiez les 3 couleurs en vous inspirant de la liste.\n",
    "\n"
   ]
  },
  {
   "cell_type": "code",
   "execution_count": null,
   "id": "b07a94e7",
   "metadata": {},
   "outputs": [],
   "source": [
    "from turtle import *\n",
    "d = 150\n",
    "width(20)\n",
    "\n",
    "color('red')\n",
    "forward(d)\n",
    "left(120)\n",
    "\n",
    "color('lime')\n",
    "forward(d)\n",
    "left(120)\n",
    "\n",
    "color('blue')\n",
    "forward(d)\n",
    "left(120)\n",
    "\n",
    "done()\n"
   ]
  },
  {
   "cell_type": "markdown",
   "id": "0533349d",
   "metadata": {},
   "source": [
    "## Couleur de point\n",
    "\n",
    "Nous pouvons afficher des points à chaque sommet :\n",
    "\n",
    "- la fonction `dot()` dessine un point standard,\n",
    "- la fonction `dot(d)` dessine un disque d'un diamètre `d`,\n",
    "- la fonction `dot(d, c)` dessine un disque de diamètre `d` et de couleur `c`.\n",
    "\n"
   ]
  },
  {
   "cell_type": "markdown",
   "id": "43fc3cb4",
   "metadata": {},
   "source": [
    "<h3 style=\"color:teal;background-color:azure;\" > <i class=\"fa fa-pencil\" aria-hidden=\"true\"> </i> &nbsp; Exercice 2 </h3>Modifiez la taille et la couleur des 3 points.\n",
    "\n"
   ]
  },
  {
   "cell_type": "code",
   "execution_count": null,
   "id": "bcfea6fe",
   "metadata": {},
   "outputs": [],
   "source": [
    "from turtle import *\n",
    "up()\n",
    "\n",
    "dot(300, 'red')\n",
    "forward(150)\n",
    "\n",
    "dot(160, 'lime')\n",
    "left(120)\n",
    "forward(150)\n",
    "\n",
    "dot(80, 'blue')\n",
    "\n",
    "done()\n"
   ]
  },
  {
   "cell_type": "markdown",
   "id": "6db8c7dd",
   "metadata": {},
   "source": [
    "### Drapeau du Japon\n",
    "\n",
    "Le drapeau du Japon est un drapeau blanc avec un grand disque rouge en son centre. Ce disque représente le soleil, plus précisément la déesse shinto du soleil Amaterasu.\n",
    "\n",
    "Le rapport entre la hauteur et la largeur du drapeau est de 2:3, et le diamètre du disque est $\\frac{3}{5}$ de la hauteur du drapeau.\n",
    "\n"
   ]
  },
  {
   "cell_type": "markdown",
   "id": "15ed235e",
   "metadata": {},
   "source": [
    "<h3 style=\"color:teal;background-color:azure;\" > <i class=\"fa fa-pencil\" aria-hidden=\"true\"> </i> &nbsp; Exercice 3 </h3>Supprimez l'appel de la fonction `hideturtle()`. À quoi sert cette fonction ?\n",
    "\n"
   ]
  },
  {
   "cell_type": "code",
   "execution_count": null,
   "id": "36d0363b",
   "metadata": {},
   "outputs": [],
   "source": [
    "from turtle import *\n",
    "dot(240, 'red')\n",
    "hideturtle()\n",
    "\n",
    "done()\n"
   ]
  },
  {
   "cell_type": "markdown",
   "id": "30ba9fad",
   "metadata": {},
   "source": [
    "### Lignes et points\n",
    "\n",
    "La fonction `dot()` sans argument de taille, va automatiquement choisir une taille qui est environ le double de l'épaisseur du trait.\n",
    "\n"
   ]
  },
  {
   "cell_type": "markdown",
   "id": "b9b05c12",
   "metadata": {},
   "source": [
    "<h3 style=\"color:teal;background-color:azure;\" > <i class=\"fa fa-pencil\" aria-hidden=\"true\"> </i> &nbsp; Exercice 4 </h3>Augmentez l'épaisseur de la ligne à 10 pour vérifier que la taille des points change en conséquence.\n",
    "\n"
   ]
  },
  {
   "cell_type": "code",
   "execution_count": null,
   "id": "7144a3b5",
   "metadata": {},
   "outputs": [],
   "source": [
    "from turtle import *\n",
    "d = 100\n",
    "\n",
    "forward(d)\n",
    "left(120)\n",
    "dot()\n",
    "\n",
    "forward(d)\n",
    "left(120)\n",
    "dot()\n",
    "\n",
    "forward(d)\n",
    "left(120)\n",
    "dot()\n",
    "\n",
    "done()\n"
   ]
  },
  {
   "cell_type": "markdown",
   "id": "c9c6a487",
   "metadata": {},
   "source": [
    "### Points et couleurs\n",
    "\n",
    "Il est possible de colorier les points différemment de la ligne. Dans ce cas, il faut spécifier la taille _et_ la couleur dans la fonction `dot()`.\n",
    "\n"
   ]
  },
  {
   "cell_type": "code",
   "execution_count": null,
   "id": "5f4e2564",
   "metadata": {},
   "outputs": [],
   "source": [
    "from turtle import *\n",
    "pencolor('blue')\n",
    "d = 100\n",
    "\n",
    "forward(d)\n",
    "left(120)\n",
    "dot(10, 'red')\n",
    "\n",
    "forward(d)\n",
    "left(120)\n",
    "dot(10, 'red')\n",
    "\n",
    "forward(d)\n",
    "left(120)\n",
    "dot(10, 'red')\n",
    "\n",
    "done()\n"
   ]
  },
  {
   "cell_type": "markdown",
   "id": "313ac277",
   "metadata": {},
   "source": [
    "## Couleur de remplissage\n",
    "\n",
    "Avec la fonction `fillcolor()`, nous pouvons définir une couleur de remplissage pour une forme quelconque que nous voulons dessiner. Pour remplir une forme avec une couleur, nous devons ajouter les deux fonctions :\n",
    "\n",
    "- `begin_fill()` au début de la forme,\n",
    "- `end_fill()` à la fin de la forme.\n",
    "\n",
    "Par exemple, ce programme-ci dessine un triangle vert.\n",
    "\n"
   ]
  },
  {
   "cell_type": "markdown",
   "id": "ce253926",
   "metadata": {},
   "source": [
    "<h3 style=\"color:teal;background-color:azure;\" > <i class=\"fa fa-pencil\" aria-hidden=\"true\"> </i> &nbsp; Exercice 5 </h3>Ajoutez un triangle d'une couleur différente.\n",
    "\n"
   ]
  },
  {
   "cell_type": "code",
   "execution_count": null,
   "id": "39e17359",
   "metadata": {},
   "outputs": [],
   "source": [
    "from turtle import *\n",
    "d = 100\n",
    "\n",
    "def triangle():\n",
    "    forward(d)\n",
    "    left(120)\n",
    "    forward(d)\n",
    "    left(120)\n",
    "    forward(d)\n",
    "    left(120)\n",
    "\n",
    "fillcolor('chartreuse')\n",
    "begin_fill()\n",
    "triangle()\n",
    "end_fill()\n",
    "\n",
    "done()\n"
   ]
  },
  {
   "cell_type": "markdown",
   "id": "559b90e6",
   "metadata": {},
   "source": [
    "On aurait pu inclure les deux fonctions qui indiquent le remplissage directement dans la fonction `triangle()`. Ceci simplifie le code quand on dessine plusieurs triangles.\n",
    "\n"
   ]
  },
  {
   "cell_type": "code",
   "execution_count": null,
   "id": "af9adef0",
   "metadata": {},
   "outputs": [],
   "source": [
    "from turtle import *\n",
    "d = 100\n",
    "\n",
    "def triangle():\n",
    "    begin_fill()\n",
    "    forward(d)\n",
    "    left(120)\n",
    "    forward(d)\n",
    "    left(120)\n",
    "    forward(d)\n",
    "    left(120)\n",
    "    end_fill()\n",
    "\n",
    "fillcolor('chartreuse')\n",
    "triangle()\n",
    "left(60)\n",
    "fillcolor('cyan')\n",
    "triangle()\n",
    "\n",
    "done()\n"
   ]
  },
  {
   "cell_type": "markdown",
   "id": "a523e9f3",
   "metadata": {},
   "source": [
    "## Couleur de fond\n",
    "\n",
    "La combinaison `getscreen().bgcolor()` permet de définir la couleur d'arrière-fond (bg = background).\n",
    "\n",
    "Dans l'exemple suivant, nous dessinons le drapeau du Bangladesh. Il est vert avec un disque rouge.\n",
    "\n"
   ]
  },
  {
   "cell_type": "code",
   "execution_count": null,
   "id": "11f4d01d",
   "metadata": {},
   "outputs": [],
   "source": [
    "from turtle import *\n",
    "getscreen().bgcolor('green')\n",
    "\n",
    "backward(30)\n",
    "dot(266, 'red')\n",
    "hideturtle()\n",
    "\n",
    "done()\n"
   ]
  },
  {
   "cell_type": "markdown",
   "id": "489264c5",
   "metadata": {},
   "source": [
    "Le drapeau au soleil rouge a été utilisé pour la première fois en 1971. Le rouge symbolise le sang des Bangladais tués depuis 1947 lors des affrontements avec le Pakistan. Le vert symbolise la vitalité, la jeunesse et les terres agricoles.\n",
    "\n",
    "```{caution}\n",
    "La fonction `bgcolor()` ne fonctionne pas pour l'exportation vers un fichier image au format `.eps`. \n",
    "\n",
    "Pour remédier à ce problème, nous utilisons une solution simpliste.\n",
    "À la place de `bgcolor()` nous utilisons tout simplement un très grand disque `dot()` qui dépasse les bornes de l'image.\n",
    "```\n",
    "\n",
    "Le disque est décentré, légèrement décalé vers la fixation, de manière à apparaître centré lorsque le drapeau flotte dans le vent.\n",
    "\n"
   ]
  },
  {
   "cell_type": "code",
   "execution_count": null,
   "id": "70db9111",
   "metadata": {},
   "outputs": [],
   "source": [
    "from turtle import *\n",
    "dot(1000, 'green')  # astuce pour changer le background\n",
    "\n",
    "backward(30)\n",
    "dot(266, 'red')\n",
    "hideturtle()\n",
    "\n",
    "done()\n"
   ]
  },
  {
   "cell_type": "markdown",
   "id": "2fee0bfd",
   "metadata": {},
   "source": [
    "## Forme ouverte\n",
    "\n",
    "La forme ne doit pas nécessairement être fermée pour être remplie d'une couleur.\n",
    "Dans l'exemple suivant, nous dessinons une forme ouverte avec seulement deux lignes.\n",
    "Le résultat est un triangle avec deux bordures et un troisième segment sans bordure.\n",
    "\n",
    "Une équerre est un instrument formé de deux pièces ajustées à angle droit. L'équerre est utilisée soit pour vérifier des angles dièdres droits, soit pour tracer des angles plans droits.\n",
    "\n"
   ]
  },
  {
   "cell_type": "markdown",
   "id": "51ac4362",
   "metadata": {},
   "source": [
    "<h3 style=\"color:teal;background-color:azure;\" > <i class=\"fa fa-pencil\" aria-hidden=\"true\"> </i> &nbsp; Exercice 6 </h3>Dessinez le drapeau bicolore du canton de Zurich.\n",
    "\n"
   ]
  },
  {
   "cell_type": "code",
   "execution_count": null,
   "id": "f515ab68",
   "metadata": {},
   "outputs": [],
   "source": [
    "from turtle import *\n",
    "dot(1000, 'moccasin')\n",
    "\n",
    "def equerre():\n",
    "    down()\n",
    "    begin_fill()\n",
    "    forward(150)\n",
    "    left(90)\n",
    "    forward(100)\n",
    "    left(90)\n",
    "    end_fill()\n",
    "    up()\n",
    "\n",
    "fillcolor('sienna')\n",
    "equerre()\n",
    "forward(30)\n",
    "fillcolor('gold')\n",
    "equerre()\n",
    "\n",
    "done()\n"
   ]
  },
  {
   "cell_type": "markdown",
   "id": "1b088d32",
   "metadata": {},
   "source": [
    "## Smiley\n",
    "\n",
    "Avec des cercles de tailles différentes dessinées avec `dot(d)`, nous pouvons dessiner un smiley.\n",
    "Voici un smiley qui exprime l'indifférence.\n",
    "\n"
   ]
  },
  {
   "cell_type": "markdown",
   "id": "21cd112a",
   "metadata": {},
   "source": [
    "<h3 style=\"color:teal;background-color:azure;\" > <i class=\"fa fa-pencil\" aria-hidden=\"true\"> </i> &nbsp; Exercice 7 </h3>Ajoutez `up()` au début du programme pour ne plus montrer la trajectoire de la tortue.\n",
    "\n"
   ]
  },
  {
   "cell_type": "code",
   "execution_count": null,
   "id": "da47c7b3",
   "metadata": {},
   "outputs": [],
   "source": [
    "from turtle import *\n",
    "dot(1000, 'linen')\n",
    "\n",
    "dot(300, 'yellow')      # visage\n",
    "\n",
    "left(45)\n",
    "forward(60)\n",
    "dot(40)                 # oeuil droite\n",
    "\n",
    "right(45)\n",
    "backward(100)\n",
    "dot(40)                 # oeuil gauche\n",
    "\n",
    "right(90)\n",
    "forward(100)\n",
    "left(90)\n",
    "width(20)\n",
    "forward(100)            # bouche\n",
    "\n",
    "done()\n"
   ]
  },
  {
   "cell_type": "markdown",
   "id": "b3b4bfd9",
   "metadata": {},
   "source": [
    "Voici un autre smiley qui exprime la surprise.\n",
    "\n"
   ]
  },
  {
   "cell_type": "markdown",
   "id": "1b1da714",
   "metadata": {},
   "source": [
    "<h3 style=\"color:teal;background-color:azure;\" > <i class=\"fa fa-pencil\" aria-hidden=\"true\"> </i> &nbsp; Exercice 8 </h3>Dessinez encore un autre smiley.\n",
    "\n"
   ]
  },
  {
   "cell_type": "code",
   "execution_count": null,
   "id": "a39685cf",
   "metadata": {},
   "outputs": [],
   "source": [
    "from turtle import *\n",
    "dot(1000, 'azure')\n",
    "\n",
    "dot(300, 'palegreen')\n",
    "\n",
    "left(45)\n",
    "forward(60)\n",
    "dot(40)\n",
    "\n",
    "right(45)\n",
    "backward(90)\n",
    "dot(40)\n",
    "\n",
    "right(60)\n",
    "forward(100)\n",
    "dot(80)\n",
    "\n",
    "done()\n"
   ]
  },
  {
   "cell_type": "markdown",
   "id": "a91fd8fc",
   "metadata": {},
   "source": [
    "## Croix\n",
    "\n",
    "La fonction `bras()` dessine les 3 côtés d'un carré et tourne, à la fin, dans le sens approprié pour la suite.\n",
    "Répété 4 fois, ceci donne la forme d'une croix.\n",
    "\n",
    "Ici, nous utilisons la fonction `color('white')` pour changer simultanément la couleur de ligne **et** la couleur de remplissage en blanc.\n",
    "\n"
   ]
  },
  {
   "cell_type": "markdown",
   "id": "8f4da25c",
   "metadata": {},
   "source": [
    "<h3 style=\"color:teal;background-color:azure;\" > <i class=\"fa fa-pencil\" aria-hidden=\"true\"> </i> &nbsp; Exercice 9 </h3>Inversez les couleurs pour trouver le drapeau de la Croix-Rouge.\n",
    "\n"
   ]
  },
  {
   "cell_type": "code",
   "execution_count": null,
   "id": "c0e8d0bd",
   "metadata": {},
   "outputs": [],
   "source": [
    "from turtle import *\n",
    "dot(1000, 'red')\n",
    "d = 60\n",
    "\n",
    "def bras():\n",
    "    forward(d)\n",
    "    left(90)\n",
    "    forward(d)\n",
    "    left(90)\n",
    "    forward(d)\n",
    "    right(90)\n",
    "\n",
    "def croix():\n",
    "    bras()\n",
    "    bras()\n",
    "    bras()\n",
    "    bras()\n",
    "\n",
    "color('white')\n",
    "begin_fill()\n",
    "croix()\n",
    "end_fill()\n",
    "\n",
    "done()\n"
   ]
  },
  {
   "cell_type": "markdown",
   "id": "f9eda7fe",
   "metadata": {},
   "source": [
    "## Maison\n",
    "\n",
    "Nous reprenons l'exemple du chapitre précédent de la fonction `maison()`. Cette fois, nous y intégrons `begin_fill()` et `end_fill()` pour pouvoir les colorier..\n",
    "\n"
   ]
  },
  {
   "cell_type": "markdown",
   "id": "961a9b37",
   "metadata": {},
   "source": [
    "<h3 style=\"color:teal;background-color:azure;\" > <i class=\"fa fa-pencil\" aria-hidden=\"true\"> </i> &nbsp; Exercice 10 </h3>Ajoutez encore une maison d'une autre couleur.\n",
    "\n"
   ]
  },
  {
   "cell_type": "code",
   "execution_count": null,
   "id": "36c4805d",
   "metadata": {},
   "outputs": [],
   "source": [
    "from turtle import *\n",
    "dot(1000, 'lightgreen')\n",
    "\n",
    "def maison():\n",
    "    begin_fill()\n",
    "    forward(100)\n",
    "    left(90)\n",
    "    forward(60)\n",
    "    left(45)\n",
    "    forward(71)\n",
    "    left(90)\n",
    "    forward(71)\n",
    "    left(45)\n",
    "    forward(60)\n",
    "    left(90)\n",
    "    end_fill()\n",
    "\n",
    "backward(200)\n",
    "fillcolor('pink')\n",
    "maison()\n",
    "forward(150)\n",
    "fillcolor('lightblue')\n",
    "maison()\n",
    "\n",
    "done()\n"
   ]
  },
  {
   "cell_type": "markdown",
   "id": "08607bb3",
   "metadata": {},
   "source": [
    "## Exporter une image\n",
    "\n",
    "Pour enregistrer votre dessin vers un fichier image, faites ceci :\n",
    "\n",
    "- Téléchargez le code.\n",
    "- Ouvrez-le avec un éditeur externe.\n",
    "- Ajoutez les 2 lignes de code à la fin.\n",
    "- Exécutez votre code.\n",
    "\n",
    "```  python\n",
    "from tkinter import * \n",
    "Screen().getcanvas().postscript(file='fichier.eps')\n",
    "```\n",
    "\n",
    "Votre image est exportée vers `fichier.eps`, qui se trouve dans le même dossier que votre code.\n",
    "Vous pouvez changer le nom du fichier, mais devez garder l'extension `.eps`.\n",
    "\n",
    "Sur un Mac, vous pouvez ouvrir un fichier `.eps` avec l'application **Aperçu** et ensuite exporter l'image vers le format PDF, JPG ou PNG.\n",
    "\n"
   ]
  },
  {
   "cell_type": "markdown",
   "id": "191e77f2",
   "metadata": {},
   "source": [
    "## Exercices\n",
    "\n",
    "- Téléchargez un exercice.\n",
    "- Éditez-le dans un éditeur externe tel que Thonny.\n",
    "- Déposez-le sur Moodle (ou une plateforme équivalente dans votre école).\n",
    "\n"
   ]
  },
  {
   "cell_type": "markdown",
   "id": "785e6ba0",
   "metadata": {},
   "source": [
    "### Arc-en-ciel\n",
    "\n",
    "Dessinez un arc-en-ciel avec des disques de rayons et de couleurs appropriés.\n",
    "\n"
   ]
  },
  {
   "cell_type": "code",
   "execution_count": null,
   "id": "cae0a708",
   "metadata": {},
   "outputs": [],
   "source": [
    "from turtle import *\n",
    "# Prénom Nom, classe\n",
    "\n",
    "left(90)\n",
    "back(300)\n",
    "dot(800, 'red')\n",
    "\n",
    "done()\n"
   ]
  },
  {
   "cell_type": "markdown",
   "id": "4c8914c9",
   "metadata": {},
   "source": [
    "### Sapin de Noël\n",
    "\n",
    "Dessinez et coloriez un sapin de Noël. Définissez des fonctions pour des boules et des étoiles.\n",
    "\n"
   ]
  },
  {
   "cell_type": "code",
   "execution_count": null,
   "id": "6bb96636",
   "metadata": {},
   "outputs": [],
   "source": [
    "from turtle import *\n",
    "# Prénom Nom, classe\n",
    "\n",
    "def sapin():\n",
    "    ...\n",
    "def boule():\n",
    "    ...\n",
    "def etoile():\n",
    "    ...\n",
    "\n",
    "sapin()\n",
    "forward(100)\n",
    "boule()\n",
    "done()\n"
   ]
  },
  {
   "cell_type": "markdown",
   "id": "99b79551",
   "metadata": {},
   "source": [
    "### Ville\n",
    "\n",
    "Dessinez et coloriez une ville. Définissez des fonctions pour des maisons et des immeubles.\n",
    "\n"
   ]
  },
  {
   "cell_type": "code",
   "execution_count": null,
   "id": "4746217b",
   "metadata": {},
   "outputs": [],
   "source": [
    "from turtle import *\n",
    "# Prénom Nom, classe\n",
    "\n",
    "dot(1000, 'skyblue')  # background\n",
    "\n",
    "def maison():\n",
    "    ...\n",
    "def immeuble():\n",
    "    ...\n",
    "\n",
    "maison()\n",
    "forward(100)\n",
    "immeuble()\n",
    "done()\n"
   ]
  },
  {
   "cell_type": "markdown",
   "id": "87ce0336",
   "metadata": {},
   "source": [
    "### Chambre\n",
    "\n",
    "Dessinez une chambre avec des meubles en couleurs, que vous définissez chacun par une fonction. Vous êtes libre d'inventer d'autres meubles, de les arranger différemment et de les utiliser plusieurs fois.\n",
    "\n"
   ]
  },
  {
   "cell_type": "code",
   "execution_count": null,
   "id": "94b2d1bb",
   "metadata": {},
   "outputs": [],
   "source": [
    "from turtle import *\n",
    "# Prénom Nom, classe\n",
    "\n",
    "def chaise():\n",
    "    left(90)\n",
    "    forward(100)\n",
    "    back(50)\n",
    "    right(90)\n",
    "    forward(50)\n",
    "    right(90)\n",
    "    forward(50)\n",
    "    left(90)\n",
    "\n",
    "def table():\n",
    "    ...\n",
    "def lit():\n",
    "    ...\n",
    "\n",
    "chaise()\n",
    "table()\n",
    "lit()\n",
    "done()\n"
   ]
  },
  {
   "cell_type": "markdown",
   "id": "e41e6a6f",
   "metadata": {},
   "source": [
    "### Tetris\n",
    "\n",
    "Les carrés de base d'un tétromino mesurent 40 × 40 pixels. Il y a 7 formes différentes de tétrominos, qui sont nommées d'après les lettres auxquelles ils ressemblent et qui ont des couleurs standard :\n",
    "\n"
   ]
  },
  {
   "cell_type": "markdown",
   "id": "015ee663",
   "metadata": {},
   "source": [
    "![tétrominos](https://raw.githubusercontent.com/edunumsec2/book/master/src/appr/prog1/media/tetromino.png)\n",
    "\n",
    "Créez des fonctions pour dessiner les 7 tétrominos avec leurs couleurs appropriées, et composez la forme ci-dessous.\n",
    "\n"
   ]
  },
  {
   "cell_type": "markdown",
   "id": "5373c7e3",
   "metadata": {},
   "source": [
    "![tetris](https://raw.githubusercontent.com/edunumsec2/book/master/src/appr/prog1/media/tetris2.png)\n",
    "\n"
   ]
  },
  {
   "cell_type": "code",
   "execution_count": null,
   "id": "63962353",
   "metadata": {},
   "outputs": [],
   "source": [
    "from turtle import *\n",
    "# Prénom Nom, classe\n",
    "d = 40\n",
    "\n",
    "def O():\n",
    "    fillcolor('yellow')\n",
    "    dot()\n",
    "    begin_fill()\n",
    "    forward(2*d)\n",
    "    left(90)\n",
    "    forward(2*d)\n",
    "    left(90)\n",
    "    forward(2*d)\n",
    "    left(90)\n",
    "    forward(2*d)\n",
    "    left(90)\n",
    "    end_fill()\n",
    "\n",
    "def I():\n",
    "    ...\n",
    "def T():\n",
    "    ...\n",
    "def L():\n",
    "    ...\n",
    "def J():\n",
    "    ...\n",
    "def Z():\n",
    "    ...\n",
    "def S():\n",
    "    ...\n",
    "\n",
    "back(200)\n",
    "O()\n",
    "...\n",
    "done()"
   ]
  }
 ],
 "metadata": {
  "kernelspec": {
   "display_name": "Python 3 (ipykernel)",
   "language": "python",
   "name": "python3"
  },
  "language_info": {
   "codemirror_mode": {
    "name": "ipython",
    "version": 3
   },
   "file_extension": ".py",
   "mimetype": "text/x-python",
   "name": "python",
   "nbconvert_exporter": "python",
   "pygments_lexer": "ipython3",
   "version": "3.10.12"
  }
 },
 "nbformat": 4,
 "nbformat_minor": 5
}
