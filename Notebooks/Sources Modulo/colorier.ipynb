{
 "cells": [
  {
   "cell_type": "markdown",
   "id": "0-4a42e0",
   "metadata": {},
   "source": [
    "<div style=\"padding:20px;background-color:papayawhip;\" > \n",
    "<h3 style=\"color:chocolate\"> <i class=\"fa fa-info\" aria-hidden=\"true\"> </i> &nbsp; Remarque introductive &nbsp;  <i class=\"fa fa-info\" aria-hidden=\"true\"></h3> \n",
    "<p> Ce fichier est fait pour être lu sur le site <a href=\"https://notebook.basthon.fr/\"><img src='https://notebook.basthon.fr/assets/efede5218c9087496f16.png' style=\"border: 0; display:inline; margin: 0 5px; height:30px\" alt=\"Basthon\"/></a>. <br>\n",
    "    \n",
    "Si vous l'avez ouvert avec un autre programme, comme Jupyter notebook, vous riquez de rencontrer quelques bugs. <br>\n",
    "Veuillez cliquez sur <a href=\"https://notebook.basthon.fr/\">ce lien</a> et y charger ce fichier à l'aide du bouton \"Ouvrir\"  &nbsp; <i class=\"fa fa-folder\" aria-hidden=\"true\"> </i>\n",
    "</p> </div>    "
   ]
  },
  {
   "cell_type": "markdown",
   "id": "1-98ddd1",
   "metadata": {},
   "source": [
    "# *Colorier - `color()`\n",
    "\n",
    "Dans ce chapitre, nous continuons à dessiner et nous introduisons la couleur.\n",
    "Une couleur peut être appliquée à une ligne, à un point, à une forme ou à l'arrière-fond. Nous allons voir que :\n",
    "\n",
    "- la fonction `color(c)` permet de choisir une couleur `c`,\n",
    "- la fonction `dot(d, c)` dessine un disque de diamètre `d` et de couleur `c`,\n",
    "- la fonction `begin_fill()/end_fill()` permet le remplissage.\n",
    "\n"
   ]
  },
  {
   "cell_type": "markdown",
   "id": "2-5c49b6",
   "metadata": {},
   "source": [
    "<h3 style=\"color:chocolate;background-color:papayawhip;\" > <i class=\"fa fa-question\" aria-hidden=\"true\"> </i> &nbsp; Quizz </h3> \n",
    " \n",
    "```\n",
    "Une couleur sur un écran d'ordinateur est produite par\n",
    "\n",
    "A) des pigments\n",
    "B) du mouvement rapide\n",
    "C) un liquide coloré\n",
    "D) la combinaison de trois lumières\n",
    "```"
   ]
  },
  {
   "cell_type": "raw",
   "id": "3-770ee9",
   "metadata": {},
   "source": [
    "Ma réponse : "
   ]
  },
  {
   "cell_type": "markdown",
   "id": "4-4a2a7c",
   "metadata": {},
   "source": [
    "<details>\n",
    "<summary style=\"border-left:3px solid #3c763d; border-radius:2pt; width:100%; color:#3c763d; padding:6px; background-color: #dff0d8\"> \n",
    "Réponse\n",
    "</summary>  \n",
    "\n",
    "<div style=\"border-left:3px solid #3c763d; border-radius:2pt; color:#3c763d; padding:6px; background-color: #eff0e8\">D) la combinaison de trois lumières\n",
    "</div>\n",
    "</details>\n",
    "                \n"
   ]
  },
  {
   "cell_type": "markdown",
   "id": "5-533c16",
   "metadata": {},
   "source": [
    "## Liste de couleurs\n",
    "\n",
    "Voici une liste des couleurs disponibles. Pour les utiliser vous devez les écrire entre apostrophes, comme par exemple `'pink'` ou `'hotpink'`.\n",
    "\n"
   ]
  },
  {
   "cell_type": "markdown",
   "id": "6-9f0e7f",
   "metadata": {},
   "source": [
    "![couleurs](https://raw.githubusercontent.com/edunumsec2/book/master/src/appr/prog1/media/colors.png)\n",
    "\n"
   ]
  },
  {
   "cell_type": "markdown",
   "id": "7-7559d9",
   "metadata": {},
   "source": [
    "## Couleur de ligne\n",
    "\n",
    "La fonction `color(c)` permet de définir la couleur de ligne `c`.\n",
    "Entre les parenthèses de la fonction, vous devez écrire le nom d'une couleur, entouré d'apostrophes — par exemple `color('red')` pour dessiner une ligne rouge.\n",
    "\n",
    "Voici un triangle avec 3 segments de couleurs différentes.\n",
    "\n"
   ]
  },
  {
   "cell_type": "markdown",
   "id": "8-84d487",
   "metadata": {},
   "source": [
    "<h3 style=\"color:teal;background-color:azure;\" > <i class=\"fa fa-pencil\" aria-hidden=\"true\"> </i> &nbsp; Exercice 1 </h3>Modifiez les 3 couleurs en vous inspirant de la liste.\n",
    "\n"
   ]
  },
  {
   "cell_type": "code",
   "execution_count": null,
   "id": "9-ce191b",
   "metadata": {},
   "outputs": [],
   "source": [
    "from turtle import *\n",
    "d = 150\n",
    "width(20)\n",
    "\n",
    "color('red')\n",
    "forward(d)\n",
    "left(120)\n",
    "\n",
    "color('lime')\n",
    "forward(d)\n",
    "left(120)\n",
    "\n",
    "color('blue')\n",
    "forward(d)\n",
    "left(120)\n",
    "\n",
    "done()\n"
   ]
  },
  {
   "cell_type": "markdown",
   "id": "10-40c09c",
   "metadata": {},
   "source": [
    "## Couleur de point\n",
    "\n",
    "Nous pouvons afficher des points à chaque sommet :\n",
    "\n",
    "- la fonction `dot()` dessine un point standard,\n",
    "- la fonction `dot(d)` dessine un disque d'un diamètre `d`,\n",
    "- la fonction `dot(d, c)` dessine un disque de diamètre `d` et de couleur `c`.\n",
    "\n"
   ]
  },
  {
   "cell_type": "markdown",
   "id": "11-650d06",
   "metadata": {},
   "source": [
    "<h3 style=\"color:teal;background-color:azure;\" > <i class=\"fa fa-pencil\" aria-hidden=\"true\"> </i> &nbsp; Exercice 2 </h3>Modifiez la taille et la couleur des 3 points.\n",
    "\n"
   ]
  },
  {
   "cell_type": "code",
   "execution_count": null,
   "id": "12-1e1be6",
   "metadata": {},
   "outputs": [],
   "source": [
    "from turtle import *\n",
    "up()\n",
    "\n",
    "dot(300, 'red')\n",
    "forward(150)\n",
    "\n",
    "dot(160, 'lime')\n",
    "left(120)\n",
    "forward(150)\n",
    "\n",
    "dot(80, 'blue')\n",
    "\n",
    "done()\n"
   ]
  },
  {
   "cell_type": "markdown",
   "id": "13-943330",
   "metadata": {},
   "source": [
    "### Drapeau du Japon\n",
    "\n",
    "Le drapeau du Japon est un drapeau blanc avec un grand disque rouge en son centre. Ce disque représente le soleil, plus précisément la déesse shinto du soleil Amaterasu.\n",
    "\n",
    "Le rapport entre la hauteur et la largeur du drapeau est de 2:3, et le diamètre du disque est $\\frac{3}{5}$ de la hauteur du drapeau.\n",
    "\n"
   ]
  },
  {
   "cell_type": "markdown",
   "id": "14-a86277",
   "metadata": {},
   "source": [
    "<h3 style=\"color:teal;background-color:azure;\" > <i class=\"fa fa-pencil\" aria-hidden=\"true\"> </i> &nbsp; Exercice 3 </h3>Supprimez l'appel de la fonction `hideturtle()`. À quoi sert cette fonction ?\n",
    "\n"
   ]
  },
  {
   "cell_type": "code",
   "execution_count": null,
   "id": "15-0d45a0",
   "metadata": {},
   "outputs": [],
   "source": [
    "from turtle import *\n",
    "dot(240, 'red')\n",
    "hideturtle()\n",
    "\n",
    "done()\n"
   ]
  },
  {
   "cell_type": "markdown",
   "id": "16-f50d7b",
   "metadata": {},
   "source": [
    "### Lignes et points\n",
    "\n",
    "La fonction `dot()` sans argument de taille, va automatiquement choisir une taille qui est environ le double de l'épaisseur du trait.\n",
    "\n"
   ]
  },
  {
   "cell_type": "markdown",
   "id": "17-36df9d",
   "metadata": {},
   "source": [
    "<h3 style=\"color:teal;background-color:azure;\" > <i class=\"fa fa-pencil\" aria-hidden=\"true\"> </i> &nbsp; Exercice 4 </h3>Augmentez l'épaisseur de la ligne à 10 pour vérifier que la taille des points change en conséquence.\n",
    "\n"
   ]
  },
  {
   "cell_type": "code",
   "execution_count": null,
   "id": "18-38aa63",
   "metadata": {},
   "outputs": [],
   "source": [
    "from turtle import *\n",
    "d = 100\n",
    "\n",
    "forward(d)\n",
    "left(120)\n",
    "dot()\n",
    "\n",
    "forward(d)\n",
    "left(120)\n",
    "dot()\n",
    "\n",
    "forward(d)\n",
    "left(120)\n",
    "dot()\n",
    "\n",
    "done()\n"
   ]
  },
  {
   "cell_type": "markdown",
   "id": "19-cc7573",
   "metadata": {},
   "source": [
    "### Points et couleurs\n",
    "\n",
    "Il est possible de colorier les points différemment de la ligne. Dans ce cas, il faut spécifier la taille _et_ la couleur dans la fonction `dot()`.\n",
    "\n"
   ]
  },
  {
   "cell_type": "code",
   "execution_count": null,
   "id": "20-01eb52",
   "metadata": {},
   "outputs": [],
   "source": [
    "from turtle import *\n",
    "pencolor('blue')\n",
    "d = 100\n",
    "\n",
    "forward(d)\n",
    "left(120)\n",
    "dot(10, 'red')\n",
    "\n",
    "forward(d)\n",
    "left(120)\n",
    "dot(10, 'red')\n",
    "\n",
    "forward(d)\n",
    "left(120)\n",
    "dot(10, 'red')\n",
    "\n",
    "done()\n"
   ]
  },
  {
   "cell_type": "markdown",
   "id": "21-658867",
   "metadata": {},
   "source": [
    "## Couleur de remplissage\n",
    "\n",
    "Avec la fonction `fillcolor()`, nous pouvons définir une couleur de remplissage pour une forme quelconque que nous voulons dessiner. Pour remplir une forme avec une couleur, nous devons ajouter les deux fonctions :\n",
    "\n",
    "- `begin_fill()` au début de la forme,\n",
    "- `end_fill()` à la fin de la forme.\n",
    "\n",
    "Par exemple, ce programme-ci dessine un triangle vert.\n",
    "\n"
   ]
  },
  {
   "cell_type": "markdown",
   "id": "22-3be5d2",
   "metadata": {},
   "source": [
    "<h3 style=\"color:teal;background-color:azure;\" > <i class=\"fa fa-pencil\" aria-hidden=\"true\"> </i> &nbsp; Exercice 5 </h3>Ajoutez un triangle d'une couleur différente.\n",
    "\n"
   ]
  },
  {
   "cell_type": "code",
   "execution_count": null,
   "id": "23-99ff0f",
   "metadata": {},
   "outputs": [],
   "source": [
    "from turtle import *\n",
    "d = 100\n",
    "\n",
    "def triangle():\n",
    "    forward(d)\n",
    "    left(120)\n",
    "    forward(d)\n",
    "    left(120)\n",
    "    forward(d)\n",
    "    left(120)\n",
    "\n",
    "fillcolor('chartreuse')\n",
    "begin_fill()\n",
    "triangle()\n",
    "end_fill()\n",
    "\n",
    "done()\n"
   ]
  },
  {
   "cell_type": "markdown",
   "id": "24-97d25f",
   "metadata": {},
   "source": [
    "On aurait pu inclure les deux fonctions qui indiquent le remplissage directement dans la fonction `triangle()`. Ceci simplifie le code quand on dessine plusieurs triangles.\n",
    "\n"
   ]
  },
  {
   "cell_type": "code",
   "execution_count": null,
   "id": "25-32d948",
   "metadata": {},
   "outputs": [],
   "source": [
    "from turtle import *\n",
    "d = 100\n",
    "\n",
    "def triangle():\n",
    "    begin_fill()\n",
    "    forward(d)\n",
    "    left(120)\n",
    "    forward(d)\n",
    "    left(120)\n",
    "    forward(d)\n",
    "    left(120)\n",
    "    end_fill()\n",
    "\n",
    "fillcolor('chartreuse')\n",
    "triangle()\n",
    "left(60)\n",
    "fillcolor('cyan')\n",
    "triangle()\n",
    "\n",
    "done()\n"
   ]
  },
  {
   "cell_type": "markdown",
   "id": "26-c44d12",
   "metadata": {},
   "source": [
    "## Couleur de fond\n",
    "\n",
    "La combinaison `getscreen().bgcolor()` permet de définir la couleur d'arrière-fond (bg = background).\n",
    "\n",
    "Dans l'exemple suivant, nous dessinons le drapeau du Bangladesh. Il est vert avec un disque rouge.\n",
    "\n"
   ]
  },
  {
   "cell_type": "code",
   "execution_count": null,
   "id": "27-7e4dae",
   "metadata": {},
   "outputs": [],
   "source": [
    "from turtle import *\n",
    "getscreen().bgcolor('green')\n",
    "\n",
    "backward(30)\n",
    "dot(266, 'red')\n",
    "hideturtle()\n",
    "\n",
    "done()\n"
   ]
  },
  {
   "cell_type": "markdown",
   "id": "28-7a41b1",
   "metadata": {},
   "source": [
    "Le drapeau au soleil rouge a été utilisé pour la première fois en 1971. Le rouge symbolise le sang des Bangladais tués depuis 1947 lors des affrontements avec le Pakistan. Le vert symbolise la vitalité, la jeunesse et les terres agricoles.\n",
    "\n",
    "```{caution}\n",
    "La fonction `bgcolor()` ne fonctionne pas pour l'exportation vers un fichier image au format `.eps`. \n",
    "\n",
    "Pour remédier à ce problème, nous utilisons une solution simpliste.\n",
    "À la place de `bgcolor()` nous utilisons tout simplement un très grand disque `dot()` qui dépasse les bornes de l'image.\n",
    "```\n",
    "\n",
    "Le disque est décentré, légèrement décalé vers la fixation, de manière à apparaître centré lorsque le drapeau flotte dans le vent.\n",
    "\n"
   ]
  },
  {
   "cell_type": "code",
   "execution_count": null,
   "id": "29-75793f",
   "metadata": {},
   "outputs": [],
   "source": [
    "from turtle import *\n",
    "dot(1000, 'green')  # astuce pour changer le background\n",
    "\n",
    "backward(30)\n",
    "dot(266, 'red')\n",
    "hideturtle()\n",
    "\n",
    "done()\n"
   ]
  },
  {
   "cell_type": "markdown",
   "id": "30-9f7f98",
   "metadata": {},
   "source": [
    "## Forme ouverte\n",
    "\n",
    "La forme ne doit pas nécessairement être fermée pour être remplie d'une couleur.\n",
    "Dans l'exemple suivant, nous dessinons une forme ouverte avec seulement deux lignes.\n",
    "Le résultat est un triangle avec deux bordures et un troisième segment sans bordure.\n",
    "\n",
    "Une équerre est un instrument formé de deux pièces ajustées à angle droit. L'équerre est utilisée soit pour vérifier des angles dièdres droits, soit pour tracer des angles plans droits.\n",
    "\n"
   ]
  },
  {
   "cell_type": "markdown",
   "id": "31-c98916",
   "metadata": {},
   "source": [
    "<h3 style=\"color:teal;background-color:azure;\" > <i class=\"fa fa-pencil\" aria-hidden=\"true\"> </i> &nbsp; Exercice 6 </h3>Dessinez le drapeau bicolore du canton de Zurich.\n",
    "\n"
   ]
  },
  {
   "cell_type": "code",
   "execution_count": null,
   "id": "32-79128a",
   "metadata": {},
   "outputs": [],
   "source": [
    "from turtle import *\n",
    "dot(1000, 'moccasin')\n",
    "\n",
    "def equerre():\n",
    "    down()\n",
    "    begin_fill()\n",
    "    forward(150)\n",
    "    left(90)\n",
    "    forward(100)\n",
    "    left(90)\n",
    "    end_fill()\n",
    "    up()\n",
    "\n",
    "fillcolor('sienna')\n",
    "equerre()\n",
    "forward(30)\n",
    "fillcolor('gold')\n",
    "equerre()\n",
    "\n",
    "done()\n"
   ]
  },
  {
   "cell_type": "markdown",
   "id": "33-8d80cd",
   "metadata": {},
   "source": [
    "## Smiley\n",
    "\n",
    "Avec des cercles de tailles différentes dessinées avec `dot(d)`, nous pouvons dessiner un smiley.\n",
    "Voici un smiley qui exprime l'indifférence.\n",
    "\n"
   ]
  },
  {
   "cell_type": "markdown",
   "id": "34-7d4de9",
   "metadata": {},
   "source": [
    "<h3 style=\"color:teal;background-color:azure;\" > <i class=\"fa fa-pencil\" aria-hidden=\"true\"> </i> &nbsp; Exercice 7 </h3>Ajoutez `up()` au début du programme pour ne plus montrer la trajectoire de la tortue.\n",
    "\n"
   ]
  },
  {
   "cell_type": "code",
   "execution_count": null,
   "id": "35-47ea0f",
   "metadata": {},
   "outputs": [],
   "source": [
    "from turtle import *\n",
    "dot(1000, 'linen')\n",
    "\n",
    "dot(300, 'yellow')      # visage\n",
    "\n",
    "left(45)\n",
    "forward(60)\n",
    "dot(40)                 # oeuil droite\n",
    "\n",
    "right(45)\n",
    "backward(100)\n",
    "dot(40)                 # oeuil gauche\n",
    "\n",
    "right(90)\n",
    "forward(100)\n",
    "left(90)\n",
    "width(20)\n",
    "forward(100)            # bouche\n",
    "\n",
    "done()\n"
   ]
  },
  {
   "cell_type": "markdown",
   "id": "36-87a221",
   "metadata": {},
   "source": [
    "Voici un autre smiley qui exprime la surprise.\n",
    "\n"
   ]
  },
  {
   "cell_type": "markdown",
   "id": "37-8d650b",
   "metadata": {},
   "source": [
    "<h3 style=\"color:teal;background-color:azure;\" > <i class=\"fa fa-pencil\" aria-hidden=\"true\"> </i> &nbsp; Exercice 8 </h3>Dessinez encore un autre smiley.\n",
    "\n"
   ]
  },
  {
   "cell_type": "code",
   "execution_count": null,
   "id": "38-83999c",
   "metadata": {},
   "outputs": [],
   "source": [
    "from turtle import *\n",
    "dot(1000, 'azure')\n",
    "\n",
    "dot(300, 'palegreen')\n",
    "\n",
    "left(45)\n",
    "forward(60)\n",
    "dot(40)\n",
    "\n",
    "right(45)\n",
    "backward(90)\n",
    "dot(40)\n",
    "\n",
    "right(60)\n",
    "forward(100)\n",
    "dot(80)\n",
    "\n",
    "done()\n"
   ]
  },
  {
   "cell_type": "markdown",
   "id": "39-ad4700",
   "metadata": {},
   "source": [
    "## Croix\n",
    "\n",
    "La fonction `bras()` dessine les 3 côtés d'un carré et tourne, à la fin, dans le sens approprié pour la suite.\n",
    "Répété 4 fois, ceci donne la forme d'une croix.\n",
    "\n",
    "Ici, nous utilisons la fonction `color('white')` pour changer simultanément la couleur de ligne **et** la couleur de remplissage en blanc.\n",
    "\n"
   ]
  },
  {
   "cell_type": "markdown",
   "id": "40-0958fc",
   "metadata": {},
   "source": [
    "<h3 style=\"color:teal;background-color:azure;\" > <i class=\"fa fa-pencil\" aria-hidden=\"true\"> </i> &nbsp; Exercice 9 </h3>Inversez les couleurs pour trouver le drapeau de la Croix-Rouge.\n",
    "\n"
   ]
  },
  {
   "cell_type": "code",
   "execution_count": null,
   "id": "41-0959b4",
   "metadata": {},
   "outputs": [],
   "source": [
    "from turtle import *\n",
    "dot(1000, 'red')\n",
    "d = 60\n",
    "\n",
    "def bras():\n",
    "    forward(d)\n",
    "    left(90)\n",
    "    forward(d)\n",
    "    left(90)\n",
    "    forward(d)\n",
    "    right(90)\n",
    "\n",
    "def croix():\n",
    "    bras()\n",
    "    bras()\n",
    "    bras()\n",
    "    bras()\n",
    "\n",
    "color('white')\n",
    "begin_fill()\n",
    "croix()\n",
    "end_fill()\n",
    "\n",
    "done()\n"
   ]
  },
  {
   "cell_type": "markdown",
   "id": "42-2dfc45",
   "metadata": {},
   "source": [
    "## Maison\n",
    "\n",
    "Nous reprenons l'exemple du chapitre précédent de la fonction `maison()`. Cette fois, nous y intégrons `begin_fill()` et `end_fill()` pour pouvoir les colorier..\n",
    "\n"
   ]
  },
  {
   "cell_type": "markdown",
   "id": "43-833557",
   "metadata": {},
   "source": [
    "<h3 style=\"color:teal;background-color:azure;\" > <i class=\"fa fa-pencil\" aria-hidden=\"true\"> </i> &nbsp; Exercice 10 </h3>Ajoutez encore une maison d'une autre couleur.\n",
    "\n"
   ]
  },
  {
   "cell_type": "code",
   "execution_count": null,
   "id": "44-3032f6",
   "metadata": {},
   "outputs": [],
   "source": [
    "from turtle import *\n",
    "dot(1000, 'lightgreen')\n",
    "\n",
    "def maison():\n",
    "    begin_fill()\n",
    "    forward(100)\n",
    "    left(90)\n",
    "    forward(60)\n",
    "    left(45)\n",
    "    forward(71)\n",
    "    left(90)\n",
    "    forward(71)\n",
    "    left(45)\n",
    "    forward(60)\n",
    "    left(90)\n",
    "    end_fill()\n",
    "\n",
    "backward(200)\n",
    "fillcolor('pink')\n",
    "maison()\n",
    "forward(150)\n",
    "fillcolor('lightblue')\n",
    "maison()\n",
    "\n",
    "done()\n"
   ]
  },
  {
   "cell_type": "markdown",
   "id": "45-5f64cd",
   "metadata": {},
   "source": [
    "## Exporter une image\n",
    "\n",
    "Pour enregistrer votre dessin vers un fichier image, faites ceci :\n",
    "\n",
    "- Téléchargez le code.\n",
    "- Ouvrez-le avec un éditeur externe.\n",
    "- Ajoutez les 2 lignes de code à la fin.\n",
    "- Exécutez votre code.\n",
    "\n",
    "```  python\n",
    "from tkinter import * \n",
    "Screen().getcanvas().postscript(file='fichier.eps')\n",
    "```\n",
    "\n",
    "Votre image est exportée vers `fichier.eps`, qui se trouve dans le même dossier que votre code.\n",
    "Vous pouvez changer le nom du fichier, mais devez garder l'extension `.eps`.\n",
    "\n",
    "Sur un Mac, vous pouvez ouvrir un fichier `.eps` avec l'application **Aperçu** et ensuite exporter l'image vers le format PDF, JPG ou PNG.\n",
    "\n"
   ]
  },
  {
   "cell_type": "markdown",
   "id": "46-c9fe4d",
   "metadata": {},
   "source": [
    "## Exercices\n",
    "\n",
    "- Téléchargez un exercice.\n",
    "- Éditez-le dans un éditeur externe tel que Thonny.\n",
    "- Déposez-le sur Moodle (ou une plateforme équivalente dans votre école).\n",
    "\n"
   ]
  },
  {
   "cell_type": "markdown",
   "id": "47-8b8fe1",
   "metadata": {},
   "source": [
    "### Arc-en-ciel\n",
    "\n",
    "Dessinez un arc-en-ciel avec des disques de rayons et de couleurs appropriés.\n",
    "\n"
   ]
  },
  {
   "cell_type": "code",
   "execution_count": null,
   "id": "48-48b93e",
   "metadata": {},
   "outputs": [],
   "source": [
    "from turtle import *\n",
    "# Prénom Nom, classe\n",
    "\n",
    "left(90)\n",
    "back(300)\n",
    "dot(800, 'red')\n",
    "\n",
    "done()\n"
   ]
  },
  {
   "cell_type": "markdown",
   "id": "49-69342e",
   "metadata": {},
   "source": [
    "### Sapin de Noël\n",
    "\n",
    "Dessinez et coloriez un sapin de Noël. Définissez des fonctions pour des boules et des étoiles.\n",
    "\n"
   ]
  },
  {
   "cell_type": "code",
   "execution_count": null,
   "id": "50-51203d",
   "metadata": {},
   "outputs": [],
   "source": [
    "from turtle import *\n",
    "# Prénom Nom, classe\n",
    "\n",
    "def sapin():\n",
    "    ...\n",
    "def boule():\n",
    "    ...\n",
    "def etoile():\n",
    "    ...\n",
    "\n",
    "sapin()\n",
    "forward(100)\n",
    "boule()\n",
    "done()\n"
   ]
  },
  {
   "cell_type": "markdown",
   "id": "51-a42d6b",
   "metadata": {},
   "source": [
    "### Ville\n",
    "\n",
    "Dessinez et coloriez une ville. Définissez des fonctions pour des maisons et des immeubles.\n",
    "\n"
   ]
  },
  {
   "cell_type": "code",
   "execution_count": null,
   "id": "52-0d1785",
   "metadata": {},
   "outputs": [],
   "source": [
    "from turtle import *\n",
    "# Prénom Nom, classe\n",
    "\n",
    "dot(1000, 'skyblue')  # background\n",
    "\n",
    "def maison():\n",
    "    ...\n",
    "def immeuble():\n",
    "    ...\n",
    "\n",
    "maison()\n",
    "forward(100)\n",
    "immeuble()\n",
    "done()\n"
   ]
  },
  {
   "cell_type": "markdown",
   "id": "53-1e5b4e",
   "metadata": {},
   "source": [
    "### Chambre\n",
    "\n",
    "Dessinez une chambre avec des meubles en couleurs, que vous définissez chacun par une fonction. Vous êtes libre d'inventer d'autres meubles, de les arranger différemment et de les utiliser plusieurs fois.\n",
    "\n"
   ]
  },
  {
   "cell_type": "code",
   "execution_count": null,
   "id": "54-ecf926",
   "metadata": {},
   "outputs": [],
   "source": [
    "from turtle import *\n",
    "# Prénom Nom, classe\n",
    "\n",
    "def chaise():\n",
    "    left(90)\n",
    "    forward(100)\n",
    "    back(50)\n",
    "    right(90)\n",
    "    forward(50)\n",
    "    right(90)\n",
    "    forward(50)\n",
    "    left(90)\n",
    "\n",
    "def table():\n",
    "    ...\n",
    "def lit():\n",
    "    ...\n",
    "\n",
    "chaise()\n",
    "table()\n",
    "lit()\n",
    "done()\n"
   ]
  },
  {
   "cell_type": "markdown",
   "id": "55-89733c",
   "metadata": {},
   "source": [
    "### Tetris\n",
    "\n",
    "Les carrés de base d'un tétromino mesurent 40 × 40 pixels. Il y a 7 formes différentes de tétrominos, qui sont nommées d'après les lettres auxquelles ils ressemblent et qui ont des couleurs standard :\n",
    "\n"
   ]
  },
  {
   "cell_type": "markdown",
   "id": "56-9cd449",
   "metadata": {},
   "source": [
    "![tétrominos](https://raw.githubusercontent.com/edunumsec2/book/master/src/appr/prog1/media/tetromino.png)\n",
    "\n",
    "Créez des fonctions pour dessiner les 7 tétrominos avec leurs couleurs appropriées, et composez la forme ci-dessous.\n",
    "\n"
   ]
  },
  {
   "cell_type": "markdown",
   "id": "57-5c2b9a",
   "metadata": {},
   "source": [
    "![tetris](https://raw.githubusercontent.com/edunumsec2/book/master/src/appr/prog1/media/tetris2.png)\n",
    "\n"
   ]
  },
  {
   "cell_type": "code",
   "execution_count": null,
   "id": "58-6e1647",
   "metadata": {},
   "outputs": [],
   "source": [
    "from turtle import *\n",
    "# Prénom Nom, classe\n",
    "d = 40\n",
    "\n",
    "def O():\n",
    "    fillcolor('yellow')\n",
    "    dot()\n",
    "    begin_fill()\n",
    "    forward(2*d)\n",
    "    left(90)\n",
    "    forward(2*d)\n",
    "    left(90)\n",
    "    forward(2*d)\n",
    "    left(90)\n",
    "    forward(2*d)\n",
    "    left(90)\n",
    "    end_fill()\n",
    "\n",
    "def I():\n",
    "    ...\n",
    "def T():\n",
    "    ...\n",
    "def L():\n",
    "    ...\n",
    "def J():\n",
    "    ...\n",
    "def Z():\n",
    "    ...\n",
    "def S():\n",
    "    ...\n",
    "\n",
    "back(200)\n",
    "O()\n",
    "...\n",
    "done()"
   ]
  },
  {
   "cell_type": "markdown",
   "id": "59-cebd46",
   "metadata": {},
   "source": [
    "---\n",
    "\n",
    "#### Remarque générale\n",
    "\n",
    "Ce document est une adaptation d'un ressource pédagogique tiré du catalogue modulo https://modulo-info.ch/. Il est sous license Creative Commons [BY-NC-SA](https://creativecommons.org/licenses/?lang=fr)\n",
    "![Licence Creative Commons](https://i.creativecommons.org/l/by-nc-sa/4.0/88x31.png)\n",
    "\n",
    "    "
   ]
  }
 ],
 "metadata": {
  "kernelspec": {
   "display_name": "Python 3 (ipykernel)",
   "language": "python",
   "name": "python3"
  },
  "language_info": {
   "codemirror_mode": {
    "name": "ipython",
    "version": 3
   },
   "file_extension": ".py",
   "mimetype": "text/x-python",
   "name": "python",
   "nbconvert_exporter": "python",
   "pygments_lexer": "ipython3",
   "version": "3.10.12"
  }
 },
 "nbformat": 4,
 "nbformat_minor": 5
}
