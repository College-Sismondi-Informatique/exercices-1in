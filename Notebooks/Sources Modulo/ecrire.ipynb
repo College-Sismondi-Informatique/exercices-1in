{
 "cells": [
  {
   "cell_type": "markdown",
   "id": "0-4a42e0",
   "metadata": {},
   "source": [
    "<div style=\"padding:20px;background-color:papayawhip;\" > \n",
    "<h3 style=\"color:chocolate\"> <i class=\"fa fa-info\" aria-hidden=\"true\"> </i> &nbsp; Remarque introductive &nbsp;  <i class=\"fa fa-info\" aria-hidden=\"true\"></h3> \n",
    "<p> Ce fichier est fait pour être lu sur le site <a href=\"https://notebook.basthon.fr/\"><img src='https://notebook.basthon.fr/assets/efede5218c9087496f16.png' style=\"border: 0; display:inline; margin: 0 5px; height:30px\" alt=\"Basthon\"/></a>. <br>\n",
    "    \n",
    "Si vous l'avez ouvert avec un autre programme, comme Jupyter notebook, vous riquez de rencontrer quelques bugs. <br>\n",
    "Veuillez cliquez sur <a href=\"https://notebook.basthon.fr/\">ce lien</a> et y charger ce fichier à l'aide du bouton \"Ouvrir\"  &nbsp; <i class=\"fa fa-folder\" aria-hidden=\"true\"> </i>\n",
    "</p> </div>    "
   ]
  },
  {
   "cell_type": "markdown",
   "id": "1-dfbd0d",
   "metadata": {},
   "source": [
    "# Ecrire - `str`\n",
    "\n",
    "Dans ce chapitre, nous allons nous intéresser au texte. Le texte est une catégorie d'information qui est essentielle dans beaucoup de programmes, tels qu'une application de messagerie ou un programme de traitement de texte.\n",
    "\n",
    "Techniquement un texte est appelé une **chaîne de caractères**, ou string en anglais (`str`). Nous allons voir que :\n",
    "\n",
    "- un texte est délimité par une apostrophe `'text'` ou un guillemet double `\"text\"`,\n",
    "- l'opérateur `*` répète un texte,\n",
    "- la fonction `ord(c)` retourne l'entier `i` qui représenter le caractère `c`.\n",
    "\n"
   ]
  },
  {
   "cell_type": "markdown",
   "id": "2-99690a",
   "metadata": {},
   "source": [
    "<h3 style=\"color:chocolate;background-color:papayawhip;\" > <i class=\"fa fa-question\" aria-hidden=\"true\"> </i> &nbsp; Quizz </h3> \n",
    " \n",
    "```\n",
    "Un string informatique est\n",
    "\n",
    "A) un sous-vêtement pour informaticien\n",
    "B) une ficelle de données\n",
    "C) un enchaînement de lettres\n",
    "D) un instrument de musique\n",
    "```"
   ]
  },
  {
   "cell_type": "raw",
   "id": "3-770ee9",
   "metadata": {},
   "source": [
    "Ma réponse : "
   ]
  },
  {
   "cell_type": "markdown",
   "id": "4-c36e0c",
   "metadata": {},
   "source": [
    "<details>\n",
    "<summary style=\"border-left:3px solid #3c763d; border-radius:2pt; width:100%; color:#3c763d; padding:6px; background-color: #dff0d8\"> \n",
    "Réponse\n",
    "</summary>  \n",
    "\n",
    "<div style=\"border-left:3px solid #3c763d; border-radius:2pt; color:#3c763d; padding:6px; background-color: #eff0e8\">C) un enchaînement de lettres\n",
    "</div>\n",
    "</details>\n",
    "                \n"
   ]
  },
  {
   "cell_type": "markdown",
   "id": "5-65fdd0",
   "metadata": {},
   "source": [
    "## Dire bonjour\n",
    "\n",
    "Nous commençons par le grand classique des livres d'introduction à la programmation : afficher la fameuse phrase *hello world*.\n",
    "La fonction `print()` permet d'écrire du texte vers la console.\n",
    "Ici, la console est la zone rectangulaire qui s'affiche sous le code du programme.\n",
    "\n"
   ]
  },
  {
   "cell_type": "markdown",
   "id": "6-30ad51",
   "metadata": {},
   "source": [
    "<h3 style=\"color:teal;background-color:azure;\" > <i class=\"fa fa-pencil\" aria-hidden=\"true\"> </i> &nbsp; Exercice 1 </h3>Affichez encore 2-3 lignes de texte en plus avec la fonction `print()`.\n",
    "\n"
   ]
  },
  {
   "cell_type": "code",
   "execution_count": null,
   "id": "7-3211a9",
   "metadata": {},
   "outputs": [],
   "source": [
    "print('hello world.')\n"
   ]
  },
  {
   "cell_type": "markdown",
   "id": "8-fe387b",
   "metadata": {},
   "source": [
    "## Délimiter un texte\n",
    "\n",
    "Tout caractère imprimable peut être utilisé pour créer un texte :\n",
    "\n",
    "- lettres (`a...z` et `A...Z`)\n",
    "- chiffres (`0...9`)\n",
    "- ponctuations (`.,;:?!`)\n",
    "- parenthèses (`[]{}<>`)\n",
    "- symboles (`$*#...`)\n",
    "\n",
    "Pour marquer une partie du code comme texte, cette partie doit être délimité par l'un des symboles spéciaux qui sont :\n",
    "\n",
    "- apostrophe (`'`)\n",
    "- guillemets doubles (`\"`)\n",
    "- trois guillemets doubles (`\"\"\"`)\n",
    "\n"
   ]
  },
  {
   "cell_type": "markdown",
   "id": "9-ec08e0",
   "metadata": {},
   "source": [
    "<h3 style=\"color:teal;background-color:azure;\" > <i class=\"fa fa-pencil\" aria-hidden=\"true\"> </i> &nbsp; Exercice 2 </h3>Ajoutez des lignes supplémentaires au texte qui est délimité par `\"\"\"`.\n",
    "\n"
   ]
  },
  {
   "cell_type": "code",
   "execution_count": null,
   "id": "10-36faca",
   "metadata": {},
   "outputs": [],
   "source": [
    "print('apostrophe')\n",
    "print(\"guillemets doubles\")\n",
    "print(\"\"\"\n",
    "Délimité avec trois guillemets,\n",
    "le texte peut s'étaler sur plusieurs lignes.\n",
    "\"\"\")\n"
   ]
  },
  {
   "cell_type": "markdown",
   "id": "11-95661e",
   "metadata": {},
   "source": [
    "## Répéter un texte\n",
    "\n",
    "L'opérateur `*` permet de répéter un texte composé d'un ou de plusieurs caractères.\n",
    "\n"
   ]
  },
  {
   "cell_type": "markdown",
   "id": "12-1e11de",
   "metadata": {},
   "source": [
    "<h3 style=\"color:teal;background-color:azure;\" > <i class=\"fa fa-pencil\" aria-hidden=\"true\"> </i> &nbsp; Exercice 3 </h3>Répétez une chaîne plus longue.\n",
    "\n"
   ]
  },
  {
   "cell_type": "code",
   "execution_count": null,
   "id": "13-bd04f4",
   "metadata": {},
   "outputs": [],
   "source": [
    "print('ha' * 10)\n",
    "print('=' * 20)\n",
    "print('hello ' * 3)\n"
   ]
  },
  {
   "cell_type": "markdown",
   "id": "14-8be4a3",
   "metadata": {},
   "source": [
    "## Concaténer un texte\n",
    "\n",
    "Le mot **concaténer** veut dire enchaîner ou coller ensemble.\n",
    "\n",
    "L'opérateur `+` permet de concaténer deux chaînes de texte.\n",
    "Mais juxtaposer deux chaînes de texte et les séparer par zéro ou plusieurs espaces va aussi concaténer la chaîne.\n",
    "\n"
   ]
  },
  {
   "cell_type": "code",
   "execution_count": null,
   "id": "15-3f0a04",
   "metadata": {},
   "outputs": [],
   "source": [
    "print('bon'    'jour')\n",
    "print('bon''jour')\n",
    "print('bon' + 'jour')\n"
   ]
  },
  {
   "cell_type": "markdown",
   "id": "16-e77776",
   "metadata": {},
   "source": [
    "## La longueur d'une chaîne\n",
    "\n",
    "La fonction `len()` retourne la longueur d'une chaîne.\n",
    "La chaîne vide (`\"\"`) a une longueur de 0.\n",
    "\n"
   ]
  },
  {
   "cell_type": "markdown",
   "id": "17-bf22ad",
   "metadata": {},
   "source": [
    "<h3 style=\"color:teal;background-color:azure;\" > <i class=\"fa fa-pencil\" aria-hidden=\"true\"> </i> &nbsp; Exercice 4 </h3>Ajoutez quelques caractères et re-exécutez le code.\n",
    "\n"
   ]
  },
  {
   "cell_type": "code",
   "execution_count": null,
   "id": "18-3cd1eb",
   "metadata": {},
   "outputs": [],
   "source": [
    "print(len('bonjour'))\n",
    "print(len(\"\"))\n",
    "print(len(\"\"\"\n",
    "Délimité avec trois guillemets,\n",
    "le texte peut s'étaler sur plusieurs lignes.\n",
    "\"\"\"))\n"
   ]
  },
  {
   "cell_type": "markdown",
   "id": "19-0b79f5",
   "metadata": {},
   "source": [
    "Pour savoir combien de fois il faut répéter un symbole dans le but d'obtenir la même longueur qu'un texte donné, nous pouvons utiliser la fonction `len()` et ainsi créer des lignes qui ont la même longueur qu'un texte.\n",
    "\n"
   ]
  },
  {
   "cell_type": "markdown",
   "id": "20-32cf23",
   "metadata": {},
   "source": [
    "<h3 style=\"color:teal;background-color:azure;\" > <i class=\"fa fa-pencil\" aria-hidden=\"true\"> </i> &nbsp; Exercice 5 </h3>Entourez votre texte d'un autre symbole.\n",
    "\n"
   ]
  },
  {
   "cell_type": "code",
   "execution_count": null,
   "id": "21-93bd3e",
   "metadata": {},
   "outputs": [],
   "source": [
    "x = input('Entrez une phrase: ')\n",
    "print('=' * len(x))\n",
    "print(x)\n",
    "print('=' * len(x))\n"
   ]
  },
  {
   "cell_type": "markdown",
   "id": "22-ca04ad",
   "metadata": {},
   "source": [
    "## Le code ASCII\n",
    "\n",
    "Le code ASCII  (American Standard Code for Information Interchange) était un des premiers standards utilisés pour représenter des symboles dans un ordinateur. Avec initialement 7 et plus tard 8 bits, il désigne un ensemble de lettres, chiffres, symboles et ponctuations.\n",
    "\n",
    "Aujourd'hui le standard Unicode permet d'encoder la totalité des symboles utilisés dans les différents langages du monde.\n",
    "\n",
    "La fonction `ord(c)` retourne le code ASCII (Unicode) qui est associé au caractère `c`.\n",
    "\n"
   ]
  },
  {
   "cell_type": "code",
   "execution_count": null,
   "id": "23-aa49c6",
   "metadata": {},
   "outputs": [],
   "source": [
    "print('A =', ord('A'))\n",
    "print('B =', ord('B'))\n",
    "print('a =', ord('a'))\n"
   ]
  },
  {
   "cell_type": "markdown",
   "id": "24-4f18e6",
   "metadata": {},
   "source": [
    "Nous constatons que :\n",
    "\n",
    "- le code ASCII pour la lettre A est 65,\n",
    "- les codes suivent l'ordre de l'alphabet,\n",
    "- les codes des minuscules ont un écart de 32 par rapport au code des majuscules.\n",
    "\n"
   ]
  },
  {
   "cell_type": "code",
   "execution_count": null,
   "id": "25-c14f34",
   "metadata": {},
   "outputs": [],
   "source": [
    "for c in 'Python':\n",
    "    print(c, '=', ord(c))\n"
   ]
  },
  {
   "cell_type": "markdown",
   "id": "26-f3a6b3",
   "metadata": {},
   "source": [
    "La fonction `chr(i)` retourne le caractère qui correspond au code `i`.\n",
    "\n"
   ]
  },
  {
   "cell_type": "code",
   "execution_count": null,
   "id": "27-0c52f7",
   "metadata": {},
   "outputs": [],
   "source": [
    "for i in range(65, 75):\n",
    "    print(i, '=', chr(i))\n"
   ]
  },
  {
   "cell_type": "markdown",
   "id": "28-e682db",
   "metadata": {},
   "source": [
    "## L'art ASCII\n",
    "\n",
    "L’**art ASCII** consiste à réaliser des images uniquement à l'aide des lettres et caractères spéciaux contenus dans le code ASCII.\n",
    "\n",
    "Précéder la chaîne de caractères avec `r` permet de ne pas tenir compte des symboles d'échappement (barre oblique en arrière `\\`).\n",
    "\n",
    "Voici un exemple :\n",
    "\n"
   ]
  },
  {
   "cell_type": "markdown",
   "id": "29-9ad83b",
   "metadata": {},
   "source": [
    "![rabbit](https://raw.githubusercontent.com/edunumsec2/book/master/src/appr/prog1/media/ascii-art.jpeg)\n",
    "\n"
   ]
  },
  {
   "cell_type": "markdown",
   "id": "30-7f708b",
   "metadata": {},
   "source": [
    "<h3 style=\"color:teal;background-color:azure;\" > <i class=\"fa fa-pencil\" aria-hidden=\"true\"> </i> &nbsp; Exercice 6 </h3>Le site [asciiart.eu](https://www.asciiart.eu) contient beaucoup d'exemples d'art ASCII. Trouvez-en un et copiez-le dans un programme Python.\n",
    "\n"
   ]
  },
  {
   "cell_type": "code",
   "execution_count": null,
   "id": "31-08fc67",
   "metadata": {},
   "outputs": [],
   "source": [
    "print(r\"\"\"\n",
    "         ((`\\\n",
    "      ___ \\\\ '--._\n",
    "   .'`   `'    o  )\n",
    "  /    \\   '. __.'\n",
    " _|    /_  \\ \\_\\_\n",
    "{_\\______\\-'\\__\\_\\\n",
    "\"\"\")\n",
    "\n"
   ]
  },
  {
   "cell_type": "markdown",
   "id": "32-f3a673",
   "metadata": {},
   "source": [
    "## Échapper un caractère\n",
    "\n",
    "Les symboles `'` et `\"` sont utilisés pour délimiter du texte.\n",
    "Si nous voulons utiliser ces caractères à l'intérieur de la chaîne, nous devons les échapper avec une barre oblique en arrière `\\`.\n",
    "\n"
   ]
  },
  {
   "cell_type": "code",
   "execution_count": null,
   "id": "33-330db6",
   "metadata": {},
   "outputs": [],
   "source": [
    "print('c\\'est bien')\n",
    "print(\"\\\"citation\\\"\")\n"
   ]
  },
  {
   "cell_type": "markdown",
   "id": "34-f524ad",
   "metadata": {},
   "source": [
    "Si nous voulons imprimer le symbole d'échappement, nous devons l'échapper également.\n",
    "\n"
   ]
  },
  {
   "cell_type": "code",
   "execution_count": null,
   "id": "35-2748d3",
   "metadata": {},
   "outputs": [],
   "source": [
    "print('c\\'est la \\\\barre oblique\\\\ en arrière.')\n"
   ]
  },
  {
   "cell_type": "markdown",
   "id": "36-eb9aff",
   "metadata": {},
   "source": [
    "## Une chaîne brute\n",
    "\n",
    "Les chaînes de texte peuvent être préfixées par la lettre `r`; de telles chaînes sont appelées chaines brutes (raw strings en anglais) et traitent la barre oblique inversée comme un caractère normal.\n",
    "\n"
   ]
  },
  {
   "cell_type": "code",
   "execution_count": null,
   "id": "37-32a2cc",
   "metadata": {},
   "outputs": [],
   "source": [
    "print(r'c\\'est bien')\n",
    "print(r\"\\\"citation\\\"\")\n",
    "print(r'c\\'est la \\\\barre oblique\\\\ en arrière.')\n"
   ]
  },
  {
   "cell_type": "markdown",
   "id": "38-48f432",
   "metadata": {},
   "source": [
    "## Retour à la ligne\n",
    "\n",
    "Chaque commande `print()` se termine avec un retour à la ligne.\n",
    "Pour insérer un retour à la ligne à l'intérieur d'une chaîne de caractères nous utilisons la séquence d'échappement `\\n` (newline).\n",
    "\n"
   ]
  },
  {
   "cell_type": "markdown",
   "id": "39-706067",
   "metadata": {},
   "source": [
    "<h3 style=\"color:teal;background-color:azure;\" > <i class=\"fa fa-pencil\" aria-hidden=\"true\"> </i> &nbsp; Exercice 7 </h3>Ajoutez une nouvelle ligne de code qui contient des `\\n`.\n",
    "\n"
   ]
  },
  {
   "cell_type": "code",
   "execution_count": null,
   "id": "40-63c2c1",
   "metadata": {},
   "outputs": [],
   "source": [
    "print('chaque\\nmot\\nsur\\nune\\nligne')\n",
    "print('\\nhello world' * 5)\n"
   ]
  },
  {
   "cell_type": "markdown",
   "id": "41-282965",
   "metadata": {},
   "source": [
    "## Aligner en colonnes\n",
    "\n",
    "La séquence `\\t` (tabulateur) permet d'aligner des éléments de texte en colonne. Les colonnes sont espacées de 8 caractères.\n",
    "\n"
   ]
  },
  {
   "cell_type": "code",
   "execution_count": null,
   "id": "42-946893",
   "metadata": {},
   "outputs": [],
   "source": [
    "print('qte\\tart.\\tprix')\n",
    "print('4\\tsouris\\t15.95')\n",
    "print('12\\tclavier\\t25.95')\n"
   ]
  },
  {
   "cell_type": "markdown",
   "id": "43-fbfef2",
   "metadata": {},
   "source": [
    "## Les émojis\n",
    "\n",
    "Un  émoji (絵文字) est un terme issu du japonais pour désigner les pictogrammes utilisés dans les messages électroniques et les pages web japonaises, qui se sont répandus dans le monde entier.\n",
    "\n",
    "Le mot émoji signifie littéralement « image » (e) + « lettre » (moji) ; la ressemblance avec « émotion » est un jeu de mots interculturel.\n",
    "\n",
    "Un émoji peut être utilisé comme un caractère à l'intérieur d'un texte.\n",
    "Nous pouvons le répéter avec l'opérateur `*` et obtenir son code **Unicode** avec la fonction `ord(c)`.\n",
    "\n"
   ]
  },
  {
   "cell_type": "code",
   "execution_count": null,
   "id": "44-24e97c",
   "metadata": {},
   "outputs": [],
   "source": [
    "print('😀' * 10)\n",
    "\n",
    "print(ord('🍎'))\n",
    "print(ord('😀'))\n"
   ]
  },
  {
   "cell_type": "markdown",
   "id": "45-8203e3",
   "metadata": {},
   "source": [
    "Avec la fonction `chr(i)` nous pouvons afficher les 10 caractères qui suivent l'émoji de pomme.\n",
    "\n"
   ]
  },
  {
   "cell_type": "markdown",
   "id": "46-5b542c",
   "metadata": {},
   "source": [
    "<h3 style=\"color:teal;background-color:azure;\" > <i class=\"fa fa-pencil\" aria-hidden=\"true\"> </i> &nbsp; Exercice 8 </h3>Affichez les 10 emojis qui suivent 😀.\n",
    "\n"
   ]
  },
  {
   "cell_type": "code",
   "execution_count": null,
   "id": "47-29cb54",
   "metadata": {},
   "outputs": [],
   "source": [
    "for i in range(10):\n",
    "    print(chr(i + 127822))\n"
   ]
  },
  {
   "cell_type": "markdown",
   "id": "48-034cf2",
   "metadata": {},
   "source": [
    "## Les kanji\n",
    "\n",
    "Le japonais est écrit avec des pictogrammes qui s'appellent des kanjis.\n",
    "Avec la fonction `ord(c)` nous pouvons obtenir leur **Unicode**.\n",
    "\n"
   ]
  },
  {
   "cell_type": "code",
   "execution_count": null,
   "id": "49-9f0f3a",
   "metadata": {},
   "outputs": [],
   "source": [
    "print('日本語')\n",
    "print('nihongo')\n",
    "print('japonais\\n')\n",
    "\n",
    "for c in  '日本語':\n",
    "    print(c, ord(c))\n"
   ]
  },
  {
   "cell_type": "markdown",
   "id": "50-4f9dcd",
   "metadata": {},
   "source": [
    "Avec la fonction `chr(i)` nous pouvons afficher les 10 kanjis qui suivent le kanji 日 qui signifie soleil. Si vous regardez bien, vous remarquez qu'ils contiennent tous le radical pour soleil.\n",
    "\n"
   ]
  },
  {
   "cell_type": "markdown",
   "id": "51-7622c1",
   "metadata": {},
   "source": [
    "<h3 style=\"color:teal;background-color:azure;\" > <i class=\"fa fa-pencil\" aria-hidden=\"true\"> </i> &nbsp; Exercice 9 </h3>Affichez les 10 kanjis qui suivent 語 (langage).\n",
    "\n"
   ]
  },
  {
   "cell_type": "code",
   "execution_count": null,
   "id": "52-ec81cc",
   "metadata": {},
   "outputs": [],
   "source": [
    "n = ord('日')\n",
    "for i in  range(n, n + 10):\n",
    "    print(i, chr(i))\n"
   ]
  },
  {
   "cell_type": "markdown",
   "id": "53-c989f7",
   "metadata": {},
   "source": [
    "## Les commentaires\n",
    "\n",
    "En Python, un commentaire est un bout de code qui est ignoré par Python.\n",
    "Un commentaire commence par le symbole hashtag (`#`).\n",
    "\n",
    "Les commentaires sont utilisés pour ajouter à un programme des informations supplémentaires :\n",
    "\n",
    "- explications,\n",
    "- nom de l'auteur,\n",
    "- révision.\n",
    "\n",
    "Parfois un commentaire est utilisé pour désactiver une ligne de code.\n",
    "La plupart des éditeurs marquent les commentaires en couleur grisée.\n",
    "\n"
   ]
  },
  {
   "cell_type": "markdown",
   "id": "54-64c38f",
   "metadata": {},
   "source": [
    "<h3 style=\"color:teal;background-color:azure;\" > <i class=\"fa fa-pencil\" aria-hidden=\"true\"> </i> &nbsp; Exercice 10 </h3>Enlevez le # devant `print('au revoir')` pour l'exécuter.\n",
    "\n"
   ]
  },
  {
   "cell_type": "code",
   "execution_count": null,
   "id": "55-14b5b7",
   "metadata": {},
   "outputs": [],
   "source": [
    "# commentaire sur une ligne\n",
    "\n",
    "print('bonjour')  # commentaire en fin de ligne\n",
    "print(\"# ceci n'est pas un commentaire\")\n",
    "# print('au revoir')\n",
    "\n",
    "\"\"\"\n",
    "Ceci est\n",
    "un long commentaire\n",
    "sur plusieurs lignes.\n",
    "\"\"\"\n"
   ]
  },
  {
   "cell_type": "markdown",
   "id": "56-4ab269",
   "metadata": {},
   "source": [
    "## Parcourir une chaîne\n",
    "\n",
    "La ligne de code `for c in mot:` signifie que la variable `c` va prendre à chaque répétition un caractère différent de la chaîne `mot`.\n",
    "\n",
    "Quand la variable d'itération est un caractère on l'appelle souvent `c`.\n",
    "\n"
   ]
  },
  {
   "cell_type": "markdown",
   "id": "57-214c1a",
   "metadata": {},
   "source": [
    "<h3 style=\"color:teal;background-color:azure;\" > <i class=\"fa fa-pencil\" aria-hidden=\"true\"> </i> &nbsp; Exercice 11 </h3>Testez avec des textes différents.\n",
    "\n"
   ]
  },
  {
   "cell_type": "code",
   "execution_count": null,
   "id": "58-f32895",
   "metadata": {},
   "outputs": [],
   "source": [
    "from time import sleep\n",
    "mot = input('Entrez un mot: ')\n",
    "\n",
    "for c in mot:\n",
    "    print(c)\n",
    "    sleep(0.1)\n"
   ]
  },
  {
   "cell_type": "markdown",
   "id": "59-fb25e8",
   "metadata": {},
   "source": [
    "## Narration\n",
    "\n",
    "Voici un exemple qui reproduit une conversation entre deux personnes, affichée au ralenti, lettre par lettre, pour simuler une sorte de communication chat en ligne.\n",
    "\n",
    "La méthode `split('\\n')` découpe la chaine `histoire` en lignes séparées, et retourne une liste.\n",
    "\n"
   ]
  },
  {
   "cell_type": "code",
   "execution_count": null,
   "id": "60-a0cb76",
   "metadata": {},
   "outputs": [],
   "source": [
    "from time import sleep\n",
    "\n",
    "histoire = \"\"\"\n",
    "Une histoire d'aventure\n",
    "-----------------------\n",
    "A: comment vas-tu ?\n",
    "B: très bien !\n",
    "A: veux-tu faire un voyage ?\n",
    "B: oui, vers où ?\n",
    "A: à Rio de Janeiro.\n",
    "B: chouette, on part quand ?\n",
    "A: il y a un vol ce soir.\n",
    "\"\"\"\n",
    "\n",
    "for line in histoire.split('\\n'):\n",
    "    for c in line:\n",
    "        print(c, end='')\n",
    "        sleep(0.1)\n",
    "    sleep(1)\n",
    "    print()\n"
   ]
  },
  {
   "cell_type": "markdown",
   "id": "61-29ae8c",
   "metadata": {},
   "source": [
    "## Le pendu\n",
    "\n",
    "Le jeu du [pendu](https://fr.wikipedia.org/wiki/Pendu_(jeu)) consiste à trouver un mot en devinant les lettres qui le composent. Le jeu se joue traditionnellement à deux, avec un papier et un crayon, avec le dessin d'une potence, dans lequel pour chaque erreur un trait d'un bonhomme allumette est ajouté.\n",
    "\n"
   ]
  },
  {
   "cell_type": "markdown",
   "id": "62-2be594",
   "metadata": {},
   "source": [
    "### Dévoiler un mot\n",
    "\n",
    "Dans le jeu du pendu, un mot est affiché avec des traits au début `_ _ _ _ _`\n",
    "\n"
   ]
  },
  {
   "cell_type": "code",
   "execution_count": null,
   "id": "63-e69dae",
   "metadata": {},
   "outputs": [],
   "source": [
    "mot = 'potiron'\n",
    "lettres = 'abctin'\n",
    "\n",
    "mot2 = ''\n",
    "for c in mot:\n",
    "    if c in lettres:\n",
    "        mot2 += c\n",
    "    else:\n",
    "        mot2 += '_'\n",
    "    mot2 += ' '\n",
    "\n",
    "print(mot2)\n"
   ]
  },
  {
   "cell_type": "markdown",
   "id": "64-7a97c6",
   "metadata": {},
   "source": [
    "Nous pouvons écrire ce code plus compact en utilisant l'expression\n",
    "`valeur1 if condition else valeur2`\n",
    "\n"
   ]
  },
  {
   "cell_type": "code",
   "execution_count": null,
   "id": "65-9ebe61",
   "metadata": {},
   "outputs": [],
   "source": [
    "mot = 'potiron'\n",
    "lettres = 'abctin'\n",
    "\n",
    "mot2 = ''\n",
    "for c in mot:\n",
    "    mot2 += c if c in lettres else '_'\n",
    "    mot2 += ' '\n",
    "\n",
    "print(mot2)\n"
   ]
  },
  {
   "cell_type": "markdown",
   "id": "66-0ead73",
   "metadata": {},
   "source": [
    "### Jouer en boucle\n",
    "\n"
   ]
  },
  {
   "cell_type": "code",
   "execution_count": null,
   "id": "67-e70fb3",
   "metadata": {},
   "outputs": [],
   "source": [
    "mot = 'potiron'\n",
    "lettres = ''\n",
    "n = 0\n",
    "\n",
    "for i in range(10):\n",
    "    mot2 = ''\n",
    "    for c in mot:\n",
    "        mot2 += c if c in lettres else '_'\n",
    "        mot2 += ' '\n",
    "\n",
    "    x = input(mot2 + '  lettre: ')\n",
    "    if x in mot:\n",
    "        lettres += x\n",
    "    else:\n",
    "        n = n + 1\n"
   ]
  },
  {
   "cell_type": "markdown",
   "id": "68-92560c",
   "metadata": {},
   "source": [
    "### Dessin du pendu\n",
    "\n",
    "Une première approche pour dessiner la potence avec le pendu pourrait être d'enchaîner les instructions de dessin sans aucune structure.\n",
    "\n"
   ]
  },
  {
   "cell_type": "code",
   "execution_count": null,
   "id": "69-b4ac4f",
   "metadata": {},
   "outputs": [],
   "source": [
    "from turtle import *\n",
    "\n",
    "a = 40\n",
    "forward(100)\n",
    "backward(50)\n",
    "left(90)\n",
    "forward(180)\n",
    "right(90)\n",
    "forward(40)\n",
    "left(45)\n",
    "backward(56)\n",
    "forward(56)\n",
    "right(45)\n",
    "forward(50)\n",
    "right(90)\n",
    "forward(40)\n",
    "dot(20)\n",
    "forward(20)\n",
    "right(45)\n",
    "forward(a)\n",
    "backward(a)\n",
    "left(90)\n",
    "forward(a)\n",
    "backward(a)\n",
    "right(45)\n",
    "forward(a)\n",
    "right(45)\n",
    "forward(a)\n",
    "backward(a)\n",
    "left(90)\n",
    "forward(a)\n",
    "backward(a)\n",
    "right(45)\n",
    "hideturtle()\n",
    "\n",
    "done()\n"
   ]
  },
  {
   "cell_type": "markdown",
   "id": "70-80a6b7",
   "metadata": {},
   "source": [
    "### Structurer le code\n",
    "\n",
    "Nous découpons le programme en sous-programme que nous nommons avec des noms descriptifs. Ensuite nous appelons toutes les fonctions pour dessiner la potence avec le pendu.\n",
    "\n"
   ]
  },
  {
   "cell_type": "code",
   "execution_count": null,
   "id": "71-c8378f",
   "metadata": {},
   "outputs": [],
   "source": [
    "from turtle import *\n",
    "\n",
    "a = 40\n",
    "def potence():\n",
    "    forward(100)\n",
    "    backward(50)\n",
    "    left(90)\n",
    "    forward(180)\n",
    "    right(90)\n",
    "    forward(40)\n",
    "    left(45)\n",
    "    backward(56)\n",
    "    forward(56)\n",
    "    right(45)\n",
    "    forward(50)\n",
    "    right(90)\n",
    "    forward(40)\n",
    "\n",
    "def tete():\n",
    "    dot(20)\n",
    "    forward(20)\n",
    "\n",
    "def bras1():\n",
    "    right(45)\n",
    "    forward(a)\n",
    "    backward(a)\n",
    "\n",
    "def bras2():\n",
    "    left(90)\n",
    "    forward(a)\n",
    "    backward(a)\n",
    "\n",
    "def torse():\n",
    "    right(45)\n",
    "    forward(a)\n",
    "\n",
    "def jambe1():\n",
    "    right(45)\n",
    "    forward(a)\n",
    "    backward(a)\n",
    "\n",
    "def jambe2():\n",
    "    left(90)\n",
    "    forward(a)\n",
    "    backward(a)\n",
    "    hideturtle()\n",
    "\n",
    "potence()\n",
    "tete()\n",
    "bras1()\n",
    "bras2()\n",
    "torse()\n",
    "jambe1()\n",
    "jambe2()\n",
    "\n",
    "done()\n"
   ]
  },
  {
   "cell_type": "markdown",
   "id": "72-2bb81c",
   "metadata": {},
   "source": [
    "### Jeu final\n",
    "\n",
    "Pour pouvoir exécuter les fonctions du pendu au bon moment, nous plaçons les fonctions dans un tuple. Nous allons accéder la fonction avec un indice.\n",
    "\n"
   ]
  },
  {
   "cell_type": "code",
   "execution_count": null,
   "id": "73-7e943c",
   "metadata": {},
   "outputs": [],
   "source": [
    ":output_lines: 5\n",
    "from turtle import *\n",
    "\n",
    "a = 40\n",
    "def potence():\n",
    "    forward(100)\n",
    "    backward(50)\n",
    "    left(90)\n",
    "    forward(180)\n",
    "    right(90)\n",
    "    forward(40)\n",
    "    left(45)\n",
    "    backward(56)\n",
    "    forward(56)\n",
    "    right(45)\n",
    "    forward(50)\n",
    "    right(90)\n",
    "    forward(40)\n",
    "\n",
    "def tete():\n",
    "    dot(20)\n",
    "    forward(20)\n",
    "\n",
    "def bras1():\n",
    "    right(45)\n",
    "    forward(a)\n",
    "    backward(a)\n",
    "\n",
    "def bras2():\n",
    "    left(90)\n",
    "    forward(a)\n",
    "    backward(a)\n",
    "\n",
    "def torse():\n",
    "    right(45)\n",
    "    forward(a)\n",
    "\n",
    "def jambe1():\n",
    "    right(45)\n",
    "    forward(a)\n",
    "    backward(a)\n",
    "\n",
    "def jambe2():\n",
    "    left(90)\n",
    "    forward(a)\n",
    "    backward(a)\n",
    "    hideturtle()\n",
    "\n",
    "potence()\n",
    "===\n",
    "dessin = (tete, bras1, bras2, torse, jambe1, jambe2)\n",
    "\n",
    "mot = 'potiron'\n",
    "lettres = ''\n",
    "n = 0\n",
    "\n",
    "for i in range(10):\n",
    "    mot2 = ''\n",
    "    for c in mot:\n",
    "        mot2 += c if c in lettres else '_'\n",
    "        mot2 += ' '\n",
    "\n",
    "    x = input(mot2 + '  lettre: ')\n",
    "    if x in mot:\n",
    "        lettres += x\n",
    "    else:\n",
    "        dessin[n]()\n",
    "        n = n + 1\n",
    "\n",
    "done()\n"
   ]
  },
  {
   "cell_type": "markdown",
   "id": "74-750d0c",
   "metadata": {},
   "source": [
    "## Exercices\n",
    "\n"
   ]
  },
  {
   "cell_type": "markdown",
   "id": "75-736fc9",
   "metadata": {},
   "source": [
    "### Le jeu du pendu\n",
    "\n",
    "Créez le jeu du pendu avec un répertoire de 50 mots dans un tuple. Votre programme choisit un de ces mots aléatoirement avec la fonction `choice()` du module `random`, comme montré ci-dessous.\n",
    "\n"
   ]
  },
  {
   "cell_type": "code",
   "execution_count": null,
   "id": "76-0560db",
   "metadata": {},
   "outputs": [],
   "source": [
    "from random import *\n",
    "\n",
    "mots = ('informatique', 'ordinateur', 'calculatrice', 'machine',\n",
    "        'processeur', 'mémoire', 'algorithme', 'binaire')\n",
    "\n",
    "mot = choice(mots)\n",
    "print(mot)"
   ]
  },
  {
   "cell_type": "markdown",
   "id": "77-cebd46",
   "metadata": {},
   "source": [
    "---\n",
    "\n",
    "#### Remarque générale\n",
    "\n",
    "Ce document est une adaptation d'un ressource pédagogique tiré du catalogue modulo https://modulo-info.ch/. Il est sous license Creative Commons [BY-NC-SA](https://creativecommons.org/licenses/?lang=fr)\n",
    "![Licence Creative Commons](https://i.creativecommons.org/l/by-nc-sa/4.0/88x31.png)\n",
    "\n",
    "    "
   ]
  }
 ],
 "metadata": {
  "kernelspec": {
   "display_name": "Python 3 (ipykernel)",
   "language": "python",
   "name": "python3"
  },
  "language_info": {
   "codemirror_mode": {
    "name": "ipython",
    "version": 3
   },
   "file_extension": ".py",
   "mimetype": "text/x-python",
   "name": "python",
   "nbconvert_exporter": "python",
   "pygments_lexer": "ipython3",
   "version": "3.10.12"
  }
 },
 "nbformat": 4,
 "nbformat_minor": 5
}
