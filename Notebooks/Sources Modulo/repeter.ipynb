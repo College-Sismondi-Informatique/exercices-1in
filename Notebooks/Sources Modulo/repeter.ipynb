{
 "cells": [
  {
   "cell_type": "markdown",
   "id": "7ee3b4ce",
   "metadata": {},
   "source": [
    "# Répéter - `for`\n",
    "\n",
    "Dans ce chapitre, nous découvrons comment utiliser une boucle `for` pour répéter un bloc d'instructions un certain nombre de fois. Nous allons voir que :\n",
    "\n",
    "- la boucle `for` permet de répéter des instructions,\n",
    "- la structure `for i in range(n):` permet de répéter un bloc un nombre `n` fois,\n",
    "- le deux-points `:` est toujours suivi d'un bloc en indentation.\n",
    "\n"
   ]
  },
  {
   "cell_type": "markdown",
   "id": "3d94b4bc",
   "metadata": {},
   "source": [
    "<h3 style=\"color:chocolate;background-color:papayawhip;\" > <i class=\"fa fa-question\" aria-hidden=\"true\"> </i> &nbsp; Quizz </h3> \n",
    " \n",
    "```\n",
    "Une boucle informatique est\n",
    "\n",
    "A) une instruction\n",
    "B) un passage ondulé\n",
    "C) une section de code répétée\n",
    "D) une protection thermique\n",
    "```"
   ]
  },
  {
   "cell_type": "raw",
   "id": "bcd4694b",
   "metadata": {},
   "source": [
    "Réponse : \n"
   ]
  },
  {
   "cell_type": "markdown",
   "id": "9daacb30",
   "metadata": {},
   "source": [
    "## La répétition\n",
    "\n",
    "Revenons vers un exemple simple : dessiner un carré.\n",
    "\n",
    "Si nous regardons le code de près, nous pouvons voir que nous répétons 4 fois les mêmes deux instructions `forward()` et `left()`.\n",
    "\n"
   ]
  },
  {
   "cell_type": "code",
   "execution_count": null,
   "id": "36ab2f9a",
   "metadata": {},
   "outputs": [],
   "source": [
    "from turtle import *\n",
    "d = 100\n",
    "\n",
    "forward(d)\n",
    "left(90)\n",
    "forward(d)\n",
    "left(90)\n",
    "forward(d)\n",
    "left(90)\n",
    "forward(d)\n",
    "left(90)\n",
    "\n",
    "done()\n"
   ]
  },
  {
   "cell_type": "markdown",
   "id": "a07ef1a4",
   "metadata": {},
   "source": [
    "Ne serait-ce pas pratique de pouvoir dire à la tortue de répéter ces instructions 4 fois ?\n",
    "Ceci est possible avec une boucle `for`. La ligne `for i in range(4):` va répéter `4` fois le bloc en indentation qui suit.\n",
    "\n"
   ]
  },
  {
   "cell_type": "markdown",
   "id": "35bef921",
   "metadata": {},
   "source": [
    "<h3 style=\"color:teal;background-color:azure;\" > <i class=\"fa fa-pencil\" aria-hidden=\"true\"> </i> &nbsp; Exercice 1 </h3>Transformez le rectangle en triangle.\n",
    "\n"
   ]
  },
  {
   "cell_type": "code",
   "execution_count": null,
   "id": "c43ac00f",
   "metadata": {},
   "outputs": [],
   "source": [
    "from turtle import *\n",
    "d = 100\n",
    "\n",
    "for i in range(4):\n",
    "    forward(d)\n",
    "    left(90)\n",
    "\n",
    "done()\n"
   ]
  },
  {
   "cell_type": "markdown",
   "id": "480f8d59",
   "metadata": {},
   "source": [
    "## Variable d'itération `i`\n",
    "\n",
    "Que représente `i` dans l'expression `for i in range(n)` ?  \n",
    "C'est ce qu'on appelle une **variable d'itération**. Cette variable commence à 0 et augmente de 1 à chaque répétition jusqu'à $n-1$. Pour visualiser cette valeur nous pouvons l'afficher dans le dessin avec l'instruction `write(i)`.\n",
    "\n"
   ]
  },
  {
   "cell_type": "code",
   "execution_count": null,
   "id": "40033ebb",
   "metadata": {},
   "outputs": [],
   "source": [
    "from turtle import *\n",
    "d = 100\n",
    "\n",
    "for i in range(4):\n",
    "    write(i)\n",
    "    forward(d)\n",
    "    left(90)\n",
    "\n",
    "done()\n"
   ]
  },
  {
   "cell_type": "markdown",
   "id": "40b64d39",
   "metadata": {},
   "source": [
    "## Polygone régulier\n",
    "\n",
    "Avec une boucle `for`, nous pouvons simplifier le dessin des formes symétriques.\n",
    "\n",
    "Observez bien la double indentation :\n",
    "\n",
    "- la première pour `def`\n",
    "- la deuxième pour `for`\n",
    "\n",
    "Dans les deux cas un `:` est suivi d'un bloc en indentation. En Python vous pouvez avoir multiples niveaux d'indentation.\n",
    "\n"
   ]
  },
  {
   "cell_type": "markdown",
   "id": "4bef3144",
   "metadata": {},
   "source": [
    "<h3 style=\"color:teal;background-color:azure;\" > <i class=\"fa fa-pencil\" aria-hidden=\"true\"> </i> &nbsp; Exercice 2 </h3>Définissez la fonction `hexagone()` pour dessiner un hexagone, et appelez cette fonction.\n",
    "\n"
   ]
  },
  {
   "cell_type": "code",
   "execution_count": null,
   "id": "c27b9c81",
   "metadata": {},
   "outputs": [],
   "source": [
    "from turtle import *\n",
    "\n",
    "def triangle():\n",
    "    for i in range(3):      # indentation 1 (bloc pour def)\n",
    "        forward(100)        # indentation 2 (bloc pour for)\n",
    "        left(120)\n",
    "\n",
    "def carre():\n",
    "    for i in range(4):\n",
    "        forward(100)\n",
    "        left(90)\n",
    "\n",
    "def pentagone():\n",
    "    for i in range(5):\n",
    "        forward(100)\n",
    "        left(72)\n",
    "\n",
    "triangle()\n",
    "carre()\n",
    "pentagone()\n",
    "\n",
    "done()\n"
   ]
  },
  {
   "cell_type": "markdown",
   "id": "09b050c7",
   "metadata": {},
   "source": [
    "## Escalier\n",
    "\n",
    "Pour dessiner un escalier, il faut simplement répéter dans une boucle le dessin pour une seule marche. Nous utilisons la variable `i` pour numéroter les marches.\n",
    "\n"
   ]
  },
  {
   "cell_type": "code",
   "execution_count": null,
   "id": "23f38af1",
   "metadata": {},
   "outputs": [],
   "source": [
    "from turtle import *\n",
    "\n",
    "for i in range(5):\n",
    "    write(i)\n",
    "    forward(20)\n",
    "    left(90)\n",
    "    forward(20)\n",
    "    right(90)\n",
    "\n",
    "forward(100)\n",
    "\n",
    "done()\n"
   ]
  },
  {
   "cell_type": "markdown",
   "id": "ac9b5fdd",
   "metadata": {},
   "source": [
    "Pour dessiner des dents de scie, il faut simplement répéter dans une boucle le dessin pour une seule dent.\n",
    "\n"
   ]
  },
  {
   "cell_type": "markdown",
   "id": "1a2f4e47",
   "metadata": {},
   "source": [
    "<h3 style=\"color:teal;background-color:azure;\" > <i class=\"fa fa-pencil\" aria-hidden=\"true\"> </i> &nbsp; Exercice 3 </h3>Dessinez une usine avec un toit en dents de scie.\n",
    "\n"
   ]
  },
  {
   "cell_type": "code",
   "execution_count": null,
   "id": "fe8123c0",
   "metadata": {},
   "outputs": [],
   "source": [
    "from turtle import *\n",
    "\n",
    "for i in range(4):\n",
    "    left(45)\n",
    "    forward(71)\n",
    "    write(i)\n",
    "    right(135)\n",
    "    forward(50)\n",
    "    left(90)\n",
    "\n",
    "forward(80)\n",
    "\n",
    "done()\n"
   ]
  },
  {
   "cell_type": "markdown",
   "id": "124a0170",
   "metadata": {},
   "source": [
    "## Éventail\n",
    "\n",
    "Que se passe-t-il si nous dessinons une ligne (`forward()`/`backward()`) et tournons chaque fois d'un petit angle ?\n",
    "C'est un peu comme un éventail qui s'ouvre. Les lignes de l'éventail sont numérotés en utilisant la variable `i`.\n",
    "\n"
   ]
  },
  {
   "cell_type": "markdown",
   "id": "bb9d14ee",
   "metadata": {},
   "source": [
    "<h3 style=\"color:teal;background-color:azure;\" > <i class=\"fa fa-pencil\" aria-hidden=\"true\"> </i> &nbsp; Exercice 4 </h3>Doublez l'angle de rotation dans `left()`.\n",
    "\n"
   ]
  },
  {
   "cell_type": "code",
   "execution_count": null,
   "id": "3b916a8c",
   "metadata": {},
   "outputs": [],
   "source": [
    "from turtle import *\n",
    "d = 100\n",
    "\n",
    "for i in range(18):\n",
    "    forward(d)\n",
    "    write(i)\n",
    "    backward(d)\n",
    "    left(10)\n",
    "\n",
    "done()\n"
   ]
  },
  {
   "cell_type": "markdown",
   "id": "3d8b0c20",
   "metadata": {},
   "source": [
    "Que se passe-t-il si nous avançons plus que nous reculons ?\n",
    "Une toute petite modification du programme peut faire une chouette différence.\n",
    "\n"
   ]
  },
  {
   "cell_type": "markdown",
   "id": "71194a8a",
   "metadata": {},
   "source": [
    "<h3 style=\"color:teal;background-color:azure;\" > <i class=\"fa fa-pencil\" aria-hidden=\"true\"> </i> &nbsp; Exercice 5 </h3>Modifiez les valeurs dans `forward()` et `backward()`.\n",
    "\n"
   ]
  },
  {
   "cell_type": "code",
   "execution_count": null,
   "id": "0f4e1207",
   "metadata": {},
   "outputs": [],
   "source": [
    "from turtle import *\n",
    "\n",
    "for i in range(18):\n",
    "    forward(100)\n",
    "    write(i)\n",
    "    backward(90)\n",
    "    left(20)\n",
    "\n",
    "done()\n"
   ]
  },
  {
   "cell_type": "markdown",
   "id": "07a8185e",
   "metadata": {},
   "source": [
    "## Étoile\n",
    "\n",
    "Voici une autre façon de toujours avancer, mais en tournant chaque fois d'un angle un peu plus petit que 180°.\n",
    "Essayons !\n",
    "\n"
   ]
  },
  {
   "cell_type": "markdown",
   "id": "12928cfc",
   "metadata": {},
   "source": [
    "<h3 style=\"color:teal;background-color:azure;\" > <i class=\"fa fa-pencil\" aria-hidden=\"true\"> </i> &nbsp; Exercice 6 </h3>Changez le nombre de pics de l'étoile.\n",
    "\n"
   ]
  },
  {
   "cell_type": "code",
   "execution_count": null,
   "id": "c601c28b",
   "metadata": {},
   "outputs": [],
   "source": [
    "from turtle import *\n",
    "\n",
    "for i in range(9):\n",
    "    write(i)\n",
    "    forward(200)\n",
    "    left(160)\n",
    "\n",
    "done()\n"
   ]
  },
  {
   "cell_type": "markdown",
   "id": "407311b6",
   "metadata": {},
   "source": [
    "## Losange\n",
    "\n",
    "Si nous déformons les angles d'un carré, nous obtenons un losange (diamant).\n",
    "Quelle forme obtenons-nous en dessinant un carré et deux losanges ?\n",
    "\n"
   ]
  },
  {
   "cell_type": "code",
   "execution_count": null,
   "id": "4df00203",
   "metadata": {},
   "outputs": [],
   "source": [
    "from turtle import *\n",
    "d = 100\n",
    "\n",
    "def carre():\n",
    "    for i in range(4):\n",
    "        right(90)\n",
    "        forward(d)\n",
    "\n",
    "def losange():\n",
    "    for i in range(2):\n",
    "        forward(d)\n",
    "        left(120)\n",
    "        forward(d)\n",
    "        left(60)\n",
    "\n",
    "carre()\n",
    "right(90)\n",
    "losange()\n",
    "left(120)\n",
    "losange()\n",
    "\n",
    "done()\n"
   ]
  },
  {
   "cell_type": "markdown",
   "id": "8b0c0530",
   "metadata": {},
   "source": [
    "Si nous dessinons un losange 6 fois, nous obtenons une jolie fleur.\n",
    "\n"
   ]
  },
  {
   "cell_type": "markdown",
   "id": "bb5661dc",
   "metadata": {},
   "source": [
    "<h3 style=\"color:teal;background-color:azure;\" > <i class=\"fa fa-pencil\" aria-hidden=\"true\"> </i> &nbsp; Exercice 7 </h3>Tournez un angle plus petit que 60°\n",
    "\n"
   ]
  },
  {
   "cell_type": "code",
   "execution_count": null,
   "id": "b28a706c",
   "metadata": {},
   "outputs": [],
   "source": [
    "from turtle import *\n",
    "d = 100\n",
    "\n",
    "def losange():\n",
    "    for i in range(2):\n",
    "        forward(d)\n",
    "        left(60)\n",
    "        forward(d)\n",
    "        left(120)\n",
    "\n",
    "for i in range(6):\n",
    "    losange()\n",
    "    left(60)\n",
    "\n",
    "done()\n"
   ]
  },
  {
   "cell_type": "markdown",
   "id": "704e7e3e",
   "metadata": {},
   "source": [
    "## Paquebot\n",
    "\n",
    "Une boucle `for` est utilisée dans l'exemple suivant pour dessiner les hublots d'un paquebot. Les hublots sont numérotés en utilisant la variable `i`.\n",
    "\n"
   ]
  },
  {
   "cell_type": "markdown",
   "id": "b2eae125",
   "metadata": {},
   "source": [
    "<h3 style=\"color:teal;background-color:azure;\" > <i class=\"fa fa-pencil\" aria-hidden=\"true\"> </i> &nbsp; Exercice 8 </h3>Créez une fonction `paquebot()` et dessinez-en un deuxième.\n",
    "\n"
   ]
  },
  {
   "cell_type": "code",
   "execution_count": null,
   "id": "c85e99b9",
   "metadata": {},
   "outputs": [],
   "source": [
    "from turtle import *\n",
    "\n",
    "forward(200)\n",
    "left(80)\n",
    "forward(60)\n",
    "left(100)\n",
    "forward(220)\n",
    "left(100)\n",
    "forward(60)\n",
    "\n",
    "up()\n",
    "left(125)\n",
    "forward(40)\n",
    "right(45)\n",
    "\n",
    "for i in range(6):\n",
    "    dot(20, 'lightgray')\n",
    "    write(i)\n",
    "    forward(30)\n",
    "\n",
    "done()\n"
   ]
  },
  {
   "cell_type": "markdown",
   "id": "c1636a0e",
   "metadata": {},
   "source": [
    "## Cube de Rubik\n",
    "\n",
    "Le [Cube de Rubik](https://fr.wikipedia.org/wiki/Rubik%27s_Cube) est un casse-tête inventé par Ernő Rubik en 1974, et qui s’est rapidement répandu sur toute la planète au cours des années 1980.\n",
    "\n",
    "Pour dessiner la face rouge, nous dessinons d'abord une ligne, en répétant 3 fois un carré. Ensuite nous répétons 3 fois une ligne pour dessiner une surface.\n",
    "\n"
   ]
  },
  {
   "cell_type": "code",
   "execution_count": null,
   "id": "e0705ea7",
   "metadata": {},
   "outputs": [],
   "source": [
    "from turtle import *\n",
    "d = 50\n",
    "\n",
    "def carre():\n",
    "    begin_fill()\n",
    "    for i in range(4):\n",
    "        forward(d)\n",
    "        left(90)\n",
    "    end_fill()\n",
    "\n",
    "def ligne():\n",
    "    fillcolor('red')\n",
    "    for i in range(3):\n",
    "        carre()\n",
    "        forward(d)\n",
    "    backward(3*d)\n",
    "\n",
    "for i in range(3):\n",
    "    ligne()\n",
    "    left(90)\n",
    "    forward(d)\n",
    "    right(90)\n",
    "\n",
    "done()\n"
   ]
  },
  {
   "cell_type": "markdown",
   "id": "3d2a8e61",
   "metadata": {},
   "source": [
    "## La tortue\n",
    "\n",
    "Voici quelques fonctions de la tortue.\n",
    "\n"
   ]
  },
  {
   "cell_type": "markdown",
   "id": "32206268",
   "metadata": {},
   "source": [
    "### Estampe\n",
    "\n",
    "Vous pouvez laisser une impression de la tortue à sa position actuelle avec la fonction `stamp()`.\n",
    "\n"
   ]
  },
  {
   "cell_type": "code",
   "execution_count": null,
   "id": "bf013583",
   "metadata": {},
   "outputs": [],
   "source": [
    "from turtle import *\n",
    "shape('turtle')\n",
    "\n",
    "for i in range(6):\n",
    "    forward(100)\n",
    "    left(60)\n",
    "    stamp()\n",
    "\n",
    "done()\n"
   ]
  },
  {
   "cell_type": "markdown",
   "id": "70fdaf71",
   "metadata": {},
   "source": [
    "### Forme\n",
    "\n",
    "Vous pouvez changer la forme de votre tortue avec la fonction `shape()`.\n",
    "\n"
   ]
  },
  {
   "cell_type": "markdown",
   "id": "a7278748",
   "metadata": {},
   "source": [
    "<h3 style=\"color:teal;background-color:azure;\" > <i class=\"fa fa-pencil\" aria-hidden=\"true\"> </i> &nbsp; Exercice 9 </h3>Essayez les formes `'triangle'` et `'arrow'`.\n",
    "\n"
   ]
  },
  {
   "cell_type": "code",
   "execution_count": null,
   "id": "1902c99d",
   "metadata": {},
   "outputs": [],
   "source": [
    "from turtle import *\n",
    "backward(200)\n",
    "\n",
    "stamp()\n",
    "shape('turtle')\n",
    "forward(100)\n",
    "\n",
    "stamp()\n",
    "shape('circle')\n",
    "forward(100)\n",
    "\n",
    "stamp()\n",
    "shape('square')\n",
    "forward(100)\n",
    "\n",
    "done()\n"
   ]
  },
  {
   "cell_type": "markdown",
   "id": "720c97ee",
   "metadata": {},
   "source": [
    "### Vitesse\n",
    "\n",
    "Vous pouvez changer la vitesse de la tortue avec la fonction `speed(s)`.\n",
    "Le paramètre vitesse `s` peut varier entre 1 (le plus lent) et 1000 (le plus rapide). Sa vitesse par défaut est de 3. Mettre la vitesse à 0 choisit automatiquement la vitesse maximum.\n",
    "\n"
   ]
  },
  {
   "cell_type": "markdown",
   "id": "2eef4d6b",
   "metadata": {},
   "source": [
    "<h3 style=\"color:teal;background-color:azure;\" > <i class=\"fa fa-pencil\" aria-hidden=\"true\"> </i> &nbsp; Exercice 10 </h3>Augmentez graduellement la vitesse de la tortue, en utilisant la variable `i` comme argument de vitesse.\n",
    "\n"
   ]
  },
  {
   "cell_type": "code",
   "execution_count": null,
   "id": "b9bf2cd4",
   "metadata": {},
   "outputs": [],
   "source": [
    "from turtle import *\n",
    "speed(2)\n",
    "\n",
    "for i in range(36):\n",
    "    forward(280)\n",
    "    left(170)\n",
    "\n",
    "done()\n"
   ]
  },
  {
   "cell_type": "markdown",
   "id": "95a4eb56",
   "metadata": {},
   "source": [
    "## Erreurs\n",
    "\n",
    "Il est important de bien lire et comprendre les messages d'erreur.\n",
    "Dans cette section, vous allez découvrir les différentes catégories d'erreur et comment les corriger.\n",
    "\n"
   ]
  },
  {
   "cell_type": "markdown",
   "id": "1efca92e",
   "metadata": {},
   "source": [
    "### ImportError\n",
    "\n",
    "Cette erreur survient lorsque vous essayez d'importer un module qui n'existe pas.\n",
    "\n"
   ]
  },
  {
   "cell_type": "markdown",
   "id": "799474a7",
   "metadata": {},
   "source": [
    "<h3 style=\"color:teal;background-color:azure;\" > <i class=\"fa fa-pencil\" aria-hidden=\"true\"> </i> &nbsp; Exercice 11 </h3>Corrigez l'erreur d'importation.\n",
    "\n"
   ]
  },
  {
   "cell_type": "code",
   "execution_count": null,
   "id": "b7807ee1",
   "metadata": {},
   "outputs": [],
   "source": [
    "from turtl import *\n",
    "\n",
    "for i in range(3):\n",
    "    forward(100)\n",
    "    left(120)\n"
   ]
  },
  {
   "cell_type": "markdown",
   "id": "050212c8",
   "metadata": {},
   "source": [
    "### SyntaxError\n",
    "\n",
    "Cette erreur survient lorsque vous écrivez mal un mot-clé, ou si vous oubliez une ponctuation. Dans ce cas, le mot-clé mal écrit n'est pas reconnu et il n'est pas colorié correctement dans votre code.\n",
    "\n"
   ]
  },
  {
   "cell_type": "markdown",
   "id": "ac4adacc",
   "metadata": {},
   "source": [
    "<h3 style=\"color:teal;background-color:azure;\" > <i class=\"fa fa-pencil\" aria-hidden=\"true\"> </i> &nbsp; Exercice 12 </h3>Corrigez les trois erreurs de syntaxe et remarquez les éventuelles différences de stylisation.\n",
    "\n"
   ]
  },
  {
   "cell_type": "code",
   "execution_count": null,
   "id": "d130c51e",
   "metadata": {},
   "outputs": [],
   "source": [
    "fro turtle import *\n",
    "\n",
    "fore i in range(3)\n",
    "    forward(100)\n",
    "    left(120)\n"
   ]
  },
  {
   "cell_type": "markdown",
   "id": "61a0928e",
   "metadata": {},
   "source": [
    "### NameError\n",
    "\n",
    "Cette erreur survient lorsque vous écrivez mal le nom d'une variable ou fonction.\n",
    "\n"
   ]
  },
  {
   "cell_type": "markdown",
   "id": "779411cf",
   "metadata": {},
   "source": [
    "<h3 style=\"color:teal;background-color:azure;\" > <i class=\"fa fa-pencil\" aria-hidden=\"true\"> </i> &nbsp; Exercice 13 </h3>Corrigez les trois erreurs de nom.\n",
    "\n"
   ]
  },
  {
   "cell_type": "code",
   "execution_count": null,
   "id": "aaafdbac",
   "metadata": {},
   "outputs": [],
   "source": [
    "from turtle import *\n",
    "\n",
    "for i in range(n):\n",
    "    forwarde(100)\n",
    "    lefft(120)\n",
    "\n",
    "done()\n"
   ]
  },
  {
   "cell_type": "markdown",
   "id": "ab05750f",
   "metadata": {},
   "source": [
    "### TypeError\n",
    "\n",
    "Cette erreur survient lorsque vous ne mettez pas le nombre d'arguments corrects pour une fonction.\n",
    "\n"
   ]
  },
  {
   "cell_type": "markdown",
   "id": "8d4e5e97",
   "metadata": {},
   "source": [
    "<h3 style=\"color:teal;background-color:azure;\" > <i class=\"fa fa-pencil\" aria-hidden=\"true\"> </i> &nbsp; Exercice 14 </h3>Corrigez les trois erreurs de type.\n",
    "\n"
   ]
  },
  {
   "cell_type": "code",
   "execution_count": null,
   "id": "80423358",
   "metadata": {},
   "outputs": [],
   "source": [
    "from turtle import *\n",
    "\n",
    "for i in range():\n",
    "    forward()\n",
    "    left(100, 120)\n",
    "\n",
    "done()\n"
   ]
  },
  {
   "cell_type": "markdown",
   "id": "0d546da2",
   "metadata": {},
   "source": [
    "## Exercice\n",
    "\n",
    "- Téléchargez un exercice.\n",
    "- Éditez-le dans un éditeur externe.\n",
    "- Déposez-le sur Moodle.\n",
    "\n"
   ]
  },
  {
   "cell_type": "markdown",
   "id": "25f78042",
   "metadata": {},
   "source": [
    "### Pellicule\n",
    "\n",
    "Une pellicule photographique est un support souple recouvert d'une émulsion contenant des composés sensibles à la lumière.\n",
    "Dessinez une pellicule photographique. Utilisez une boucle `for` pour créer 4 trous de perforation. Utilisez une deuxième boucle pour répéter une trame.\n",
    "\n"
   ]
  },
  {
   "cell_type": "markdown",
   "id": "d40369ed",
   "metadata": {},
   "source": [
    "<img src=\"https://raw.githubusercontent.com/edunumsec2/book/master/src/appr/prog1/media/pellicule.jpg\" alt=\"media/pellicule.jpg\" width=\"200\"/>"
   ]
  },
  {
   "cell_type": "markdown",
   "id": "5da8eb89",
   "metadata": {},
   "source": [
    "\n",
    " \n",
    "\n"
   ]
  },
  {
   "cell_type": "code",
   "execution_count": null,
   "id": "fc6a13ba",
   "metadata": {},
   "outputs": [],
   "source": [
    "from turtle import *\n",
    "# Prénom Nom, classe\n",
    "\n",
    "forward(200)\n",
    "\n",
    "done()\n"
   ]
  },
  {
   "cell_type": "markdown",
   "id": "ed9370f1",
   "metadata": {},
   "source": [
    "### Chemin de fer\n",
    "\n",
    "Dessinez les rails d'un chemin de fer.\n",
    "\n"
   ]
  },
  {
   "cell_type": "markdown",
   "id": "46813e96",
   "metadata": {},
   "source": [
    "![rails](https://raw.githubusercontent.com/edunumsec2/book/master/src/appr/prog1/media/rails.png)\n",
    "\n",
    "Utilisez une boucle `for` pour la répétition des traverses.\n",
    "\n"
   ]
  },
  {
   "cell_type": "code",
   "execution_count": null,
   "id": "c043287f",
   "metadata": {},
   "outputs": [],
   "source": [
    "from turtle import *\n",
    "# Prénom Nom, classe\n",
    "\n",
    "def traverse():\n",
    "    ...\n",
    "\n",
    "forward(200)\n",
    "\n",
    "done()\n"
   ]
  },
  {
   "cell_type": "markdown",
   "id": "4c34c64e",
   "metadata": {},
   "source": [
    "### Wagon de métro\n",
    "\n",
    "Dessinez un wagon de métro. Utilisez une boucle `for` pour les fenêtres. Utilisez la fonction `dot()` pour les roues.\n",
    "\n"
   ]
  },
  {
   "cell_type": "code",
   "execution_count": null,
   "id": "bdf35427",
   "metadata": {},
   "outputs": [],
   "source": [
    "from turtle import *\n",
    "# Prénom Nom, classe\n",
    "\n",
    "def wagon():\n",
    "    ...\n",
    "\n",
    "forward(200)\n",
    "\n",
    "done()\n"
   ]
  },
  {
   "cell_type": "markdown",
   "id": "8d9058c8",
   "metadata": {},
   "source": [
    "### Gratte-ciel\n",
    "\n",
    "Dessinez un gratte-ciel avec $n \\times m$ fenêtres. Pour ceci, utilisez deux boucles imbriquées.\n",
    "\n"
   ]
  },
  {
   "cell_type": "code",
   "execution_count": null,
   "id": "e6bbf250",
   "metadata": {},
   "outputs": [],
   "source": [
    "from turtle import *\n",
    "# Prénom Nom, classe\n",
    "\n",
    "def fenetre():\n",
    "    ...\n",
    "\n",
    "forward(200)\n",
    "\n",
    "done()\n"
   ]
  },
  {
   "cell_type": "markdown",
   "id": "e910ebba",
   "metadata": {},
   "source": [
    "### Jeu du moulin\n",
    "\n",
    "Le [jeu du moulin](https://fr.wikipedia.org/wiki/Jeu_du_moulin) est un jeu de société traditionnel en Europe. Le plateau de jeu existait déjà dans la Rome antique. Aussi appelé **jeu du charret** (en Suisse), certains lui donnent le nom médiéval de jeu de mérelles, voire de marelle.\n",
    "\n"
   ]
  },
  {
   "cell_type": "markdown",
   "id": "e86780ad",
   "metadata": {},
   "source": [
    "<img src=\"https://raw.githubusercontent.com/edunumsec2/book/master/src/appr/prog1/media/moulin.png\" alt=\"media/moulin.png\" width=\"200\"/>"
   ]
  },
  {
   "cell_type": "markdown",
   "id": "369970d6",
   "metadata": {},
   "source": [
    "\n",
    " \n",
    "\n",
    "Pour les points d'intersection, utilisez la fonction `dot()`. La distance entre les lignes est de 50 pixels.\n",
    "\n",
    "Vous constatez aussi une symétrie par 4. Donc avec un choix intelligent de fonction et de boucle `for`, vous pouvez réduire le nombre de lignes de code considérablement.\n",
    "\n"
   ]
  },
  {
   "cell_type": "code",
   "execution_count": null,
   "id": "bfddc9ea",
   "metadata": {},
   "outputs": [],
   "source": [
    "from turtle import *\n",
    "# Prénom Nom, classe\n",
    "width(8)\n",
    "up()\n",
    "forward(50)\n",
    "down()\n",
    "dot()\n",
    "forward(50)\n",
    "dot()\n",
    "forward(50)\n",
    "dot()\n",
    "...\n",
    "done()\n"
   ]
  },
  {
   "cell_type": "markdown",
   "id": "bf754ba9",
   "metadata": {},
   "source": [
    "### TP\n",
    "\n",
    "Créez une scène de jeu vidéo en utilisant la répétition, des cercles et de la couleur.\n",
    "\n"
   ]
  },
  {
   "cell_type": "code",
   "execution_count": null,
   "id": "65db1724",
   "metadata": {},
   "outputs": [],
   "source": [
    "\"\"\"\n",
    "tp3 - répéter\n",
    "\n",
    "Nom :\n",
    "Classe :\n",
    "Date :\n",
    "\n",
    "- nommez ce fichier : tp3_classe_prenom (minuscules, sans accents)\n",
    "- créez 5+ fonctions qui utilisent la répétion\n",
    "- utilisez la variable d (distance) pour vos déplacements\n",
    "- composez une scène de jeu vidéo (pacman, tetris, minecraft, etc.\n",
    "- utilisez de la couleur\n",
    "- déposez sur Moodle :\n",
    "    tp3_classe_prenom.py     (code)\n",
    "    tp3_classe_prenom.eps    (image vectorielle)\n",
    "    tp3_classe_preneom.jpg   (image)\n",
    "\"\"\"\n",
    "from turtle import *\n",
    "# from tkinter import *\n",
    "\n",
    "d = 20\n",
    "\n",
    "def pacman():\n",
    "    down()\n",
    "    left(45)\n",
    "    forward(d)\n",
    "    left(90)\n",
    "    circle(d, 270)\n",
    "    left(90)\n",
    "    forward(d)\n",
    "    right(135)\n",
    "    for i in range(5):\n",
    "        up()\n",
    "        forward(d)\n",
    "        dot(d/5)\n",
    "\n",
    "# ajoutez vos fonctions ici\n",
    "\n",
    "pacman()\n",
    "\n",
    "# Screen().getcanvas().postscript(file='tp3.eps')\n",
    "done()"
   ]
  },
  {
   "cell_type": "markdown",
   "id": "502cac34",
   "metadata": {},
   "source": [
    "---\n",
    "\n",
    "#### Remarque générale\n",
    "\n",
    "Ce document est une adaptation d'un ressource pédagogique tiré du catalogue modulo https://modulo-info.ch/. Il est sous license Creative Commons [BY-NC-SA](https://creativecommons.org/licenses/?lang=fr)\n",
    "![Licence Creative Commons](https://i.creativecommons.org/l/by-nc-sa/4.0/88x31.png)\n",
    "\n",
    "    "
   ]
  }
 ],
 "metadata": {
  "kernelspec": {
   "display_name": "Python 3 (ipykernel)",
   "language": "python",
   "name": "python3"
  },
  "language_info": {
   "codemirror_mode": {
    "name": "ipython",
    "version": 3
   },
   "file_extension": ".py",
   "mimetype": "text/x-python",
   "name": "python",
   "nbconvert_exporter": "python",
   "pygments_lexer": "ipython3",
   "version": "3.10.12"
  }
 },
 "nbformat": 4,
 "nbformat_minor": 5
}
