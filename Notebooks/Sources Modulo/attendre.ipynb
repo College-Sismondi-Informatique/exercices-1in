{
 "cells": [
  {
   "cell_type": "markdown",
   "id": "6cb71846",
   "metadata": {},
   "source": [
    "# Attendre - `while`\n",
    "\n",
    "Dans ce chapitre, nous découvrons un deuxième type de boucle, la boucle `while`. Elle est souvent utilisée pour attendre quelque chose. Nous allons voir que :\n",
    "\n",
    "- la boucle `while` répète aussi longtemps qu'une condition est vraie,\n",
    "- la fonction `sleep()` permet d'attendre et ralentir le programme,\n",
    "- le mot-clé `break` permet de sortir de la boucle.\n",
    "\n"
   ]
  },
  {
   "cell_type": "markdown",
   "id": "832ad018",
   "metadata": {},
   "source": [
    "<h3 style=\"color:chocolate;background-color:papayawhip;\" > <i class=\"fa fa-question\" aria-hidden=\"true\"> </i> &nbsp; Quizz </h3> \n",
    " \n",
    "```\n",
    "En Python, `while` est\n",
    "\n",
    "A) une fonction\n",
    "B) une condition\n",
    "C) une boucle\n",
    "D) un mot-clé\n",
    "```"
   ]
  },
  {
   "cell_type": "raw",
   "id": "c4adc67c",
   "metadata": {},
   "source": [
    "Réponse : \n"
   ]
  },
  {
   "cell_type": "markdown",
   "id": "b1d27172",
   "metadata": {},
   "source": [
    "## Compteur à rebours\n",
    "\n",
    "On peut utiliser la boucle `while` pour créer un compteur à rebours.\n",
    "Pour attendre une seconde, la fonction `sleep()` du module `time` est importée.\n",
    "\n"
   ]
  },
  {
   "cell_type": "code",
   "execution_count": null,
   "id": "ab735331",
   "metadata": {},
   "outputs": [],
   "source": [
    "from time import sleep\n",
    "\n",
    "n = int(input('Entrez un entier: '))\n",
    "while n > 0:\n",
    "    print(n)\n",
    "    sleep(1)\n",
    "    n = n - 1\n",
    "\n",
    "print('boum!!!')\n"
   ]
  },
  {
   "cell_type": "markdown",
   "id": "609908f0",
   "metadata": {},
   "source": [
    "## Lister des noms\n",
    "\n",
    "Nous utilisons une boucle `while` pour demander des noms à l'utilisateur.\n",
    "On ne peut pas savoir à l'avance combien de noms il y aura, donc ici nous ne pouvons pas utiliser la boucle `for`.  Nous prenons comme condition de terminaison une réponse avec une chaîne vide (`''`).\n",
    "\n",
    "La convention est d'utiliser des noms au pluriel (`noms`) pour désigner la liste et le même nom au singulier (`nom`) pour désigner un de ses éléments.\n",
    "\n"
   ]
  },
  {
   "cell_type": "markdown",
   "id": "668536d0",
   "metadata": {},
   "source": [
    "<h3 style=\"color:teal;background-color:azure;\" > <i class=\"fa fa-pencil\" aria-hidden=\"true\"> </i> &nbsp; Exercice 1 </h3>Entrez les noms de 3-4 de vos amis.\n",
    "\n"
   ]
  },
  {
   "cell_type": "code",
   "execution_count": null,
   "id": "6f256984",
   "metadata": {},
   "outputs": [],
   "source": [
    "noms = []\n",
    "nom = input('Entrez un nom: ')\n",
    "\n",
    "while nom != '':\n",
    "    noms.append(nom)\n",
    "    nom = input('Entrez un nom: ')\n",
    "\n",
    "print(noms)\n"
   ]
  },
  {
   "cell_type": "markdown",
   "id": "70a2ffa9",
   "metadata": {},
   "source": [
    "## Faire une somme\n",
    "\n",
    "Nous utilisons une boucle `while` pour demander des nombres à l'utilisateur.\n",
    "On ne peut pas savoir à l'avance combien de nombres il y aura, et donc nous ne pouvons pas utiliser la boucle `for`. Nous prenons comme condition de terminaison une réponse avec une chaîne vide (`''`).\n",
    "\n",
    "Au lieu d'écrire `while x != '':` nous pouvons simplifier vers  `while x:`.\n",
    "La raison est que la chaîne vide est associée à `False` et toute autre chaîne non vide est associée à `True`.\n",
    "\n"
   ]
  },
  {
   "cell_type": "markdown",
   "id": "b46686f3",
   "metadata": {},
   "source": [
    "<h3 style=\"color:teal;background-color:azure;\" > <i class=\"fa fa-pencil\" aria-hidden=\"true\"> </i> &nbsp; Exercice 2 </h3>Entrez les frais de vos 3 derniers achats.\n",
    "\n"
   ]
  },
  {
   "cell_type": "code",
   "execution_count": null,
   "id": "4604a839",
   "metadata": {},
   "outputs": [],
   "source": [
    "somme = 0\n",
    "x = input('Entrez un nombre: ')\n",
    "\n",
    "while x:\n",
    "    somme += float(x)\n",
    "    x = input('Entrez un nombre: ')\n",
    "\n",
    "print('somme =', somme)\n"
   ]
  },
  {
   "cell_type": "markdown",
   "id": "ab142398",
   "metadata": {},
   "source": [
    "## Faire une moyenne\n",
    "\n",
    "Nous utilisons une boucle `while` pour demander des nombres à l'utilisateur.\n",
    "On ne peut pas savoir à l'avance combien de nombres il y aura, et donc nous ne pouvons pas utiliser la boucle `for`.  Nous prenons comme condition de terminaison une réponse avec une chaîne vide (`''`).\n",
    "\n"
   ]
  },
  {
   "cell_type": "markdown",
   "id": "146e03fc",
   "metadata": {},
   "source": [
    "<h3 style=\"color:teal;background-color:azure;\" > <i class=\"fa fa-pencil\" aria-hidden=\"true\"> </i> &nbsp; Exercice 3 </h3>Entrez vos notes de français.\n",
    "\n"
   ]
  },
  {
   "cell_type": "code",
   "execution_count": null,
   "id": "023cf51c",
   "metadata": {},
   "outputs": [],
   "source": [
    "somme = 0\n",
    "n = 0\n",
    "x = input('Entrez un nombre: ')\n",
    "\n",
    "while x:\n",
    "    somme += float(x)\n",
    "    n += 1\n",
    "    x = input('Entrez un nombre: ')\n",
    "\n",
    "print('moyenne =', somme/n)\n"
   ]
  },
  {
   "cell_type": "markdown",
   "id": "e46aa999",
   "metadata": {},
   "source": [
    "## Deviner un nombre\n",
    "\n",
    "On peut aussi utiliser une boucle `while` pour deviner un nombre.\n",
    "Ici on importe la fonction `randint()` du module `random`.\n",
    "Elle fournit un nombre entier aléatoire entre deux bornes (1, 99).\n",
    "\n",
    "La fonction `input()` ne retourne que le type `str`.\n",
    "La fonction `int()` transforme le type string (chaîne) en entier (integer).\n",
    "\n"
   ]
  },
  {
   "cell_type": "markdown",
   "id": "e5eb675f",
   "metadata": {},
   "source": [
    "<h3 style=\"color:teal;background-color:azure;\" > <i class=\"fa fa-pencil\" aria-hidden=\"true\"> </i> &nbsp; Exercice 4 </h3>Quelle est la meilleure stratégie pour deviner un nombre ?\n",
    "\n"
   ]
  },
  {
   "cell_type": "code",
   "execution_count": null,
   "id": "e2ed41e1",
   "metadata": {},
   "outputs": [],
   "source": [
    "from random import randint\n",
    "\n",
    "n = randint(1, 99)\n",
    "x = int(input('Devinez un nombre entre 1 et 99: '))\n",
    "\n",
    "while x !=  n:\n",
    "    if x > n:\n",
    "        print(x, 'est trop grand')\n",
    "    else:\n",
    "        print(x, 'est trop petit')\n",
    "\n",
    "    x = int(input('Entrez un nombre: '))\n",
    "\n",
    "print('\\nBravo. Vous avez réussi!')\n"
   ]
  },
  {
   "cell_type": "markdown",
   "id": "f36ff8c7",
   "metadata": {},
   "source": [
    "## Factoriser\n",
    "\n",
    "Le programme va factoriser le nombre que vous entrez\n",
    "\n"
   ]
  },
  {
   "cell_type": "code",
   "execution_count": null,
   "id": "d4883569",
   "metadata": {},
   "outputs": [],
   "source": [
    "n = int(input('Entrez un entier: '))\n",
    "i = 2\n",
    "\n",
    "while i < n:\n",
    "    if n % i == 0:\n",
    "        print(i)\n",
    "        n = n // i\n",
    "    else:\n",
    "        i = i + 1\n",
    "\n",
    "print(n)\n"
   ]
  },
  {
   "cell_type": "markdown",
   "id": "cf03dd23",
   "metadata": {},
   "source": [
    "## En code binaire\n",
    "\n",
    "Le programme transforme l'entier en code binaire.\n",
    "\n"
   ]
  },
  {
   "cell_type": "code",
   "execution_count": null,
   "id": "aa8bb626",
   "metadata": {},
   "outputs": [],
   "source": [
    "n = int(input('Entrez un entier: '))\n",
    "\n",
    "code = ''\n",
    "while n > 0:\n",
    "    if n % 2 == 1:\n",
    "        code = '1' + code\n",
    "    else:\n",
    "        code = '0' + code\n",
    "    n = n // 2\n",
    "\n",
    "print(code)\n"
   ]
  },
  {
   "cell_type": "markdown",
   "id": "e9689eee",
   "metadata": {},
   "source": [
    "## Indentation\n",
    "\n",
    "On appelle **bloc** une ou plusieurs lignes d'instructions qui forment un ensemble.\n",
    "Dans les langages C ou JavaScript un bloc est délimité avec des accolades `{...}`.\n",
    "L'indentation est encouragée, mais reste optionnelle.\n",
    "\n",
    "En Python, l'indentation est obligatoire. C'est la façon officielle de designer un bloc.\n",
    "Ceci présente deux avantages :\n",
    "\n",
    "- plus besoin d'accolades pour délimiter un bloc,\n",
    "- la structure des blocs est claire et visuelle.\n",
    "\n",
    "Une **indentation** est un retrait du code par rapport à la marge gauche de 4 caractères.\n",
    "Elle peut être insérée avec la touche tabulateur **TAB** (symbolisée par une flèche à gauche du clavier).\n",
    "\n",
    "Un bloc est défini comme un ensemble de lignes de même indentation.\n",
    "Des blocs marqués par une indentation se trouvent après les mots-clés pour :\n",
    "\n",
    "- la définition de fonction (`def`),\n",
    "- l'instruction conditionnelle (`if-elif-else`),\n",
    "- la boucle (`for/while`).\n",
    "\n",
    "En Python, le symbole `:` en fin de ligne introduit un sous-bloc qui doit être indenté.\n",
    "Voici 5 sous-blocs à la suite des mots-clés `def`, `if`, `elif`, `else`, `for` :\n",
    "\n"
   ]
  },
  {
   "cell_type": "code",
   "execution_count": null,
   "id": "8923f8e9",
   "metadata": {},
   "outputs": [],
   "source": [
    "def f(x):\n",
    "    if x > 0:\n",
    "        return 'positif'\n",
    "    elif x < 0:\n",
    "        return 'négatif'\n",
    "    else:\n",
    "        return 'zéro'\n",
    "\n",
    "for i in range(-2, 2):\n",
    "    print(i, f(i))\n"
   ]
  },
  {
   "cell_type": "markdown",
   "id": "51fa0576",
   "metadata": {},
   "source": [
    "Dans l'exemple suivant, nous avons une boucle qui fait trois itérations.\n",
    "Les deux instructions `print()` font partie du bloc de la boucle.\n",
    "\n"
   ]
  },
  {
   "cell_type": "markdown",
   "id": "5ef28971",
   "metadata": {},
   "source": [
    "<h3 style=\"color:teal;background-color:azure;\" > <i class=\"fa fa-pencil\" aria-hidden=\"true\"> </i> &nbsp; Exercice 5 </h3>Enlevez l'indentation de l'instruction `print('-' * 11)`.\n",
    "\n"
   ]
  },
  {
   "cell_type": "code",
   "execution_count": null,
   "id": "2782dd72",
   "metadata": {},
   "outputs": [],
   "source": [
    "for i in range(3):\n",
    "    print('itération', i)\n",
    "    print('-' * 11)\n"
   ]
  },
  {
   "cell_type": "markdown",
   "id": "630a997d",
   "metadata": {},
   "source": [
    "## Sortir avec `break`\n",
    "\n",
    "Le mot-clé `break`, seul sur une ligne, permet de sortir d'une boucle.\n",
    "Souvent cette méthode est utilisée pour sortir d'une boucle infinie.\n",
    "\n"
   ]
  },
  {
   "cell_type": "code",
   "execution_count": null,
   "id": "fed9b194",
   "metadata": {},
   "outputs": [],
   "source": [
    "noms = []\n",
    "\n",
    "while True:\n",
    "    nom = input('Entrez un nom: ')\n",
    "    if nom == '':\n",
    "        break\n",
    "    noms.append(nom)\n",
    "\n",
    "print(noms)"
   ]
  }
 ],
 "metadata": {
  "kernelspec": {
   "display_name": "Python 3 (ipykernel)",
   "language": "python",
   "name": "python3"
  },
  "language_info": {
   "codemirror_mode": {
    "name": "ipython",
    "version": 3
   },
   "file_extension": ".py",
   "mimetype": "text/x-python",
   "name": "python",
   "nbconvert_exporter": "python",
   "pygments_lexer": "ipython3",
   "version": "3.10.12"
  }
 },
 "nbformat": 4,
 "nbformat_minor": 5
}
