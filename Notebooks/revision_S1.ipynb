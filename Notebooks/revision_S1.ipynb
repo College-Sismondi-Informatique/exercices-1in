{
 "cells": [
  {
   "cell_type": "markdown",
   "metadata": {},
   "source": "<div class = \"alert  alert-danger\"> \n    \nAttention: **veillez à bien sauvegarder votre travail** dans le bon dossier du disque réseau (dossier document) avec le bon nom (et l'extension *.ipynb*), **sinon toutes les modifications seront perdues!**\n\nPour reprendre votre travail, il suffit d'ouvrir le fichier .ipynb en cliquant sur *Fichier ouvrir*\n</div>\n\n\n# Exercices de révision pour l'évaluation"
  },
  {
   "cell_type": "markdown",
   "metadata": {},
   "source": "<h3 style=\"color:teal;background-color:azure;\" > <i class=\"fa fa-pencil\" aria-hidden=\"true\"> </i> &nbsp; Exercice 0 </h3>\n\nEcrire un programme qui affiche `Dans une images codé en 24 bit il y a 2**24 couleurs` où à la place de `2**24` il y a le résultat du calcul (c'est-à-dire le résultat de $2^{24}$) . "
  },
  {
   "cell_type": "code",
   "execution_count": null,
   "metadata": {
    "trusted": true
   },
   "outputs": [],
   "source": ""
  },
  {
   "cell_type": "markdown",
   "metadata": {},
   "source": "<h3 style=\"color:teal;background-color:azure;\" > <i class=\"fa fa-pencil\" aria-hidden=\"true\"> </i> &nbsp; Exercice 1 </h3>\n\n1. Testez le programme suivant:"
  },
  {
   "cell_type": "code",
   "execution_count": null,
   "metadata": {
    "trusted": false
   },
   "outputs": [],
   "source": "from turtle import *\n\nfor _ in range(3):\n    right(120)\n    forward(100)\n    for _ in range(5):\n        forward(10)\n        backward(10)\n        left(72)\ndone()"
  },
  {
   "cell_type": "markdown",
   "metadata": {},
   "source": "2. Réécrire le programme en définissant et en utilisant une fonction nommée `étoile`. Le programme doit produire la même figure\n"
  },
  {
   "cell_type": "code",
   "execution_count": null,
   "metadata": {
    "trusted": false
   },
   "outputs": [],
   "source": "from turtle import *\n\ndef # a compléter \n\n# a compléter \ndone()"
  },
  {
   "cell_type": "markdown",
   "metadata": {},
   "source": "<h3 style=\"color:teal;background-color:azure;\" > <i class=\"fa fa-pencil\" aria-hidden=\"true\"> </i> &nbsp; Exercice 2 </h3>\n\nReprendre votre programme dessinant un carré et un triangle (leçon 3 : les fonctions simples) et réaliser le programme qui dessine 5 fois le carré et le triangle comme sur la figure ci-dessous. Le code ne devrait pas dépasser 20 lignes.\n\n![Suite de triangle et de carré](https://githepia.hesge.ch/info_sismondi/exercices-1ere/-/raw/main/Notebooks/imgs_chap3/ex_triangle_carre.svg)"
  },
  {
   "cell_type": "code",
   "execution_count": null,
   "metadata": {
    "trusted": false
   },
   "outputs": [],
   "source": "from turtle import *\n\ndef # a compléter \n\ndef # a compléter \n\n# a compléter \ndone()"
  },
  {
   "cell_type": "markdown",
   "metadata": {},
   "source": "<h3 style=\"color:teal;background-color:azure;\" > <i class=\"fa fa-pencil\" aria-hidden=\"true\"> </i> &nbsp; Exercice 3 </h3>\n\nOn souhaite représenter la figure ci-dessous, mais le programme proposé ne donne pas la bonne exécution. \n- Quelle figure produit le code proposé (faire un croquis)?\n- Réécrire le code de sorte à obtenir la figure attendue.\nPrendre garde à la position finale de la tortue. Le point indique l’origine du repère.\n\n**Programme proposé**\n```Python\nfrom turtle import *\n\nfor _ in range(3):\n    for _ in range(3):\n        forward(50)\n        left(120)\n    forward(-50)\n    right(120)\n\ndone()\n```\n![Image de triangle dans un triangle](https://githepia.hesge.ch/info_sismondi/exercices-1ere/-/raw/main/Notebooks/imgs_chap3/sierpinski.png)"
  },
  {
   "cell_type": "code",
   "execution_count": null,
   "metadata": {
    "trusted": false
   },
   "outputs": [],
   "source": "from turtle import *\n\nfor _ in range(3):\n    for _ in range(3):\n        forward(50)\n        left(120)\n    forward(-50)\n    right(120)\n\ndone()"
  },
  {
   "cell_type": "markdown",
   "metadata": {},
   "source": "<h3 style=\"color:teal;background-color:azure;\" > <i class=\"fa fa-pencil\" aria-hidden=\"true\"> </i> &nbsp; Exercice 4 </h3>\n\nÉcrire un programme qui permet de produire le résultat ci-dessous dans la console à l’aide de trois boucles for imbriquées. On prendra garde à respecter les sauts de ligne. \n\n```\nmatin\nmidi soir soir soir \nmidi soir soir soir \n\nmatin\nmidi soir soir soir \nmidi soir soir soir \n```"
  },
  {
   "cell_type": "code",
   "execution_count": null,
   "metadata": {
    "trusted": false
   },
   "outputs": [],
   "source": "# à compléter..."
  },
  {
   "cell_type": "markdown",
   "metadata": {},
   "source": "<h3 style=\"color:teal;background-color:azure;\" > <i class=\"fa fa-pencil\" aria-hidden=\"true\"> </i> &nbsp; Exercice 5 </h3>\n\nEn vous inspirant du programme ci-dessous\n\n```Python\nfrom turtle import *\n\nfor _ in range(3):\n    right(120)\n    forward(100)\n    for _ in range(4):\n        forward(10)\n        backward(10)\n        left(90)\n    goto(0,0)\ndone()\n\n```\nécrire un programme qui dessine la figure suivante, une fleur de pissenlit très simplifiée. \n\n![Image de fleur simplidiée](https://githepia.hesge.ch/info_sismondi/exercices-1ere/-/raw/main/Notebooks/imgs_chap3/fleur_etoile.png)\n\nLe point indique l’origine du repère. La tige a une longueur de 150, les branches ont une longueur de 50 et la longueur des “graines” est de 10.\n"
  },
  {
   "cell_type": "code",
   "execution_count": null,
   "metadata": {
    "trusted": false
   },
   "outputs": [],
   "source": "from turtle import *\n\nfor _ in range(3):\n    right(120)\n    forward(100)\n    for _ in range(4):\n        forward(10)\n        backward(10)\n        left(90)\n    goto(0,0)\ndone()\n"
  },
  {
   "cell_type": "markdown",
   "metadata": {},
   "source": "<h3 style=\"color:teal;background-color:azure;\" > <i class=\"fa fa-pencil\" aria-hidden=\"true\"> </i> &nbsp; Exercice 6 </h3>\n\nÉcrire un programme qui définit et utilise des fonctions afin de dessiner la figure suivante:\n\n![Image de triple quadrillage](https://githepia.hesge.ch/info_sismondi/exercices-1ere/-/raw/main/Notebooks/imgs_chap3/triple_carre.png)\n"
  },
  {
   "cell_type": "code",
   "execution_count": null,
   "metadata": {
    "trusted": false
   },
   "outputs": [],
   "source": ""
  }
 ],
 "metadata": {
  "kernelspec": {
   "display_name": "Python 3",
   "language": "python",
   "name": "python3"
  }
 },
 "nbformat": 4,
 "nbformat_minor": 2
}
