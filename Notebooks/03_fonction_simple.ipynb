{
 "cells": [
  {
   "cell_type": "markdown",
   "metadata": {},
   "source": "<div class = \"alert  alert-danger\"> \n    \nAttention: **veillez à bien sauvegarder votre travail** dans le bon dossier du disque réseau (dossier document) avec le bon nom (et l'extension *.ipynb*), **sinon toutes les modifications seront perdues!**\n\nPour reprendre votre travail, il suffit d'ouvrir le fichier .ipynb en cliquant sur *Fichier ouvrir*\n</div>"
  },
  {
   "cell_type": "markdown",
   "metadata": {},
   "source": "# Les fonctions simples"
  },
  {
   "cell_type": "markdown",
   "metadata": {},
   "source": "Rappel de quelques fonction de Turtle avec des exemples qui pourront vous servir\n\n| Fonction |Exemple|Commentaire|\n|:-------- |:------|:----------|\n|forward(x)|forward(150)|Trace un trait de 150 points|\n|backward(x)|backward(150)|Trace un trait “à reculons” de 150 points|\n|left(n)|left(60)|Tourne sur place la tortue de 60° à gauche|\n|right(n)|right(60)|Tourne sur place la tortue de 60° à droite|\n|width(x)|width(5)|Change l’épaisseur à 5 points|\n|color(\"c\")|color(\"yellow\")|Change la couleur du trait (mais aucun trait n’est tracé à ce moment). Notez les guillemets !|\n|penup()|penup()|Lève la tortue (permet de se déplacer sans dessiner)|\n|pendown()|pendown()|Baisse le stylo|\n|circle(R, A)|circle(100, 180)|Dessine un demi-cercle (angle de 180°) de rayon 100 points|\n|stamp()|stamp()|Laisse une impression de la tortue à sa position actuelle|\n|shape(forme)|shape('circle')|Change la forme de la tortue|"
  },
  {
   "cell_type": "markdown",
   "metadata": {},
   "source": "# Définir - `def`\n\nDans ce chapitre, nous allons découvrir comment augmenter le vocabulaire de notre langage de programmation en définissant de nouvelles instructions, qu'on appelle aussi **fonction**. Ceci permet de rendre un code plus compact, mais surtout plus lisible. Nous allons voir que :\n\n- le mot-clé `def` permet de nommer (définir) une séquence,\n- le bloc qui suit doit être en **indentation** (décalé à droite),"
  },
  {
   "cell_type": "markdown",
   "metadata": {},
   "source": "<h3 style=\"color:chocolate;background-color:papayawhip;\" > <i class=\"fa fa-question\" aria-hidden=\"true\"> </i> &nbsp; Quizz </h3> \n \n```\nUne fonction permet de\n\nA) donner un nom à une séquence\nB) augmenter le vocabulaire du langage de programmation\nC) nous dire si ça fonctionne\nD) rendre un programme plus lisible\n```"
  },
  {
   "cell_type": "raw",
   "metadata": {},
   "source": "Ta réponse : "
  },
  {
   "cell_type": "markdown",
   "metadata": {},
   "source": "<details>\n<summary style=\"border-left:3px solid #3c763d; border-radius:2pt; width:100%; color:#3c763d; padding:6px; background-color: #dff0d8\"> \nRéponse\n</summary>  \n\n<div style=\"border-left:3px solid #3c763d; border-radius:2pt; color:#3c763d; padding:6px; background-color: #eff0e8\">\nA) donner un nom à une séquence\n\nB) augmenter le vocabulaire du langage de programmation\n\nD) rendre un programme plus lisible\n</div>\n</details>"
  },
  {
   "cell_type": "markdown",
   "metadata": {},
   "source": "## Nommer une séquence\n\nDessiner un rectangle est assez utile. C'est une forme qu'on pourra réutiliser certainement souvent. Il serait pratique de définir un nom pour ces 8 lignes de code. Pouvons-nous définir de nouvelles commandes ?\n```Python\nforward(160)\nleft(90)\nforward(100)\nleft(90)\nforward(160)\nleft(90)\nforward(100)\nleft(90)\n```"
  },
  {
   "cell_type": "markdown",
   "metadata": {},
   "source": "<div style=\"padding:18px; background-color:papayawhip; border:1px solid #f0b37e; border-left:6px solid #e07a20\">\n<h1 style=\"margin:0\">Notions importantes à comprendre !</h1>\n    \n    \nOui, c'est possible. Avec le mot-clé `def`, nous pouvons définir une nouvelle commande que nous pouvons par exemple appeler `rectangle()`.\nCette façon de créer un raccourci est appelée **définir** une fonction.\nLe code à exécuter suit l'expression `def rectangle():` et se trouve en **indentation** (décalé vers la droite).\n\nEnsuite, il suffit d'écrire `rectangle()` pour dessiner un rectangle. On appelle ceci **appeler** une fonction.\nRappelez-vous ceci :\n\n- on définit une fonction une seule fois,\n- on appelle une fonction autant de fois que l'on veut,\n- si on ne l'appelle pas, elle n'est pas exécutée et il ne se passe rien.\n\nDéfinir une fonction nous permet de réduire le nombre de lignes de code nécessaires.\nChaque fois que nous utilisons `rectangle()`,\nau lieu d'écrire 8 lignes, nous écrivons seulement une ligne de code.\n</div>"
  },
  {
   "cell_type": "markdown",
   "metadata": {},
   "source": "⚠️ **Erreur fréquente** : croire qu’écrire seulement `def ...` exécute le code.  \nTant qu’on n’a pas **appelé** la fonction, rien ne se passe."
  },
  {
   "cell_type": "markdown",
   "metadata": {},
   "source": "<h3 style=\"color:teal;background-color:azure;\" > <i class=\"fa fa-pencil\" aria-hidden=\"true\"> </i> &nbsp; Exercice 1 </h3>\n\nDessinez encore d'autres rectangles en appelant la nouvelle fonction `rectangle()`.\n\n"
  },
  {
   "cell_type": "code",
   "execution_count": null,
   "metadata": {
    "trusted": false
   },
   "outputs": [],
   "source": "from turtle import *\n\n# Définition de la fonction\ndef rectangle():\n    forward(160)\n    left(90)\n    forward(100)\n    left(90)\n    forward(160)\n    left(90)\n    forward(100)\n    left(90)\n\nrectangle() # Appel de la fonction. \nleft(90)\nrectangle() # Appel de la fonction pour la 2e fois\n\ndone()\n"
  },
  {
   "cell_type": "markdown",
   "metadata": {},
   "source": "<h3 style=\"color:chocolate;background-color:papayawhip;\" > <i class=\"fa fa-question\" aria-hidden=\"true\"> </i> &nbsp; Quizz </h3> \n \n```\nRappel: Une indentation de texte est\n\nA) un décalage vers la gauche\nB) un décalage vers la droite\nC) une mise en paragraphe\nD) une mise en sous-section\n```"
  },
  {
   "cell_type": "raw",
   "metadata": {},
   "source": "Ta réponse : "
  },
  {
   "cell_type": "markdown",
   "metadata": {},
   "source": "<details>\n<summary style=\"border-left:3px solid #3c763d; border-radius:2pt; width:100%; color:#3c763d; padding:6px; background-color: #dff0d8\"> \nRéponse\n</summary>  \n\n<div style=\"border-left:3px solid #3c763d; border-radius:2pt; color:#3c763d; padding:6px; background-color: #eff0e8\">\nB) un décalage vers la droite\n</div>\n</details>"
  },
  {
   "cell_type": "markdown",
   "metadata": {},
   "source": "## Donner du sens\n\nUne fonction ne permet pas seulement d'économiser des lignes de code.\nElle permet aussi de structurer le code et de lui donner un sens. Considérez par exemple le code ci-dessous. Il est presque impossible de comprendre ce que fait le programme en regardant les 17 lignes de code sans l'exécuter.\n\n"
  },
  {
   "cell_type": "code",
   "execution_count": 1,
   "metadata": {
    "trusted": false
   },
   "outputs": [
    {
     "data": {
      "image/svg+xml": "<svg xmlns=\"http://www.w3.org/2000/svg\" width=\"640\" height=\"480\" preserveaspectratio=\"xMidYMid meet\" viewbox=\"0 0 640 480\"><animate id=\"af_b15741649c6d489bba3d192e8cf2f1b5_0\" attributename=\"opacity\" attributetype=\"CSS\" from=\"1\" to=\"1\" begin=\"0s\" dur=\"1ms\" fill=\"freeze\"></animate><g transform=\"translate(320 240)\"></g><g transform=\"translate(320 240)\"><line x1=\"0\" y1=\"0\" x2=\"0\" y2=\"0\" style=\"stroke: black;stroke-width: 1\"><animate id=\"af_b15741649c6d489bba3d192e8cf2f1b5_2\" attributename=\"x2\" attributetype=\"XML\" from=\"0\" to=\"0\" dur=\"1ms\" fill=\"freeze\" begin=\"af_b15741649c6d489bba3d192e8cf2f1b5_1.end\"></animate><animate attributename=\"y2\" attributetype=\"XML\" begin=\"af_b15741649c6d489bba3d192e8cf2f1b5_1.end\" from=\"0\" to=\"0\" dur=\"1ms\" fill=\"freeze\"></animate></line><line x1=\"0\" y1=\"0\" x2=\"0\" y2=\"0\" style=\"stroke: black;stroke-width: 1\"><animate id=\"af_b15741649c6d489bba3d192e8cf2f1b5_5\" attributename=\"x2\" attributetype=\"XML\" from=\"0\" to=\"200\" dur=\" 1.070s\" fill=\"freeze\" begin=\"af_b15741649c6d489bba3d192e8cf2f1b5_4.end\"></animate><animate attributename=\"y2\" attributetype=\"XML\" begin=\"af_b15741649c6d489bba3d192e8cf2f1b5_4.end\" from=\"0\" to=\"0\" dur=\" 1.070s\" fill=\"freeze\"></animate></line><line x1=\"200\" y1=\"0\" x2=\"200\" y2=\"0\" style=\"stroke: black;stroke-width: 1\"><animate id=\"af_b15741649c6d489bba3d192e8cf2f1b5_7\" attributename=\"x2\" attributetype=\"XML\" from=\"200\" to=\"200\" dur=\" 0.535s\" fill=\"freeze\" begin=\"af_b15741649c6d489bba3d192e8cf2f1b5_6.end\"></animate><animate attributename=\"y2\" attributetype=\"XML\" begin=\"af_b15741649c6d489bba3d192e8cf2f1b5_6.end\" from=\"0\" to=\"-100\" dur=\" 0.535s\" fill=\"freeze\"></animate></line><line x1=\"200\" y1=\"-100\" x2=\"200\" y2=\"-100\" style=\"stroke: black;stroke-width: 1\"><animate id=\"af_b15741649c6d489bba3d192e8cf2f1b5_9\" attributename=\"x2\" attributetype=\"XML\" from=\"200\" to=\"0\" dur=\" 1.070s\" fill=\"freeze\" begin=\"af_b15741649c6d489bba3d192e8cf2f1b5_8.end\"></animate><animate attributename=\"y2\" attributetype=\"XML\" begin=\"af_b15741649c6d489bba3d192e8cf2f1b5_8.end\" from=\"-100\" to=\"-100.00000000000003\" dur=\" 1.070s\" fill=\"freeze\"></animate></line><line x1=\"0\" y1=\"-100.00000000000003\" x2=\"0\" y2=\"-100.00000000000003\" style=\"stroke: black;stroke-width: 1\"><animate id=\"af_b15741649c6d489bba3d192e8cf2f1b5_11\" attributename=\"x2\" attributetype=\"XML\" from=\"0\" to=\"-1.8369701987210297e-14\" dur=\" 0.535s\" fill=\"freeze\" begin=\"af_b15741649c6d489bba3d192e8cf2f1b5_10.end\"></animate><animate attributename=\"y2\" attributetype=\"XML\" begin=\"af_b15741649c6d489bba3d192e8cf2f1b5_10.end\" from=\"-100.00000000000003\" to=\"-2.842170943040401e-14\" dur=\" 0.535s\" fill=\"freeze\"></animate></line><line x1=\"-1.8369701987210297e-14\" y1=\"-2.842170943040401e-14\" x2=\"-1.8369701987210297e-14\" y2=\"-2.842170943040401e-14\" style=\"stroke: black;stroke-width: 1\"><animate id=\"af_b15741649c6d489bba3d192e8cf2f1b5_13\" attributename=\"x2\" attributetype=\"XML\" from=\"-1.8369701987210297e-14\" to=\"29.999999999999982\" dur=\" 0.161s\" fill=\"freeze\" begin=\"af_b15741649c6d489bba3d192e8cf2f1b5_12.end\"></animate><animate attributename=\"y2\" attributetype=\"XML\" begin=\"af_b15741649c6d489bba3d192e8cf2f1b5_12.end\" from=\"-2.842170943040401e-14\" to=\"-2.1073828635519886e-14\" dur=\" 0.161s\" fill=\"freeze\"></animate></line><line x1=\"29.999999999999982\" y1=\"-2.1073828635519886e-14\" x2=\"29.999999999999982\" y2=\"-2.1073828635519886e-14\" style=\"stroke: black;stroke-width: 1\"><animate id=\"af_b15741649c6d489bba3d192e8cf2f1b5_14\" attributename=\"x2\" attributetype=\"XML\" from=\"29.999999999999982\" to=\"59.999999999999986\" dur=\" 0.161s\" fill=\"freeze\" begin=\"af_b15741649c6d489bba3d192e8cf2f1b5_13.end\"></animate><animate attributename=\"y2\" attributetype=\"XML\" begin=\"af_b15741649c6d489bba3d192e8cf2f1b5_13.end\" from=\"-2.1073828635519886e-14\" to=\"-1.3725947840635766e-14\" dur=\" 0.161s\" fill=\"freeze\"></animate></line><line x1=\"59.999999999999986\" y1=\"-1.3725947840635766e-14\" x2=\"59.999999999999986\" y2=\"-1.3725947840635766e-14\" style=\"stroke: black;stroke-width: 1\"><animate id=\"af_b15741649c6d489bba3d192e8cf2f1b5_16\" attributename=\"x2\" attributetype=\"XML\" from=\"59.999999999999986\" to=\"60\" dur=\" 0.268s\" fill=\"freeze\" begin=\"af_b15741649c6d489bba3d192e8cf2f1b5_15.end\"></animate><animate attributename=\"y2\" attributetype=\"XML\" begin=\"af_b15741649c6d489bba3d192e8cf2f1b5_15.end\" from=\"-1.3725947840635766e-14\" to=\"-50.000000000000014\" dur=\" 0.268s\" fill=\"freeze\"></animate></line><line x1=\"60\" y1=\"-50.000000000000014\" x2=\"60\" y2=\"-50.000000000000014\" style=\"stroke: black;stroke-width: 1\"><animate id=\"af_b15741649c6d489bba3d192e8cf2f1b5_18\" attributename=\"x2\" attributetype=\"XML\" from=\"60\" to=\"30\" dur=\" 0.161s\" fill=\"freeze\" begin=\"af_b15741649c6d489bba3d192e8cf2f1b5_17.end\"></animate><animate attributename=\"y2\" attributetype=\"XML\" begin=\"af_b15741649c6d489bba3d192e8cf2f1b5_17.end\" from=\"-50.000000000000014\" to=\"-50.00000000000003\" dur=\" 0.161s\" fill=\"freeze\"></animate></line><line x1=\"30\" y1=\"-50.00000000000003\" x2=\"30\" y2=\"-50.00000000000003\" style=\"stroke: black;stroke-width: 1\"><animate id=\"af_b15741649c6d489bba3d192e8cf2f1b5_20\" attributename=\"x2\" attributetype=\"XML\" from=\"30\" to=\"29.99999999999998\" dur=\" 0.268s\" fill=\"freeze\" begin=\"af_b15741649c6d489bba3d192e8cf2f1b5_19.end\"></animate><animate attributename=\"y2\" attributetype=\"XML\" begin=\"af_b15741649c6d489bba3d192e8cf2f1b5_19.end\" from=\"-50.00000000000003\" to=\"-2.842170943040401e-14\" dur=\" 0.268s\" fill=\"freeze\"></animate></line></g><g transform=\"translate(320 240)\"></g><g transform=\"translate(320 240)\"><polygon points=\"0,16 -2,14 -1,10 -4,7 -7,9 -9,8 -6,5 -7,1 -5,-3 -8,-6 -6,-8 -4,-5 0,-7 4,-5 6,-8 8,-6 5,-3 7,1 6,5 9,8 7,9 4,7 1,10 2,14\" stroke=\"black\" fill=\"black\" stroke-width=\"1\" opacity=\"0\"><animate id=\"af_b15741649c6d489bba3d192e8cf2f1b5_1\" begin=\"af_b15741649c6d489bba3d192e8cf2f1b5_0.end\" dur=\"1ms\" fill=\"freeze\" attributename=\"opacity\" attributetype=\"XML\" from=\"0\" to=\"1\"></animate><animateMotion begin=\"af_b15741649c6d489bba3d192e8cf2f1b5_2.end\" dur=\"1ms\" fill=\"remove\"></animateMotion><animateTransform attributename=\"transform\" id=\"af_b15741649c6d489bba3d192e8cf2f1b5_3\" type=\"rotate\" from=\"0,0,0\" to=\"0.0,0,0\" begin=\"af_b15741649c6d489bba3d192e8cf2f1b5_2.end\" dur=\"1ms\" fill=\"freeze\"></animateTransform><animateMotion begin=\"af_b15741649c6d489bba3d192e8cf2f1b5_3.end\" dur=\"1ms\" fill=\"remove\"></animateMotion><animateTransform attributename=\"transform\" id=\"af_b15741649c6d489bba3d192e8cf2f1b5_4\" type=\"rotate\" from=\"-90.0,0,0\" to=\"-90.0,0,0\" begin=\"af_b15741649c6d489bba3d192e8cf2f1b5_3.end\" dur=\"1ms\" fill=\"freeze\"></animateTransform><animateMotion begin=\"af_b15741649c6d489bba3d192e8cf2f1b5_4.end\" dur=\"1ms\" fill=\"remove\"></animateMotion><animateMotion from=\"0.0,-0.0\" to=\"200.0,-0.0\" dur=\" 1.070s\" begin=\"af_b15741649c6d489bba3d192e8cf2f1b5_4.end\" fill=\"freeze\"></animateMotion><animateMotion begin=\"af_b15741649c6d489bba3d192e8cf2f1b5_5.end\" dur=\"1ms\" fill=\"remove\"></animateMotion><animateTransform attributename=\"transform\" id=\"af_b15741649c6d489bba3d192e8cf2f1b5_6\" type=\"rotate\" from=\"-90.0,0,0\" to=\"-180.0,0,0\" begin=\"af_b15741649c6d489bba3d192e8cf2f1b5_5.end\" dur=\" 0.083s\" fill=\"freeze\"></animateTransform><animateMotion begin=\"af_b15741649c6d489bba3d192e8cf2f1b5_6.end\" dur=\"1ms\" fill=\"remove\"></animateMotion><animateMotion from=\"200.0,-0.0\" to=\"200.0,-100.0\" dur=\" 0.535s\" begin=\"af_b15741649c6d489bba3d192e8cf2f1b5_6.end\" fill=\"freeze\"></animateMotion><animateMotion begin=\"af_b15741649c6d489bba3d192e8cf2f1b5_7.end\" dur=\"1ms\" fill=\"remove\"></animateMotion><animateTransform attributename=\"transform\" id=\"af_b15741649c6d489bba3d192e8cf2f1b5_8\" type=\"rotate\" from=\"-180.0,0,0\" to=\"-270.0,0,0\" begin=\"af_b15741649c6d489bba3d192e8cf2f1b5_7.end\" dur=\" 0.083s\" fill=\"freeze\"></animateTransform><animateMotion begin=\"af_b15741649c6d489bba3d192e8cf2f1b5_8.end\" dur=\"1ms\" fill=\"remove\"></animateMotion><animateMotion from=\"200.0,-100.0\" to=\"0.0,-100.00000000000003\" dur=\" 1.070s\" begin=\"af_b15741649c6d489bba3d192e8cf2f1b5_8.end\" fill=\"freeze\"></animateMotion><animateMotion begin=\"af_b15741649c6d489bba3d192e8cf2f1b5_9.end\" dur=\"1ms\" fill=\"remove\"></animateMotion><animateTransform attributename=\"transform\" id=\"af_b15741649c6d489bba3d192e8cf2f1b5_10\" type=\"rotate\" from=\"-270.0,0,0\" to=\"-360.0,0,0\" begin=\"af_b15741649c6d489bba3d192e8cf2f1b5_9.end\" dur=\" 0.083s\" fill=\"freeze\"></animateTransform><animateMotion begin=\"af_b15741649c6d489bba3d192e8cf2f1b5_10.end\" dur=\"1ms\" fill=\"remove\"></animateMotion><animateMotion from=\"0.0,-100.00000000000003\" to=\"-1.8369701987210297e-14,-2.842170943040401e-14\" dur=\" 0.535s\" begin=\"af_b15741649c6d489bba3d192e8cf2f1b5_10.end\" fill=\"freeze\"></animateMotion><animateMotion begin=\"af_b15741649c6d489bba3d192e8cf2f1b5_11.end\" dur=\"1ms\" fill=\"remove\"></animateMotion><animateTransform attributename=\"transform\" id=\"af_b15741649c6d489bba3d192e8cf2f1b5_12\" type=\"rotate\" from=\"-360.0,0,0\" to=\"-450.0,0,0\" begin=\"af_b15741649c6d489bba3d192e8cf2f1b5_11.end\" dur=\" 0.083s\" fill=\"freeze\"></animateTransform><animateMotion begin=\"af_b15741649c6d489bba3d192e8cf2f1b5_12.end\" dur=\"1ms\" fill=\"remove\"></animateMotion><animateMotion from=\"-1.8369701987210297e-14,-2.842170943040401e-14\" to=\"29.999999999999982,-2.1073828635519886e-14\" dur=\" 0.161s\" begin=\"af_b15741649c6d489bba3d192e8cf2f1b5_12.end\" fill=\"freeze\"></animateMotion><animateMotion begin=\"af_b15741649c6d489bba3d192e8cf2f1b5_13.end\" dur=\"1ms\" fill=\"remove\"></animateMotion><animateMotion from=\"29.999999999999982,-2.1073828635519886e-14\" to=\"59.999999999999986,-1.3725947840635766e-14\" dur=\" 0.161s\" begin=\"af_b15741649c6d489bba3d192e8cf2f1b5_13.end\" fill=\"freeze\"></animateMotion><animateMotion begin=\"af_b15741649c6d489bba3d192e8cf2f1b5_14.end\" dur=\"1ms\" fill=\"remove\"></animateMotion><animateTransform attributename=\"transform\" id=\"af_b15741649c6d489bba3d192e8cf2f1b5_15\" type=\"rotate\" from=\"-450.0,0,0\" to=\"-540.0,0,0\" begin=\"af_b15741649c6d489bba3d192e8cf2f1b5_14.end\" dur=\" 0.083s\" fill=\"freeze\"></animateTransform><animateMotion begin=\"af_b15741649c6d489bba3d192e8cf2f1b5_15.end\" dur=\"1ms\" fill=\"remove\"></animateMotion><animateMotion from=\"59.999999999999986,-1.3725947840635766e-14\" to=\"60.0,-50.000000000000014\" dur=\" 0.268s\" begin=\"af_b15741649c6d489bba3d192e8cf2f1b5_15.end\" fill=\"freeze\"></animateMotion><animateMotion begin=\"af_b15741649c6d489bba3d192e8cf2f1b5_16.end\" dur=\"1ms\" fill=\"remove\"></animateMotion><animateTransform attributename=\"transform\" id=\"af_b15741649c6d489bba3d192e8cf2f1b5_17\" type=\"rotate\" from=\"-540.0,0,0\" to=\"-630.0,0,0\" begin=\"af_b15741649c6d489bba3d192e8cf2f1b5_16.end\" dur=\" 0.083s\" fill=\"freeze\"></animateTransform><animateMotion begin=\"af_b15741649c6d489bba3d192e8cf2f1b5_17.end\" dur=\"1ms\" fill=\"remove\"></animateMotion><animateMotion from=\"60.0,-50.000000000000014\" to=\"30.0,-50.00000000000003\" dur=\" 0.161s\" begin=\"af_b15741649c6d489bba3d192e8cf2f1b5_17.end\" fill=\"freeze\"></animateMotion><animateMotion begin=\"af_b15741649c6d489bba3d192e8cf2f1b5_18.end\" dur=\"1ms\" fill=\"remove\"></animateMotion><animateTransform attributename=\"transform\" id=\"af_b15741649c6d489bba3d192e8cf2f1b5_19\" type=\"rotate\" from=\"-630.0,0,0\" to=\"-720.0,0,0\" begin=\"af_b15741649c6d489bba3d192e8cf2f1b5_18.end\" dur=\" 0.083s\" fill=\"freeze\"></animateTransform><animateMotion begin=\"af_b15741649c6d489bba3d192e8cf2f1b5_19.end\" dur=\"1ms\" fill=\"remove\"></animateMotion><animateMotion from=\"30.0,-50.00000000000003\" to=\"29.99999999999998,-2.842170943040401e-14\" dur=\" 0.268s\" begin=\"af_b15741649c6d489bba3d192e8cf2f1b5_19.end\" fill=\"freeze\"></animateMotion><animateMotion begin=\"af_b15741649c6d489bba3d192e8cf2f1b5_20.end\" dur=\"1ms\" fill=\"remove\"></animateMotion><animateTransform attributename=\"transform\" id=\"af_b15741649c6d489bba3d192e8cf2f1b5_21\" type=\"rotate\" from=\"-720.0,0,0\" to=\"-810.0,0,0\" begin=\"af_b15741649c6d489bba3d192e8cf2f1b5_20.end\" dur=\" 0.083s\" fill=\"freeze\"></animateTransform></polygon></g></svg>"
     },
     "metadata": {},
     "output_type": "display_data"
    }
   ],
   "source": "from turtle import *\n\nforward(200)\nleft(90)\nforward(100)\nleft(90)\nforward(200)\nleft(90)\nforward(100)\nleft(90)\nforward(30)\nforward(30)\nleft(90)\nforward(50)\nleft(90)\nforward(30)\nleft(90)\nforward(50)\nleft(90)\n\ndone()\n"
  },
  {
   "cell_type": "markdown",
   "metadata": {},
   "source": "Après avoir exécuté le code, il est plus simple de comprendre. Si nous observons la tortue, nous comprenons finalement qu'elle dessine deux fois un rectangle. Nous pouvons même interpréter cette image et donner le sens de bâtiment au premier rectangle, et de porte au second.\n\nEssayons maintenant de découper le code en **sous-programmes** en utilisant deux fonctions `batiment()` et `porte()`.\n<br>En regardant ces 3 lignes de code, on comprend immédiatement le sens du programme.\n\n``` python\nbatiment()\nforward(30)     # repositionner la tortue\nporte()\n```\n\nLa définition d'une fonction permet d'ajouter de nouveaux mots à un langage de programmation. Contrairement aux commandes natives de Python qui sont toutes en anglais, nous sommes libres de les choisir en français.\n\n**Attention** : écrivez les fonctions sans accents et sans circonflexes : `batiment()`, `carre()`, `boite()`.\n\n"
  },
  {
   "cell_type": "markdown",
   "metadata": {},
   "source": "<h3 style=\"color:teal;background-color:azure;\" > <i class=\"fa fa-pencil\" aria-hidden=\"true\"> </i> &nbsp; Exercice 2 </h3>Ajoutez une deuxième porte au bâtiment. Ensuite, faites-en une porte double.\n\n"
  },
  {
   "cell_type": "code",
   "execution_count": null,
   "metadata": {
    "trusted": false
   },
   "outputs": [],
   "source": "from turtle import *\n\ndef batiment():\n    forward(200)\n    left(90)\n    forward(100)\n    left(90)\n    forward(200)\n    left(90)\n    forward(100)\n    left(90)\n\ndef porte():\n    forward(30)\n    left(90)\n    forward(50)\n    left(90)\n    forward(30)\n    left(90)\n    forward(50)\n    left(90)\n\nbatiment()\nforward(30)\nporte()\n\ndone()"
  },
  {
   "cell_type": "markdown",
   "metadata": {},
   "source": "<h3 style=\"color:chocolate;background-color:papayawhip;\" > <i class=\"fa fa-question\" aria-hidden=\"true\"> </i> &nbsp; Quizz </h3> \n\nÀ combien de lignes de code la fonction `porte()` est-elle équivalente ?\n\n\n```\nA) 1 ligne\nB) 2 lignes\nC) 8 lignes\nD) 17 lignes\n```"
  },
  {
   "cell_type": "raw",
   "metadata": {},
   "source": "Ta réponse : "
  },
  {
   "cell_type": "markdown",
   "metadata": {},
   "source": "<details>\n<summary style=\"border-left:3px solid #3c763d; border-radius:2pt; width:100%; color:#3c763d; padding:6px; background-color: #dff0d8\"> \nRéponse\n</summary>  \n\n<div style=\"border-left:3px solid #3c763d; border-radius:2pt; color:#3c763d; padding:6px; background-color: #eff0e8\">\nC) 8 lignes\n</div>\n</details>"
  },
  {
   "cell_type": "markdown",
   "metadata": {},
   "source": "## Définir une fonction\n\nLe fait de donner un nom à une séquence d'instructions est appelé **définir une fonction**. Une **définition de fonction** comporte :\n\n1. le mot-clé `def` (définir),\n1. le nom de la fonction (`batiment/porte`),\n1. les parenthèses `()`,\n1. le deux-points `:`,\n1. un bloc en indentation.\n\nQu'est-ce qu'un bloc en indentation ?\n<br>C'est un bloc de texte qui comporte des espaces vides à gauche. En Python, ces espaces apparaissent en multiples de 4.\n\nL'indentation est très importante en Python. C'est l'indentation qui indique l'étendue des instructions qui font partie de la fonction.\n\n"
  },
  {
   "cell_type": "markdown",
   "metadata": {},
   "source": "<h3 style=\"color:chocolate;background-color:papayawhip;\" > <i class=\"fa fa-question\" aria-hidden=\"true\"> </i> &nbsp; Quizz </h3> \n \n```\nParmi les 4 définitions de fonction ci-dessous, laquelle est correcte ?\n\nA) def() rectangle:\nB) def: rectangle\nC) def rectangle():\nD) def(rectangle):\n```"
  },
  {
   "cell_type": "markdown",
   "metadata": {},
   "source": "<details>\n<summary style=\"border-left:3px solid #3c763d; border-radius:2pt; width:100%; color:#3c763d; padding:6px; background-color: #dff0d8\"> \nRéponse\n</summary>  \n\n<div style=\"border-left:3px solid #3c763d; border-radius:2pt; color:#3c763d; padding:6px; background-color: #eff0e8\">\nC) def rectangle():\n</div>\n</details>"
  },
  {
   "cell_type": "markdown",
   "metadata": {},
   "source": "<h3 style=\"color:chocolate;background-color:papayawhip;\" > <i class=\"fa fa-question\" aria-hidden=\"true\"> </i> &nbsp; Quizz </h3> \n \n```\nÉcrire `def carre():` **exécute** immédiatement le dessin du carré.\n\nA) VRAI\nB) FAUX\n```"
  },
  {
   "cell_type": "markdown",
   "metadata": {},
   "source": "<details>\n<summary style=\"border-left:3px solid #3c763d; border-radius:2pt; width:100%; color:#3c763d; padding:6px; background-color: #dff0d8\"> \nRéponse\n</summary>  \n\n<div style=\"border-left:3px solid #3c763d; border-radius:2pt; color:#3c763d; padding:6px; background-color: #eff0e8\">\nB) FAUX, def ne permet que de définir une fonction. Pour l'exécuter, il faut l'appeler: carre()\n</div>\n</details>"
  },
  {
   "cell_type": "markdown",
   "metadata": {},
   "source": "<h3 style=\"color:chocolate;background-color:papayawhip;\" > <i class=\"fa fa-question\" aria-hidden=\"true\"> </i> &nbsp; Quizz </h3> \n \n```\nComment définir des instructions dans une fonction.\n\nA) Il faut écrire def devant chaque instruction.\nB) Il faut indenter le code\nC) Par défaut, les lignes qui suivent def sont considérées comme étant dans la fonction.\n```"
  },
  {
   "cell_type": "markdown",
   "metadata": {},
   "source": "<details>\n<summary style=\"border-left:3px solid #3c763d; border-radius:2pt; width:100%; color:#3c763d; padding:6px; background-color: #dff0d8\"> \nRéponse\n</summary>  \n\n<div style=\"border-left:3px solid #3c763d; border-radius:2pt; color:#3c763d; padding:6px; background-color: #eff0e8\">\nB) Il faut indenter les lignes de code qui doivent figurer dans le corps de la fonction.\n</div>\n</details>"
  },
  {
   "cell_type": "markdown",
   "metadata": {},
   "source": "## Indenter avec un raccourci\n\nComme l'indentation est tellement importante en Python, il en existe un raccourci.\nIl faut d'abord sélectionner **les lignes** de code dont vous voulez changer l'indentation.\nEnsuite, vous appuyez sur :\n\n- la touche **tab** pour augmenter l'indentation\n- la touche **maj+tab** pour diminuer l'indentation\n\n"
  },
  {
   "cell_type": "markdown",
   "metadata": {},
   "source": "<h3 style=\"color:teal;background-color:azure;\" > <i class=\"fa fa-pencil\" aria-hidden=\"true\"> </i> &nbsp; Exercice 3 </h3>\n\nEssayez ces raccourcis dans le code ci-dessous. Transformez le code en deux fonctions `batiment()` et `porte()`, que vous appelez ensuite.\n\n"
  },
  {
   "cell_type": "code",
   "execution_count": null,
   "metadata": {
    "trusted": false
   },
   "outputs": [],
   "source": "from turtle import *\n\nforward(200)\nleft(90)\nforward(100)\nleft(90)\nforward(200)\nleft(90)\nforward(100)\nleft(90)\nforward(30)\nforward(30)\nleft(90)\nforward(50)\nleft(90)\nforward(30)\nleft(90)\nforward(50)\nleft(90)\n\ndone()\n"
  },
  {
   "cell_type": "markdown",
   "metadata": {},
   "source": "Voici encore un raccourci très utile : **maj(ou Shift)+Enter** pour exécuter le code.\n\n"
  },
  {
   "cell_type": "markdown",
   "metadata": {},
   "source": "## Maison avec porte\n\nUne fois qu'une fonction est définie, elle peut être utilisée partout, même dans la définition d'une autre fonction.\n\nIci, nous avons une fonction `porte()`, qui est utilisée à l'intérieur d'une deuxième fonction `maison()`. Pour que ceci soit possible, la définition de porte doit être placée avant la définition de `maison()`.\n\n"
  },
  {
   "cell_type": "markdown",
   "metadata": {},
   "source": "<h3 style=\"color:teal;background-color:azure;\" > <i class=\"fa fa-pencil\" aria-hidden=\"true\"> </i> &nbsp; Exercice 4 </h3>Déplacez la porte vers le milieu de la maison, et dessinez une deuxième maison à coté.\n\n"
  },
  {
   "cell_type": "code",
   "execution_count": null,
   "metadata": {
    "trusted": false
   },
   "outputs": [],
   "source": "from turtle import *\n\ndef porte():\n    forward(20)\n    left(90)\n    forward(40)\n    left(90)\n    forward(20)\n    left(90)\n    forward(40)\n    left(90)\n\ndef maison():\n    forward(100)\n    left(90)\n    forward(60)\n    left(45)\n    forward(71)\n    left(90)\n    forward(71)\n    left(45)\n    forward(60)\n    left(90)\n    porte()\n\nmaison()\n\ndone()\n"
  },
  {
   "cell_type": "markdown",
   "metadata": {},
   "source": "## Plus sur \"La tortue\"\n"
  },
  {
   "cell_type": "markdown",
   "metadata": {},
   "source": "### Le point `dot()`\n\nLa fonction `dot()` dessine un point à la position actuelle de la tortue."
  },
  {
   "cell_type": "markdown",
   "metadata": {},
   "source": "<h3 style=\"color:teal;background-color:azure;\" > <i class=\"fa fa-pencil\" aria-hidden=\"true\"> </i> &nbsp; Exercice 5 </h3>\n\nAjoutez un point (`dot`) au sommet du triangle.\n\n"
  },
  {
   "cell_type": "code",
   "execution_count": null,
   "metadata": {
    "trusted": false
   },
   "outputs": [],
   "source": "from turtle import *\n\ndef triangle():\n    dot()\n    forward(100)\n    left(120)\n    dot()\n    forward(100)\n    left(120)\n    forward(100)\n\ntriangle()\n\ndone()"
  },
  {
   "cell_type": "markdown",
   "metadata": {},
   "source": "### Lever le stylo\n\nLes deux commandes `up()` et `down()` permettent de lever et de baisser le stylo.\nCeci nous permet de dessiner des formes séparées, comme ici le petit i avec son point.\n"
  },
  {
   "cell_type": "markdown",
   "metadata": {},
   "source": "<h3 style=\"color:teal;background-color:azure;\" > <i class=\"fa fa-pencil\" aria-hidden=\"true\"> </i> &nbsp; Exercice 6 </h3>Transformez le i vers un i avec trema (deux points).\n"
  },
  {
   "cell_type": "code",
   "execution_count": null,
   "metadata": {
    "trusted": false
   },
   "outputs": [],
   "source": "from turtle import *\n\ndef i():\n    dot()\n    pendown()      # poser le stylo\n    left(90)\n    forward(50)\n    penup()        # lever le stylo\n    forward(50)\n    dot()\n    backward(2*50)\n    right(90)\n    forward(50/2)    # avancer à la prochaine lettre\n\ni()\ni()\n\ndone()"
  },
  {
   "cell_type": "markdown",
   "metadata": {},
   "source": "## Exercices d'entraînement\n\n<h3 style=\"color:teal;background-color:azure;\" > <i class=\"fa fa-pencil\" aria-hidden=\"true\"> </i> &nbsp; Exercice 7 </h3>\n\nCompléter le programme ci-dessous en ajoutant des appels à la fonction `forme_mystere()` pour  pour créer le dessin suivant:\n![Image de quatre carres](https://githepia.hesge.ch/info_sismondi/exercices-1ere/-/raw/main/Notebooks/imgs_chap3/quatre_carres.png)"
  },
  {
   "cell_type": "code",
   "execution_count": null,
   "metadata": {
    "trusted": false
   },
   "outputs": [],
   "source": "# permet d'utiliser les fonctions pour dessiner\nfrom turtle import *\n\n# Définition de la fonction mystère\ndef forme_mystere():\n    for _ in range(4):\n        forward(100)\n        right(90)\n\n\nforme_mystere()\n# à compléter \n\ndone()"
  },
  {
   "cell_type": "markdown",
   "metadata": {},
   "source": "<h3 style=\"color:teal;background-color:azure;\" > <i class=\"fa fa-pencil\" aria-hidden=\"true\"> </i> &nbsp; Exercice 8 </h3>\n\n1. Testez le programme suivant."
  },
  {
   "cell_type": "code",
   "execution_count": null,
   "metadata": {
    "trusted": false
   },
   "outputs": [],
   "source": "# permet d'utiliser les fonctions pour dessiner\nfrom turtle import *\n\n# Code à factoriser\nfor k in range(6):\n    forward(100)\n    right(60)\nright(60)\nfor k in range(6):\n    forward(100)\n    right(60)\nright(60)\nfor k in range(6):\n    forward(100)\n    right(60)\nright(60)\nfor k in range(6):\n    forward(100)\n    right(60)\nright(60)\nfor k in range(6):\n    forward(100)\n    right(60)\nright(60)\nfor k in range(6):\n    forward(100)\n    right(60)\nright(60)\n\ndone()"
  },
  {
   "cell_type": "markdown",
   "metadata": {},
   "source": "2. Définissez une fonction `hexagone()` qui permet de tracer des hexagones et utilisez-là pour réduire le nombre d’instructions du programme précédent. En utilisant une boucle `for` avec `hexagone()`, votre programme ne devrait pas dépasser 10 lignes."
  },
  {
   "cell_type": "code",
   "execution_count": null,
   "metadata": {
    "trusted": false
   },
   "outputs": [],
   "source": "# permet d'utiliser les fonctions pour dessiner\nfrom turtle import *\n\ndef #a compléter\n    #a compléter\n\n#a compléter\n\ndone()"
  },
  {
   "cell_type": "markdown",
   "metadata": {},
   "source": "<h3 style=\"color:teal;background-color:azure;\" > <i class=\"fa fa-pencil\" aria-hidden=\"true\"> </i> &nbsp; Exercice 9 </h3>\n\nTestez le programme ci-dessous, puis modifiez le en définissant au début une fonction `carre100()` qui dessine un carré de longueur 100 afin d'obtenir un programme structuré sans répétition inutile."
  },
  {
   "cell_type": "code",
   "execution_count": null,
   "metadata": {
    "trusted": false
   },
   "outputs": [],
   "source": "from turtle import *\n\n\nfor _ in range(4):\n    forward(100)\n    left(90)\n\n\nleft(180)\n\n\nfor _ in range(4):\n    forward(100)\n    left(90)\n\ndone()\n"
  },
  {
   "cell_type": "markdown",
   "metadata": {},
   "source": "<h3 style=\"color:teal;background-color:azure;\" > <i class=\"fa fa-pencil\" aria-hidden=\"true\"> </i> &nbsp; Exercice 10 </h3>\nDans le programme ci-dessous:\n\n1. Définissez une fonction `triangle100()` pour dessiner un triangle équilatéral de côté 100 comme dans l’illustration A.\n \n2. Utilisez `triangle100()` pour dessiner une forme comme dans l’illustration B.\n\n![Image de triangles](https://githepia.hesge.ch/info_sismondi/exercices-1ere/-/raw/main/Notebooks/imgs_chap3/triangles.png)"
  },
  {
   "cell_type": "code",
   "execution_count": null,
   "metadata": {
    "trusted": false
   },
   "outputs": [],
   "source": "from turtle import *\n\n# à compléter\n\ndone()"
  },
  {
   "cell_type": "markdown",
   "metadata": {},
   "source": "<h3 style=\"color:teal;background-color:azure;\" > <i class=\"fa fa-pencil\" aria-hidden=\"true\"> </i> &nbsp; Exercice 11 </h3>\n\nUtilisez les commandes `carre100()` et `triangle100()` définies dans les exercices 9 et 10 pour dessiner une figure semblable à celle représentée ci-dessous.\n![Image de maisons](https://githepia.hesge.ch/info_sismondi/exercices-1ere/-/raw/main/Notebooks/imgs_chap3/maison.png)"
  },
  {
   "cell_type": "code",
   "execution_count": null,
   "metadata": {
    "trusted": false
   },
   "outputs": [],
   "source": "from turtle import *\n\n# à compléter\n\ndone()"
  },
  {
   "cell_type": "markdown",
   "metadata": {},
   "source": "<h3 style=\"color:teal;background-color:azure;\" > <i class=\"fa fa-pencil\" aria-hidden=\"true\"> </i> &nbsp; Exercice 12 </h3>\n\nDans le programme ci-dessous:\n\n1. Définissez une fonction `carre_ouvert()` qui dessine un carré ouvert comme dans l’illustration A.\n\n \n2. Utilisez `carre_ouvert()` pour dessiner une croix comme dans l’illustration B.\n\n![Image de croix](https://githepia.hesge.ch/info_sismondi/exercices-1ere/-/raw/main/Notebooks/imgs_chap3/croix.png)"
  },
  {
   "cell_type": "code",
   "execution_count": null,
   "metadata": {
    "trusted": false
   },
   "outputs": [],
   "source": "from turtle import *\n\n# à compléter\n\ndone()"
  },
  {
   "cell_type": "markdown",
   "metadata": {},
   "source": "<h3 style=\"color:teal;background-color:azure;\" > <i class=\"fa fa-pencil\" aria-hidden=\"true\"> </i> &nbsp; Exercice 13 </h3>\n\nCréez une fonction `paquebot()` et utilisez pour dessiner deux paquebots."
  },
  {
   "cell_type": "code",
   "execution_count": null,
   "metadata": {
    "trusted": false
   },
   "outputs": [],
   "source": "from turtle import *\n\nforward(200)\nleft(80)\nforward(60)\nleft(100)\nforward(220)\nleft(100)\nforward(60)\n\npenup()\nleft(125)\nforward(30)\nright(45)\n\nfor i in range(6):\n    pendown()\n    circle(10, 360)\n    penup()\n    forward(30)\n    \n\ndone()"
  },
  {
   "cell_type": "markdown",
   "metadata": {},
   "source": "<h3 style=\"color:teal;background-color:azure;\" > <i class=\"fa fa-pencil\" aria-hidden=\"true\"> </i> &nbsp; Exercice 14 </h3>\n\nUtilisez l'instruction `carre100()` définie dans l'exercices 9 pour réaliser le programme qui dessine d’abord 2 carrés décalés d’un angle de 20° (figure A) et ensuite la figure avec 18 carrés (figure B)..\n![Image de maisons](https://githepia.hesge.ch/info_sismondi/exercices-1ere/-/raw/main/Notebooks/imgs_chap3/carres_tournant.png)"
  },
  {
   "cell_type": "code",
   "execution_count": null,
   "metadata": {
    "trusted": false
   },
   "outputs": [],
   "source": ""
  },
  {
   "cell_type": "markdown",
   "metadata": {},
   "source": "<h3 style=\"color:teal;background-color:azure;\" > <i class=\"fa fa-pencil\" aria-hidden=\"true\"> </i> &nbsp; Exercice 15 </h3>Coloriez la fleur.\n\n"
  },
  {
   "cell_type": "code",
   "execution_count": null,
   "metadata": {
    "trusted": false
   },
   "outputs": [],
   "source": "from turtle import *\n\ndef petale():\n    for _ in range(2):\n        circle(100, 120)\n        left(60)\n\nfor _ in range(6):\n    petale()\n    left(60)\n\ndone()"
  },
  {
   "cell_type": "markdown",
   "metadata": {},
   "source": "<h3 style=\"color:teal;background-color:azure;\" > <i class=\"fa fa-pencil\" aria-hidden=\"true\"> </i> &nbsp; Exercice 16 </h3>\n\nAjoutez une fonction `m()` pour écrire le mot `nom`. Ajoutez ensuite des fonctions qui dessinent les lettres pour écrire votre prénom.\n"
  },
  {
   "cell_type": "code",
   "execution_count": null,
   "metadata": {
    "trusted": false
   },
   "outputs": [],
   "source": "from turtle import *\nwidth(5)\n\ndef n():\n    down()\n    left(90)\n    forward(2*30)    # montée\n    backward(30)     # retour au milieu\n    circle(-30, 180) # demi-cercle\n    forward(30)      # descente\n    left(90)\n    up()\n    forward(30)      # avance vers la prochaine lettre\n\ndef o():\n    forward(30)      # avance vers milieu\n    down()\n    circle(30)\n    up()\n    forward(2*30)    # avance vers prochaine lettre\n\nn()\no()\nn()\n\ndone()\n"
  },
  {
   "cell_type": "markdown",
   "metadata": {},
   "source": "<h3 style=\"color:teal;background-color:azure;\" > <i class=\"fa fa-pencil\" aria-hidden=\"true\"> </i> &nbsp; Exercice 17</h3>\n\nDessinez et coloriez un jardin. Définissez des fonctions pour des pétales, feuilles et fleurs.\n\n*Indication: Inspirez vous de l'exercice 15.*"
  },
  {
   "cell_type": "code",
   "execution_count": null,
   "metadata": {
    "trusted": false
   },
   "outputs": [],
   "source": "from turtle import *\n# Prénom Nom, classe\n\ndot(1000, 'lightgreen')  # background\n\ndef petale():\n    ...\ndef feuille():\n    ...\ndef fleur():\n    dot(50, 'red')\n\nfeuille()\nforward(200)\nfleur()\n\ndone()"
  },
  {
   "cell_type": "markdown",
   "metadata": {},
   "source": "<h3 style=\"color:teal;background-color:azure;\" > <i class=\"fa fa-pencil\" aria-hidden=\"true\"> </i> &nbsp; Exercice 18 (meubles) </h3>\n\nDéfinissez 3 fonctions pour dessiner une chaise, une table et un lit.\nEnsuite placez plusieurs meubles dans l'espace\n\n"
  },
  {
   "cell_type": "code",
   "execution_count": null,
   "metadata": {
    "trusted": false
   },
   "outputs": [],
   "source": "from turtle import *\n\ndef chaise():\n   # à compléter...\n\ndef table():\n   # à compléter...\n\ndef lit():\n   # à compléter...\n\nchaise()\ntable()\nlit()\n\ndone()\n"
  },
  {
   "cell_type": "markdown",
   "metadata": {},
   "source": "<h3 style=\"color:teal;background-color:azure;\" > <i class=\"fa fa-pencil\" aria-hidden=\"true\"> </i> &nbsp; Exercice 19 </h3>\n\nUtiliser votre identifiant EEL et le mot de passe *Sismondi2025* pour faire les exercices de la **série D** de la plateforme [AlgoPython](https://www.algopython.fr/login). [![A mushroom-head robot](https://www.algopython.fr/css/img/navbar-logo.png 'AlgoPython')](https://www.algopython.fr/login)\n\n\n"
  },
  {
   "cell_type": "markdown",
   "metadata": {},
   "source": "---\n\n#### Remarque générale\n\nCe document est une adaptation d'un ressource pédagogique tiré du catalogue modulo https://modulo-info.ch/. Il est sous license Creative Commons [BY-NC-SA](https://creativecommons.org/licenses/?lang=fr)\n![Licence Creative Commons](https://i.creativecommons.org/l/by-nc-sa/4.0/88x31.png)\n"
  },
  {
   "cell_type": "code",
   "execution_count": null,
   "metadata": {
    "trusted": false
   },
   "outputs": [],
   "source": ""
  }
 ],
 "metadata": {
  "kernelspec": {
   "display_name": "Python 3 (ipykernel)",
   "language": "python",
   "name": "python3"
  }
 },
 "nbformat": 4,
 "nbformat_minor": 2
}
